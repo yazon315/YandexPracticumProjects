{
 "cells": [
  {
   "cell_type": "markdown",
   "metadata": {},
   "source": [
    "# Проект: Исследование данных о венчурных фондах и инвестициях в компании-стартапы"
   ]
  },
  {
   "cell_type": "markdown",
   "metadata": {},
   "source": [
    "**Задание:**\n",
    "\n",
    "Есть базой данных, которая хранит информацию о венчурных фондах и инвестициях в компании-стартапы. Эта база данных основана на датасете Startup Investments, опубликованном на платформе для соревнований по исследованию данных Kaggle.\n",
    "\n",
    "Нужно проанализировать данные о фондах и инвестициях и написать запросы к базе.\n",
    "\n",
    "В качестве описания базы данных имеется:\n",
    "- структура базы данных в виде ER-диаграммы;\n",
    "- описание таблиц, составляющих базу данных и их полей.\n",
    "\n",
    "ER-диаграмма\n",
    "\n",
    "![ER-диаграмма БД.png](./ER-диаграмма%20БД.png \"ER-диаграмма базы данных\")\n",
    "\n",
    "Описание полей таблиц\n",
    "\n",
    "Таблица *acquisition*  \n",
    "Содержит информацию о покупках одних компаний другими и включает следующие поля:\n",
    "- первичный ключ id — идентификатор или уникальный номер покупки;\n",
    "- внешний ключ acquiring_company_id — ссылается на таблицу company — идентификатор компании-покупателя, то есть той, что покупает другую компанию;\n",
    "- внешний ключ acquired_company_id — ссылается на таблицу company — идентификатор компании, которую покупают;\n",
    "- term_code — способ оплаты сделки:\n",
    "  - cash — наличными;\n",
    "  - stock — акциями компании;\n",
    "  - cash_and_stock — смешанный тип оплаты: наличные и акции;\n",
    "- price_amount — сумма покупки в долларах;\n",
    "- acquired_at — дата совершения сделки;\n",
    "- created_at — дата и время создания записи в таблице;\n",
    "- updated_at — дата и время обновления записи в таблице.\n",
    "\n",
    "Таблица *company*  \n",
    "Содержит информацию о компаниях-стартапах.\n",
    "- первичный ключ id — идентификатор, или уникальный номер компании;\n",
    "- name — название компании;\n",
    "- category_code — категория деятельности компании, например:\n",
    "  - news — специализируется на работе с новостями;\n",
    "  - social — специализируется на социальной работе;\n",
    "- status — статус компании:\n",
    "  - acquired — приобретена;\n",
    "  - operating — действует;\n",
    "  - ipo — вышла на IPO;\n",
    "  - closed — перестала существовать;\n",
    "- founded_at — дата основания компании;\n",
    "- closed_at — дата закрытия компании, которую указывают в том случае, если компании больше не существует;\n",
    "- domain — домен сайта компании;\n",
    "- twitter_username — название профиля компании в твиттере;\n",
    "- country_code — код страны, например, USA для США, GBR для Великобритании;\n",
    "- investment_rounds — число раундов, в которых компания участвовала как инвестор;\n",
    "- funding_rounds — число раундов, в которых компания привлекала инвестиции;\n",
    "- funding_total — сумма привлечённых инвестиций в долларах;\n",
    "- milestones — количество важных этапов в истории компании;\n",
    "- created_at — дата и время создания записи в таблице;\n",
    "- updated_at — дата и время обновления записи в таблице.\n",
    "\n",
    "Таблица *education*  \n",
    "Хранит информацию об уровне образования сотрудников компаний.\n",
    "-  первичный ключ id — уникальный номер записи с информацией об образовании;\n",
    "- внешний ключ person_id — ссылается на таблицу people — идентификатор человека, информация о котором представлена в записи;\n",
    "- degree_type — учебная степень, например:\n",
    "  - BA — Bachelor of Arts — бакалавр гуманитарных наук;\n",
    "  - MS — Master of Science — магистр естественных наук;\n",
    "- instituition — учебное заведение, название университета;\n",
    "- graduated_at — дата завершения обучения, выпуска;\n",
    "- created_at — дата и время создания записи в таблице;\n",
    "- updated_at — дата и время обновления записи в таблице.\n",
    "\n",
    "Таблица *fund*  \n",
    "Хранит информацию о венчурных фондах. \n",
    "- первичный ключ id — уникальный номер венчурного фонда;\n",
    "- name — название венчурного фонда;\n",
    "- founded_at — дата основания фонда;\n",
    "- domain — домен сайта фонда;\n",
    "- twitter_username — профиль фонда в твиттере;\n",
    "- country_code — код страны фонда;\n",
    "- investment_rounds — число инвестиционных раундов, в которых фонд принимал участие;\n",
    "- invested_companies — число компаний, в которые инвестировал фонд;\n",
    "- milestones — количество важных этапов в истории фонда;\n",
    "- created_at — дата и время создания записи в таблице;\n",
    "- updated_at — дата и время обновления записи в таблице.\n",
    "\n",
    "Таблица *funding_round*  \n",
    "Содержит информацию о раундах инвестиций. \n",
    "- первичный ключ id — уникальный номер инвестиционного раунда;\n",
    "- внешний ключ company_id — ссылается на таблицу company — уникальный номер компании, участвовавшей в инвестиционном раунде;\n",
    "- funded_at — дата проведения раунда;\n",
    "- funding_round_type — тип инвестиционного раунда, например:\n",
    "  - venture — венчурный раунд;\n",
    "  - angel — ангельский раунд;\n",
    "  - series_a — раунд А;\n",
    "- raised_amount — сумма инвестиций, которую привлекла компания в этом раунде в долларах;\n",
    "- pre_money_valuation — предварительная, проведённая до инвестиций оценка стоимости компании в долларах;\n",
    "- participants — количество участников инвестиционного раунда;\n",
    "- is_first_round — является ли этот раунд первым для компании;\n",
    "- is_last_round — является ли этот раунд последним для компании;\n",
    "- created_at — дата и время создания записи в таблице;\n",
    "- updated_at — дата и время обновления записи в таблице.\n",
    "\n",
    "Таблица *investment*  \n",
    "Содержит информацию об инвестициях венчурных фондов в компании-стартапы.\n",
    "- первичный ключ id — уникальный номер инвестиции;\n",
    "- внешний ключ funding_round_id — ссылается на таблицу funding_round — уникальный номер раунда инвестиции;\n",
    "- внешний ключ company_id — ссылается на таблицу company — уникальный номер компании-стартапа, в которую инвестируют;\n",
    "- внешний ключ fund_id — ссылается на таблицу fund — уникальный номер фонда, инвестирующего в компанию-стартап;\n",
    "- created_at — дата и время создания записи в таблице;\n",
    "- updated_at — дата и время обновления записи в таблице.\n",
    "\n",
    "Таблица *people*  \n",
    "Содержит информацию о сотрудниках компаний-стартапов.\n",
    "- первичный ключ id — уникальный номер сотрудника;\n",
    "- first_name — имя сотрудника;\n",
    "- last_name — фамилия сотрудника;\n",
    "- внешний ключ company_id — ссылается на таблицу company — уникальный номер компании-стартапа;\n",
    "- twitter_username — профиль сотрудника в твиттере;\n",
    "- created_at — дата и время создания записи в таблице;\n",
    "- updated_at — дата и время обновления записи в таблице.\n",
    "\n",
    "\n",
    "> Проект реализован в виде заданий, выполненных на платформе Яндекс Практикум."
   ]
  },
  {
   "cell_type": "markdown",
   "metadata": {},
   "source": [
    "### Задание 1. Определите, сколько компаний закрылось.\n",
    "\n",
    "*SQL-запрос:*\n",
    "\n",
    "```SQL\n",
    "SELECT COUNT(id)\n",
    "FROM company\n",
    "WHERE status = 'closed';\n",
    "```\n",
    "\n",
    "*Результат:*\n",
    "\n",
    "```\n",
    "count\n",
    "2584\n",
    "```"
   ]
  },
  {
   "cell_type": "markdown",
   "metadata": {},
   "source": [
    "### Задание 2. Отобразите количество привлечённых средств для новостных компаний США.\n",
    "\n",
    "Используйте данные из таблицы `company`. Отсортируйте таблицу по убыванию значений в поле `funding_total`.\n",
    "\n",
    "*SQL-запрос:*\n",
    "\n",
    "```SQL\n",
    "SELECT funding_total\n",
    "FROM company\n",
    "WHERE category_code = 'news'\n",
    "  AND country_code = 'USA'\n",
    "ORDER BY funding_total DESC;\n",
    "```\n",
    "\n",
    "*Результат:*\n",
    "\n",
    "```\n",
    "funding_total\n",
    "6.22553e+08\n",
    "2.5e+08\n",
    "1.605e+08\n",
    "1.28e+08\n",
    "1.265e+08\n",
    "...\n",
    "0\n",
    "```"
   ]
  },
  {
   "cell_type": "markdown",
   "metadata": {},
   "source": [
    "### Задание 3. Найдите общую сумму сделок по покупке одних компаний другими в долларах.\n",
    "\n",
    "Отберите сделки, которые осуществлялись только за наличные с 2011 по 2013 год включительно.\n",
    "\n",
    "*SQL-запрос:*\n",
    "\n",
    "```SQL\n",
    "SELECT SUM(price_amount)\n",
    "FROM acquisition\n",
    "WHERE term_code = 'cash'\n",
    "  AND EXTRACT(YEAR FROM acquired_at) IN (2011, 2012, 2013);\n",
    "```\n",
    "\n",
    "*Результат:*\n",
    "\n",
    "```\n",
    "sum\n",
    "1.37762e+11\n",
    "```"
   ]
  },
  {
   "cell_type": "markdown",
   "metadata": {},
   "source": [
    "### Задание 4. Отобразите имя, фамилию и названия аккаунтов людей в твиттере, у которых названия аккаунтов начинаются на 'Silver'.\n",
    "\n",
    "*SQL-запрос:*\n",
    "\n",
    "```SQL\n",
    "SELECT first_name, last_name, twitter_username\n",
    "FROM people\n",
    "WHERE twitter_username LIKE 'Silver%';\n",
    "```\n",
    "\n",
    "*Результат:*\n",
    "\n",
    "```\n",
    "first_name  last_name   twitter_username\n",
    "Rebecca     Silver      SilverRebecca\n",
    "Silver      Teede       SilverMatrixx\n",
    "Mattias     Guilotte    Silverreven\n",
    "```"
   ]
  },
  {
   "cell_type": "markdown",
   "metadata": {},
   "source": [
    "### Задание 5. Выведите на экран всю информацию о людях, у которых названия аккаунтов в твиттере содержат подстроку 'money', а фамилия начинается на 'K'.\n",
    "\n",
    "*SQL-запрос:*\n",
    "\n",
    "```SQL\n",
    "SELECT *\n",
    "FROM people\n",
    "WHERE twitter_username LIKE '%money%'\n",
    "  AND last_name LIKE'K%';\n",
    "```\n",
    "\n",
    "*Результат:*\n",
    "\n",
    "```\n",
    "id    first_name  last_name company_id  twitter_username  created_at            updated_at\n",
    "63081 Gregory     Kim                   gmoney75          2010-07-13 03:46:28   2011-12-12 22:01:34\n",
    "```"
   ]
  },
  {
   "cell_type": "markdown",
   "metadata": {},
   "source": [
    "### Задание 6. Для каждой страны отобразите общую сумму привлечённых инвестиций, которые получили компании, зарегистрированные в этой стране.\n",
    "\n",
    "Страну, в которой зарегистрирована компания, можно определить по коду страны. Отсортируйте данные по убыванию суммы.\n",
    "\n",
    "*SQL-запрос:*\n",
    "\n",
    "```SQL\n",
    "SELECT country_code, SUM(funding_total)\n",
    "FROM company\n",
    "GROUP BY country_code\n",
    "ORDER BY SUM(funding_total) DESC;\n",
    "```\n",
    "\n",
    "*Результат:*\n",
    "\n",
    "```\n",
    "country_code    sum\n",
    "USA             3.10588e+11\n",
    "GBR             1.77056e+10\n",
    "                1.08559e+10\n",
    "CHN             1.06897e+10\n",
    "CAN             9.86636e+09\n",
    "...\n",
    "YEM             0\n",
    "```"
   ]
  },
  {
   "cell_type": "markdown",
   "metadata": {},
   "source": [
    "### Задание 7. Составьте таблицу, в которую войдёт дата проведения раунда, а также минимальное и максимальное значения суммы инвестиций, привлечённых в эту дату.\n",
    "\n",
    "Оставьте в итоговой таблице только те записи, в которых минимальное значение суммы инвестиций не равно нулю и не равно максимальному значению.\n",
    "\n",
    "*SQL-запрос:*\n",
    "\n",
    "```SQL\n",
    "SELECT funded_at,\n",
    "       MIN(raised_amount) AS min_invest,\n",
    "       MAX(raised_amount) AS max_invest\n",
    "FROM funding_round\n",
    "GROUP BY funded_at\n",
    "HAVING MIN(raised_amount) <> 0\n",
    "   AND MIN(raised_amount) <> MAX(raised_amount);\n",
    "```\n",
    "\n",
    "*Результат:*\n",
    "\n",
    "```\n",
    "funded_at   min_invest      max_invest\n",
    "2012-08-22  40000           7.5e+07\n",
    "2010-07-25  3.27825e+06     9e+06\n",
    "2002-03-01  2.84418e+06     8.95915e+06\n",
    "2010-10-11  28000           2e+08\n",
    "2007-01-18  5.5e+06         2.3e+07\n",
    "...\n",
    "2010-08-06  291             1.45e+07\n",
    "```"
   ]
  },
  {
   "cell_type": "markdown",
   "metadata": {},
   "source": [
    "### Задание 8. Создайте поле с категориями:\n",
    "\n",
    "- Для фондов, которые инвестируют в 100 и более компаний, назначьте категорию `high_activity`.\n",
    "- Для фондов, которые инвестируют в 20 и более компаний до 100, назначьте категорию `middle_activity`.\n",
    "- Если количество инвестируемых компаний фонда не достигает 20, назначьте категорию `low_activity`.\n",
    "\n",
    "Отобразите все поля таблицы `fund` и новое поле с категориями.\n",
    "\n",
    "*SQL-запрос:*\n",
    "\n",
    "```SQL\n",
    "SELECT *,\n",
    "       CASE\n",
    "           WHEN invested_companies < 20 THEN 'low_activity'\n",
    "           WHEN invested_companies >= 100 THEN 'high_activity'\n",
    "           ELSE 'middle_activity'\n",
    "       END\n",
    "FROM fund;\n",
    "```\n",
    "\n",
    "*Результат:*\n",
    "\n",
    "id | name | founded_at | domain | twitter_username | country_code | investment_rounds | invested_companies | milestones | created_at | updated_at | case\n",
    "---|------|------------|--------|------------------|--------------|-------------------|--------------------|------------|------------|------------|---\n",
    "13131 | | | | | | 0 | 0 | 0 | 2013-08-19 18:46:55 | 2013-08-19 | 19:55:07 | low_activity\n",
    "1 | Greylock Partners | 1965-01-01 | greylock.com | greylockvc | USA | 307 | 196 | 0 | 2007-05-25 20:18:23 | 2012-12-27 00:42:24 | high_activity\n",
    "10 | Mission Ventures | 1996-01-01 | missionventures.com |  | USA | 58 | 33 | 0 | 2007-06-05 05:24:58 | 2013-10-10 22:06:31 | middle_activity\n",
    "100 | Kapor Enterprises, Inc. |  | kei.com |  | USA | 2 | 1 | 0 | 2007-07-12 09:42:21 | 2008-11-21 05:41:53 | low_activity\n",
    "1000 | Speed Ventures |  |  |  |  | 0 | 0 | 1 | 2008-04-13 23:52:27 | 2008-12-10 09:37:18 | low_activity\n",
    "... | ... | ... | ... | ... | ... | ... | ... | ... | ... | ... | ...\n",
    "1022 | Breakaway Ventures | 2006-01-01 | breakawayventures.com | bighugeboston | USA | 5 | 3 | 0 | 2008-04-25 09:32:01 | 2013-05-07 11:09:51 | low_activity"
   ]
  },
  {
   "cell_type": "markdown",
   "metadata": {},
   "source": [
    "### Задание 9. Для каждой из категорий, назначенных в предыдущем задании, посчитайте округлённое до ближайшего целого числа среднее количество инвестиционных раундов, в которых фонд принимал участие.\n",
    "\n",
    "Выведите на экран категории и среднее число инвестиционных раундов. Отсортируйте таблицу по возрастанию среднего.\n",
    "\n",
    "*SQL-запрос:*\n",
    "\n",
    "```SQL\n",
    "SELECT CASE\n",
    "           WHEN invested_companies>=100 THEN 'high_activity'\n",
    "           WHEN invested_companies>=20 THEN 'middle_activity'\n",
    "           ELSE 'low_activity'\n",
    "       END AS activity,\n",
    "       ROUND(AVG(investment_rounds)) AS avg_inv_rounds\n",
    "FROM fund\n",
    "GROUP BY activity\n",
    "ORDER BY avg_inv_rounds;\n",
    "```\n",
    "\n",
    "*Результат:*\n",
    "\n",
    "```\n",
    "activity            avg_inv_rounds\n",
    "low_activity        2\n",
    "middle_activity     51\n",
    "high_activity       252\n",
    "```"
   ]
  },
  {
   "cell_type": "markdown",
   "metadata": {},
   "source": [
    "### Задание 10. Проанализируйте, в каких странах находятся фонды, которые чаще всего инвестируют в стартапы.\n",
    "\n",
    "Для каждой страны посчитайте минимальное, максимальное и среднее число компаний, в которые инвестировали фонды этой страны, основанные с 2010 по 2012 год включительно. Исключите страны с фондами, у которых минимальное число компаний, получивших инвестиции, равно нулю.  \n",
    "Выгрузите десять самых активных стран-инвесторов: отсортируйте таблицу по среднему количеству компаний от большего к меньшему. Затем добавьте сортировку по коду страны в лексикографическом порядке.\n",
    "\n",
    "*SQL-запрос:*\n",
    "\n",
    "```SQL\n",
    "SELECT country_code,\n",
    "       MIN(invested_companies),\n",
    "       MAX(invested_companies),\n",
    "       AVG(invested_companies) AS avg\n",
    "FROM fund\n",
    "WHERE EXTRACT(YEAR FROM founded_at) IN (2010, 2011, 2012)\n",
    "GROUP BY country_code\n",
    "HAVING MIN(invested_companies) <> 0\n",
    "ORDER BY avg DESC, country_code\n",
    "LIMIT 10;\n",
    "```\n",
    "\n",
    "*Результат:*\n",
    "\n",
    "```\n",
    "country_code    min max avg\n",
    "BGR             25  35  30\n",
    "CHL             29  29  29\n",
    "UKR             8   10  9\n",
    "LTU             5   5   5\n",
    "IRL             4   5   4.5\n",
    "KEN             3   3   3\n",
    "LBN             3   3   3\n",
    "MUS             3   3   3\n",
    "JPN             1   6   2.83333\n",
    "```"
   ]
  },
  {
   "cell_type": "markdown",
   "metadata": {},
   "source": [
    "### Задание 11. Отобразите имя и фамилию всех сотрудников стартапов.\n",
    "\n",
    "Добавьте поле с названием учебного заведения, которое окончил сотрудник, если эта информация известна.\n",
    "\n",
    "*SQL-запрос:*\n",
    "\n",
    "```SQL\n",
    "SELECT pl.first_name,\n",
    "       pl.last_name,\n",
    "       ed.instituition\n",
    "FROM people AS pl\n",
    "LEFT JOIN education AS ed ON pl.id=ed.person_id;\n",
    "```\n",
    "\n",
    "*Результат:*\n",
    "\n",
    "```\n",
    "first_name  last_name       instituition\n",
    "John        Green           Washington University, St. Louis\n",
    "John        Green           Boston University\n",
    "David       Peters          Rice University\n",
    "Dan         Birdwhistell    University of Cambridge\n",
    "Gal         Cohen           Tel Aviv University\n",
    "...\n",
    "Iqram       Magdon-Ismail   U Penn\n",
    "```"
   ]
  },
  {
   "cell_type": "markdown",
   "metadata": {},
   "source": [
    "### Задание 12. Для каждой компании найдите количество учебных заведений, которые окончили её сотрудники.\n",
    "\n",
    "Выведите название компании и число уникальных названий учебных заведений. Составьте топ-5 компаний по количеству университетов.\n",
    "\n",
    "*SQL-запрос:*\n",
    "\n",
    "```SQL\n",
    "SELECT name,\n",
    "       COUNT (DISTINCT ed.instituition) AS count\n",
    "FROM company AS co\n",
    "LEFT JOIN people AS pl ON co.id=pl.company_id\n",
    "JOIN education AS ed ON pl.id=ed.person_id\n",
    "GROUP BY name\n",
    "ORDER BY count DESC\n",
    "LIMIT 5;\n",
    "```\n",
    "\n",
    "*Результат:*\n",
    "\n",
    "```\n",
    "name                count\n",
    "Google              167\n",
    "Yahoo!              115\n",
    "Microsoft           111\n",
    "Knight Foundation   74\n",
    "Comcast             66\n",
    "\n",
    "```"
   ]
  },
  {
   "cell_type": "markdown",
   "metadata": {},
   "source": [
    "### Задание 13. Составьте список с уникальными названиями закрытых компаний, для которых первый раунд финансирования оказался последним.\n",
    "\n",
    "*SQL-запрос:*\n",
    "\n",
    "```SQL\n",
    "SELECT DISTINCT name\n",
    "FROM company\n",
    "WHERE status = 'closed'\n",
    "AND id IN(SELECT company_id\n",
    "          FROM funding_round\n",
    "          WHERE is_first_round=1\n",
    "            AND is_last_round=1);\n",
    "```\n",
    "\n",
    "*Результат:*\n",
    "\n",
    "```\n",
    "name\n",
    "10BestThings\n",
    "11i Solutions\n",
    "169 ST.\n",
    "1bib\n",
    "1Cast\n",
    "...\n",
    "Carbonetworks\n",
    "```"
   ]
  },
  {
   "cell_type": "markdown",
   "metadata": {},
   "source": [
    "### Задание 14. Составьте список уникальных номеров сотрудников, которые работают в компаниях, отобранных в предыдущем задании.\n",
    "\n",
    "*SQL-запрос:*\n",
    "\n",
    "```SQL\n",
    "SELECT DISTINCT pl.id\n",
    "FROM people AS pl\n",
    "JOIN company AS co ON pl.company_id=co.id\n",
    "WHERE co.name IN(SELECT DISTINCT name\n",
    "                 FROM company\n",
    "                 WHERE status = 'closed'\n",
    "                 AND id IN(SELECT company_id\n",
    "                           FROM funding_round\n",
    "                           WHERE is_first_round=1\n",
    "                             AND is_last_round=1));\n",
    "```\n",
    "\n",
    "*Результат:*\n",
    "\n",
    "```\n",
    "id\n",
    "62\n",
    "97\n",
    "98\n",
    "225\n",
    "226\n",
    "...\n",
    "12672\n",
    "```"
   ]
  },
  {
   "cell_type": "markdown",
   "metadata": {},
   "source": [
    "### Задание 15. Составьте таблицу, куда войдут уникальные пары с номерами сотрудников из предыдущей задачи и учебным заведением, которое окончил сотрудник.\n",
    "\n",
    "*SQL-запрос:*\n",
    "\n",
    "```SQL\n",
    "SELECT DISTINCT person_id, instituition\n",
    "FROM education\n",
    "WHERE person_id IN(SELECT DISTINCT pl.id\n",
    "                   FROM people AS pl\n",
    "                   JOIN company AS co ON pl.company_id=co.id\n",
    "                   WHERE co.name IN(SELECT DISTINCT name\n",
    "                                    FROM company\n",
    "                                    WHERE status = 'closed'\n",
    "                                    AND id IN(SELECT company_id\n",
    "                                              FROM funding_round\n",
    "                                              WHERE is_first_round=1\n",
    "                                                AND is_last_round=1)));\n",
    "```\n",
    "\n",
    "*Результат:*\n",
    "\n",
    "```\n",
    "person_id   instituition\n",
    "349         AKI\n",
    "349         ArtEZ Hogeschool voor de Kunsten\n",
    "349         Rijks Akademie\n",
    "699         Imperial College\n",
    "779         Harvard University\n",
    "...\n",
    "67273       Lehigh University\n",
    "```"
   ]
  },
  {
   "cell_type": "markdown",
   "metadata": {},
   "source": [
    "### Задание 16. Посчитайте количество учебных заведений для каждого сотрудника из предыдущего задания.\n",
    "\n",
    "При подсчёте учитывайте, что некоторые сотрудники могли окончить одно и то же заведение дважды.\n",
    "\n",
    "*SQL-запрос:*\n",
    "\n",
    "```SQL\n",
    "SELECT person_id,\n",
    "       COUNT(instituition)\n",
    "FROM education\n",
    "WHERE person_id IN(SELECT DISTINCT pl.id\n",
    "                   FROM people AS pl\n",
    "                   JOIN company AS co ON pl.company_id=co.id\n",
    "                   WHERE co.name IN(SELECT DISTINCT name\n",
    "                                    FROM company\n",
    "                                    WHERE status = 'closed'\n",
    "                                    AND id IN(SELECT company_id\n",
    "                                              FROM funding_round\n",
    "                                              WHERE is_first_round=1\n",
    "                                                AND is_last_round=1)))\n",
    "GROUP BY person_id;\n",
    "```\n",
    "\n",
    "*Результат:*\n",
    "\n",
    "```\n",
    "person_id   count\n",
    "349         3\n",
    "699         1\n",
    "779         2\n",
    "968         1\n",
    "972         1\n",
    "...\n",
    "137265      1\n",
    "```"
   ]
  },
  {
   "cell_type": "markdown",
   "metadata": {},
   "source": [
    "### Задание 17. Дополните предыдущий запрос и выведите среднее число учебных заведений (всех, не только уникальных), которые окончили сотрудники разных компаний.\n",
    "\n",
    "Нужно вывести только одну запись, группировка здесь не понадобится.\n",
    "\n",
    "*SQL-запрос:*\n",
    "\n",
    "```SQL\n",
    "SELECT AVG(count)\n",
    "FROM (SELECT person_id,\n",
    "             COUNT(instituition)\n",
    "      FROM education\n",
    "      WHERE person_id IN(SELECT DISTINCT pl.id\n",
    "                         FROM people AS pl\n",
    "                         JOIN company AS co ON pl.company_id=co.id\n",
    "                         WHERE co.name IN(SELECT DISTINCT name\n",
    "                                          FROM company\n",
    "                                          WHERE status = 'closed'\n",
    "                                          AND id IN(SELECT company_id\n",
    "                                                    FROM funding_round\n",
    "                                                    WHERE is_first_round=1\n",
    "                                                      AND is_last_round=1)))\n",
    "      GROUP BY person_id) AS temp;\n",
    "```\n",
    "\n",
    "*Результат:*\n",
    "\n",
    "```\n",
    "avg\n",
    "1.41509\n",
    "```"
   ]
  },
  {
   "cell_type": "markdown",
   "metadata": {},
   "source": [
    "### Задание 18. Напишите похожий запрос: выведите среднее число учебных заведений (всех, не только уникальных), которые окончили сотрудники Facebook*.\n",
    "\n",
    "*(сервис, запрещённый на территории РФ)\n",
    "\n",
    "*SQL-запрос:*\n",
    "\n",
    "```SQL\n",
    "SELECT AVG(count)\n",
    "FROM (SELECT person_id,\n",
    "             COUNT(instituition)\n",
    "      FROM education\n",
    "      WHERE person_id IN(SELECT DISTINCT pl.id\n",
    "                         FROM people AS pl\n",
    "                         JOIN company AS co ON pl.company_id=co.id\n",
    "                         WHERE co.name='Facebook')\n",
    "      GROUP BY person_id) AS temp;\n",
    "```\n",
    "\n",
    "*Результат:*\n",
    "\n",
    "```\n",
    "avg\n",
    "1.51111\n",
    "```"
   ]
  },
  {
   "cell_type": "markdown",
   "metadata": {},
   "source": [
    "### Задание 19. Составьте таблицу из полей:\n",
    "\n",
    "- `name_of_fund` — название фонда;\n",
    "- `name_of_company` — название компании;\n",
    "- `amount` — сумма инвестиций, которую привлекла компания в раунде.\n",
    "\n",
    "В таблицу войдут данные о компаниях, в истории которых было больше шести важных этапов, а раунды финансирования проходили с 2012 по 2013 год включительно.\n",
    "\n",
    "*SQL-запрос:*\n",
    "\n",
    "```SQL\n",
    "SELECT f.name AS fond_name,\n",
    "       co.name AS company_name,\n",
    "       fr.raised_amount\n",
    "FROM investment AS inv\n",
    "JOIN fund AS f ON inv.fund_id=f.id\n",
    "JOIN company AS co ON inv.company_id=co.id\n",
    "JOIN funding_round AS fr ON inv.funding_round_id=fr.id\n",
    "WHERE co.milestones > 6\n",
    "  AND EXTRACT(YEAR FROM funded_at) IN (2012, 2013);\n",
    "```\n",
    "\n",
    "*Результат:*\n",
    "\n",
    "```\n",
    "fond_name             company_name    raised_amount\n",
    "SAP Ventures          OpenX           2.50112e+07\n",
    "Samsung Ventures      OpenX           2.50112e+07\n",
    "Index Ventures        OpenX           2.50112e+07\n",
    "Presidio Ventures     OpenX           2.50112e+07\n",
    "DAG Ventures          Gigya           2.5e+07\n",
    "...\n",
    "Advance Publication   Gigya           1.53e+07\n",
    "```"
   ]
  },
  {
   "cell_type": "markdown",
   "metadata": {},
   "source": [
    "### Задание 20. Выгрузите таблицу, в которой будут такие поля:\n",
    "\n",
    "- название компании-покупателя;\n",
    "- сумма сделки;\n",
    "- название компании, которую купили;\n",
    "- сумма инвестиций, вложенных в купленную компанию;\n",
    "- доля, которая отображает, во сколько раз сумма покупки превысила сумму вложенных в компанию инвестиций, округлённая до ближайшего целого числа.\n",
    "\n",
    "Не учитывайте те сделки, в которых сумма покупки равна нулю. Если сумма инвестиций в компанию равна нулю, исключите такую компанию из таблицы.  \n",
    "Отсортируйте таблицу по сумме сделки от большей к меньшей, а затем по названию купленной компании в лексикографическом порядке. Ограничьте таблицу первыми десятью записями.\n",
    "\n",
    "*SQL-запрос:*\n",
    "\n",
    "```SQL\n",
    "SELECT c1.name AS company_acquiring,\n",
    "       ac.price_amount,\n",
    "       c2.name AS company_acquired,\n",
    "       c2.funding_total,\n",
    "       ROUND(ac.price_amount / c2.funding_total)\n",
    "FROM acquisition AS ac\n",
    "JOIN company AS c1 ON ac.acquiring_company_id=c1.id\n",
    "JOIN company AS c2 ON ac.acquired_company_id=c2.id\n",
    "WHERE ac.price_amount <> 0\n",
    "  AND c2.funding_total <> 0\n",
    "ORDER BY ac.price_amount DESC\n",
    "LIMIT 10;\n",
    "```\n",
    "\n",
    "*Результат:*\n",
    "\n",
    "```\n",
    "company_acquiring       price_amount    company_acquired                            funding_total   round\n",
    "Microsoft               8.5e+09         Skype                                       7.6805e+07      111\n",
    "Scout Labs              4.9e+09         Varian Semiconductor Equipment Associates   4.8e+06         1021\n",
    "Broadcom                3.7e+09         Aeluros                                     7.97e+06        464\n",
    "Broadcom                3.7e+09         NetLogic Microsystems                       1.88527e+08     20\n",
    "Level 3 Communications  3e+09           Global Crossing                             4.1e+07         73\n",
    "...\n",
    "IAC                     1.85e+09        Ask.com                                     2.5e+07         74\n",
    "```"
   ]
  },
  {
   "cell_type": "markdown",
   "metadata": {},
   "source": [
    "### Задание 21. Выгрузите таблицу, в которую войдут названия компаний из категории social, получившие финансирование с 2010 по 2013 год включительно.\n",
    "\n",
    "Проверьте, что сумма инвестиций не равна нулю. Выведите также номер месяца, в котором проходил раунд финансирования.\n",
    "\n",
    "*SQL-запрос:*\n",
    "\n",
    "```SQL\n",
    "SELECT co.name,\n",
    "       EXTRACT(MONTH FROM fr.funded_at)\n",
    "FROM company AS co\n",
    "JOIN funding_round AS fr ON co.id=fr.company_id\n",
    "WHERE co.category_code = 'social'\n",
    "  AND fr.raised_amount <> 0\n",
    "  AND EXTRACT(YEAR FROM fr.funded_at) IN (2010, 2011, 2012, 2013);\n",
    "```\n",
    "\n",
    "*Результат:*\n",
    "\n",
    "```\n",
    "name              date_part\n",
    "Klout             1\n",
    "WorkSimple        3\n",
    "HengZhi           1\n",
    "Twitter           1\n",
    "SocialGO          1\n",
    "...\n",
    "Startup Weekend   9\n",
    "```"
   ]
  },
  {
   "cell_type": "markdown",
   "metadata": {},
   "source": [
    "### Задание 22. Отберите данные по месяцам с 2010 по 2013 год, когда проходили инвестиционные раунды.\n",
    "\n",
    "Сгруппируйте данные по номеру месяца и получите таблицу, в которой будут поля:\n",
    "- номер месяца, в котором проходили раунды;\n",
    "- количество уникальных названий фондов из США, которые инвестировали в этом месяце;\n",
    "- количество компаний, купленных за этот месяц;\n",
    "- общая сумма сделок по покупкам в этом месяце.\n",
    "\n",
    "*SQL-запрос:*\n",
    "\n",
    "```SQL\n",
    "WITH \n",
    "temp1 AS(\n",
    "SELECT EXTRACT(MONTH FROM fr.funded_at) AS month,\n",
    "       COUNT(DISTINCT f.name) AS fund_count\n",
    "FROM funding_round AS fr\n",
    "JOIN investment AS inv ON fr.id=inv.funding_round_id\n",
    "JOIN fund AS f ON inv.fund_id=f.id\n",
    "WHERE EXTRACT(YEAR FROM fr.funded_at) BETWEEN 2010 AND 2013\n",
    "  AND f.country_code = 'USA'\n",
    "GROUP BY EXTRACT(MONTH FROM fr.funded_at)),\n",
    "\n",
    "temp2 AS(\n",
    "SELECT EXTRACT(MONTH FROM acquired_at) AS month,\n",
    "       COUNT(acquired_company_id) AS company_count,\n",
    "       SUM(price_amount) AS sum\n",
    "FROM acquisition\n",
    "WHERE EXTRACT(YEAR FROM acquired_at) BETWEEN 2010 AND 2013\n",
    "GROUP BY EXTRACT(MONTH FROM acquired_at)\n",
    "ORDER BY month)\n",
    "\n",
    "SELECT temp1.month,\n",
    "       temp1.fund_count,\n",
    "       temp2.company_count,\n",
    "       temp2.sum\n",
    "FROM temp1 JOIN temp2 ON temp1.month=temp2.month;\n",
    "```\n",
    "\n",
    "*Результат:*\n",
    "\n",
    "```\n",
    "month   fund_count  company_count   sum\n",
    "1       815         600             2.71083e+10\n",
    "2       637         418             4.13903e+10\n",
    "3       695         458             5.95016e+10\n",
    "4       718         411             3.03837e+10\n",
    "5       695         532             8.60122e+10\n",
    "...\n",
    "12      590         433             3.74251e+10\n",
    "```"
   ]
  },
  {
   "cell_type": "markdown",
   "metadata": {},
   "source": [
    "### Задание 23. Составьте сводную таблицу и выведите среднюю сумму инвестиций для стран, в которых есть стартапы, зарегистрированные в 2011, 2012 и 2013 годах.\n",
    "\n",
    "Данные за каждый год должны быть в отдельном поле. Отсортируйте таблицу по среднему значению инвестиций за 2011 год от большего к меньшему.\n",
    "\n",
    "*SQL-запрос:*\n",
    "\n",
    "```SQL\n",
    "WITH t2011 AS(\n",
    "SELECT country_code AS country,\n",
    "       AVG(funding_total) AS i2011\n",
    "FROM company\n",
    "WHERE EXTRACT(YEAR FROM founded_at) = 2011\n",
    "GROUP BY country_code),\n",
    "\n",
    "t2012 AS(\n",
    "SELECT country_code AS country,\n",
    "       AVG(funding_total) AS i2012\n",
    "FROM company\n",
    "WHERE EXTRACT(YEAR FROM founded_at) = 2012\n",
    "GROUP BY country_code),\n",
    "\n",
    "t2013 AS(\n",
    "SELECT country_code AS country,\n",
    "       AVG(funding_total) AS i2013\n",
    "FROM company\n",
    "WHERE EXTRACT(YEAR FROM founded_at) = 2013\n",
    "GROUP BY country_code)\n",
    "\n",
    "SELECT *\n",
    "FROM t2011\n",
    "JOIN t2012 USING(country)\n",
    "JOIN t2013 USING(country)\n",
    "ORDER BY t2011.i2011 DESC;\n",
    "```\n",
    "\n",
    "*Результат:*\n",
    "\n",
    "```\n",
    "country i2011           i2012           i2013\n",
    "PER     4e+06           41000           25000\n",
    "USA     2.24396e+06     1.20671e+06     1.09336e+06\n",
    "HKG     2.18078e+06     226227          0\n",
    "PHL     1.75e+06        4218.75         2500\n",
    "ARE     1.718e+06       197222          35333.3\n",
    "...\n",
    "LKA     0               0               0\n",
    "```"
   ]
  }
 ],
 "metadata": {
  "ExecuteTimeLog": [
   {
    "duration": 1727,
    "start_time": "2023-04-25T12:54:58.557Z"
   },
   {
    "duration": 1214,
    "start_time": "2023-04-25T12:55:23.955Z"
   },
   {
    "duration": 554,
    "start_time": "2023-04-25T12:55:29.505Z"
   },
   {
    "duration": 885,
    "start_time": "2023-04-25T12:58:26.000Z"
   },
   {
    "duration": 410,
    "start_time": "2023-04-25T12:58:28.405Z"
   },
   {
    "duration": 379,
    "start_time": "2023-04-25T12:59:14.614Z"
   },
   {
    "duration": 591,
    "start_time": "2023-04-25T13:07:59.780Z"
   },
   {
    "duration": 504,
    "start_time": "2023-04-25T13:08:59.941Z"
   },
   {
    "duration": 526,
    "start_time": "2023-04-25T13:12:59.584Z"
   },
   {
    "duration": 617,
    "start_time": "2023-04-25T13:13:07.101Z"
   },
   {
    "duration": 6,
    "start_time": "2023-04-25T13:13:32.058Z"
   },
   {
    "duration": 5,
    "start_time": "2023-04-25T13:13:41.121Z"
   },
   {
    "duration": 6,
    "start_time": "2023-04-25T13:13:56.629Z"
   },
   {
    "duration": 6,
    "start_time": "2023-04-25T13:14:53.849Z"
   },
   {
    "duration": 9,
    "start_time": "2023-04-25T13:15:17.405Z"
   },
   {
    "duration": 519,
    "start_time": "2023-04-25T13:17:59.737Z"
   },
   {
    "duration": 593,
    "start_time": "2023-04-25T13:20:10.342Z"
   },
   {
    "duration": 317,
    "start_time": "2023-04-25T13:21:03.584Z"
   },
   {
    "duration": 157,
    "start_time": "2023-04-25T13:21:18.085Z"
   },
   {
    "duration": 503,
    "start_time": "2023-04-25T13:22:26.306Z"
   },
   {
    "duration": 613,
    "start_time": "2023-04-25T13:22:42.593Z"
   },
   {
    "duration": 535,
    "start_time": "2023-04-25T13:22:47.489Z"
   },
   {
    "duration": 564,
    "start_time": "2023-04-25T13:22:52.293Z"
   },
   {
    "duration": 515,
    "start_time": "2023-04-25T13:22:55.520Z"
   },
   {
    "duration": 682,
    "start_time": "2023-04-25T13:23:00.289Z"
   },
   {
    "duration": 1952,
    "start_time": "2023-04-25T19:24:40.796Z"
   },
   {
    "duration": 1434,
    "start_time": "2023-04-25T19:24:42.750Z"
   },
   {
    "duration": 647,
    "start_time": "2023-04-25T19:24:44.186Z"
   },
   {
    "duration": 3620,
    "start_time": "2023-04-25T21:36:59.765Z"
   },
   {
    "duration": 4767,
    "start_time": "2023-04-27T20:05:37.185Z"
   },
   {
    "duration": 3556,
    "start_time": "2023-04-27T20:05:41.955Z"
   },
   {
    "duration": 591,
    "start_time": "2023-04-27T20:05:45.513Z"
   },
   {
    "duration": 8,
    "start_time": "2023-04-27T20:28:11.039Z"
   },
   {
    "duration": 5,
    "start_time": "2023-04-27T20:28:27.537Z"
   },
   {
    "duration": 5,
    "start_time": "2023-04-27T20:29:31.490Z"
   },
   {
    "duration": 5,
    "start_time": "2023-04-27T20:29:50.731Z"
   },
   {
    "duration": 5,
    "start_time": "2023-04-27T20:29:56.978Z"
   },
   {
    "duration": 4,
    "start_time": "2023-04-27T20:30:11.235Z"
   },
   {
    "duration": 5,
    "start_time": "2023-04-27T20:30:20.986Z"
   },
   {
    "duration": 4,
    "start_time": "2023-04-27T20:30:29.042Z"
   },
   {
    "duration": 6,
    "start_time": "2023-04-27T20:30:39.739Z"
   },
   {
    "duration": 4,
    "start_time": "2023-04-27T20:30:48.379Z"
   },
   {
    "duration": 4,
    "start_time": "2023-04-27T20:31:27.114Z"
   },
   {
    "duration": 5,
    "start_time": "2023-04-27T20:38:16.013Z"
   },
   {
    "duration": 3,
    "start_time": "2023-04-27T20:56:56.186Z"
   },
   {
    "duration": 2148,
    "start_time": "2023-04-27T20:57:45.977Z"
   },
   {
    "duration": 2,
    "start_time": "2023-04-27T20:58:43.506Z"
   },
   {
    "duration": 2018,
    "start_time": "2023-04-27T20:58:45.971Z"
   },
   {
    "duration": 3,
    "start_time": "2023-04-27T20:59:32.267Z"
   },
   {
    "duration": 2024,
    "start_time": "2023-04-27T20:59:34.787Z"
   },
   {
    "duration": 3,
    "start_time": "2023-04-27T20:59:53.227Z"
   },
   {
    "duration": 6,
    "start_time": "2023-04-27T21:02:03.547Z"
   },
   {
    "duration": 343,
    "start_time": "2023-04-27T21:02:15.643Z"
   },
   {
    "duration": 2009,
    "start_time": "2023-04-27T21:03:50.979Z"
   },
   {
    "duration": 239,
    "start_time": "2023-04-27T21:06:30.086Z"
   },
   {
    "duration": 20,
    "start_time": "2023-04-27T21:08:43.761Z"
   },
   {
    "duration": 4,
    "start_time": "2023-04-27T21:08:55.484Z"
   },
   {
    "duration": 3,
    "start_time": "2023-04-27T21:10:36.854Z"
   },
   {
    "duration": 4,
    "start_time": "2023-04-27T21:10:46.157Z"
   },
   {
    "duration": 2177,
    "start_time": "2023-04-27T21:11:09.358Z"
   },
   {
    "duration": 1988,
    "start_time": "2023-04-27T21:12:57.056Z"
   },
   {
    "duration": 4,
    "start_time": "2023-04-27T21:14:22.085Z"
   },
   {
    "duration": 1980,
    "start_time": "2023-04-27T21:14:22.091Z"
   },
   {
    "duration": 540,
    "start_time": "2023-04-27T21:14:24.073Z"
   },
   {
    "duration": 2056,
    "start_time": "2023-04-27T21:14:24.615Z"
   },
   {
    "duration": 71,
    "start_time": "2023-04-27T21:25:37.910Z"
   },
   {
    "duration": 51,
    "start_time": "2023-04-27T21:26:24.177Z"
   },
   {
    "duration": 4,
    "start_time": "2023-04-27T21:26:33.409Z"
   },
   {
    "duration": 576,
    "start_time": "2023-04-27T21:30:09.802Z"
   },
   {
    "duration": 5,
    "start_time": "2023-04-27T21:38:49.705Z"
   },
   {
    "duration": 682,
    "start_time": "2023-04-27T21:38:54.200Z"
   },
   {
    "duration": 51,
    "start_time": "2023-04-27T21:39:52.933Z"
   },
   {
    "duration": 51,
    "start_time": "2023-04-27T21:40:27.044Z"
   },
   {
    "duration": 25,
    "start_time": "2023-04-27T21:40:44.605Z"
   },
   {
    "duration": 5,
    "start_time": "2023-04-27T21:41:12.532Z"
   },
   {
    "duration": 507,
    "start_time": "2023-04-27T21:41:14.696Z"
   },
   {
    "duration": 4,
    "start_time": "2023-04-27T21:41:39.365Z"
   },
   {
    "duration": 4,
    "start_time": "2023-04-27T21:41:42.317Z"
   },
   {
    "duration": 469,
    "start_time": "2023-04-27T21:41:44.307Z"
   },
   {
    "duration": 4,
    "start_time": "2023-04-27T21:42:27.005Z"
   },
   {
    "duration": 494,
    "start_time": "2023-04-27T21:42:30.517Z"
   },
   {
    "duration": 43,
    "start_time": "2023-04-27T21:45:14.237Z"
   },
   {
    "duration": 4,
    "start_time": "2023-04-27T21:45:21.277Z"
   },
   {
    "duration": 9831,
    "start_time": "2023-04-27T21:45:27.980Z"
   },
   {
    "duration": 505,
    "start_time": "2023-04-27T21:45:48.742Z"
   },
   {
    "duration": 481,
    "start_time": "2023-04-27T21:52:51.256Z"
   },
   {
    "duration": 643,
    "start_time": "2023-04-27T21:56:44.093Z"
   },
   {
    "duration": 518,
    "start_time": "2023-04-27T21:57:31.617Z"
   },
   {
    "duration": 765,
    "start_time": "2023-04-27T21:57:54.320Z"
   },
   {
    "duration": 2364159,
    "start_time": "2023-04-27T22:03:24.122Z"
   },
   {
    "duration": 471,
    "start_time": "2023-04-27T22:53:03.314Z"
   },
   {
    "duration": 3,
    "start_time": "2023-04-27T23:06:50.002Z"
   },
   {
    "duration": 431,
    "start_time": "2023-04-27T23:25:52.928Z"
   },
   {
    "duration": 4,
    "start_time": "2023-04-27T23:26:33.950Z"
   },
   {
    "duration": 803,
    "start_time": "2023-04-27T23:26:33.956Z"
   },
   {
    "duration": 529,
    "start_time": "2023-04-27T23:26:34.761Z"
   },
   {
    "duration": 431,
    "start_time": "2023-04-27T23:26:46.375Z"
   },
   {
    "duration": 80,
    "start_time": "2023-04-27T23:26:50.497Z"
   },
   {
    "duration": 61768,
    "start_time": "2023-04-27T23:31:30.833Z"
   },
   {
    "duration": 405,
    "start_time": "2023-04-27T23:32:39.840Z"
   },
   {
    "duration": 300160,
    "start_time": "2023-04-27T23:32:42.873Z"
   },
   {
    "duration": 3,
    "start_time": "2023-04-27T23:50:48.277Z"
   },
   {
    "duration": 4,
    "start_time": "2023-04-27T23:52:18.534Z"
   },
   {
    "duration": 3,
    "start_time": "2023-04-27T23:53:39.897Z"
   },
   {
    "duration": 30,
    "start_time": "2023-04-28T00:01:49.001Z"
   },
   {
    "duration": 57,
    "start_time": "2023-04-28T00:02:49.441Z"
   },
   {
    "duration": 444,
    "start_time": "2023-04-28T00:03:20.347Z"
   },
   {
    "duration": 298896,
    "start_time": "2023-04-28T00:03:24.842Z"
   },
   {
    "duration": 3,
    "start_time": "2023-04-28T00:08:23.740Z"
   },
   {
    "duration": 20,
    "start_time": "2023-04-28T00:09:24.805Z"
   },
   {
    "duration": 3,
    "start_time": "2023-04-28T00:09:44.363Z"
   },
   {
    "duration": 3942,
    "start_time": "2023-04-28T00:21:47.398Z"
   },
   {
    "duration": 812,
    "start_time": "2023-04-28T00:21:51.342Z"
   },
   {
    "duration": 554,
    "start_time": "2023-04-28T00:21:52.156Z"
   },
   {
    "duration": 484,
    "start_time": "2023-04-28T00:21:52.711Z"
   },
   {
    "duration": 289105,
    "start_time": "2023-04-28T00:21:53.197Z"
   },
   {
    "duration": 5418,
    "start_time": "2023-04-28T15:46:55.439Z"
   },
   {
    "duration": 2523,
    "start_time": "2023-04-28T15:47:00.860Z"
   },
   {
    "duration": 648,
    "start_time": "2023-04-28T15:47:03.384Z"
   },
   {
    "duration": 562,
    "start_time": "2023-04-28T15:47:04.040Z"
   },
   {
    "duration": 369758,
    "start_time": "2023-04-28T15:47:04.605Z"
   },
   {
    "duration": 6520,
    "start_time": "2023-04-29T19:23:54.050Z"
   },
   {
    "duration": 3258,
    "start_time": "2023-04-29T19:24:00.572Z"
   },
   {
    "duration": 586,
    "start_time": "2023-04-29T19:24:03.832Z"
   },
   {
    "duration": 619,
    "start_time": "2023-04-29T19:24:04.420Z"
   },
   {
    "duration": 307980,
    "start_time": "2023-04-29T19:24:05.041Z"
   },
   {
    "duration": 370,
    "start_time": "2023-04-29T20:30:28.562Z"
   },
   {
    "duration": 83,
    "start_time": "2023-04-29T20:30:57.854Z"
   },
   {
    "duration": 94,
    "start_time": "2023-04-29T22:49:51.482Z"
   },
   {
    "duration": 95,
    "start_time": "2023-04-29T22:50:44.404Z"
   },
   {
    "duration": 28,
    "start_time": "2023-04-29T22:57:03.031Z"
   },
   {
    "duration": 3447,
    "start_time": "2023-04-29T23:00:38.552Z"
   },
   {
    "duration": 17,
    "start_time": "2023-04-29T23:26:44.697Z"
   },
   {
    "duration": 16,
    "start_time": "2023-04-29T23:26:52.493Z"
   },
   {
    "duration": 27,
    "start_time": "2023-04-29T23:27:08.579Z"
   },
   {
    "duration": 22,
    "start_time": "2023-04-29T23:43:47.512Z"
   },
   {
    "duration": 23,
    "start_time": "2023-04-29T23:44:25.377Z"
   },
   {
    "duration": 4425,
    "start_time": "2023-04-29T23:48:25.509Z"
   },
   {
    "duration": 7470,
    "start_time": "2023-04-30T20:13:13.281Z"
   },
   {
    "duration": 9936,
    "start_time": "2023-04-30T20:13:20.754Z"
   },
   {
    "duration": 874,
    "start_time": "2023-04-30T20:13:30.701Z"
   },
   {
    "duration": 1184,
    "start_time": "2023-04-30T20:13:31.582Z"
   },
   {
    "duration": 538463,
    "start_time": "2023-04-30T20:13:32.768Z"
   },
   {
    "duration": 259,
    "start_time": "2023-04-30T20:22:31.253Z"
   },
   {
    "duration": 5329,
    "start_time": "2023-04-30T20:38:23.415Z"
   },
   {
    "duration": 508,
    "start_time": "2023-04-30T20:38:49.222Z"
   },
   {
    "duration": 22,
    "start_time": "2023-04-30T20:39:44.068Z"
   },
   {
    "duration": 6,
    "start_time": "2023-04-30T20:39:52.717Z"
   },
   {
    "duration": 15,
    "start_time": "2023-04-30T20:40:03.518Z"
   },
   {
    "duration": 66,
    "start_time": "2023-04-30T20:41:38.757Z"
   },
   {
    "duration": 15,
    "start_time": "2023-04-30T20:53:06.314Z"
   },
   {
    "duration": 6905,
    "start_time": "2023-04-30T20:53:47.822Z"
   },
   {
    "duration": 8305,
    "start_time": "2023-04-30T20:53:54.739Z"
   },
   {
    "duration": 1102,
    "start_time": "2023-04-30T20:54:03.046Z"
   },
   {
    "duration": 1230,
    "start_time": "2023-04-30T20:54:04.160Z"
   },
   {
    "duration": 547734,
    "start_time": "2023-04-30T20:54:05.400Z"
   },
   {
    "duration": 188,
    "start_time": "2023-04-30T21:03:13.136Z"
   },
   {
    "duration": 25,
    "start_time": "2023-04-30T21:09:35.990Z"
   },
   {
    "duration": 19,
    "start_time": "2023-04-30T21:10:11.520Z"
   },
   {
    "duration": 4,
    "start_time": "2023-04-30T21:10:28.741Z"
   },
   {
    "duration": 5024,
    "start_time": "2023-04-30T21:14:24.147Z"
   },
   {
    "duration": 31,
    "start_time": "2023-04-30T21:14:42.355Z"
   },
   {
    "duration": 538,
    "start_time": "2023-04-30T21:14:56.924Z"
   },
   {
    "duration": 52,
    "start_time": "2023-04-30T21:15:26.955Z"
   },
   {
    "duration": 5360,
    "start_time": "2023-04-30T21:15:58.027Z"
   },
   {
    "duration": 9,
    "start_time": "2023-04-30T21:16:19.056Z"
   },
   {
    "duration": 8,
    "start_time": "2023-04-30T21:16:46.433Z"
   },
   {
    "duration": 48,
    "start_time": "2023-04-30T21:16:54.237Z"
   },
   {
    "duration": 40,
    "start_time": "2023-04-30T21:18:04.223Z"
   },
   {
    "duration": 21,
    "start_time": "2023-04-30T21:19:52.463Z"
   },
   {
    "duration": 1208,
    "start_time": "2023-04-30T21:21:21.977Z"
   },
   {
    "duration": 4567,
    "start_time": "2023-04-30T21:21:29.380Z"
   },
   {
    "duration": 4,
    "start_time": "2023-04-30T21:25:03.884Z"
   },
   {
    "duration": 7,
    "start_time": "2023-04-30T21:26:27.078Z"
   },
   {
    "duration": 7,
    "start_time": "2023-04-30T21:26:34.740Z"
   },
   {
    "duration": 4,
    "start_time": "2023-04-30T21:26:45.186Z"
   },
   {
    "duration": 5,
    "start_time": "2023-04-30T21:27:00.978Z"
   },
   {
    "duration": 55824,
    "start_time": "2023-04-30T21:29:30.987Z"
   },
   {
    "duration": 24,
    "start_time": "2023-04-30T21:33:53.324Z"
   },
   {
    "duration": 74,
    "start_time": "2023-04-30T21:35:55.078Z"
   },
   {
    "duration": 8403,
    "start_time": "2023-04-30T21:36:57.328Z"
   },
   {
    "duration": 50,
    "start_time": "2023-04-30T21:37:11.520Z"
   },
   {
    "duration": 4297,
    "start_time": "2023-04-30T21:39:05.755Z"
   },
   {
    "duration": 3997,
    "start_time": "2023-04-30T21:39:27.995Z"
   },
   {
    "duration": 1017,
    "start_time": "2023-04-30T21:39:35.527Z"
   },
   {
    "duration": 8479,
    "start_time": "2023-04-30T21:39:52.145Z"
   },
   {
    "duration": 46,
    "start_time": "2023-04-30T21:40:07.036Z"
   },
   {
    "duration": 46,
    "start_time": "2023-04-30T21:44:47.808Z"
   },
   {
    "duration": 27,
    "start_time": "2023-04-30T21:45:13.646Z"
   },
   {
    "duration": 32,
    "start_time": "2023-04-30T21:45:40.922Z"
   },
   {
    "duration": 33,
    "start_time": "2023-04-30T21:45:48.829Z"
   },
   {
    "duration": 114,
    "start_time": "2023-04-30T21:46:26.148Z"
   },
   {
    "duration": 4719,
    "start_time": "2023-04-30T21:46:29.835Z"
   },
   {
    "duration": 130,
    "start_time": "2023-04-30T21:46:51.634Z"
   },
   {
    "duration": 10342,
    "start_time": "2023-04-30T21:46:54.536Z"
   },
   {
    "duration": 61,
    "start_time": "2023-04-30T22:02:18.286Z"
   },
   {
    "duration": 113,
    "start_time": "2023-04-30T22:02:24.662Z"
   },
   {
    "duration": 10198,
    "start_time": "2023-04-30T22:02:27.317Z"
   },
   {
    "duration": 9,
    "start_time": "2023-04-30T22:18:54.501Z"
   },
   {
    "duration": 8,
    "start_time": "2023-04-30T22:35:57.541Z"
   },
   {
    "duration": 82,
    "start_time": "2023-04-30T22:54:16.587Z"
   },
   {
    "duration": 22,
    "start_time": "2023-04-30T22:54:30.955Z"
   },
   {
    "duration": 3006960,
    "start_time": "2023-04-30T22:54:46.646Z"
   },
   {
    "duration": 4478,
    "start_time": "2023-05-01T18:13:41.406Z"
   },
   {
    "duration": 3483,
    "start_time": "2023-05-01T18:13:45.886Z"
   },
   {
    "duration": 482,
    "start_time": "2023-05-01T18:13:49.370Z"
   },
   {
    "duration": 555,
    "start_time": "2023-05-01T18:13:49.854Z"
   },
   {
    "duration": 276935,
    "start_time": "2023-05-01T18:13:50.410Z"
   },
   {
    "duration": 69,
    "start_time": "2023-05-01T18:18:27.347Z"
   },
   {
    "duration": 6576,
    "start_time": "2023-05-01T18:18:27.418Z"
   },
   {
    "duration": 4,
    "start_time": "2023-05-01T18:25:11.749Z"
   },
   {
    "duration": 1903971,
    "start_time": "2023-05-01T18:25:15.512Z"
   },
   {
    "duration": 4,
    "start_time": "2023-05-01T18:58:53.414Z"
   },
   {
    "duration": 628,
    "start_time": "2023-05-01T18:58:59.720Z"
   },
   {
    "duration": 29,
    "start_time": "2023-05-01T18:59:40.405Z"
   },
   {
    "duration": 1007,
    "start_time": "2023-05-01T19:00:31.174Z"
   },
   {
    "duration": 689081,
    "start_time": "2023-05-01T19:02:57.408Z"
   },
   {
    "duration": 263,
    "start_time": "2023-05-01T19:14:48.285Z"
   },
   {
    "duration": 526,
    "start_time": "2023-05-01T19:15:44.203Z"
   },
   {
    "duration": 104755,
    "start_time": "2023-05-01T19:16:25.284Z"
   },
   {
    "duration": 117368,
    "start_time": "2023-05-01T19:18:17.726Z"
   },
   {
    "duration": 471,
    "start_time": "2023-05-01T19:20:29.686Z"
   },
   {
    "duration": 17,
    "start_time": "2023-05-01T19:21:14.285Z"
   },
   {
    "duration": 405785,
    "start_time": "2023-05-01T19:30:30.725Z"
   },
   {
    "duration": 1417520,
    "start_time": "2023-05-01T19:38:12.705Z"
   },
   {
    "duration": 744,
    "start_time": "2023-05-01T20:05:28.537Z"
   },
   {
    "duration": 868,
    "start_time": "2023-05-01T20:06:00.737Z"
   },
   {
    "duration": 93663,
    "start_time": "2023-05-01T20:10:27.589Z"
   },
   {
    "duration": 459,
    "start_time": "2023-05-01T20:12:26.051Z"
   },
   {
    "duration": 19,
    "start_time": "2023-05-01T20:13:26.719Z"
   },
   {
    "duration": 37,
    "start_time": "2023-05-01T20:13:38.728Z"
   },
   {
    "duration": 7,
    "start_time": "2023-05-01T20:43:34.493Z"
   },
   {
    "duration": 5,
    "start_time": "2023-05-01T20:43:51.992Z"
   },
   {
    "duration": 5,
    "start_time": "2023-05-01T20:44:01.275Z"
   },
   {
    "duration": 7,
    "start_time": "2023-05-01T20:44:35.186Z"
   },
   {
    "duration": 5,
    "start_time": "2023-05-01T20:46:31.992Z"
   },
   {
    "duration": 19,
    "start_time": "2023-05-01T20:47:53.086Z"
   },
   {
    "duration": 5,
    "start_time": "2023-05-01T20:48:07.751Z"
   },
   {
    "duration": 4,
    "start_time": "2023-05-01T21:02:59.694Z"
   },
   {
    "duration": 14,
    "start_time": "2023-05-01T21:07:25.814Z"
   },
   {
    "duration": 14,
    "start_time": "2023-05-01T21:08:55.505Z"
   },
   {
    "duration": 16,
    "start_time": "2023-05-01T21:09:06.278Z"
   },
   {
    "duration": 18,
    "start_time": "2023-05-01T21:09:31.290Z"
   },
   {
    "duration": 20,
    "start_time": "2023-05-01T21:10:32.899Z"
   },
   {
    "duration": 79,
    "start_time": "2023-05-01T21:10:48.769Z"
   },
   {
    "duration": 26,
    "start_time": "2023-05-01T21:14:28.597Z"
   },
   {
    "duration": 26,
    "start_time": "2023-05-01T21:14:39.320Z"
   },
   {
    "duration": 89,
    "start_time": "2023-05-01T21:14:59.239Z"
   },
   {
    "duration": 122,
    "start_time": "2023-05-01T21:19:44.642Z"
   },
   {
    "duration": 54,
    "start_time": "2023-05-01T21:19:55.469Z"
   },
   {
    "duration": 54,
    "start_time": "2023-05-01T21:20:15.766Z"
   },
   {
    "duration": 194,
    "start_time": "2023-05-01T21:20:32.514Z"
   },
   {
    "duration": 510,
    "start_time": "2023-05-01T21:21:04.637Z"
   },
   {
    "duration": 839874,
    "start_time": "2023-05-01T21:21:10.165Z"
   },
   {
    "duration": 182,
    "start_time": "2023-05-01T21:36:51.548Z"
   },
   {
    "duration": 48,
    "start_time": "2023-05-01T21:37:08.168Z"
   },
   {
    "duration": 62,
    "start_time": "2023-05-01T22:17:31.810Z"
   },
   {
    "duration": 426,
    "start_time": "2023-05-01T22:18:44.347Z"
   },
   {
    "duration": 60,
    "start_time": "2023-05-01T22:19:55.499Z"
   },
   {
    "duration": 60,
    "start_time": "2023-05-01T22:20:18.300Z"
   },
   {
    "duration": 63,
    "start_time": "2023-05-01T22:20:29.664Z"
   },
   {
    "duration": 64,
    "start_time": "2023-05-01T22:21:43.379Z"
   },
   {
    "duration": 12481,
    "start_time": "2023-05-01T22:22:23.768Z"
   },
   {
    "duration": 61,
    "start_time": "2023-05-01T22:23:19.149Z"
   },
   {
    "duration": 55,
    "start_time": "2023-05-01T22:31:40.317Z"
   },
   {
    "duration": 57,
    "start_time": "2023-05-01T22:36:28.205Z"
   },
   {
    "duration": 47,
    "start_time": "2023-05-01T22:36:44.137Z"
   },
   {
    "duration": 56,
    "start_time": "2023-05-01T22:36:58.177Z"
   },
   {
    "duration": 57,
    "start_time": "2023-05-01T22:37:06.223Z"
   },
   {
    "duration": 66,
    "start_time": "2023-05-01T22:37:20.427Z"
   },
   {
    "duration": 9,
    "start_time": "2023-05-01T22:43:17.011Z"
   },
   {
    "duration": 10,
    "start_time": "2023-05-01T22:43:24.516Z"
   },
   {
    "duration": 13,
    "start_time": "2023-05-01T22:44:07.347Z"
   },
   {
    "duration": 14,
    "start_time": "2023-05-01T22:44:27.346Z"
   },
   {
    "duration": 31,
    "start_time": "2023-05-01T22:45:41.436Z"
   },
   {
    "duration": 496,
    "start_time": "2023-05-01T22:46:18.398Z"
   },
   {
    "duration": 45,
    "start_time": "2023-05-01T22:46:43.883Z"
   },
   {
    "duration": 29,
    "start_time": "2023-05-01T22:46:53.723Z"
   },
   {
    "duration": 28,
    "start_time": "2023-05-01T22:47:13.727Z"
   },
   {
    "duration": 44,
    "start_time": "2023-05-01T22:49:18.357Z"
   },
   {
    "duration": 375,
    "start_time": "2023-05-01T22:51:08.304Z"
   },
   {
    "duration": 812131,
    "start_time": "2023-05-01T22:51:10.960Z"
   },
   {
    "duration": 40,
    "start_time": "2023-05-01T23:05:57.747Z"
   },
   {
    "duration": 35,
    "start_time": "2023-05-01T23:06:19.716Z"
   },
   {
    "duration": 47,
    "start_time": "2023-05-01T23:06:43.070Z"
   },
   {
    "duration": 81,
    "start_time": "2023-05-01T23:07:24.062Z"
   },
   {
    "duration": 6377,
    "start_time": "2023-05-01T23:07:30.587Z"
   },
   {
    "duration": 5,
    "start_time": "2023-05-01T23:07:49.820Z"
   },
   {
    "duration": 112111,
    "start_time": "2023-05-01T23:08:02.287Z"
   },
   {
    "duration": 437,
    "start_time": "2023-05-01T23:10:54.869Z"
   },
   {
    "duration": 228112,
    "start_time": "2023-05-01T23:12:23.394Z"
   },
   {
    "duration": 429,
    "start_time": "2023-05-01T23:17:01.301Z"
   },
   {
    "duration": 451,
    "start_time": "2023-05-01T23:18:03.857Z"
   },
   {
    "duration": 11,
    "start_time": "2023-05-01T23:19:19.070Z"
   },
   {
    "duration": 9,
    "start_time": "2023-05-01T23:21:00.349Z"
   },
   {
    "duration": 9,
    "start_time": "2023-05-01T23:21:39.849Z"
   },
   {
    "duration": 10,
    "start_time": "2023-05-01T23:22:24.781Z"
   },
   {
    "duration": 9,
    "start_time": "2023-05-01T23:22:33.776Z"
   },
   {
    "duration": 10,
    "start_time": "2023-05-01T23:22:57.119Z"
   },
   {
    "duration": 10,
    "start_time": "2023-05-01T23:24:23.107Z"
   },
   {
    "duration": 15,
    "start_time": "2023-05-01T23:25:34.224Z"
   },
   {
    "duration": 30,
    "start_time": "2023-05-01T23:26:25.728Z"
   },
   {
    "duration": 15,
    "start_time": "2023-05-01T23:33:25.244Z"
   },
   {
    "duration": 16,
    "start_time": "2023-05-01T23:33:43.052Z"
   },
   {
    "duration": 56,
    "start_time": "2023-05-01T23:35:01.338Z"
   },
   {
    "duration": 884033,
    "start_time": "2023-05-01T23:35:05.542Z"
   },
   {
    "duration": 61,
    "start_time": "2023-05-01T23:55:40.356Z"
   },
   {
    "duration": 111,
    "start_time": "2023-05-01T23:55:57.357Z"
   },
   {
    "duration": 390,
    "start_time": "2023-05-02T00:00:13.633Z"
   },
   {
    "duration": 439,
    "start_time": "2023-05-02T00:01:01.128Z"
   },
   {
    "duration": 16,
    "start_time": "2023-05-02T00:13:51.170Z"
   },
   {
    "duration": 66,
    "start_time": "2023-05-02T00:14:44.493Z"
   },
   {
    "duration": 26,
    "start_time": "2023-05-02T00:14:55.408Z"
   },
   {
    "duration": 5366,
    "start_time": "2023-05-02T19:15:17.516Z"
   },
   {
    "duration": 3562,
    "start_time": "2023-05-02T19:15:22.885Z"
   },
   {
    "duration": 628,
    "start_time": "2023-05-02T19:15:26.449Z"
   },
   {
    "duration": 579,
    "start_time": "2023-05-02T19:15:27.080Z"
   },
   {
    "duration": 1366073,
    "start_time": "2023-05-02T19:15:27.661Z"
   },
   {
    "duration": 103,
    "start_time": "2023-05-02T19:38:13.737Z"
   },
   {
    "duration": 8887,
    "start_time": "2023-05-02T19:38:13.842Z"
   },
   {
    "duration": 6,
    "start_time": "2023-05-02T19:38:22.732Z"
   },
   {
    "duration": 279962,
    "start_time": "2023-05-02T19:38:22.740Z"
   },
   {
    "duration": 542,
    "start_time": "2023-05-02T19:43:02.707Z"
   },
   {
    "duration": 537,
    "start_time": "2023-05-02T19:44:38.232Z"
   },
   {
    "duration": 245133,
    "start_time": "2023-05-02T19:45:15.313Z"
   },
   {
    "duration": 602,
    "start_time": "2023-05-02T19:50:46.264Z"
   },
   {
    "duration": 23710,
    "start_time": "2023-05-02T19:50:57.762Z"
   },
   {
    "duration": 51250,
    "start_time": "2023-05-02T19:51:23.576Z"
   },
   {
    "duration": 5,
    "start_time": "2023-05-02T19:53:10.110Z"
   },
   {
    "duration": 5,
    "start_time": "2023-05-02T19:53:40.762Z"
   },
   {
    "duration": 5,
    "start_time": "2023-05-02T19:54:00.668Z"
   },
   {
    "duration": 5,
    "start_time": "2023-05-02T19:54:09.848Z"
   },
   {
    "duration": 5,
    "start_time": "2023-05-02T19:55:21.504Z"
   },
   {
    "duration": 4,
    "start_time": "2023-05-02T19:55:33.838Z"
   },
   {
    "duration": 5,
    "start_time": "2023-05-02T19:55:41.063Z"
   },
   {
    "duration": 5,
    "start_time": "2023-05-02T19:55:50.666Z"
   },
   {
    "duration": 48181,
    "start_time": "2023-05-02T20:01:57.951Z"
   },
   {
    "duration": 14,
    "start_time": "2023-05-02T20:04:35.090Z"
   },
   {
    "duration": 33233,
    "start_time": "2023-05-02T20:05:00.046Z"
   },
   {
    "duration": 40759,
    "start_time": "2023-05-02T20:05:44.545Z"
   },
   {
    "duration": 41380,
    "start_time": "2023-05-02T20:06:45.640Z"
   },
   {
    "duration": 41715,
    "start_time": "2023-05-02T20:07:31.624Z"
   },
   {
    "duration": 200188,
    "start_time": "2023-05-02T20:08:32.964Z"
   },
   {
    "duration": 78842,
    "start_time": "2023-05-02T20:33:41.236Z"
   },
   {
    "duration": 122862,
    "start_time": "2023-05-02T20:35:11.947Z"
   },
   {
    "duration": 306446,
    "start_time": "2023-05-02T20:37:19.885Z"
   },
   {
    "duration": 2170542,
    "start_time": "2023-05-02T21:01:52.786Z"
   },
   {
    "duration": 873,
    "start_time": "2023-05-02T21:57:11.863Z"
   },
   {
    "duration": 810,
    "start_time": "2023-05-02T21:57:33.818Z"
   },
   {
    "duration": 767835,
    "start_time": "2023-05-02T21:59:20.455Z"
   },
   {
    "duration": 670,
    "start_time": "2023-05-02T22:13:01.989Z"
   },
   {
    "duration": 951752,
    "start_time": "2023-05-02T22:15:44.914Z"
   },
   {
    "duration": 679,
    "start_time": "2023-05-02T22:33:23.715Z"
   },
   {
    "duration": 2725017,
    "start_time": "2023-05-02T22:37:04.122Z"
   },
   {
    "duration": 832,
    "start_time": "2023-05-02T23:22:49.885Z"
   },
   {
    "duration": 21,
    "start_time": "2023-05-02T23:25:31.743Z"
   },
   {
    "duration": 7,
    "start_time": "2023-05-02T23:25:41.630Z"
   },
   {
    "duration": 5,
    "start_time": "2023-05-02T23:26:33.657Z"
   },
   {
    "duration": 32292,
    "start_time": "2023-05-02T23:26:41.774Z"
   },
   {
    "duration": 658,
    "start_time": "2023-05-02T23:29:00.923Z"
   },
   {
    "duration": 639,
    "start_time": "2023-05-02T23:29:36.045Z"
   },
   {
    "duration": 9430,
    "start_time": "2023-05-03T18:26:24.896Z"
   },
   {
    "duration": 2828,
    "start_time": "2023-05-03T18:26:34.328Z"
   },
   {
    "duration": 655,
    "start_time": "2023-05-03T18:26:37.158Z"
   },
   {
    "duration": 806,
    "start_time": "2023-05-03T18:26:37.817Z"
   },
   {
    "duration": 1177317,
    "start_time": "2023-05-03T18:26:38.626Z"
   },
   {
    "duration": 81,
    "start_time": "2023-05-03T18:46:15.944Z"
   },
   {
    "duration": 7653,
    "start_time": "2023-05-03T18:46:16.027Z"
   },
   {
    "duration": 6,
    "start_time": "2023-05-03T18:46:23.682Z"
   },
   {
    "duration": 282242,
    "start_time": "2023-05-03T18:46:23.690Z"
   },
   {
    "duration": 559,
    "start_time": "2023-05-03T18:51:05.934Z"
   },
   {
    "duration": 653,
    "start_time": "2023-05-03T19:19:56.324Z"
   },
   {
    "duration": 10393,
    "start_time": "2023-05-03T19:22:21.052Z"
   },
   {
    "duration": 869,
    "start_time": "2023-05-03T19:22:41.881Z"
   },
   {
    "duration": 10722,
    "start_time": "2023-05-03T19:23:20.676Z"
   },
   {
    "duration": 5393,
    "start_time": "2023-05-03T19:24:40.203Z"
   },
   {
    "duration": 979,
    "start_time": "2023-05-03T19:25:24.736Z"
   },
   {
    "duration": 832,
    "start_time": "2023-05-03T19:25:50.902Z"
   },
   {
    "duration": 925,
    "start_time": "2023-05-03T19:26:52.455Z"
   },
   {
    "duration": 8718,
    "start_time": "2023-05-03T19:27:21.221Z"
   },
   {
    "duration": 1033,
    "start_time": "2023-05-03T19:27:37.803Z"
   },
   {
    "duration": 10845,
    "start_time": "2023-05-03T19:28:39.937Z"
   },
   {
    "duration": 815,
    "start_time": "2023-05-03T19:29:03.851Z"
   },
   {
    "duration": 806,
    "start_time": "2023-05-03T19:29:44.113Z"
   },
   {
    "duration": 15713,
    "start_time": "2023-05-03T19:29:51.427Z"
   },
   {
    "duration": 829,
    "start_time": "2023-05-03T19:30:18.178Z"
   },
   {
    "duration": 18457,
    "start_time": "2023-05-03T19:30:53.548Z"
   },
   {
    "duration": 848,
    "start_time": "2023-05-03T19:31:15.041Z"
   },
   {
    "duration": 74333,
    "start_time": "2023-05-03T19:38:01.940Z"
   },
   {
    "duration": 907,
    "start_time": "2023-05-03T19:50:16.485Z"
   },
   {
    "duration": 926,
    "start_time": "2023-05-03T19:50:56.646Z"
   },
   {
    "duration": 80732,
    "start_time": "2023-05-03T19:51:55.869Z"
   },
   {
    "duration": 975,
    "start_time": "2023-05-03T19:53:36.747Z"
   },
   {
    "duration": 95441,
    "start_time": "2023-05-03T19:54:47.975Z"
   },
   {
    "duration": 942,
    "start_time": "2023-05-03T19:56:48.060Z"
   },
   {
    "duration": 77727,
    "start_time": "2023-05-03T19:57:17.107Z"
   },
   {
    "duration": 963,
    "start_time": "2023-05-03T19:59:19.227Z"
   },
   {
    "duration": 348811,
    "start_time": "2023-05-03T19:59:36.249Z"
   },
   {
    "duration": 939,
    "start_time": "2023-05-03T20:07:00.344Z"
   },
   {
    "duration": 2227372,
    "start_time": "2023-05-03T20:09:04.488Z"
   },
   {
    "duration": 774,
    "start_time": "2023-05-03T20:47:40.372Z"
   },
   {
    "duration": 598,
    "start_time": "2023-05-03T21:04:52.919Z"
   },
   {
    "duration": 578,
    "start_time": "2023-05-03T21:05:16.836Z"
   },
   {
    "duration": 606,
    "start_time": "2023-05-03T21:05:26.214Z"
   },
   {
    "duration": 77,
    "start_time": "2023-05-03T21:05:55.297Z"
   },
   {
    "duration": 653,
    "start_time": "2023-05-03T21:06:22.813Z"
   },
   {
    "duration": 15,
    "start_time": "2023-05-03T21:06:43.090Z"
   },
   {
    "duration": 3,
    "start_time": "2023-05-03T21:06:53.394Z"
   },
   {
    "duration": 38,
    "start_time": "2023-05-03T21:07:21.261Z"
   },
   {
    "duration": 55,
    "start_time": "2023-05-03T21:07:44.597Z"
   },
   {
    "duration": 73,
    "start_time": "2023-05-03T21:08:06.622Z"
   },
   {
    "duration": 54,
    "start_time": "2023-05-03T21:08:25.276Z"
   },
   {
    "duration": 42,
    "start_time": "2023-05-03T21:08:38.365Z"
   },
   {
    "duration": 36,
    "start_time": "2023-05-03T21:08:48.055Z"
   },
   {
    "duration": 47,
    "start_time": "2023-05-03T21:08:56.138Z"
   },
   {
    "duration": 77,
    "start_time": "2023-05-03T21:11:22.506Z"
   },
   {
    "duration": 41,
    "start_time": "2023-05-03T21:11:50.530Z"
   },
   {
    "duration": 48,
    "start_time": "2023-05-03T21:11:55.622Z"
   },
   {
    "duration": 672,
    "start_time": "2023-05-03T21:12:55.301Z"
   },
   {
    "duration": 39,
    "start_time": "2023-05-03T21:13:14.352Z"
   },
   {
    "duration": 1028,
    "start_time": "2023-05-03T21:14:52.866Z"
   },
   {
    "duration": 909,
    "start_time": "2023-05-03T21:15:02.738Z"
   },
   {
    "duration": 1041,
    "start_time": "2023-05-03T21:15:27.420Z"
   },
   {
    "duration": 1122,
    "start_time": "2023-05-03T21:16:42.438Z"
   },
   {
    "duration": 1305,
    "start_time": "2023-05-03T21:16:57.294Z"
   },
   {
    "duration": 1111,
    "start_time": "2023-05-03T21:17:30.202Z"
   },
   {
    "duration": 1077,
    "start_time": "2023-05-03T21:18:44.462Z"
   },
   {
    "duration": 141,
    "start_time": "2023-05-03T21:41:22.878Z"
   },
   {
    "duration": 45,
    "start_time": "2023-05-03T21:42:16.742Z"
   },
   {
    "duration": 43,
    "start_time": "2023-05-03T21:45:48.138Z"
   },
   {
    "duration": 5,
    "start_time": "2023-05-03T21:45:54.932Z"
   },
   {
    "duration": 7,
    "start_time": "2023-05-03T21:45:59.582Z"
   },
   {
    "duration": 42,
    "start_time": "2023-05-03T21:46:19.098Z"
   },
   {
    "duration": 362,
    "start_time": "2023-05-03T21:46:30.798Z"
   },
   {
    "duration": 57,
    "start_time": "2023-05-03T21:46:49.819Z"
   },
   {
    "duration": 45,
    "start_time": "2023-05-03T21:48:09.179Z"
   },
   {
    "duration": 42,
    "start_time": "2023-05-03T21:48:27.709Z"
   },
   {
    "duration": 6,
    "start_time": "2023-05-03T21:49:26.611Z"
   },
   {
    "duration": 6,
    "start_time": "2023-05-03T21:49:34.062Z"
   },
   {
    "duration": 1105,
    "start_time": "2023-05-03T21:50:22.029Z"
   },
   {
    "duration": 34,
    "start_time": "2023-05-03T21:53:10.770Z"
   },
   {
    "duration": 14783,
    "start_time": "2023-05-03T21:53:23.182Z"
   },
   {
    "duration": 6,
    "start_time": "2023-05-03T21:53:49.818Z"
   },
   {
    "duration": 6,
    "start_time": "2023-05-03T21:59:11.179Z"
   },
   {
    "duration": 8,
    "start_time": "2023-05-03T22:17:00.670Z"
   },
   {
    "duration": 686,
    "start_time": "2023-05-03T22:17:49.719Z"
   },
   {
    "duration": 6,
    "start_time": "2023-05-03T22:19:08.539Z"
   },
   {
    "duration": 80,
    "start_time": "2023-05-03T22:30:00.539Z"
   },
   {
    "duration": 22,
    "start_time": "2023-05-03T22:30:53.177Z"
   },
   {
    "duration": 4,
    "start_time": "2023-05-03T22:31:01.338Z"
   },
   {
    "duration": 57,
    "start_time": "2023-05-03T22:32:06.239Z"
   },
   {
    "duration": 6,
    "start_time": "2023-05-03T22:32:17.078Z"
   },
   {
    "duration": 5,
    "start_time": "2023-05-03T22:32:25.739Z"
   },
   {
    "duration": 6,
    "start_time": "2023-05-03T22:32:49.658Z"
   },
   {
    "duration": 96,
    "start_time": "2023-05-03T23:24:35.859Z"
   },
   {
    "duration": 97,
    "start_time": "2023-05-03T23:25:53.739Z"
   },
   {
    "duration": 97,
    "start_time": "2023-05-03T23:26:01.089Z"
   },
   {
    "duration": 93,
    "start_time": "2023-05-03T23:26:08.358Z"
   },
   {
    "duration": 77,
    "start_time": "2023-05-03T23:27:14.759Z"
   },
   {
    "duration": 84,
    "start_time": "2023-05-03T23:27:24.466Z"
   },
   {
    "duration": 919,
    "start_time": "2023-05-03T23:28:45.775Z"
   },
   {
    "duration": 929,
    "start_time": "2023-05-03T23:29:35.658Z"
   },
   {
    "duration": 634,
    "start_time": "2023-05-03T23:36:18.039Z"
   },
   {
    "duration": 624,
    "start_time": "2023-05-03T23:38:23.659Z"
   },
   {
    "duration": 630,
    "start_time": "2023-05-03T23:39:30.678Z"
   },
   {
    "duration": 627,
    "start_time": "2023-05-03T23:42:33.099Z"
   },
   {
    "duration": 26,
    "start_time": "2023-05-03T23:42:55.896Z"
   },
   {
    "duration": 611,
    "start_time": "2023-05-03T23:43:23.348Z"
   },
   {
    "duration": 609,
    "start_time": "2023-05-03T23:45:20.425Z"
   },
   {
    "duration": 659,
    "start_time": "2023-05-03T23:45:30.467Z"
   },
   {
    "duration": 619,
    "start_time": "2023-05-03T23:46:20.638Z"
   },
   {
    "duration": 582,
    "start_time": "2023-05-03T23:47:13.339Z"
   },
   {
    "duration": 603,
    "start_time": "2023-05-03T23:47:26.456Z"
   },
   {
    "duration": 610,
    "start_time": "2023-05-03T23:47:41.203Z"
   },
   {
    "duration": 648,
    "start_time": "2023-05-03T23:49:15.527Z"
   },
   {
    "duration": 629,
    "start_time": "2023-05-03T23:49:53.316Z"
   },
   {
    "duration": 720,
    "start_time": "2023-05-03T23:50:05.818Z"
   },
   {
    "duration": 656,
    "start_time": "2023-05-03T23:50:21.898Z"
   },
   {
    "duration": 601,
    "start_time": "2023-05-03T23:50:59.497Z"
   },
   {
    "duration": 649,
    "start_time": "2023-05-03T23:53:57.338Z"
   },
   {
    "duration": 605,
    "start_time": "2023-05-03T23:54:28.643Z"
   },
   {
    "duration": 648,
    "start_time": "2023-05-03T23:54:54.157Z"
   },
   {
    "duration": 56,
    "start_time": "2023-05-03T23:55:10.598Z"
   },
   {
    "duration": 628,
    "start_time": "2023-05-03T23:55:22.498Z"
   },
   {
    "duration": 58,
    "start_time": "2023-05-03T23:55:34.866Z"
   },
   {
    "duration": 79,
    "start_time": "2023-05-03T23:55:52.687Z"
   },
   {
    "duration": 104,
    "start_time": "2023-05-03T23:57:00.363Z"
   },
   {
    "duration": 67,
    "start_time": "2023-05-03T23:57:05.650Z"
   },
   {
    "duration": 62,
    "start_time": "2023-05-03T23:57:17.398Z"
   },
   {
    "duration": 1305,
    "start_time": "2023-05-03T23:58:07.959Z"
   },
   {
    "duration": 598,
    "start_time": "2023-05-03T23:58:49.120Z"
   },
   {
    "duration": 599,
    "start_time": "2023-05-03T23:59:02.698Z"
   },
   {
    "duration": 84,
    "start_time": "2023-05-03T23:59:25.720Z"
   },
   {
    "duration": 83,
    "start_time": "2023-05-03T23:59:36.648Z"
   },
   {
    "duration": 54,
    "start_time": "2023-05-03T23:59:57.789Z"
   },
   {
    "duration": 28,
    "start_time": "2023-05-04T00:00:08.621Z"
   },
   {
    "duration": 31,
    "start_time": "2023-05-04T00:02:48.698Z"
   },
   {
    "duration": 77,
    "start_time": "2023-05-04T00:02:55.008Z"
   },
   {
    "duration": 107,
    "start_time": "2023-05-04T00:11:32.928Z"
   },
   {
    "duration": 546,
    "start_time": "2023-05-04T00:14:02.519Z"
   },
   {
    "duration": 870,
    "start_time": "2023-05-04T00:14:30.926Z"
   },
   {
    "duration": 580,
    "start_time": "2023-05-04T00:15:14.779Z"
   },
   {
    "duration": 631,
    "start_time": "2023-05-04T00:15:28.929Z"
   },
   {
    "duration": 915,
    "start_time": "2023-05-04T00:18:47.828Z"
   },
   {
    "duration": 895,
    "start_time": "2023-05-04T00:20:09.706Z"
   },
   {
    "duration": 18,
    "start_time": "2023-05-04T00:21:54.858Z"
   },
   {
    "duration": 21,
    "start_time": "2023-05-04T00:22:52.708Z"
   },
   {
    "duration": 16,
    "start_time": "2023-05-04T00:23:54.500Z"
   },
   {
    "duration": 296,
    "start_time": "2023-05-04T00:23:59.828Z"
   },
   {
    "duration": 328,
    "start_time": "2023-05-04T00:25:55.469Z"
   },
   {
    "duration": 325,
    "start_time": "2023-05-04T00:27:47.820Z"
   },
   {
    "duration": 367,
    "start_time": "2023-05-04T00:28:01.756Z"
   },
   {
    "duration": 298,
    "start_time": "2023-05-04T00:29:04.688Z"
   },
   {
    "duration": 1565,
    "start_time": "2023-05-04T00:36:33.141Z"
   },
   {
    "duration": 303,
    "start_time": "2023-05-04T00:37:02.464Z"
   },
   {
    "duration": 332,
    "start_time": "2023-05-04T00:37:30.405Z"
   },
   {
    "duration": 312,
    "start_time": "2023-05-04T00:38:23.379Z"
   },
   {
    "duration": 305,
    "start_time": "2023-05-04T00:39:34.058Z"
   },
   {
    "duration": 4,
    "start_time": "2023-05-04T00:40:00.459Z"
   },
   {
    "duration": 11,
    "start_time": "2023-05-04T00:45:32.608Z"
   },
   {
    "duration": 2176,
    "start_time": "2023-05-04T00:45:36.769Z"
   },
   {
    "duration": 45,
    "start_time": "2023-05-04T00:47:22.838Z"
   },
   {
    "duration": 29,
    "start_time": "2023-05-04T00:47:39.839Z"
   },
   {
    "duration": 32,
    "start_time": "2023-05-04T00:48:11.456Z"
   },
   {
    "duration": 2230,
    "start_time": "2023-05-04T00:50:51.746Z"
   },
   {
    "duration": 5840,
    "start_time": "2023-05-04T19:55:55.478Z"
   },
   {
    "duration": 7,
    "start_time": "2023-05-04T19:56:10.172Z"
   },
   {
    "duration": 15,
    "start_time": "2023-05-04T19:56:19.043Z"
   },
   {
    "duration": 3791,
    "start_time": "2023-05-04T19:56:23.611Z"
   },
   {
    "duration": 853,
    "start_time": "2023-05-04T19:56:30.795Z"
   },
   {
    "duration": 741,
    "start_time": "2023-05-04T19:56:46.024Z"
   },
   {
    "duration": 1390610,
    "start_time": "2023-05-04T19:57:24.699Z"
   },
   {
    "duration": 414,
    "start_time": "2023-05-04T20:21:00.535Z"
   },
   {
    "duration": 66,
    "start_time": "2023-05-04T20:29:11.732Z"
   },
   {
    "duration": 8,
    "start_time": "2023-05-04T20:30:00.472Z"
   },
   {
    "duration": 5007,
    "start_time": "2023-05-04T20:30:06.293Z"
   },
   {
    "duration": 3001,
    "start_time": "2023-05-04T20:30:14.090Z"
   },
   {
    "duration": 672,
    "start_time": "2023-05-04T20:30:19.503Z"
   },
   {
    "duration": 613,
    "start_time": "2023-05-04T20:30:32.216Z"
   },
   {
    "duration": 388,
    "start_time": "2023-05-04T20:31:53.026Z"
   },
   {
    "duration": 486,
    "start_time": "2023-05-04T20:42:57.127Z"
   },
   {
    "duration": 1227303,
    "start_time": "2023-05-04T20:43:37.487Z"
   },
   {
    "duration": 109,
    "start_time": "2023-05-04T21:12:24.772Z"
   },
   {
    "duration": 287,
    "start_time": "2023-05-04T21:13:12.846Z"
   },
   {
    "duration": 804,
    "start_time": "2023-05-04T21:13:46.516Z"
   },
   {
    "duration": 807,
    "start_time": "2023-05-04T21:14:09.934Z"
   },
   {
    "duration": 1049,
    "start_time": "2023-05-04T21:14:20.746Z"
   },
   {
    "duration": 785,
    "start_time": "2023-05-04T21:15:31.396Z"
   },
   {
    "duration": 812,
    "start_time": "2023-05-04T21:16:43.250Z"
   },
   {
    "duration": 827,
    "start_time": "2023-05-04T21:16:56.909Z"
   },
   {
    "duration": 1185,
    "start_time": "2023-05-04T21:17:12.056Z"
   },
   {
    "duration": 784,
    "start_time": "2023-05-04T21:17:20.600Z"
   },
   {
    "duration": 820,
    "start_time": "2023-05-04T21:17:41.848Z"
   },
   {
    "duration": 337,
    "start_time": "2023-05-04T21:21:35.531Z"
   },
   {
    "duration": 101,
    "start_time": "2023-05-04T21:21:56.674Z"
   },
   {
    "duration": 312,
    "start_time": "2023-05-04T21:22:03.543Z"
   },
   {
    "duration": 347,
    "start_time": "2023-05-04T21:22:26.580Z"
   },
   {
    "duration": 309,
    "start_time": "2023-05-04T21:22:50.472Z"
   },
   {
    "duration": 346,
    "start_time": "2023-05-04T21:24:16.602Z"
   },
   {
    "duration": 13,
    "start_time": "2023-05-04T21:27:07.232Z"
   },
   {
    "duration": 6405,
    "start_time": "2023-05-04T21:27:18.254Z"
   },
   {
    "duration": 5,
    "start_time": "2023-05-04T21:28:20.573Z"
   },
   {
    "duration": 276306,
    "start_time": "2023-05-04T21:28:32.876Z"
   },
   {
    "duration": 456,
    "start_time": "2023-05-04T21:34:01.915Z"
   },
   {
    "duration": 328827,
    "start_time": "2023-05-04T21:34:30.832Z"
   },
   {
    "duration": 875,
    "start_time": "2023-05-04T21:41:52.551Z"
   },
   {
    "duration": 6,
    "start_time": "2023-05-04T22:10:45.494Z"
   },
   {
    "duration": 1453,
    "start_time": "2023-05-04T22:12:51.766Z"
   },
   {
    "duration": 1822,
    "start_time": "2023-05-04T22:13:12.667Z"
   },
   {
    "duration": 87,
    "start_time": "2023-05-04T22:15:18.989Z"
   },
   {
    "duration": 2423,
    "start_time": "2023-05-04T22:15:25.020Z"
   },
   {
    "duration": 1419,
    "start_time": "2023-05-04T22:15:47.336Z"
   },
   {
    "duration": 5,
    "start_time": "2023-05-04T22:16:36.943Z"
   },
   {
    "duration": 2591,
    "start_time": "2023-05-04T22:17:41.874Z"
   },
   {
    "duration": 4,
    "start_time": "2023-05-04T22:18:33.818Z"
   },
   {
    "duration": 1441,
    "start_time": "2023-05-04T22:21:46.396Z"
   },
   {
    "duration": 5,
    "start_time": "2023-05-04T22:49:23.486Z"
   },
   {
    "duration": 10614,
    "start_time": "2023-05-04T23:02:37.895Z"
   },
   {
    "duration": 149037,
    "start_time": "2023-05-04T23:04:28.483Z"
   },
   {
    "duration": 77130,
    "start_time": "2023-05-04T23:07:58.231Z"
   },
   {
    "duration": 266291,
    "start_time": "2023-05-04T23:13:08.241Z"
   },
   {
    "duration": 765,
    "start_time": "2023-05-04T23:24:32.246Z"
   },
   {
    "duration": 789,
    "start_time": "2023-05-04T23:26:04.873Z"
   },
   {
    "duration": 16278,
    "start_time": "2023-05-04T23:26:59.837Z"
   },
   {
    "duration": 1069839,
    "start_time": "2023-05-04T23:27:26.487Z"
   },
   {
    "duration": 814,
    "start_time": "2023-05-04T23:51:01.643Z"
   },
   {
    "duration": 3588,
    "start_time": "2023-05-04T23:54:05.636Z"
   },
   {
    "duration": 126891,
    "start_time": "2023-05-04T23:55:24.410Z"
   },
   {
    "duration": 1099,
    "start_time": "2023-05-04T23:58:47.636Z"
   },
   {
    "duration": 3540,
    "start_time": "2023-05-05T00:01:34.777Z"
   },
   {
    "duration": 2307,
    "start_time": "2023-05-05T00:02:41.443Z"
   },
   {
    "duration": 2249,
    "start_time": "2023-05-05T00:02:51.143Z"
   },
   {
    "duration": 3129,
    "start_time": "2023-05-05T00:03:01.418Z"
   },
   {
    "duration": 3608,
    "start_time": "2023-05-05T00:03:19.983Z"
   },
   {
    "duration": 2832,
    "start_time": "2023-05-05T00:03:58.633Z"
   },
   {
    "duration": 74,
    "start_time": "2023-05-05T00:06:36.618Z"
   },
   {
    "duration": 3190,
    "start_time": "2023-05-05T00:09:21.598Z"
   },
   {
    "duration": 161987,
    "start_time": "2023-05-05T00:10:04.654Z"
   },
   {
    "duration": 815,
    "start_time": "2023-05-05T00:14:36.500Z"
   },
   {
    "duration": 5193,
    "start_time": "2023-05-05T00:15:51.001Z"
   },
   {
    "duration": 9017,
    "start_time": "2023-05-05T00:16:20.091Z"
   },
   {
    "duration": 27748,
    "start_time": "2023-05-05T00:16:38.611Z"
   },
   {
    "duration": 4085,
    "start_time": "2023-05-05T00:17:15.504Z"
   },
   {
    "duration": 5121,
    "start_time": "2023-05-05T00:22:19.417Z"
   },
   {
    "duration": 23,
    "start_time": "2023-05-05T00:23:11.380Z"
   },
   {
    "duration": 5902,
    "start_time": "2023-05-05T00:24:09.881Z"
   },
   {
    "duration": 23,
    "start_time": "2023-05-05T00:51:51.377Z"
   },
   {
    "duration": 478,
    "start_time": "2023-05-05T00:52:25.541Z"
   },
   {
    "duration": 5020,
    "start_time": "2023-05-05T19:16:00.661Z"
   },
   {
    "duration": 4003,
    "start_time": "2023-05-05T19:16:09.139Z"
   },
   {
    "duration": 689,
    "start_time": "2023-05-05T19:16:15.287Z"
   },
   {
    "duration": 587,
    "start_time": "2023-05-05T19:16:24.070Z"
   },
   {
    "duration": 1291095,
    "start_time": "2023-05-05T19:16:51.497Z"
   },
   {
    "duration": 112,
    "start_time": "2023-05-05T19:46:29.398Z"
   },
   {
    "duration": 876,
    "start_time": "2023-05-05T19:46:37.603Z"
   },
   {
    "duration": 319,
    "start_time": "2023-05-05T19:46:42.936Z"
   },
   {
    "duration": 12,
    "start_time": "2023-05-05T19:46:49.200Z"
   },
   {
    "duration": 7049,
    "start_time": "2023-05-05T19:47:09.229Z"
   },
   {
    "duration": 431,
    "start_time": "2023-05-05T19:47:22.003Z"
   },
   {
    "duration": 5,
    "start_time": "2023-05-05T19:47:50.503Z"
   },
   {
    "duration": 1998,
    "start_time": "2023-05-05T19:47:54.932Z"
   },
   {
    "duration": 245988,
    "start_time": "2023-05-05T19:48:14.920Z"
   },
   {
    "duration": 614,
    "start_time": "2023-05-05T19:56:23.662Z"
   },
   {
    "duration": 327488,
    "start_time": "2023-05-05T19:56:28.845Z"
   },
   {
    "duration": 961,
    "start_time": "2023-05-05T20:02:07.360Z"
   },
   {
    "duration": 172269,
    "start_time": "2023-05-05T20:02:15.516Z"
   },
   {
    "duration": 802,
    "start_time": "2023-05-05T20:05:52.486Z"
   },
   {
    "duration": 187310,
    "start_time": "2023-05-05T20:06:36.403Z"
   },
   {
    "duration": 75095,
    "start_time": "2023-05-05T20:09:48.269Z"
   },
   {
    "duration": 273549,
    "start_time": "2023-05-05T20:11:09.499Z"
   },
   {
    "duration": 422507,
    "start_time": "2023-05-05T20:15:49.157Z"
   },
   {
    "duration": 474620,
    "start_time": "2023-05-05T20:22:56.317Z"
   },
   {
    "duration": 12,
    "start_time": "2023-05-05T20:45:16.018Z"
   },
   {
    "duration": 17,
    "start_time": "2023-05-05T20:45:30.090Z"
   },
   {
    "duration": 9,
    "start_time": "2023-05-05T20:47:26.578Z"
   },
   {
    "duration": 14,
    "start_time": "2023-05-05T20:48:45.010Z"
   },
   {
    "duration": 15,
    "start_time": "2023-05-05T20:48:53.891Z"
   },
   {
    "duration": 17,
    "start_time": "2023-05-05T20:49:05.249Z"
   },
   {
    "duration": 10,
    "start_time": "2023-05-05T20:49:20.311Z"
   },
   {
    "duration": 11,
    "start_time": "2023-05-05T20:49:24.393Z"
   },
   {
    "duration": 22,
    "start_time": "2023-05-05T20:49:28.449Z"
   },
   {
    "duration": 11,
    "start_time": "2023-05-05T20:49:32.912Z"
   },
   {
    "duration": 10,
    "start_time": "2023-05-05T20:53:38.103Z"
   },
   {
    "duration": 12,
    "start_time": "2023-05-05T20:54:09.517Z"
   },
   {
    "duration": 22,
    "start_time": "2023-05-05T20:57:05.447Z"
   },
   {
    "duration": 2890,
    "start_time": "2023-05-05T20:58:15.488Z"
   },
   {
    "duration": 14,
    "start_time": "2023-05-05T21:08:54.686Z"
   },
   {
    "duration": 79,
    "start_time": "2023-05-05T21:33:49.408Z"
   },
   {
    "duration": 15,
    "start_time": "2023-05-05T21:34:32.985Z"
   },
   {
    "duration": 13,
    "start_time": "2023-05-05T21:35:33.393Z"
   },
   {
    "duration": 12,
    "start_time": "2023-05-05T21:48:55.928Z"
   },
   {
    "duration": 4,
    "start_time": "2023-05-05T22:18:54.558Z"
   },
   {
    "duration": 4,
    "start_time": "2023-05-05T22:19:11.591Z"
   },
   {
    "duration": 18,
    "start_time": "2023-05-05T22:21:04.095Z"
   },
   {
    "duration": 12,
    "start_time": "2023-05-05T22:21:59.073Z"
   },
   {
    "duration": 11,
    "start_time": "2023-05-05T22:22:26.899Z"
   },
   {
    "duration": 5,
    "start_time": "2023-05-05T22:33:38.895Z"
   },
   {
    "duration": 5,
    "start_time": "2023-05-05T22:34:37.271Z"
   },
   {
    "duration": 18,
    "start_time": "2023-05-05T22:35:44.032Z"
   },
   {
    "duration": 4,
    "start_time": "2023-05-05T22:36:44.755Z"
   },
   {
    "duration": 4,
    "start_time": "2023-05-05T22:37:45.982Z"
   },
   {
    "duration": 3,
    "start_time": "2023-05-05T22:39:04.617Z"
   },
   {
    "duration": 3,
    "start_time": "2023-05-05T22:39:31.017Z"
   },
   {
    "duration": 18,
    "start_time": "2023-05-05T22:39:51.060Z"
   },
   {
    "duration": 4,
    "start_time": "2023-05-05T22:40:03.606Z"
   },
   {
    "duration": 17,
    "start_time": "2023-05-05T22:40:46.545Z"
   },
   {
    "duration": 8,
    "start_time": "2023-05-05T22:41:23.744Z"
   },
   {
    "duration": 20,
    "start_time": "2023-05-05T22:44:18.544Z"
   },
   {
    "duration": 12,
    "start_time": "2023-05-05T22:52:27.838Z"
   },
   {
    "duration": 12,
    "start_time": "2023-05-05T22:52:44.853Z"
   },
   {
    "duration": 11,
    "start_time": "2023-05-05T22:52:52.237Z"
   },
   {
    "duration": 66,
    "start_time": "2023-05-05T23:21:11.995Z"
   },
   {
    "duration": 19,
    "start_time": "2023-05-05T23:22:25.948Z"
   },
   {
    "duration": 41,
    "start_time": "2023-05-05T23:23:15.507Z"
   },
   {
    "duration": 12339,
    "start_time": "2023-05-05T23:23:26.816Z"
   },
   {
    "duration": 4,
    "start_time": "2023-05-05T23:28:29.047Z"
   },
   {
    "duration": 14,
    "start_time": "2023-05-06T01:40:26.790Z"
   },
   {
    "duration": 6385,
    "start_time": "2023-05-06T02:21:13.987Z"
   },
   {
    "duration": 3011,
    "start_time": "2023-05-06T02:21:20.374Z"
   },
   {
    "duration": 546,
    "start_time": "2023-05-06T02:21:23.387Z"
   },
   {
    "duration": 628,
    "start_time": "2023-05-06T02:21:23.935Z"
   },
   {
    "duration": 1039834,
    "start_time": "2023-05-06T02:21:24.565Z"
   },
   {
    "duration": 95,
    "start_time": "2023-05-06T02:38:44.400Z"
   },
   {
    "duration": 687,
    "start_time": "2023-05-06T02:38:44.497Z"
   },
   {
    "duration": 277,
    "start_time": "2023-05-06T02:38:45.185Z"
   },
   {
    "duration": 12,
    "start_time": "2023-05-06T02:38:45.463Z"
   },
   {
    "duration": 5562,
    "start_time": "2023-05-06T02:38:45.477Z"
   },
   {
    "duration": 4,
    "start_time": "2023-05-06T02:38:51.041Z"
   },
   {
    "duration": 1831,
    "start_time": "2023-05-06T02:38:51.047Z"
   },
   {
    "duration": 250244,
    "start_time": "2023-05-06T02:38:52.880Z"
   },
   {
    "duration": 435,
    "start_time": "2023-05-06T02:43:03.126Z"
   },
   {
    "duration": 269161,
    "start_time": "2023-05-06T02:43:03.562Z"
   },
   {
    "duration": 819,
    "start_time": "2023-05-06T02:47:32.725Z"
   },
   {
    "duration": 141053,
    "start_time": "2023-05-06T02:47:33.545Z"
   },
   {
    "duration": 706,
    "start_time": "2023-05-06T02:49:54.599Z"
   },
   {
    "duration": 7154696,
    "start_time": "2023-05-06T02:49:55.306Z"
   },
   {
    "duration": 710,
    "start_time": "2023-05-06T04:49:10.005Z"
   },
   {
    "duration": 11,
    "start_time": "2023-05-06T04:49:10.717Z"
   },
   {
    "duration": 27,
    "start_time": "2023-05-06T04:49:10.729Z"
   },
   {
    "duration": 4843,
    "start_time": "2023-05-10T07:07:41.662Z"
   },
   {
    "duration": 5,
    "start_time": "2023-05-10T07:07:50.634Z"
   },
   {
    "duration": 3218,
    "start_time": "2023-05-10T07:07:59.071Z"
   },
   {
    "duration": 527,
    "start_time": "2023-05-10T07:08:04.101Z"
   },
   {
    "duration": 719,
    "start_time": "2023-05-10T07:08:13.944Z"
   },
   {
    "duration": 282,
    "start_time": "2023-05-10T07:08:44.851Z"
   },
   {
    "duration": 1072511,
    "start_time": "2023-05-10T07:09:09.191Z"
   }
  ],
  "kernelspec": {
   "display_name": "Python 3 (ipykernel)",
   "language": "python",
   "name": "python3"
  },
  "language_info": {
   "codemirror_mode": {
    "name": "ipython",
    "version": 3
   },
   "file_extension": ".py",
   "mimetype": "text/x-python",
   "name": "python",
   "nbconvert_exporter": "python",
   "pygments_lexer": "ipython3",
   "version": "3.9.5"
  },
  "toc": {
   "base_numbering": 1,
   "nav_menu": {},
   "number_sections": true,
   "sideBar": true,
   "skip_h1_title": true,
   "title_cell": "Содержание",
   "title_sidebar": "Contents",
   "toc_cell": true,
   "toc_position": {
    "height": "calc(100% - 180px)",
    "left": "10px",
    "top": "150px",
    "width": "302.391px"
   },
   "toc_section_display": true,
   "toc_window_display": false
  }
 },
 "nbformat": 4,
 "nbformat_minor": 2
}
