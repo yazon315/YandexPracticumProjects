{
 "cells": [
  {
   "cell_type": "markdown",
   "id": "2256c4a9",
   "metadata": {},
   "source": [
    "# Проект: Исследование надежности заемщиков банка"
   ]
  },
  {
   "cell_type": "markdown",
   "id": "e7b574ec",
   "metadata": {},
   "source": [
    "**Оглавление**<a id='toc0_'></a>    \n",
    "- 1. [Загрузка и изучение данных](#toc1_)    \n",
    "  - 1.1. [Вывод по результатам раздела](#toc1_1_)    \n",
    "- 2. [Предобработка данных](#toc2_)    \n",
    "  - 2.1. [Удаление пропусков](#toc2_1_)    \n",
    "  - 2.2. [Обработка аномальных значений](#toc2_2_)    \n",
    "  - 2.3. [Удаление пропусков (продолжение)](#toc2_3_)    \n",
    "  - 2.4. [Изменение типов данных](#toc2_4_)    \n",
    "  - 2.5. [Обработка дубликатов](#toc2_5_)    \n",
    "  - 2.6. [Категоризация данных](#toc2_6_)    \n",
    "- 3. [Исследование данных и ответы на вопросы](#toc3_)    \n",
    "  - 3.1. [Есть ли зависимость между количеством детей и возвратом кредита в срок?](#toc3_1_)    \n",
    "  - 3.2. [Есть ли зависимость между семейным положением и возвратом кредита в срок?](#toc3_2_)    \n",
    "  - 3.3. [Есть ли зависимость между уровнем дохода и возвратом кредита в срок?](#toc3_3_)    \n",
    "  - 3.4. [Как разные цели кредита влияют на его возврат в срок?](#toc3_4_)    \n",
    "  - 3.5. [Приведите возможные причины появления пропусков в исходных данных.](#toc3_5_)    \n",
    "  - 3.6. [Объясните, почему заполнить пропуски медианным значением — лучшее решение для количественных переменных.](#toc3_6_)    \n",
    "- 4. [Общий вывод](#toc4_)    \n",
    "\n",
    "<!-- vscode-jupyter-toc-config\n",
    "\tnumbering=true\n",
    "\tanchor=true\n",
    "\tflat=false\n",
    "\tminLevel=2\n",
    "\tmaxLevel=6\n",
    "\t/vscode-jupyter-toc-config -->\n",
    "<!-- THIS CELL WILL BE REPLACED ON TOC UPDATE. DO NOT WRITE YOUR TEXT IN THIS CELL -->"
   ]
  },
  {
   "cell_type": "markdown",
   "id": "fa23bcc9",
   "metadata": {},
   "source": [
    "**Задание:**\n",
    "\n",
    "Заказчик — кредитный отдел банка. Нужно разобраться, влияет ли семейное положение и количество детей клиента на факт погашения кредита в срок. Входные данные от банка — статистика о платёжеспособности клиентов.\n",
    "\n",
    "Результаты исследования будут учтены при построении модели *кредитного скоринга* — специальной системы, которая оценивает способность потенциального заёмщика вернуть кредит банку.\n",
    "\n",
    "План работы:\n",
    "1. Загрузка и изучение данных\n",
    "2. Предобработка данных\n",
    "3. Исследование данных и ответы на вопросы\n",
    "4. Общий вывод\n",
    "\n",
    "\n",
    "> Часть пунктов проекта оформлены в виде выполненных заданий на платформа Яндекс Практикум, включенных в общий проект."
   ]
  },
  {
   "cell_type": "markdown",
   "metadata": {},
   "source": [
    "## 1. <a id='toc1_'></a>[Загрузка и изучение данных](#toc0_)"
   ]
  },
  {
   "cell_type": "markdown",
   "id": "74ff086b",
   "metadata": {},
   "source": [
    "**Задание 1. Импортируйте библиотеку pandas. Считайте данные из csv-файла в датафрейм и сохраните в переменную `data`. Путь к файлу:**\n",
    "\n",
    "`/datasets/data.csv`"
   ]
  },
  {
   "cell_type": "code",
   "execution_count": 1,
   "id": "5e81e373",
   "metadata": {},
   "outputs": [],
   "source": [
    "import pandas as pd\n",
    "from IPython.display import display"
   ]
  },
  {
   "cell_type": "code",
   "execution_count": 2,
   "id": "57d719b7",
   "metadata": {
    "deletable": false,
    "id": "7bcf75c9"
   },
   "outputs": [],
   "source": [
    "try:\n",
    "    data = pd.read_csv('/datasets/data.csv')\n",
    "except:\n",
    "    data = pd.read_csv('https://code.s3.yandex.net/datasets/data.csv')"
   ]
  },
  {
   "cell_type": "markdown",
   "id": "a4ffab97",
   "metadata": {
    "deletable": false,
    "editable": false,
    "id": "b8038fe3"
   },
   "source": [
    "**Задание 2. Выведите первые 20 строчек датафрейма `data` на экран.**"
   ]
  },
  {
   "cell_type": "code",
   "execution_count": 3,
   "id": "b79df240",
   "metadata": {
    "deletable": false,
    "id": "2a7cab99",
    "outputId": "1a8f3ef2-d323-4ec2-ddf7-89670b5944c4"
   },
   "outputs": [
    {
     "data": {
      "text/html": [
       "<div>\n",
       "<style scoped>\n",
       "    .dataframe tbody tr th:only-of-type {\n",
       "        vertical-align: middle;\n",
       "    }\n",
       "\n",
       "    .dataframe tbody tr th {\n",
       "        vertical-align: top;\n",
       "    }\n",
       "\n",
       "    .dataframe thead th {\n",
       "        text-align: right;\n",
       "    }\n",
       "</style>\n",
       "<table border=\"1\" class=\"dataframe\">\n",
       "  <thead>\n",
       "    <tr style=\"text-align: right;\">\n",
       "      <th></th>\n",
       "      <th>children</th>\n",
       "      <th>days_employed</th>\n",
       "      <th>dob_years</th>\n",
       "      <th>education</th>\n",
       "      <th>education_id</th>\n",
       "      <th>family_status</th>\n",
       "      <th>family_status_id</th>\n",
       "      <th>gender</th>\n",
       "      <th>income_type</th>\n",
       "      <th>debt</th>\n",
       "      <th>total_income</th>\n",
       "      <th>purpose</th>\n",
       "    </tr>\n",
       "  </thead>\n",
       "  <tbody>\n",
       "    <tr>\n",
       "      <th>0</th>\n",
       "      <td>1</td>\n",
       "      <td>-8437.673028</td>\n",
       "      <td>42</td>\n",
       "      <td>высшее</td>\n",
       "      <td>0</td>\n",
       "      <td>женат / замужем</td>\n",
       "      <td>0</td>\n",
       "      <td>F</td>\n",
       "      <td>сотрудник</td>\n",
       "      <td>0</td>\n",
       "      <td>253875.639453</td>\n",
       "      <td>покупка жилья</td>\n",
       "    </tr>\n",
       "    <tr>\n",
       "      <th>1</th>\n",
       "      <td>1</td>\n",
       "      <td>-4024.803754</td>\n",
       "      <td>36</td>\n",
       "      <td>среднее</td>\n",
       "      <td>1</td>\n",
       "      <td>женат / замужем</td>\n",
       "      <td>0</td>\n",
       "      <td>F</td>\n",
       "      <td>сотрудник</td>\n",
       "      <td>0</td>\n",
       "      <td>112080.014102</td>\n",
       "      <td>приобретение автомобиля</td>\n",
       "    </tr>\n",
       "    <tr>\n",
       "      <th>2</th>\n",
       "      <td>0</td>\n",
       "      <td>-5623.422610</td>\n",
       "      <td>33</td>\n",
       "      <td>Среднее</td>\n",
       "      <td>1</td>\n",
       "      <td>женат / замужем</td>\n",
       "      <td>0</td>\n",
       "      <td>M</td>\n",
       "      <td>сотрудник</td>\n",
       "      <td>0</td>\n",
       "      <td>145885.952297</td>\n",
       "      <td>покупка жилья</td>\n",
       "    </tr>\n",
       "    <tr>\n",
       "      <th>3</th>\n",
       "      <td>3</td>\n",
       "      <td>-4124.747207</td>\n",
       "      <td>32</td>\n",
       "      <td>среднее</td>\n",
       "      <td>1</td>\n",
       "      <td>женат / замужем</td>\n",
       "      <td>0</td>\n",
       "      <td>M</td>\n",
       "      <td>сотрудник</td>\n",
       "      <td>0</td>\n",
       "      <td>267628.550329</td>\n",
       "      <td>дополнительное образование</td>\n",
       "    </tr>\n",
       "    <tr>\n",
       "      <th>4</th>\n",
       "      <td>0</td>\n",
       "      <td>340266.072047</td>\n",
       "      <td>53</td>\n",
       "      <td>среднее</td>\n",
       "      <td>1</td>\n",
       "      <td>гражданский брак</td>\n",
       "      <td>1</td>\n",
       "      <td>F</td>\n",
       "      <td>пенсионер</td>\n",
       "      <td>0</td>\n",
       "      <td>158616.077870</td>\n",
       "      <td>сыграть свадьбу</td>\n",
       "    </tr>\n",
       "    <tr>\n",
       "      <th>5</th>\n",
       "      <td>0</td>\n",
       "      <td>-926.185831</td>\n",
       "      <td>27</td>\n",
       "      <td>высшее</td>\n",
       "      <td>0</td>\n",
       "      <td>гражданский брак</td>\n",
       "      <td>1</td>\n",
       "      <td>M</td>\n",
       "      <td>компаньон</td>\n",
       "      <td>0</td>\n",
       "      <td>255763.565419</td>\n",
       "      <td>покупка жилья</td>\n",
       "    </tr>\n",
       "    <tr>\n",
       "      <th>6</th>\n",
       "      <td>0</td>\n",
       "      <td>-2879.202052</td>\n",
       "      <td>43</td>\n",
       "      <td>высшее</td>\n",
       "      <td>0</td>\n",
       "      <td>женат / замужем</td>\n",
       "      <td>0</td>\n",
       "      <td>F</td>\n",
       "      <td>компаньон</td>\n",
       "      <td>0</td>\n",
       "      <td>240525.971920</td>\n",
       "      <td>операции с жильем</td>\n",
       "    </tr>\n",
       "    <tr>\n",
       "      <th>7</th>\n",
       "      <td>0</td>\n",
       "      <td>-152.779569</td>\n",
       "      <td>50</td>\n",
       "      <td>СРЕДНЕЕ</td>\n",
       "      <td>1</td>\n",
       "      <td>женат / замужем</td>\n",
       "      <td>0</td>\n",
       "      <td>M</td>\n",
       "      <td>сотрудник</td>\n",
       "      <td>0</td>\n",
       "      <td>135823.934197</td>\n",
       "      <td>образование</td>\n",
       "    </tr>\n",
       "    <tr>\n",
       "      <th>8</th>\n",
       "      <td>2</td>\n",
       "      <td>-6929.865299</td>\n",
       "      <td>35</td>\n",
       "      <td>ВЫСШЕЕ</td>\n",
       "      <td>0</td>\n",
       "      <td>гражданский брак</td>\n",
       "      <td>1</td>\n",
       "      <td>F</td>\n",
       "      <td>сотрудник</td>\n",
       "      <td>0</td>\n",
       "      <td>95856.832424</td>\n",
       "      <td>на проведение свадьбы</td>\n",
       "    </tr>\n",
       "    <tr>\n",
       "      <th>9</th>\n",
       "      <td>0</td>\n",
       "      <td>-2188.756445</td>\n",
       "      <td>41</td>\n",
       "      <td>среднее</td>\n",
       "      <td>1</td>\n",
       "      <td>женат / замужем</td>\n",
       "      <td>0</td>\n",
       "      <td>M</td>\n",
       "      <td>сотрудник</td>\n",
       "      <td>0</td>\n",
       "      <td>144425.938277</td>\n",
       "      <td>покупка жилья для семьи</td>\n",
       "    </tr>\n",
       "    <tr>\n",
       "      <th>10</th>\n",
       "      <td>2</td>\n",
       "      <td>-4171.483647</td>\n",
       "      <td>36</td>\n",
       "      <td>высшее</td>\n",
       "      <td>0</td>\n",
       "      <td>женат / замужем</td>\n",
       "      <td>0</td>\n",
       "      <td>M</td>\n",
       "      <td>компаньон</td>\n",
       "      <td>0</td>\n",
       "      <td>113943.491460</td>\n",
       "      <td>покупка недвижимости</td>\n",
       "    </tr>\n",
       "    <tr>\n",
       "      <th>11</th>\n",
       "      <td>0</td>\n",
       "      <td>-792.701887</td>\n",
       "      <td>40</td>\n",
       "      <td>среднее</td>\n",
       "      <td>1</td>\n",
       "      <td>женат / замужем</td>\n",
       "      <td>0</td>\n",
       "      <td>F</td>\n",
       "      <td>сотрудник</td>\n",
       "      <td>0</td>\n",
       "      <td>77069.234271</td>\n",
       "      <td>покупка коммерческой недвижимости</td>\n",
       "    </tr>\n",
       "    <tr>\n",
       "      <th>12</th>\n",
       "      <td>0</td>\n",
       "      <td>NaN</td>\n",
       "      <td>65</td>\n",
       "      <td>среднее</td>\n",
       "      <td>1</td>\n",
       "      <td>гражданский брак</td>\n",
       "      <td>1</td>\n",
       "      <td>M</td>\n",
       "      <td>пенсионер</td>\n",
       "      <td>0</td>\n",
       "      <td>NaN</td>\n",
       "      <td>сыграть свадьбу</td>\n",
       "    </tr>\n",
       "    <tr>\n",
       "      <th>13</th>\n",
       "      <td>0</td>\n",
       "      <td>-1846.641941</td>\n",
       "      <td>54</td>\n",
       "      <td>неоконченное высшее</td>\n",
       "      <td>2</td>\n",
       "      <td>женат / замужем</td>\n",
       "      <td>0</td>\n",
       "      <td>F</td>\n",
       "      <td>сотрудник</td>\n",
       "      <td>0</td>\n",
       "      <td>130458.228857</td>\n",
       "      <td>приобретение автомобиля</td>\n",
       "    </tr>\n",
       "    <tr>\n",
       "      <th>14</th>\n",
       "      <td>0</td>\n",
       "      <td>-1844.956182</td>\n",
       "      <td>56</td>\n",
       "      <td>высшее</td>\n",
       "      <td>0</td>\n",
       "      <td>гражданский брак</td>\n",
       "      <td>1</td>\n",
       "      <td>F</td>\n",
       "      <td>компаньон</td>\n",
       "      <td>1</td>\n",
       "      <td>165127.911772</td>\n",
       "      <td>покупка жилой недвижимости</td>\n",
       "    </tr>\n",
       "    <tr>\n",
       "      <th>15</th>\n",
       "      <td>1</td>\n",
       "      <td>-972.364419</td>\n",
       "      <td>26</td>\n",
       "      <td>среднее</td>\n",
       "      <td>1</td>\n",
       "      <td>женат / замужем</td>\n",
       "      <td>0</td>\n",
       "      <td>F</td>\n",
       "      <td>сотрудник</td>\n",
       "      <td>0</td>\n",
       "      <td>116820.904450</td>\n",
       "      <td>строительство собственной недвижимости</td>\n",
       "    </tr>\n",
       "    <tr>\n",
       "      <th>16</th>\n",
       "      <td>0</td>\n",
       "      <td>-1719.934226</td>\n",
       "      <td>35</td>\n",
       "      <td>среднее</td>\n",
       "      <td>1</td>\n",
       "      <td>женат / замужем</td>\n",
       "      <td>0</td>\n",
       "      <td>F</td>\n",
       "      <td>сотрудник</td>\n",
       "      <td>0</td>\n",
       "      <td>289202.704229</td>\n",
       "      <td>недвижимость</td>\n",
       "    </tr>\n",
       "    <tr>\n",
       "      <th>17</th>\n",
       "      <td>0</td>\n",
       "      <td>-2369.999720</td>\n",
       "      <td>33</td>\n",
       "      <td>высшее</td>\n",
       "      <td>0</td>\n",
       "      <td>гражданский брак</td>\n",
       "      <td>1</td>\n",
       "      <td>M</td>\n",
       "      <td>сотрудник</td>\n",
       "      <td>0</td>\n",
       "      <td>90410.586745</td>\n",
       "      <td>строительство недвижимости</td>\n",
       "    </tr>\n",
       "    <tr>\n",
       "      <th>18</th>\n",
       "      <td>0</td>\n",
       "      <td>400281.136913</td>\n",
       "      <td>53</td>\n",
       "      <td>среднее</td>\n",
       "      <td>1</td>\n",
       "      <td>вдовец / вдова</td>\n",
       "      <td>2</td>\n",
       "      <td>F</td>\n",
       "      <td>пенсионер</td>\n",
       "      <td>0</td>\n",
       "      <td>56823.777243</td>\n",
       "      <td>на покупку подержанного автомобиля</td>\n",
       "    </tr>\n",
       "    <tr>\n",
       "      <th>19</th>\n",
       "      <td>0</td>\n",
       "      <td>-10038.818549</td>\n",
       "      <td>48</td>\n",
       "      <td>СРЕДНЕЕ</td>\n",
       "      <td>1</td>\n",
       "      <td>в разводе</td>\n",
       "      <td>3</td>\n",
       "      <td>F</td>\n",
       "      <td>сотрудник</td>\n",
       "      <td>0</td>\n",
       "      <td>242831.107982</td>\n",
       "      <td>на покупку своего автомобиля</td>\n",
       "    </tr>\n",
       "  </tbody>\n",
       "</table>\n",
       "</div>"
      ],
      "text/plain": [
       "    children  days_employed  dob_years            education  education_id  \\\n",
       "0          1   -8437.673028         42               высшее             0   \n",
       "1          1   -4024.803754         36              среднее             1   \n",
       "2          0   -5623.422610         33              Среднее             1   \n",
       "3          3   -4124.747207         32              среднее             1   \n",
       "4          0  340266.072047         53              среднее             1   \n",
       "5          0    -926.185831         27               высшее             0   \n",
       "6          0   -2879.202052         43               высшее             0   \n",
       "7          0    -152.779569         50              СРЕДНЕЕ             1   \n",
       "8          2   -6929.865299         35               ВЫСШЕЕ             0   \n",
       "9          0   -2188.756445         41              среднее             1   \n",
       "10         2   -4171.483647         36               высшее             0   \n",
       "11         0    -792.701887         40              среднее             1   \n",
       "12         0            NaN         65              среднее             1   \n",
       "13         0   -1846.641941         54  неоконченное высшее             2   \n",
       "14         0   -1844.956182         56               высшее             0   \n",
       "15         1    -972.364419         26              среднее             1   \n",
       "16         0   -1719.934226         35              среднее             1   \n",
       "17         0   -2369.999720         33               высшее             0   \n",
       "18         0  400281.136913         53              среднее             1   \n",
       "19         0  -10038.818549         48              СРЕДНЕЕ             1   \n",
       "\n",
       "       family_status  family_status_id gender income_type  debt  \\\n",
       "0    женат / замужем                 0      F   сотрудник     0   \n",
       "1    женат / замужем                 0      F   сотрудник     0   \n",
       "2    женат / замужем                 0      M   сотрудник     0   \n",
       "3    женат / замужем                 0      M   сотрудник     0   \n",
       "4   гражданский брак                 1      F   пенсионер     0   \n",
       "5   гражданский брак                 1      M   компаньон     0   \n",
       "6    женат / замужем                 0      F   компаньон     0   \n",
       "7    женат / замужем                 0      M   сотрудник     0   \n",
       "8   гражданский брак                 1      F   сотрудник     0   \n",
       "9    женат / замужем                 0      M   сотрудник     0   \n",
       "10   женат / замужем                 0      M   компаньон     0   \n",
       "11   женат / замужем                 0      F   сотрудник     0   \n",
       "12  гражданский брак                 1      M   пенсионер     0   \n",
       "13   женат / замужем                 0      F   сотрудник     0   \n",
       "14  гражданский брак                 1      F   компаньон     1   \n",
       "15   женат / замужем                 0      F   сотрудник     0   \n",
       "16   женат / замужем                 0      F   сотрудник     0   \n",
       "17  гражданский брак                 1      M   сотрудник     0   \n",
       "18    вдовец / вдова                 2      F   пенсионер     0   \n",
       "19         в разводе                 3      F   сотрудник     0   \n",
       "\n",
       "     total_income                                 purpose  \n",
       "0   253875.639453                           покупка жилья  \n",
       "1   112080.014102                 приобретение автомобиля  \n",
       "2   145885.952297                           покупка жилья  \n",
       "3   267628.550329              дополнительное образование  \n",
       "4   158616.077870                         сыграть свадьбу  \n",
       "5   255763.565419                           покупка жилья  \n",
       "6   240525.971920                       операции с жильем  \n",
       "7   135823.934197                             образование  \n",
       "8    95856.832424                   на проведение свадьбы  \n",
       "9   144425.938277                 покупка жилья для семьи  \n",
       "10  113943.491460                    покупка недвижимости  \n",
       "11   77069.234271       покупка коммерческой недвижимости  \n",
       "12            NaN                         сыграть свадьбу  \n",
       "13  130458.228857                 приобретение автомобиля  \n",
       "14  165127.911772              покупка жилой недвижимости  \n",
       "15  116820.904450  строительство собственной недвижимости  \n",
       "16  289202.704229                            недвижимость  \n",
       "17   90410.586745              строительство недвижимости  \n",
       "18   56823.777243      на покупку подержанного автомобиля  \n",
       "19  242831.107982            на покупку своего автомобиля  "
      ]
     },
     "execution_count": 3,
     "metadata": {},
     "output_type": "execute_result"
    }
   ],
   "source": [
    "data.head(20)"
   ]
  },
  {
   "cell_type": "markdown",
   "id": "719b9cce",
   "metadata": {
    "deletable": false,
    "editable": false,
    "id": "1c12e233"
   },
   "source": [
    "**Задание 3. Выведите основную информацию о датафрейме с помощью метода `info()`.**"
   ]
  },
  {
   "cell_type": "code",
   "execution_count": 4,
   "id": "e2acf23f",
   "metadata": {},
   "outputs": [
    {
     "name": "stdout",
     "output_type": "stream",
     "text": [
      "<class 'pandas.core.frame.DataFrame'>\n",
      "RangeIndex: 21525 entries, 0 to 21524\n",
      "Data columns (total 12 columns):\n",
      " #   Column            Non-Null Count  Dtype  \n",
      "---  ------            --------------  -----  \n",
      " 0   children          21525 non-null  int64  \n",
      " 1   days_employed     19351 non-null  float64\n",
      " 2   dob_years         21525 non-null  int64  \n",
      " 3   education         21525 non-null  object \n",
      " 4   education_id      21525 non-null  int64  \n",
      " 5   family_status     21525 non-null  object \n",
      " 6   family_status_id  21525 non-null  int64  \n",
      " 7   gender            21525 non-null  object \n",
      " 8   income_type       21525 non-null  object \n",
      " 9   debt              21525 non-null  int64  \n",
      " 10  total_income      19351 non-null  float64\n",
      " 11  purpose           21525 non-null  object \n",
      "dtypes: float64(2), int64(5), object(5)\n",
      "memory usage: 2.0+ MB\n"
     ]
    }
   ],
   "source": [
    "data.info()"
   ]
  },
  {
   "cell_type": "markdown",
   "id": "43db4e7a",
   "metadata": {},
   "source": [
    "### 1.1. <a id='toc1_1_'></a>[Вывод по результатам раздела](#toc0_)\n",
    "\n",
    "Выполнена загрузка и первичное исследование данных. Имеющихся данных для исследования достаточно (более 20 тыс. строк), но необходимо выполнить их первичную обработку по удалению и корректировке пропусков, дубликатов и некорректных данных."
   ]
  },
  {
   "cell_type": "markdown",
   "id": "6b6b9fe8",
   "metadata": {},
   "source": [
    "## 2. <a id='toc2_'></a>[Предобработка данных](#toc0_)"
   ]
  },
  {
   "cell_type": "markdown",
   "metadata": {},
   "source": [
    "### 2.1. <a id='toc2_1_'></a>[Удаление пропусков](#toc0_)"
   ]
  },
  {
   "cell_type": "markdown",
   "id": "775581e7",
   "metadata": {},
   "source": [
    "**Задание 4. Выведите количество пропущенных значений для каждого столбца. Используйте комбинацию двух методов.**"
   ]
  },
  {
   "cell_type": "code",
   "execution_count": 5,
   "id": "14658dbe",
   "metadata": {
    "deletable": false,
    "id": "7f9b2309",
    "outputId": "81f4d817-781c-465c-ed15-91ce4446810d"
   },
   "outputs": [
    {
     "data": {
      "text/plain": [
       "children               0\n",
       "days_employed       2174\n",
       "dob_years              0\n",
       "education              0\n",
       "education_id           0\n",
       "family_status          0\n",
       "family_status_id       0\n",
       "gender                 0\n",
       "income_type            0\n",
       "debt                   0\n",
       "total_income        2174\n",
       "purpose                0\n",
       "dtype: int64"
      ]
     },
     "execution_count": 5,
     "metadata": {},
     "output_type": "execute_result"
    }
   ],
   "source": [
    "data.isna().sum()"
   ]
  },
  {
   "cell_type": "markdown",
   "id": "893df396",
   "metadata": {
    "deletable": false,
    "editable": false,
    "id": "db86e27b"
   },
   "source": [
    "**Задание 5. В двух столбцах есть пропущенные значения. Один из них — `days_employed`. Пропуски в этом столбце вы обработаете на следующем этапе. Другой столбец с пропущенными значениями — `total_income` — хранит данные о доходах. На сумму дохода сильнее всего влияет тип занятости, поэтому заполнить пропуски в этом столбце нужно медианным значением по каждому типу из столбца `income_type`. Например, у человека с типом занятости `сотрудник` пропуск в столбце `total_income` должен быть заполнен медианным доходом среди всех записей с тем же типом.**"
   ]
  },
  {
   "cell_type": "code",
   "execution_count": 6,
   "id": "af3c5d31",
   "metadata": {},
   "outputs": [],
   "source": [
    "for t in data['income_type'].unique():\n",
    "    data.loc[(data['income_type'] == t) & (data['total_income'].isna()), 'total_income'] = \\\n",
    "    data.loc[(data['income_type'] == t), 'total_income'].median()"
   ]
  },
  {
   "cell_type": "markdown",
   "metadata": {},
   "source": [
    "### 2.2. <a id='toc2_2_'></a>[Обработка аномальных значений](#toc0_)"
   ]
  },
  {
   "cell_type": "markdown",
   "id": "bf4b0d46",
   "metadata": {},
   "source": [
    "**Задание 6. В данных могут встречаться артефакты (аномалии) — значения, которые не отражают действительность и появились по какой-то ошибке. таким артефактом будет отрицательное количество дней трудового стажа в столбце `days_employed`. Для реальных данных это нормально. Обработайте значения в этом столбце: замените все отрицательные значения положительными с помощью метода `abs()`.**"
   ]
  },
  {
   "cell_type": "code",
   "execution_count": 7,
   "id": "9ed1bcbd",
   "metadata": {
    "deletable": false,
    "id": "f6f055bf"
   },
   "outputs": [],
   "source": [
    "data['days_employed'] = data['days_employed'].abs()"
   ]
  },
  {
   "cell_type": "markdown",
   "id": "87f40166",
   "metadata": {
    "deletable": false,
    "editable": false,
    "id": "6107dd2f"
   },
   "source": [
    "**Задание 7. Для каждого типа занятости выведите медианное значение трудового стажа `days_employed` в днях.**"
   ]
  },
  {
   "cell_type": "code",
   "execution_count": 8,
   "id": "20af7567",
   "metadata": {
    "deletable": false,
    "id": "85a5faf6",
    "outputId": "801ef80e-522b-4668-f34e-565af7432bcf"
   },
   "outputs": [
    {
     "data": {
      "text/plain": [
       "income_type\n",
       "безработный        366413.652744\n",
       "в декрете            3296.759962\n",
       "госслужащий          2689.368353\n",
       "компаньон            1547.382223\n",
       "пенсионер          365213.306266\n",
       "предприниматель       520.848083\n",
       "сотрудник            1574.202821\n",
       "студент               578.751554\n",
       "Name: days_employed, dtype: float64"
      ]
     },
     "execution_count": 8,
     "metadata": {},
     "output_type": "execute_result"
    }
   ],
   "source": [
    "data.groupby('income_type')['days_employed'].agg('median')"
   ]
  },
  {
   "cell_type": "markdown",
   "id": "4e2167ee",
   "metadata": {
    "deletable": false,
    "editable": false,
    "id": "38d1a030"
   },
   "source": [
    "У двух типов (безработные и пенсионеры) получатся аномально большие значения. Исправить такие значения сложно, поэтому оставьте их как есть. Тем более этот столбец не понадобится вам для исследования."
   ]
  },
  {
   "cell_type": "markdown",
   "id": "5c1f4896",
   "metadata": {
    "deletable": false,
    "editable": false,
    "id": "d8a9f147"
   },
   "source": [
    "**Задание 8. Выведите перечень уникальных значений столбца `children`.**"
   ]
  },
  {
   "cell_type": "code",
   "execution_count": 9,
   "id": "3fb07576",
   "metadata": {
    "deletable": false,
    "id": "ef5056eb",
    "outputId": "6975b15c-7f95-4697-d16d-a0c79b657b03"
   },
   "outputs": [
    {
     "data": {
      "text/plain": [
       "array([ 1,  0,  3,  2, -1,  4, 20,  5])"
      ]
     },
     "execution_count": 9,
     "metadata": {},
     "output_type": "execute_result"
    }
   ],
   "source": [
    "data['children'].unique()"
   ]
  },
  {
   "cell_type": "markdown",
   "id": "c7f3d8ab",
   "metadata": {
    "deletable": false,
    "editable": false,
    "id": "40b9ebf2"
   },
   "source": [
    "**Задание 9. В столбце `children` есть два аномальных значения. Удалите строки, в которых встречаются такие аномальные значения из датафрейма `data`.**"
   ]
  },
  {
   "cell_type": "code",
   "execution_count": 10,
   "id": "78584052",
   "metadata": {
    "deletable": false,
    "id": "3ff9801d"
   },
   "outputs": [],
   "source": [
    "data = data[(data['children'] != -1) & (data['children'] != 20)]"
   ]
  },
  {
   "cell_type": "markdown",
   "id": "93088c3e",
   "metadata": {
    "deletable": false,
    "editable": false,
    "id": "bbc4d0ce"
   },
   "source": [
    "**Задание 10. Ещё раз выведите перечень уникальных значений столбца `children`, чтобы убедиться, что артефакты удалены.**"
   ]
  },
  {
   "cell_type": "code",
   "execution_count": 11,
   "id": "4eec3a49",
   "metadata": {},
   "outputs": [
    {
     "data": {
      "text/plain": [
       "array([1, 0, 3, 2, 4, 5])"
      ]
     },
     "execution_count": 11,
     "metadata": {},
     "output_type": "execute_result"
    }
   ],
   "source": [
    "data['children'].unique()"
   ]
  },
  {
   "cell_type": "markdown",
   "metadata": {},
   "source": [
    "### 2.3. <a id='toc2_3_'></a>[Удаление пропусков (продолжение)](#toc0_)"
   ]
  },
  {
   "cell_type": "markdown",
   "id": "54fae62c",
   "metadata": {},
   "source": [
    "**Задание 11. Заполните пропуски в столбце `days_employed` медианными значениями по каждого типа занятости `income_type`.**"
   ]
  },
  {
   "cell_type": "code",
   "execution_count": 12,
   "id": "1864a905",
   "metadata": {
    "deletable": false,
    "id": "af6b1a7e"
   },
   "outputs": [],
   "source": [
    "for t in data['income_type'].unique():\n",
    "    data.loc[(data['income_type'] == t) & (data['days_employed'].isna()), 'days_employed'] = \\\n",
    "    data.loc[(data['income_type'] == t), 'days_employed'].median()"
   ]
  },
  {
   "cell_type": "markdown",
   "id": "92d99ad3",
   "metadata": {
    "deletable": false,
    "editable": false,
    "id": "2753f40d"
   },
   "source": [
    "**Задание 12. Убедитесь, что все пропуски заполнены. Проверьте себя и ещё раз выведите количество пропущенных значений для каждого столбца с помощью двух методов.**"
   ]
  },
  {
   "cell_type": "code",
   "execution_count": 13,
   "id": "3fa4b70a",
   "metadata": {},
   "outputs": [
    {
     "data": {
      "text/plain": [
       "children            0\n",
       "days_employed       0\n",
       "dob_years           0\n",
       "education           0\n",
       "education_id        0\n",
       "family_status       0\n",
       "family_status_id    0\n",
       "gender              0\n",
       "income_type         0\n",
       "debt                0\n",
       "total_income        0\n",
       "purpose             0\n",
       "dtype: int64"
      ]
     },
     "execution_count": 13,
     "metadata": {},
     "output_type": "execute_result"
    }
   ],
   "source": [
    "data.isna().sum()"
   ]
  },
  {
   "cell_type": "markdown",
   "metadata": {},
   "source": [
    "### 2.4. <a id='toc2_4_'></a>[Изменение типов данных](#toc0_)"
   ]
  },
  {
   "cell_type": "markdown",
   "id": "e368c220",
   "metadata": {},
   "source": [
    "**Задание 13. Замените вещественный тип данных в столбце `total_income` на целочисленный с помощью метода `astype()`.**"
   ]
  },
  {
   "cell_type": "code",
   "execution_count": 14,
   "id": "172ef656",
   "metadata": {},
   "outputs": [],
   "source": [
    "data['total_income'] = data['total_income'].astype(int)"
   ]
  },
  {
   "cell_type": "markdown",
   "metadata": {},
   "source": [
    "### 2.5. <a id='toc2_5_'></a>[Обработка дубликатов](#toc0_)"
   ]
  },
  {
   "cell_type": "markdown",
   "id": "56f71bb3",
   "metadata": {},
   "source": [
    "**Задание 14. Обработайте неявные дубликаты в столбце `education`. В этом столбце есть одни и те же значения, но записанные по-разному: с использованием заглавных и строчных букв. Приведите их к нижнему регистру. Проверьте остальные столбцы.**"
   ]
  },
  {
   "cell_type": "code",
   "execution_count": 15,
   "id": "e5c3c5c6",
   "metadata": {
    "deletable": false
   },
   "outputs": [],
   "source": [
    "data['education'] = data['education'].str.lower()"
   ]
  },
  {
   "cell_type": "markdown",
   "id": "84d0ea23",
   "metadata": {
    "deletable": false,
    "editable": false,
    "id": "dc587695"
   },
   "source": [
    "**Задание 15. Выведите на экран количество строк-дубликатов в данных. Если такие строки присутствуют, удалите их.**"
   ]
  },
  {
   "cell_type": "code",
   "execution_count": 16,
   "id": "e40138f8",
   "metadata": {
    "deletable": false,
    "id": "3ee445e4",
    "outputId": "9684deba-1934-42d1-99e1-cda61740f822"
   },
   "outputs": [
    {
     "data": {
      "text/plain": [
       "71"
      ]
     },
     "execution_count": 16,
     "metadata": {},
     "output_type": "execute_result"
    }
   ],
   "source": [
    "data.duplicated().sum()"
   ]
  },
  {
   "cell_type": "code",
   "execution_count": 17,
   "id": "b68968a2",
   "metadata": {},
   "outputs": [],
   "source": [
    "data = data.drop_duplicates()"
   ]
  },
  {
   "cell_type": "markdown",
   "metadata": {},
   "source": [
    "### 2.6. <a id='toc2_6_'></a>[Категоризация данных](#toc0_)"
   ]
  },
  {
   "cell_type": "markdown",
   "id": "cf39b403",
   "metadata": {},
   "source": [
    "**Задание 16. На основании диапазонов, указанных ниже, создайте в датафрейме `data` столбец `total_income_category` с категориями:**\n",
    "\n",
    "- 0–30000 — `'E'`;\n",
    "- 30001–50000 — `'D'`;\n",
    "- 50001–200000 — `'C'`;\n",
    "- 200001–1000000 — `'B'`;\n",
    "- 1000001 и выше — `'A'`.\n",
    "\n",
    "\n",
    "**Например, кредитополучателю с доходом 25000 нужно назначить категорию `'E'`, а клиенту, получающему 235000, — `'B'`. Используйте собственную функцию с именем `categorize_income()` и метод `apply()`.**"
   ]
  },
  {
   "cell_type": "code",
   "execution_count": 18,
   "id": "c5ed80bd",
   "metadata": {
    "deletable": false,
    "id": "e1771346"
   },
   "outputs": [],
   "source": [
    "def categorize_income(income):\n",
    "    try:\n",
    "        if 0 <= income <= 30000:\n",
    "            return 'E'\n",
    "        elif 30001 <= income <= 50000:\n",
    "            return 'D'\n",
    "        elif 50001 <= income <= 200000:\n",
    "            return 'C'\n",
    "        elif 200001 <= income <= 1000000:\n",
    "            return 'B'\n",
    "        elif income >= 1000001:\n",
    "            return 'A'\n",
    "    except:\n",
    "        pass"
   ]
  },
  {
   "cell_type": "code",
   "execution_count": 19,
   "id": "737670e7",
   "metadata": {
    "deletable": false,
    "id": "d5f3586d"
   },
   "outputs": [],
   "source": [
    "data['total_income_category'] = data['total_income'].apply(categorize_income)"
   ]
  },
  {
   "cell_type": "markdown",
   "id": "9cdf48f3",
   "metadata": {
    "deletable": false,
    "editable": false,
    "id": "dde49b5c"
   },
   "source": [
    "**Задание 17. Выведите на экран перечень уникальных целей взятия кредита из столбца `purpose`.**"
   ]
  },
  {
   "cell_type": "code",
   "execution_count": 20,
   "id": "aabf49dc",
   "metadata": {
    "deletable": false,
    "id": "f67ce9b3",
    "outputId": "673c12d9-7d7e-4ae0-9812-c622c89dd244",
    "scrolled": false
   },
   "outputs": [
    {
     "data": {
      "text/plain": [
       "array(['покупка жилья', 'приобретение автомобиля',\n",
       "       'дополнительное образование', 'сыграть свадьбу',\n",
       "       'операции с жильем', 'образование', 'на проведение свадьбы',\n",
       "       'покупка жилья для семьи', 'покупка недвижимости',\n",
       "       'покупка коммерческой недвижимости', 'покупка жилой недвижимости',\n",
       "       'строительство собственной недвижимости', 'недвижимость',\n",
       "       'строительство недвижимости', 'на покупку подержанного автомобиля',\n",
       "       'на покупку своего автомобиля',\n",
       "       'операции с коммерческой недвижимостью',\n",
       "       'строительство жилой недвижимости', 'жилье',\n",
       "       'операции со своей недвижимостью', 'автомобили',\n",
       "       'заняться образованием', 'сделка с подержанным автомобилем',\n",
       "       'получение образования', 'автомобиль', 'свадьба',\n",
       "       'получение дополнительного образования', 'покупка своего жилья',\n",
       "       'операции с недвижимостью', 'получение высшего образования',\n",
       "       'свой автомобиль', 'сделка с автомобилем',\n",
       "       'профильное образование', 'высшее образование',\n",
       "       'покупка жилья для сдачи', 'на покупку автомобиля', 'ремонт жилью',\n",
       "       'заняться высшим образованием'], dtype=object)"
      ]
     },
     "execution_count": 20,
     "metadata": {},
     "output_type": "execute_result"
    }
   ],
   "source": [
    "data['purpose'].unique()"
   ]
  },
  {
   "cell_type": "markdown",
   "id": "2f887fef",
   "metadata": {
    "deletable": false,
    "editable": false,
    "id": "85d0aef0"
   },
   "source": [
    "**Задание 18. Создайте функцию, которая на основании данных из столбца `purpose` сформирует новый столбец `purpose_category`, в который войдут следующие категории:**\n",
    "\n",
    "- `'операции с автомобилем'`,\n",
    "- `'операции с недвижимостью'`,\n",
    "- `'проведение свадьбы'`,\n",
    "- `'получение образования'`.\n",
    "\n",
    "**Например, если в столбце `purpose` находится подстрока `'на покупку автомобиля'`, то в столбце `purpose_category` должна появиться строка `'операции с автомобилем'`.**\n",
    "\n",
    "**Используйте собственную функцию с именем `categorize_purpose()` и метод `apply()`. Изучите данные в столбце `purpose` и определите, какие подстроки помогут вам правильно определить категорию.**"
   ]
  },
  {
   "cell_type": "code",
   "execution_count": 21,
   "id": "e1f248e7",
   "metadata": {
    "deletable": false,
    "id": "e149fab4"
   },
   "outputs": [],
   "source": [
    "def categorize_purpose(row):\n",
    "    try:\n",
    "        if 'автом' in row:\n",
    "            return 'операции с автомобилем'\n",
    "        elif 'жил' in row or 'недвиж' in row:\n",
    "            return 'операции с недвижимостью'\n",
    "        elif 'свад' in row:\n",
    "            return 'проведение свадьбы'\n",
    "        elif 'образов' in row:\n",
    "            return 'получение образования'\n",
    "    except:\n",
    "        return 'нет категории'"
   ]
  },
  {
   "cell_type": "code",
   "execution_count": 22,
   "id": "8404083c",
   "metadata": {},
   "outputs": [],
   "source": [
    "data['purpose_category'] = data['purpose'].apply(categorize_purpose)"
   ]
  },
  {
   "cell_type": "markdown",
   "id": "93221b74",
   "metadata": {},
   "source": [
    "## 3. <a id='toc3_'></a>[Исследование данных и ответы на вопросы](#toc0_)"
   ]
  },
  {
   "cell_type": "markdown",
   "metadata": {},
   "source": [
    "### 3.1. <a id='toc3_1_'></a>[Есть ли зависимость между количеством детей и возвратом кредита в срок?](#toc0_)"
   ]
  },
  {
   "cell_type": "markdown",
   "id": "063c20c2",
   "metadata": {},
   "source": [
    "Для определения зависимости между количеством детей и возвратом кредита в срок, мы можем опираться на имеющийся в выборке показатель имевших проблемы с задолженностью (поле \"debt\" — имел ли задолженность по возврату кредитов).\n",
    "Определим общий процент заемщиков, имевших задолженностью по возврату кредита, для всей базы и сравним его с долей имевших задолженность, сгруппированных по количеству имеющихся у них детей."
   ]
  },
  {
   "cell_type": "code",
   "execution_count": 23,
   "id": "6f1c5c50",
   "metadata": {
    "deletable": false,
    "id": "2cacfc4a",
    "scrolled": false
   },
   "outputs": [
    {
     "name": "stdout",
     "output_type": "stream",
     "text": [
      "1) Раcпределение заемщиков по группам в зависимости от количества имеющихся у них детей.\n",
      "0    14091\n",
      "1     4808\n",
      "2     2052\n",
      "3      330\n",
      "4       41\n",
      "5        9\n",
      "Name: children, dtype: int64 \n",
      "\n",
      "2) Количество имевших задолженность сгруппированных по количеству имеющихся у них детей.\n",
      " children\n",
      "0    1063\n",
      "1     444\n",
      "2     194\n",
      "3      27\n",
      "4       4\n",
      "5       0\n",
      "Name: debt, dtype: int64 \n",
      "\n",
      "3) Общий процент заемщиков, имевших задолженность по возврату кредита, для всей базы составляет 8.12%.\n",
      "\n",
      "4) Доля имевших задолженность по кредиту для групп заемщиков в зависимости от количества детей:\n",
      "Количество детей: 0. Количество, имевших задолженность: 7.54%.\n",
      "Количество детей: 1. Количество, имевших задолженность: 9.23%.\n",
      "Количество детей: 2. Количество, имевших задолженность: 9.45%.\n",
      "Количество детей: 3. Количество, имевших задолженность: 8.18%.\n",
      "Количество детей: 4. Количество, имевших задолженность: 9.76%.\n",
      "Количество детей: 5. Количество, имевших задолженность: 0.00%.\n"
     ]
    }
   ],
   "source": [
    "print('1) Раcпределение заемщиков по группам в зависимости от количества имеющихся у них детей.')\n",
    "print(data['children'].value_counts(), '\\n')\n",
    "print('2) Количество имевших задолженность сгруппированных по количеству имеющихся у них детей.\\n', data.groupby('children')['debt'].sum(), '\\n')\n",
    "debt_tot = data['debt'].sum() / data['debt'].count()\n",
    "print(f'3) Общий процент заемщиков, имевших задолженность по возврату кредита, для всей базы составляет {debt_tot:.2%}.\\n')\n",
    "print('4) Доля имевших задолженность по кредиту для групп заемщиков в зависимости от количества детей:')\n",
    "zav_children = (data.groupby('children')['debt'].sum() / data['children'].value_counts())\n",
    "for i in range(len(zav_children)):\n",
    "    print(f'Количество детей: {i}. Количество, имевших задолженность: {zav_children[i]:.2%}.')"
   ]
  },
  {
   "cell_type": "markdown",
   "id": "9ee1ae5d",
   "metadata": {
    "deletable": false,
    "id": "3a6b99ec"
   },
   "source": [
    "**Вывод:** \n",
    "1. Общий процент заемщиков, имевших проблемы с возвратом задолженности, составляет 8,12% от базы. При этом процент имевших задолженность в группах с количеством детей от 1 до 4 находится в диапазоне от 8,18% до 9,76%. Превышение общего процента незначительное, можно предполагать, что существенной зависимости между возвратом кредита в срок и количеством детей у заемщика нет.\n",
    "2. В группе заемщиков, имеющих 5 детей, имевших задолженность нет. Но в этой группе всего 9 человек (сотые доли процента от общей базы), что говорит о нерепрезентативности выборки и невозможности сделать однозначный вывод.\n",
    "3. В группе заемщиков, не имеющих детей, доля, имевших задолженность составляет 7,54%. Это незначительно меньше, общего процента имевших задолженность, поэтому также можно предположить, что существенной зависимости между возвратом кредита в срок и наличием у заемщика детей нет."
   ]
  },
  {
   "cell_type": "markdown",
   "id": "928036f4",
   "metadata": {},
   "source": [
    "Теперь соберем все данные в общую таблицу, проанализируем и сделаем выводы."
   ]
  },
  {
   "cell_type": "code",
   "execution_count": 24,
   "id": "95a67375",
   "metadata": {},
   "outputs": [
    {
     "data": {
      "text/html": [
       "<div>\n",
       "<style scoped>\n",
       "    .dataframe tbody tr th:only-of-type {\n",
       "        vertical-align: middle;\n",
       "    }\n",
       "\n",
       "    .dataframe tbody tr th {\n",
       "        vertical-align: top;\n",
       "    }\n",
       "\n",
       "    .dataframe thead tr th {\n",
       "        text-align: left;\n",
       "    }\n",
       "\n",
       "    .dataframe thead tr:last-of-type th {\n",
       "        text-align: right;\n",
       "    }\n",
       "</style>\n",
       "<table border=\"1\" class=\"dataframe\">\n",
       "  <thead>\n",
       "    <tr>\n",
       "      <th></th>\n",
       "      <th>Количество заемщиков</th>\n",
       "      <th>Количество должников</th>\n",
       "      <th>Средний процент должников, %</th>\n",
       "      <th>Отклонение от общего процента должников, %</th>\n",
       "    </tr>\n",
       "    <tr>\n",
       "      <th></th>\n",
       "      <th></th>\n",
       "      <th></th>\n",
       "      <th></th>\n",
       "      <th></th>\n",
       "    </tr>\n",
       "    <tr>\n",
       "      <th>Количество детей</th>\n",
       "      <th></th>\n",
       "      <th></th>\n",
       "      <th></th>\n",
       "      <th></th>\n",
       "    </tr>\n",
       "  </thead>\n",
       "  <tbody>\n",
       "    <tr>\n",
       "      <th>0</th>\n",
       "      <td>14091</td>\n",
       "      <td>1063</td>\n",
       "      <td>7.54</td>\n",
       "      <td>-0.58</td>\n",
       "    </tr>\n",
       "    <tr>\n",
       "      <th>1</th>\n",
       "      <td>4808</td>\n",
       "      <td>444</td>\n",
       "      <td>9.23</td>\n",
       "      <td>1.11</td>\n",
       "    </tr>\n",
       "    <tr>\n",
       "      <th>2</th>\n",
       "      <td>2052</td>\n",
       "      <td>194</td>\n",
       "      <td>9.45</td>\n",
       "      <td>1.33</td>\n",
       "    </tr>\n",
       "    <tr>\n",
       "      <th>3</th>\n",
       "      <td>330</td>\n",
       "      <td>27</td>\n",
       "      <td>8.18</td>\n",
       "      <td>0.06</td>\n",
       "    </tr>\n",
       "    <tr>\n",
       "      <th>4</th>\n",
       "      <td>41</td>\n",
       "      <td>4</td>\n",
       "      <td>9.76</td>\n",
       "      <td>1.64</td>\n",
       "    </tr>\n",
       "    <tr>\n",
       "      <th>5</th>\n",
       "      <td>9</td>\n",
       "      <td>0</td>\n",
       "      <td>0.00</td>\n",
       "      <td>-8.12</td>\n",
       "    </tr>\n",
       "    <tr>\n",
       "      <th>All</th>\n",
       "      <td>21331</td>\n",
       "      <td>1732</td>\n",
       "      <td>8.12</td>\n",
       "      <td>0.00</td>\n",
       "    </tr>\n",
       "  </tbody>\n",
       "</table>\n",
       "</div>"
      ],
      "text/plain": [
       "                 Количество заемщиков Количество должников  \\\n",
       "                                                             \n",
       "Количество детей                                             \n",
       "0                               14091                 1063   \n",
       "1                                4808                  444   \n",
       "2                                2052                  194   \n",
       "3                                 330                   27   \n",
       "4                                  41                    4   \n",
       "5                                   9                    0   \n",
       "All                             21331                 1732   \n",
       "\n",
       "                 Средний процент должников, %  \\\n",
       "                                                \n",
       "Количество детей                                \n",
       "0                                        7.54   \n",
       "1                                        9.23   \n",
       "2                                        9.45   \n",
       "3                                        8.18   \n",
       "4                                        9.76   \n",
       "5                                        0.00   \n",
       "All                                      8.12   \n",
       "\n",
       "                 Отклонение от общего процента должников, %  \n",
       "                                                             \n",
       "Количество детей                                             \n",
       "0                                                     -0.58  \n",
       "1                                                      1.11  \n",
       "2                                                      1.33  \n",
       "3                                                      0.06  \n",
       "4                                                      1.64  \n",
       "5                                                     -8.12  \n",
       "All                                                    0.00  "
      ]
     },
     "metadata": {},
     "output_type": "display_data"
    }
   ],
   "source": [
    "data_pivot = data.pivot_table(values='debt', index='children', aggfunc=['count','sum', 'mean'], margins=True)\n",
    "data_pivot['mean'] = data_pivot['mean'].round(4) * 100\n",
    "data_pivot['Отклонение от общего процента должников, %'] = data_pivot['mean'] - data_pivot.loc['All', 'mean']\n",
    "data_pivot.rename(columns={'count': 'Количество заемщиков', 'sum': 'Количество должников', 'mean': 'Средний процент должников, %', 'debt': ''}, inplace=True)\n",
    "data_pivot.index.names = ['Количество детей']\n",
    "display(data_pivot)"
   ]
  },
  {
   "cell_type": "markdown",
   "id": "f5fcdc6e",
   "metadata": {},
   "source": [
    "**Вывод:** \n",
    "\n",
    "Заемщики, имеющие трёх и более детей составляют менее 2% от базы. Их влияние незначительно. Основная доля заемщиков или не имеет детей, или имеет одного или двух детей.<p>\n",
    "Средний процент должников среди заемщиков, не имеющих детей, ниже общего процента должников на 0,58%.<p>\n",
    "Средний процент должников среди заемщиков, имеющих 1 и 2 детей, выше общего процента должников на 1,11% и 1,33% соответственно.<p>\n",
    "Можно сделать вывод, что заемщики, не имеющие детей, лучше возвращают кредиты.<p>"
   ]
  },
  {
   "cell_type": "markdown",
   "metadata": {},
   "source": [
    "### 3.2. <a id='toc3_2_'></a>[Есть ли зависимость между семейным положением и возвратом кредита в срок?](#toc0_)"
   ]
  },
  {
   "cell_type": "markdown",
   "id": "6b9a42b4",
   "metadata": {},
   "source": [
    "Распределим заемщиков на группы по семейному положению, определим процент имевших задолженность в каждой группе и сравним с общим процентом имевших задолженность (8,12%)."
   ]
  },
  {
   "cell_type": "code",
   "execution_count": 25,
   "id": "0bb4278f",
   "metadata": {
    "deletable": false,
    "id": "dc3f7ee8"
   },
   "outputs": [
    {
     "name": "stdout",
     "output_type": "stream",
     "text": [
      "1) Группы заемщиков по семейному положению.\n",
      "женат / замужем          12261\n",
      "гражданский брак          4134\n",
      "Не женат / не замужем     2796\n",
      "в разводе                 1189\n",
      "вдовец / вдова             951\n",
      "Name: family_status, dtype: int64 \n",
      "\n",
      "2) Доля заемщиков, имевших задолженность по кредиту, в группах по семейному положению.\n",
      "family_status\n",
      "Не женат / не замужем    0.097639\n",
      "в разводе                0.070648\n",
      "вдовец / вдова           0.066246\n",
      "гражданский брак         0.093130\n",
      "женат / замужем          0.075606\n",
      "Name: debt, dtype: float64\n"
     ]
    }
   ],
   "source": [
    "print('1) Группы заемщиков по семейному положению.')\n",
    "print(data['family_status'].value_counts(), '\\n')\n",
    "print('2) Доля заемщиков, имевших задолженность по кредиту, в группах по семейному положению.')\n",
    "print(data.groupby('family_status')['debt'].sum() / data.groupby('family_status')['debt'].count())"
   ]
  },
  {
   "cell_type": "markdown",
   "id": "eea4aee6",
   "metadata": {
    "deletable": false,
    "id": "1cef7837"
   },
   "source": [
    "**Вывод:** \n",
    "В группах заемщиков со статусом \"вдовец / вдова\", \"в разводе\" и \"женат / замужем\" доля имевших задолженность ниже общего процента и составляет 6,62%, 7,06% и 7,56% соответственно.\n",
    "В группах заемщиков со статусом \"Не женат / не замужем\" и \"гражданский брак\" доля имевших задолженность выше общего процента и составляет 9,79% и 9,31% соответственно.\n",
    "В целом эти отклонения незначительны, поэтому можно предположить, что зависимость возврата кредита от семейного положения не существенна."
   ]
  },
  {
   "cell_type": "markdown",
   "id": "1d7dc0a6",
   "metadata": {},
   "source": [
    "Соберем все данные в одну таблицу, проанализируем и сделаем выводы."
   ]
  },
  {
   "cell_type": "code",
   "execution_count": 26,
   "id": "7143bd2c",
   "metadata": {},
   "outputs": [
    {
     "data": {
      "text/html": [
       "<div>\n",
       "<style scoped>\n",
       "    .dataframe tbody tr th:only-of-type {\n",
       "        vertical-align: middle;\n",
       "    }\n",
       "\n",
       "    .dataframe tbody tr th {\n",
       "        vertical-align: top;\n",
       "    }\n",
       "\n",
       "    .dataframe thead tr th {\n",
       "        text-align: left;\n",
       "    }\n",
       "\n",
       "    .dataframe thead tr:last-of-type th {\n",
       "        text-align: right;\n",
       "    }\n",
       "</style>\n",
       "<table border=\"1\" class=\"dataframe\">\n",
       "  <thead>\n",
       "    <tr>\n",
       "      <th></th>\n",
       "      <th>Количество заемщиков</th>\n",
       "      <th>Количество должников</th>\n",
       "      <th>Средний процент должников, %</th>\n",
       "      <th>Отклонение от общего процента должников, %</th>\n",
       "    </tr>\n",
       "    <tr>\n",
       "      <th></th>\n",
       "      <th></th>\n",
       "      <th></th>\n",
       "      <th></th>\n",
       "      <th></th>\n",
       "    </tr>\n",
       "    <tr>\n",
       "      <th>Семейное положение</th>\n",
       "      <th></th>\n",
       "      <th></th>\n",
       "      <th></th>\n",
       "      <th></th>\n",
       "    </tr>\n",
       "  </thead>\n",
       "  <tbody>\n",
       "    <tr>\n",
       "      <th>Не женат / не замужем</th>\n",
       "      <td>2796</td>\n",
       "      <td>273</td>\n",
       "      <td>9.76</td>\n",
       "      <td>1.64</td>\n",
       "    </tr>\n",
       "    <tr>\n",
       "      <th>в разводе</th>\n",
       "      <td>1189</td>\n",
       "      <td>84</td>\n",
       "      <td>7.06</td>\n",
       "      <td>-1.06</td>\n",
       "    </tr>\n",
       "    <tr>\n",
       "      <th>вдовец / вдова</th>\n",
       "      <td>951</td>\n",
       "      <td>63</td>\n",
       "      <td>6.62</td>\n",
       "      <td>-1.50</td>\n",
       "    </tr>\n",
       "    <tr>\n",
       "      <th>гражданский брак</th>\n",
       "      <td>4134</td>\n",
       "      <td>385</td>\n",
       "      <td>9.31</td>\n",
       "      <td>1.19</td>\n",
       "    </tr>\n",
       "    <tr>\n",
       "      <th>женат / замужем</th>\n",
       "      <td>12261</td>\n",
       "      <td>927</td>\n",
       "      <td>7.56</td>\n",
       "      <td>-0.56</td>\n",
       "    </tr>\n",
       "    <tr>\n",
       "      <th>All</th>\n",
       "      <td>21331</td>\n",
       "      <td>1732</td>\n",
       "      <td>8.12</td>\n",
       "      <td>0.00</td>\n",
       "    </tr>\n",
       "  </tbody>\n",
       "</table>\n",
       "</div>"
      ],
      "text/plain": [
       "                      Количество заемщиков Количество должников  \\\n",
       "                                                                  \n",
       "Семейное положение                                                \n",
       "Не женат / не замужем                 2796                  273   \n",
       "в разводе                             1189                   84   \n",
       "вдовец / вдова                         951                   63   \n",
       "гражданский брак                      4134                  385   \n",
       "женат / замужем                      12261                  927   \n",
       "All                                  21331                 1732   \n",
       "\n",
       "                      Средний процент должников, %  \\\n",
       "                                                     \n",
       "Семейное положение                                   \n",
       "Не женат / не замужем                         9.76   \n",
       "в разводе                                     7.06   \n",
       "вдовец / вдова                                6.62   \n",
       "гражданский брак                              9.31   \n",
       "женат / замужем                               7.56   \n",
       "All                                           8.12   \n",
       "\n",
       "                      Отклонение от общего процента должников, %  \n",
       "                                                                  \n",
       "Семейное положение                                                \n",
       "Не женат / не замужем                                       1.64  \n",
       "в разводе                                                  -1.06  \n",
       "вдовец / вдова                                             -1.50  \n",
       "гражданский брак                                            1.19  \n",
       "женат / замужем                                            -0.56  \n",
       "All                                                         0.00  "
      ]
     },
     "metadata": {},
     "output_type": "display_data"
    }
   ],
   "source": [
    "data_pivot = data.pivot_table(values='debt', index='family_status', aggfunc=['count','sum', 'mean'], margins=True)\n",
    "data_pivot['mean'] = data_pivot['mean'].round(4) * 100\n",
    "data_pivot['Отклонение от общего процента должников, %'] = data_pivot['mean'] - data_pivot.loc['All', 'mean']\n",
    "data_pivot.rename(columns={'count': 'Количество заемщиков', 'sum': 'Количество должников', 'mean': 'Средний процент должников, %', 'debt': ''}, inplace=True)\n",
    "data_pivot.index.names = ['Семейное положение']\n",
    "display(data_pivot)"
   ]
  },
  {
   "cell_type": "markdown",
   "id": "a7b9e383",
   "metadata": {},
   "source": [
    "**Вывод:** \n",
    "\n",
    "Заемщики категорий \"женат / замужем\", \"в разводе\", \"вдовец / вдова\" возвращают кредиты лучше, на 0,56%, 1,06% и 1,5% соответственно. При этом категория \"женат / замужем\" является самой многочисленной, значительно превышающей все остальные. Категории \"в разводе\" и \"вдовец / вдова\" являются самыми малочисленными.<p>\n",
    "Заемщики категорий \"гражданский брак\" и \"Не женат / не замужем\" возвращают кредиты хуже, на 1,19% и 1,64% соответственно. По количеству заемщиков данные категории примерно равновеликие.<p>\n"
   ]
  },
  {
   "cell_type": "markdown",
   "metadata": {},
   "source": [
    "### 3.3. <a id='toc3_3_'></a>[Есть ли зависимость между уровнем дохода и возвратом кредита в срок?](#toc0_)"
   ]
  },
  {
   "cell_type": "markdown",
   "id": "a7877dd6",
   "metadata": {},
   "source": [
    "Все клиенты разбиты на категории в зависимости от уровня их дохода:\n",
    "\n",
    "`'A'` — 1000001 и выше;\n",
    "\n",
    "`'B'` — 200001–1000000;\n",
    "\n",
    "`'C'` — 50001–200000;\n",
    "\n",
    "`'D'` — 30001–50000;\n",
    "\n",
    "`'E'` — 0–30000.\n",
    "\n",
    "Определим долю имевших задолженность в каждой категории и сравним с общим процентом имевших задолженность (8,12%)."
   ]
  },
  {
   "cell_type": "code",
   "execution_count": 27,
   "id": "1460bc4e",
   "metadata": {
    "deletable": false,
    "id": "cd7e3720"
   },
   "outputs": [
    {
     "name": "stdout",
     "output_type": "stream",
     "text": [
      "1) Количество клиентов по категориям дохода.\n",
      "total_income_category\n",
      "A       25\n",
      "B     5014\n",
      "C    15921\n",
      "D      349\n",
      "E       22\n",
      "Name: debt, dtype: int64 \n",
      "\n",
      "2) Доля клиентов, имевших задолженность по кредиту, в разбивке по категориям дохода.\n",
      "В категории \"1000001 и выше\" доля имеющих задолженность составляет 8.00%.\n",
      "В категории \"200001–1000000\" доля имеющих задолженность составляет 7.06%.\n",
      "В категории \"50001–200000\" доля имеющих задолженность составляет 8.50%.\n",
      "В категории \"30001–50000\" доля имеющих задолженность составляет 6.02%.\n",
      "В категории \"0–30000\" доля имеющих задолженность составляет 9.09%.\n"
     ]
    }
   ],
   "source": [
    "print('1) Количество клиентов по категориям дохода.')\n",
    "print(data.groupby('total_income_category')['debt'].count(), '\\n')\n",
    "print('2) Доля клиентов, имевших задолженность по кредиту, в разбивке по категориям дохода.')\n",
    "categorys = pd.Series(index=['A', 'B', 'C', 'D', 'E'], data=['1000001 и выше', '200001–1000000', '50001–200000', '30001–50000', '0–30000'])\n",
    "procent_dolzhnikov = data.groupby('total_income_category')['debt'].sum() / data.groupby('total_income_category')['debt'].count()\n",
    "for i in range(len(categorys)):\n",
    "    print('В категории \\\"{0}\\\" доля имеющих задолженность составляет {1:.2%}.'. format(categorys[i], procent_dolzhnikov[i]))"
   ]
  },
  {
   "cell_type": "markdown",
   "id": "6bc119f1",
   "metadata": {
    "deletable": false,
    "id": "e8593def"
   },
   "source": [
    "**Вывод:** \n",
    "\n",
    "В категориях дохода \"30001–50000\", \"200001–1000000\", \"1000001 и выше\" доля имевших задолженность ниже среднего, в категориях \"0–30000\", \"50001–200000\" выше среднего. Все отклонения незначительны."
   ]
  },
  {
   "cell_type": "markdown",
   "id": "1b45d12e",
   "metadata": {},
   "source": [
    "Соберем все данные в одну таблицу, проанализируем и сделаем выводы."
   ]
  },
  {
   "cell_type": "code",
   "execution_count": 28,
   "id": "9feea363",
   "metadata": {},
   "outputs": [
    {
     "data": {
      "text/html": [
       "<div>\n",
       "<style scoped>\n",
       "    .dataframe tbody tr th:only-of-type {\n",
       "        vertical-align: middle;\n",
       "    }\n",
       "\n",
       "    .dataframe tbody tr th {\n",
       "        vertical-align: top;\n",
       "    }\n",
       "\n",
       "    .dataframe thead tr th {\n",
       "        text-align: left;\n",
       "    }\n",
       "\n",
       "    .dataframe thead tr:last-of-type th {\n",
       "        text-align: right;\n",
       "    }\n",
       "</style>\n",
       "<table border=\"1\" class=\"dataframe\">\n",
       "  <thead>\n",
       "    <tr>\n",
       "      <th></th>\n",
       "      <th>Уровень дохода, руб.</th>\n",
       "      <th>Количество заемщиков</th>\n",
       "      <th>Количество должников</th>\n",
       "      <th>Средний процент должников, %</th>\n",
       "      <th>Отклонение от общего процента должников, %</th>\n",
       "    </tr>\n",
       "    <tr>\n",
       "      <th></th>\n",
       "      <th></th>\n",
       "      <th></th>\n",
       "      <th></th>\n",
       "      <th></th>\n",
       "      <th></th>\n",
       "    </tr>\n",
       "    <tr>\n",
       "      <th>Категория</th>\n",
       "      <th></th>\n",
       "      <th></th>\n",
       "      <th></th>\n",
       "      <th></th>\n",
       "      <th></th>\n",
       "    </tr>\n",
       "  </thead>\n",
       "  <tbody>\n",
       "    <tr>\n",
       "      <th>A</th>\n",
       "      <td>1000001 и выше</td>\n",
       "      <td>25</td>\n",
       "      <td>2</td>\n",
       "      <td>8.00</td>\n",
       "      <td>-0.12</td>\n",
       "    </tr>\n",
       "    <tr>\n",
       "      <th>B</th>\n",
       "      <td>200001–1000000</td>\n",
       "      <td>5014</td>\n",
       "      <td>354</td>\n",
       "      <td>7.06</td>\n",
       "      <td>-1.06</td>\n",
       "    </tr>\n",
       "    <tr>\n",
       "      <th>C</th>\n",
       "      <td>50001–200000</td>\n",
       "      <td>15921</td>\n",
       "      <td>1353</td>\n",
       "      <td>8.50</td>\n",
       "      <td>0.38</td>\n",
       "    </tr>\n",
       "    <tr>\n",
       "      <th>D</th>\n",
       "      <td>30001–50000</td>\n",
       "      <td>349</td>\n",
       "      <td>21</td>\n",
       "      <td>6.02</td>\n",
       "      <td>-2.10</td>\n",
       "    </tr>\n",
       "    <tr>\n",
       "      <th>E</th>\n",
       "      <td>0–30000</td>\n",
       "      <td>22</td>\n",
       "      <td>2</td>\n",
       "      <td>9.09</td>\n",
       "      <td>0.97</td>\n",
       "    </tr>\n",
       "    <tr>\n",
       "      <th>All</th>\n",
       "      <td></td>\n",
       "      <td>21331</td>\n",
       "      <td>1732</td>\n",
       "      <td>8.12</td>\n",
       "      <td>0.00</td>\n",
       "    </tr>\n",
       "  </tbody>\n",
       "</table>\n",
       "</div>"
      ],
      "text/plain": [
       "          Уровень дохода, руб. Количество заемщиков Количество должников  \\\n",
       "                                                                           \n",
       "Категория                                                                  \n",
       "A               1000001 и выше                   25                    2   \n",
       "B               200001–1000000                 5014                  354   \n",
       "C                 50001–200000                15921                 1353   \n",
       "D                  30001–50000                  349                   21   \n",
       "E                      0–30000                   22                    2   \n",
       "All                                           21331                 1732   \n",
       "\n",
       "          Средний процент должников, %  \\\n",
       "                                         \n",
       "Категория                                \n",
       "A                                 8.00   \n",
       "B                                 7.06   \n",
       "C                                 8.50   \n",
       "D                                 6.02   \n",
       "E                                 9.09   \n",
       "All                               8.12   \n",
       "\n",
       "          Отклонение от общего процента должников, %  \n",
       "                                                      \n",
       "Категория                                             \n",
       "A                                              -0.12  \n",
       "B                                              -1.06  \n",
       "C                                               0.38  \n",
       "D                                              -2.10  \n",
       "E                                               0.97  \n",
       "All                                             0.00  "
      ]
     },
     "metadata": {},
     "output_type": "display_data"
    }
   ],
   "source": [
    "data_pivot = data.pivot_table(values='debt', index='total_income_category', aggfunc=['count','sum', 'mean'], margins=True)\n",
    "data_pivot['mean'] = data_pivot['mean'].round(4) * 100\n",
    "data_pivot['Отклонение от общего процента должников, %'] = data_pivot['mean'] - data_pivot.loc['All', 'mean']\n",
    "data_pivot.insert(0, 'Уровень дохода, руб.', ['1000001 и выше', '200001–1000000', '50001–200000', '30001–50000', '0–30000', ''])\n",
    "data_pivot.rename(columns={'count': 'Количество заемщиков', 'sum': 'Количество должников', 'mean': 'Средний процент должников, %', 'debt': ''}, inplace=True)\n",
    "data_pivot.index.names = ['Категория']\n",
    "display(data_pivot)"
   ]
  },
  {
   "cell_type": "markdown",
   "id": "4e8c03ed",
   "metadata": {},
   "source": [
    "**Вывод:** \n",
    "\n",
    "Основными категориями по количеству заемщиков являются:<p>\n",
    "- категория \"C\" с уровнем дохода 50001–200000 руб.;<p>\n",
    "- категория \"B\" с уровнем дохода 200001–1000000 руб.<p>\n",
    "\n",
    "В категории \"C\" возврат кредитов осуществляется хуже среднего на 0,38%.<p>\n",
    "В категории \"B\" возврат кредитов осуществляется лучше среднего на 1,06%.<p>"
   ]
  },
  {
   "cell_type": "markdown",
   "metadata": {},
   "source": [
    "### 3.4. <a id='toc3_4_'></a>[Как разные цели кредита влияют на его возврат в срок?](#toc0_)"
   ]
  },
  {
   "cell_type": "markdown",
   "id": "38c43629",
   "metadata": {},
   "source": [
    "Клиенты в зависимости от цели кредита разбиты на следующие категории:\n",
    "- операции с автомобилем,\n",
    "- операции с недвижимостью,\n",
    "- проведение свадьбы,\n",
    "- получение образования.\n",
    "\n",
    "Определим долю имеющих задолженность в каждой категории и сравним со средним значением по базе (8,12%)."
   ]
  },
  {
   "cell_type": "code",
   "execution_count": 29,
   "id": "64897b38",
   "metadata": {
    "deletable": false,
    "id": "2b687290",
    "scrolled": true
   },
   "outputs": [
    {
     "name": "stdout",
     "output_type": "stream",
     "text": [
      "                          Клиенты  Задолженность, %  Отклонение, %\n",
      "Цель кредита:                                                     \n",
      "операции с недвижимостью    10751              7.26          -0.86\n",
      "проведение свадьбы           2313              7.91          -0.21\n",
      "получение образования        3988              9.25           1.13\n",
      "операции с автомобилем       4279              9.35           1.23\n"
     ]
    }
   ],
   "source": [
    "# Собираем все данные в датафрейм\n",
    "celi = pd.DataFrame(data=data.groupby('purpose_category')['debt'].count())\n",
    "celi = celi.rename(columns={'debt': 'Клиенты'})\n",
    "celi['Задолженность, %'] = (data.groupby('purpose_category')['debt'].sum() / data.groupby('purpose_category')['debt'].count())*100\n",
    "celi.index.names = ['Цель кредита:']\n",
    "celi['Задолженность, %'] = celi['Задолженность, %'].round(2)\n",
    "celi['Отклонение, %'] = celi['Задолженность, %'] - 8.12\n",
    "celi = celi.sort_values(by='Отклонение, %')\n",
    "print(celi)"
   ]
  },
  {
   "cell_type": "markdown",
   "id": "926ebb6f",
   "metadata": {},
   "source": [
    "**Вывод:** \n",
    "\n",
    "Клиенты, взявшие кредит на цели, связанные с недвижимостью и свадьбами, имеют меньший процент задолженностей. Клиенты, взявшие кредит на цели, связанные с образованием и автомобилем, имеют больший процент задолженностей."
   ]
  },
  {
   "cell_type": "markdown",
   "metadata": {},
   "source": [
    "### 3.5. <a id='toc3_5_'></a>[Приведите возможные причины появления пропусков в исходных данных.](#toc0_)"
   ]
  },
  {
   "cell_type": "markdown",
   "id": "92ba6c7d",
   "metadata": {},
   "source": [
    "*Ответ:* \n",
    "1) Человеческий фактор (ошибки ручного ввода).\n",
    "\n",
    "2) Технологические сбои при передаче, копировании, форматировании данных."
   ]
  },
  {
   "cell_type": "markdown",
   "metadata": {},
   "source": [
    "### 3.6. <a id='toc3_6_'></a>[Объясните, почему заполнить пропуски медианным значением — лучшее решение для количественных переменных.](#toc0_)"
   ]
  },
  {
   "cell_type": "markdown",
   "id": "6e10eaf1",
   "metadata": {},
   "source": [
    "*Ответ:* \n",
    "\n",
    "Этот метод исключает некорректное влияние малочисленных, но сильно удаленных от среднего значений."
   ]
  },
  {
   "cell_type": "markdown",
   "metadata": {},
   "source": [
    "## 4. <a id='toc4_'></a>[Общий вывод](#toc0_)\n",
    "\n",
    "В проекте использованы исходные данные банка со статистикой платежеспособности клиентов (21525 записей). Успешно проведены все этапы предобработки данных статистики платежеспособности клиентов и на полученном выверенном массиве проверено несколько гипотез, необходимых для построения модели кредитного скроллинга банка.\n",
    "\n",
    "На этапе предобработки данных проведены следующие мероприятия:\n",
    "\n",
    "1. Заполнение пропусков данных по уровню дохода и трудовому стажу для 2174 записей медианными значениями соответствующего типа занятости заемщика.\n",
    "    \n",
    "2. Обработка аномальных значений в данных:\n",
    "    \n",
    "    - исправление отрицательных значений трудового стажа;\n",
    "        \n",
    "    - удаление записей с отрицательным и некорректно большим количеством детей (123 записи);\n",
    "        \n",
    "    - аномально большой стаж в категориях \"безработные\" и \"пенсионеры\" не корректировался, т.к. эти данные не участвуют и не влияют на исследования.\n",
    "        \n",
    "3. Исключение дубликатов (71 запись).\n",
    "    \n",
    "4. Категоризация данных по уровню дохода и цели кредитования заемщиков.\n",
    "    \n",
    "На этапе исследования проверены следующие гипотезы:\n",
    "\n",
    "1. Зависимость возврата кредита в срок от количества детей.\n",
    "    \n",
    "    Выводы:\n",
    "        \n",
    "    - Средний процент должников среди заемщиков, не имеющих детей, ниже общего процента должников на 0,58%.\n",
    "        \n",
    "    - Средний процент должников среди заемщиков, имеющих 1 и 2 детей, выше общего процента должников на 1,11% и 1,33% соответственно.\n",
    "        \n",
    "    - Влияние остальных категорий незначительно.\n",
    "        \n",
    "2. Зависимость возврата кредита в срок от семейного положения.\n",
    "    \n",
    "    Выводы:\n",
    "        \n",
    "    - Заемщики категорий \"женат / замужем\", \"в разводе\", \"вдовец / вдова\" возвращают кредиты лучше, на 0,56%, 1,06% и 1,5% соответственно. При этом категория \"женат / замужем\" является самой многочисленной, значительно превышающей все остальные. Категории \"в разводе\" и \"вдовец / вдова\" являются самыми малочисленными.\n",
    "        \n",
    "    - Заемщики категорий \"гражданский брак\" и \"Не женат / не замужем\" возвращают кредиты хуже, на 1,19% и 1,64% соответственно. По количеству заемщиков данные категории примерно равновеликие.\n",
    "        \n",
    "3. Зависимость возврата кредита в срок от уровня дохода.\n",
    "    \n",
    "    Выводы:\n",
    "        \n",
    "    - В категории \"C\" (уровень дохода 50001–200000 руб.) возврат кредитов осуществляется хуже среднего на 0,38%.\n",
    "        \n",
    "    - В категории \"B\" (уровень дохода 200001–1000000 руб.) возврат кредитов осуществляется лучше среднего на 1,06%.\n",
    "        \n",
    "    - Влияние остальных категорий незначительно.\n",
    "        \n",
    "4. Зависимость возврата кредита в срок от цели кредитования.\n",
    "    \n",
    "    Выводы:\n",
    "        \n",
    "    - Клиенты, взявшие кредит на цели, связанные с недвижимостью и свадьбой, возвращают кредиты лучше на 0,86% и 0,21% соответственно.\n",
    "        \n",
    "    - Клиенты, взявшие кредит на цели, связанные с образованием и автомобилем, возвращают кредиты хуже на 1,13% и 1,23% соответственно.\n",
    "        \n",
    "Результаты исследования планируется учесть при построении модели кредитного скоринга."
   ]
  }
 ],
 "metadata": {
  "ExecuteTimeLog": [
   {
    "duration": 47,
    "start_time": "2022-11-28T23:30:09.707Z"
   },
   {
    "duration": 489,
    "start_time": "2022-11-28T23:30:25.955Z"
   },
   {
    "duration": 22,
    "start_time": "2022-11-28T23:30:26.446Z"
   },
   {
    "duration": 20,
    "start_time": "2022-11-28T23:30:26.469Z"
   },
   {
    "duration": 8,
    "start_time": "2022-11-28T23:30:26.491Z"
   },
   {
    "duration": 57,
    "start_time": "2022-11-28T23:30:26.501Z"
   },
   {
    "duration": 3,
    "start_time": "2022-11-28T23:30:26.560Z"
   },
   {
    "duration": 14,
    "start_time": "2022-11-28T23:30:26.564Z"
   },
   {
    "duration": 4,
    "start_time": "2022-11-28T23:30:26.580Z"
   },
   {
    "duration": 13,
    "start_time": "2022-11-28T23:30:26.585Z"
   },
   {
    "duration": 6,
    "start_time": "2022-11-28T23:30:26.600Z"
   },
   {
    "duration": 48,
    "start_time": "2022-11-28T23:30:26.608Z"
   },
   {
    "duration": 11,
    "start_time": "2022-11-28T23:30:26.658Z"
   },
   {
    "duration": 18,
    "start_time": "2022-11-28T23:30:26.671Z"
   },
   {
    "duration": 15,
    "start_time": "2022-11-28T23:30:26.690Z"
   },
   {
    "duration": 37,
    "start_time": "2022-11-28T23:30:26.707Z"
   },
   {
    "duration": 21,
    "start_time": "2022-11-28T23:30:26.746Z"
   },
   {
    "duration": 5,
    "start_time": "2022-11-28T23:30:26.769Z"
   },
   {
    "duration": 26,
    "start_time": "2022-11-28T23:30:26.778Z"
   },
   {
    "duration": 16,
    "start_time": "2022-11-28T23:30:26.806Z"
   },
   {
    "duration": 18,
    "start_time": "2022-11-28T23:30:26.824Z"
   },
   {
    "duration": 17,
    "start_time": "2022-11-28T23:30:26.844Z"
   },
   {
    "duration": 31,
    "start_time": "2022-11-28T23:30:35.667Z"
   },
   {
    "duration": 16,
    "start_time": "2022-11-28T23:31:08.907Z"
   },
   {
    "duration": 4,
    "start_time": "2022-11-28T23:32:35.460Z"
   },
   {
    "duration": 7,
    "start_time": "2022-11-28T23:34:09.677Z"
   },
   {
    "duration": 5,
    "start_time": "2022-11-28T23:34:20.761Z"
   },
   {
    "duration": 6,
    "start_time": "2022-11-28T23:35:56.430Z"
   },
   {
    "duration": 8,
    "start_time": "2022-11-28T23:40:16.181Z"
   },
   {
    "duration": 5,
    "start_time": "2022-11-28T23:40:24.927Z"
   },
   {
    "duration": 11,
    "start_time": "2022-11-28T23:42:00.265Z"
   },
   {
    "duration": 46,
    "start_time": "2022-11-28T23:45:15.261Z"
   },
   {
    "duration": 8,
    "start_time": "2022-11-28T23:45:40.343Z"
   },
   {
    "duration": 8,
    "start_time": "2022-11-28T23:48:38.595Z"
   },
   {
    "duration": 8,
    "start_time": "2022-11-28T23:51:14.307Z"
   },
   {
    "duration": 10,
    "start_time": "2022-11-28T23:51:30.341Z"
   },
   {
    "duration": 10,
    "start_time": "2022-11-28T23:51:48.700Z"
   },
   {
    "duration": 11,
    "start_time": "2022-11-29T00:04:30.302Z"
   },
   {
    "duration": 6,
    "start_time": "2022-11-29T00:05:09.471Z"
   },
   {
    "duration": 10,
    "start_time": "2022-11-29T00:05:13.100Z"
   },
   {
    "duration": 8,
    "start_time": "2022-11-29T00:05:32.701Z"
   },
   {
    "duration": 7,
    "start_time": "2022-11-29T00:06:06.120Z"
   },
   {
    "duration": 8,
    "start_time": "2022-11-29T00:23:37.802Z"
   },
   {
    "duration": 50,
    "start_time": "2022-11-29T00:26:19.609Z"
   },
   {
    "duration": 8,
    "start_time": "2022-11-29T00:26:34.089Z"
   },
   {
    "duration": 51,
    "start_time": "2022-11-29T00:29:03.261Z"
   },
   {
    "duration": 8,
    "start_time": "2022-11-29T00:30:01.600Z"
   },
   {
    "duration": 12,
    "start_time": "2022-11-29T00:41:48.264Z"
   },
   {
    "duration": 5,
    "start_time": "2022-11-29T00:43:04.867Z"
   },
   {
    "duration": 12,
    "start_time": "2022-11-29T00:43:14.935Z"
   },
   {
    "duration": 107,
    "start_time": "2022-11-29T00:43:45.939Z"
   },
   {
    "duration": 170,
    "start_time": "2022-11-29T00:44:05.608Z"
   },
   {
    "duration": 5,
    "start_time": "2022-11-29T00:44:24.978Z"
   },
   {
    "duration": 5,
    "start_time": "2022-11-29T00:46:22.927Z"
   },
   {
    "duration": 912,
    "start_time": "2022-11-29T00:48:17.770Z"
   },
   {
    "duration": 144,
    "start_time": "2022-11-29T00:49:18.609Z"
   },
   {
    "duration": 109,
    "start_time": "2022-11-29T00:52:03.977Z"
   },
   {
    "duration": 117,
    "start_time": "2022-11-29T00:53:00.957Z"
   },
   {
    "duration": 105,
    "start_time": "2022-11-29T00:53:39.757Z"
   },
   {
    "duration": 7,
    "start_time": "2022-11-29T00:54:51.198Z"
   },
   {
    "duration": 514,
    "start_time": "2022-11-29T17:42:39.209Z"
   },
   {
    "duration": 21,
    "start_time": "2022-11-29T17:42:39.726Z"
   },
   {
    "duration": 14,
    "start_time": "2022-11-29T17:42:39.749Z"
   },
   {
    "duration": 8,
    "start_time": "2022-11-29T17:42:39.765Z"
   },
   {
    "duration": 47,
    "start_time": "2022-11-29T17:42:39.775Z"
   },
   {
    "duration": 3,
    "start_time": "2022-11-29T17:42:39.824Z"
   },
   {
    "duration": 11,
    "start_time": "2022-11-29T17:42:39.829Z"
   },
   {
    "duration": 4,
    "start_time": "2022-11-29T17:42:39.841Z"
   },
   {
    "duration": 7,
    "start_time": "2022-11-29T17:42:39.846Z"
   },
   {
    "duration": 5,
    "start_time": "2022-11-29T17:42:39.856Z"
   },
   {
    "duration": 57,
    "start_time": "2022-11-29T17:42:39.862Z"
   },
   {
    "duration": 9,
    "start_time": "2022-11-29T17:42:39.920Z"
   },
   {
    "duration": 4,
    "start_time": "2022-11-29T17:42:39.930Z"
   },
   {
    "duration": 12,
    "start_time": "2022-11-29T17:42:39.935Z"
   },
   {
    "duration": 17,
    "start_time": "2022-11-29T17:42:39.948Z"
   },
   {
    "duration": 16,
    "start_time": "2022-11-29T17:42:39.966Z"
   },
   {
    "duration": 3,
    "start_time": "2022-11-29T17:42:40.004Z"
   },
   {
    "duration": 24,
    "start_time": "2022-11-29T17:42:40.009Z"
   },
   {
    "duration": 13,
    "start_time": "2022-11-29T17:42:40.035Z"
   },
   {
    "duration": 3,
    "start_time": "2022-11-29T17:42:40.050Z"
   },
   {
    "duration": 14,
    "start_time": "2022-11-29T17:42:40.055Z"
   },
   {
    "duration": 8,
    "start_time": "2022-11-29T17:42:50.926Z"
   },
   {
    "duration": 8,
    "start_time": "2022-11-29T17:44:08.107Z"
   },
   {
    "duration": 8,
    "start_time": "2022-11-29T17:45:10.188Z"
   },
   {
    "duration": 8,
    "start_time": "2022-11-29T17:45:29.059Z"
   },
   {
    "duration": 12,
    "start_time": "2022-11-29T17:49:21.992Z"
   },
   {
    "duration": 12,
    "start_time": "2022-11-29T17:50:33.671Z"
   },
   {
    "duration": 12,
    "start_time": "2022-11-29T17:52:22.622Z"
   },
   {
    "duration": 12,
    "start_time": "2022-11-29T17:53:01.108Z"
   },
   {
    "duration": 6,
    "start_time": "2022-11-29T18:22:22.376Z"
   },
   {
    "duration": 6,
    "start_time": "2022-11-29T18:23:39.975Z"
   },
   {
    "duration": 6,
    "start_time": "2022-11-29T18:23:55.973Z"
   },
   {
    "duration": 6,
    "start_time": "2022-11-29T18:24:31.552Z"
   },
   {
    "duration": 12,
    "start_time": "2022-11-29T18:24:55.521Z"
   },
   {
    "duration": 12,
    "start_time": "2022-11-29T18:25:26.322Z"
   },
   {
    "duration": 77,
    "start_time": "2022-11-29T18:31:11.088Z"
   },
   {
    "duration": 12,
    "start_time": "2022-11-29T18:31:45.392Z"
   },
   {
    "duration": 14,
    "start_time": "2022-11-29T18:33:36.283Z"
   },
   {
    "duration": 18,
    "start_time": "2022-11-29T18:35:30.398Z"
   },
   {
    "duration": 6,
    "start_time": "2022-11-29T18:35:57.760Z"
   },
   {
    "duration": 10,
    "start_time": "2022-11-29T18:37:04.408Z"
   },
   {
    "duration": 16,
    "start_time": "2022-11-29T18:38:08.055Z"
   },
   {
    "duration": 12,
    "start_time": "2022-11-29T18:39:18.687Z"
   },
   {
    "duration": 15,
    "start_time": "2022-11-29T18:40:43.651Z"
   },
   {
    "duration": 15,
    "start_time": "2022-11-29T18:41:15.250Z"
   },
   {
    "duration": 12,
    "start_time": "2022-11-29T18:43:02.053Z"
   },
   {
    "duration": 13,
    "start_time": "2022-11-29T18:49:19.842Z"
   },
   {
    "duration": 8,
    "start_time": "2022-11-29T19:01:20.716Z"
   },
   {
    "duration": 8,
    "start_time": "2022-11-29T19:07:21.276Z"
   },
   {
    "duration": 8,
    "start_time": "2022-11-29T19:08:54.988Z"
   },
   {
    "duration": 14,
    "start_time": "2022-11-29T19:10:30.023Z"
   },
   {
    "duration": 8,
    "start_time": "2022-11-29T19:10:58.356Z"
   },
   {
    "duration": 13,
    "start_time": "2022-11-29T19:12:33.708Z"
   },
   {
    "duration": 6,
    "start_time": "2022-11-29T19:13:01.652Z"
   },
   {
    "duration": 7,
    "start_time": "2022-11-29T19:13:18.240Z"
   },
   {
    "duration": 14,
    "start_time": "2022-11-29T19:16:37.395Z"
   },
   {
    "duration": 9,
    "start_time": "2022-11-29T19:31:50.055Z"
   },
   {
    "duration": 9,
    "start_time": "2022-11-29T19:34:05.558Z"
   },
   {
    "duration": 12,
    "start_time": "2022-11-29T19:38:16.643Z"
   },
   {
    "duration": 14,
    "start_time": "2022-11-29T19:38:47.820Z"
   },
   {
    "duration": 37,
    "start_time": "2022-11-29T19:39:23.710Z"
   },
   {
    "duration": 34,
    "start_time": "2022-11-29T19:40:02.133Z"
   },
   {
    "duration": 31,
    "start_time": "2022-11-29T19:40:32.219Z"
   },
   {
    "duration": 31,
    "start_time": "2022-11-29T19:40:43.623Z"
   },
   {
    "duration": 19,
    "start_time": "2022-11-29T19:54:22.925Z"
   },
   {
    "duration": 26,
    "start_time": "2022-11-29T19:54:35.314Z"
   },
   {
    "duration": 11,
    "start_time": "2022-11-29T20:01:03.978Z"
   },
   {
    "duration": 11,
    "start_time": "2022-11-29T20:01:12.210Z"
   },
   {
    "duration": 16,
    "start_time": "2022-11-29T20:03:29.873Z"
   },
   {
    "duration": 76,
    "start_time": "2022-11-29T20:04:32.781Z"
   },
   {
    "duration": 12,
    "start_time": "2022-11-29T20:04:46.499Z"
   },
   {
    "duration": 11,
    "start_time": "2022-11-29T20:07:37.026Z"
   },
   {
    "duration": 14,
    "start_time": "2022-11-29T20:09:16.703Z"
   },
   {
    "duration": 12,
    "start_time": "2022-11-29T20:11:24.212Z"
   },
   {
    "duration": 10,
    "start_time": "2022-11-29T20:12:39.712Z"
   },
   {
    "duration": 10,
    "start_time": "2022-11-29T20:13:15.912Z"
   },
   {
    "duration": 12,
    "start_time": "2022-11-29T20:14:13.663Z"
   },
   {
    "duration": 14,
    "start_time": "2022-11-29T20:33:51.584Z"
   },
   {
    "duration": 15,
    "start_time": "2022-11-29T20:40:18.184Z"
   },
   {
    "duration": 13,
    "start_time": "2022-11-29T20:40:29.515Z"
   },
   {
    "duration": 13,
    "start_time": "2022-11-29T20:50:25.681Z"
   },
   {
    "duration": 14,
    "start_time": "2022-11-29T20:51:31.777Z"
   },
   {
    "duration": 21,
    "start_time": "2022-11-29T20:51:49.426Z"
   },
   {
    "duration": 15,
    "start_time": "2022-11-29T20:52:35.188Z"
   },
   {
    "duration": 18,
    "start_time": "2022-11-29T20:57:57.983Z"
   },
   {
    "duration": 19,
    "start_time": "2022-11-29T20:59:18.951Z"
   },
   {
    "duration": 18,
    "start_time": "2022-11-29T20:59:31.289Z"
   },
   {
    "duration": 22,
    "start_time": "2022-11-29T21:00:05.605Z"
   },
   {
    "duration": 18,
    "start_time": "2022-11-29T21:00:29.922Z"
   },
   {
    "duration": 71,
    "start_time": "2022-11-29T21:01:49.177Z"
   },
   {
    "duration": 18,
    "start_time": "2022-11-29T21:02:12.049Z"
   },
   {
    "duration": 18,
    "start_time": "2022-11-29T21:02:29.266Z"
   },
   {
    "duration": 26,
    "start_time": "2022-11-29T21:03:29.871Z"
   },
   {
    "duration": 25,
    "start_time": "2022-11-29T21:03:53.830Z"
   },
   {
    "duration": 10,
    "start_time": "2022-11-29T21:09:58.153Z"
   },
   {
    "duration": 13,
    "start_time": "2022-11-29T21:11:09.650Z"
   },
   {
    "duration": 14,
    "start_time": "2022-11-29T21:11:43.926Z"
   },
   {
    "duration": 15,
    "start_time": "2022-11-29T21:12:54.778Z"
   },
   {
    "duration": 15,
    "start_time": "2022-11-29T21:14:29.642Z"
   },
   {
    "duration": 17,
    "start_time": "2022-11-29T21:14:57.362Z"
   },
   {
    "duration": 15,
    "start_time": "2022-11-29T21:15:15.780Z"
   },
   {
    "duration": 17,
    "start_time": "2022-11-29T21:16:00.232Z"
   },
   {
    "duration": 16,
    "start_time": "2022-11-29T21:16:11.525Z"
   },
   {
    "duration": 14,
    "start_time": "2022-11-29T21:17:43.991Z"
   },
   {
    "duration": 11,
    "start_time": "2022-11-29T21:18:04.706Z"
   },
   {
    "duration": 451,
    "start_time": "2022-11-29T21:18:33.180Z"
   },
   {
    "duration": 25,
    "start_time": "2022-11-29T21:19:30.483Z"
   },
   {
    "duration": 18,
    "start_time": "2022-11-29T21:20:11.429Z"
   },
   {
    "duration": 8,
    "start_time": "2022-11-29T21:20:28.076Z"
   },
   {
    "duration": 8,
    "start_time": "2022-11-29T21:20:45.219Z"
   },
   {
    "duration": 8,
    "start_time": "2022-11-29T21:21:08.210Z"
   },
   {
    "duration": 14,
    "start_time": "2022-11-29T21:21:49.388Z"
   },
   {
    "duration": 8,
    "start_time": "2022-11-29T21:22:14.188Z"
   },
   {
    "duration": 10,
    "start_time": "2022-11-29T21:23:25.472Z"
   },
   {
    "duration": 9,
    "start_time": "2022-11-29T21:23:38.130Z"
   },
   {
    "duration": 11,
    "start_time": "2022-11-29T21:24:06.347Z"
   },
   {
    "duration": 10,
    "start_time": "2022-11-29T21:24:16.401Z"
   },
   {
    "duration": 6,
    "start_time": "2022-11-29T21:24:32.748Z"
   },
   {
    "duration": 15,
    "start_time": "2022-11-29T21:25:41.072Z"
   },
   {
    "duration": 15,
    "start_time": "2022-11-29T21:26:32.519Z"
   },
   {
    "duration": 18,
    "start_time": "2022-11-29T21:28:46.653Z"
   },
   {
    "duration": 22,
    "start_time": "2022-11-29T21:31:46.590Z"
   },
   {
    "duration": 104,
    "start_time": "2022-11-29T21:32:43.315Z"
   },
   {
    "duration": 21,
    "start_time": "2022-11-29T21:32:50.641Z"
   },
   {
    "duration": 21,
    "start_time": "2022-11-29T21:33:55.092Z"
   },
   {
    "duration": 21,
    "start_time": "2022-11-29T21:34:42.589Z"
   },
   {
    "duration": 16,
    "start_time": "2022-11-29T21:35:39.287Z"
   },
   {
    "duration": 17,
    "start_time": "2022-11-29T21:38:00.400Z"
   },
   {
    "duration": 15,
    "start_time": "2022-11-29T21:38:24.218Z"
   },
   {
    "duration": 83,
    "start_time": "2022-11-29T21:40:13.875Z"
   },
   {
    "duration": 83,
    "start_time": "2022-11-29T21:41:04.389Z"
   },
   {
    "duration": 1556,
    "start_time": "2022-11-29T21:41:14.234Z"
   },
   {
    "duration": 1383,
    "start_time": "2022-11-29T21:43:04.422Z"
   },
   {
    "duration": 1624,
    "start_time": "2022-11-29T21:43:52.070Z"
   },
   {
    "duration": 1711,
    "start_time": "2022-11-29T21:44:40.467Z"
   },
   {
    "duration": 1772,
    "start_time": "2022-11-29T21:45:00.993Z"
   },
   {
    "duration": 101,
    "start_time": "2022-11-29T21:48:38.804Z"
   },
   {
    "duration": 15,
    "start_time": "2022-11-29T21:48:38.906Z"
   },
   {
    "duration": 16,
    "start_time": "2022-11-29T21:48:38.922Z"
   },
   {
    "duration": 9,
    "start_time": "2022-11-29T21:48:38.940Z"
   },
   {
    "duration": 62,
    "start_time": "2022-11-29T21:48:38.951Z"
   },
   {
    "duration": 4,
    "start_time": "2022-11-29T21:48:39.015Z"
   },
   {
    "duration": 17,
    "start_time": "2022-11-29T21:48:39.021Z"
   },
   {
    "duration": 5,
    "start_time": "2022-11-29T21:48:39.040Z"
   },
   {
    "duration": 15,
    "start_time": "2022-11-29T21:48:39.046Z"
   },
   {
    "duration": 6,
    "start_time": "2022-11-29T21:48:39.064Z"
   },
   {
    "duration": 53,
    "start_time": "2022-11-29T21:48:39.072Z"
   },
   {
    "duration": 9,
    "start_time": "2022-11-29T21:48:39.127Z"
   },
   {
    "duration": 6,
    "start_time": "2022-11-29T21:48:39.138Z"
   },
   {
    "duration": 12,
    "start_time": "2022-11-29T21:48:39.146Z"
   },
   {
    "duration": 28,
    "start_time": "2022-11-29T21:48:39.159Z"
   },
   {
    "duration": 15,
    "start_time": "2022-11-29T21:48:39.204Z"
   },
   {
    "duration": 4,
    "start_time": "2022-11-29T21:48:39.221Z"
   },
   {
    "duration": 10,
    "start_time": "2022-11-29T21:48:39.226Z"
   },
   {
    "duration": 14,
    "start_time": "2022-11-29T21:48:39.238Z"
   },
   {
    "duration": 4,
    "start_time": "2022-11-29T21:48:39.253Z"
   },
   {
    "duration": 11,
    "start_time": "2022-11-29T21:48:39.259Z"
   },
   {
    "duration": 36,
    "start_time": "2022-11-29T21:48:39.272Z"
   },
   {
    "duration": 11,
    "start_time": "2022-11-29T21:48:39.310Z"
   },
   {
    "duration": 21,
    "start_time": "2022-11-29T21:48:39.323Z"
   },
   {
    "duration": 13,
    "start_time": "2022-11-29T21:48:39.345Z"
   },
   {
    "duration": 1146,
    "start_time": "2022-11-29T21:48:46.728Z"
   },
   {
    "duration": 14,
    "start_time": "2022-11-29T21:49:13.064Z"
   },
   {
    "duration": 1504,
    "start_time": "2022-11-29T21:49:46.543Z"
   },
   {
    "duration": 1262,
    "start_time": "2022-11-29T21:50:21.744Z"
   },
   {
    "duration": 1348,
    "start_time": "2022-11-29T21:55:09.183Z"
   },
   {
    "duration": 1376,
    "start_time": "2022-11-29T21:55:29.682Z"
   },
   {
    "duration": 73,
    "start_time": "2022-11-29T21:56:14.407Z"
   },
   {
    "duration": 12,
    "start_time": "2022-11-29T21:56:35.566Z"
   },
   {
    "duration": 482,
    "start_time": "2022-11-29T22:03:43.990Z"
   },
   {
    "duration": 20,
    "start_time": "2022-11-29T22:03:44.474Z"
   },
   {
    "duration": 14,
    "start_time": "2022-11-29T22:03:44.495Z"
   },
   {
    "duration": 8,
    "start_time": "2022-11-29T22:03:44.511Z"
   },
   {
    "duration": 31,
    "start_time": "2022-11-29T22:03:44.522Z"
   },
   {
    "duration": 3,
    "start_time": "2022-11-29T22:03:44.555Z"
   },
   {
    "duration": 10,
    "start_time": "2022-11-29T22:03:44.559Z"
   },
   {
    "duration": 3,
    "start_time": "2022-11-29T22:03:44.570Z"
   },
   {
    "duration": 34,
    "start_time": "2022-11-29T22:03:44.575Z"
   },
   {
    "duration": 4,
    "start_time": "2022-11-29T22:03:44.611Z"
   },
   {
    "duration": 41,
    "start_time": "2022-11-29T22:03:44.616Z"
   },
   {
    "duration": 9,
    "start_time": "2022-11-29T22:03:44.658Z"
   },
   {
    "duration": 4,
    "start_time": "2022-11-29T22:03:44.668Z"
   },
   {
    "duration": 14,
    "start_time": "2022-11-29T22:03:44.674Z"
   },
   {
    "duration": 26,
    "start_time": "2022-11-29T22:03:44.690Z"
   },
   {
    "duration": 16,
    "start_time": "2022-11-29T22:03:44.717Z"
   },
   {
    "duration": 4,
    "start_time": "2022-11-29T22:03:44.735Z"
   },
   {
    "duration": 13,
    "start_time": "2022-11-29T22:03:44.740Z"
   },
   {
    "duration": 11,
    "start_time": "2022-11-29T22:03:44.755Z"
   },
   {
    "duration": 3,
    "start_time": "2022-11-29T22:03:44.768Z"
   },
   {
    "duration": 37,
    "start_time": "2022-11-29T22:03:44.773Z"
   },
   {
    "duration": 13,
    "start_time": "2022-11-29T22:03:44.812Z"
   },
   {
    "duration": 12,
    "start_time": "2022-11-29T22:03:44.826Z"
   },
   {
    "duration": 11,
    "start_time": "2022-11-29T22:03:44.840Z"
   },
   {
    "duration": 13,
    "start_time": "2022-11-29T22:03:44.852Z"
   },
   {
    "duration": 47,
    "start_time": "2022-11-29T22:03:44.867Z"
   },
   {
    "duration": 1427,
    "start_time": "2022-11-29T22:04:07.869Z"
   },
   {
    "duration": 17,
    "start_time": "2022-11-29T22:09:07.263Z"
   },
   {
    "duration": 24,
    "start_time": "2022-11-29T22:09:30.408Z"
   },
   {
    "duration": 1232,
    "start_time": "2022-11-29T22:09:58.150Z"
   },
   {
    "duration": 1471,
    "start_time": "2022-11-29T22:10:54.273Z"
   },
   {
    "duration": 14,
    "start_time": "2022-11-29T22:11:07.625Z"
   },
   {
    "duration": 1313,
    "start_time": "2022-11-29T22:11:31.237Z"
   },
   {
    "duration": 16,
    "start_time": "2022-11-29T22:16:36.120Z"
   },
   {
    "duration": 16,
    "start_time": "2022-11-29T22:17:36.379Z"
   },
   {
    "duration": 15,
    "start_time": "2022-11-29T22:17:55.609Z"
   },
   {
    "duration": 16,
    "start_time": "2022-11-29T22:19:12.374Z"
   },
   {
    "duration": 15,
    "start_time": "2022-11-29T22:19:30.095Z"
   },
   {
    "duration": 16,
    "start_time": "2022-11-29T22:20:36.614Z"
   },
   {
    "duration": 17,
    "start_time": "2022-11-29T22:20:49.012Z"
   },
   {
    "duration": 15,
    "start_time": "2022-11-29T22:21:05.545Z"
   },
   {
    "duration": 15,
    "start_time": "2022-11-29T22:24:38.375Z"
   },
   {
    "duration": 17,
    "start_time": "2022-11-29T22:24:47.212Z"
   },
   {
    "duration": 69,
    "start_time": "2022-11-29T22:25:40.656Z"
   },
   {
    "duration": 18,
    "start_time": "2022-11-29T22:25:52.834Z"
   },
   {
    "duration": 19,
    "start_time": "2022-11-29T22:26:04.860Z"
   },
   {
    "duration": 17,
    "start_time": "2022-11-29T22:26:15.499Z"
   },
   {
    "duration": 19,
    "start_time": "2022-11-29T22:27:48.229Z"
   },
   {
    "duration": 17,
    "start_time": "2022-11-29T22:31:46.382Z"
   },
   {
    "duration": 17,
    "start_time": "2022-11-29T22:33:12.813Z"
   },
   {
    "duration": 16,
    "start_time": "2022-11-29T22:34:05.712Z"
   },
   {
    "duration": 13,
    "start_time": "2022-11-29T22:34:57.718Z"
   },
   {
    "duration": 13,
    "start_time": "2022-11-29T22:35:39.390Z"
   },
   {
    "duration": 18,
    "start_time": "2022-11-29T22:37:08.374Z"
   },
   {
    "duration": 12,
    "start_time": "2022-11-29T22:37:55.504Z"
   },
   {
    "duration": 19,
    "start_time": "2022-11-29T22:40:29.434Z"
   },
   {
    "duration": 12,
    "start_time": "2022-11-29T22:46:12.723Z"
   },
   {
    "duration": 11,
    "start_time": "2022-11-29T22:48:19.335Z"
   },
   {
    "duration": 12,
    "start_time": "2022-11-29T22:48:36.195Z"
   },
   {
    "duration": 12,
    "start_time": "2022-11-29T22:48:43.058Z"
   },
   {
    "duration": 11,
    "start_time": "2022-11-29T22:48:58.057Z"
   },
   {
    "duration": 16,
    "start_time": "2022-11-29T22:49:14.206Z"
   },
   {
    "duration": 16,
    "start_time": "2022-11-29T22:50:43.088Z"
   },
   {
    "duration": 438,
    "start_time": "2022-11-30T07:23:27.573Z"
   },
   {
    "duration": 23,
    "start_time": "2022-11-30T07:23:28.014Z"
   },
   {
    "duration": 21,
    "start_time": "2022-11-30T07:23:28.039Z"
   },
   {
    "duration": 13,
    "start_time": "2022-11-30T07:23:28.062Z"
   },
   {
    "duration": 35,
    "start_time": "2022-11-30T07:23:28.077Z"
   },
   {
    "duration": 3,
    "start_time": "2022-11-30T07:23:28.114Z"
   },
   {
    "duration": 25,
    "start_time": "2022-11-30T07:23:28.118Z"
   },
   {
    "duration": 8,
    "start_time": "2022-11-30T07:23:28.144Z"
   },
   {
    "duration": 9,
    "start_time": "2022-11-30T07:23:28.154Z"
   },
   {
    "duration": 5,
    "start_time": "2022-11-30T07:23:28.165Z"
   },
   {
    "duration": 36,
    "start_time": "2022-11-30T07:23:28.172Z"
   },
   {
    "duration": 8,
    "start_time": "2022-11-30T07:23:28.210Z"
   },
   {
    "duration": 7,
    "start_time": "2022-11-30T07:23:28.219Z"
   },
   {
    "duration": 32,
    "start_time": "2022-11-30T07:23:28.227Z"
   },
   {
    "duration": 22,
    "start_time": "2022-11-30T07:23:28.261Z"
   },
   {
    "duration": 17,
    "start_time": "2022-11-30T07:23:28.284Z"
   },
   {
    "duration": 11,
    "start_time": "2022-11-30T07:23:28.302Z"
   },
   {
    "duration": 38,
    "start_time": "2022-11-30T07:23:28.315Z"
   },
   {
    "duration": 28,
    "start_time": "2022-11-30T07:23:28.355Z"
   },
   {
    "duration": 12,
    "start_time": "2022-11-30T07:23:28.384Z"
   },
   {
    "duration": 25,
    "start_time": "2022-11-30T07:23:28.397Z"
   },
   {
    "duration": 24,
    "start_time": "2022-11-30T07:23:28.423Z"
   },
   {
    "duration": 32,
    "start_time": "2022-11-30T07:23:28.448Z"
   },
   {
    "duration": 26,
    "start_time": "2022-11-30T07:23:28.481Z"
   },
   {
    "duration": 43,
    "start_time": "2022-11-30T07:23:28.509Z"
   },
   {
    "duration": 62,
    "start_time": "2022-11-30T17:38:44.150Z"
   },
   {
    "duration": 423,
    "start_time": "2022-11-30T18:42:50.649Z"
   },
   {
    "duration": 308,
    "start_time": "2022-11-30T18:42:51.076Z"
   },
   {
    "duration": 23,
    "start_time": "2022-11-30T18:42:51.386Z"
   },
   {
    "duration": 19,
    "start_time": "2022-11-30T18:42:51.411Z"
   },
   {
    "duration": 12,
    "start_time": "2022-11-30T18:42:51.432Z"
   },
   {
    "duration": 55,
    "start_time": "2022-11-30T18:42:51.445Z"
   },
   {
    "duration": 3,
    "start_time": "2022-11-30T18:42:51.502Z"
   },
   {
    "duration": 16,
    "start_time": "2022-11-30T18:42:51.507Z"
   },
   {
    "duration": 15,
    "start_time": "2022-11-30T18:42:51.526Z"
   },
   {
    "duration": 12,
    "start_time": "2022-11-30T18:42:51.543Z"
   },
   {
    "duration": 12,
    "start_time": "2022-11-30T18:42:51.556Z"
   },
   {
    "duration": 45,
    "start_time": "2022-11-30T18:42:51.569Z"
   },
   {
    "duration": 11,
    "start_time": "2022-11-30T18:42:51.616Z"
   },
   {
    "duration": 4,
    "start_time": "2022-11-30T18:42:51.629Z"
   },
   {
    "duration": 14,
    "start_time": "2022-11-30T18:42:51.635Z"
   },
   {
    "duration": 42,
    "start_time": "2022-11-30T18:42:51.651Z"
   },
   {
    "duration": 18,
    "start_time": "2022-11-30T18:42:51.695Z"
   },
   {
    "duration": 4,
    "start_time": "2022-11-30T18:42:51.714Z"
   },
   {
    "duration": 15,
    "start_time": "2022-11-30T18:42:51.719Z"
   },
   {
    "duration": 12,
    "start_time": "2022-11-30T18:42:51.736Z"
   },
   {
    "duration": 11,
    "start_time": "2022-11-30T18:42:51.750Z"
   },
   {
    "duration": 9,
    "start_time": "2022-11-30T18:42:51.776Z"
   },
   {
    "duration": 20,
    "start_time": "2022-11-30T18:42:51.786Z"
   },
   {
    "duration": 4,
    "start_time": "2022-11-30T18:51:18.655Z"
   },
   {
    "duration": 69,
    "start_time": "2022-11-30T18:51:55.869Z"
   },
   {
    "duration": 39,
    "start_time": "2022-11-30T18:52:22.045Z"
   },
   {
    "duration": 12,
    "start_time": "2022-11-30T18:52:50.867Z"
   },
   {
    "duration": 11,
    "start_time": "2022-11-30T18:53:13.612Z"
   },
   {
    "duration": 9,
    "start_time": "2022-11-30T18:54:18.198Z"
   },
   {
    "duration": 10,
    "start_time": "2022-11-30T18:54:31.726Z"
   },
   {
    "duration": 48,
    "start_time": "2022-11-30T18:55:12.490Z"
   },
   {
    "duration": 12,
    "start_time": "2022-11-30T18:55:17.670Z"
   },
   {
    "duration": 13,
    "start_time": "2022-11-30T18:56:12.956Z"
   },
   {
    "duration": 20,
    "start_time": "2022-11-30T19:00:27.807Z"
   },
   {
    "duration": 8,
    "start_time": "2022-11-30T20:13:19.221Z"
   },
   {
    "duration": 11,
    "start_time": "2022-11-30T20:13:27.110Z"
   },
   {
    "duration": 17,
    "start_time": "2022-11-30T20:14:19.754Z"
   },
   {
    "duration": 19,
    "start_time": "2022-11-30T20:15:38.161Z"
   },
   {
    "duration": 39,
    "start_time": "2022-11-30T20:17:12.949Z"
   },
   {
    "duration": 15,
    "start_time": "2022-11-30T20:19:21.120Z"
   },
   {
    "duration": 15,
    "start_time": "2022-11-30T20:19:45.550Z"
   },
   {
    "duration": 35,
    "start_time": "2022-11-30T20:19:56.503Z"
   },
   {
    "duration": 3,
    "start_time": "2022-11-30T20:26:16.923Z"
   },
   {
    "duration": 77,
    "start_time": "2022-11-30T20:26:16.928Z"
   },
   {
    "duration": 15,
    "start_time": "2022-11-30T20:26:17.007Z"
   },
   {
    "duration": 15,
    "start_time": "2022-11-30T20:26:17.023Z"
   },
   {
    "duration": 9,
    "start_time": "2022-11-30T20:26:17.040Z"
   },
   {
    "duration": 51,
    "start_time": "2022-11-30T20:26:17.050Z"
   },
   {
    "duration": 3,
    "start_time": "2022-11-30T20:26:17.103Z"
   },
   {
    "duration": 10,
    "start_time": "2022-11-30T20:26:17.108Z"
   },
   {
    "duration": 8,
    "start_time": "2022-11-30T20:26:17.120Z"
   },
   {
    "duration": 8,
    "start_time": "2022-11-30T20:26:17.129Z"
   },
   {
    "duration": 7,
    "start_time": "2022-11-30T20:26:17.139Z"
   },
   {
    "duration": 52,
    "start_time": "2022-11-30T20:26:17.148Z"
   },
   {
    "duration": 9,
    "start_time": "2022-11-30T20:26:17.201Z"
   },
   {
    "duration": 5,
    "start_time": "2022-11-30T20:26:17.212Z"
   },
   {
    "duration": 14,
    "start_time": "2022-11-30T20:26:17.218Z"
   },
   {
    "duration": 22,
    "start_time": "2022-11-30T20:26:17.233Z"
   },
   {
    "duration": 34,
    "start_time": "2022-11-30T20:26:17.256Z"
   },
   {
    "duration": 3,
    "start_time": "2022-11-30T20:26:17.292Z"
   },
   {
    "duration": 13,
    "start_time": "2022-11-30T20:26:17.296Z"
   },
   {
    "duration": 9,
    "start_time": "2022-11-30T20:26:17.310Z"
   },
   {
    "duration": 4,
    "start_time": "2022-11-30T20:26:17.321Z"
   },
   {
    "duration": 12,
    "start_time": "2022-11-30T20:26:17.326Z"
   },
   {
    "duration": 42,
    "start_time": "2022-11-30T20:26:17.340Z"
   },
   {
    "duration": 38,
    "start_time": "2022-11-30T20:26:21.187Z"
   },
   {
    "duration": 4,
    "start_time": "2022-11-30T20:31:02.790Z"
   },
   {
    "duration": 3,
    "start_time": "2022-11-30T20:31:19.711Z"
   },
   {
    "duration": 38,
    "start_time": "2022-11-30T20:31:29.421Z"
   },
   {
    "duration": 38,
    "start_time": "2022-11-30T20:32:38.442Z"
   },
   {
    "duration": 46,
    "start_time": "2022-11-30T20:33:00.053Z"
   },
   {
    "duration": 44,
    "start_time": "2022-11-30T20:33:30.115Z"
   },
   {
    "duration": 42,
    "start_time": "2022-11-30T20:33:59.970Z"
   },
   {
    "duration": 43,
    "start_time": "2022-11-30T20:35:16.960Z"
   },
   {
    "duration": 43,
    "start_time": "2022-11-30T20:35:55.070Z"
   },
   {
    "duration": 47,
    "start_time": "2022-11-30T20:36:06.720Z"
   },
   {
    "duration": 45,
    "start_time": "2022-11-30T20:41:44.799Z"
   },
   {
    "duration": 41,
    "start_time": "2022-11-30T20:42:32.712Z"
   },
   {
    "duration": 52,
    "start_time": "2022-11-30T20:43:14.845Z"
   },
   {
    "duration": 47,
    "start_time": "2022-11-30T20:43:49.731Z"
   },
   {
    "duration": 35,
    "start_time": "2022-11-30T20:45:49.683Z"
   },
   {
    "duration": 38,
    "start_time": "2022-11-30T20:46:02.419Z"
   },
   {
    "duration": 19,
    "start_time": "2022-11-30T20:51:53.853Z"
   },
   {
    "duration": 18,
    "start_time": "2022-11-30T20:52:05.449Z"
   },
   {
    "duration": 41,
    "start_time": "2022-11-30T20:56:47.980Z"
   },
   {
    "duration": 42,
    "start_time": "2022-11-30T20:56:54.731Z"
   },
   {
    "duration": 43,
    "start_time": "2022-11-30T20:58:37.833Z"
   },
   {
    "duration": 46,
    "start_time": "2022-11-30T20:59:21.793Z"
   },
   {
    "duration": 39,
    "start_time": "2022-11-30T21:00:19.260Z"
   },
   {
    "duration": 42,
    "start_time": "2022-11-30T21:00:35.879Z"
   },
   {
    "duration": 49,
    "start_time": "2022-11-30T21:01:42.809Z"
   },
   {
    "duration": 41,
    "start_time": "2022-11-30T21:03:06.412Z"
   },
   {
    "duration": 39,
    "start_time": "2022-11-30T21:21:45.019Z"
   },
   {
    "duration": 45,
    "start_time": "2022-11-30T21:23:00.049Z"
   },
   {
    "duration": 46,
    "start_time": "2022-11-30T21:34:04.720Z"
   },
   {
    "duration": 399,
    "start_time": "2022-11-30T21:34:16.601Z"
   },
   {
    "duration": 72,
    "start_time": "2022-11-30T21:34:17.002Z"
   },
   {
    "duration": 21,
    "start_time": "2022-11-30T21:34:17.075Z"
   },
   {
    "duration": 13,
    "start_time": "2022-11-30T21:34:17.097Z"
   },
   {
    "duration": 8,
    "start_time": "2022-11-30T21:34:17.111Z"
   },
   {
    "duration": 57,
    "start_time": "2022-11-30T21:34:17.121Z"
   },
   {
    "duration": 3,
    "start_time": "2022-11-30T21:34:17.180Z"
   },
   {
    "duration": 17,
    "start_time": "2022-11-30T21:34:17.185Z"
   },
   {
    "duration": 6,
    "start_time": "2022-11-30T21:34:17.204Z"
   },
   {
    "duration": 21,
    "start_time": "2022-11-30T21:34:17.212Z"
   },
   {
    "duration": 8,
    "start_time": "2022-11-30T21:34:17.234Z"
   },
   {
    "duration": 41,
    "start_time": "2022-11-30T21:34:17.244Z"
   },
   {
    "duration": 9,
    "start_time": "2022-11-30T21:34:17.287Z"
   },
   {
    "duration": 18,
    "start_time": "2022-11-30T21:34:17.298Z"
   },
   {
    "duration": 33,
    "start_time": "2022-11-30T21:34:17.317Z"
   },
   {
    "duration": 37,
    "start_time": "2022-11-30T21:34:17.351Z"
   },
   {
    "duration": 14,
    "start_time": "2022-11-30T21:34:17.389Z"
   },
   {
    "duration": 46,
    "start_time": "2022-11-30T21:34:17.404Z"
   },
   {
    "duration": 18,
    "start_time": "2022-11-30T21:34:17.452Z"
   },
   {
    "duration": 37,
    "start_time": "2022-11-30T21:34:17.471Z"
   },
   {
    "duration": 47,
    "start_time": "2022-11-30T21:34:17.510Z"
   },
   {
    "duration": 25,
    "start_time": "2022-11-30T21:34:17.559Z"
   },
   {
    "duration": 44,
    "start_time": "2022-11-30T21:34:17.586Z"
   },
   {
    "duration": 45,
    "start_time": "2022-11-30T21:34:23.421Z"
   },
   {
    "duration": 61,
    "start_time": "2022-11-30T21:36:34.324Z"
   },
   {
    "duration": 76,
    "start_time": "2022-11-30T21:36:45.032Z"
   },
   {
    "duration": 1121,
    "start_time": "2022-11-30T21:37:16.267Z"
   },
   {
    "duration": 41,
    "start_time": "2022-11-30T21:37:42.071Z"
   },
   {
    "duration": 763,
    "start_time": "2022-11-30T21:37:59.931Z"
   },
   {
    "duration": 49,
    "start_time": "2022-11-30T21:38:07.498Z"
   },
   {
    "duration": 45,
    "start_time": "2022-11-30T21:40:39.628Z"
   },
   {
    "duration": 1112,
    "start_time": "2022-11-30T21:41:13.844Z"
   },
   {
    "duration": 253,
    "start_time": "2022-11-30T21:41:41.918Z"
   },
   {
    "duration": 50,
    "start_time": "2022-11-30T21:42:08.424Z"
   },
   {
    "duration": 1316,
    "start_time": "2022-11-30T21:42:45.065Z"
   },
   {
    "duration": 58,
    "start_time": "2022-11-30T21:44:14.957Z"
   },
   {
    "duration": 822,
    "start_time": "2022-11-30T21:45:34.162Z"
   },
   {
    "duration": 43,
    "start_time": "2022-11-30T21:45:46.646Z"
   },
   {
    "duration": 43,
    "start_time": "2022-11-30T21:47:53.774Z"
   },
   {
    "duration": 47,
    "start_time": "2022-11-30T21:49:31.586Z"
   },
   {
    "duration": 46,
    "start_time": "2022-11-30T21:51:47.604Z"
   },
   {
    "duration": 45,
    "start_time": "2022-11-30T21:52:24.124Z"
   },
   {
    "duration": 69,
    "start_time": "2022-11-30T22:15:35.499Z"
   },
   {
    "duration": 41,
    "start_time": "2022-11-30T22:32:11.346Z"
   },
   {
    "duration": 56,
    "start_time": "2022-11-30T22:33:28.082Z"
   },
   {
    "duration": 54,
    "start_time": "2022-11-30T22:47:29.679Z"
   },
   {
    "duration": 53,
    "start_time": "2022-11-30T22:48:03.907Z"
   },
   {
    "duration": 53,
    "start_time": "2022-11-30T22:48:35.010Z"
   },
   {
    "duration": 55,
    "start_time": "2022-11-30T22:51:51.818Z"
   },
   {
    "duration": 6,
    "start_time": "2022-11-30T23:40:38.396Z"
   },
   {
    "duration": 2,
    "start_time": "2022-11-30T23:41:02.252Z"
   },
   {
    "duration": 102,
    "start_time": "2022-11-30T23:41:02.256Z"
   },
   {
    "duration": 15,
    "start_time": "2022-11-30T23:41:02.360Z"
   },
   {
    "duration": 26,
    "start_time": "2022-11-30T23:41:02.377Z"
   },
   {
    "duration": 9,
    "start_time": "2022-11-30T23:41:02.404Z"
   },
   {
    "duration": 37,
    "start_time": "2022-11-30T23:41:02.415Z"
   },
   {
    "duration": 3,
    "start_time": "2022-11-30T23:41:02.454Z"
   },
   {
    "duration": 19,
    "start_time": "2022-11-30T23:41:02.458Z"
   },
   {
    "duration": 4,
    "start_time": "2022-11-30T23:41:02.480Z"
   },
   {
    "duration": 6,
    "start_time": "2022-11-30T23:41:05.491Z"
   },
   {
    "duration": 4,
    "start_time": "2022-11-30T23:41:16.715Z"
   },
   {
    "duration": 5,
    "start_time": "2022-11-30T23:42:45.324Z"
   },
   {
    "duration": 7,
    "start_time": "2022-11-30T23:45:07.244Z"
   },
   {
    "duration": 6,
    "start_time": "2022-11-30T23:45:26.875Z"
   },
   {
    "duration": 52,
    "start_time": "2022-11-30T23:45:51.762Z"
   },
   {
    "duration": 59,
    "start_time": "2022-11-30T23:46:02.985Z"
   },
   {
    "duration": 6,
    "start_time": "2022-11-30T23:46:25.115Z"
   },
   {
    "duration": 6,
    "start_time": "2022-11-30T23:46:43.035Z"
   },
   {
    "duration": 103,
    "start_time": "2022-12-01T00:05:42.484Z"
   },
   {
    "duration": 368,
    "start_time": "2022-12-01T00:21:28.714Z"
   },
   {
    "duration": 74,
    "start_time": "2022-12-01T00:21:29.084Z"
   },
   {
    "duration": 20,
    "start_time": "2022-12-01T00:21:29.160Z"
   },
   {
    "duration": 15,
    "start_time": "2022-12-01T00:21:29.182Z"
   },
   {
    "duration": 9,
    "start_time": "2022-12-01T00:21:29.198Z"
   },
   {
    "duration": 38,
    "start_time": "2022-12-01T00:21:29.209Z"
   },
   {
    "duration": 3,
    "start_time": "2022-12-01T00:21:29.249Z"
   },
   {
    "duration": 29,
    "start_time": "2022-12-01T00:21:29.254Z"
   },
   {
    "duration": 4,
    "start_time": "2022-12-01T00:21:29.285Z"
   },
   {
    "duration": 15,
    "start_time": "2022-12-01T00:21:29.291Z"
   },
   {
    "duration": 4,
    "start_time": "2022-12-01T00:21:29.308Z"
   },
   {
    "duration": 35,
    "start_time": "2022-12-01T00:21:29.313Z"
   },
   {
    "duration": 33,
    "start_time": "2022-12-01T00:21:29.349Z"
   },
   {
    "duration": 28,
    "start_time": "2022-12-01T00:21:29.384Z"
   },
   {
    "duration": 19,
    "start_time": "2022-12-01T00:21:29.414Z"
   },
   {
    "duration": 17,
    "start_time": "2022-12-01T00:21:29.435Z"
   },
   {
    "duration": 16,
    "start_time": "2022-12-01T00:21:29.454Z"
   },
   {
    "duration": 5,
    "start_time": "2022-12-01T00:21:29.471Z"
   },
   {
    "duration": 14,
    "start_time": "2022-12-01T00:21:29.477Z"
   },
   {
    "duration": 5,
    "start_time": "2022-12-01T00:21:29.493Z"
   },
   {
    "duration": 12,
    "start_time": "2022-12-01T00:21:29.500Z"
   },
   {
    "duration": 14,
    "start_time": "2022-12-01T00:21:29.514Z"
   },
   {
    "duration": 16,
    "start_time": "2022-12-01T00:21:29.530Z"
   },
   {
    "duration": 66,
    "start_time": "2022-12-01T00:21:29.547Z"
   },
   {
    "duration": 11,
    "start_time": "2022-12-01T00:21:29.614Z"
   },
   {
    "duration": 65,
    "start_time": "2022-12-01T00:21:29.627Z"
   },
   {
    "duration": 13,
    "start_time": "2022-12-01T00:21:29.693Z"
   },
   {
    "duration": 78,
    "start_time": "2022-12-01T00:21:29.710Z"
   },
   {
    "duration": 18,
    "start_time": "2022-12-01T00:21:29.790Z"
   },
   {
    "duration": 417,
    "start_time": "2022-12-01T07:29:57.641Z"
   },
   {
    "duration": 77,
    "start_time": "2022-12-01T07:29:58.060Z"
   },
   {
    "duration": 26,
    "start_time": "2022-12-01T07:29:58.139Z"
   },
   {
    "duration": 17,
    "start_time": "2022-12-01T07:29:58.167Z"
   },
   {
    "duration": 27,
    "start_time": "2022-12-01T07:29:58.186Z"
   },
   {
    "duration": 42,
    "start_time": "2022-12-01T07:29:58.215Z"
   },
   {
    "duration": 3,
    "start_time": "2022-12-01T07:29:58.259Z"
   },
   {
    "duration": 11,
    "start_time": "2022-12-01T07:29:58.264Z"
   },
   {
    "duration": 5,
    "start_time": "2022-12-01T07:29:58.278Z"
   },
   {
    "duration": 10,
    "start_time": "2022-12-01T07:29:58.285Z"
   },
   {
    "duration": 5,
    "start_time": "2022-12-01T07:29:58.296Z"
   },
   {
    "duration": 37,
    "start_time": "2022-12-01T07:29:58.303Z"
   },
   {
    "duration": 36,
    "start_time": "2022-12-01T07:29:58.342Z"
   },
   {
    "duration": 4,
    "start_time": "2022-12-01T07:29:58.380Z"
   },
   {
    "duration": 21,
    "start_time": "2022-12-01T07:29:58.386Z"
   },
   {
    "duration": 31,
    "start_time": "2022-12-01T07:29:58.409Z"
   },
   {
    "duration": 16,
    "start_time": "2022-12-01T07:29:58.442Z"
   },
   {
    "duration": 4,
    "start_time": "2022-12-01T07:29:58.459Z"
   },
   {
    "duration": 19,
    "start_time": "2022-12-01T07:29:58.465Z"
   },
   {
    "duration": 6,
    "start_time": "2022-12-01T07:29:58.486Z"
   },
   {
    "duration": 4,
    "start_time": "2022-12-01T07:29:58.493Z"
   },
   {
    "duration": 12,
    "start_time": "2022-12-01T07:29:58.499Z"
   },
   {
    "duration": 14,
    "start_time": "2022-12-01T07:29:58.512Z"
   },
   {
    "duration": 83,
    "start_time": "2022-12-01T07:29:58.528Z"
   },
   {
    "duration": 13,
    "start_time": "2022-12-01T07:29:58.612Z"
   },
   {
    "duration": 66,
    "start_time": "2022-12-01T07:29:58.627Z"
   },
   {
    "duration": 13,
    "start_time": "2022-12-01T07:29:58.695Z"
   },
   {
    "duration": 68,
    "start_time": "2022-12-01T07:29:58.712Z"
   },
   {
    "duration": 18,
    "start_time": "2022-12-01T07:29:58.782Z"
   }
  ],
  "colab": {
   "name": "dpp_template_part2.ipynb",
   "provenance": []
  },
  "kernelspec": {
   "display_name": "Python 3 (ipykernel)",
   "language": "python",
   "name": "python3"
  },
  "language_info": {
   "codemirror_mode": {
    "name": "ipython",
    "version": 3
   },
   "file_extension": ".py",
   "mimetype": "text/x-python",
   "name": "python",
   "nbconvert_exporter": "python",
   "pygments_lexer": "ipython3",
   "version": "3.9.13"
  },
  "toc": {
   "base_numbering": 1,
   "nav_menu": {},
   "number_sections": true,
   "sideBar": true,
   "skip_h1_title": true,
   "title_cell": "Table of Contents",
   "title_sidebar": "Contents",
   "toc_cell": false,
   "toc_position": {},
   "toc_section_display": true,
   "toc_window_display": false
  }
 },
 "nbformat": 4,
 "nbformat_minor": 5
}
