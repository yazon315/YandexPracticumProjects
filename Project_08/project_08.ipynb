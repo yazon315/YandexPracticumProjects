{
 "cells": [
  {
   "cell_type": "markdown",
   "metadata": {},
   "source": [
    "# Проект: Выбор региона для бурения новых скважин"
   ]
  },
  {
   "cell_type": "markdown",
   "metadata": {},
   "source": [
    "**Оглавление**<a id='toc0_'></a>    \n",
    "- 1. [Загрузка и подготовка данных](#toc1_)    \n",
    "  - 1.1. [Вывод по разделу 1](#toc1_1_)    \n",
    "- 2. [Обучение и проверка модели](#toc2_)    \n",
    "  - 2.1. [Разбивка данных на выборки](#toc2_1_)    \n",
    "  - 2.2. [Обучение модели и предсказания](#toc2_2_)    \n",
    "  - 2.3. [Вывод по разделу 2](#toc2_3_)    \n",
    "- 3. [Подготовка к расчёту прибыли](#toc3_)    \n",
    "  - 3.1. [Вывод по разделу 3](#toc3_1_)    \n",
    "- 4. [Расчёт прибыли и рисков](#toc4_)    \n",
    "  - 4.1. [Вывод по разделу 4](#toc4_1_)    \n",
    "- 5. [Общий вывод](#toc5_)    \n",
    "\n",
    "<!-- vscode-jupyter-toc-config\n",
    "\tnumbering=true\n",
    "\tanchor=true\n",
    "\tflat=false\n",
    "\tminLevel=2\n",
    "\tmaxLevel=6\n",
    "\t/vscode-jupyter-toc-config -->\n",
    "<!-- THIS CELL WILL BE REPLACED ON TOC UPDATE. DO NOT WRITE YOUR TEXT IN THIS CELL -->"
   ]
  },
  {
   "cell_type": "markdown",
   "metadata": {},
   "source": [
    "**Задание:**\n",
    "\n",
    "Добывающей компании «ГлавРосГосНефть» необходимо выбрать регион для бурения новых скважин.\n",
    "\n",
    "Предоставлены пробы нефти из трёх регионов (в каждом 100000 месторождений), где измерили качество нефти и объём её запасов.\n",
    "\n",
    "Необходимо построить модель машинного обучения, которая поможет определить регион, где добыча принесёт наибольшую прибыль. А также проанализировать возможную прибыль и риски техникой \"Bootstrap\".\n",
    "\n",
    "План работы:\n",
    "1. Загрузка и подготовка данных.\n",
    "2. Обучение и проверка модели.\n",
    "3. Подготовка к расчёту прибыли.\n",
    "4. Расчёт прибыли и рисков.\n",
    "5. Общий вывод."
   ]
  },
  {
   "cell_type": "markdown",
   "metadata": {},
   "source": [
    "## 1. <a id='toc1_'></a>[Загрузка и подготовка данных](#toc0_)"
   ]
  },
  {
   "cell_type": "code",
   "execution_count": 1,
   "metadata": {},
   "outputs": [],
   "source": [
    "# подключение библиотек\n",
    "import pandas as pd\n",
    "import numpy as np\n",
    "import matplotlib.pyplot as plt\n",
    "import seaborn as sns\n",
    "from IPython.display import display\n",
    "\n",
    "from sklearn.model_selection import train_test_split\n",
    "from sklearn.linear_model import LinearRegression\n",
    "from sklearn.metrics import mean_squared_error\n",
    "from sklearn.metrics import r2_score\n",
    "\n",
    "# константы\n",
    "RST = 12345 # random_state"
   ]
  },
  {
   "cell_type": "code",
   "execution_count": 2,
   "metadata": {},
   "outputs": [],
   "source": [
    "# функция загрузки и обзора данных\n",
    "# загружает файл в датасет, отображает его параметры, дубликаты, типы данных\n",
    "# на входе - имя файла, на выходе - датасет\n",
    "def zagr_obz (file):\n",
    "    # загрузка файла\n",
    "    try:\n",
    "        data = pd.read_csv('/datasets/'+file)\n",
    "    except FileNotFoundError:\n",
    "        data = pd.read_csv('D:/Education/Data_Science/Проекты курса DS/Проект_08/datasets/'+file)\n",
    "    # загрузка описаний столбцов данных\n",
    "    ind = ['id', 'f0', 'f1', 'f2', 'product']\n",
    "    polya = ['уникальный идентификатор скважины', 'признак точки №1', 'признак точки №2', 'признак точки №3', \n",
    "             'объём запасов в скважине (тыс. баррелей)']\n",
    "    opisanie = pd.DataFrame(data=polya, index=ind, columns=['описание'])\n",
    "    # обзор данных\n",
    "    print('--------------------------------------------------------\\n')\n",
    "    print('Данные из файла', file, ':\\n')\n",
    "    data.info()\n",
    "    display(pd.concat([data.head(5), data.sample(5), data.tail(5)]))\n",
    "    print('Количество дубликатов:', data.duplicated().sum())\n",
    "    print('Количество дубликатов в идентификаторах скважин:', data['id'].duplicated().sum())\n",
    "    print('Количество дубликатов в f0:', data['f0'].duplicated().sum())\n",
    "    print('Количество дубликатов в f1:', data['f1'].duplicated().sum())\n",
    "    print('Количество дубликатов в f2:', data['f2'].duplicated().sum())\n",
    "    print('Количество дубликатов в product:', data['product'].duplicated().sum())\n",
    "    display(data.dtypes.to_frame(name='тип данных').join(opisanie))\n",
    "    print('\\nСтатистическая информация:')\n",
    "    display(data.describe())\n",
    "    data.hist(figsize=(15, 10), bins=100)\n",
    "    plt.show()\n",
    "    return data"
   ]
  },
  {
   "cell_type": "code",
   "execution_count": 3,
   "metadata": {},
   "outputs": [],
   "source": [
    "# функция разделения датасета на выборки\n",
    "# на входе - датасет, на выходе обучающая и тестовая выборки\n",
    "def viborki (data):\n",
    "    # разделим исходные данные на параметры (features) и целевую переменную (target)\n",
    "    features = data.drop(['id', 'product'], axis=1)\n",
    "    target = data['product']\n",
    "    # разделим исходные данные на обучающую и валидационную (тестовую) выборки\n",
    "    features_train, features_test, target_train, target_test = train_test_split(\n",
    "        features, target, test_size=.25, random_state=RST)\n",
    "    # проверим количество строк в сформированных выборках\n",
    "    print(f'''    Обучающая выборка: \n",
    "        - параметры (строки, столбцы): {features_train.shape}\n",
    "        - целевая переменная (строки): {target_train.shape}''')\n",
    "    print(f'''    Валидационная (тестовая) выборка: \n",
    "        - параметры (строки, столбцы): {features_test.shape}\n",
    "        - целевая переменная (строки): {target_test.shape}''')\n",
    "    return features_train, features_test, target_train, target_test"
   ]
  },
  {
   "cell_type": "code",
   "execution_count": 4,
   "metadata": {},
   "outputs": [],
   "source": [
    "# функция для создания и обучения модели линейной регрессии\n",
    "# на входе обучающая и тестовая выборки, на выходе средний запас предсказанного сырья и RMSE\n",
    "def modeli(features_train, features_test, target_train, target_test):\n",
    "    # инициализируем модель \"линейная регрессия\"\n",
    "    model = LinearRegression()\n",
    "    # обучаем модель на обучающей выборке\n",
    "    model.fit(features_train, target_train)\n",
    "    # получаем предсказания модели на валидационной (тестовой) выборке\n",
    "    predictions = model.predict(features_test)\n",
    "    # считаем средний запас сырья\n",
    "    print(f'Средний запас сырья по предсказанным данным: {predictions.mean():.1f}')\n",
    "    print(f'Средний запас сырья по реальным данным: {target_test.mean():.1f}')\n",
    "    # считаем значение метрики RMSE\n",
    "    rmse = mean_squared_error(target_test, predictions, squared=False)\n",
    "    print(f'RMSE модели линейной регрессии на валидационной (тестовой) выборке: {rmse:.1f}')\n",
    "    print(f'R2 = {r2_score(target_test, predictions):.3f}')\n",
    "    return model, predictions"
   ]
  },
  {
   "cell_type": "markdown",
   "metadata": {},
   "source": [
    "Загрузим и рассмотрим исходные данные."
   ]
  },
  {
   "cell_type": "code",
   "execution_count": 5,
   "metadata": {},
   "outputs": [
    {
     "name": "stdout",
     "output_type": "stream",
     "text": [
      "--------------------------------------------------------\n",
      "\n",
      "Данные из файла geo_data_0.csv :\n",
      "\n",
      "<class 'pandas.core.frame.DataFrame'>\n",
      "RangeIndex: 100000 entries, 0 to 99999\n",
      "Data columns (total 5 columns):\n",
      " #   Column   Non-Null Count   Dtype  \n",
      "---  ------   --------------   -----  \n",
      " 0   id       100000 non-null  object \n",
      " 1   f0       100000 non-null  float64\n",
      " 2   f1       100000 non-null  float64\n",
      " 3   f2       100000 non-null  float64\n",
      " 4   product  100000 non-null  float64\n",
      "dtypes: float64(4), object(1)\n",
      "memory usage: 3.8+ MB\n"
     ]
    },
    {
     "data": {
      "text/html": [
       "<div>\n",
       "<style scoped>\n",
       "    .dataframe tbody tr th:only-of-type {\n",
       "        vertical-align: middle;\n",
       "    }\n",
       "\n",
       "    .dataframe tbody tr th {\n",
       "        vertical-align: top;\n",
       "    }\n",
       "\n",
       "    .dataframe thead th {\n",
       "        text-align: right;\n",
       "    }\n",
       "</style>\n",
       "<table border=\"1\" class=\"dataframe\">\n",
       "  <thead>\n",
       "    <tr style=\"text-align: right;\">\n",
       "      <th></th>\n",
       "      <th>id</th>\n",
       "      <th>f0</th>\n",
       "      <th>f1</th>\n",
       "      <th>f2</th>\n",
       "      <th>product</th>\n",
       "    </tr>\n",
       "  </thead>\n",
       "  <tbody>\n",
       "    <tr>\n",
       "      <th>0</th>\n",
       "      <td>txEyH</td>\n",
       "      <td>0.705745</td>\n",
       "      <td>-0.497823</td>\n",
       "      <td>1.221170</td>\n",
       "      <td>105.280062</td>\n",
       "    </tr>\n",
       "    <tr>\n",
       "      <th>1</th>\n",
       "      <td>2acmU</td>\n",
       "      <td>1.334711</td>\n",
       "      <td>-0.340164</td>\n",
       "      <td>4.365080</td>\n",
       "      <td>73.037750</td>\n",
       "    </tr>\n",
       "    <tr>\n",
       "      <th>2</th>\n",
       "      <td>409Wp</td>\n",
       "      <td>1.022732</td>\n",
       "      <td>0.151990</td>\n",
       "      <td>1.419926</td>\n",
       "      <td>85.265647</td>\n",
       "    </tr>\n",
       "    <tr>\n",
       "      <th>3</th>\n",
       "      <td>iJLyR</td>\n",
       "      <td>-0.032172</td>\n",
       "      <td>0.139033</td>\n",
       "      <td>2.978566</td>\n",
       "      <td>168.620776</td>\n",
       "    </tr>\n",
       "    <tr>\n",
       "      <th>4</th>\n",
       "      <td>Xdl7t</td>\n",
       "      <td>1.988431</td>\n",
       "      <td>0.155413</td>\n",
       "      <td>4.751769</td>\n",
       "      <td>154.036647</td>\n",
       "    </tr>\n",
       "    <tr>\n",
       "      <th>75440</th>\n",
       "      <td>xLrVZ</td>\n",
       "      <td>0.998311</td>\n",
       "      <td>0.391671</td>\n",
       "      <td>-1.615174</td>\n",
       "      <td>100.269613</td>\n",
       "    </tr>\n",
       "    <tr>\n",
       "      <th>32335</th>\n",
       "      <td>RNgkI</td>\n",
       "      <td>-0.685974</td>\n",
       "      <td>0.736530</td>\n",
       "      <td>2.746857</td>\n",
       "      <td>122.575361</td>\n",
       "    </tr>\n",
       "    <tr>\n",
       "      <th>77808</th>\n",
       "      <td>HeeIU</td>\n",
       "      <td>0.200914</td>\n",
       "      <td>1.002915</td>\n",
       "      <td>3.348766</td>\n",
       "      <td>133.833871</td>\n",
       "    </tr>\n",
       "    <tr>\n",
       "      <th>15878</th>\n",
       "      <td>s0Rpl</td>\n",
       "      <td>0.671371</td>\n",
       "      <td>0.912239</td>\n",
       "      <td>-2.129490</td>\n",
       "      <td>13.043895</td>\n",
       "    </tr>\n",
       "    <tr>\n",
       "      <th>82187</th>\n",
       "      <td>oBh0S</td>\n",
       "      <td>0.087027</td>\n",
       "      <td>0.287852</td>\n",
       "      <td>-5.088708</td>\n",
       "      <td>57.443264</td>\n",
       "    </tr>\n",
       "    <tr>\n",
       "      <th>99995</th>\n",
       "      <td>DLsed</td>\n",
       "      <td>0.971957</td>\n",
       "      <td>0.370953</td>\n",
       "      <td>6.075346</td>\n",
       "      <td>110.744026</td>\n",
       "    </tr>\n",
       "    <tr>\n",
       "      <th>99996</th>\n",
       "      <td>QKivN</td>\n",
       "      <td>1.392429</td>\n",
       "      <td>-0.382606</td>\n",
       "      <td>1.273912</td>\n",
       "      <td>122.346843</td>\n",
       "    </tr>\n",
       "    <tr>\n",
       "      <th>99997</th>\n",
       "      <td>3rnvd</td>\n",
       "      <td>1.029585</td>\n",
       "      <td>0.018787</td>\n",
       "      <td>-1.348308</td>\n",
       "      <td>64.375443</td>\n",
       "    </tr>\n",
       "    <tr>\n",
       "      <th>99998</th>\n",
       "      <td>7kl59</td>\n",
       "      <td>0.998163</td>\n",
       "      <td>-0.528582</td>\n",
       "      <td>1.583869</td>\n",
       "      <td>74.040764</td>\n",
       "    </tr>\n",
       "    <tr>\n",
       "      <th>99999</th>\n",
       "      <td>1CWhH</td>\n",
       "      <td>1.764754</td>\n",
       "      <td>-0.266417</td>\n",
       "      <td>5.722849</td>\n",
       "      <td>149.633246</td>\n",
       "    </tr>\n",
       "  </tbody>\n",
       "</table>\n",
       "</div>"
      ],
      "text/plain": [
       "          id        f0        f1        f2     product\n",
       "0      txEyH  0.705745 -0.497823  1.221170  105.280062\n",
       "1      2acmU  1.334711 -0.340164  4.365080   73.037750\n",
       "2      409Wp  1.022732  0.151990  1.419926   85.265647\n",
       "3      iJLyR -0.032172  0.139033  2.978566  168.620776\n",
       "4      Xdl7t  1.988431  0.155413  4.751769  154.036647\n",
       "75440  xLrVZ  0.998311  0.391671 -1.615174  100.269613\n",
       "32335  RNgkI -0.685974  0.736530  2.746857  122.575361\n",
       "77808  HeeIU  0.200914  1.002915  3.348766  133.833871\n",
       "15878  s0Rpl  0.671371  0.912239 -2.129490   13.043895\n",
       "82187  oBh0S  0.087027  0.287852 -5.088708   57.443264\n",
       "99995  DLsed  0.971957  0.370953  6.075346  110.744026\n",
       "99996  QKivN  1.392429 -0.382606  1.273912  122.346843\n",
       "99997  3rnvd  1.029585  0.018787 -1.348308   64.375443\n",
       "99998  7kl59  0.998163 -0.528582  1.583869   74.040764\n",
       "99999  1CWhH  1.764754 -0.266417  5.722849  149.633246"
      ]
     },
     "metadata": {},
     "output_type": "display_data"
    },
    {
     "name": "stdout",
     "output_type": "stream",
     "text": [
      "Количество дубликатов: 0\n",
      "Количество дубликатов в идентификаторах скважин: 10\n",
      "Количество дубликатов в f0: 0\n",
      "Количество дубликатов в f1: 0\n",
      "Количество дубликатов в f2: 0\n",
      "Количество дубликатов в product: 0\n"
     ]
    },
    {
     "data": {
      "text/html": [
       "<div>\n",
       "<style scoped>\n",
       "    .dataframe tbody tr th:only-of-type {\n",
       "        vertical-align: middle;\n",
       "    }\n",
       "\n",
       "    .dataframe tbody tr th {\n",
       "        vertical-align: top;\n",
       "    }\n",
       "\n",
       "    .dataframe thead th {\n",
       "        text-align: right;\n",
       "    }\n",
       "</style>\n",
       "<table border=\"1\" class=\"dataframe\">\n",
       "  <thead>\n",
       "    <tr style=\"text-align: right;\">\n",
       "      <th></th>\n",
       "      <th>тип данных</th>\n",
       "      <th>описание</th>\n",
       "    </tr>\n",
       "  </thead>\n",
       "  <tbody>\n",
       "    <tr>\n",
       "      <th>id</th>\n",
       "      <td>object</td>\n",
       "      <td>уникальный идентификатор скважины</td>\n",
       "    </tr>\n",
       "    <tr>\n",
       "      <th>f0</th>\n",
       "      <td>float64</td>\n",
       "      <td>признак точки №1</td>\n",
       "    </tr>\n",
       "    <tr>\n",
       "      <th>f1</th>\n",
       "      <td>float64</td>\n",
       "      <td>признак точки №2</td>\n",
       "    </tr>\n",
       "    <tr>\n",
       "      <th>f2</th>\n",
       "      <td>float64</td>\n",
       "      <td>признак точки №3</td>\n",
       "    </tr>\n",
       "    <tr>\n",
       "      <th>product</th>\n",
       "      <td>float64</td>\n",
       "      <td>объём запасов в скважине (тыс. баррелей)</td>\n",
       "    </tr>\n",
       "  </tbody>\n",
       "</table>\n",
       "</div>"
      ],
      "text/plain": [
       "        тип данных                                  описание\n",
       "id          object         уникальный идентификатор скважины\n",
       "f0         float64                          признак точки №1\n",
       "f1         float64                          признак точки №2\n",
       "f2         float64                          признак точки №3\n",
       "product    float64  объём запасов в скважине (тыс. баррелей)"
      ]
     },
     "metadata": {},
     "output_type": "display_data"
    },
    {
     "name": "stdout",
     "output_type": "stream",
     "text": [
      "\n",
      "Статистическая информация:\n"
     ]
    },
    {
     "data": {
      "text/html": [
       "<div>\n",
       "<style scoped>\n",
       "    .dataframe tbody tr th:only-of-type {\n",
       "        vertical-align: middle;\n",
       "    }\n",
       "\n",
       "    .dataframe tbody tr th {\n",
       "        vertical-align: top;\n",
       "    }\n",
       "\n",
       "    .dataframe thead th {\n",
       "        text-align: right;\n",
       "    }\n",
       "</style>\n",
       "<table border=\"1\" class=\"dataframe\">\n",
       "  <thead>\n",
       "    <tr style=\"text-align: right;\">\n",
       "      <th></th>\n",
       "      <th>f0</th>\n",
       "      <th>f1</th>\n",
       "      <th>f2</th>\n",
       "      <th>product</th>\n",
       "    </tr>\n",
       "  </thead>\n",
       "  <tbody>\n",
       "    <tr>\n",
       "      <th>count</th>\n",
       "      <td>100000.000000</td>\n",
       "      <td>100000.000000</td>\n",
       "      <td>100000.000000</td>\n",
       "      <td>100000.000000</td>\n",
       "    </tr>\n",
       "    <tr>\n",
       "      <th>mean</th>\n",
       "      <td>0.500419</td>\n",
       "      <td>0.250143</td>\n",
       "      <td>2.502647</td>\n",
       "      <td>92.500000</td>\n",
       "    </tr>\n",
       "    <tr>\n",
       "      <th>std</th>\n",
       "      <td>0.871832</td>\n",
       "      <td>0.504433</td>\n",
       "      <td>3.248248</td>\n",
       "      <td>44.288691</td>\n",
       "    </tr>\n",
       "    <tr>\n",
       "      <th>min</th>\n",
       "      <td>-1.408605</td>\n",
       "      <td>-0.848218</td>\n",
       "      <td>-12.088328</td>\n",
       "      <td>0.000000</td>\n",
       "    </tr>\n",
       "    <tr>\n",
       "      <th>25%</th>\n",
       "      <td>-0.072580</td>\n",
       "      <td>-0.200881</td>\n",
       "      <td>0.287748</td>\n",
       "      <td>56.497507</td>\n",
       "    </tr>\n",
       "    <tr>\n",
       "      <th>50%</th>\n",
       "      <td>0.502360</td>\n",
       "      <td>0.250252</td>\n",
       "      <td>2.515969</td>\n",
       "      <td>91.849972</td>\n",
       "    </tr>\n",
       "    <tr>\n",
       "      <th>75%</th>\n",
       "      <td>1.073581</td>\n",
       "      <td>0.700646</td>\n",
       "      <td>4.715088</td>\n",
       "      <td>128.564089</td>\n",
       "    </tr>\n",
       "    <tr>\n",
       "      <th>max</th>\n",
       "      <td>2.362331</td>\n",
       "      <td>1.343769</td>\n",
       "      <td>16.003790</td>\n",
       "      <td>185.364347</td>\n",
       "    </tr>\n",
       "  </tbody>\n",
       "</table>\n",
       "</div>"
      ],
      "text/plain": [
       "                  f0             f1             f2        product\n",
       "count  100000.000000  100000.000000  100000.000000  100000.000000\n",
       "mean        0.500419       0.250143       2.502647      92.500000\n",
       "std         0.871832       0.504433       3.248248      44.288691\n",
       "min        -1.408605      -0.848218     -12.088328       0.000000\n",
       "25%        -0.072580      -0.200881       0.287748      56.497507\n",
       "50%         0.502360       0.250252       2.515969      91.849972\n",
       "75%         1.073581       0.700646       4.715088     128.564089\n",
       "max         2.362331       1.343769      16.003790     185.364347"
      ]
     },
     "metadata": {},
     "output_type": "display_data"
    },
    {
     "data": {
      "image/png": "[encoded data removed]",
      "text/plain": [
       "<Figure size 1080x720 with 4 Axes>"
      ]
     },
     "metadata": {
      "needs_background": "light"
     },
     "output_type": "display_data"
    },
    {
     "name": "stdout",
     "output_type": "stream",
     "text": [
      "--------------------------------------------------------\n",
      "\n",
      "Данные из файла geo_data_1.csv :\n",
      "\n",
      "<class 'pandas.core.frame.DataFrame'>\n",
      "RangeIndex: 100000 entries, 0 to 99999\n",
      "Data columns (total 5 columns):\n",
      " #   Column   Non-Null Count   Dtype  \n",
      "---  ------   --------------   -----  \n",
      " 0   id       100000 non-null  object \n",
      " 1   f0       100000 non-null  float64\n",
      " 2   f1       100000 non-null  float64\n",
      " 3   f2       100000 non-null  float64\n",
      " 4   product  100000 non-null  float64\n",
      "dtypes: float64(4), object(1)\n",
      "memory usage: 3.8+ MB\n"
     ]
    },
    {
     "data": {
      "text/html": [
       "<div>\n",
       "<style scoped>\n",
       "    .dataframe tbody tr th:only-of-type {\n",
       "        vertical-align: middle;\n",
       "    }\n",
       "\n",
       "    .dataframe tbody tr th {\n",
       "        vertical-align: top;\n",
       "    }\n",
       "\n",
       "    .dataframe thead th {\n",
       "        text-align: right;\n",
       "    }\n",
       "</style>\n",
       "<table border=\"1\" class=\"dataframe\">\n",
       "  <thead>\n",
       "    <tr style=\"text-align: right;\">\n",
       "      <th></th>\n",
       "      <th>id</th>\n",
       "      <th>f0</th>\n",
       "      <th>f1</th>\n",
       "      <th>f2</th>\n",
       "      <th>product</th>\n",
       "    </tr>\n",
       "  </thead>\n",
       "  <tbody>\n",
       "    <tr>\n",
       "      <th>0</th>\n",
       "      <td>kBEdx</td>\n",
       "      <td>-15.001348</td>\n",
       "      <td>-8.276000</td>\n",
       "      <td>-0.005876</td>\n",
       "      <td>3.179103</td>\n",
       "    </tr>\n",
       "    <tr>\n",
       "      <th>1</th>\n",
       "      <td>62mP7</td>\n",
       "      <td>14.272088</td>\n",
       "      <td>-3.475083</td>\n",
       "      <td>0.999183</td>\n",
       "      <td>26.953261</td>\n",
       "    </tr>\n",
       "    <tr>\n",
       "      <th>2</th>\n",
       "      <td>vyE1P</td>\n",
       "      <td>6.263187</td>\n",
       "      <td>-5.948386</td>\n",
       "      <td>5.001160</td>\n",
       "      <td>134.766305</td>\n",
       "    </tr>\n",
       "    <tr>\n",
       "      <th>3</th>\n",
       "      <td>KcrkZ</td>\n",
       "      <td>-13.081196</td>\n",
       "      <td>-11.506057</td>\n",
       "      <td>4.999415</td>\n",
       "      <td>137.945408</td>\n",
       "    </tr>\n",
       "    <tr>\n",
       "      <th>4</th>\n",
       "      <td>AHL4O</td>\n",
       "      <td>12.702195</td>\n",
       "      <td>-8.147433</td>\n",
       "      <td>5.004363</td>\n",
       "      <td>134.766305</td>\n",
       "    </tr>\n",
       "    <tr>\n",
       "      <th>94480</th>\n",
       "      <td>2vKcy</td>\n",
       "      <td>3.725029</td>\n",
       "      <td>-6.648298</td>\n",
       "      <td>4.994673</td>\n",
       "      <td>134.766305</td>\n",
       "    </tr>\n",
       "    <tr>\n",
       "      <th>30979</th>\n",
       "      <td>MpcRp</td>\n",
       "      <td>-2.188641</td>\n",
       "      <td>2.644041</td>\n",
       "      <td>3.996447</td>\n",
       "      <td>110.992147</td>\n",
       "    </tr>\n",
       "    <tr>\n",
       "      <th>16675</th>\n",
       "      <td>d94H5</td>\n",
       "      <td>-9.618124</td>\n",
       "      <td>1.483650</td>\n",
       "      <td>2.002485</td>\n",
       "      <td>57.085625</td>\n",
       "    </tr>\n",
       "    <tr>\n",
       "      <th>58498</th>\n",
       "      <td>UQs8w</td>\n",
       "      <td>2.151908</td>\n",
       "      <td>2.546658</td>\n",
       "      <td>5.003489</td>\n",
       "      <td>134.766305</td>\n",
       "    </tr>\n",
       "    <tr>\n",
       "      <th>823</th>\n",
       "      <td>IOcJ8</td>\n",
       "      <td>5.345455</td>\n",
       "      <td>-1.584767</td>\n",
       "      <td>0.995835</td>\n",
       "      <td>26.953261</td>\n",
       "    </tr>\n",
       "    <tr>\n",
       "      <th>99995</th>\n",
       "      <td>QywKC</td>\n",
       "      <td>9.535637</td>\n",
       "      <td>-6.878139</td>\n",
       "      <td>1.998296</td>\n",
       "      <td>53.906522</td>\n",
       "    </tr>\n",
       "    <tr>\n",
       "      <th>99996</th>\n",
       "      <td>ptvty</td>\n",
       "      <td>-10.160631</td>\n",
       "      <td>-12.558096</td>\n",
       "      <td>5.005581</td>\n",
       "      <td>137.945408</td>\n",
       "    </tr>\n",
       "    <tr>\n",
       "      <th>99997</th>\n",
       "      <td>09gWa</td>\n",
       "      <td>-7.378891</td>\n",
       "      <td>-3.084104</td>\n",
       "      <td>4.998651</td>\n",
       "      <td>137.945408</td>\n",
       "    </tr>\n",
       "    <tr>\n",
       "      <th>99998</th>\n",
       "      <td>rqwUm</td>\n",
       "      <td>0.665714</td>\n",
       "      <td>-6.152593</td>\n",
       "      <td>1.000146</td>\n",
       "      <td>30.132364</td>\n",
       "    </tr>\n",
       "    <tr>\n",
       "      <th>99999</th>\n",
       "      <td>relB0</td>\n",
       "      <td>-3.426139</td>\n",
       "      <td>-7.794274</td>\n",
       "      <td>-0.003299</td>\n",
       "      <td>3.179103</td>\n",
       "    </tr>\n",
       "  </tbody>\n",
       "</table>\n",
       "</div>"
      ],
      "text/plain": [
       "          id         f0         f1        f2     product\n",
       "0      kBEdx -15.001348  -8.276000 -0.005876    3.179103\n",
       "1      62mP7  14.272088  -3.475083  0.999183   26.953261\n",
       "2      vyE1P   6.263187  -5.948386  5.001160  134.766305\n",
       "3      KcrkZ -13.081196 -11.506057  4.999415  137.945408\n",
       "4      AHL4O  12.702195  -8.147433  5.004363  134.766305\n",
       "94480  2vKcy   3.725029  -6.648298  4.994673  134.766305\n",
       "30979  MpcRp  -2.188641   2.644041  3.996447  110.992147\n",
       "16675  d94H5  -9.618124   1.483650  2.002485   57.085625\n",
       "58498  UQs8w   2.151908   2.546658  5.003489  134.766305\n",
       "823    IOcJ8   5.345455  -1.584767  0.995835   26.953261\n",
       "99995  QywKC   9.535637  -6.878139  1.998296   53.906522\n",
       "99996  ptvty -10.160631 -12.558096  5.005581  137.945408\n",
       "99997  09gWa  -7.378891  -3.084104  4.998651  137.945408\n",
       "99998  rqwUm   0.665714  -6.152593  1.000146   30.132364\n",
       "99999  relB0  -3.426139  -7.794274 -0.003299    3.179103"
      ]
     },
     "metadata": {},
     "output_type": "display_data"
    },
    {
     "name": "stdout",
     "output_type": "stream",
     "text": [
      "Количество дубликатов: 0\n",
      "Количество дубликатов в идентификаторах скважин: 4\n",
      "Количество дубликатов в f0: 0\n",
      "Количество дубликатов в f1: 0\n",
      "Количество дубликатов в f2: 0\n",
      "Количество дубликатов в product: 99988\n"
     ]
    },
    {
     "data": {
      "text/html": [
       "<div>\n",
       "<style scoped>\n",
       "    .dataframe tbody tr th:only-of-type {\n",
       "        vertical-align: middle;\n",
       "    }\n",
       "\n",
       "    .dataframe tbody tr th {\n",
       "        vertical-align: top;\n",
       "    }\n",
       "\n",
       "    .dataframe thead th {\n",
       "        text-align: right;\n",
       "    }\n",
       "</style>\n",
       "<table border=\"1\" class=\"dataframe\">\n",
       "  <thead>\n",
       "    <tr style=\"text-align: right;\">\n",
       "      <th></th>\n",
       "      <th>тип данных</th>\n",
       "      <th>описание</th>\n",
       "    </tr>\n",
       "  </thead>\n",
       "  <tbody>\n",
       "    <tr>\n",
       "      <th>id</th>\n",
       "      <td>object</td>\n",
       "      <td>уникальный идентификатор скважины</td>\n",
       "    </tr>\n",
       "    <tr>\n",
       "      <th>f0</th>\n",
       "      <td>float64</td>\n",
       "      <td>признак точки №1</td>\n",
       "    </tr>\n",
       "    <tr>\n",
       "      <th>f1</th>\n",
       "      <td>float64</td>\n",
       "      <td>признак точки №2</td>\n",
       "    </tr>\n",
       "    <tr>\n",
       "      <th>f2</th>\n",
       "      <td>float64</td>\n",
       "      <td>признак точки №3</td>\n",
       "    </tr>\n",
       "    <tr>\n",
       "      <th>product</th>\n",
       "      <td>float64</td>\n",
       "      <td>объём запасов в скважине (тыс. баррелей)</td>\n",
       "    </tr>\n",
       "  </tbody>\n",
       "</table>\n",
       "</div>"
      ],
      "text/plain": [
       "        тип данных                                  описание\n",
       "id          object         уникальный идентификатор скважины\n",
       "f0         float64                          признак точки №1\n",
       "f1         float64                          признак точки №2\n",
       "f2         float64                          признак точки №3\n",
       "product    float64  объём запасов в скважине (тыс. баррелей)"
      ]
     },
     "metadata": {},
     "output_type": "display_data"
    },
    {
     "name": "stdout",
     "output_type": "stream",
     "text": [
      "\n",
      "Статистическая информация:\n"
     ]
    },
    {
     "data": {
      "text/html": [
       "<div>\n",
       "<style scoped>\n",
       "    .dataframe tbody tr th:only-of-type {\n",
       "        vertical-align: middle;\n",
       "    }\n",
       "\n",
       "    .dataframe tbody tr th {\n",
       "        vertical-align: top;\n",
       "    }\n",
       "\n",
       "    .dataframe thead th {\n",
       "        text-align: right;\n",
       "    }\n",
       "</style>\n",
       "<table border=\"1\" class=\"dataframe\">\n",
       "  <thead>\n",
       "    <tr style=\"text-align: right;\">\n",
       "      <th></th>\n",
       "      <th>f0</th>\n",
       "      <th>f1</th>\n",
       "      <th>f2</th>\n",
       "      <th>product</th>\n",
       "    </tr>\n",
       "  </thead>\n",
       "  <tbody>\n",
       "    <tr>\n",
       "      <th>count</th>\n",
       "      <td>100000.000000</td>\n",
       "      <td>100000.000000</td>\n",
       "      <td>100000.000000</td>\n",
       "      <td>100000.000000</td>\n",
       "    </tr>\n",
       "    <tr>\n",
       "      <th>mean</th>\n",
       "      <td>1.141296</td>\n",
       "      <td>-4.796579</td>\n",
       "      <td>2.494541</td>\n",
       "      <td>68.825000</td>\n",
       "    </tr>\n",
       "    <tr>\n",
       "      <th>std</th>\n",
       "      <td>8.965932</td>\n",
       "      <td>5.119872</td>\n",
       "      <td>1.703572</td>\n",
       "      <td>45.944423</td>\n",
       "    </tr>\n",
       "    <tr>\n",
       "      <th>min</th>\n",
       "      <td>-31.609576</td>\n",
       "      <td>-26.358598</td>\n",
       "      <td>-0.018144</td>\n",
       "      <td>0.000000</td>\n",
       "    </tr>\n",
       "    <tr>\n",
       "      <th>25%</th>\n",
       "      <td>-6.298551</td>\n",
       "      <td>-8.267985</td>\n",
       "      <td>1.000021</td>\n",
       "      <td>26.953261</td>\n",
       "    </tr>\n",
       "    <tr>\n",
       "      <th>50%</th>\n",
       "      <td>1.153055</td>\n",
       "      <td>-4.813172</td>\n",
       "      <td>2.011479</td>\n",
       "      <td>57.085625</td>\n",
       "    </tr>\n",
       "    <tr>\n",
       "      <th>75%</th>\n",
       "      <td>8.621015</td>\n",
       "      <td>-1.332816</td>\n",
       "      <td>3.999904</td>\n",
       "      <td>107.813044</td>\n",
       "    </tr>\n",
       "    <tr>\n",
       "      <th>max</th>\n",
       "      <td>29.421755</td>\n",
       "      <td>18.734063</td>\n",
       "      <td>5.019721</td>\n",
       "      <td>137.945408</td>\n",
       "    </tr>\n",
       "  </tbody>\n",
       "</table>\n",
       "</div>"
      ],
      "text/plain": [
       "                  f0             f1             f2        product\n",
       "count  100000.000000  100000.000000  100000.000000  100000.000000\n",
       "mean        1.141296      -4.796579       2.494541      68.825000\n",
       "std         8.965932       5.119872       1.703572      45.944423\n",
       "min       -31.609576     -26.358598      -0.018144       0.000000\n",
       "25%        -6.298551      -8.267985       1.000021      26.953261\n",
       "50%         1.153055      -4.813172       2.011479      57.085625\n",
       "75%         8.621015      -1.332816       3.999904     107.813044\n",
       "max        29.421755      18.734063       5.019721     137.945408"
      ]
     },
     "metadata": {},
     "output_type": "display_data"
    },
    {
     "data": {
      "image/png": "[encoded data removed]",
      "text/plain": [
       "<Figure size 1080x720 with 4 Axes>"
      ]
     },
     "metadata": {
      "needs_background": "light"
     },
     "output_type": "display_data"
    },
    {
     "name": "stdout",
     "output_type": "stream",
     "text": [
      "--------------------------------------------------------\n",
      "\n",
      "Данные из файла geo_data_2.csv :\n",
      "\n",
      "<class 'pandas.core.frame.DataFrame'>\n",
      "RangeIndex: 100000 entries, 0 to 99999\n",
      "Data columns (total 5 columns):\n",
      " #   Column   Non-Null Count   Dtype  \n",
      "---  ------   --------------   -----  \n",
      " 0   id       100000 non-null  object \n",
      " 1   f0       100000 non-null  float64\n",
      " 2   f1       100000 non-null  float64\n",
      " 3   f2       100000 non-null  float64\n",
      " 4   product  100000 non-null  float64\n",
      "dtypes: float64(4), object(1)\n",
      "memory usage: 3.8+ MB\n"
     ]
    },
    {
     "data": {
      "text/html": [
       "<div>\n",
       "<style scoped>\n",
       "    .dataframe tbody tr th:only-of-type {\n",
       "        vertical-align: middle;\n",
       "    }\n",
       "\n",
       "    .dataframe tbody tr th {\n",
       "        vertical-align: top;\n",
       "    }\n",
       "\n",
       "    .dataframe thead th {\n",
       "        text-align: right;\n",
       "    }\n",
       "</style>\n",
       "<table border=\"1\" class=\"dataframe\">\n",
       "  <thead>\n",
       "    <tr style=\"text-align: right;\">\n",
       "      <th></th>\n",
       "      <th>id</th>\n",
       "      <th>f0</th>\n",
       "      <th>f1</th>\n",
       "      <th>f2</th>\n",
       "      <th>product</th>\n",
       "    </tr>\n",
       "  </thead>\n",
       "  <tbody>\n",
       "    <tr>\n",
       "      <th>0</th>\n",
       "      <td>fwXo0</td>\n",
       "      <td>-1.146987</td>\n",
       "      <td>0.963328</td>\n",
       "      <td>-0.828965</td>\n",
       "      <td>27.758673</td>\n",
       "    </tr>\n",
       "    <tr>\n",
       "      <th>1</th>\n",
       "      <td>WJtFt</td>\n",
       "      <td>0.262778</td>\n",
       "      <td>0.269839</td>\n",
       "      <td>-2.530187</td>\n",
       "      <td>56.069697</td>\n",
       "    </tr>\n",
       "    <tr>\n",
       "      <th>2</th>\n",
       "      <td>ovLUW</td>\n",
       "      <td>0.194587</td>\n",
       "      <td>0.289035</td>\n",
       "      <td>-5.586433</td>\n",
       "      <td>62.871910</td>\n",
       "    </tr>\n",
       "    <tr>\n",
       "      <th>3</th>\n",
       "      <td>q6cA6</td>\n",
       "      <td>2.236060</td>\n",
       "      <td>-0.553760</td>\n",
       "      <td>0.930038</td>\n",
       "      <td>114.572842</td>\n",
       "    </tr>\n",
       "    <tr>\n",
       "      <th>4</th>\n",
       "      <td>WPMUX</td>\n",
       "      <td>-0.515993</td>\n",
       "      <td>1.716266</td>\n",
       "      <td>5.899011</td>\n",
       "      <td>149.600746</td>\n",
       "    </tr>\n",
       "    <tr>\n",
       "      <th>23320</th>\n",
       "      <td>hK77l</td>\n",
       "      <td>0.475394</td>\n",
       "      <td>1.304403</td>\n",
       "      <td>0.697552</td>\n",
       "      <td>128.276588</td>\n",
       "    </tr>\n",
       "    <tr>\n",
       "      <th>49786</th>\n",
       "      <td>VrBni</td>\n",
       "      <td>1.262463</td>\n",
       "      <td>-0.553336</td>\n",
       "      <td>-1.239408</td>\n",
       "      <td>39.751623</td>\n",
       "    </tr>\n",
       "    <tr>\n",
       "      <th>62244</th>\n",
       "      <td>APNup</td>\n",
       "      <td>1.243054</td>\n",
       "      <td>0.398821</td>\n",
       "      <td>4.150498</td>\n",
       "      <td>78.106854</td>\n",
       "    </tr>\n",
       "    <tr>\n",
       "      <th>7351</th>\n",
       "      <td>5PCLC</td>\n",
       "      <td>-0.114206</td>\n",
       "      <td>1.534975</td>\n",
       "      <td>0.068090</td>\n",
       "      <td>7.474704</td>\n",
       "    </tr>\n",
       "    <tr>\n",
       "      <th>2090</th>\n",
       "      <td>hjZxc</td>\n",
       "      <td>-0.638112</td>\n",
       "      <td>-0.729532</td>\n",
       "      <td>9.550031</td>\n",
       "      <td>141.443101</td>\n",
       "    </tr>\n",
       "    <tr>\n",
       "      <th>99995</th>\n",
       "      <td>4GxBu</td>\n",
       "      <td>-1.777037</td>\n",
       "      <td>1.125220</td>\n",
       "      <td>6.263374</td>\n",
       "      <td>172.327046</td>\n",
       "    </tr>\n",
       "    <tr>\n",
       "      <th>99996</th>\n",
       "      <td>YKFjq</td>\n",
       "      <td>-1.261523</td>\n",
       "      <td>-0.894828</td>\n",
       "      <td>2.524545</td>\n",
       "      <td>138.748846</td>\n",
       "    </tr>\n",
       "    <tr>\n",
       "      <th>99997</th>\n",
       "      <td>tKPY3</td>\n",
       "      <td>-1.199934</td>\n",
       "      <td>-2.957637</td>\n",
       "      <td>5.219411</td>\n",
       "      <td>157.080080</td>\n",
       "    </tr>\n",
       "    <tr>\n",
       "      <th>99998</th>\n",
       "      <td>nmxp2</td>\n",
       "      <td>-2.419896</td>\n",
       "      <td>2.417221</td>\n",
       "      <td>-5.548444</td>\n",
       "      <td>51.795253</td>\n",
       "    </tr>\n",
       "    <tr>\n",
       "      <th>99999</th>\n",
       "      <td>V9kWn</td>\n",
       "      <td>-2.551421</td>\n",
       "      <td>-2.025625</td>\n",
       "      <td>6.090891</td>\n",
       "      <td>102.775767</td>\n",
       "    </tr>\n",
       "  </tbody>\n",
       "</table>\n",
       "</div>"
      ],
      "text/plain": [
       "          id        f0        f1        f2     product\n",
       "0      fwXo0 -1.146987  0.963328 -0.828965   27.758673\n",
       "1      WJtFt  0.262778  0.269839 -2.530187   56.069697\n",
       "2      ovLUW  0.194587  0.289035 -5.586433   62.871910\n",
       "3      q6cA6  2.236060 -0.553760  0.930038  114.572842\n",
       "4      WPMUX -0.515993  1.716266  5.899011  149.600746\n",
       "23320  hK77l  0.475394  1.304403  0.697552  128.276588\n",
       "49786  VrBni  1.262463 -0.553336 -1.239408   39.751623\n",
       "62244  APNup  1.243054  0.398821  4.150498   78.106854\n",
       "7351   5PCLC -0.114206  1.534975  0.068090    7.474704\n",
       "2090   hjZxc -0.638112 -0.729532  9.550031  141.443101\n",
       "99995  4GxBu -1.777037  1.125220  6.263374  172.327046\n",
       "99996  YKFjq -1.261523 -0.894828  2.524545  138.748846\n",
       "99997  tKPY3 -1.199934 -2.957637  5.219411  157.080080\n",
       "99998  nmxp2 -2.419896  2.417221 -5.548444   51.795253\n",
       "99999  V9kWn -2.551421 -2.025625  6.090891  102.775767"
      ]
     },
     "metadata": {},
     "output_type": "display_data"
    },
    {
     "name": "stdout",
     "output_type": "stream",
     "text": [
      "Количество дубликатов: 0\n",
      "Количество дубликатов в идентификаторах скважин: 4\n",
      "Количество дубликатов в f0: 0\n",
      "Количество дубликатов в f1: 0\n",
      "Количество дубликатов в f2: 0\n",
      "Количество дубликатов в product: 0\n"
     ]
    },
    {
     "data": {
      "text/html": [
       "<div>\n",
       "<style scoped>\n",
       "    .dataframe tbody tr th:only-of-type {\n",
       "        vertical-align: middle;\n",
       "    }\n",
       "\n",
       "    .dataframe tbody tr th {\n",
       "        vertical-align: top;\n",
       "    }\n",
       "\n",
       "    .dataframe thead th {\n",
       "        text-align: right;\n",
       "    }\n",
       "</style>\n",
       "<table border=\"1\" class=\"dataframe\">\n",
       "  <thead>\n",
       "    <tr style=\"text-align: right;\">\n",
       "      <th></th>\n",
       "      <th>тип данных</th>\n",
       "      <th>описание</th>\n",
       "    </tr>\n",
       "  </thead>\n",
       "  <tbody>\n",
       "    <tr>\n",
       "      <th>id</th>\n",
       "      <td>object</td>\n",
       "      <td>уникальный идентификатор скважины</td>\n",
       "    </tr>\n",
       "    <tr>\n",
       "      <th>f0</th>\n",
       "      <td>float64</td>\n",
       "      <td>признак точки №1</td>\n",
       "    </tr>\n",
       "    <tr>\n",
       "      <th>f1</th>\n",
       "      <td>float64</td>\n",
       "      <td>признак точки №2</td>\n",
       "    </tr>\n",
       "    <tr>\n",
       "      <th>f2</th>\n",
       "      <td>float64</td>\n",
       "      <td>признак точки №3</td>\n",
       "    </tr>\n",
       "    <tr>\n",
       "      <th>product</th>\n",
       "      <td>float64</td>\n",
       "      <td>объём запасов в скважине (тыс. баррелей)</td>\n",
       "    </tr>\n",
       "  </tbody>\n",
       "</table>\n",
       "</div>"
      ],
      "text/plain": [
       "        тип данных                                  описание\n",
       "id          object         уникальный идентификатор скважины\n",
       "f0         float64                          признак точки №1\n",
       "f1         float64                          признак точки №2\n",
       "f2         float64                          признак точки №3\n",
       "product    float64  объём запасов в скважине (тыс. баррелей)"
      ]
     },
     "metadata": {},
     "output_type": "display_data"
    },
    {
     "name": "stdout",
     "output_type": "stream",
     "text": [
      "\n",
      "Статистическая информация:\n"
     ]
    },
    {
     "data": {
      "text/html": [
       "<div>\n",
       "<style scoped>\n",
       "    .dataframe tbody tr th:only-of-type {\n",
       "        vertical-align: middle;\n",
       "    }\n",
       "\n",
       "    .dataframe tbody tr th {\n",
       "        vertical-align: top;\n",
       "    }\n",
       "\n",
       "    .dataframe thead th {\n",
       "        text-align: right;\n",
       "    }\n",
       "</style>\n",
       "<table border=\"1\" class=\"dataframe\">\n",
       "  <thead>\n",
       "    <tr style=\"text-align: right;\">\n",
       "      <th></th>\n",
       "      <th>f0</th>\n",
       "      <th>f1</th>\n",
       "      <th>f2</th>\n",
       "      <th>product</th>\n",
       "    </tr>\n",
       "  </thead>\n",
       "  <tbody>\n",
       "    <tr>\n",
       "      <th>count</th>\n",
       "      <td>100000.000000</td>\n",
       "      <td>100000.000000</td>\n",
       "      <td>100000.000000</td>\n",
       "      <td>100000.000000</td>\n",
       "    </tr>\n",
       "    <tr>\n",
       "      <th>mean</th>\n",
       "      <td>0.002023</td>\n",
       "      <td>-0.002081</td>\n",
       "      <td>2.495128</td>\n",
       "      <td>95.000000</td>\n",
       "    </tr>\n",
       "    <tr>\n",
       "      <th>std</th>\n",
       "      <td>1.732045</td>\n",
       "      <td>1.730417</td>\n",
       "      <td>3.473445</td>\n",
       "      <td>44.749921</td>\n",
       "    </tr>\n",
       "    <tr>\n",
       "      <th>min</th>\n",
       "      <td>-8.760004</td>\n",
       "      <td>-7.084020</td>\n",
       "      <td>-11.970335</td>\n",
       "      <td>0.000000</td>\n",
       "    </tr>\n",
       "    <tr>\n",
       "      <th>25%</th>\n",
       "      <td>-1.162288</td>\n",
       "      <td>-1.174820</td>\n",
       "      <td>0.130359</td>\n",
       "      <td>59.450441</td>\n",
       "    </tr>\n",
       "    <tr>\n",
       "      <th>50%</th>\n",
       "      <td>0.009424</td>\n",
       "      <td>-0.009482</td>\n",
       "      <td>2.484236</td>\n",
       "      <td>94.925613</td>\n",
       "    </tr>\n",
       "    <tr>\n",
       "      <th>75%</th>\n",
       "      <td>1.158535</td>\n",
       "      <td>1.163678</td>\n",
       "      <td>4.858794</td>\n",
       "      <td>130.595027</td>\n",
       "    </tr>\n",
       "    <tr>\n",
       "      <th>max</th>\n",
       "      <td>7.238262</td>\n",
       "      <td>7.844801</td>\n",
       "      <td>16.739402</td>\n",
       "      <td>190.029838</td>\n",
       "    </tr>\n",
       "  </tbody>\n",
       "</table>\n",
       "</div>"
      ],
      "text/plain": [
       "                  f0             f1             f2        product\n",
       "count  100000.000000  100000.000000  100000.000000  100000.000000\n",
       "mean        0.002023      -0.002081       2.495128      95.000000\n",
       "std         1.732045       1.730417       3.473445      44.749921\n",
       "min        -8.760004      -7.084020     -11.970335       0.000000\n",
       "25%        -1.162288      -1.174820       0.130359      59.450441\n",
       "50%         0.009424      -0.009482       2.484236      94.925613\n",
       "75%         1.158535       1.163678       4.858794     130.595027\n",
       "max         7.238262       7.844801      16.739402     190.029838"
      ]
     },
     "metadata": {},
     "output_type": "display_data"
    },
    {
     "data": {
      "image/png": "[encoded data removed]",
      "text/plain": [
       "<Figure size 1080x720 with 4 Axes>"
      ]
     },
     "metadata": {
      "needs_background": "light"
     },
     "output_type": "display_data"
    }
   ],
   "source": [
    "# загрузка и обзор данных в трех исходных файлах\n",
    "data1 = zagr_obz('geo_data_0.csv')\n",
    "data2 = zagr_obz('geo_data_1.csv')\n",
    "data3 = zagr_obz('geo_data_2.csv')"
   ]
  },
  {
   "cell_type": "markdown",
   "metadata": {},
   "source": [
    "Рассмотрев данные видим следующее:\n",
    "- В каждом датасете по 100000 записей, этого достаточно для достоверного моделирования.\n",
    "- Пропусков нет.\n",
    "- Полных дубликатов строк нет.\n",
    "- Типы столбцов данных соответствуют содержанию.\n",
    "- Распределение значений параметров в первом и третьем датасетах адекватное.\n",
    "- Отклонения:\n",
    "    - В соответствии с заданием, `id` точек должны быть уникальными. По факту есть минимальное количество дубликатов по полю `id` во всех трех датасетах.\n",
    "    - Во втором датасете в поле `product` содержатся почти 100% дубликатов. Это подтверждает график распределения значений данного параметра.\n",
    "    - Во втором датасете распределение значений параметра `f2` аномально сгруппировано возле шести целочисленных значений.\n",
    "\n",
    "Дубликаты в поле `id` посмотрим и если не найдем объяснения данному факту, то удалим. Их минимальное количество позволяет это сделать.\n",
    "\n",
    "Откорректировать второй датасет, в котором поле `product` содержит почти 100% дубликатов и распределение значений параметра `f2` аномально, не представляется возможным. В реальной ситуации нужно уточнять и перезапрашивать исходные данные. В учебных целях не будем обращать на это внимание, строить модели будем для всех трех датасетов."
   ]
  },
  {
   "cell_type": "code",
   "execution_count": 6,
   "metadata": {},
   "outputs": [
    {
     "data": {
      "text/html": [
       "<div>\n",
       "<style scoped>\n",
       "    .dataframe tbody tr th:only-of-type {\n",
       "        vertical-align: middle;\n",
       "    }\n",
       "\n",
       "    .dataframe tbody tr th {\n",
       "        vertical-align: top;\n",
       "    }\n",
       "\n",
       "    .dataframe thead th {\n",
       "        text-align: right;\n",
       "    }\n",
       "</style>\n",
       "<table border=\"1\" class=\"dataframe\">\n",
       "  <thead>\n",
       "    <tr style=\"text-align: right;\">\n",
       "      <th></th>\n",
       "      <th>id</th>\n",
       "      <th>f0</th>\n",
       "      <th>f1</th>\n",
       "      <th>f2</th>\n",
       "      <th>product</th>\n",
       "    </tr>\n",
       "  </thead>\n",
       "  <tbody>\n",
       "    <tr>\n",
       "      <th>66136</th>\n",
       "      <td>74z30</td>\n",
       "      <td>1.084962</td>\n",
       "      <td>-0.312358</td>\n",
       "      <td>6.990771</td>\n",
       "      <td>127.643327</td>\n",
       "    </tr>\n",
       "    <tr>\n",
       "      <th>64022</th>\n",
       "      <td>74z30</td>\n",
       "      <td>0.741456</td>\n",
       "      <td>0.459229</td>\n",
       "      <td>5.153109</td>\n",
       "      <td>140.771492</td>\n",
       "    </tr>\n",
       "    <tr>\n",
       "      <th>51970</th>\n",
       "      <td>A5aEY</td>\n",
       "      <td>-0.180335</td>\n",
       "      <td>0.935548</td>\n",
       "      <td>-2.094773</td>\n",
       "      <td>33.020205</td>\n",
       "    </tr>\n",
       "    <tr>\n",
       "      <th>3389</th>\n",
       "      <td>A5aEY</td>\n",
       "      <td>-0.039949</td>\n",
       "      <td>0.156872</td>\n",
       "      <td>0.209861</td>\n",
       "      <td>89.249364</td>\n",
       "    </tr>\n",
       "  </tbody>\n",
       "</table>\n",
       "</div>"
      ],
      "text/plain": [
       "          id        f0        f1        f2     product\n",
       "66136  74z30  1.084962 -0.312358  6.990771  127.643327\n",
       "64022  74z30  0.741456  0.459229  5.153109  140.771492\n",
       "51970  A5aEY -0.180335  0.935548 -2.094773   33.020205\n",
       "3389   A5aEY -0.039949  0.156872  0.209861   89.249364"
      ]
     },
     "metadata": {},
     "output_type": "display_data"
    },
    {
     "data": {
      "text/html": [
       "<div>\n",
       "<style scoped>\n",
       "    .dataframe tbody tr th:only-of-type {\n",
       "        vertical-align: middle;\n",
       "    }\n",
       "\n",
       "    .dataframe tbody tr th {\n",
       "        vertical-align: top;\n",
       "    }\n",
       "\n",
       "    .dataframe thead th {\n",
       "        text-align: right;\n",
       "    }\n",
       "</style>\n",
       "<table border=\"1\" class=\"dataframe\">\n",
       "  <thead>\n",
       "    <tr style=\"text-align: right;\">\n",
       "      <th></th>\n",
       "      <th>id</th>\n",
       "      <th>f0</th>\n",
       "      <th>f1</th>\n",
       "      <th>f2</th>\n",
       "      <th>product</th>\n",
       "    </tr>\n",
       "  </thead>\n",
       "  <tbody>\n",
       "    <tr>\n",
       "      <th>5849</th>\n",
       "      <td>5ltQ6</td>\n",
       "      <td>-3.435401</td>\n",
       "      <td>-12.296043</td>\n",
       "      <td>1.999796</td>\n",
       "      <td>57.085625</td>\n",
       "    </tr>\n",
       "    <tr>\n",
       "      <th>84461</th>\n",
       "      <td>5ltQ6</td>\n",
       "      <td>18.213839</td>\n",
       "      <td>2.191999</td>\n",
       "      <td>3.993869</td>\n",
       "      <td>107.813044</td>\n",
       "    </tr>\n",
       "    <tr>\n",
       "      <th>1305</th>\n",
       "      <td>LHZR0</td>\n",
       "      <td>11.170835</td>\n",
       "      <td>-1.945066</td>\n",
       "      <td>3.002872</td>\n",
       "      <td>80.859783</td>\n",
       "    </tr>\n",
       "    <tr>\n",
       "      <th>41906</th>\n",
       "      <td>LHZR0</td>\n",
       "      <td>-8.989672</td>\n",
       "      <td>-4.286607</td>\n",
       "      <td>2.009139</td>\n",
       "      <td>57.085625</td>\n",
       "    </tr>\n",
       "  </tbody>\n",
       "</table>\n",
       "</div>"
      ],
      "text/plain": [
       "          id         f0         f1        f2     product\n",
       "5849   5ltQ6  -3.435401 -12.296043  1.999796   57.085625\n",
       "84461  5ltQ6  18.213839   2.191999  3.993869  107.813044\n",
       "1305   LHZR0  11.170835  -1.945066  3.002872   80.859783\n",
       "41906  LHZR0  -8.989672  -4.286607  2.009139   57.085625"
      ]
     },
     "metadata": {},
     "output_type": "display_data"
    },
    {
     "data": {
      "text/html": [
       "<div>\n",
       "<style scoped>\n",
       "    .dataframe tbody tr th:only-of-type {\n",
       "        vertical-align: middle;\n",
       "    }\n",
       "\n",
       "    .dataframe tbody tr th {\n",
       "        vertical-align: top;\n",
       "    }\n",
       "\n",
       "    .dataframe thead th {\n",
       "        text-align: right;\n",
       "    }\n",
       "</style>\n",
       "<table border=\"1\" class=\"dataframe\">\n",
       "  <thead>\n",
       "    <tr style=\"text-align: right;\">\n",
       "      <th></th>\n",
       "      <th>id</th>\n",
       "      <th>f0</th>\n",
       "      <th>f1</th>\n",
       "      <th>f2</th>\n",
       "      <th>product</th>\n",
       "    </tr>\n",
       "  </thead>\n",
       "  <tbody>\n",
       "    <tr>\n",
       "      <th>45404</th>\n",
       "      <td>KUPhW</td>\n",
       "      <td>0.231846</td>\n",
       "      <td>-1.698941</td>\n",
       "      <td>4.990775</td>\n",
       "      <td>11.716299</td>\n",
       "    </tr>\n",
       "    <tr>\n",
       "      <th>55967</th>\n",
       "      <td>KUPhW</td>\n",
       "      <td>1.211150</td>\n",
       "      <td>3.176408</td>\n",
       "      <td>5.543540</td>\n",
       "      <td>132.831802</td>\n",
       "    </tr>\n",
       "    <tr>\n",
       "      <th>11449</th>\n",
       "      <td>VF7Jo</td>\n",
       "      <td>2.122656</td>\n",
       "      <td>-0.858275</td>\n",
       "      <td>5.746001</td>\n",
       "      <td>181.716817</td>\n",
       "    </tr>\n",
       "    <tr>\n",
       "      <th>49564</th>\n",
       "      <td>VF7Jo</td>\n",
       "      <td>-0.883115</td>\n",
       "      <td>0.560537</td>\n",
       "      <td>0.723601</td>\n",
       "      <td>136.233420</td>\n",
       "    </tr>\n",
       "  </tbody>\n",
       "</table>\n",
       "</div>"
      ],
      "text/plain": [
       "          id        f0        f1        f2     product\n",
       "45404  KUPhW  0.231846 -1.698941  4.990775   11.716299\n",
       "55967  KUPhW  1.211150  3.176408  5.543540  132.831802\n",
       "11449  VF7Jo  2.122656 -0.858275  5.746001  181.716817\n",
       "49564  VF7Jo -0.883115  0.560537  0.723601  136.233420"
      ]
     },
     "metadata": {},
     "output_type": "display_data"
    }
   ],
   "source": [
    "# смотрим дубликаты по полю 'id' во всех трех датасетах\n",
    "display(data1[data1['id'].duplicated(keep=False)].sort_values(by='id').head(4))\n",
    "display(data2[data2['id'].duplicated(keep=False)].sort_values(by='id').head(4))\n",
    "display(data3[data3['id'].duplicated(keep=False)].sort_values(by='id').head(4))"
   ]
  },
  {
   "cell_type": "markdown",
   "metadata": {},
   "source": [
    "Понять причину появления данных дубликатов невозможно. Выбрать, какой из дубликатов оставить, также не представляется возможным. Поэтому удалим все дубликаты."
   ]
  },
  {
   "cell_type": "code",
   "execution_count": 7,
   "metadata": {},
   "outputs": [
    {
     "name": "stdout",
     "output_type": "stream",
     "text": [
      "Количество дубликатов в идентификаторах скважин: 0\n",
      "Количество дубликатов в идентификаторах скважин: 0\n",
      "Количество дубликатов в идентификаторах скважин: 0\n"
     ]
    }
   ],
   "source": [
    "data1.drop_duplicates(subset='id', keep=False, inplace=True)\n",
    "print('Количество дубликатов в идентификаторах скважин:', data1['id'].duplicated().sum())\n",
    "data2.drop_duplicates(subset='id', keep=False, inplace=True)\n",
    "print('Количество дубликатов в идентификаторах скважин:', data2['id'].duplicated().sum())\n",
    "data3.drop_duplicates(subset='id', keep=False, inplace=True)\n",
    "print('Количество дубликатов в идентификаторах скважин:', data3['id'].duplicated().sum())"
   ]
  },
  {
   "cell_type": "markdown",
   "metadata": {},
   "source": [
    "Построим матрицы корреляции для трех датасетов."
   ]
  },
  {
   "cell_type": "code",
   "execution_count": 8,
   "metadata": {},
   "outputs": [
    {
     "data": {
      "image/png": "[encoded data removed]",
      "text/plain": [
       "<Figure size 1224x288 with 6 Axes>"
      ]
     },
     "metadata": {
      "needs_background": "light"
     },
     "output_type": "display_data"
    }
   ],
   "source": [
    "fig, axes = plt.subplots(1, 3, figsize=(17, 4))\n",
    "sns.heatmap(data1.corr(), vmin = -1, vmax = +1, annot = True, cmap = 'coolwarm', ax=axes[0]).set(title='датасет 1')\n",
    "sns.heatmap(data2.corr(), vmin = -1, vmax = +1, annot = True, cmap = 'coolwarm', ax=axes[1]).set(title='датасет 2')\n",
    "sns.heatmap(data3.corr(), vmin = -1, vmax = +1, annot = True, cmap = 'coolwarm', ax=axes[2]).set(title='датасет 3')\n",
    "plt.show()"
   ]
  },
  {
   "cell_type": "markdown",
   "metadata": {},
   "source": [
    "Во втором датасете наблюдается 100% корреляция между параметрами `f2` и `product`. На аномальность данных во втором датае уже обращали внимание, в учебных целях вносить изменения не будем, будем использовать как есть."
   ]
  },
  {
   "cell_type": "markdown",
   "metadata": {},
   "source": [
    "### 1.1. <a id='toc1_1_'></a>[Вывод по разделу 1](#toc0_)\n",
    "\n",
    "Исходные данные успешно загружены в три датасета. Их количество достаточно для построения моделей.\n",
    "\n",
    "Пропусков в данных нет. Полных дубликатов нет. Типы столбцов данных соответствуют содержанию.\n",
    "\n",
    "В рамках подготовки данных удалены дубликаты по полю `id`, так как это поле должно быть уникальным.\n",
    "\n",
    "Данные в полях `f2` и `product` второго датасета, возможно, некорректны, но в учебных целях будем их использовать."
   ]
  },
  {
   "cell_type": "markdown",
   "metadata": {},
   "source": [
    "## 2. <a id='toc2_'></a>[Обучение и проверка модели](#toc0_)\n",
    "\n",
    "Целевой признак `product` - объём запасов в скважине является количественным (числовым). Будем использовать модель линейной регрессии, как наиболее предсказуемую."
   ]
  },
  {
   "cell_type": "markdown",
   "metadata": {},
   "source": [
    "### 2.1. <a id='toc2_1_'></a>[Разбивка данных на выборки](#toc0_)\n",
    "\n",
    "Разделим данные на обучающую и валидационную (тестовую) выборки в соотношении 75% и 25% соответственно.  \n",
    "Целевая переменная - объём запасов в скважине (`product`).  \n",
    "Параметры - `f0`, `f1`, `f2`.\n",
    "\n",
    "Столбец `id` (уникальный идентификатор скважины) использовать при моделировании не будем."
   ]
  },
  {
   "cell_type": "code",
   "execution_count": 9,
   "metadata": {},
   "outputs": [
    {
     "name": "stdout",
     "output_type": "stream",
     "text": [
      "\n",
      "Регион 1\n",
      "    Обучающая выборка: \n",
      "        - параметры (строки, столбцы): (74985, 3)\n",
      "        - целевая переменная (строки): (74985,)\n",
      "    Валидационная (тестовая) выборка: \n",
      "        - параметры (строки, столбцы): (24995, 3)\n",
      "        - целевая переменная (строки): (24995,)\n",
      "\n",
      "Регион 2\n",
      "    Обучающая выборка: \n",
      "        - параметры (строки, столбцы): (74994, 3)\n",
      "        - целевая переменная (строки): (74994,)\n",
      "    Валидационная (тестовая) выборка: \n",
      "        - параметры (строки, столбцы): (24998, 3)\n",
      "        - целевая переменная (строки): (24998,)\n",
      "\n",
      "Регион 3\n",
      "    Обучающая выборка: \n",
      "        - параметры (строки, столбцы): (74994, 3)\n",
      "        - целевая переменная (строки): (74994,)\n",
      "    Валидационная (тестовая) выборка: \n",
      "        - параметры (строки, столбцы): (24998, 3)\n",
      "        - целевая переменная (строки): (24998,)\n"
     ]
    }
   ],
   "source": [
    "print('\\nРегион 1')\n",
    "features_train1, features_test1, target_train1, target_test1 = viborki(data1)\n",
    "print('\\nРегион 2')\n",
    "features_train2, features_test2, target_train2, target_test2 = viborki(data2)\n",
    "print('\\nРегион 3')\n",
    "features_train3, features_test3, target_train3, target_test3 = viborki(data3)"
   ]
  },
  {
   "cell_type": "markdown",
   "metadata": {},
   "source": [
    "### 2.2. <a id='toc2_2_'></a>[Обучение модели и предсказания](#toc0_)\n",
    "\n",
    "Для каждого региона создадим и обучим модель линейной регресси, сделаем предсказания на валидационной (тестовой) выборке, определим средний запас предсказанного сырья и RMSE моделей.  \n",
    "Подготовка признаков и подбор гиперпараметров не требуется."
   ]
  },
  {
   "cell_type": "code",
   "execution_count": 10,
   "metadata": {},
   "outputs": [
    {
     "name": "stdout",
     "output_type": "stream",
     "text": [
      "\n",
      "Регион 1\n",
      "Средний запас сырья по предсказанным данным: 92.4\n",
      "Средний запас сырья по реальным данным: 92.4\n",
      "RMSE модели линейной регрессии на валидационной (тестовой) выборке: 37.7\n",
      "R2 = 0.277\n",
      "\n",
      "Регион 2\n",
      "Средний запас сырья по предсказанным данным: 69.0\n",
      "Средний запас сырья по реальным данным: 69.0\n",
      "RMSE модели линейной регрессии на валидационной (тестовой) выборке: 0.9\n",
      "R2 = 1.000\n",
      "\n",
      "Регион 3\n",
      "Средний запас сырья по предсказанным данным: 95.1\n",
      "Средний запас сырья по реальным данным: 94.5\n",
      "RMSE модели линейной регрессии на валидационной (тестовой) выборке: 40.0\n",
      "R2 = 0.196\n"
     ]
    }
   ],
   "source": [
    "print('\\nРегион 1')\n",
    "model1, predictions1 = modeli(features_train1, features_test1, target_train1, target_test1)\n",
    "print('\\nРегион 2')\n",
    "model2, predictions2 = modeli(features_train2, features_test2, target_train2, target_test2)\n",
    "print('\\nРегион 3')\n",
    "model3, predictions3 = modeli(features_train3, features_test3, target_train3, target_test3)"
   ]
  },
  {
   "cell_type": "markdown",
   "metadata": {},
   "source": [
    "### 2.3. <a id='toc2_3_'></a>[Вывод по разделу 2](#toc0_)\n",
    "\n",
    "- Наибольшие средние запасы сырья по предсказанным данным находятся в регионе № 3, наименьшие - в регионе № 2.\n",
    "- Наименьшее значение RMSE у модели для региона № 2 (но помним о возможности влияния аномальных данных в этом датасете)."
   ]
  },
  {
   "cell_type": "markdown",
   "metadata": {},
   "source": [
    "## 3. <a id='toc3_'></a>[Подготовка к расчёту прибыли](#toc0_)\n",
    "\n",
    "По имеющейся информации:\n",
    "- бюджет на разработку скважин в регионе составляет 10 млрд. рублей;\n",
    "- по результатам отбора разрабатывается 200 скважин;\n",
    "- один баррель сырья приносит 450 рублей дохода, соответственно, доход с каждой единицы продукта составляет 450 тыс. рублей.\n",
    "\n",
    "Сохраним ключевые значения в переменных и рассчитайтаем достаточный объём сырья для безубыточной разработки новой скважины."
   ]
  },
  {
   "cell_type": "code",
   "execution_count": 11,
   "metadata": {},
   "outputs": [
    {
     "name": "stdout",
     "output_type": "stream",
     "text": [
      "Достаточный объём сырья для безубыточной разработки новой скважины составляет: 111.1 тыс. баррелей.\n"
     ]
    }
   ],
   "source": [
    "# ключевые значения\n",
    "budget = 10000000000\n",
    "kol_skvazhin = 200\n",
    "dohod_ed = 450000\n",
    "\n",
    "obyom_bezub = (budget / kol_skvazhin) / dohod_ed\n",
    "\n",
    "print(f'Достаточный объём сырья для безубыточной разработки новой скважины составляет: {obyom_bezub:.1f} тыс. баррелей.')"
   ]
  },
  {
   "cell_type": "markdown",
   "metadata": {},
   "source": [
    "### 3.1. <a id='toc3_1_'></a>[Вывод по разделу 3](#toc0_)\n",
    "\n",
    "В соответствии с расчетом, объём сырья, достаточный для безубыточной разработки новой скважины, составляет 111 тыс. баррелей. При этом средний запас сырья в скважинах по предсказанным данным в лучшем из регионов (регион № 3) составляет 95 тыс. баррелей.   \n",
    "Чтобы обеспечить прибыльность проекта необходимо отбирать в каждом из регионов скважины с максимальным значением данного параметра."
   ]
  },
  {
   "cell_type": "markdown",
   "metadata": {},
   "source": [
    "## 4. <a id='toc4_'></a>[Расчёт прибыли и рисков](#toc0_)\n",
    "\n",
    "Создадим функцию, которая из переданных ей данных выбирает 200 скважин с максимальным параметром запаса сырья по полученным предсказаниям, суммирует целевые значения объёмов сырья, соответствующее этим предсказаниям, и рассчитывает прибыль.\n"
   ]
  },
  {
   "cell_type": "code",
   "execution_count": 12,
   "metadata": {},
   "outputs": [],
   "source": [
    "# функция расчета прибыли от скважин с максимальным запасом сырья\n",
    "# на входе: предсказания, целевые значения в формате Series; на выходе: прибыль\n",
    "# количество скважин, доход от единицы продукта и бюджет на разработку заранее сохранены в переменных\n",
    "def raschet_prib(predictions, target):\n",
    "    predictions = predictions.sort_values(ascending=False)\n",
    "    obyom = target[predictions.index][:kol_skvazhin].sum()\n",
    "    pribil = obyom * dohod_ed - budget\n",
    "    return pribil"
   ]
  },
  {
   "cell_type": "markdown",
   "metadata": {},
   "source": [
    "Применим технику `Bootstrap` с 1000 выборок, чтобы найти распределение прибыли.  \n",
    "Для полученного распределения прибыли определим среднее значение, 95% доверительный интервал и риск получения убытка.\n",
    "\n",
    "Реализуем в виде функции."
   ]
  },
  {
   "cell_type": "code",
   "execution_count": 13,
   "metadata": {},
   "outputs": [],
   "source": [
    "# функция реализации бутстрепа с вычислением среднего, 95% доверительного интервала и риска убытка\n",
    "# на входе: предсказания и целевые значения для региона\n",
    "# на выходе: средняя прибыль, две границы 95% доверительного интервала и риск получения убытка\n",
    "# (в ходе выполнения вызывает функцию расчета прибыли `raschet_prib`)\n",
    "def bootstr(pred, targ):\n",
    "    state = np.random.RandomState(RST)\n",
    "    profit = []\n",
    "    targ = targ.reset_index(drop=True)\n",
    "    pred = pd.Series(pred)\n",
    "    for i in range(1000):\n",
    "        targ_sub = targ.sample(n=500, replace=True, random_state=state)\n",
    "        pred_sub = pred[targ_sub.index]\n",
    "        profit.append(raschet_prib(pred_sub, targ_sub))\n",
    "\n",
    "    profit = pd.Series(profit)\n",
    "    prof_mean = profit.mean()\n",
    "    lower = profit.quantile(0.025)\n",
    "    upper = profit.quantile(0.975)\n",
    "    loss = len(profit[profit < 0]) / 1000\n",
    "    print(f'''\n",
    "    Средняя прибыль: {prof_mean/1000000:.1f} млн. руб.\n",
    "    95% доверительный интервал: от {lower/1000000:.1f} до {upper/1000000:.1f} млн. руб.\n",
    "    Риск получения убытка составляет: {loss:.1%}.''')\n",
    "    return prof_mean, lower, upper, loss"
   ]
  },
  {
   "cell_type": "markdown",
   "metadata": {},
   "source": [
    "Применим созданные функции для всех трех регионов."
   ]
  },
  {
   "cell_type": "code",
   "execution_count": 14,
   "metadata": {},
   "outputs": [
    {
     "name": "stdout",
     "output_type": "stream",
     "text": [
      "\n",
      "Регион 1\n",
      "\n",
      "    Средняя прибыль: 459.1 млн. руб.\n",
      "    95% доверительный интервал: от -90.2 до 988.0 млн. руб.\n",
      "    Риск получения убытка составляет: 4.7%.\n",
      "\n",
      "Регион 2\n",
      "\n",
      "    Средняя прибыль: 535.2 млн. руб.\n",
      "    95% доверительный интервал: от 86.7 до 958.1 млн. руб.\n",
      "    Риск получения убытка составляет: 1.4%.\n",
      "\n",
      "Регион 3\n",
      "\n",
      "    Средняя прибыль: 351.2 млн. руб.\n",
      "    95% доверительный интервал: от -174.8 до 879.1 млн. руб.\n",
      "    Риск получения убытка составляет: 11.4%.\n"
     ]
    }
   ],
   "source": [
    "print('\\nРегион 1')\n",
    "prof_mean1, lower1, upper1, loss1 = bootstr(predictions1, target_test1)\n",
    "print('\\nРегион 2')\n",
    "prof_mean2, lower2, upper2, loss2 = bootstr(predictions2, target_test2)\n",
    "print('\\nРегион 3')\n",
    "prof_mean3, lower3, upper3, loss3 = bootstr(predictions3, target_test3)"
   ]
  },
  {
   "cell_type": "markdown",
   "metadata": {},
   "source": [
    "### 4.1. <a id='toc4_1_'></a>[Вывод по разделу 4](#toc0_)\n",
    "\n",
    "В соответствии с заданием:\n",
    "- мы не должны рассматривать регионы в которых риск получения убытка выше 2,5%;\n",
    "- из оставшихся после этого регионов необходимо выбрать регион с наибольшей средней прибылью.\n",
    "\n",
    "Единственный регион, который соответствует этим требованиям, - это регион № 2."
   ]
  },
  {
   "cell_type": "markdown",
   "metadata": {},
   "source": [
    "## 5. <a id='toc5_'></a>[Общий вывод](#toc0_)\n",
    "\n",
    "Данные загружены, выполнена небольшая предобработка с целью подготовки к дальнейшему исследованию. Размер каждой из выборок в 100 тысяч строк достаточен для проведения исследования.\n",
    "\n",
    "Из исходных данных сформированы обучающая и валидационная (тестовая) выборки в соотношении 75% и 25% соответственно.  \n",
    "В качестве модели взята линейная регрессия (как наиболее предсказуемая модель). Обучение моделей проводилось на обучающих выборках, подготовка параметров и подбор гиперпараметров не требовался.  \n",
    "Наименьшее значение RMSE было получено у модели для региона № 2.  \n",
    "Наибольшие средние запасы сырья по предсказанным данным находятся в регионе № 3.\n",
    "\n",
    "Согласно расчетам, объём сырья, достаточный для безубыточной разработки новой скважины, составляет 111 тыс. баррелей. При этом средний запас сырья в скважинах по предсказанным данным в лучшем из регионов (регион № 3) составляет 95 тыс. баррелей.\n",
    "\n",
    "Расчет прибыли и рисков проводился с использованием техники `bootstrap` на предсказаниях и валидационных (тестовых) выборках с учетом полученных в задании условий.  \n",
    "По итогам расчетов, удовлетворяющим всем требованиям задания, определен регион № 2 со следующими характеристиками:\n",
    "- средняя прибыль: 535.2 млн. руб.;\n",
    "- 95% доверительный интервал: от 86.7 до 958.1 млн. руб.;\n",
    "- риск получения убытка: 1.4%.\n",
    "\n",
    "P.S.  \n",
    "Следует ещё раз отметить, что в исходных данных региона № 2 поле `product` содержит почти 100% дубликатов, а значения параметра `f2` аномально сгруппированы возле нескольких дискретных значений."
   ]
  }
 ],
 "metadata": {
  "ExecuteTimeLog": [
   {
    "duration": 1485,
    "start_time": "2023-02-21T19:43:51.940Z"
   },
   {
    "duration": 1429,
    "start_time": "2023-02-21T19:43:56.112Z"
   },
   {
    "duration": 116,
    "start_time": "2023-02-21T19:44:00.295Z"
   },
   {
    "duration": 80,
    "start_time": "2023-02-21T19:44:06.392Z"
   },
   {
    "duration": 261,
    "start_time": "2023-02-21T19:45:20.475Z"
   },
   {
    "duration": 115,
    "start_time": "2023-02-21T20:08:36.955Z"
   },
   {
    "duration": 4,
    "start_time": "2023-02-21T20:08:41.392Z"
   },
   {
    "duration": 207,
    "start_time": "2023-02-21T20:08:45.000Z"
   },
   {
    "duration": 569,
    "start_time": "2023-02-21T20:10:44.427Z"
   },
   {
    "duration": 5,
    "start_time": "2023-02-21T20:11:37.448Z"
   },
   {
    "duration": 626,
    "start_time": "2023-02-21T20:11:39.186Z"
   },
   {
    "duration": 4,
    "start_time": "2023-02-21T20:12:23.433Z"
   },
   {
    "duration": 571,
    "start_time": "2023-02-21T20:12:27.122Z"
   },
   {
    "duration": 4,
    "start_time": "2023-02-21T20:14:05.146Z"
   },
   {
    "duration": 547,
    "start_time": "2023-02-21T20:14:07.186Z"
   },
   {
    "duration": 4,
    "start_time": "2023-02-21T20:14:39.818Z"
   },
   {
    "duration": 559,
    "start_time": "2023-02-21T20:14:41.954Z"
   },
   {
    "duration": 5,
    "start_time": "2023-02-21T20:14:53.672Z"
   },
   {
    "duration": 551,
    "start_time": "2023-02-21T20:14:55.517Z"
   },
   {
    "duration": 5,
    "start_time": "2023-02-21T20:17:40.522Z"
   },
   {
    "duration": 586,
    "start_time": "2023-02-21T20:17:42.627Z"
   },
   {
    "duration": 6,
    "start_time": "2023-02-21T20:19:23.226Z"
   },
   {
    "duration": 3125,
    "start_time": "2023-02-21T20:19:25.484Z"
   },
   {
    "duration": 6,
    "start_time": "2023-02-21T20:19:41.218Z"
   },
   {
    "duration": 4023,
    "start_time": "2023-02-21T20:19:43.052Z"
   },
   {
    "duration": 6,
    "start_time": "2023-02-21T20:20:51.436Z"
   },
   {
    "duration": 4084,
    "start_time": "2023-02-21T20:20:53.694Z"
   },
   {
    "duration": 6,
    "start_time": "2023-02-21T20:22:55.740Z"
   },
   {
    "duration": 4027,
    "start_time": "2023-02-21T20:22:57.902Z"
   },
   {
    "duration": 8,
    "start_time": "2023-02-21T20:24:18.845Z"
   },
   {
    "duration": 3925,
    "start_time": "2023-02-21T20:24:20.583Z"
   },
   {
    "duration": 1833,
    "start_time": "2023-02-22T07:51:57.467Z"
   },
   {
    "duration": 7,
    "start_time": "2023-02-22T07:51:59.302Z"
   },
   {
    "duration": 1057,
    "start_time": "2023-02-22T07:51:59.311Z"
   },
   {
    "duration": 4,
    "start_time": "2023-02-22T07:52:33.378Z"
   },
   {
    "duration": 5,
    "start_time": "2023-02-22T07:52:36.290Z"
   },
   {
    "duration": 126,
    "start_time": "2023-02-22T07:52:38.817Z"
   },
   {
    "duration": 4,
    "start_time": "2023-02-22T07:54:03.027Z"
   },
   {
    "duration": 6,
    "start_time": "2023-02-22T07:54:05.689Z"
   },
   {
    "duration": 135,
    "start_time": "2023-02-22T07:54:09.306Z"
   },
   {
    "duration": 6,
    "start_time": "2023-02-22T07:55:34.563Z"
   },
   {
    "duration": 4006,
    "start_time": "2023-02-22T07:55:37.433Z"
   },
   {
    "duration": 7,
    "start_time": "2023-02-22T07:59:53.828Z"
   },
   {
    "duration": 3881,
    "start_time": "2023-02-22T07:59:57.064Z"
   },
   {
    "duration": 7,
    "start_time": "2023-02-22T08:02:11.885Z"
   },
   {
    "duration": 7,
    "start_time": "2023-02-22T08:02:22.276Z"
   },
   {
    "duration": 3906,
    "start_time": "2023-02-22T08:02:24.327Z"
   },
   {
    "duration": 7,
    "start_time": "2023-02-22T08:09:55.406Z"
   },
   {
    "duration": 4011,
    "start_time": "2023-02-22T08:09:57.428Z"
   },
   {
    "duration": 1501,
    "start_time": "2023-02-22T19:22:14.977Z"
   },
   {
    "duration": 8,
    "start_time": "2023-02-22T19:22:16.480Z"
   },
   {
    "duration": 4006,
    "start_time": "2023-02-22T19:22:16.489Z"
   },
   {
    "duration": 5,
    "start_time": "2023-02-22T21:03:26.049Z"
   },
   {
    "duration": 10,
    "start_time": "2023-02-22T21:03:26.056Z"
   },
   {
    "duration": 3704,
    "start_time": "2023-02-22T21:03:26.068Z"
   },
   {
    "duration": 85,
    "start_time": "2023-02-22T21:03:29.774Z"
   },
   {
    "duration": 99,
    "start_time": "2023-02-22T21:03:29.862Z"
   },
   {
    "duration": 4,
    "start_time": "2023-02-22T21:26:39.069Z"
   },
   {
    "duration": 130,
    "start_time": "2023-02-22T21:28:15.399Z"
   },
   {
    "duration": 4,
    "start_time": "2023-02-22T21:29:56.354Z"
   },
   {
    "duration": 31,
    "start_time": "2023-02-22T21:29:58.576Z"
   },
   {
    "duration": 27,
    "start_time": "2023-02-22T21:30:45.496Z"
   },
   {
    "duration": 27,
    "start_time": "2023-02-22T21:33:00.769Z"
   },
   {
    "duration": 4,
    "start_time": "2023-02-22T21:33:43.097Z"
   },
   {
    "duration": 28,
    "start_time": "2023-02-22T21:33:44.849Z"
   },
   {
    "duration": 4,
    "start_time": "2023-02-22T21:35:38.770Z"
   },
   {
    "duration": 4,
    "start_time": "2023-02-22T21:37:48.824Z"
   },
   {
    "duration": 7,
    "start_time": "2023-02-22T21:37:48.830Z"
   },
   {
    "duration": 13,
    "start_time": "2023-02-22T21:37:48.838Z"
   },
   {
    "duration": 3402,
    "start_time": "2023-02-22T21:37:48.852Z"
   },
   {
    "duration": 75,
    "start_time": "2023-02-22T21:37:52.255Z"
   },
   {
    "duration": 96,
    "start_time": "2023-02-22T21:37:52.332Z"
   },
   {
    "duration": 30,
    "start_time": "2023-02-22T21:37:52.431Z"
   },
   {
    "duration": 4,
    "start_time": "2023-02-22T21:53:29.368Z"
   },
   {
    "duration": 3,
    "start_time": "2023-02-22T21:54:43.576Z"
   },
   {
    "duration": 19,
    "start_time": "2023-02-22T21:54:46.135Z"
   },
   {
    "duration": 4,
    "start_time": "2023-02-22T21:55:24.992Z"
   },
   {
    "duration": 161,
    "start_time": "2023-02-22T21:55:29.951Z"
   },
   {
    "duration": 9,
    "start_time": "2023-02-22T21:58:50.088Z"
   },
   {
    "duration": 4,
    "start_time": "2023-02-22T21:59:03.904Z"
   },
   {
    "duration": 31,
    "start_time": "2023-02-22T21:59:06.392Z"
   },
   {
    "duration": 5,
    "start_time": "2023-02-22T22:00:12.146Z"
   },
   {
    "duration": 119,
    "start_time": "2023-02-22T22:00:13.793Z"
   },
   {
    "duration": 4,
    "start_time": "2023-02-22T22:01:16.458Z"
   },
   {
    "duration": 92,
    "start_time": "2023-02-22T22:01:45.026Z"
   },
   {
    "duration": 4,
    "start_time": "2023-02-22T22:04:22.842Z"
   },
   {
    "duration": 178,
    "start_time": "2023-02-22T22:04:24.834Z"
   },
   {
    "duration": 4,
    "start_time": "2023-02-22T22:11:28.938Z"
   },
   {
    "duration": 7,
    "start_time": "2023-02-22T22:11:28.944Z"
   },
   {
    "duration": 8,
    "start_time": "2023-02-22T22:11:28.952Z"
   },
   {
    "duration": 7,
    "start_time": "2023-02-22T22:11:28.961Z"
   },
   {
    "duration": 3529,
    "start_time": "2023-02-22T22:11:28.969Z"
   },
   {
    "duration": 61,
    "start_time": "2023-02-22T22:11:32.500Z"
   },
   {
    "duration": 99,
    "start_time": "2023-02-22T22:11:32.562Z"
   },
   {
    "duration": 27,
    "start_time": "2023-02-22T22:11:32.663Z"
   },
   {
    "duration": 130,
    "start_time": "2023-02-22T22:11:32.692Z"
   },
   {
    "duration": 3,
    "start_time": "2023-02-22T22:23:20.680Z"
   },
   {
    "duration": 5,
    "start_time": "2023-02-22T22:23:26.048Z"
   },
   {
    "duration": 419,
    "start_time": "2023-02-22T22:23:32.495Z"
   },
   {
    "duration": 4,
    "start_time": "2023-02-22T22:40:34.451Z"
   },
   {
    "duration": 455,
    "start_time": "2023-02-22T22:40:41.059Z"
   },
   {
    "duration": 327,
    "start_time": "2023-02-22T22:41:33.188Z"
   },
   {
    "duration": 3,
    "start_time": "2023-02-22T22:43:44.572Z"
   },
   {
    "duration": 4,
    "start_time": "2023-02-22T22:44:18.612Z"
   },
   {
    "duration": 118,
    "start_time": "2023-02-22T22:44:23.995Z"
   },
   {
    "duration": 3,
    "start_time": "2023-02-22T22:50:33.349Z"
   },
   {
    "duration": 4,
    "start_time": "2023-02-22T22:51:41.758Z"
   },
   {
    "duration": 4,
    "start_time": "2023-02-22T22:52:03.766Z"
   },
   {
    "duration": 4,
    "start_time": "2023-02-22T22:52:09.485Z"
   },
   {
    "duration": 9,
    "start_time": "2023-02-22T22:53:33.278Z"
   },
   {
    "duration": 10,
    "start_time": "2023-02-22T22:53:51.830Z"
   },
   {
    "duration": 9,
    "start_time": "2023-02-22T22:54:31.486Z"
   },
   {
    "duration": 7,
    "start_time": "2023-02-22T22:55:14.959Z"
   },
   {
    "duration": 17,
    "start_time": "2023-02-22T22:56:36.071Z"
   },
   {
    "duration": 4,
    "start_time": "2023-02-22T22:56:45.885Z"
   },
   {
    "duration": 11,
    "start_time": "2023-02-22T22:56:45.891Z"
   },
   {
    "duration": 21,
    "start_time": "2023-02-22T22:56:45.904Z"
   },
   {
    "duration": 14,
    "start_time": "2023-02-22T22:56:45.927Z"
   },
   {
    "duration": 3516,
    "start_time": "2023-02-22T22:56:45.943Z"
   },
   {
    "duration": 73,
    "start_time": "2023-02-22T22:56:49.461Z"
   },
   {
    "duration": 90,
    "start_time": "2023-02-22T22:56:49.536Z"
   },
   {
    "duration": 25,
    "start_time": "2023-02-22T22:56:49.628Z"
   },
   {
    "duration": 163,
    "start_time": "2023-02-22T22:56:49.655Z"
   },
   {
    "duration": 16,
    "start_time": "2023-02-22T22:56:53.366Z"
   },
   {
    "duration": 10,
    "start_time": "2023-02-22T22:57:08.055Z"
   },
   {
    "duration": 15,
    "start_time": "2023-02-22T22:57:39.095Z"
   },
   {
    "duration": 25,
    "start_time": "2023-02-22T22:59:16.871Z"
   },
   {
    "duration": 8,
    "start_time": "2023-02-23T11:20:17.570Z"
   },
   {
    "duration": 4,
    "start_time": "2023-02-23T11:21:26.350Z"
   },
   {
    "duration": 4,
    "start_time": "2023-02-23T12:39:34.731Z"
   },
   {
    "duration": 17,
    "start_time": "2023-02-23T12:39:34.737Z"
   },
   {
    "duration": 12,
    "start_time": "2023-02-23T12:39:34.757Z"
   },
   {
    "duration": 8,
    "start_time": "2023-02-23T12:39:34.771Z"
   },
   {
    "duration": 4093,
    "start_time": "2023-02-23T12:39:34.780Z"
   },
   {
    "duration": 96,
    "start_time": "2023-02-23T12:41:02.050Z"
   },
   {
    "duration": 108,
    "start_time": "2023-02-23T12:41:28.095Z"
   },
   {
    "duration": 31,
    "start_time": "2023-02-23T12:42:06.288Z"
   },
   {
    "duration": 116,
    "start_time": "2023-02-23T12:42:39.824Z"
   },
   {
    "duration": 5,
    "start_time": "2023-02-23T13:12:50.940Z"
   },
   {
    "duration": 6,
    "start_time": "2023-02-23T13:13:41.924Z"
   },
   {
    "duration": 5,
    "start_time": "2023-02-23T13:13:59.467Z"
   },
   {
    "duration": 105,
    "start_time": "2023-02-23T13:14:15.628Z"
   },
   {
    "duration": 10,
    "start_time": "2023-02-23T13:14:28.158Z"
   },
   {
    "duration": 4,
    "start_time": "2023-02-23T13:14:38.163Z"
   },
   {
    "duration": 10,
    "start_time": "2023-02-23T13:14:54.451Z"
   },
   {
    "duration": 5,
    "start_time": "2023-02-23T13:15:01.299Z"
   },
   {
    "duration": 4,
    "start_time": "2023-02-23T13:15:30.524Z"
   },
   {
    "duration": 4,
    "start_time": "2023-02-23T13:16:39.573Z"
   },
   {
    "duration": 9,
    "start_time": "2023-02-23T13:17:26.437Z"
   },
   {
    "duration": 15,
    "start_time": "2023-02-23T13:18:40.429Z"
   },
   {
    "duration": 19,
    "start_time": "2023-02-23T13:19:25.926Z"
   },
   {
    "duration": 16,
    "start_time": "2023-02-23T13:21:08.702Z"
   },
   {
    "duration": 1542,
    "start_time": "2023-02-23T16:51:03.500Z"
   },
   {
    "duration": 8,
    "start_time": "2023-02-23T16:51:05.044Z"
   },
   {
    "duration": 8,
    "start_time": "2023-02-23T16:51:05.053Z"
   },
   {
    "duration": 6,
    "start_time": "2023-02-23T16:51:05.063Z"
   },
   {
    "duration": 4463,
    "start_time": "2023-02-23T16:51:05.070Z"
   },
   {
    "duration": 57,
    "start_time": "2023-02-23T16:51:09.535Z"
   },
   {
    "duration": 76,
    "start_time": "2023-02-23T16:51:09.609Z"
   },
   {
    "duration": 46,
    "start_time": "2023-02-23T16:51:09.686Z"
   },
   {
    "duration": 196,
    "start_time": "2023-02-23T16:51:09.734Z"
   },
   {
    "duration": 83,
    "start_time": "2023-02-23T16:51:09.932Z"
   },
   {
    "duration": 9,
    "start_time": "2023-02-23T16:54:03.929Z"
   },
   {
    "duration": 13,
    "start_time": "2023-02-23T16:56:48.633Z"
   },
   {
    "duration": 11,
    "start_time": "2023-02-23T16:58:09.377Z"
   },
   {
    "duration": 17,
    "start_time": "2023-02-23T17:06:57.107Z"
   },
   {
    "duration": 119,
    "start_time": "2023-02-23T17:09:37.525Z"
   },
   {
    "duration": 4,
    "start_time": "2023-02-23T17:09:42.098Z"
   },
   {
    "duration": 8,
    "start_time": "2023-02-23T17:09:44.834Z"
   },
   {
    "duration": 3,
    "start_time": "2023-02-23T17:10:58.451Z"
   },
   {
    "duration": 10,
    "start_time": "2023-02-23T17:11:00.339Z"
   },
   {
    "duration": 19,
    "start_time": "2023-02-23T17:17:54.956Z"
   },
   {
    "duration": 3,
    "start_time": "2023-02-23T17:17:59.596Z"
   },
   {
    "duration": 18,
    "start_time": "2023-02-23T17:18:03.132Z"
   },
   {
    "duration": 1527,
    "start_time": "2023-02-24T09:27:05.605Z"
   },
   {
    "duration": 8,
    "start_time": "2023-02-24T09:27:07.134Z"
   },
   {
    "duration": 18,
    "start_time": "2023-02-24T09:27:07.143Z"
   },
   {
    "duration": 14,
    "start_time": "2023-02-24T09:27:07.163Z"
   },
   {
    "duration": 5402,
    "start_time": "2023-02-24T09:27:07.179Z"
   },
   {
    "duration": 78,
    "start_time": "2023-02-24T09:27:12.583Z"
   },
   {
    "duration": 107,
    "start_time": "2023-02-24T09:27:12.663Z"
   },
   {
    "duration": 36,
    "start_time": "2023-02-24T09:27:12.771Z"
   },
   {
    "duration": 303,
    "start_time": "2023-02-24T09:27:12.821Z"
   },
   {
    "duration": 94,
    "start_time": "2023-02-24T09:27:13.127Z"
   },
   {
    "duration": 4,
    "start_time": "2023-02-24T09:27:13.223Z"
   },
   {
    "duration": 23,
    "start_time": "2023-02-24T09:27:13.229Z"
   },
   {
    "duration": 5,
    "start_time": "2023-02-24T09:32:38.655Z"
   },
   {
    "duration": 4,
    "start_time": "2023-02-24T09:59:22.855Z"
   },
   {
    "duration": 3,
    "start_time": "2023-02-24T09:59:30.910Z"
   },
   {
    "duration": 6,
    "start_time": "2023-02-24T09:59:39.293Z"
   },
   {
    "duration": 6,
    "start_time": "2023-02-24T09:59:48.356Z"
   },
   {
    "duration": 6,
    "start_time": "2023-02-24T09:59:49.204Z"
   },
   {
    "duration": 7,
    "start_time": "2023-02-24T09:59:49.972Z"
   },
   {
    "duration": 5,
    "start_time": "2023-02-24T10:00:06.085Z"
   },
   {
    "duration": 99,
    "start_time": "2023-02-24T10:02:15.878Z"
   },
   {
    "duration": 5,
    "start_time": "2023-02-24T10:04:06.086Z"
   },
   {
    "duration": 4,
    "start_time": "2023-02-24T10:04:17.695Z"
   },
   {
    "duration": 5,
    "start_time": "2023-02-24T10:04:37.775Z"
   },
   {
    "duration": 4,
    "start_time": "2023-02-24T10:04:47.448Z"
   },
   {
    "duration": 12,
    "start_time": "2023-02-24T10:05:12.927Z"
   },
   {
    "duration": 10,
    "start_time": "2023-02-24T10:05:28.254Z"
   },
   {
    "duration": 5,
    "start_time": "2023-02-24T10:05:55.862Z"
   },
   {
    "duration": 6,
    "start_time": "2023-02-24T10:08:47.369Z"
   },
   {
    "duration": 11,
    "start_time": "2023-02-24T10:09:06.593Z"
   },
   {
    "duration": 11,
    "start_time": "2023-02-24T10:14:58.345Z"
   },
   {
    "duration": 9,
    "start_time": "2023-02-24T10:15:57.379Z"
   },
   {
    "duration": 3,
    "start_time": "2023-02-24T10:20:38.643Z"
   },
   {
    "duration": 8,
    "start_time": "2023-02-24T10:21:19.386Z"
   },
   {
    "duration": 8,
    "start_time": "2023-02-24T10:22:06.684Z"
   },
   {
    "duration": 8,
    "start_time": "2023-02-24T10:22:34.115Z"
   },
   {
    "duration": 8,
    "start_time": "2023-02-24T10:22:41.978Z"
   },
   {
    "duration": 7,
    "start_time": "2023-02-24T10:22:46.037Z"
   },
   {
    "duration": 7,
    "start_time": "2023-02-24T10:22:49.180Z"
   },
   {
    "duration": 10,
    "start_time": "2023-02-24T10:24:44.004Z"
   },
   {
    "duration": 9,
    "start_time": "2023-02-24T10:24:51.507Z"
   },
   {
    "duration": 9,
    "start_time": "2023-02-24T10:24:54.339Z"
   },
   {
    "duration": 10,
    "start_time": "2023-02-24T10:24:57.227Z"
   },
   {
    "duration": 9,
    "start_time": "2023-02-24T10:24:59.851Z"
   },
   {
    "duration": 10,
    "start_time": "2023-02-24T10:25:01.322Z"
   },
   {
    "duration": 9,
    "start_time": "2023-02-24T10:25:02.342Z"
   },
   {
    "duration": 9,
    "start_time": "2023-02-24T10:25:07.367Z"
   },
   {
    "duration": 9,
    "start_time": "2023-02-24T10:25:11.276Z"
   },
   {
    "duration": 1668,
    "start_time": "2023-02-24T10:27:21.236Z"
   },
   {
    "duration": 1930,
    "start_time": "2023-02-24T10:28:11.533Z"
   },
   {
    "duration": 1953,
    "start_time": "2023-02-24T10:29:32.670Z"
   },
   {
    "duration": 5163,
    "start_time": "2023-02-24T10:30:43.741Z"
   },
   {
    "duration": 5839,
    "start_time": "2023-02-24T10:31:18.270Z"
   },
   {
    "duration": 5926,
    "start_time": "2023-02-24T10:33:16.967Z"
   },
   {
    "duration": 5476,
    "start_time": "2023-02-24T10:44:58.770Z"
   },
   {
    "duration": 5556,
    "start_time": "2023-02-24T10:45:27.420Z"
   },
   {
    "duration": 1926,
    "start_time": "2023-02-24T10:48:33.635Z"
   },
   {
    "duration": 5491,
    "start_time": "2023-02-24T10:49:50.940Z"
   },
   {
    "duration": 4,
    "start_time": "2023-02-24T10:51:06.337Z"
   },
   {
    "duration": 6175,
    "start_time": "2023-02-24T10:51:08.659Z"
   },
   {
    "duration": 5876,
    "start_time": "2023-02-24T10:52:11.890Z"
   },
   {
    "duration": 5874,
    "start_time": "2023-02-24T10:52:51.618Z"
   },
   {
    "duration": 5759,
    "start_time": "2023-02-24T10:53:07.318Z"
   },
   {
    "duration": 4,
    "start_time": "2023-02-24T10:57:32.037Z"
   },
   {
    "duration": 5625,
    "start_time": "2023-02-24T11:12:20.129Z"
   },
   {
    "duration": 5829,
    "start_time": "2023-02-24T11:14:01.130Z"
   },
   {
    "duration": 5,
    "start_time": "2023-02-24T11:26:16.075Z"
   },
   {
    "duration": 5868,
    "start_time": "2023-02-24T11:26:47.532Z"
   },
   {
    "duration": 5868,
    "start_time": "2023-02-24T11:27:03.500Z"
   },
   {
    "duration": 8,
    "start_time": "2023-02-24T12:14:17.033Z"
   },
   {
    "duration": 6,
    "start_time": "2023-02-24T12:14:33.280Z"
   },
   {
    "duration": 7,
    "start_time": "2023-02-24T12:14:50.734Z"
   },
   {
    "duration": 5,
    "start_time": "2023-02-24T12:15:18.576Z"
   },
   {
    "duration": 19,
    "start_time": "2023-02-24T12:15:32.119Z"
   },
   {
    "duration": 16,
    "start_time": "2023-02-24T12:15:38.915Z"
   },
   {
    "duration": 4630,
    "start_time": "2023-02-24T12:57:44.880Z"
   },
   {
    "duration": 5,
    "start_time": "2023-02-24T15:38:27.738Z"
   },
   {
    "duration": 1366,
    "start_time": "2023-02-24T15:39:30.419Z"
   },
   {
    "duration": 4144,
    "start_time": "2023-02-24T15:40:42.563Z"
   },
   {
    "duration": 6,
    "start_time": "2023-02-24T15:42:15.620Z"
   },
   {
    "duration": 4179,
    "start_time": "2023-02-24T15:42:17.867Z"
   },
   {
    "duration": 5,
    "start_time": "2023-02-24T15:46:28.141Z"
   },
   {
    "duration": 4575,
    "start_time": "2023-02-24T15:46:31.372Z"
   },
   {
    "duration": 6,
    "start_time": "2023-02-24T15:51:14.535Z"
   },
   {
    "duration": 4277,
    "start_time": "2023-02-24T15:51:17.941Z"
   },
   {
    "duration": 5,
    "start_time": "2023-02-24T15:53:19.639Z"
   },
   {
    "duration": 4267,
    "start_time": "2023-02-24T15:53:22.312Z"
   },
   {
    "duration": 6,
    "start_time": "2023-02-24T15:53:43.991Z"
   },
   {
    "duration": 3905,
    "start_time": "2023-02-24T15:53:46.021Z"
   },
   {
    "duration": 5,
    "start_time": "2023-02-24T15:54:16.174Z"
   },
   {
    "duration": 4072,
    "start_time": "2023-02-24T15:54:18.190Z"
   },
   {
    "duration": 5,
    "start_time": "2023-02-24T15:54:31.558Z"
   },
   {
    "duration": 1493,
    "start_time": "2023-02-24T15:54:33.318Z"
   },
   {
    "duration": 5,
    "start_time": "2023-02-24T15:54:44.173Z"
   },
   {
    "duration": 3982,
    "start_time": "2023-02-24T15:54:46.734Z"
   },
   {
    "duration": 3894,
    "start_time": "2023-02-24T15:55:43.815Z"
   },
   {
    "duration": 4,
    "start_time": "2023-02-24T15:56:02.196Z"
   },
   {
    "duration": 23,
    "start_time": "2023-02-24T15:56:02.202Z"
   },
   {
    "duration": 10,
    "start_time": "2023-02-24T15:56:02.227Z"
   },
   {
    "duration": 15,
    "start_time": "2023-02-24T15:56:02.238Z"
   },
   {
    "duration": 3890,
    "start_time": "2023-02-24T15:56:02.255Z"
   },
   {
    "duration": 81,
    "start_time": "2023-02-24T15:56:06.147Z"
   },
   {
    "duration": 102,
    "start_time": "2023-02-24T15:56:06.230Z"
   },
   {
    "duration": 26,
    "start_time": "2023-02-24T15:56:06.334Z"
   },
   {
    "duration": 261,
    "start_time": "2023-02-24T15:56:06.362Z"
   },
   {
    "duration": 6,
    "start_time": "2023-02-24T15:56:06.627Z"
   },
   {
    "duration": 104,
    "start_time": "2023-02-24T15:56:06.721Z"
   },
   {
    "duration": 7,
    "start_time": "2023-02-24T15:56:06.827Z"
   },
   {
    "duration": 4150,
    "start_time": "2023-02-24T15:56:06.837Z"
   },
   {
    "duration": 4,
    "start_time": "2023-02-24T15:56:19.028Z"
   },
   {
    "duration": 9,
    "start_time": "2023-02-24T15:56:19.034Z"
   },
   {
    "duration": 10,
    "start_time": "2023-02-24T15:56:19.045Z"
   },
   {
    "duration": 7,
    "start_time": "2023-02-24T15:56:19.057Z"
   },
   {
    "duration": 3808,
    "start_time": "2023-02-24T15:56:19.065Z"
   },
   {
    "duration": 80,
    "start_time": "2023-02-24T15:56:22.875Z"
   },
   {
    "duration": 108,
    "start_time": "2023-02-24T15:56:22.956Z"
   },
   {
    "duration": 28,
    "start_time": "2023-02-24T15:56:23.066Z"
   },
   {
    "duration": 229,
    "start_time": "2023-02-24T15:56:23.095Z"
   },
   {
    "duration": 94,
    "start_time": "2023-02-24T15:56:23.327Z"
   },
   {
    "duration": 5,
    "start_time": "2023-02-24T15:56:23.422Z"
   },
   {
    "duration": 8,
    "start_time": "2023-02-24T15:56:23.429Z"
   },
   {
    "duration": 4231,
    "start_time": "2023-02-24T15:56:23.439Z"
   },
   {
    "duration": 4,
    "start_time": "2023-02-24T15:58:27.855Z"
   },
   {
    "duration": 76,
    "start_time": "2023-02-24T16:25:45.927Z"
   },
   {
    "duration": 5,
    "start_time": "2023-02-24T16:26:40.733Z"
   },
   {
    "duration": 5,
    "start_time": "2023-02-24T16:27:05.986Z"
   },
   {
    "duration": 7,
    "start_time": "2023-02-24T16:27:05.993Z"
   },
   {
    "duration": 8,
    "start_time": "2023-02-24T16:27:06.001Z"
   },
   {
    "duration": 10,
    "start_time": "2023-02-24T16:27:06.011Z"
   },
   {
    "duration": 3887,
    "start_time": "2023-02-24T16:27:06.024Z"
   },
   {
    "duration": 76,
    "start_time": "2023-02-24T16:27:09.913Z"
   },
   {
    "duration": 129,
    "start_time": "2023-02-24T16:27:09.991Z"
   },
   {
    "duration": 28,
    "start_time": "2023-02-24T16:27:10.122Z"
   },
   {
    "duration": 183,
    "start_time": "2023-02-24T16:27:10.152Z"
   },
   {
    "duration": 6,
    "start_time": "2023-02-24T16:27:10.422Z"
   },
   {
    "duration": 97,
    "start_time": "2023-02-24T16:27:10.430Z"
   },
   {
    "duration": 9,
    "start_time": "2023-02-24T16:27:10.528Z"
   },
   {
    "duration": 4327,
    "start_time": "2023-02-24T16:27:10.538Z"
   },
   {
    "duration": 4,
    "start_time": "2023-02-24T16:31:23.110Z"
   },
   {
    "duration": 10,
    "start_time": "2023-02-24T16:31:23.117Z"
   },
   {
    "duration": 8,
    "start_time": "2023-02-24T16:31:23.129Z"
   },
   {
    "duration": 6,
    "start_time": "2023-02-24T16:31:23.139Z"
   },
   {
    "duration": 3925,
    "start_time": "2023-02-24T16:31:23.146Z"
   },
   {
    "duration": 78,
    "start_time": "2023-02-24T16:31:27.073Z"
   },
   {
    "duration": 122,
    "start_time": "2023-02-24T16:31:27.153Z"
   },
   {
    "duration": 27,
    "start_time": "2023-02-24T16:31:27.277Z"
   },
   {
    "duration": 315,
    "start_time": "2023-02-24T16:31:27.306Z"
   },
   {
    "duration": 6,
    "start_time": "2023-02-24T16:31:27.624Z"
   },
   {
    "duration": 11,
    "start_time": "2023-02-24T16:31:27.721Z"
   },
   {
    "duration": 11,
    "start_time": "2023-02-24T16:31:27.734Z"
   },
   {
    "duration": 3972,
    "start_time": "2023-02-24T16:31:27.746Z"
   },
   {
    "duration": 4,
    "start_time": "2023-02-24T17:03:17.407Z"
   },
   {
    "duration": 24,
    "start_time": "2023-02-24T17:03:17.413Z"
   },
   {
    "duration": 8,
    "start_time": "2023-02-24T17:03:17.439Z"
   },
   {
    "duration": 6,
    "start_time": "2023-02-24T17:03:17.450Z"
   },
   {
    "duration": 4539,
    "start_time": "2023-02-24T17:03:17.458Z"
   },
   {
    "duration": 87,
    "start_time": "2023-02-24T17:03:21.999Z"
   },
   {
    "duration": 168,
    "start_time": "2023-02-24T17:03:22.089Z"
   },
   {
    "duration": 31,
    "start_time": "2023-02-24T17:03:22.259Z"
   },
   {
    "duration": 151,
    "start_time": "2023-02-24T17:03:22.292Z"
   },
   {
    "duration": 81,
    "start_time": "2023-02-24T17:03:22.446Z"
   },
   {
    "duration": 101,
    "start_time": "2023-02-24T17:03:22.530Z"
   },
   {
    "duration": 11,
    "start_time": "2023-02-24T17:03:22.634Z"
   },
   {
    "duration": 4663,
    "start_time": "2023-02-24T17:03:22.647Z"
   },
   {
    "duration": 5,
    "start_time": "2023-02-24T17:57:02.230Z"
   },
   {
    "duration": 3,
    "start_time": "2023-02-24T17:57:26.371Z"
   },
   {
    "duration": 7,
    "start_time": "2023-02-24T17:57:26.376Z"
   },
   {
    "duration": 12,
    "start_time": "2023-02-24T17:57:26.384Z"
   },
   {
    "duration": 6,
    "start_time": "2023-02-24T17:57:26.399Z"
   },
   {
    "duration": 3946,
    "start_time": "2023-02-24T17:57:26.407Z"
   },
   {
    "duration": 100,
    "start_time": "2023-02-24T17:57:30.354Z"
   },
   {
    "duration": 150,
    "start_time": "2023-02-24T17:57:30.455Z"
   },
   {
    "duration": 42,
    "start_time": "2023-02-24T17:57:30.606Z"
   },
   {
    "duration": 88,
    "start_time": "2023-02-24T17:57:30.650Z"
   },
   {
    "duration": 104,
    "start_time": "2023-02-24T17:57:30.821Z"
   },
   {
    "duration": 60,
    "start_time": "2023-02-24T17:57:30.927Z"
   },
   {
    "duration": 75,
    "start_time": "2023-02-24T17:57:30.989Z"
   },
   {
    "duration": 4409,
    "start_time": "2023-02-24T17:57:31.066Z"
   },
   {
    "duration": 4,
    "start_time": "2023-02-24T18:02:22.053Z"
   },
   {
    "duration": 24,
    "start_time": "2023-02-24T18:02:22.060Z"
   },
   {
    "duration": 27,
    "start_time": "2023-02-24T18:02:22.085Z"
   },
   {
    "duration": 10,
    "start_time": "2023-02-24T18:02:22.114Z"
   },
   {
    "duration": 3795,
    "start_time": "2023-02-24T18:02:22.126Z"
   },
   {
    "duration": 120,
    "start_time": "2023-02-24T18:02:25.923Z"
   },
   {
    "duration": 150,
    "start_time": "2023-02-24T18:02:26.045Z"
   },
   {
    "duration": 38,
    "start_time": "2023-02-24T18:02:26.197Z"
   },
   {
    "duration": 189,
    "start_time": "2023-02-24T18:02:26.237Z"
   },
   {
    "duration": 6,
    "start_time": "2023-02-24T18:02:26.430Z"
   },
   {
    "duration": 98,
    "start_time": "2023-02-24T18:02:26.523Z"
   },
   {
    "duration": 15,
    "start_time": "2023-02-24T18:02:26.623Z"
   },
   {
    "duration": 4258,
    "start_time": "2023-02-24T18:02:26.640Z"
   },
   {
    "duration": 3,
    "start_time": "2023-02-24T19:03:30.916Z"
   },
   {
    "duration": 41,
    "start_time": "2023-02-24T19:03:30.922Z"
   },
   {
    "duration": 49,
    "start_time": "2023-02-24T19:03:30.965Z"
   },
   {
    "duration": 37,
    "start_time": "2023-02-24T19:03:31.017Z"
   },
   {
    "duration": 4033,
    "start_time": "2023-02-24T19:03:31.057Z"
   },
   {
    "duration": 93,
    "start_time": "2023-02-24T19:03:35.092Z"
   },
   {
    "duration": 137,
    "start_time": "2023-02-24T19:03:35.187Z"
   },
   {
    "duration": 29,
    "start_time": "2023-02-24T19:03:35.325Z"
   },
   {
    "duration": 268,
    "start_time": "2023-02-24T19:03:35.356Z"
   },
   {
    "duration": 5,
    "start_time": "2023-02-24T19:03:35.627Z"
   },
   {
    "duration": 99,
    "start_time": "2023-02-24T19:03:35.636Z"
   },
   {
    "duration": 90,
    "start_time": "2023-02-24T19:03:35.737Z"
   },
   {
    "duration": 3909,
    "start_time": "2023-02-24T19:03:35.830Z"
   },
   {
    "duration": 4,
    "start_time": "2023-02-24T19:06:49.659Z"
   },
   {
    "duration": 3460,
    "start_time": "2023-02-24T19:13:07.258Z"
   },
   {
    "duration": 4,
    "start_time": "2023-02-24T19:31:24.175Z"
   },
   {
    "duration": 7,
    "start_time": "2023-02-24T19:31:24.181Z"
   },
   {
    "duration": 19,
    "start_time": "2023-02-24T19:31:24.189Z"
   },
   {
    "duration": 7,
    "start_time": "2023-02-24T19:31:24.210Z"
   },
   {
    "duration": 3838,
    "start_time": "2023-02-24T19:31:24.219Z"
   },
   {
    "duration": 89,
    "start_time": "2023-02-24T19:31:28.059Z"
   },
   {
    "duration": 130,
    "start_time": "2023-02-24T19:31:28.149Z"
   },
   {
    "duration": 27,
    "start_time": "2023-02-24T19:31:28.281Z"
   },
   {
    "duration": 220,
    "start_time": "2023-02-24T19:31:28.321Z"
   },
   {
    "duration": 86,
    "start_time": "2023-02-24T19:31:28.543Z"
   },
   {
    "duration": 106,
    "start_time": "2023-02-24T19:31:28.631Z"
   },
   {
    "duration": 9,
    "start_time": "2023-02-24T19:31:28.739Z"
   },
   {
    "duration": 3945,
    "start_time": "2023-02-24T19:31:28.750Z"
   },
   {
    "duration": 5,
    "start_time": "2023-02-24T19:33:16.892Z"
   },
   {
    "duration": 10,
    "start_time": "2023-02-24T19:33:16.899Z"
   },
   {
    "duration": 27,
    "start_time": "2023-02-24T19:33:16.912Z"
   },
   {
    "duration": 6,
    "start_time": "2023-02-24T19:33:16.942Z"
   },
   {
    "duration": 3757,
    "start_time": "2023-02-24T19:33:16.950Z"
   },
   {
    "duration": 83,
    "start_time": "2023-02-24T19:33:20.709Z"
   },
   {
    "duration": 118,
    "start_time": "2023-02-24T19:33:20.793Z"
   },
   {
    "duration": 40,
    "start_time": "2023-02-24T19:33:20.913Z"
   },
   {
    "duration": 184,
    "start_time": "2023-02-24T19:33:20.955Z"
   },
   {
    "duration": 85,
    "start_time": "2023-02-24T19:33:21.143Z"
   },
   {
    "duration": 105,
    "start_time": "2023-02-24T19:33:21.231Z"
   },
   {
    "duration": 9,
    "start_time": "2023-02-24T19:33:21.338Z"
   },
   {
    "duration": 3958,
    "start_time": "2023-02-24T19:33:21.349Z"
   },
   {
    "duration": 4,
    "start_time": "2023-02-24T20:04:08.052Z"
   },
   {
    "duration": 18,
    "start_time": "2023-02-24T20:04:08.058Z"
   },
   {
    "duration": 14,
    "start_time": "2023-02-24T20:04:08.078Z"
   },
   {
    "duration": 7,
    "start_time": "2023-02-24T20:04:08.094Z"
   },
   {
    "duration": 4109,
    "start_time": "2023-02-24T20:04:08.103Z"
   },
   {
    "duration": 81,
    "start_time": "2023-02-24T20:04:12.215Z"
   },
   {
    "duration": 157,
    "start_time": "2023-02-24T20:04:12.298Z"
   },
   {
    "duration": 31,
    "start_time": "2023-02-24T20:04:12.457Z"
   },
   {
    "duration": 51,
    "start_time": "2023-02-24T20:04:12.489Z"
   },
   {
    "duration": 4,
    "start_time": "2023-02-24T20:04:36.286Z"
   },
   {
    "duration": 4,
    "start_time": "2023-02-24T20:05:05.364Z"
   },
   {
    "duration": 17,
    "start_time": "2023-02-24T20:05:05.370Z"
   },
   {
    "duration": 8,
    "start_time": "2023-02-24T20:05:05.389Z"
   },
   {
    "duration": 5,
    "start_time": "2023-02-24T20:05:05.398Z"
   },
   {
    "duration": 3840,
    "start_time": "2023-02-24T20:05:05.405Z"
   },
   {
    "duration": 82,
    "start_time": "2023-02-24T20:05:09.247Z"
   },
   {
    "duration": 134,
    "start_time": "2023-02-24T20:05:09.330Z"
   },
   {
    "duration": 27,
    "start_time": "2023-02-24T20:05:09.466Z"
   },
   {
    "duration": 44,
    "start_time": "2023-02-24T20:05:09.495Z"
   },
   {
    "duration": 184,
    "start_time": "2023-02-24T20:05:09.542Z"
   },
   {
    "duration": 5,
    "start_time": "2023-02-24T20:23:16.881Z"
   },
   {
    "duration": 10,
    "start_time": "2023-02-24T20:23:16.888Z"
   },
   {
    "duration": 9,
    "start_time": "2023-02-24T20:23:16.900Z"
   },
   {
    "duration": 7,
    "start_time": "2023-02-24T20:23:16.911Z"
   },
   {
    "duration": 4351,
    "start_time": "2023-02-24T20:23:16.920Z"
   },
   {
    "duration": 98,
    "start_time": "2023-02-24T20:23:21.273Z"
   },
   {
    "duration": 143,
    "start_time": "2023-02-24T20:23:21.372Z"
   },
   {
    "duration": 32,
    "start_time": "2023-02-24T20:23:21.520Z"
   },
   {
    "duration": 93,
    "start_time": "2023-02-24T20:23:21.554Z"
   },
   {
    "duration": 5,
    "start_time": "2023-02-24T20:23:21.722Z"
   },
   {
    "duration": 96,
    "start_time": "2023-02-24T20:23:21.729Z"
   },
   {
    "duration": 17,
    "start_time": "2023-02-24T20:23:21.827Z"
   },
   {
    "duration": 4090,
    "start_time": "2023-02-24T20:23:21.846Z"
   },
   {
    "duration": 1807,
    "start_time": "2023-02-25T13:01:02.696Z"
   },
   {
    "duration": 6,
    "start_time": "2023-02-25T13:01:04.505Z"
   },
   {
    "duration": 9,
    "start_time": "2023-02-25T13:01:04.513Z"
   },
   {
    "duration": 4,
    "start_time": "2023-02-25T13:01:04.524Z"
   },
   {
    "duration": 3631,
    "start_time": "2023-02-25T13:01:04.529Z"
   },
   {
    "duration": 77,
    "start_time": "2023-02-25T13:01:08.162Z"
   },
   {
    "duration": 86,
    "start_time": "2023-02-25T13:01:08.241Z"
   },
   {
    "duration": 33,
    "start_time": "2023-02-25T13:01:08.337Z"
   },
   {
    "duration": 173,
    "start_time": "2023-02-25T13:01:08.372Z"
   },
   {
    "duration": 94,
    "start_time": "2023-02-25T13:01:08.547Z"
   },
   {
    "duration": 100,
    "start_time": "2023-02-25T13:01:08.643Z"
   },
   {
    "duration": 9,
    "start_time": "2023-02-25T13:01:08.745Z"
   },
   {
    "duration": 3942,
    "start_time": "2023-02-25T13:01:08.756Z"
   },
   {
    "duration": 1919,
    "start_time": "2023-02-25T19:45:29.175Z"
   },
   {
    "duration": 9,
    "start_time": "2023-02-25T19:45:31.096Z"
   },
   {
    "duration": 35,
    "start_time": "2023-02-25T19:45:31.106Z"
   },
   {
    "duration": 13,
    "start_time": "2023-02-25T19:45:31.144Z"
   },
   {
    "duration": 5327,
    "start_time": "2023-02-25T19:45:31.159Z"
   },
   {
    "duration": 106,
    "start_time": "2023-02-25T19:45:36.492Z"
   },
   {
    "duration": 105,
    "start_time": "2023-02-25T19:45:36.600Z"
   },
   {
    "duration": 135,
    "start_time": "2023-02-25T19:45:36.708Z"
   },
   {
    "duration": 379,
    "start_time": "2023-02-25T19:45:56.367Z"
   },
   {
    "duration": 314,
    "start_time": "2023-02-25T19:46:30.848Z"
   },
   {
    "duration": 350,
    "start_time": "2023-02-25T19:48:26.373Z"
   },
   {
    "duration": 68,
    "start_time": "2023-02-25T19:57:10.224Z"
   },
   {
    "duration": 245,
    "start_time": "2023-02-25T19:57:25.630Z"
   },
   {
    "duration": 900,
    "start_time": "2023-02-25T19:59:43.595Z"
   },
   {
    "duration": 1131,
    "start_time": "2023-02-25T20:00:06.174Z"
   },
   {
    "duration": 900,
    "start_time": "2023-02-25T20:01:07.238Z"
   },
   {
    "duration": 960,
    "start_time": "2023-02-25T20:01:31.536Z"
   },
   {
    "duration": 5,
    "start_time": "2023-02-25T20:23:29.976Z"
   },
   {
    "duration": 70,
    "start_time": "2023-02-25T20:25:33.676Z"
   },
   {
    "duration": 78,
    "start_time": "2023-02-25T20:25:41.573Z"
   },
   {
    "duration": 73,
    "start_time": "2023-02-25T20:27:30.926Z"
   },
   {
    "duration": 3,
    "start_time": "2023-02-25T20:49:51.951Z"
   },
   {
    "duration": 6,
    "start_time": "2023-02-25T20:49:52.157Z"
   },
   {
    "duration": 29,
    "start_time": "2023-02-25T20:49:52.168Z"
   },
   {
    "duration": 4,
    "start_time": "2023-02-25T20:49:52.250Z"
   },
   {
    "duration": 3869,
    "start_time": "2023-02-25T20:49:52.258Z"
   },
   {
    "duration": 85,
    "start_time": "2023-02-25T20:49:56.129Z"
   },
   {
    "duration": 129,
    "start_time": "2023-02-25T20:49:56.216Z"
   },
   {
    "duration": 953,
    "start_time": "2023-02-25T20:49:56.348Z"
   },
   {
    "duration": 31,
    "start_time": "2023-02-25T20:49:57.303Z"
   },
   {
    "duration": 261,
    "start_time": "2023-02-25T20:49:57.336Z"
   },
   {
    "duration": 94,
    "start_time": "2023-02-25T20:49:57.599Z"
   },
   {
    "duration": 1467,
    "start_time": "2023-02-25T20:58:40.334Z"
   },
   {
    "duration": 7,
    "start_time": "2023-02-25T20:58:41.803Z"
   },
   {
    "duration": 19,
    "start_time": "2023-02-25T20:58:41.812Z"
   },
   {
    "duration": 24,
    "start_time": "2023-02-25T20:58:41.833Z"
   },
   {
    "duration": 3699,
    "start_time": "2023-02-25T20:58:41.859Z"
   },
   {
    "duration": 79,
    "start_time": "2023-02-25T20:58:45.560Z"
   },
   {
    "duration": 106,
    "start_time": "2023-02-25T20:58:45.640Z"
   },
   {
    "duration": 1027,
    "start_time": "2023-02-25T20:58:45.748Z"
   },
   {
    "duration": 41,
    "start_time": "2023-02-25T20:58:46.776Z"
   },
   {
    "duration": 174,
    "start_time": "2023-02-25T20:58:46.819Z"
   },
   {
    "duration": 7,
    "start_time": "2023-02-25T20:58:46.995Z"
   },
   {
    "duration": 88,
    "start_time": "2023-02-25T20:58:47.005Z"
   },
   {
    "duration": 11,
    "start_time": "2023-02-25T20:58:47.095Z"
   },
   {
    "duration": 3785,
    "start_time": "2023-02-25T20:58:47.107Z"
   },
   {
    "duration": 5,
    "start_time": "2023-02-25T21:08:59.735Z"
   },
   {
    "duration": 6,
    "start_time": "2023-02-25T21:09:17.185Z"
   },
   {
    "duration": 5,
    "start_time": "2023-02-25T21:09:24.881Z"
   }
  ],
  "kernelspec": {
   "display_name": "Python 3 (ipykernel)",
   "language": "python",
   "name": "python3"
  },
  "language_info": {
   "codemirror_mode": {
    "name": "ipython",
    "version": 3
   },
   "file_extension": ".py",
   "mimetype": "text/x-python",
   "name": "python",
   "nbconvert_exporter": "python",
   "pygments_lexer": "ipython3",
   "version": "3.9.13"
  },
  "toc": {
   "base_numbering": 1,
   "nav_menu": {},
   "number_sections": true,
   "sideBar": true,
   "skip_h1_title": true,
   "title_cell": "Table of Contents",
   "title_sidebar": "Contents",
   "toc_cell": false,
   "toc_position": {
    "height": "calc(100% - 180px)",
    "left": "10px",
    "top": "150px",
    "width": "259px"
   },
   "toc_section_display": true,
   "toc_window_display": true
  }
 },
 "nbformat": 4,
 "nbformat_minor": 4
}
