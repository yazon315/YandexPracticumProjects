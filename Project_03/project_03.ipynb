{
 "cells": [
  {
   "cell_type": "markdown",
   "metadata": {},
   "source": [
    "# Проект: Исследование рынка недвижимости"
   ]
  },
  {
   "cell_type": "markdown",
   "metadata": {},
   "source": [
    "**Оглавление**<a id='toc0_'></a>    \n",
    "- 1. [Загрузка и первичный анализ данных](#toc1_)    \n",
    "  - 1.1. [Вывод по разделу 1](#toc1_1_)    \n",
    "- 2. [Предобработка данных](#toc2_)    \n",
    "  - 2.1. [Изучение и заполнение пропусков, корректировка аномальных значений](#toc2_1_)    \n",
    "  - 2.2. [Анализ типов данных](#toc2_2_)    \n",
    "  - 2.3. [Поиск дубликатов](#toc2_3_)    \n",
    "  - 2.4. [Исследование аномальных значений](#toc2_4_)    \n",
    "  - 2.5. [Добавление новых столбцов](#toc2_5_)    \n",
    "  - 2.6. [Вывод по разделу 2](#toc2_6_)    \n",
    "- 3. [Исследовательский анализ данных и ответы на вопросы](#toc3_)    \n",
    "  - 3.1. [Изучение параметров объектов (квартир)](#toc3_1_)    \n",
    "  - 3.2. [Анализ сроков продажи квартир](#toc3_2_)    \n",
    "  - 3.3. [Исследование влияния различных факторов на стоимость объектов](#toc3_3_)    \n",
    "  - 3.4. [Исследование средней стоимости квадратного метра в населенных пунктах](#toc3_4_)    \n",
    "  - 3.5. [Исследование влияния на стоимость расстояния от центра города](#toc3_5_)    \n",
    "  - 3.6. [Вывод по разделу 3](#toc3_6_)    \n",
    "- 4. [Общий вывод](#toc4_)    \n",
    "\n",
    "<!-- vscode-jupyter-toc-config\n",
    "\tnumbering=true\n",
    "\tanchor=true\n",
    "\tflat=false\n",
    "\tminLevel=2\n",
    "\tmaxLevel=6\n",
    "\t/vscode-jupyter-toc-config -->\n",
    "<!-- THIS CELL WILL BE REPLACED ON TOC UPDATE. DO NOT WRITE YOUR TEXT IN THIS CELL -->"
   ]
  },
  {
   "cell_type": "markdown",
   "metadata": {},
   "source": [
    "**Задание:**\n",
    "\n",
    "В ходе исследования необходимо определить рыночную стоимость объектов недвижимости, установить параметры, определить закономерности и взаимосвязи, ответить на ряд исследовательских вопросов. В дальнейшем это позволит построить автоматизированную систему для отслеживания аномалий и мошеннической деятельности. \n",
    "\n",
    "Входные данные — архив объявлений о продаже квартир в Санкт-Петербурге и соседних населённых пунктов за несколько лет (данные сервиса Яндекс.Недвижимость). По каждой квартире доступны два вида данных: указанные пользователем и полученные автоматически на основе картографических данных (например, расстояние до центра, аэропорта, ближайшего парка и водоёма).\n",
    "\n",
    "План работы:\n",
    "1. Загрузка и первичный анализ данных.\n",
    "2. Предобработка данных.\n",
    "3. Исследовательский анализ и ответы на вопросы.\n",
    "4. Общий вывод."
   ]
  },
  {
   "cell_type": "markdown",
   "metadata": {},
   "source": [
    "## 1. <a id='toc1_'></a>[Загрузка и первичный анализ данных](#toc0_)"
   ]
  },
  {
   "cell_type": "code",
   "execution_count": 1,
   "metadata": {},
   "outputs": [],
   "source": [
    "import pandas as pd\n",
    "import numpy as np\n",
    "import seaborn as sns\n",
    "import matplotlib.pyplot as plt\n",
    "from matplotlib.ticker import NullFormatter, FormatStrFormatter, FuncFormatter, ScalarFormatter, FixedFormatter, FixedLocator\n",
    "from IPython.display import display"
   ]
  },
  {
   "cell_type": "code",
   "execution_count": 2,
   "metadata": {},
   "outputs": [],
   "source": [
    "pd.options.display.float_format = '{:20,.2f}'.format"
   ]
  },
  {
   "cell_type": "code",
   "execution_count": 3,
   "metadata": {},
   "outputs": [],
   "source": [
    "# функция расчета и вывода среднего, медианы и моды для передаваемых в функцию столбцов датасета data\n",
    "def mmm(spisok):\n",
    "    tablica = pd.DataFrame(index=spisok, columns=['mean', 'median', 'mode'])\n",
    "    for area in spisok:\n",
    "        tablica.loc[area, 'mean'] = round(data[area].mean(), 0)\n",
    "        tablica.loc[area, 'median'] = round(data[area].median(), 0)\n",
    "        tablica.loc[area, 'mode'] = round(data[area].mode().loc[0], 0)\n",
    "    display(tablica)\n",
    "    return\n",
    "\n",
    "# функция расчета и вывода среднего, медианы и моды для передаваемых в функцию названия датасета и столбцов датасета\n",
    "def mmm2(dafr, spisok):\n",
    "    tablica = pd.DataFrame(index=spisok, columns=['mean', 'median', 'mode'])\n",
    "    for area in spisok:\n",
    "        tablica.loc[area, 'mean'] = round(dafr[area].mean(), 0)\n",
    "        tablica.loc[area, 'median'] = round(dafr[area].median(), 0)\n",
    "        tablica.loc[area, 'mode'] = round(dafr[area].mode().loc[0], 0)\n",
    "    display(tablica)\n",
    "    return"
   ]
  },
  {
   "cell_type": "code",
   "execution_count": 4,
   "metadata": {},
   "outputs": [],
   "source": [
    "# загрузка данных\n",
    "data = pd.read_csv('/datasets/real_estate_data.csv', sep='\\t')\n",
    "\n",
    "# загрузка описания полей данных\n",
    "ind = ['airports_nearest', 'balcony', 'ceiling_height', 'cityCenters_nearest', 'days_exposition', 'first_day_exposition',\n",
    "       'floor', 'floors_total', 'is_apartment', 'kitchen_area', 'last_price', 'living_area', 'locality_name', 'open_plan',\n",
    "       'parks_around3000', 'parks_nearest', 'ponds_around3000', 'ponds_nearest', 'rooms', 'studio', 'total_area',\n",
    "       'total_images']\n",
    "polya = ['расстояние до ближайшего аэропорта в метрах (м)', 'число балконов', 'высота потолков (м)',\n",
    "         'расстояние до центра города (м)', 'сколько дней было размещено объявление (от публикации до снятия)',\n",
    "         'дата публикации', 'этаж', 'всего этажей в доме', 'апартаменты (булев тип)', 'площадь кухни в квадратных метрах (м2)',\n",
    "         'цена на момент снятия с публикации', 'жилая площадь в квадратных метрах (м2)', 'название населённого пункта',\n",
    "         'свободная планировка (булев тип)', 'число парков в радиусе 3 км', 'расстояние до ближайшего парка (м)',\n",
    "         'число водоёмов в радиусе 3 км', 'расстояние до ближайшего водоёма (м)', 'число комнат',\n",
    "         'квартира-студия (булев тип)', 'общая площадь квартиры в квадратных метрах (м2)',\n",
    "         'число фотографий квартиры в объявлении']\n",
    "opisanie = pd.DataFrame(data=polya, index=ind, columns=['opisanie'])"
   ]
  },
  {
   "cell_type": "code",
   "execution_count": 5,
   "metadata": {
    "scrolled": false
   },
   "outputs": [
    {
     "data": {
      "text/html": [
       "<div>\n",
       "<style scoped>\n",
       "    .dataframe tbody tr th:only-of-type {\n",
       "        vertical-align: middle;\n",
       "    }\n",
       "\n",
       "    .dataframe tbody tr th {\n",
       "        vertical-align: top;\n",
       "    }\n",
       "\n",
       "    .dataframe thead th {\n",
       "        text-align: right;\n",
       "    }\n",
       "</style>\n",
       "<table border=\"1\" class=\"dataframe\">\n",
       "  <thead>\n",
       "    <tr style=\"text-align: right;\">\n",
       "      <th></th>\n",
       "      <th>total_images</th>\n",
       "      <th>last_price</th>\n",
       "      <th>total_area</th>\n",
       "      <th>first_day_exposition</th>\n",
       "      <th>rooms</th>\n",
       "      <th>ceiling_height</th>\n",
       "      <th>floors_total</th>\n",
       "      <th>living_area</th>\n",
       "      <th>floor</th>\n",
       "      <th>is_apartment</th>\n",
       "      <th>...</th>\n",
       "      <th>kitchen_area</th>\n",
       "      <th>balcony</th>\n",
       "      <th>locality_name</th>\n",
       "      <th>airports_nearest</th>\n",
       "      <th>cityCenters_nearest</th>\n",
       "      <th>parks_around3000</th>\n",
       "      <th>parks_nearest</th>\n",
       "      <th>ponds_around3000</th>\n",
       "      <th>ponds_nearest</th>\n",
       "      <th>days_exposition</th>\n",
       "    </tr>\n",
       "  </thead>\n",
       "  <tbody>\n",
       "    <tr>\n",
       "      <th>0</th>\n",
       "      <td>20</td>\n",
       "      <td>13,000,000.00</td>\n",
       "      <td>108.00</td>\n",
       "      <td>2019-03-07T00:00:00</td>\n",
       "      <td>3</td>\n",
       "      <td>2.70</td>\n",
       "      <td>16.00</td>\n",
       "      <td>51.00</td>\n",
       "      <td>8</td>\n",
       "      <td>NaN</td>\n",
       "      <td>...</td>\n",
       "      <td>25.00</td>\n",
       "      <td>NaN</td>\n",
       "      <td>Санкт-Петербург</td>\n",
       "      <td>18,863.00</td>\n",
       "      <td>16,028.00</td>\n",
       "      <td>1.00</td>\n",
       "      <td>482.00</td>\n",
       "      <td>2.00</td>\n",
       "      <td>755.00</td>\n",
       "      <td>NaN</td>\n",
       "    </tr>\n",
       "    <tr>\n",
       "      <th>1</th>\n",
       "      <td>7</td>\n",
       "      <td>3,350,000.00</td>\n",
       "      <td>40.40</td>\n",
       "      <td>2018-12-04T00:00:00</td>\n",
       "      <td>1</td>\n",
       "      <td>NaN</td>\n",
       "      <td>11.00</td>\n",
       "      <td>18.60</td>\n",
       "      <td>1</td>\n",
       "      <td>NaN</td>\n",
       "      <td>...</td>\n",
       "      <td>11.00</td>\n",
       "      <td>2.00</td>\n",
       "      <td>посёлок Шушары</td>\n",
       "      <td>12,817.00</td>\n",
       "      <td>18,603.00</td>\n",
       "      <td>0.00</td>\n",
       "      <td>NaN</td>\n",
       "      <td>0.00</td>\n",
       "      <td>NaN</td>\n",
       "      <td>81.00</td>\n",
       "    </tr>\n",
       "    <tr>\n",
       "      <th>2</th>\n",
       "      <td>10</td>\n",
       "      <td>5,196,000.00</td>\n",
       "      <td>56.00</td>\n",
       "      <td>2015-08-20T00:00:00</td>\n",
       "      <td>2</td>\n",
       "      <td>NaN</td>\n",
       "      <td>5.00</td>\n",
       "      <td>34.30</td>\n",
       "      <td>4</td>\n",
       "      <td>NaN</td>\n",
       "      <td>...</td>\n",
       "      <td>8.30</td>\n",
       "      <td>0.00</td>\n",
       "      <td>Санкт-Петербург</td>\n",
       "      <td>21,741.00</td>\n",
       "      <td>13,933.00</td>\n",
       "      <td>1.00</td>\n",
       "      <td>90.00</td>\n",
       "      <td>2.00</td>\n",
       "      <td>574.00</td>\n",
       "      <td>558.00</td>\n",
       "    </tr>\n",
       "    <tr>\n",
       "      <th>3</th>\n",
       "      <td>0</td>\n",
       "      <td>64,900,000.00</td>\n",
       "      <td>159.00</td>\n",
       "      <td>2015-07-24T00:00:00</td>\n",
       "      <td>3</td>\n",
       "      <td>NaN</td>\n",
       "      <td>14.00</td>\n",
       "      <td>NaN</td>\n",
       "      <td>9</td>\n",
       "      <td>NaN</td>\n",
       "      <td>...</td>\n",
       "      <td>NaN</td>\n",
       "      <td>0.00</td>\n",
       "      <td>Санкт-Петербург</td>\n",
       "      <td>28,098.00</td>\n",
       "      <td>6,800.00</td>\n",
       "      <td>2.00</td>\n",
       "      <td>84.00</td>\n",
       "      <td>3.00</td>\n",
       "      <td>234.00</td>\n",
       "      <td>424.00</td>\n",
       "    </tr>\n",
       "    <tr>\n",
       "      <th>4</th>\n",
       "      <td>2</td>\n",
       "      <td>10,000,000.00</td>\n",
       "      <td>100.00</td>\n",
       "      <td>2018-06-19T00:00:00</td>\n",
       "      <td>2</td>\n",
       "      <td>3.03</td>\n",
       "      <td>14.00</td>\n",
       "      <td>32.00</td>\n",
       "      <td>13</td>\n",
       "      <td>NaN</td>\n",
       "      <td>...</td>\n",
       "      <td>41.00</td>\n",
       "      <td>NaN</td>\n",
       "      <td>Санкт-Петербург</td>\n",
       "      <td>31,856.00</td>\n",
       "      <td>8,098.00</td>\n",
       "      <td>2.00</td>\n",
       "      <td>112.00</td>\n",
       "      <td>1.00</td>\n",
       "      <td>48.00</td>\n",
       "      <td>121.00</td>\n",
       "    </tr>\n",
       "  </tbody>\n",
       "</table>\n",
       "<p>5 rows × 22 columns</p>\n",
       "</div>"
      ],
      "text/plain": [
       "   total_images           last_price           total_area  \\\n",
       "0            20        13,000,000.00               108.00   \n",
       "1             7         3,350,000.00                40.40   \n",
       "2            10         5,196,000.00                56.00   \n",
       "3             0        64,900,000.00               159.00   \n",
       "4             2        10,000,000.00               100.00   \n",
       "\n",
       "  first_day_exposition  rooms       ceiling_height         floors_total  \\\n",
       "0  2019-03-07T00:00:00      3                 2.70                16.00   \n",
       "1  2018-12-04T00:00:00      1                  NaN                11.00   \n",
       "2  2015-08-20T00:00:00      2                  NaN                 5.00   \n",
       "3  2015-07-24T00:00:00      3                  NaN                14.00   \n",
       "4  2018-06-19T00:00:00      2                 3.03                14.00   \n",
       "\n",
       "           living_area  floor is_apartment  ...         kitchen_area  \\\n",
       "0                51.00      8          NaN  ...                25.00   \n",
       "1                18.60      1          NaN  ...                11.00   \n",
       "2                34.30      4          NaN  ...                 8.30   \n",
       "3                  NaN      9          NaN  ...                  NaN   \n",
       "4                32.00     13          NaN  ...                41.00   \n",
       "\n",
       "               balcony    locality_name     airports_nearest  \\\n",
       "0                  NaN  Санкт-Петербург            18,863.00   \n",
       "1                 2.00   посёлок Шушары            12,817.00   \n",
       "2                 0.00  Санкт-Петербург            21,741.00   \n",
       "3                 0.00  Санкт-Петербург            28,098.00   \n",
       "4                  NaN  Санкт-Петербург            31,856.00   \n",
       "\n",
       "   cityCenters_nearest     parks_around3000        parks_nearest  \\\n",
       "0            16,028.00                 1.00               482.00   \n",
       "1            18,603.00                 0.00                  NaN   \n",
       "2            13,933.00                 1.00                90.00   \n",
       "3             6,800.00                 2.00                84.00   \n",
       "4             8,098.00                 2.00               112.00   \n",
       "\n",
       "      ponds_around3000        ponds_nearest      days_exposition  \n",
       "0                 2.00               755.00                  NaN  \n",
       "1                 0.00                  NaN                81.00  \n",
       "2                 2.00               574.00               558.00  \n",
       "3                 3.00               234.00               424.00  \n",
       "4                 1.00                48.00               121.00  \n",
       "\n",
       "[5 rows x 22 columns]"
      ]
     },
     "metadata": {},
     "output_type": "display_data"
    }
   ],
   "source": [
    "display(data.head())"
   ]
  },
  {
   "cell_type": "code",
   "execution_count": 6,
   "metadata": {},
   "outputs": [],
   "source": [
    "# описание полей датасета\n",
    "#print(opisanie.to_string(header=False))"
   ]
  },
  {
   "cell_type": "code",
   "execution_count": 7,
   "metadata": {},
   "outputs": [
    {
     "name": "stdout",
     "output_type": "stream",
     "text": [
      "<class 'pandas.core.frame.DataFrame'>\n",
      "RangeIndex: 23699 entries, 0 to 23698\n",
      "Data columns (total 22 columns):\n",
      " #   Column                Non-Null Count  Dtype  \n",
      "---  ------                --------------  -----  \n",
      " 0   total_images          23699 non-null  int64  \n",
      " 1   last_price            23699 non-null  float64\n",
      " 2   total_area            23699 non-null  float64\n",
      " 3   first_day_exposition  23699 non-null  object \n",
      " 4   rooms                 23699 non-null  int64  \n",
      " 5   ceiling_height        14504 non-null  float64\n",
      " 6   floors_total          23613 non-null  float64\n",
      " 7   living_area           21796 non-null  float64\n",
      " 8   floor                 23699 non-null  int64  \n",
      " 9   is_apartment          2775 non-null   object \n",
      " 10  studio                23699 non-null  bool   \n",
      " 11  open_plan             23699 non-null  bool   \n",
      " 12  kitchen_area          21421 non-null  float64\n",
      " 13  balcony               12180 non-null  float64\n",
      " 14  locality_name         23650 non-null  object \n",
      " 15  airports_nearest      18157 non-null  float64\n",
      " 16  cityCenters_nearest   18180 non-null  float64\n",
      " 17  parks_around3000      18181 non-null  float64\n",
      " 18  parks_nearest         8079 non-null   float64\n",
      " 19  ponds_around3000      18181 non-null  float64\n",
      " 20  ponds_nearest         9110 non-null   float64\n",
      " 21  days_exposition       20518 non-null  float64\n",
      "dtypes: bool(2), float64(14), int64(3), object(3)\n",
      "memory usage: 3.7+ MB\n"
     ]
    },
    {
     "data": {
      "text/html": [
       "<div>\n",
       "<style scoped>\n",
       "    .dataframe tbody tr th:only-of-type {\n",
       "        vertical-align: middle;\n",
       "    }\n",
       "\n",
       "    .dataframe tbody tr th {\n",
       "        vertical-align: top;\n",
       "    }\n",
       "\n",
       "    .dataframe thead th {\n",
       "        text-align: right;\n",
       "    }\n",
       "</style>\n",
       "<table border=\"1\" class=\"dataframe\">\n",
       "  <thead>\n",
       "    <tr style=\"text-align: right;\">\n",
       "      <th></th>\n",
       "      <th>total_images</th>\n",
       "      <th>last_price</th>\n",
       "      <th>total_area</th>\n",
       "      <th>rooms</th>\n",
       "      <th>ceiling_height</th>\n",
       "      <th>floors_total</th>\n",
       "      <th>living_area</th>\n",
       "      <th>floor</th>\n",
       "      <th>kitchen_area</th>\n",
       "      <th>balcony</th>\n",
       "      <th>airports_nearest</th>\n",
       "      <th>cityCenters_nearest</th>\n",
       "      <th>parks_around3000</th>\n",
       "      <th>parks_nearest</th>\n",
       "      <th>ponds_around3000</th>\n",
       "      <th>ponds_nearest</th>\n",
       "      <th>days_exposition</th>\n",
       "    </tr>\n",
       "  </thead>\n",
       "  <tbody>\n",
       "    <tr>\n",
       "      <th>count</th>\n",
       "      <td>23,699.00</td>\n",
       "      <td>23,699.00</td>\n",
       "      <td>23,699.00</td>\n",
       "      <td>23,699.00</td>\n",
       "      <td>14,504.00</td>\n",
       "      <td>23,613.00</td>\n",
       "      <td>21,796.00</td>\n",
       "      <td>23,699.00</td>\n",
       "      <td>21,421.00</td>\n",
       "      <td>12,180.00</td>\n",
       "      <td>18,157.00</td>\n",
       "      <td>18,180.00</td>\n",
       "      <td>18,181.00</td>\n",
       "      <td>8,079.00</td>\n",
       "      <td>18,181.00</td>\n",
       "      <td>9,110.00</td>\n",
       "      <td>20,518.00</td>\n",
       "    </tr>\n",
       "    <tr>\n",
       "      <th>mean</th>\n",
       "      <td>9.86</td>\n",
       "      <td>6,541,548.77</td>\n",
       "      <td>60.35</td>\n",
       "      <td>2.07</td>\n",
       "      <td>2.77</td>\n",
       "      <td>10.67</td>\n",
       "      <td>34.46</td>\n",
       "      <td>5.89</td>\n",
       "      <td>10.57</td>\n",
       "      <td>1.15</td>\n",
       "      <td>28,793.67</td>\n",
       "      <td>14,191.28</td>\n",
       "      <td>0.61</td>\n",
       "      <td>490.80</td>\n",
       "      <td>0.77</td>\n",
       "      <td>517.98</td>\n",
       "      <td>180.89</td>\n",
       "    </tr>\n",
       "    <tr>\n",
       "      <th>std</th>\n",
       "      <td>5.68</td>\n",
       "      <td>10,887,013.27</td>\n",
       "      <td>35.65</td>\n",
       "      <td>1.08</td>\n",
       "      <td>1.26</td>\n",
       "      <td>6.60</td>\n",
       "      <td>22.03</td>\n",
       "      <td>4.89</td>\n",
       "      <td>5.91</td>\n",
       "      <td>1.07</td>\n",
       "      <td>12,630.88</td>\n",
       "      <td>8,608.39</td>\n",
       "      <td>0.80</td>\n",
       "      <td>342.32</td>\n",
       "      <td>0.94</td>\n",
       "      <td>277.72</td>\n",
       "      <td>219.73</td>\n",
       "    </tr>\n",
       "    <tr>\n",
       "      <th>min</th>\n",
       "      <td>0.00</td>\n",
       "      <td>12,190.00</td>\n",
       "      <td>12.00</td>\n",
       "      <td>0.00</td>\n",
       "      <td>1.00</td>\n",
       "      <td>1.00</td>\n",
       "      <td>2.00</td>\n",
       "      <td>1.00</td>\n",
       "      <td>1.30</td>\n",
       "      <td>0.00</td>\n",
       "      <td>0.00</td>\n",
       "      <td>181.00</td>\n",
       "      <td>0.00</td>\n",
       "      <td>1.00</td>\n",
       "      <td>0.00</td>\n",
       "      <td>13.00</td>\n",
       "      <td>1.00</td>\n",
       "    </tr>\n",
       "    <tr>\n",
       "      <th>25%</th>\n",
       "      <td>6.00</td>\n",
       "      <td>3,400,000.00</td>\n",
       "      <td>40.00</td>\n",
       "      <td>1.00</td>\n",
       "      <td>2.52</td>\n",
       "      <td>5.00</td>\n",
       "      <td>18.60</td>\n",
       "      <td>2.00</td>\n",
       "      <td>7.00</td>\n",
       "      <td>0.00</td>\n",
       "      <td>18,585.00</td>\n",
       "      <td>9,238.00</td>\n",
       "      <td>0.00</td>\n",
       "      <td>288.00</td>\n",
       "      <td>0.00</td>\n",
       "      <td>294.00</td>\n",
       "      <td>45.00</td>\n",
       "    </tr>\n",
       "    <tr>\n",
       "      <th>50%</th>\n",
       "      <td>9.00</td>\n",
       "      <td>4,650,000.00</td>\n",
       "      <td>52.00</td>\n",
       "      <td>2.00</td>\n",
       "      <td>2.65</td>\n",
       "      <td>9.00</td>\n",
       "      <td>30.00</td>\n",
       "      <td>4.00</td>\n",
       "      <td>9.10</td>\n",
       "      <td>1.00</td>\n",
       "      <td>26,726.00</td>\n",
       "      <td>13,098.50</td>\n",
       "      <td>0.00</td>\n",
       "      <td>455.00</td>\n",
       "      <td>1.00</td>\n",
       "      <td>502.00</td>\n",
       "      <td>95.00</td>\n",
       "    </tr>\n",
       "    <tr>\n",
       "      <th>75%</th>\n",
       "      <td>14.00</td>\n",
       "      <td>6,800,000.00</td>\n",
       "      <td>69.90</td>\n",
       "      <td>3.00</td>\n",
       "      <td>2.80</td>\n",
       "      <td>16.00</td>\n",
       "      <td>42.30</td>\n",
       "      <td>8.00</td>\n",
       "      <td>12.00</td>\n",
       "      <td>2.00</td>\n",
       "      <td>37,273.00</td>\n",
       "      <td>16,293.00</td>\n",
       "      <td>1.00</td>\n",
       "      <td>612.00</td>\n",
       "      <td>1.00</td>\n",
       "      <td>729.00</td>\n",
       "      <td>232.00</td>\n",
       "    </tr>\n",
       "    <tr>\n",
       "      <th>max</th>\n",
       "      <td>50.00</td>\n",
       "      <td>763,000,000.00</td>\n",
       "      <td>900.00</td>\n",
       "      <td>19.00</td>\n",
       "      <td>100.00</td>\n",
       "      <td>60.00</td>\n",
       "      <td>409.70</td>\n",
       "      <td>33.00</td>\n",
       "      <td>112.00</td>\n",
       "      <td>5.00</td>\n",
       "      <td>84,869.00</td>\n",
       "      <td>65,968.00</td>\n",
       "      <td>3.00</td>\n",
       "      <td>3,190.00</td>\n",
       "      <td>3.00</td>\n",
       "      <td>1,344.00</td>\n",
       "      <td>1,580.00</td>\n",
       "    </tr>\n",
       "  </tbody>\n",
       "</table>\n",
       "</div>"
      ],
      "text/plain": [
       "              total_images           last_price           total_area  \\\n",
       "count            23,699.00            23,699.00            23,699.00   \n",
       "mean                  9.86         6,541,548.77                60.35   \n",
       "std                   5.68        10,887,013.27                35.65   \n",
       "min                   0.00            12,190.00                12.00   \n",
       "25%                   6.00         3,400,000.00                40.00   \n",
       "50%                   9.00         4,650,000.00                52.00   \n",
       "75%                  14.00         6,800,000.00                69.90   \n",
       "max                  50.00       763,000,000.00               900.00   \n",
       "\n",
       "                     rooms       ceiling_height         floors_total  \\\n",
       "count            23,699.00            14,504.00            23,613.00   \n",
       "mean                  2.07                 2.77                10.67   \n",
       "std                   1.08                 1.26                 6.60   \n",
       "min                   0.00                 1.00                 1.00   \n",
       "25%                   1.00                 2.52                 5.00   \n",
       "50%                   2.00                 2.65                 9.00   \n",
       "75%                   3.00                 2.80                16.00   \n",
       "max                  19.00               100.00                60.00   \n",
       "\n",
       "               living_area                floor         kitchen_area  \\\n",
       "count            21,796.00            23,699.00            21,421.00   \n",
       "mean                 34.46                 5.89                10.57   \n",
       "std                  22.03                 4.89                 5.91   \n",
       "min                   2.00                 1.00                 1.30   \n",
       "25%                  18.60                 2.00                 7.00   \n",
       "50%                  30.00                 4.00                 9.10   \n",
       "75%                  42.30                 8.00                12.00   \n",
       "max                 409.70                33.00               112.00   \n",
       "\n",
       "                   balcony     airports_nearest  cityCenters_nearest  \\\n",
       "count            12,180.00            18,157.00            18,180.00   \n",
       "mean                  1.15            28,793.67            14,191.28   \n",
       "std                   1.07            12,630.88             8,608.39   \n",
       "min                   0.00                 0.00               181.00   \n",
       "25%                   0.00            18,585.00             9,238.00   \n",
       "50%                   1.00            26,726.00            13,098.50   \n",
       "75%                   2.00            37,273.00            16,293.00   \n",
       "max                   5.00            84,869.00            65,968.00   \n",
       "\n",
       "          parks_around3000        parks_nearest     ponds_around3000  \\\n",
       "count            18,181.00             8,079.00            18,181.00   \n",
       "mean                  0.61               490.80                 0.77   \n",
       "std                   0.80               342.32                 0.94   \n",
       "min                   0.00                 1.00                 0.00   \n",
       "25%                   0.00               288.00                 0.00   \n",
       "50%                   0.00               455.00                 1.00   \n",
       "75%                   1.00               612.00                 1.00   \n",
       "max                   3.00             3,190.00                 3.00   \n",
       "\n",
       "             ponds_nearest      days_exposition  \n",
       "count             9,110.00            20,518.00  \n",
       "mean                517.98               180.89  \n",
       "std                 277.72               219.73  \n",
       "min                  13.00                 1.00  \n",
       "25%                 294.00                45.00  \n",
       "50%                 502.00                95.00  \n",
       "75%                 729.00               232.00  \n",
       "max               1,344.00             1,580.00  "
      ]
     },
     "metadata": {},
     "output_type": "display_data"
    }
   ],
   "source": [
    "data.info()\n",
    "display(data.describe())"
   ]
  },
  {
   "cell_type": "code",
   "execution_count": 8,
   "metadata": {},
   "outputs": [
    {
     "data": {
      "image/png": "[encoded data removed]",
      "text/plain": [
       "<Figure size 1080x1440 with 20 Axes>"
      ]
     },
     "metadata": {
      "needs_background": "light"
     },
     "output_type": "display_data"
    }
   ],
   "source": [
    "data.hist(figsize=(15, 20))\n",
    "plt.show()"
   ]
  },
  {
   "cell_type": "markdown",
   "metadata": {},
   "source": [
    "### 1.1. <a id='toc1_1_'></a>[Вывод по разделу 1](#toc0_)\n",
    "Данные успешно загружены. Объем выборки составляет более 23 тысяч строк, этого достаточно для объективного исследования. Есть пропуски в данных, некорректные значения. Требуется дополнительный анализ с последующим дозаполнением, корректировкой и/или удалением некорректных данных."
   ]
  },
  {
   "cell_type": "markdown",
   "metadata": {},
   "source": [
    "## 2. <a id='toc2_'></a>[Предобработка данных](#toc0_)\n",
    "\n",
    "### 2.1. <a id='toc2_1_'></a>[Изучение и заполнение пропусков, корректировка аномальных значений](#toc0_)\n"
   ]
  },
  {
   "cell_type": "code",
   "execution_count": 9,
   "metadata": {},
   "outputs": [
    {
     "data": {
      "text/html": [
       "<div>\n",
       "<style scoped>\n",
       "    .dataframe tbody tr th:only-of-type {\n",
       "        vertical-align: middle;\n",
       "    }\n",
       "\n",
       "    .dataframe tbody tr th {\n",
       "        vertical-align: top;\n",
       "    }\n",
       "\n",
       "    .dataframe thead th {\n",
       "        text-align: right;\n",
       "    }\n",
       "</style>\n",
       "<table border=\"1\" class=\"dataframe\">\n",
       "  <thead>\n",
       "    <tr style=\"text-align: right;\">\n",
       "      <th></th>\n",
       "      <th>propuscheno</th>\n",
       "      <th>opisanie</th>\n",
       "    </tr>\n",
       "  </thead>\n",
       "  <tbody>\n",
       "    <tr>\n",
       "      <th>is_apartment</th>\n",
       "      <td>20924</td>\n",
       "      <td>апартаменты (булев тип)</td>\n",
       "    </tr>\n",
       "    <tr>\n",
       "      <th>parks_nearest</th>\n",
       "      <td>15620</td>\n",
       "      <td>расстояние до ближайшего парка (м)</td>\n",
       "    </tr>\n",
       "    <tr>\n",
       "      <th>ponds_nearest</th>\n",
       "      <td>14589</td>\n",
       "      <td>расстояние до ближайшего водоёма (м)</td>\n",
       "    </tr>\n",
       "    <tr>\n",
       "      <th>balcony</th>\n",
       "      <td>11519</td>\n",
       "      <td>число балконов</td>\n",
       "    </tr>\n",
       "    <tr>\n",
       "      <th>ceiling_height</th>\n",
       "      <td>9195</td>\n",
       "      <td>высота потолков (м)</td>\n",
       "    </tr>\n",
       "    <tr>\n",
       "      <th>airports_nearest</th>\n",
       "      <td>5542</td>\n",
       "      <td>расстояние до ближайшего аэропорта в метрах (м)</td>\n",
       "    </tr>\n",
       "    <tr>\n",
       "      <th>cityCenters_nearest</th>\n",
       "      <td>5519</td>\n",
       "      <td>расстояние до центра города (м)</td>\n",
       "    </tr>\n",
       "    <tr>\n",
       "      <th>ponds_around3000</th>\n",
       "      <td>5518</td>\n",
       "      <td>число водоёмов в радиусе 3 км</td>\n",
       "    </tr>\n",
       "    <tr>\n",
       "      <th>parks_around3000</th>\n",
       "      <td>5518</td>\n",
       "      <td>число парков в радиусе 3 км</td>\n",
       "    </tr>\n",
       "    <tr>\n",
       "      <th>days_exposition</th>\n",
       "      <td>3181</td>\n",
       "      <td>сколько дней было размещено объявление (от пуб...</td>\n",
       "    </tr>\n",
       "    <tr>\n",
       "      <th>kitchen_area</th>\n",
       "      <td>2278</td>\n",
       "      <td>площадь кухни в квадратных метрах (м2)</td>\n",
       "    </tr>\n",
       "    <tr>\n",
       "      <th>living_area</th>\n",
       "      <td>1903</td>\n",
       "      <td>жилая площадь в квадратных метрах (м2)</td>\n",
       "    </tr>\n",
       "    <tr>\n",
       "      <th>floors_total</th>\n",
       "      <td>86</td>\n",
       "      <td>всего этажей в доме</td>\n",
       "    </tr>\n",
       "    <tr>\n",
       "      <th>locality_name</th>\n",
       "      <td>49</td>\n",
       "      <td>название населённого пункта</td>\n",
       "    </tr>\n",
       "  </tbody>\n",
       "</table>\n",
       "</div>"
      ],
      "text/plain": [
       "                     propuscheno  \\\n",
       "is_apartment               20924   \n",
       "parks_nearest              15620   \n",
       "ponds_nearest              14589   \n",
       "balcony                    11519   \n",
       "ceiling_height              9195   \n",
       "airports_nearest            5542   \n",
       "cityCenters_nearest         5519   \n",
       "ponds_around3000            5518   \n",
       "parks_around3000            5518   \n",
       "days_exposition             3181   \n",
       "kitchen_area                2278   \n",
       "living_area                 1903   \n",
       "floors_total                  86   \n",
       "locality_name                 49   \n",
       "\n",
       "                                                              opisanie  \n",
       "is_apartment                                   апартаменты (булев тип)  \n",
       "parks_nearest                       расстояние до ближайшего парка (м)  \n",
       "ponds_nearest                     расстояние до ближайшего водоёма (м)  \n",
       "balcony                                                 число балконов  \n",
       "ceiling_height                                     высота потолков (м)  \n",
       "airports_nearest       расстояние до ближайшего аэропорта в метрах (м)  \n",
       "cityCenters_nearest                    расстояние до центра города (м)  \n",
       "ponds_around3000                         число водоёмов в радиусе 3 км  \n",
       "parks_around3000                           число парков в радиусе 3 км  \n",
       "days_exposition      сколько дней было размещено объявление (от пуб...  \n",
       "kitchen_area                    площадь кухни в квадратных метрах (м2)  \n",
       "living_area                     жилая площадь в квадратных метрах (м2)  \n",
       "floors_total                                       всего этажей в доме  \n",
       "locality_name                              название населённого пункта  "
      ]
     },
     "metadata": {},
     "output_type": "display_data"
    },
    {
     "data": {
      "text/html": [
       "<style  type=\"text/css\" >\n",
       "#T_18258_row0_col0,#T_18258_row1_col0,#T_18258_row2_col0,#T_18258_row3_col0,#T_18258_row4_col0,#T_18258_row6_col0,#T_18258_row8_col0,#T_18258_row10_col0,#T_18258_row11_col0,#T_18258_row14_col0{\n",
       "            background-color:  #3b4cc0;\n",
       "            color:  #f1f1f1;\n",
       "        }#T_18258_row5_col0{\n",
       "            background-color:  #cdd9ec;\n",
       "            color:  #000000;\n",
       "        }#T_18258_row7_col0{\n",
       "            background-color:  #5673e0;\n",
       "            color:  #000000;\n",
       "        }#T_18258_row9_col0{\n",
       "            background-color:  #b40426;\n",
       "            color:  #f1f1f1;\n",
       "        }#T_18258_row12_col0{\n",
       "            background-color:  #5e7de7;\n",
       "            color:  #000000;\n",
       "        }#T_18258_row13_col0{\n",
       "            background-color:  #ead4c8;\n",
       "            color:  #000000;\n",
       "        }#T_18258_row15_col0,#T_18258_row16_col0,#T_18258_row17_col0,#T_18258_row19_col0{\n",
       "            background-color:  #90b2fe;\n",
       "            color:  #000000;\n",
       "        }#T_18258_row18_col0{\n",
       "            background-color:  #f4987a;\n",
       "            color:  #000000;\n",
       "        }#T_18258_row20_col0{\n",
       "            background-color:  #f7aa8c;\n",
       "            color:  #000000;\n",
       "        }#T_18258_row21_col0{\n",
       "            background-color:  #688aef;\n",
       "            color:  #000000;\n",
       "        }</style><table id=\"T_18258_\" ><thead>    <tr>        <th class=\"blank level0\" ></th>        <th class=\"col_heading level0 col0\" >0</th>    </tr></thead><tbody>\n",
       "                <tr>\n",
       "                        <th id=\"T_18258_level0_row0\" class=\"row_heading level0 row0\" >total_images</th>\n",
       "                        <td id=\"T_18258_row0_col0\" class=\"data row0 col0\" >0.000000</td>\n",
       "            </tr>\n",
       "            <tr>\n",
       "                        <th id=\"T_18258_level0_row1\" class=\"row_heading level0 row1\" >last_price</th>\n",
       "                        <td id=\"T_18258_row1_col0\" class=\"data row1 col0\" >0.000000</td>\n",
       "            </tr>\n",
       "            <tr>\n",
       "                        <th id=\"T_18258_level0_row2\" class=\"row_heading level0 row2\" >total_area</th>\n",
       "                        <td id=\"T_18258_row2_col0\" class=\"data row2 col0\" >0.000000</td>\n",
       "            </tr>\n",
       "            <tr>\n",
       "                        <th id=\"T_18258_level0_row3\" class=\"row_heading level0 row3\" >first_day_exposition</th>\n",
       "                        <td id=\"T_18258_row3_col0\" class=\"data row3 col0\" >0.000000</td>\n",
       "            </tr>\n",
       "            <tr>\n",
       "                        <th id=\"T_18258_level0_row4\" class=\"row_heading level0 row4\" >rooms</th>\n",
       "                        <td id=\"T_18258_row4_col0\" class=\"data row4 col0\" >0.000000</td>\n",
       "            </tr>\n",
       "            <tr>\n",
       "                        <th id=\"T_18258_level0_row5\" class=\"row_heading level0 row5\" >ceiling_height</th>\n",
       "                        <td id=\"T_18258_row5_col0\" class=\"data row5 col0\" >39.000000</td>\n",
       "            </tr>\n",
       "            <tr>\n",
       "                        <th id=\"T_18258_level0_row6\" class=\"row_heading level0 row6\" >floors_total</th>\n",
       "                        <td id=\"T_18258_row6_col0\" class=\"data row6 col0\" >0.000000</td>\n",
       "            </tr>\n",
       "            <tr>\n",
       "                        <th id=\"T_18258_level0_row7\" class=\"row_heading level0 row7\" >living_area</th>\n",
       "                        <td id=\"T_18258_row7_col0\" class=\"data row7 col0\" >8.000000</td>\n",
       "            </tr>\n",
       "            <tr>\n",
       "                        <th id=\"T_18258_level0_row8\" class=\"row_heading level0 row8\" >floor</th>\n",
       "                        <td id=\"T_18258_row8_col0\" class=\"data row8 col0\" >0.000000</td>\n",
       "            </tr>\n",
       "            <tr>\n",
       "                        <th id=\"T_18258_level0_row9\" class=\"row_heading level0 row9\" >is_apartment</th>\n",
       "                        <td id=\"T_18258_row9_col0\" class=\"data row9 col0\" >88.000000</td>\n",
       "            </tr>\n",
       "            <tr>\n",
       "                        <th id=\"T_18258_level0_row10\" class=\"row_heading level0 row10\" >studio</th>\n",
       "                        <td id=\"T_18258_row10_col0\" class=\"data row10 col0\" >0.000000</td>\n",
       "            </tr>\n",
       "            <tr>\n",
       "                        <th id=\"T_18258_level0_row11\" class=\"row_heading level0 row11\" >open_plan</th>\n",
       "                        <td id=\"T_18258_row11_col0\" class=\"data row11 col0\" >0.000000</td>\n",
       "            </tr>\n",
       "            <tr>\n",
       "                        <th id=\"T_18258_level0_row12\" class=\"row_heading level0 row12\" >kitchen_area</th>\n",
       "                        <td id=\"T_18258_row12_col0\" class=\"data row12 col0\" >10.000000</td>\n",
       "            </tr>\n",
       "            <tr>\n",
       "                        <th id=\"T_18258_level0_row13\" class=\"row_heading level0 row13\" >balcony</th>\n",
       "                        <td id=\"T_18258_row13_col0\" class=\"data row13 col0\" >49.000000</td>\n",
       "            </tr>\n",
       "            <tr>\n",
       "                        <th id=\"T_18258_level0_row14\" class=\"row_heading level0 row14\" >locality_name</th>\n",
       "                        <td id=\"T_18258_row14_col0\" class=\"data row14 col0\" >0.000000</td>\n",
       "            </tr>\n",
       "            <tr>\n",
       "                        <th id=\"T_18258_level0_row15\" class=\"row_heading level0 row15\" >airports_nearest</th>\n",
       "                        <td id=\"T_18258_row15_col0\" class=\"data row15 col0\" >23.000000</td>\n",
       "            </tr>\n",
       "            <tr>\n",
       "                        <th id=\"T_18258_level0_row16\" class=\"row_heading level0 row16\" >cityCenters_nearest</th>\n",
       "                        <td id=\"T_18258_row16_col0\" class=\"data row16 col0\" >23.000000</td>\n",
       "            </tr>\n",
       "            <tr>\n",
       "                        <th id=\"T_18258_level0_row17\" class=\"row_heading level0 row17\" >parks_around3000</th>\n",
       "                        <td id=\"T_18258_row17_col0\" class=\"data row17 col0\" >23.000000</td>\n",
       "            </tr>\n",
       "            <tr>\n",
       "                        <th id=\"T_18258_level0_row18\" class=\"row_heading level0 row18\" >parks_nearest</th>\n",
       "                        <td id=\"T_18258_row18_col0\" class=\"data row18 col0\" >66.000000</td>\n",
       "            </tr>\n",
       "            <tr>\n",
       "                        <th id=\"T_18258_level0_row19\" class=\"row_heading level0 row19\" >ponds_around3000</th>\n",
       "                        <td id=\"T_18258_row19_col0\" class=\"data row19 col0\" >23.000000</td>\n",
       "            </tr>\n",
       "            <tr>\n",
       "                        <th id=\"T_18258_level0_row20\" class=\"row_heading level0 row20\" >ponds_nearest</th>\n",
       "                        <td id=\"T_18258_row20_col0\" class=\"data row20 col0\" >62.000000</td>\n",
       "            </tr>\n",
       "            <tr>\n",
       "                        <th id=\"T_18258_level0_row21\" class=\"row_heading level0 row21\" >days_exposition</th>\n",
       "                        <td id=\"T_18258_row21_col0\" class=\"data row21 col0\" >13.000000</td>\n",
       "            </tr>\n",
       "    </tbody></table>"
      ],
      "text/plain": [
       "<pandas.io.formats.style.Styler at 0x7f9d7c6a6760>"
      ]
     },
     "execution_count": 9,
     "metadata": {},
     "output_type": "execute_result"
    }
   ],
   "source": [
    "# выведем столбцы с пропусками\n",
    "display(data.isna().sum().sort_values(ascending=False).to_frame(name='propuscheno').query('propuscheno > 0').join(opisanie))\n",
    "pd.DataFrame(round(data.isna().mean()*100,)).style.background_gradient('coolwarm')"
   ]
  },
  {
   "cell_type": "code",
   "execution_count": 10,
   "metadata": {},
   "outputs": [
    {
     "name": "stdout",
     "output_type": "stream",
     "text": [
      "False    2725\n",
      "True       50\n",
      "Name: is_apartment, dtype: int64\n"
     ]
    }
   ],
   "source": [
    "# исследуем признак аппартаментов\n",
    "print(data['is_apartment'].value_counts())"
   ]
  },
  {
   "cell_type": "markdown",
   "metadata": {},
   "source": [
    "В столбце `is_apartment` (аппартаменты) наибольшее количество незаполненных строк. В заполненных в подавляющем большинстве случаев указано \"нет\", в редких случаях \"да\". Предположительно, заполняющие поле клиенты, или не считали важным заполнение данного поля, или не понимали в каком случае его необходимо заполнять, т.к. формально любая квартира (кроме отдельных комнат) является аппартаментами. Для нашего исследования данное поле не актуально, оставим пропуски незаполненными."
   ]
  },
  {
   "cell_type": "code",
   "execution_count": 11,
   "metadata": {},
   "outputs": [
    {
     "name": "stdout",
     "output_type": "stream",
     "text": [
      "    1.00    1\n",
      "    3.00    1\n",
      "    4.00    1\n",
      "    7.00    1\n",
      "    9.00    2\n",
      "           ..\n",
      "2,905.00    1\n",
      "2,984.00    1\n",
      "3,013.00    1\n",
      "3,064.00    1\n",
      "3,190.00    2\n",
      "Name: parks_nearest, Length: 995, dtype: int64 \n",
      "-----------------------------------------\n",
      "   13.00    2\n",
      "   16.00    8\n",
      "   19.00    4\n",
      "   20.00    5\n",
      "   22.00    7\n",
      "           ..\n",
      "1,299.00    1\n",
      "1,313.00    1\n",
      "1,337.00    1\n",
      "1,341.00    2\n",
      "1,344.00    1\n",
      "Name: ponds_nearest, Length: 1096, dtype: int64 \n",
      "----------------------------------------\n",
      "     0.00    1\n",
      " 6,450.00    2\n",
      " 6,914.00    1\n",
      " 6,949.00    1\n",
      " 6,989.00    6\n",
      "            ..\n",
      "83,758.00    1\n",
      "84,006.00    1\n",
      "84,665.00    1\n",
      "84,853.00    1\n",
      "84,869.00    1\n",
      "Name: airports_nearest, Length: 8275, dtype: int64 \n",
      "----------------------------------------\n",
      "   181.00    1\n",
      "   208.00    1\n",
      "   215.00    1\n",
      "   287.00    1\n",
      "   291.00    1\n",
      "            ..\n",
      "64,857.00    1\n",
      "65,105.00    1\n",
      "65,764.00    1\n",
      "65,952.00    1\n",
      "65,968.00    1\n",
      "Name: cityCenters_nearest, Length: 7642, dtype: int64 \n",
      "----------------------------------------\n",
      "Убрали нулевые значения в расстояниях до аэропорта:\n",
      " 6,450.00    2\n",
      " 6,914.00    1\n",
      " 6,949.00    1\n",
      " 6,989.00    6\n",
      " 6,992.00    1\n",
      "            ..\n",
      "83,758.00    1\n",
      "84,006.00    1\n",
      "84,665.00    1\n",
      "84,853.00    1\n",
      "84,869.00    1\n",
      "Name: airports_nearest, Length: 8274, dtype: int64\n"
     ]
    }
   ],
   "source": [
    "# исследуем четыре столбца с расстояниями\n",
    "print(data['parks_nearest'].value_counts().sort_index(), '\\n-----------------------------------------')\n",
    "print(data['ponds_nearest'].value_counts().sort_index(), '\\n----------------------------------------')\n",
    "print(data['airports_nearest'].value_counts().sort_index(), '\\n----------------------------------------')\n",
    "print(data['cityCenters_nearest'].value_counts().sort_index(), '\\n----------------------------------------')\n",
    "print('Убрали нулевые значения в расстояниях до аэропорта:')\n",
    "data['airports_nearest'].replace(to_replace=0, value=np.NaN, inplace=True)\n",
    "print(data['airports_nearest'].value_counts().sort_index())"
   ]
  },
  {
   "cell_type": "markdown",
   "metadata": {},
   "source": [
    "В четырех столбцах, показывающих расстояние до объектов (парки, водоемы, аэропорт, центр), есть пропуски. Данные столбцы заполнялись автоматически на основе картографических данных. Перепроверить и/или дозаполнить эти данные возможности нет. При сортировке значений от меньшего к большему, недоверия они не вызывают. Указанные расстояния, с учетом того, что в выборке есть квартиры не только в Санкт-Петербурге, но и в Ленинградской области, видятся актуальными. В значениях расстояния до аэропорта есть нулевое значение, удалим его как ошибочное."
   ]
  },
  {
   "cell_type": "code",
   "execution_count": 12,
   "metadata": {},
   "outputs": [
    {
     "name": "stdout",
     "output_type": "stream",
     "text": [
      "[nan, 0.0, 1.0, 2.0, 3.0, 4.0, 5.0] \n",
      "\n",
      "0.00    3758\n",
      "1.00    4195\n",
      "2.00    3659\n",
      "3.00      81\n",
      "4.00     183\n",
      "5.00     304\n",
      "Name: balcony, dtype: int64 \n",
      "-----------------------------------------\n",
      "После замены пропусков на нули:\n",
      "\n",
      "[0.0, 1.0, 2.0, 3.0, 4.0, 5.0] \n",
      "\n",
      "0.00    15277\n",
      "1.00     4195\n",
      "2.00     3659\n",
      "3.00       81\n",
      "4.00      183\n",
      "5.00      304\n",
      "Name: balcony, dtype: int64 \n",
      "-----------------------------------------\n"
     ]
    }
   ],
   "source": [
    "# исследуем информацию о балконах\n",
    "print(sorted(data['balcony'].unique()), '\\n')\n",
    "print(data['balcony'].value_counts().sort_index(), '\\n-----------------------------------------')\n",
    "data['balcony'] = data['balcony'].fillna(0)\n",
    "print('После замены пропусков на нули:\\n')\n",
    "print(sorted(data['balcony'].unique()), '\\n')\n",
    "print(data['balcony'].value_counts().sort_index(), '\\n-----------------------------------------')"
   ]
  },
  {
   "cell_type": "markdown",
   "metadata": {},
   "source": [
    "Пропуски значений в столбце с количеством балконов, предположительно вызваны тем, что клиенты не заполняли это поле в случае отсутствия в их квартире балкона, поэтому заполнили пропуски нулями."
   ]
  },
  {
   "cell_type": "code",
   "execution_count": 13,
   "metadata": {
    "scrolled": false
   },
   "outputs": [
    {
     "name": "stdout",
     "output_type": "stream",
     "text": [
      "[1.0, 2.0, 2.3, 2.4, 2.45, 2.46, 2.48, 2.53, 2.59, 2.62, 2.63, 2.7, nan, 1.2, 1.75, 2.2, 2.25, 2.34, 2.47, 2.49, 2.5, 2.51, 2.52, 2.54, 2.55, 2.56, 2.57, 2.58, 2.6, 2.61, 2.64, 2.65, 2.66, 2.67, 2.68, 2.69, 2.71, 2.72, 2.73, 2.74, 2.75, 2.76, 2.77, 2.78, 2.79, 2.8, 2.81, 2.82, 2.83, 2.84, 2.85, 2.86, 2.87, 2.88, 2.89, 2.9, 2.91, 2.92, 2.93, 2.94, 2.95, 2.96, 2.97, 2.98, 2.99, 3.0, 3.01, 3.02, 3.03, 3.04, 3.05, 3.06, 3.07, 3.08, 3.09, 3.1, 3.11, 3.12, 3.13, 3.14, 3.15, 3.16, 3.17, 3.18, 3.2, 3.21, 3.22, 3.23, 3.24, 3.25, 3.26, 3.27, 3.28, 3.29, 3.3, 3.31, 3.32, 3.33, 3.34, 3.35, 3.36, 3.37, 3.38, 3.39, 3.4, 3.42, 3.43, 3.44, 3.45, 3.46, 3.47, 3.48, 3.49, 3.5, 3.51, 3.52, 3.53, 3.54, 3.55, 3.56, 3.57, 3.58, 3.59, 3.6, 3.62, 3.63, 3.65, 3.66, 3.67, 3.68, 3.69, 3.7, 3.75, 3.76, 3.78, 3.8, 3.82, 3.83, 3.84, 3.85, 3.86, 3.87, 3.88, 3.9, 3.93, 3.95, 3.98, 4.0, 4.06, 4.1, 4.14, 4.15, 4.19, 4.2, 4.25, 4.3, 4.37, 4.4, 4.45, 4.5, 4.65, 4.7, 4.8, 4.9, 5.0, 5.2, 5.3, 5.5, 5.6, 5.8, 6.0, 8.0, 8.3, 10.3, 14.0, 20.0, 22.6, 24.0, 25.0, 26.0, 27.0, 27.5, 32.0, 100.0] \n",
      "\n",
      "  1.00     1\n",
      "  1.20     1\n",
      "  1.75     1\n",
      "  2.00    11\n",
      "  2.20     1\n",
      "          ..\n",
      " 26.00     1\n",
      " 27.00     8\n",
      " 27.50     1\n",
      " 32.00     2\n",
      "100.00     1\n",
      "Name: ceiling_height, Length: 183, dtype: int64 \n",
      "-----------------------------------------\n",
      "Аномальные значения потолков ниже 2 метров и выше 6 метров:\n",
      "\n",
      "  1.00    1\n",
      "  1.20    1\n",
      "  1.75    1\n",
      "  8.00    3\n",
      "  8.30    1\n",
      " 10.30    1\n",
      " 14.00    1\n",
      " 20.00    1\n",
      " 22.60    1\n",
      " 24.00    1\n",
      " 25.00    7\n",
      " 26.00    1\n",
      " 27.00    8\n",
      " 27.50    1\n",
      " 32.00    2\n",
      "100.00    1\n",
      "Name: ceiling_height, dtype: int64 \n",
      "-----------------------------------------\n",
      "После корректировки аномальных значений:\n",
      "\n",
      "[2.0, 2.2, 2.7, nan, 2.25, 2.2600000000000002, 2.3, 2.34, 2.4, 2.45, 2.46, 2.47, 2.48, 2.49, 2.5, 2.51, 2.52, 2.53, 2.54, 2.55, 2.56, 2.57, 2.58, 2.59, 2.6, 2.61, 2.62, 2.63, 2.64, 2.65, 2.66, 2.67, 2.68, 2.69, 2.71, 2.72, 2.73, 2.74, 2.75, 2.76, 2.77, 2.78, 2.79, 2.8, 2.81, 2.82, 2.83, 2.84, 2.85, 2.86, 2.87, 2.88, 2.89, 2.9, 2.91, 2.92, 2.93, 2.94, 2.95, 2.96, 2.97, 2.98, 2.99, 3.0, 3.01, 3.02, 3.03, 3.04, 3.05, 3.06, 3.07, 3.08, 3.09, 3.1, 3.11, 3.12, 3.13, 3.14, 3.15, 3.16, 3.17, 3.18, 3.2, 3.21, 3.22, 3.23, 3.24, 3.25, 3.26, 3.27, 3.28, 3.29, 3.3, 3.31, 3.32, 3.33, 3.34, 3.35, 3.36, 3.37, 3.38, 3.39, 3.4, 3.42, 3.43, 3.44, 3.45, 3.46, 3.47, 3.48, 3.49, 3.5, 3.51, 3.52, 3.53, 3.54, 3.55, 3.56, 3.57, 3.58, 3.59, 3.6, 3.62, 3.63, 3.65, 3.66, 3.67, 3.68, 3.69, 3.7, 3.75, 3.76, 3.78, 3.8, 3.82, 3.83, 3.84, 3.85, 3.86, 3.87, 3.88, 3.9, 3.93, 3.95, 3.98, 4.0, 4.06, 4.1, 4.14, 4.15, 4.19, 4.2, 4.25, 4.3, 4.37, 4.4, 4.45, 4.5, 4.65, 4.7, 4.8, 4.9, 5.0, 5.2, 5.3, 5.5, 5.6, 5.8, 6.0] \n",
      "\n",
      "2.00    12\n",
      "2.20     1\n",
      "2.25     1\n",
      "2.26     1\n",
      "2.30     4\n",
      "        ..\n",
      "5.30     2\n",
      "5.50     1\n",
      "5.60     1\n",
      "5.80     1\n",
      "6.00     1\n",
      "Name: ceiling_height, Length: 168, dtype: int64 \n",
      "-----------------------------------------\n"
     ]
    }
   ],
   "source": [
    "# исследуем значения высоты потолков\n",
    "print(sorted(data['ceiling_height'].unique()), '\\n')\n",
    "print(data['ceiling_height'].value_counts().sort_index(), '\\n-----------------------------------------')\n",
    "print('Аномальные значения потолков ниже 2 метров и выше 6 метров:\\n')\n",
    "print(data.loc[(data['ceiling_height'] < 2) | (data['ceiling_height'] > 6)]['ceiling_height'].value_counts().sort_index(), \n",
    "      '\\n-----------------------------------------')\n",
    "# удаляем и корректируем аномальные значения\n",
    "for_delete = data.loc[(data['ceiling_height'] < 2) | \n",
    "                      ((data['ceiling_height'] > 6) & (data['ceiling_height'] < 20)) | \n",
    "                      (data['ceiling_height'] > 60)]['ceiling_height'].unique()\n",
    "data['ceiling_height'].replace(to_replace=for_delete, value=np.NaN, inplace=True)\n",
    "for_replace = data.loc[(data['ceiling_height'] >= 20) & \n",
    "                       (data['ceiling_height'] <= 60)]['ceiling_height'].unique()\n",
    "data['ceiling_height'].replace(to_replace=for_replace, value=(for_replace / 10), inplace=True)\n",
    "print('После корректировки аномальных значений:\\n')\n",
    "print(sorted(data['ceiling_height'].unique()), '\\n')\n",
    "print(data['ceiling_height'].value_counts().sort_index(), '\\n-----------------------------------------')"
   ]
  },
  {
   "cell_type": "markdown",
   "metadata": {},
   "source": [
    "В значениях высоты потолков есть пропуски, но информации для их заполнения нет, поэтому пропуски в этих значениях оставляем.\n",
    "\n",
    "Есть аномальные значения высоты потолков ниже 2 метров и выше 6 метров, их отработали по следующему алгоритму:\n",
    "- Значения ниже 2 метров, в диапазоне от 6 до 20 метров и выше 60 метров удалили, как некорректные.\n",
    "- Значения в диапазоне от 20 до 60 метров, имеют ошибку в месте установки плавающей запятой. Исправили эту ошибку."
   ]
  },
  {
   "cell_type": "code",
   "execution_count": 14,
   "metadata": {},
   "outputs": [
    {
     "name": "stdout",
     "output_type": "stream",
     "text": [
      "[0.0, 1.0, 2.0, 3.0, nan] \n",
      "\n",
      "0.00    9071\n",
      "1.00    5717\n",
      "2.00    1892\n",
      "3.00    1501\n",
      "Name: ponds_around3000, dtype: int64 \n",
      "-----------------------------------------\n",
      "[0.0, 1.0, 2.0, nan, 3.0] \n",
      "\n",
      "0.00    10106\n",
      "1.00     5681\n",
      "2.00     1747\n",
      "3.00      647\n",
      "Name: parks_around3000, dtype: int64 \n",
      "-----------------------------------------\n"
     ]
    }
   ],
   "source": [
    "# исследуем количество водоемов и парков\n",
    "print(sorted(data['ponds_around3000'].unique()), '\\n')\n",
    "print(data['ponds_around3000'].value_counts().sort_index(), '\\n-----------------------------------------')\n",
    "print(sorted(data['parks_around3000'].unique()), '\\n')\n",
    "print(data['parks_around3000'].value_counts().sort_index(), '\\n-----------------------------------------')"
   ]
  },
  {
   "cell_type": "markdown",
   "metadata": {},
   "source": [
    "В значениях числа водоемов и парков в радиусе 3 км. пропуски есть, но проверить или дозаполнить пропуски в виду отсутствия данных нет. Аномальных значений нет."
   ]
  },
  {
   "cell_type": "code",
   "execution_count": 15,
   "metadata": {
    "scrolled": false
   },
   "outputs": [
    {
     "name": "stdout",
     "output_type": "stream",
     "text": [
      "    1.00      1\n",
      "    2.00      3\n",
      "    3.00    158\n",
      "    4.00    176\n",
      "    5.00    152\n",
      "           ... \n",
      "1,512.00      2\n",
      "1,513.00      1\n",
      "1,553.00      1\n",
      "1,572.00      1\n",
      "1,580.00      1\n",
      "Name: days_exposition, Length: 1141, dtype: int64 \n",
      "-----------------------------------------\n"
     ]
    }
   ],
   "source": [
    "# исследуем количество дней публикации\n",
    "print(data['days_exposition'].value_counts().sort_index(), '\\n-----------------------------------------')"
   ]
  },
  {
   "cell_type": "markdown",
   "metadata": {},
   "source": [
    "В значениях количества дней публикации объявлений есть пропуски. Информации для их заполнения нет. Есть странные значения, если верить которым, объявления публиковались несколько лет."
   ]
  },
  {
   "cell_type": "code",
   "execution_count": 16,
   "metadata": {
    "scrolled": false
   },
   "outputs": [
    {
     "name": "stdout",
     "output_type": "stream",
     "text": [
      "  1.30    1\n",
      "  2.00    7\n",
      "  2.30    1\n",
      "  2.40    1\n",
      "  2.89    1\n",
      "         ..\n",
      " 93.20    1\n",
      "100.00    1\n",
      "100.70    1\n",
      "107.00    1\n",
      "112.00    1\n",
      "Name: kitchen_area, Length: 971, dtype: int64 \n",
      "-----------------------------------------\n",
      "  2.00    2\n",
      "  3.00    2\n",
      "  5.00    1\n",
      "  5.40    1\n",
      "  6.00    1\n",
      "         ..\n",
      "322.30    1\n",
      "332.00    1\n",
      "347.50    1\n",
      "409.00    1\n",
      "409.70    1\n",
      "Name: living_area, Length: 1782, dtype: int64 \n",
      "-----------------------------------------\n",
      "Количество аномально малых значений площадей:\n",
      "- кухонь - 29\n",
      "- жилых площадей - 8\n"
     ]
    }
   ],
   "source": [
    "# исследуем данные по площадям\n",
    "print(data['kitchen_area'].value_counts().sort_index(), '\\n-----------------------------------------')\n",
    "print(data['living_area'].value_counts().sort_index(), '\\n-----------------------------------------')\n",
    "print('Количество аномально малых значений площадей:')\n",
    "print('- кухонь -', data.loc[data['kitchen_area'] < 4]['kitchen_area'].count(),)\n",
    "print('- жилых площадей -', data.loc[data['living_area'] < 8]['living_area'].count(),)\n",
    "# удаляем аномальные значения\n",
    "data['kitchen_area'].replace(to_replace=data.loc[data['kitchen_area'] < 4]['kitchen_area'].unique(), value=np.NaN, inplace=True)\n",
    "data['living_area'].replace(to_replace=data.loc[data['living_area'] < 8]['living_area'].unique(), value=np.NaN, inplace=True)"
   ]
  },
  {
   "cell_type": "markdown",
   "metadata": {},
   "source": [
    "Информации для заполнения пропусков в значениях площадей кухни и жилой площади нет. В виду наличия большого разнообразия типов и планировок квартир, логических закономерностей для заполнения также не наблюдается. Поэтому пропуски оставляем.\n",
    "\n",
    "Наблюдаются аномально малые (меньше 4 м<sup>2</sup>) значения площадей кухонь и аномально малые (меньше 8 м<sup>2</sup>) значения жилых площадей общим количеством 37 записей."
   ]
  },
  {
   "cell_type": "code",
   "execution_count": 17,
   "metadata": {},
   "outputs": [
    {
     "name": "stdout",
     "output_type": "stream",
     "text": [
      " 12.00    1\n",
      " 13.00    3\n",
      " 13.20    1\n",
      " 14.00    1\n",
      " 15.00    2\n",
      "         ..\n",
      "590.00    1\n",
      "618.00    1\n",
      "631.00    1\n",
      "631.20    1\n",
      "900.00    1\n",
      "Name: total_area, Length: 2182, dtype: int64 \n",
      "-----------------------------------------\n",
      "Количество квартир, у которых площадь кухни больше общей площади - 0\n",
      "Количество квартир, у которых жилая площадь больше общей площади - 0\n",
      "Количество квартир, у которых сумма жилая площади и кухни больше общей площади - 67\n",
      "Количество квартир с аномально большой площадью кухни: 46\n",
      "- из них входят в число ошибочных записей с некорректными площадями: 0\n"
     ]
    }
   ],
   "source": [
    "print(data['total_area'].value_counts().sort_index(), '\\n-----------------------------------------')\n",
    "\n",
    "# проверка соответствия общей, жилой и площади кухни между собой\n",
    "print('Количество квартир, у которых площадь кухни больше общей площади -', \n",
    "      data.loc[data['total_area'] < data['kitchen_area']]['total_area'].count())\n",
    "print('Количество квартир, у которых жилая площадь больше общей площади -',\n",
    "        data.loc[data['total_area'] < data['living_area']]['total_area'].count())\n",
    "print('Количество квартир, у которых сумма жилая площади и кухни больше общей площади -',\n",
    "        data.loc[(data['total_area'] - data['living_area'] - data['kitchen_area']) < 0]['total_area'].count())\n",
    "\n",
    "print('Количество квартир с аномально большой площадью кухни:',\n",
    "     data.loc[data['kitchen_area'] > 50]['total_area'].count())\n",
    "print('- из них входят в число ошибочных записей с некорректными площадями:',\n",
    "     data.loc[((data['total_area'] - data['living_area'] - data['kitchen_area']) < 0) & \n",
    "              (data['kitchen_area'] > 50)]['total_area'].count())"
   ]
  },
  {
   "cell_type": "markdown",
   "metadata": {},
   "source": [
    "В значениях общей площади пропусков нет. Аномальных значений также нет (если допускать существование квартир с площадью 500 - 900 м<sup>2</sup>).\n",
    "\n",
    "При перекрестной проверке значений площадей, видим, что случаев, когда площадь кухни или жилая площадь превышают общую площадь квартины, нет, но в 67 записях сумма жилой площади и площади кухни превышает общую площадь квартиры, что является ошибкой заполнения данных. Доля таких записей бесконечно мала, можно их удалить или оставить, на исследование это не повлияет, пока оставим.\n",
    "\n",
    "В данных есть 46 записей с аномально большой площадью кухни (более 50 м<sup>2</sup>). Доля таких записей также бесконечно мала в состав 67 ошибочных записей с некорректными площадями они не входят. Эти записи также можно удалить или оставить, на исследование это не повлияет, пока оставим."
   ]
  },
  {
   "cell_type": "code",
   "execution_count": 18,
   "metadata": {
    "scrolled": true
   },
   "outputs": [
    {
     "name": "stdout",
     "output_type": "stream",
     "text": [
      " 1.00      25\n",
      " 2.00     383\n",
      " 3.00     668\n",
      " 4.00    1200\n",
      " 5.00    5788\n",
      " 6.00     914\n",
      " 7.00     592\n",
      " 8.00     390\n",
      " 9.00    3761\n",
      "10.00    1174\n",
      "11.00     203\n",
      "12.00    1362\n",
      "13.00     229\n",
      "14.00     553\n",
      "15.00     365\n",
      "16.00    1376\n",
      "17.00     833\n",
      "18.00     505\n",
      "19.00     339\n",
      "20.00     271\n",
      "21.00     158\n",
      "22.00     286\n",
      "23.00     352\n",
      "24.00     469\n",
      "25.00    1075\n",
      "26.00     124\n",
      "27.00     164\n",
      "28.00      21\n",
      "29.00       1\n",
      "33.00       1\n",
      "34.00       1\n",
      "35.00      24\n",
      "36.00       3\n",
      "37.00       1\n",
      "52.00       1\n",
      "60.00       1\n",
      "Name: floors_total, dtype: int64 \n",
      "-----------------------------------------\n",
      "Этажи на которых расположена квартира в домах, где не указано общее количество этажей: \n",
      " [1, 2, 3, 4, 5, 6, 7, 8, 9, 10, 11, 12, 13, 14, 15, 17, 18, 19, 20, 21, 22, 23, 24]\n",
      "1      3\n",
      "2      2\n",
      "3      4\n",
      "4     10\n",
      "5      4\n",
      "6      9\n",
      "7      4\n",
      "8      8\n",
      "9      5\n",
      "10     3\n",
      "11     3\n",
      "12     6\n",
      "13     3\n",
      "14     2\n",
      "15     3\n",
      "17     1\n",
      "18     3\n",
      "19     3\n",
      "20     2\n",
      "21     4\n",
      "22     1\n",
      "23     1\n",
      "24     2\n",
      "Name: floor, dtype: int64\n"
     ]
    },
    {
     "data": {
      "text/html": [
       "<div>\n",
       "<style scoped>\n",
       "    .dataframe tbody tr th:only-of-type {\n",
       "        vertical-align: middle;\n",
       "    }\n",
       "\n",
       "    .dataframe tbody tr th {\n",
       "        vertical-align: top;\n",
       "    }\n",
       "\n",
       "    .dataframe thead th {\n",
       "        text-align: right;\n",
       "    }\n",
       "</style>\n",
       "<table border=\"1\" class=\"dataframe\">\n",
       "  <thead>\n",
       "    <tr style=\"text-align: right;\">\n",
       "      <th></th>\n",
       "      <th>total_images</th>\n",
       "      <th>last_price</th>\n",
       "      <th>total_area</th>\n",
       "      <th>first_day_exposition</th>\n",
       "      <th>rooms</th>\n",
       "      <th>ceiling_height</th>\n",
       "      <th>floors_total</th>\n",
       "      <th>living_area</th>\n",
       "      <th>floor</th>\n",
       "      <th>is_apartment</th>\n",
       "      <th>...</th>\n",
       "      <th>kitchen_area</th>\n",
       "      <th>balcony</th>\n",
       "      <th>locality_name</th>\n",
       "      <th>airports_nearest</th>\n",
       "      <th>cityCenters_nearest</th>\n",
       "      <th>parks_around3000</th>\n",
       "      <th>parks_nearest</th>\n",
       "      <th>ponds_around3000</th>\n",
       "      <th>ponds_nearest</th>\n",
       "      <th>days_exposition</th>\n",
       "    </tr>\n",
       "  </thead>\n",
       "  <tbody>\n",
       "    <tr>\n",
       "      <th>2253</th>\n",
       "      <td>12</td>\n",
       "      <td>3,800,000.00</td>\n",
       "      <td>45.50</td>\n",
       "      <td>2018-06-28T00:00:00</td>\n",
       "      <td>2</td>\n",
       "      <td>2.88</td>\n",
       "      <td>60.00</td>\n",
       "      <td>27.40</td>\n",
       "      <td>4</td>\n",
       "      <td>NaN</td>\n",
       "      <td>...</td>\n",
       "      <td>7.40</td>\n",
       "      <td>0.00</td>\n",
       "      <td>Кронштадт</td>\n",
       "      <td>67,763.00</td>\n",
       "      <td>49,488.00</td>\n",
       "      <td>2.00</td>\n",
       "      <td>342.00</td>\n",
       "      <td>3.00</td>\n",
       "      <td>614.00</td>\n",
       "      <td>166.00</td>\n",
       "    </tr>\n",
       "    <tr>\n",
       "      <th>16731</th>\n",
       "      <td>9</td>\n",
       "      <td>3,978,000.00</td>\n",
       "      <td>40.00</td>\n",
       "      <td>2018-09-24T00:00:00</td>\n",
       "      <td>1</td>\n",
       "      <td>2.65</td>\n",
       "      <td>52.00</td>\n",
       "      <td>10.50</td>\n",
       "      <td>18</td>\n",
       "      <td>NaN</td>\n",
       "      <td>...</td>\n",
       "      <td>14.00</td>\n",
       "      <td>0.00</td>\n",
       "      <td>Санкт-Петербург</td>\n",
       "      <td>20,728.00</td>\n",
       "      <td>12,978.00</td>\n",
       "      <td>1.00</td>\n",
       "      <td>793.00</td>\n",
       "      <td>0.00</td>\n",
       "      <td>NaN</td>\n",
       "      <td>45.00</td>\n",
       "    </tr>\n",
       "  </tbody>\n",
       "</table>\n",
       "<p>2 rows × 22 columns</p>\n",
       "</div>"
      ],
      "text/plain": [
       "       total_images           last_price           total_area  \\\n",
       "2253             12         3,800,000.00                45.50   \n",
       "16731             9         3,978,000.00                40.00   \n",
       "\n",
       "      first_day_exposition  rooms       ceiling_height         floors_total  \\\n",
       "2253   2018-06-28T00:00:00      2                 2.88                60.00   \n",
       "16731  2018-09-24T00:00:00      1                 2.65                52.00   \n",
       "\n",
       "               living_area  floor is_apartment  ...         kitchen_area  \\\n",
       "2253                 27.40      4          NaN  ...                 7.40   \n",
       "16731                10.50     18          NaN  ...                14.00   \n",
       "\n",
       "                   balcony    locality_name     airports_nearest  \\\n",
       "2253                  0.00        Кронштадт            67,763.00   \n",
       "16731                 0.00  Санкт-Петербург            20,728.00   \n",
       "\n",
       "       cityCenters_nearest     parks_around3000        parks_nearest  \\\n",
       "2253             49,488.00                 2.00               342.00   \n",
       "16731            12,978.00                 1.00               793.00   \n",
       "\n",
       "          ponds_around3000        ponds_nearest      days_exposition  \n",
       "2253                  3.00               614.00               166.00  \n",
       "16731                 0.00                  NaN                45.00  \n",
       "\n",
       "[2 rows x 22 columns]"
      ]
     },
     "metadata": {},
     "output_type": "display_data"
    },
    {
     "data": {
      "text/html": [
       "<div>\n",
       "<style scoped>\n",
       "    .dataframe tbody tr th:only-of-type {\n",
       "        vertical-align: middle;\n",
       "    }\n",
       "\n",
       "    .dataframe tbody tr th {\n",
       "        vertical-align: top;\n",
       "    }\n",
       "\n",
       "    .dataframe thead th {\n",
       "        text-align: right;\n",
       "    }\n",
       "</style>\n",
       "<table border=\"1\" class=\"dataframe\">\n",
       "  <thead>\n",
       "    <tr style=\"text-align: right;\">\n",
       "      <th></th>\n",
       "      <th>total_images</th>\n",
       "      <th>last_price</th>\n",
       "      <th>total_area</th>\n",
       "      <th>first_day_exposition</th>\n",
       "      <th>rooms</th>\n",
       "      <th>ceiling_height</th>\n",
       "      <th>floors_total</th>\n",
       "      <th>living_area</th>\n",
       "      <th>floor</th>\n",
       "      <th>is_apartment</th>\n",
       "      <th>...</th>\n",
       "      <th>kitchen_area</th>\n",
       "      <th>balcony</th>\n",
       "      <th>locality_name</th>\n",
       "      <th>airports_nearest</th>\n",
       "      <th>cityCenters_nearest</th>\n",
       "      <th>parks_around3000</th>\n",
       "      <th>parks_nearest</th>\n",
       "      <th>ponds_around3000</th>\n",
       "      <th>ponds_nearest</th>\n",
       "      <th>days_exposition</th>\n",
       "    </tr>\n",
       "  </thead>\n",
       "  <tbody>\n",
       "    <tr>\n",
       "      <th>2253</th>\n",
       "      <td>12</td>\n",
       "      <td>3,800,000.00</td>\n",
       "      <td>45.50</td>\n",
       "      <td>2018-06-28T00:00:00</td>\n",
       "      <td>2</td>\n",
       "      <td>2.88</td>\n",
       "      <td>NaN</td>\n",
       "      <td>27.40</td>\n",
       "      <td>4</td>\n",
       "      <td>NaN</td>\n",
       "      <td>...</td>\n",
       "      <td>7.40</td>\n",
       "      <td>0.00</td>\n",
       "      <td>Кронштадт</td>\n",
       "      <td>67,763.00</td>\n",
       "      <td>49,488.00</td>\n",
       "      <td>2.00</td>\n",
       "      <td>342.00</td>\n",
       "      <td>3.00</td>\n",
       "      <td>614.00</td>\n",
       "      <td>166.00</td>\n",
       "    </tr>\n",
       "    <tr>\n",
       "      <th>16731</th>\n",
       "      <td>9</td>\n",
       "      <td>3,978,000.00</td>\n",
       "      <td>40.00</td>\n",
       "      <td>2018-09-24T00:00:00</td>\n",
       "      <td>1</td>\n",
       "      <td>2.65</td>\n",
       "      <td>NaN</td>\n",
       "      <td>10.50</td>\n",
       "      <td>18</td>\n",
       "      <td>NaN</td>\n",
       "      <td>...</td>\n",
       "      <td>14.00</td>\n",
       "      <td>0.00</td>\n",
       "      <td>Санкт-Петербург</td>\n",
       "      <td>20,728.00</td>\n",
       "      <td>12,978.00</td>\n",
       "      <td>1.00</td>\n",
       "      <td>793.00</td>\n",
       "      <td>0.00</td>\n",
       "      <td>NaN</td>\n",
       "      <td>45.00</td>\n",
       "    </tr>\n",
       "  </tbody>\n",
       "</table>\n",
       "<p>2 rows × 22 columns</p>\n",
       "</div>"
      ],
      "text/plain": [
       "       total_images           last_price           total_area  \\\n",
       "2253             12         3,800,000.00                45.50   \n",
       "16731             9         3,978,000.00                40.00   \n",
       "\n",
       "      first_day_exposition  rooms       ceiling_height  floors_total  \\\n",
       "2253   2018-06-28T00:00:00      2                 2.88           NaN   \n",
       "16731  2018-09-24T00:00:00      1                 2.65           NaN   \n",
       "\n",
       "               living_area  floor is_apartment  ...         kitchen_area  \\\n",
       "2253                 27.40      4          NaN  ...                 7.40   \n",
       "16731                10.50     18          NaN  ...                14.00   \n",
       "\n",
       "                   balcony    locality_name     airports_nearest  \\\n",
       "2253                  0.00        Кронштадт            67,763.00   \n",
       "16731                 0.00  Санкт-Петербург            20,728.00   \n",
       "\n",
       "       cityCenters_nearest     parks_around3000        parks_nearest  \\\n",
       "2253             49,488.00                 2.00               342.00   \n",
       "16731            12,978.00                 1.00               793.00   \n",
       "\n",
       "          ponds_around3000        ponds_nearest      days_exposition  \n",
       "2253                  3.00               614.00               166.00  \n",
       "16731                 0.00                  NaN                45.00  \n",
       "\n",
       "[2 rows x 22 columns]"
      ]
     },
     "metadata": {},
     "output_type": "display_data"
    }
   ],
   "source": [
    "# исследуем данные по этажам\n",
    "print(data['floors_total'].value_counts().sort_index(), '\\n-----------------------------------------')\n",
    "print('Этажи на которых расположена квартира в домах, где не указано общее количество этажей: \\n',\n",
    "      sorted(data.loc[data['floors_total'].isna() == True]['floor'].unique()))\n",
    "print(data.loc[data['floors_total'].isna() == True]['floor'].value_counts().sort_index())\n",
    "# удалим два аномальных значения количества этажей (52 и 60)\n",
    "display(data.loc[data['floors_total'] > 42])\n",
    "data['floors_total'].replace(to_replace=[52, 60], value=np.NaN, inplace=True)\n",
    "display(data.iloc[[2253, 16731]])"
   ]
  },
  {
   "cell_type": "markdown",
   "metadata": {},
   "source": [
    "В данных об общем количестве этажей в домах есть пропуски. Предположение, что это одноэтажные дома в которых клиенты посчитали не нужным указывать этаж и их можно заполнить \"1\" не подтвердилось. В данных об этаже квартиры для этих записей встречаются этажи с 1 по 24, причем на 1 этаже всего 3 квартиры. Заполнять значение общего количества этажей значением этажа квартиры также нецелесообразно, оставим пропуски незаполненными.\n",
    "\n",
    "В данных об общем количестве этажей в домах есть некорректные значения больше 42, т.к. в Санкт-Петербурге только одно здание выше 42 этажей - Лахта-центр в котором нет жилых квартир. Удалим эти некорректные значения. "
   ]
  },
  {
   "cell_type": "code",
   "execution_count": 19,
   "metadata": {
    "scrolled": false
   },
   "outputs": [
    {
     "name": "stdout",
     "output_type": "stream",
     "text": [
      "Санкт-Петербург            15721\n",
      "посёлок Мурино               522\n",
      "посёлок Шушары               440\n",
      "Всеволожск                   398\n",
      "Пушкин                       369\n",
      "                           ...  \n",
      "деревня Пустынка               1\n",
      "деревня Реброво                1\n",
      "деревня Хязельки               1\n",
      "поселок станции Корнево        1\n",
      "посёлок Коробицыно             1\n",
      "Name: locality_name, Length: 364, dtype: int64 \n",
      "-----------------------------------------\n"
     ]
    }
   ],
   "source": [
    "# исследуем названия населенных пунктов\n",
    "print(data['locality_name'].value_counts(), '\\n-----------------------------------------')\n",
    "# удаление строк без указания населенного пункта\n",
    "data.dropna(subset=['locality_name'], inplace=True)"
   ]
  },
  {
   "cell_type": "markdown",
   "metadata": {},
   "source": [
    "Видим, что большая часть квартир расположена в Санкт-Петербурге, остальные в Ленинградской области. В значениях названий населенных пунктов есть пропуски, но данных для их заполнения нет. Данные без указания населенного пункта невозможно использовать для исследования, поэтому удалим их."
   ]
  },
  {
   "cell_type": "markdown",
   "metadata": {},
   "source": [
    "### 2.2. <a id='toc2_2_'></a>[Анализ типов данных](#toc0_)\n"
   ]
  },
  {
   "cell_type": "code",
   "execution_count": 20,
   "metadata": {},
   "outputs": [
    {
     "data": {
      "text/html": [
       "<div>\n",
       "<style scoped>\n",
       "    .dataframe tbody tr th:only-of-type {\n",
       "        vertical-align: middle;\n",
       "    }\n",
       "\n",
       "    .dataframe tbody tr th {\n",
       "        vertical-align: top;\n",
       "    }\n",
       "\n",
       "    .dataframe thead th {\n",
       "        text-align: right;\n",
       "    }\n",
       "</style>\n",
       "<table border=\"1\" class=\"dataframe\">\n",
       "  <thead>\n",
       "    <tr style=\"text-align: right;\">\n",
       "      <th></th>\n",
       "      <th>type</th>\n",
       "      <th>opisanie</th>\n",
       "    </tr>\n",
       "  </thead>\n",
       "  <tbody>\n",
       "    <tr>\n",
       "      <th>studio</th>\n",
       "      <td>bool</td>\n",
       "      <td>квартира-студия (булев тип)</td>\n",
       "    </tr>\n",
       "    <tr>\n",
       "      <th>open_plan</th>\n",
       "      <td>bool</td>\n",
       "      <td>свободная планировка (булев тип)</td>\n",
       "    </tr>\n",
       "    <tr>\n",
       "      <th>floor</th>\n",
       "      <td>int64</td>\n",
       "      <td>этаж</td>\n",
       "    </tr>\n",
       "    <tr>\n",
       "      <th>rooms</th>\n",
       "      <td>int64</td>\n",
       "      <td>число комнат</td>\n",
       "    </tr>\n",
       "    <tr>\n",
       "      <th>total_images</th>\n",
       "      <td>int64</td>\n",
       "      <td>число фотографий квартиры в объявлении</td>\n",
       "    </tr>\n",
       "    <tr>\n",
       "      <th>ceiling_height</th>\n",
       "      <td>float64</td>\n",
       "      <td>высота потолков (м)</td>\n",
       "    </tr>\n",
       "    <tr>\n",
       "      <th>ponds_around3000</th>\n",
       "      <td>float64</td>\n",
       "      <td>число водоёмов в радиусе 3 км</td>\n",
       "    </tr>\n",
       "    <tr>\n",
       "      <th>parks_nearest</th>\n",
       "      <td>float64</td>\n",
       "      <td>расстояние до ближайшего парка (м)</td>\n",
       "    </tr>\n",
       "    <tr>\n",
       "      <th>parks_around3000</th>\n",
       "      <td>float64</td>\n",
       "      <td>число парков в радиусе 3 км</td>\n",
       "    </tr>\n",
       "    <tr>\n",
       "      <th>cityCenters_nearest</th>\n",
       "      <td>float64</td>\n",
       "      <td>расстояние до центра города (м)</td>\n",
       "    </tr>\n",
       "    <tr>\n",
       "      <th>airports_nearest</th>\n",
       "      <td>float64</td>\n",
       "      <td>расстояние до ближайшего аэропорта в метрах (м)</td>\n",
       "    </tr>\n",
       "    <tr>\n",
       "      <th>kitchen_area</th>\n",
       "      <td>float64</td>\n",
       "      <td>площадь кухни в квадратных метрах (м2)</td>\n",
       "    </tr>\n",
       "    <tr>\n",
       "      <th>balcony</th>\n",
       "      <td>float64</td>\n",
       "      <td>число балконов</td>\n",
       "    </tr>\n",
       "    <tr>\n",
       "      <th>ponds_nearest</th>\n",
       "      <td>float64</td>\n",
       "      <td>расстояние до ближайшего водоёма (м)</td>\n",
       "    </tr>\n",
       "    <tr>\n",
       "      <th>total_area</th>\n",
       "      <td>float64</td>\n",
       "      <td>общая площадь квартиры в квадратных метрах (м2)</td>\n",
       "    </tr>\n",
       "    <tr>\n",
       "      <th>living_area</th>\n",
       "      <td>float64</td>\n",
       "      <td>жилая площадь в квадратных метрах (м2)</td>\n",
       "    </tr>\n",
       "    <tr>\n",
       "      <th>floors_total</th>\n",
       "      <td>float64</td>\n",
       "      <td>всего этажей в доме</td>\n",
       "    </tr>\n",
       "    <tr>\n",
       "      <th>last_price</th>\n",
       "      <td>float64</td>\n",
       "      <td>цена на момент снятия с публикации</td>\n",
       "    </tr>\n",
       "    <tr>\n",
       "      <th>days_exposition</th>\n",
       "      <td>float64</td>\n",
       "      <td>сколько дней было размещено объявление (от пуб...</td>\n",
       "    </tr>\n",
       "    <tr>\n",
       "      <th>first_day_exposition</th>\n",
       "      <td>object</td>\n",
       "      <td>дата публикации</td>\n",
       "    </tr>\n",
       "    <tr>\n",
       "      <th>locality_name</th>\n",
       "      <td>object</td>\n",
       "      <td>название населённого пункта</td>\n",
       "    </tr>\n",
       "    <tr>\n",
       "      <th>is_apartment</th>\n",
       "      <td>object</td>\n",
       "      <td>апартаменты (булев тип)</td>\n",
       "    </tr>\n",
       "  </tbody>\n",
       "</table>\n",
       "</div>"
      ],
      "text/plain": [
       "                         type  \\\n",
       "studio                   bool   \n",
       "open_plan                bool   \n",
       "floor                   int64   \n",
       "rooms                   int64   \n",
       "total_images            int64   \n",
       "ceiling_height        float64   \n",
       "ponds_around3000      float64   \n",
       "parks_nearest         float64   \n",
       "parks_around3000      float64   \n",
       "cityCenters_nearest   float64   \n",
       "airports_nearest      float64   \n",
       "kitchen_area          float64   \n",
       "balcony               float64   \n",
       "ponds_nearest         float64   \n",
       "total_area            float64   \n",
       "living_area           float64   \n",
       "floors_total          float64   \n",
       "last_price            float64   \n",
       "days_exposition       float64   \n",
       "first_day_exposition   object   \n",
       "locality_name          object   \n",
       "is_apartment           object   \n",
       "\n",
       "                                                               opisanie  \n",
       "studio                                      квартира-студия (булев тип)  \n",
       "open_plan                              свободная планировка (булев тип)  \n",
       "floor                                                              этаж  \n",
       "rooms                                                      число комнат  \n",
       "total_images                     число фотографий квартиры в объявлении  \n",
       "ceiling_height                                      высота потолков (м)  \n",
       "ponds_around3000                          число водоёмов в радиусе 3 км  \n",
       "parks_nearest                        расстояние до ближайшего парка (м)  \n",
       "parks_around3000                            число парков в радиусе 3 км  \n",
       "cityCenters_nearest                     расстояние до центра города (м)  \n",
       "airports_nearest        расстояние до ближайшего аэропорта в метрах (м)  \n",
       "kitchen_area                     площадь кухни в квадратных метрах (м2)  \n",
       "balcony                                                  число балконов  \n",
       "ponds_nearest                      расстояние до ближайшего водоёма (м)  \n",
       "total_area              общая площадь квартиры в квадратных метрах (м2)  \n",
       "living_area                      жилая площадь в квадратных метрах (м2)  \n",
       "floors_total                                        всего этажей в доме  \n",
       "last_price                           цена на момент снятия с публикации  \n",
       "days_exposition       сколько дней было размещено объявление (от пуб...  \n",
       "first_day_exposition                                    дата публикации  \n",
       "locality_name                               название населённого пункта  \n",
       "is_apartment                                    апартаменты (булев тип)  "
      ]
     },
     "metadata": {},
     "output_type": "display_data"
    },
    {
     "data": {
      "text/plain": [
       "total_images                     int64\n",
       "last_price                       Int64\n",
       "total_area                     float64\n",
       "first_day_exposition    datetime64[ns]\n",
       "rooms                            int64\n",
       "ceiling_height                 float64\n",
       "floors_total                     Int64\n",
       "living_area                    float64\n",
       "floor                            int64\n",
       "is_apartment                      bool\n",
       "studio                            bool\n",
       "open_plan                         bool\n",
       "kitchen_area                   float64\n",
       "balcony                          Int64\n",
       "locality_name                   object\n",
       "airports_nearest               float64\n",
       "cityCenters_nearest            float64\n",
       "parks_around3000                 Int64\n",
       "parks_nearest                  float64\n",
       "ponds_around3000                 Int64\n",
       "ponds_nearest                  float64\n",
       "days_exposition                float64\n",
       "dtype: object"
      ]
     },
     "execution_count": 20,
     "metadata": {},
     "output_type": "execute_result"
    }
   ],
   "source": [
    "display(data.dtypes.to_frame(name='type').join(opisanie).sort_values(by='type'))\n",
    "# преобразуем типы данных\n",
    "data['ponds_around3000'] = data['ponds_around3000'].astype('Int64')\n",
    "data['parks_around3000'] = data['parks_around3000'].astype('Int64')\n",
    "data['balcony'] = data['balcony'].astype('Int64')\n",
    "data['floors_total'] = data['floors_total'].astype('Int64')\n",
    "data['last_price'] = data['last_price'].astype('Int64')\n",
    "data['is_apartment'] = data['is_apartment'].astype('bool')\n",
    "data['first_day_exposition'] = pd.to_datetime(data['first_day_exposition'], format='%Y-%m-%dT%H:%M:%S')\n",
    "data.dtypes"
   ]
  },
  {
   "cell_type": "markdown",
   "metadata": {},
   "source": [
    "Часть данных, предполагающих целочисленные значения, имеет тип с плавающей запятой. Изменим тип данных на целочисленный для числа водоемов, парков и балконов, а также количества этажей и стоимости квартиры.  \n",
    "Поле-признак аппартаментов, исходя из описания, предполагает булевый тип, но имеет объектный тип. Изменим тип на логический.  \n",
    "Поле дата публикации предполагает тип дата-время, но имеет объектный тип. Изменим тип на дата-время."
   ]
  },
  {
   "cell_type": "markdown",
   "metadata": {},
   "source": [
    "### 2.3. <a id='toc2_3_'></a>[Поиск дубликатов](#toc0_)\n"
   ]
  },
  {
   "cell_type": "markdown",
   "metadata": {},
   "source": [
    "Проверим наличие явных дубликатов в данных."
   ]
  },
  {
   "cell_type": "code",
   "execution_count": 21,
   "metadata": {},
   "outputs": [
    {
     "data": {
      "text/html": [
       "<div>\n",
       "<style scoped>\n",
       "    .dataframe tbody tr th:only-of-type {\n",
       "        vertical-align: middle;\n",
       "    }\n",
       "\n",
       "    .dataframe tbody tr th {\n",
       "        vertical-align: top;\n",
       "    }\n",
       "\n",
       "    .dataframe thead th {\n",
       "        text-align: right;\n",
       "    }\n",
       "</style>\n",
       "<table border=\"1\" class=\"dataframe\">\n",
       "  <thead>\n",
       "    <tr style=\"text-align: right;\">\n",
       "      <th></th>\n",
       "      <th>total_images</th>\n",
       "      <th>last_price</th>\n",
       "      <th>total_area</th>\n",
       "      <th>first_day_exposition</th>\n",
       "      <th>rooms</th>\n",
       "      <th>ceiling_height</th>\n",
       "      <th>floors_total</th>\n",
       "      <th>living_area</th>\n",
       "      <th>floor</th>\n",
       "      <th>is_apartment</th>\n",
       "      <th>...</th>\n",
       "      <th>kitchen_area</th>\n",
       "      <th>balcony</th>\n",
       "      <th>locality_name</th>\n",
       "      <th>airports_nearest</th>\n",
       "      <th>cityCenters_nearest</th>\n",
       "      <th>parks_around3000</th>\n",
       "      <th>parks_nearest</th>\n",
       "      <th>ponds_around3000</th>\n",
       "      <th>ponds_nearest</th>\n",
       "      <th>days_exposition</th>\n",
       "    </tr>\n",
       "  </thead>\n",
       "  <tbody>\n",
       "  </tbody>\n",
       "</table>\n",
       "<p>0 rows × 22 columns</p>\n",
       "</div>"
      ],
      "text/plain": [
       "Empty DataFrame\n",
       "Columns: [total_images, last_price, total_area, first_day_exposition, rooms, ceiling_height, floors_total, living_area, floor, is_apartment, studio, open_plan, kitchen_area, balcony, locality_name, airports_nearest, cityCenters_nearest, parks_around3000, parks_nearest, ponds_around3000, ponds_nearest, days_exposition]\n",
       "Index: []\n",
       "\n",
       "[0 rows x 22 columns]"
      ]
     },
     "execution_count": 21,
     "metadata": {},
     "output_type": "execute_result"
    }
   ],
   "source": [
    "data.loc[data.duplicated() == True]"
   ]
  },
  {
   "cell_type": "markdown",
   "metadata": {},
   "source": [
    "Проверим наличие неявных дубликатов, которые могут возникнуть при заполнении названий населенных пунктов."
   ]
  },
  {
   "cell_type": "code",
   "execution_count": 22,
   "metadata": {
    "scrolled": true
   },
   "outputs": [
    {
     "name": "stdout",
     "output_type": "stream",
     "text": [
      "['Санкт-Петербург' 'посёлок Шушары' 'городской посёлок Янино-1'\n",
      " 'посёлок Парголово' 'посёлок Мурино' 'Ломоносов' 'Сертолово' 'Петергоф'\n",
      " 'Пушкин' 'деревня Кудрово' 'Коммунар' 'Колпино'\n",
      " 'поселок городского типа Красный Бор' 'Гатчина' 'поселок Мурино'\n",
      " 'деревня Фёдоровское' 'Выборг' 'Кронштадт' 'Кировск'\n",
      " 'деревня Новое Девяткино' 'посёлок Металлострой'\n",
      " 'посёлок городского типа Лебяжье' 'посёлок городского типа Сиверский'\n",
      " 'поселок Молодцово' 'поселок городского типа Кузьмоловский'\n",
      " 'садовое товарищество Новая Ропша' 'Павловск' 'деревня Пикколово'\n",
      " 'Всеволожск' 'Волхов' 'Кингисепп' 'Приозерск' 'Сестрорецк'\n",
      " 'деревня Куттузи' 'посёлок Аннино' 'поселок городского типа Ефимовский'\n",
      " 'посёлок Плодовое' 'деревня Заклинье' 'поселок Торковичи'\n",
      " 'поселок Первомайское' 'Красное Село' 'посёлок Понтонный' 'Сясьстрой'\n",
      " 'деревня Старая' 'деревня Лесколово' 'посёлок Новый Свет' 'Сланцы'\n",
      " 'село Путилово' 'Ивангород' 'Мурино' 'Шлиссельбург' 'Никольское'\n",
      " 'Зеленогорск' 'Сосновый Бор' 'поселок Новый Свет' 'деревня Оржицы'\n",
      " 'деревня Кальтино' 'Кудрово' 'поселок Романовка' 'посёлок Бугры'\n",
      " 'поселок Бугры' 'поселок городского типа Рощино' 'Кириши' 'Луга'\n",
      " 'Волосово' 'Отрадное' 'село Павлово' 'поселок Оредеж' 'село Копорье'\n",
      " 'посёлок городского типа Красный Бор' 'посёлок Молодёжное' 'Тихвин'\n",
      " 'посёлок Победа' 'деревня Нурма' 'поселок городского типа Синявино'\n",
      " 'Тосно' 'посёлок городского типа Кузьмоловский' 'посёлок Стрельна'\n",
      " 'Бокситогорск' 'посёлок Александровская' 'деревня Лопухинка' 'Пикалёво'\n",
      " 'поселок Терволово' 'поселок городского типа Советский' 'Подпорожье'\n",
      " 'посёлок Петровское' 'посёлок городского типа Токсово' 'поселок Сельцо'\n",
      " 'посёлок городского типа Вырица' 'деревня Кипень' 'деревня Келози'\n",
      " 'деревня Вартемяги' 'посёлок Тельмана' 'поселок Севастьяново'\n",
      " 'городской поселок Большая Ижора' 'городской посёлок Павлово'\n",
      " 'деревня Агалатово' 'посёлок Новогорелово'\n",
      " 'городской посёлок Лесогорский' 'деревня Лаголово' 'поселок Цвелодубово'\n",
      " 'поселок городского типа Рахья' 'поселок городского типа Вырица'\n",
      " 'деревня Белогорка' 'поселок Заводской' 'городской посёлок Новоселье'\n",
      " 'деревня Большие Колпаны' 'деревня Горбунки' 'деревня Батово'\n",
      " 'деревня Заневка' 'деревня Иссад' 'Приморск'\n",
      " 'городской посёлок Фёдоровское' 'деревня Мистолово' 'Новая Ладога'\n",
      " 'поселок Зимитицы' 'поселок Барышево' 'деревня Разметелево'\n",
      " 'поселок городского типа имени Свердлова' 'деревня Пеники'\n",
      " 'поселок Рябово' 'деревня Пудомяги' 'поселок станции Корнево'\n",
      " 'деревня Низино' 'деревня Бегуницы' 'посёлок Поляны'\n",
      " 'городской посёлок Мга' 'поселок Елизаветино'\n",
      " 'посёлок городского типа Кузнечное' 'деревня Колтуши'\n",
      " 'поселок Запорожское' 'посёлок городского типа Рощино'\n",
      " 'деревня Гостилицы' 'деревня Малое Карлино' 'посёлок Мичуринское'\n",
      " 'посёлок городского типа имени Морозова' 'посёлок Песочный'\n",
      " 'посёлок Сосново' 'деревня Аро' 'поселок Ильичёво'\n",
      " 'посёлок городского типа Тайцы' 'деревня Малое Верево' 'деревня Извара'\n",
      " 'поселок станции Вещево' 'село Паша' 'деревня Калитино'\n",
      " 'посёлок городского типа Ульяновка' 'деревня Чудской Бор'\n",
      " 'поселок городского типа Дубровка' 'деревня Мины' 'поселок Войсковицы'\n",
      " 'посёлок городского типа имени Свердлова' 'деревня Коркино'\n",
      " 'посёлок Ропша' 'поселок городского типа Приладожский' 'посёлок Щеглово'\n",
      " 'посёлок Гаврилово' 'Лодейное Поле' 'деревня Рабитицы'\n",
      " 'поселок городского типа Никольский' 'деревня Кузьмолово'\n",
      " 'деревня Малые Колпаны' 'поселок Тельмана' 'посёлок Петро-Славянка'\n",
      " 'городской посёлок Назия' 'посёлок Репино' 'посёлок Ильичёво'\n",
      " 'поселок Углово' 'поселок Старая Малукса' 'садовое товарищество Рахья'\n",
      " 'поселок Аннино' 'поселок Победа' 'деревня Меньково'\n",
      " 'деревня Старые Бегуницы' 'посёлок Сапёрный' 'поселок Семрино'\n",
      " 'поселок Гаврилово' 'поселок Глажево' 'поселок Кобринское'\n",
      " 'деревня Гарболово' 'деревня Юкки' 'поселок станции Приветнинское'\n",
      " 'деревня Мануйлово' 'деревня Пчева' 'поселок Поляны' 'поселок Цвылёво'\n",
      " 'поселок Мельниково' 'посёлок Пудость' 'посёлок Усть-Луга' 'Светогорск'\n",
      " 'Любань' 'поселок Селезнёво' 'поселок городского типа Рябово'\n",
      " 'Каменногорск' 'деревня Кривко' 'поселок Глебычево' 'деревня Парицы'\n",
      " 'поселок Жилпосёлок' 'посёлок городского типа Мга'\n",
      " 'городской поселок Янино-1' 'посёлок Войскорово' 'село Никольское'\n",
      " 'посёлок Терволово' 'поселок Стеклянный' 'посёлок городского типа Важины'\n",
      " 'посёлок Мыза-Ивановка' 'село Русско-Высоцкое'\n",
      " 'поселок городского типа Лебяжье' 'поселок городского типа Форносово'\n",
      " 'село Старая Ладога' 'поселок Житково' 'городской посёлок Виллози'\n",
      " 'деревня Лампово' 'деревня Шпаньково' 'деревня Лаврики' 'посёлок Сумино'\n",
      " 'посёлок Возрождение' 'деревня Старосиверская' 'посёлок Кикерино'\n",
      " 'поселок Возрождение' 'деревня Старое Хинколово' 'посёлок Пригородный'\n",
      " 'посёлок Торфяное' 'городской посёлок Будогощь' 'поселок Суходолье'\n",
      " 'поселок Красная Долина' 'деревня Хапо-Ое'\n",
      " 'поселок городского типа Дружная Горка' 'поселок Лисий Нос'\n",
      " 'деревня Яльгелево' 'посёлок Стеклянный' 'село Рождествено'\n",
      " 'деревня Старополье' 'посёлок Левашово' 'деревня Сяськелево'\n",
      " 'деревня Камышовка'\n",
      " 'садоводческое некоммерческое товарищество Лесная Поляна'\n",
      " 'деревня Хязельки' 'поселок Жилгородок' 'посёлок городского типа Павлово'\n",
      " 'деревня Ялгино' 'поселок Новый Учхоз' 'городской посёлок Рощино'\n",
      " 'поселок Гончарово' 'поселок Почап' 'посёлок Сапёрное'\n",
      " 'посёлок Платформа 69-й километр' 'поселок Каложицы' 'деревня Фалилеево'\n",
      " 'деревня Пельгора' 'поселок городского типа Лесогорский'\n",
      " 'деревня Торошковичи' 'посёлок Белоостров' 'посёлок Алексеевка'\n",
      " 'поселок Серебрянский' 'поселок Лукаши' 'поселок Петровское'\n",
      " 'деревня Щеглово' 'поселок Мичуринское' 'деревня Тарасово'\n",
      " 'поселок Кингисеппский' 'посёлок при железнодорожной станции Вещево'\n",
      " 'поселок Ушаки' 'деревня Котлы' 'деревня Сижно' 'деревня Торосово'\n",
      " 'посёлок Форт Красная Горка' 'поселок городского типа Токсово'\n",
      " 'деревня Новолисино' 'посёлок станции Громово' 'деревня Глинка'\n",
      " 'посёлок Мельниково' 'поселок городского типа Назия'\n",
      " 'деревня Старая Пустошь' 'поселок Коммунары' 'поселок Починок'\n",
      " 'посёлок городского типа Вознесенье' 'деревня Разбегаево'\n",
      " 'посёлок городского типа Рябово' 'поселок Гладкое'\n",
      " 'посёлок при железнодорожной станции Приветнинское' 'поселок Тёсово-4'\n",
      " 'посёлок Жилгородок' 'деревня Бор' 'посёлок Коробицыно'\n",
      " 'деревня Большая Вруда' 'деревня Курковицы' 'посёлок Лисий Нос'\n",
      " 'городской посёлок Советский' 'посёлок Кобралово' 'деревня Суоранда'\n",
      " 'поселок Кобралово' 'поселок городского типа Кондратьево'\n",
      " 'коттеджный поселок Счастье' 'поселок Любань' 'деревня Реброво'\n",
      " 'деревня Зимитицы' 'деревня Тойворово' 'поселок Семиозерье'\n",
      " 'поселок Лесное' 'поселок Совхозный' 'поселок Усть-Луга'\n",
      " 'посёлок Ленинское' 'посёлок Суйда' 'посёлок городского типа Форносово'\n",
      " 'деревня Нижние Осельки' 'посёлок станции Свирь' 'поселок Перово'\n",
      " 'Высоцк' 'поселок Гарболово' 'село Шум' 'поселок Котельский'\n",
      " 'поселок станции Лужайка' 'деревня Большая Пустомержа'\n",
      " 'поселок Красносельское' 'деревня Вахнова Кара' 'деревня Пижма'\n",
      " 'коттеджный поселок Кивеннапа Север' 'поселок Коробицыно'\n",
      " 'поселок Ромашки' 'посёлок Перово' 'деревня Каськово' 'деревня Куровицы'\n",
      " 'посёлок Плоское' 'поселок Сумино'\n",
      " 'поселок городского типа Большая Ижора' 'поселок Кирпичное'\n",
      " 'деревня Ям-Тесово' 'деревня Раздолье' 'деревня Терпилицы'\n",
      " 'посёлок Шугозеро' 'деревня Ваганово' 'поселок Пушное'\n",
      " 'садовое товарищество Садко' 'посёлок Усть-Ижора' 'деревня Выскатка'\n",
      " 'городской посёлок Свирьстрой' 'поселок Громово' 'деревня Кисельня'\n",
      " 'посёлок Старая Малукса' 'деревня Трубников Бор' 'поселок Калитино'\n",
      " 'посёлок Высокоключевой' 'садовое товарищество Приладожский'\n",
      " 'посёлок Пансионат Зелёный Бор' 'деревня Ненимяки'\n",
      " 'поселок Пансионат Зелёный Бор' 'деревня Снегирёвка' 'деревня Рапполово'\n",
      " 'деревня Пустынка' 'поселок Рабитицы' 'деревня Большой Сабск'\n",
      " 'деревня Русско' 'деревня Лупполово' 'деревня Большое Рейзино'\n",
      " 'деревня Малая Романовка' 'поселок Дружноселье' 'поселок Пчевжа'\n",
      " 'поселок Володарское' 'деревня Нижняя' 'коттеджный посёлок Лесное'\n",
      " 'деревня Тихковицы' 'деревня Борисова Грива' 'посёлок Дзержинского']\n"
     ]
    }
   ],
   "source": [
    "print(data.locality_name.unique())"
   ]
  },
  {
   "cell_type": "code",
   "execution_count": 23,
   "metadata": {
    "scrolled": false
   },
   "outputs": [
    {
     "name": "stdout",
     "output_type": "stream",
     "text": [
      "Количество неявных дубликатов: 15\n"
     ]
    },
    {
     "data": {
      "text/html": [
       "<div>\n",
       "<style scoped>\n",
       "    .dataframe tbody tr th:only-of-type {\n",
       "        vertical-align: middle;\n",
       "    }\n",
       "\n",
       "    .dataframe tbody tr th {\n",
       "        vertical-align: top;\n",
       "    }\n",
       "\n",
       "    .dataframe thead th {\n",
       "        text-align: right;\n",
       "    }\n",
       "</style>\n",
       "<table border=\"1\" class=\"dataframe\">\n",
       "  <thead>\n",
       "    <tr style=\"text-align: right;\">\n",
       "      <th></th>\n",
       "      <th>names</th>\n",
       "      <th>names2</th>\n",
       "    </tr>\n",
       "  </thead>\n",
       "  <tbody>\n",
       "    <tr>\n",
       "      <th>325</th>\n",
       "      <td>поселок городского типа Большая Ижора</td>\n",
       "      <td>большаяижора</td>\n",
       "    </tr>\n",
       "    <tr>\n",
       "      <th>94</th>\n",
       "      <td>городской поселок Большая Ижора</td>\n",
       "      <td>большаяижора</td>\n",
       "    </tr>\n",
       "    <tr>\n",
       "      <th>179</th>\n",
       "      <td>деревня Гарболово</td>\n",
       "      <td>гарболово</td>\n",
       "    </tr>\n",
       "    <tr>\n",
       "      <th>309</th>\n",
       "      <td>поселок Гарболово</td>\n",
       "      <td>гарболово</td>\n",
       "    </tr>\n",
       "    <tr>\n",
       "      <th>296</th>\n",
       "      <td>деревня Зимитицы</td>\n",
       "      <td>зимитицы</td>\n",
       "    </tr>\n",
       "    <tr>\n",
       "      <th>115</th>\n",
       "      <td>поселок Зимитицы</td>\n",
       "      <td>зимитицы</td>\n",
       "    </tr>\n",
       "    <tr>\n",
       "      <th>341</th>\n",
       "      <td>поселок Калитино</td>\n",
       "      <td>калитино</td>\n",
       "    </tr>\n",
       "    <tr>\n",
       "      <th>145</th>\n",
       "      <td>деревня Калитино</td>\n",
       "      <td>калитино</td>\n",
       "    </tr>\n",
       "    <tr>\n",
       "      <th>57</th>\n",
       "      <td>Кудрово</td>\n",
       "      <td>кудрово</td>\n",
       "    </tr>\n",
       "    <tr>\n",
       "      <th>9</th>\n",
       "      <td>деревня Кудрово</td>\n",
       "      <td>кудрово</td>\n",
       "    </tr>\n",
       "    <tr>\n",
       "      <th>190</th>\n",
       "      <td>Любань</td>\n",
       "      <td>любань</td>\n",
       "    </tr>\n",
       "    <tr>\n",
       "      <th>294</th>\n",
       "      <td>поселок Любань</td>\n",
       "      <td>любань</td>\n",
       "    </tr>\n",
       "    <tr>\n",
       "      <th>49</th>\n",
       "      <td>Мурино</td>\n",
       "      <td>мурино</td>\n",
       "    </tr>\n",
       "    <tr>\n",
       "      <th>14</th>\n",
       "      <td>поселок Мурино</td>\n",
       "      <td>мурино</td>\n",
       "    </tr>\n",
       "    <tr>\n",
       "      <th>201</th>\n",
       "      <td>село Никольское</td>\n",
       "      <td>никольское</td>\n",
       "    </tr>\n",
       "    <tr>\n",
       "      <th>51</th>\n",
       "      <td>Никольское</td>\n",
       "      <td>никольское</td>\n",
       "    </tr>\n",
       "    <tr>\n",
       "      <th>198</th>\n",
       "      <td>посeлок городского типа Мга</td>\n",
       "      <td>посeлокмга</td>\n",
       "    </tr>\n",
       "    <tr>\n",
       "      <th>126</th>\n",
       "      <td>городской посeлок Мга</td>\n",
       "      <td>посeлокмга</td>\n",
       "    </tr>\n",
       "    <tr>\n",
       "      <th>95</th>\n",
       "      <td>городской посeлок Павлово</td>\n",
       "      <td>посeлокпавлово</td>\n",
       "    </tr>\n",
       "    <tr>\n",
       "      <th>239</th>\n",
       "      <td>посeлок городского типа Павлово</td>\n",
       "      <td>посeлокпавлово</td>\n",
       "    </tr>\n",
       "    <tr>\n",
       "      <th>131</th>\n",
       "      <td>посeлок городского типа Рощино</td>\n",
       "      <td>посeлокрощино</td>\n",
       "    </tr>\n",
       "    <tr>\n",
       "      <th>242</th>\n",
       "      <td>городской посeлок Рощино</td>\n",
       "      <td>посeлокрощино</td>\n",
       "    </tr>\n",
       "    <tr>\n",
       "      <th>154</th>\n",
       "      <td>поселок городского типа Приладожский</td>\n",
       "      <td>приладожский</td>\n",
       "    </tr>\n",
       "    <tr>\n",
       "      <th>343</th>\n",
       "      <td>садовое товарищество Приладожский</td>\n",
       "      <td>приладожский</td>\n",
       "    </tr>\n",
       "    <tr>\n",
       "      <th>158</th>\n",
       "      <td>деревня Рабитицы</td>\n",
       "      <td>рабитицы</td>\n",
       "    </tr>\n",
       "    <tr>\n",
       "      <th>350</th>\n",
       "      <td>поселок Рабитицы</td>\n",
       "      <td>рабитицы</td>\n",
       "    </tr>\n",
       "    <tr>\n",
       "      <th>101</th>\n",
       "      <td>поселок городского типа Рахья</td>\n",
       "      <td>рахья</td>\n",
       "    </tr>\n",
       "    <tr>\n",
       "      <th>169</th>\n",
       "      <td>садовое товарищество Рахья</td>\n",
       "      <td>рахья</td>\n",
       "    </tr>\n",
       "    <tr>\n",
       "      <th>120</th>\n",
       "      <td>поселок Рябово</td>\n",
       "      <td>рябово</td>\n",
       "    </tr>\n",
       "    <tr>\n",
       "      <th>192</th>\n",
       "      <td>поселок городского типа Рябово</td>\n",
       "      <td>рябово</td>\n",
       "    </tr>\n",
       "  </tbody>\n",
       "</table>\n",
       "</div>"
      ],
      "text/plain": [
       "                                     names          names2\n",
       "325  поселок городского типа Большая Ижора    большаяижора\n",
       "94         городской поселок Большая Ижора    большаяижора\n",
       "179                      деревня Гарболово       гарболово\n",
       "309                      поселок Гарболово       гарболово\n",
       "296                       деревня Зимитицы        зимитицы\n",
       "115                       поселок Зимитицы        зимитицы\n",
       "341                       поселок Калитино        калитино\n",
       "145                       деревня Калитино        калитино\n",
       "57                                 Кудрово         кудрово\n",
       "9                          деревня Кудрово         кудрово\n",
       "190                                 Любань          любань\n",
       "294                         поселок Любань          любань\n",
       "49                                  Мурино          мурино\n",
       "14                          поселок Мурино          мурино\n",
       "201                        село Никольское      никольское\n",
       "51                              Никольское      никольское\n",
       "198            посeлок городского типа Мга      посeлокмга\n",
       "126                  городской посeлок Мга      посeлокмга\n",
       "95               городской посeлок Павлово  посeлокпавлово\n",
       "239        посeлок городского типа Павлово  посeлокпавлово\n",
       "131         посeлок городского типа Рощино   посeлокрощино\n",
       "242               городской посeлок Рощино   посeлокрощино\n",
       "154   поселок городского типа Приладожский    приладожский\n",
       "343      садовое товарищество Приладожский    приладожский\n",
       "158                       деревня Рабитицы        рабитицы\n",
       "350                       поселок Рабитицы        рабитицы\n",
       "101          поселок городского типа Рахья           рахья\n",
       "169             садовое товарищество Рахья           рахья\n",
       "120                         поселок Рябово          рябово\n",
       "192         поселок городского типа Рябово          рябово"
      ]
     },
     "metadata": {},
     "output_type": "display_data"
    }
   ],
   "source": [
    "# земена \"ё\" на \"е\"\n",
    "data['locality_name'].replace('ё', 'e', regex=True, inplace=True)\n",
    "\n",
    "# для нахождения неявных дубликатов вынесем названия населенных пунктов в отдельный датафрейм\n",
    "# и выделим обезличенное названия в отдельный столбец\n",
    "nazvaniya = pd.DataFrame(data=data.locality_name.unique(), columns=['names']).sort_values(by='names')\n",
    "nazvaniya['names2'] = nazvaniya['names'].str.lower().replace(['деревня', 'городской', 'поселок', 'коттеджный', \n",
    "                                                              'типа', 'городского', 'имени', 'станции', 'село', \n",
    "                                                              'при железнодорожной', 'садовое', 'садоводческое некоммерческое', \n",
    "                                                              'товарищество', ' '], '', regex=True)\n",
    "print('Количество неявных дубликатов:', len(nazvaniya['names2'][nazvaniya['names2'].duplicated()].unique()))\n",
    "pd.set_option('display.max_rows', None)\n",
    "display(nazvaniya[nazvaniya['names2'].duplicated(keep=False)].sort_values(by='names2'))\n",
    "pd.reset_option('display.max_rows')"
   ]
  },
  {
   "cell_type": "markdown",
   "metadata": {},
   "source": []
  },
  {
   "cell_type": "code",
   "execution_count": 24,
   "metadata": {},
   "outputs": [],
   "source": [
    "# корректируем неявные дубликаты\n",
    "data['locality_name'].replace({'городской поселок Большая Ижора': 'поселок городского типа Большая Ижора', \n",
    "                               'поселок Гарболово': 'деревня Гарболово',\n",
    "                               'деревня Зимитицы': 'поселок Зимитицы', 'поселок Калитино': 'деревня Калитино',\n",
    "                               'деревня Кудрово': 'Кудрово', 'поселок Любань': 'Любань', 'поселок Мурино': 'Мурино',\n",
    "                               'село Никольское': 'Никольское', 'городской посeлок Мга': 'поселок городского типа Мга',\n",
    "                               'городской посeлок Павлово': 'поселок городского типа Павлово',\n",
    "                               'городской посeлок Рощино': 'поселок городского типа Рощино',\n",
    "                               'поселок Рабитицы': 'деревня Рабитицы', 'поселок Рябово': 'поселок городского типа Рябово'\n",
    "                              }, inplace=True)"
   ]
  },
  {
   "cell_type": "markdown",
   "metadata": {},
   "source": [
    "### 2.4. <a id='toc2_4_'></a>[Исследование аномальных значений](#toc0_)\n",
    "\n",
    "Столбцы с пропусками данных были обследованы и отработаны на предмет аномальных значений в п. 2.1. \n",
    "Рассмотрим остальные столбцы:\n",
    "- total_images (число фотографий квартиры в объявлении);\n",
    "- last_price (цена на момент снятия с публикации);\n",
    "- first_day_exposition (дата публикации);\n",
    "- floor (этаж);\n",
    "- studio (квартира-студия, булев тип);\n",
    "- open_plan (свободная планировка, булев тип);\n",
    "- rooms (число комнат)."
   ]
  },
  {
   "cell_type": "code",
   "execution_count": 25,
   "metadata": {},
   "outputs": [
    {
     "name": "stdout",
     "output_type": "stream",
     "text": [
      "[0, 1, 2, 3, 4, 5, 6, 7, 8, 9, 10, 11, 12, 13, 14, 15, 16, 17, 18, 19, 20, 21, 22, 23, 24, 25, 26, 27, 28, 29, 30, 31, 32, 35, 37, 39, 42, 50] \n",
      "\n"
     ]
    }
   ],
   "source": [
    "# исследуем информацию о количестве фотографий\n",
    "print(sorted(data['total_images'].unique()), '\\n')"
   ]
  },
  {
   "cell_type": "markdown",
   "metadata": {},
   "source": [
    "К объявлениям прикладывают от 1 до 50 фотографий. Часть объектов не имеют фото. Аномальных значений не наблюдается."
   ]
  },
  {
   "cell_type": "code",
   "execution_count": 26,
   "metadata": {
    "scrolled": false
   },
   "outputs": [
    {
     "name": "stdout",
     "output_type": "stream",
     "text": [
      "12190        1\n",
      "430000       2\n",
      "440000       1\n",
      "450000       4\n",
      "470000       3\n",
      "            ..\n",
      "300000000    1\n",
      "330000000    1\n",
      "401300000    1\n",
      "420000000    1\n",
      "763000000    1\n",
      "Name: last_price, Length: 2964, dtype: Int64 \n",
      "-----------------------------------------\n"
     ]
    },
    {
     "data": {
      "text/html": [
       "<div>\n",
       "<style scoped>\n",
       "    .dataframe tbody tr th:only-of-type {\n",
       "        vertical-align: middle;\n",
       "    }\n",
       "\n",
       "    .dataframe tbody tr th {\n",
       "        vertical-align: top;\n",
       "    }\n",
       "\n",
       "    .dataframe thead th {\n",
       "        text-align: right;\n",
       "    }\n",
       "</style>\n",
       "<table border=\"1\" class=\"dataframe\">\n",
       "  <thead>\n",
       "    <tr style=\"text-align: right;\">\n",
       "      <th></th>\n",
       "      <th>last_price</th>\n",
       "      <th>total_area</th>\n",
       "    </tr>\n",
       "  </thead>\n",
       "  <tbody>\n",
       "    <tr>\n",
       "      <th>8793</th>\n",
       "      <td>12190</td>\n",
       "      <td>109.00</td>\n",
       "    </tr>\n",
       "    <tr>\n",
       "      <th>21923</th>\n",
       "      <td>115490000</td>\n",
       "      <td>235.00</td>\n",
       "    </tr>\n",
       "    <tr>\n",
       "      <th>1188</th>\n",
       "      <td>118000000</td>\n",
       "      <td>290.60</td>\n",
       "    </tr>\n",
       "    <tr>\n",
       "      <th>20264</th>\n",
       "      <td>119000000</td>\n",
       "      <td>187.60</td>\n",
       "    </tr>\n",
       "    <tr>\n",
       "      <th>1300</th>\n",
       "      <td>120000000</td>\n",
       "      <td>280.00</td>\n",
       "    </tr>\n",
       "    <tr>\n",
       "      <th>16647</th>\n",
       "      <td>122000000</td>\n",
       "      <td>145.00</td>\n",
       "    </tr>\n",
       "    <tr>\n",
       "      <th>4996</th>\n",
       "      <td>124000000</td>\n",
       "      <td>124.50</td>\n",
       "    </tr>\n",
       "    <tr>\n",
       "      <th>21023</th>\n",
       "      <td>124350000</td>\n",
       "      <td>248.70</td>\n",
       "    </tr>\n",
       "    <tr>\n",
       "      <th>20349</th>\n",
       "      <td>124480000</td>\n",
       "      <td>267.70</td>\n",
       "    </tr>\n",
       "    <tr>\n",
       "      <th>1928</th>\n",
       "      <td>125000000</td>\n",
       "      <td>224.50</td>\n",
       "    </tr>\n",
       "    <tr>\n",
       "      <th>21955</th>\n",
       "      <td>130000000</td>\n",
       "      <td>431.00</td>\n",
       "    </tr>\n",
       "    <tr>\n",
       "      <th>7543</th>\n",
       "      <td>130000000</td>\n",
       "      <td>307.80</td>\n",
       "    </tr>\n",
       "    <tr>\n",
       "      <th>13864</th>\n",
       "      <td>130000000</td>\n",
       "      <td>231.00</td>\n",
       "    </tr>\n",
       "    <tr>\n",
       "      <th>2243</th>\n",
       "      <td>130278280</td>\n",
       "      <td>304.00</td>\n",
       "    </tr>\n",
       "    <tr>\n",
       "      <th>7674</th>\n",
       "      <td>131000000</td>\n",
       "      <td>380.00</td>\n",
       "    </tr>\n",
       "    <tr>\n",
       "      <th>17912</th>\n",
       "      <td>135000000</td>\n",
       "      <td>166.00</td>\n",
       "    </tr>\n",
       "    <tr>\n",
       "      <th>793</th>\n",
       "      <td>135000000</td>\n",
       "      <td>310.00</td>\n",
       "    </tr>\n",
       "    <tr>\n",
       "      <th>12859</th>\n",
       "      <td>140000000</td>\n",
       "      <td>631.20</td>\n",
       "    </tr>\n",
       "    <tr>\n",
       "      <th>3117</th>\n",
       "      <td>140000000</td>\n",
       "      <td>631.00</td>\n",
       "    </tr>\n",
       "    <tr>\n",
       "      <th>12674</th>\n",
       "      <td>140000000</td>\n",
       "      <td>241.00</td>\n",
       "    </tr>\n",
       "    <tr>\n",
       "      <th>22229</th>\n",
       "      <td>148000000</td>\n",
       "      <td>256.00</td>\n",
       "    </tr>\n",
       "    <tr>\n",
       "      <th>7857</th>\n",
       "      <td>150000000</td>\n",
       "      <td>230.00</td>\n",
       "    </tr>\n",
       "    <tr>\n",
       "      <th>15016</th>\n",
       "      <td>150000000</td>\n",
       "      <td>500.00</td>\n",
       "    </tr>\n",
       "    <tr>\n",
       "      <th>1026</th>\n",
       "      <td>155000000</td>\n",
       "      <td>310.00</td>\n",
       "    </tr>\n",
       "    <tr>\n",
       "      <th>16495</th>\n",
       "      <td>159000000</td>\n",
       "      <td>260.00</td>\n",
       "    </tr>\n",
       "    <tr>\n",
       "      <th>2536</th>\n",
       "      <td>159984000</td>\n",
       "      <td>242.40</td>\n",
       "    </tr>\n",
       "    <tr>\n",
       "      <th>19155</th>\n",
       "      <td>160000000</td>\n",
       "      <td>243.00</td>\n",
       "    </tr>\n",
       "    <tr>\n",
       "      <th>19865</th>\n",
       "      <td>180000000</td>\n",
       "      <td>347.00</td>\n",
       "    </tr>\n",
       "    <tr>\n",
       "      <th>8900</th>\n",
       "      <td>190870000</td>\n",
       "      <td>268.00</td>\n",
       "    </tr>\n",
       "    <tr>\n",
       "      <th>5893</th>\n",
       "      <td>230000000</td>\n",
       "      <td>500.00</td>\n",
       "    </tr>\n",
       "    <tr>\n",
       "      <th>13749</th>\n",
       "      <td>240000000</td>\n",
       "      <td>410.00</td>\n",
       "    </tr>\n",
       "    <tr>\n",
       "      <th>16461</th>\n",
       "      <td>245000000</td>\n",
       "      <td>285.70</td>\n",
       "    </tr>\n",
       "    <tr>\n",
       "      <th>22831</th>\n",
       "      <td>289238400</td>\n",
       "      <td>187.50</td>\n",
       "    </tr>\n",
       "    <tr>\n",
       "      <th>15651</th>\n",
       "      <td>300000000</td>\n",
       "      <td>618.00</td>\n",
       "    </tr>\n",
       "    <tr>\n",
       "      <th>1436</th>\n",
       "      <td>330000000</td>\n",
       "      <td>190.00</td>\n",
       "    </tr>\n",
       "    <tr>\n",
       "      <th>14706</th>\n",
       "      <td>401300000</td>\n",
       "      <td>401.00</td>\n",
       "    </tr>\n",
       "    <tr>\n",
       "      <th>19540</th>\n",
       "      <td>420000000</td>\n",
       "      <td>900.00</td>\n",
       "    </tr>\n",
       "    <tr>\n",
       "      <th>12971</th>\n",
       "      <td>763000000</td>\n",
       "      <td>400.00</td>\n",
       "    </tr>\n",
       "  </tbody>\n",
       "</table>\n",
       "</div>"
      ],
      "text/plain": [
       "       last_price           total_area\n",
       "8793        12190               109.00\n",
       "21923   115490000               235.00\n",
       "1188    118000000               290.60\n",
       "20264   119000000               187.60\n",
       "1300    120000000               280.00\n",
       "16647   122000000               145.00\n",
       "4996    124000000               124.50\n",
       "21023   124350000               248.70\n",
       "20349   124480000               267.70\n",
       "1928    125000000               224.50\n",
       "21955   130000000               431.00\n",
       "7543    130000000               307.80\n",
       "13864   130000000               231.00\n",
       "2243    130278280               304.00\n",
       "7674    131000000               380.00\n",
       "17912   135000000               166.00\n",
       "793     135000000               310.00\n",
       "12859   140000000               631.20\n",
       "3117    140000000               631.00\n",
       "12674   140000000               241.00\n",
       "22229   148000000               256.00\n",
       "7857    150000000               230.00\n",
       "15016   150000000               500.00\n",
       "1026    155000000               310.00\n",
       "16495   159000000               260.00\n",
       "2536    159984000               242.40\n",
       "19155   160000000               243.00\n",
       "19865   180000000               347.00\n",
       "8900    190870000               268.00\n",
       "5893    230000000               500.00\n",
       "13749   240000000               410.00\n",
       "16461   245000000               285.70\n",
       "22831   289238400               187.50\n",
       "15651   300000000               618.00\n",
       "1436    330000000               190.00\n",
       "14706   401300000               401.00\n",
       "19540   420000000               900.00\n",
       "12971   763000000               400.00"
      ]
     },
     "metadata": {},
     "output_type": "display_data"
    }
   ],
   "source": [
    "# исследуем цены на момент снятия публикации\n",
    "print(data['last_price'].value_counts().sort_index(), '\\n-----------------------------------------')\n",
    "display(data.loc[(data['last_price'] < 100000) | (data['last_price'] > 100000000), ['last_price', 'total_area']]\n",
    "        .sort_values('last_price'))\n",
    "# удаляем аномальное значение\n",
    "data['last_price'].replace(to_replace=data.loc[data['last_price'] < 100000]['last_price'].unique(), value=np.NaN, inplace=True)"
   ]
  },
  {
   "cell_type": "markdown",
   "metadata": {},
   "source": [
    "Явной ошибкой является цена 12190 руб. за квартиру общей площадью 109 м<sup>2</sup>. Удалим её. Веских оснований для признания ошибочными высоких цен нет."
   ]
  },
  {
   "cell_type": "code",
   "execution_count": 27,
   "metadata": {},
   "outputs": [
    {
     "name": "stdout",
     "output_type": "stream",
     "text": [
      "2014-11-27    19\n",
      "2014-11-29     1\n",
      "2014-12-04     2\n",
      "2014-12-05     1\n",
      "2014-12-08     8\n",
      "              ..\n",
      "2019-04-29    37\n",
      "2019-04-30    27\n",
      "2019-05-01    30\n",
      "2019-05-02    11\n",
      "2019-05-03    20\n",
      "Name: first_day_exposition, Length: 1491, dtype: int64 \n",
      "-----------------------------------------\n"
     ]
    }
   ],
   "source": [
    "# исследуем даты публикации\n",
    "print(data['first_day_exposition'].value_counts().sort_index(), '\\n-----------------------------------------')"
   ]
  },
  {
   "cell_type": "markdown",
   "metadata": {},
   "source": [
    "Даты публикации с 2014 по 2019 годы, аномалий не наблюдается."
   ]
  },
  {
   "cell_type": "code",
   "execution_count": 28,
   "metadata": {},
   "outputs": [
    {
     "name": "stdout",
     "output_type": "stream",
     "text": [
      "[1, 2, 3, 4, 5, 6, 7, 8, 9, 10, 11, 12, 13, 14, 15, 16, 17, 18, 19, 20, 21, 22, 23, 24, 25, 26, 27, 28, 29, 30, 31, 32, 33] \n",
      "-----------------------------------------\n",
      "[False, True] \n",
      "\n",
      "False    23501\n",
      "True       149\n",
      "Name: studio, dtype: int64 \n",
      "-----------------------------------------\n",
      "[False, True] \n",
      "\n",
      "False    23583\n",
      "True        67\n",
      "Name: open_plan, dtype: int64 \n",
      "-----------------------------------------\n"
     ]
    }
   ],
   "source": [
    "# исследуем информацию о номере этажа квартиры и признаках \"квартира-студия\" и \"свободная планировка\"\n",
    "print(sorted(data['floor'].unique()), '\\n-----------------------------------------')\n",
    "print(sorted(data['studio'].unique()), '\\n')\n",
    "print(data['studio'].value_counts().sort_index(), '\\n-----------------------------------------')\n",
    "print(sorted(data['open_plan'].unique()), '\\n')\n",
    "print(data['open_plan'].value_counts().sort_index(), '\\n-----------------------------------------')"
   ]
  },
  {
   "cell_type": "markdown",
   "metadata": {},
   "source": [
    "В данных о номере этажа и признаках \"квартира-студия\" и \"свободная планировка\" аномалий не наблюдается."
   ]
  },
  {
   "cell_type": "code",
   "execution_count": 29,
   "metadata": {},
   "outputs": [
    {
     "name": "stdout",
     "output_type": "stream",
     "text": [
      "[0, 1, 2, 3, 4, 5, 6, 7, 8, 9, 10, 11, 12, 14, 15, 16, 19] \n",
      "\n",
      "0      197\n",
      "1     8036\n",
      "2     7924\n",
      "3     5797\n",
      "4     1175\n",
      "5      326\n",
      "6      105\n",
      "7       59\n",
      "8       12\n",
      "9        8\n",
      "10       3\n",
      "11       2\n",
      "12       1\n",
      "14       2\n",
      "15       1\n",
      "16       1\n",
      "19       1\n",
      "Name: rooms, dtype: int64 \n",
      "-----------------------------------------\n",
      "Количество квартир с нулевым количеством комнат, не имеющих признака \"квартира-студия\" и \"свободная планировка\":\n",
      "0 \n",
      "-----------------------------------------\n",
      "Средняя площадь комнат в квартирах с количеством комнат больше 8:\n"
     ]
    },
    {
     "data": {
      "text/html": [
       "<div>\n",
       "<style scoped>\n",
       "    .dataframe tbody tr th:only-of-type {\n",
       "        vertical-align: middle;\n",
       "    }\n",
       "\n",
       "    .dataframe tbody tr th {\n",
       "        vertical-align: top;\n",
       "    }\n",
       "\n",
       "    .dataframe thead th {\n",
       "        text-align: right;\n",
       "    }\n",
       "</style>\n",
       "<table border=\"1\" class=\"dataframe\">\n",
       "  <thead>\n",
       "    <tr style=\"text-align: right;\">\n",
       "      <th></th>\n",
       "      <th>rooms</th>\n",
       "      <th>total_area</th>\n",
       "      <th>mean_sq_room</th>\n",
       "    </tr>\n",
       "  </thead>\n",
       "  <tbody>\n",
       "    <tr>\n",
       "      <th>13397</th>\n",
       "      <td>9</td>\n",
       "      <td>309.70</td>\n",
       "      <td>34.40</td>\n",
       "    </tr>\n",
       "    <tr>\n",
       "      <th>8822</th>\n",
       "      <td>9</td>\n",
       "      <td>398.00</td>\n",
       "      <td>44.20</td>\n",
       "    </tr>\n",
       "    <tr>\n",
       "      <th>8860</th>\n",
       "      <td>9</td>\n",
       "      <td>235.00</td>\n",
       "      <td>26.10</td>\n",
       "    </tr>\n",
       "    <tr>\n",
       "      <th>9550</th>\n",
       "      <td>9</td>\n",
       "      <td>313.00</td>\n",
       "      <td>34.80</td>\n",
       "    </tr>\n",
       "    <tr>\n",
       "      <th>16915</th>\n",
       "      <td>9</td>\n",
       "      <td>292.20</td>\n",
       "      <td>32.50</td>\n",
       "    </tr>\n",
       "    <tr>\n",
       "      <th>13019</th>\n",
       "      <td>9</td>\n",
       "      <td>249.90</td>\n",
       "      <td>27.80</td>\n",
       "    </tr>\n",
       "    <tr>\n",
       "      <th>20791</th>\n",
       "      <td>9</td>\n",
       "      <td>250.00</td>\n",
       "      <td>27.80</td>\n",
       "    </tr>\n",
       "    <tr>\n",
       "      <th>15151</th>\n",
       "      <td>9</td>\n",
       "      <td>400.00</td>\n",
       "      <td>44.40</td>\n",
       "    </tr>\n",
       "    <tr>\n",
       "      <th>18891</th>\n",
       "      <td>10</td>\n",
       "      <td>290.00</td>\n",
       "      <td>29.00</td>\n",
       "    </tr>\n",
       "    <tr>\n",
       "      <th>4149</th>\n",
       "      <td>10</td>\n",
       "      <td>272.60</td>\n",
       "      <td>27.30</td>\n",
       "    </tr>\n",
       "    <tr>\n",
       "      <th>18119</th>\n",
       "      <td>10</td>\n",
       "      <td>216.10</td>\n",
       "      <td>21.60</td>\n",
       "    </tr>\n",
       "    <tr>\n",
       "      <th>648</th>\n",
       "      <td>11</td>\n",
       "      <td>183.70</td>\n",
       "      <td>16.70</td>\n",
       "    </tr>\n",
       "    <tr>\n",
       "      <th>9688</th>\n",
       "      <td>11</td>\n",
       "      <td>194.10</td>\n",
       "      <td>17.60</td>\n",
       "    </tr>\n",
       "    <tr>\n",
       "      <th>19540</th>\n",
       "      <td>12</td>\n",
       "      <td>900.00</td>\n",
       "      <td>75.00</td>\n",
       "    </tr>\n",
       "    <tr>\n",
       "      <th>866</th>\n",
       "      <td>14</td>\n",
       "      <td>363.00</td>\n",
       "      <td>25.90</td>\n",
       "    </tr>\n",
       "    <tr>\n",
       "      <th>20829</th>\n",
       "      <td>14</td>\n",
       "      <td>245.40</td>\n",
       "      <td>17.50</td>\n",
       "    </tr>\n",
       "    <tr>\n",
       "      <th>5358</th>\n",
       "      <td>15</td>\n",
       "      <td>590.00</td>\n",
       "      <td>39.30</td>\n",
       "    </tr>\n",
       "    <tr>\n",
       "      <th>18848</th>\n",
       "      <td>16</td>\n",
       "      <td>270.00</td>\n",
       "      <td>16.90</td>\n",
       "    </tr>\n",
       "    <tr>\n",
       "      <th>14498</th>\n",
       "      <td>19</td>\n",
       "      <td>374.60</td>\n",
       "      <td>19.70</td>\n",
       "    </tr>\n",
       "  </tbody>\n",
       "</table>\n",
       "</div>"
      ],
      "text/plain": [
       "       rooms           total_area         mean_sq_room\n",
       "13397      9               309.70                34.40\n",
       "8822       9               398.00                44.20\n",
       "8860       9               235.00                26.10\n",
       "9550       9               313.00                34.80\n",
       "16915      9               292.20                32.50\n",
       "13019      9               249.90                27.80\n",
       "20791      9               250.00                27.80\n",
       "15151      9               400.00                44.40\n",
       "18891     10               290.00                29.00\n",
       "4149      10               272.60                27.30\n",
       "18119     10               216.10                21.60\n",
       "648       11               183.70                16.70\n",
       "9688      11               194.10                17.60\n",
       "19540     12               900.00                75.00\n",
       "866       14               363.00                25.90\n",
       "20829     14               245.40                17.50\n",
       "5358      15               590.00                39.30\n",
       "18848     16               270.00                16.90\n",
       "14498     19               374.60                19.70"
      ]
     },
     "metadata": {},
     "output_type": "display_data"
    }
   ],
   "source": [
    "# исследуем информацию о количестве комнат\n",
    "print(sorted(data['rooms'].unique()), '\\n')\n",
    "print(data['rooms'].value_counts().sort_index(), '\\n-----------------------------------------')\n",
    "print('Количество квартир с нулевым количеством комнат, не имеющих признака \"квартира-студия\" и \"свободная планировка\":')\n",
    "print(data.loc[(data['rooms'] == 0) & ~((data['studio'] == True) | (data['open_plan'] == True))]['rooms'].count(), \n",
    "      '\\n-----------------------------------------')\n",
    "print('Средняя площадь комнат в квартирах с количеством комнат больше 8:')\n",
    "_ = data.loc[data['rooms'] > 8, ['rooms', 'total_area']]\n",
    "_['mean_sq_room'] = _['total_area'] / _['rooms']\n",
    "display(_.round(decimals=1).sort_values(by='rooms'))"
   ]
  },
  {
   "cell_type": "markdown",
   "metadata": {},
   "source": [
    "В данных о количестве комнат аномальных значений не наблюдается."
   ]
  },
  {
   "cell_type": "markdown",
   "metadata": {},
   "source": [
    "### 2.5. <a id='toc2_5_'></a>[Добавление новых столбцов](#toc0_)"
   ]
  },
  {
   "cell_type": "code",
   "execution_count": 30,
   "metadata": {
    "scrolled": false
   },
   "outputs": [
    {
     "data": {
      "text/html": [
       "<div>\n",
       "<style scoped>\n",
       "    .dataframe tbody tr th:only-of-type {\n",
       "        vertical-align: middle;\n",
       "    }\n",
       "\n",
       "    .dataframe tbody tr th {\n",
       "        vertical-align: top;\n",
       "    }\n",
       "\n",
       "    .dataframe thead th {\n",
       "        text-align: right;\n",
       "    }\n",
       "</style>\n",
       "<table border=\"1\" class=\"dataframe\">\n",
       "  <thead>\n",
       "    <tr style=\"text-align: right;\">\n",
       "      <th></th>\n",
       "      <th>total_images</th>\n",
       "      <th>last_price</th>\n",
       "      <th>total_area</th>\n",
       "      <th>first_day_exposition</th>\n",
       "      <th>rooms</th>\n",
       "      <th>ceiling_height</th>\n",
       "      <th>floors_total</th>\n",
       "      <th>living_area</th>\n",
       "      <th>floor</th>\n",
       "      <th>is_apartment</th>\n",
       "      <th>studio</th>\n",
       "      <th>open_plan</th>\n",
       "      <th>kitchen_area</th>\n",
       "      <th>balcony</th>\n",
       "      <th>locality_name</th>\n",
       "      <th>airports_nearest</th>\n",
       "      <th>cityCenters_nearest</th>\n",
       "      <th>parks_around3000</th>\n",
       "      <th>parks_nearest</th>\n",
       "      <th>ponds_around3000</th>\n",
       "      <th>ponds_nearest</th>\n",
       "      <th>days_exposition</th>\n",
       "      <th>one_metre_price</th>\n",
       "      <th>weekday</th>\n",
       "      <th>day</th>\n",
       "      <th>month</th>\n",
       "      <th>year</th>\n",
       "      <th>type_floor</th>\n",
       "      <th>citycenters_nearest</th>\n",
       "    </tr>\n",
       "  </thead>\n",
       "  <tbody>\n",
       "    <tr>\n",
       "      <th>0</th>\n",
       "      <td>20</td>\n",
       "      <td>13,000,000.00</td>\n",
       "      <td>108.00</td>\n",
       "      <td>2019-03-07</td>\n",
       "      <td>3</td>\n",
       "      <td>2.70</td>\n",
       "      <td>16</td>\n",
       "      <td>51.00</td>\n",
       "      <td>8</td>\n",
       "      <td>True</td>\n",
       "      <td>False</td>\n",
       "      <td>False</td>\n",
       "      <td>25.00</td>\n",
       "      <td>0</td>\n",
       "      <td>Санкт-Петербург</td>\n",
       "      <td>18,863.00</td>\n",
       "      <td>16,028.00</td>\n",
       "      <td>1</td>\n",
       "      <td>482.00</td>\n",
       "      <td>2</td>\n",
       "      <td>755.00</td>\n",
       "      <td>NaN</td>\n",
       "      <td>120,370.37</td>\n",
       "      <td>3</td>\n",
       "      <td>7</td>\n",
       "      <td>3</td>\n",
       "      <td>2019</td>\n",
       "      <td>другой</td>\n",
       "      <td>16.00</td>\n",
       "    </tr>\n",
       "    <tr>\n",
       "      <th>1</th>\n",
       "      <td>7</td>\n",
       "      <td>3,350,000.00</td>\n",
       "      <td>40.40</td>\n",
       "      <td>2018-12-04</td>\n",
       "      <td>1</td>\n",
       "      <td>NaN</td>\n",
       "      <td>11</td>\n",
       "      <td>18.60</td>\n",
       "      <td>1</td>\n",
       "      <td>True</td>\n",
       "      <td>False</td>\n",
       "      <td>False</td>\n",
       "      <td>11.00</td>\n",
       "      <td>2</td>\n",
       "      <td>посeлок Шушары</td>\n",
       "      <td>12,817.00</td>\n",
       "      <td>18,603.00</td>\n",
       "      <td>0</td>\n",
       "      <td>NaN</td>\n",
       "      <td>0</td>\n",
       "      <td>NaN</td>\n",
       "      <td>81.00</td>\n",
       "      <td>82,920.79</td>\n",
       "      <td>1</td>\n",
       "      <td>4</td>\n",
       "      <td>12</td>\n",
       "      <td>2018</td>\n",
       "      <td>первый</td>\n",
       "      <td>19.00</td>\n",
       "    </tr>\n",
       "    <tr>\n",
       "      <th>2</th>\n",
       "      <td>10</td>\n",
       "      <td>5,196,000.00</td>\n",
       "      <td>56.00</td>\n",
       "      <td>2015-08-20</td>\n",
       "      <td>2</td>\n",
       "      <td>NaN</td>\n",
       "      <td>5</td>\n",
       "      <td>34.30</td>\n",
       "      <td>4</td>\n",
       "      <td>True</td>\n",
       "      <td>False</td>\n",
       "      <td>False</td>\n",
       "      <td>8.30</td>\n",
       "      <td>0</td>\n",
       "      <td>Санкт-Петербург</td>\n",
       "      <td>21,741.00</td>\n",
       "      <td>13,933.00</td>\n",
       "      <td>1</td>\n",
       "      <td>90.00</td>\n",
       "      <td>2</td>\n",
       "      <td>574.00</td>\n",
       "      <td>558.00</td>\n",
       "      <td>92,785.71</td>\n",
       "      <td>3</td>\n",
       "      <td>20</td>\n",
       "      <td>8</td>\n",
       "      <td>2015</td>\n",
       "      <td>другой</td>\n",
       "      <td>14.00</td>\n",
       "    </tr>\n",
       "    <tr>\n",
       "      <th>3</th>\n",
       "      <td>0</td>\n",
       "      <td>64,900,000.00</td>\n",
       "      <td>159.00</td>\n",
       "      <td>2015-07-24</td>\n",
       "      <td>3</td>\n",
       "      <td>NaN</td>\n",
       "      <td>14</td>\n",
       "      <td>NaN</td>\n",
       "      <td>9</td>\n",
       "      <td>True</td>\n",
       "      <td>False</td>\n",
       "      <td>False</td>\n",
       "      <td>NaN</td>\n",
       "      <td>0</td>\n",
       "      <td>Санкт-Петербург</td>\n",
       "      <td>28,098.00</td>\n",
       "      <td>6,800.00</td>\n",
       "      <td>2</td>\n",
       "      <td>84.00</td>\n",
       "      <td>3</td>\n",
       "      <td>234.00</td>\n",
       "      <td>424.00</td>\n",
       "      <td>408,176.10</td>\n",
       "      <td>4</td>\n",
       "      <td>24</td>\n",
       "      <td>7</td>\n",
       "      <td>2015</td>\n",
       "      <td>другой</td>\n",
       "      <td>7.00</td>\n",
       "    </tr>\n",
       "    <tr>\n",
       "      <th>4</th>\n",
       "      <td>2</td>\n",
       "      <td>10,000,000.00</td>\n",
       "      <td>100.00</td>\n",
       "      <td>2018-06-19</td>\n",
       "      <td>2</td>\n",
       "      <td>3.03</td>\n",
       "      <td>14</td>\n",
       "      <td>32.00</td>\n",
       "      <td>13</td>\n",
       "      <td>True</td>\n",
       "      <td>False</td>\n",
       "      <td>False</td>\n",
       "      <td>41.00</td>\n",
       "      <td>0</td>\n",
       "      <td>Санкт-Петербург</td>\n",
       "      <td>31,856.00</td>\n",
       "      <td>8,098.00</td>\n",
       "      <td>2</td>\n",
       "      <td>112.00</td>\n",
       "      <td>1</td>\n",
       "      <td>48.00</td>\n",
       "      <td>121.00</td>\n",
       "      <td>100,000.00</td>\n",
       "      <td>1</td>\n",
       "      <td>19</td>\n",
       "      <td>6</td>\n",
       "      <td>2018</td>\n",
       "      <td>другой</td>\n",
       "      <td>8.00</td>\n",
       "    </tr>\n",
       "    <tr>\n",
       "      <th>...</th>\n",
       "      <td>...</td>\n",
       "      <td>...</td>\n",
       "      <td>...</td>\n",
       "      <td>...</td>\n",
       "      <td>...</td>\n",
       "      <td>...</td>\n",
       "      <td>...</td>\n",
       "      <td>...</td>\n",
       "      <td>...</td>\n",
       "      <td>...</td>\n",
       "      <td>...</td>\n",
       "      <td>...</td>\n",
       "      <td>...</td>\n",
       "      <td>...</td>\n",
       "      <td>...</td>\n",
       "      <td>...</td>\n",
       "      <td>...</td>\n",
       "      <td>...</td>\n",
       "      <td>...</td>\n",
       "      <td>...</td>\n",
       "      <td>...</td>\n",
       "      <td>...</td>\n",
       "      <td>...</td>\n",
       "      <td>...</td>\n",
       "      <td>...</td>\n",
       "      <td>...</td>\n",
       "      <td>...</td>\n",
       "      <td>...</td>\n",
       "      <td>...</td>\n",
       "    </tr>\n",
       "    <tr>\n",
       "      <th>23694</th>\n",
       "      <td>9</td>\n",
       "      <td>9,700,000.00</td>\n",
       "      <td>133.81</td>\n",
       "      <td>2017-03-21</td>\n",
       "      <td>3</td>\n",
       "      <td>3.70</td>\n",
       "      <td>5</td>\n",
       "      <td>73.30</td>\n",
       "      <td>3</td>\n",
       "      <td>True</td>\n",
       "      <td>False</td>\n",
       "      <td>False</td>\n",
       "      <td>13.83</td>\n",
       "      <td>0</td>\n",
       "      <td>Санкт-Петербург</td>\n",
       "      <td>24,665.00</td>\n",
       "      <td>4,232.00</td>\n",
       "      <td>1</td>\n",
       "      <td>796.00</td>\n",
       "      <td>3</td>\n",
       "      <td>381.00</td>\n",
       "      <td>NaN</td>\n",
       "      <td>72,490.85</td>\n",
       "      <td>1</td>\n",
       "      <td>21</td>\n",
       "      <td>3</td>\n",
       "      <td>2017</td>\n",
       "      <td>другой</td>\n",
       "      <td>4.00</td>\n",
       "    </tr>\n",
       "    <tr>\n",
       "      <th>23695</th>\n",
       "      <td>14</td>\n",
       "      <td>3,100,000.00</td>\n",
       "      <td>59.00</td>\n",
       "      <td>2018-01-15</td>\n",
       "      <td>3</td>\n",
       "      <td>NaN</td>\n",
       "      <td>5</td>\n",
       "      <td>38.00</td>\n",
       "      <td>4</td>\n",
       "      <td>True</td>\n",
       "      <td>False</td>\n",
       "      <td>False</td>\n",
       "      <td>8.50</td>\n",
       "      <td>0</td>\n",
       "      <td>Тосно</td>\n",
       "      <td>NaN</td>\n",
       "      <td>NaN</td>\n",
       "      <td>&lt;NA&gt;</td>\n",
       "      <td>NaN</td>\n",
       "      <td>&lt;NA&gt;</td>\n",
       "      <td>NaN</td>\n",
       "      <td>45.00</td>\n",
       "      <td>52,542.37</td>\n",
       "      <td>0</td>\n",
       "      <td>15</td>\n",
       "      <td>1</td>\n",
       "      <td>2018</td>\n",
       "      <td>другой</td>\n",
       "      <td>NaN</td>\n",
       "    </tr>\n",
       "    <tr>\n",
       "      <th>23696</th>\n",
       "      <td>18</td>\n",
       "      <td>2,500,000.00</td>\n",
       "      <td>56.70</td>\n",
       "      <td>2018-02-11</td>\n",
       "      <td>2</td>\n",
       "      <td>NaN</td>\n",
       "      <td>3</td>\n",
       "      <td>29.70</td>\n",
       "      <td>1</td>\n",
       "      <td>True</td>\n",
       "      <td>False</td>\n",
       "      <td>False</td>\n",
       "      <td>NaN</td>\n",
       "      <td>0</td>\n",
       "      <td>село Рождествено</td>\n",
       "      <td>NaN</td>\n",
       "      <td>NaN</td>\n",
       "      <td>&lt;NA&gt;</td>\n",
       "      <td>NaN</td>\n",
       "      <td>&lt;NA&gt;</td>\n",
       "      <td>NaN</td>\n",
       "      <td>NaN</td>\n",
       "      <td>44,091.71</td>\n",
       "      <td>6</td>\n",
       "      <td>11</td>\n",
       "      <td>2</td>\n",
       "      <td>2018</td>\n",
       "      <td>первый</td>\n",
       "      <td>NaN</td>\n",
       "    </tr>\n",
       "    <tr>\n",
       "      <th>23697</th>\n",
       "      <td>13</td>\n",
       "      <td>11,475,000.00</td>\n",
       "      <td>76.75</td>\n",
       "      <td>2017-03-28</td>\n",
       "      <td>2</td>\n",
       "      <td>3.00</td>\n",
       "      <td>17</td>\n",
       "      <td>NaN</td>\n",
       "      <td>12</td>\n",
       "      <td>True</td>\n",
       "      <td>False</td>\n",
       "      <td>False</td>\n",
       "      <td>23.30</td>\n",
       "      <td>2</td>\n",
       "      <td>Санкт-Петербург</td>\n",
       "      <td>39,140.00</td>\n",
       "      <td>10,364.00</td>\n",
       "      <td>2</td>\n",
       "      <td>173.00</td>\n",
       "      <td>3</td>\n",
       "      <td>196.00</td>\n",
       "      <td>602.00</td>\n",
       "      <td>149,511.40</td>\n",
       "      <td>1</td>\n",
       "      <td>28</td>\n",
       "      <td>3</td>\n",
       "      <td>2017</td>\n",
       "      <td>другой</td>\n",
       "      <td>10.00</td>\n",
       "    </tr>\n",
       "    <tr>\n",
       "      <th>23698</th>\n",
       "      <td>4</td>\n",
       "      <td>1,350,000.00</td>\n",
       "      <td>32.30</td>\n",
       "      <td>2017-07-21</td>\n",
       "      <td>1</td>\n",
       "      <td>2.50</td>\n",
       "      <td>5</td>\n",
       "      <td>12.30</td>\n",
       "      <td>1</td>\n",
       "      <td>True</td>\n",
       "      <td>False</td>\n",
       "      <td>False</td>\n",
       "      <td>9.00</td>\n",
       "      <td>0</td>\n",
       "      <td>поселок Новый Учхоз</td>\n",
       "      <td>NaN</td>\n",
       "      <td>NaN</td>\n",
       "      <td>&lt;NA&gt;</td>\n",
       "      <td>NaN</td>\n",
       "      <td>&lt;NA&gt;</td>\n",
       "      <td>NaN</td>\n",
       "      <td>NaN</td>\n",
       "      <td>41,795.67</td>\n",
       "      <td>4</td>\n",
       "      <td>21</td>\n",
       "      <td>7</td>\n",
       "      <td>2017</td>\n",
       "      <td>первый</td>\n",
       "      <td>NaN</td>\n",
       "    </tr>\n",
       "  </tbody>\n",
       "</table>\n",
       "<p>23650 rows × 29 columns</p>\n",
       "</div>"
      ],
      "text/plain": [
       "       total_images           last_price           total_area  \\\n",
       "0                20        13,000,000.00               108.00   \n",
       "1                 7         3,350,000.00                40.40   \n",
       "2                10         5,196,000.00                56.00   \n",
       "3                 0        64,900,000.00               159.00   \n",
       "4                 2        10,000,000.00               100.00   \n",
       "...             ...                  ...                  ...   \n",
       "23694             9         9,700,000.00               133.81   \n",
       "23695            14         3,100,000.00                59.00   \n",
       "23696            18         2,500,000.00                56.70   \n",
       "23697            13        11,475,000.00                76.75   \n",
       "23698             4         1,350,000.00                32.30   \n",
       "\n",
       "      first_day_exposition  rooms       ceiling_height  floors_total  \\\n",
       "0               2019-03-07      3                 2.70            16   \n",
       "1               2018-12-04      1                  NaN            11   \n",
       "2               2015-08-20      2                  NaN             5   \n",
       "3               2015-07-24      3                  NaN            14   \n",
       "4               2018-06-19      2                 3.03            14   \n",
       "...                    ...    ...                  ...           ...   \n",
       "23694           2017-03-21      3                 3.70             5   \n",
       "23695           2018-01-15      3                  NaN             5   \n",
       "23696           2018-02-11      2                  NaN             3   \n",
       "23697           2017-03-28      2                 3.00            17   \n",
       "23698           2017-07-21      1                 2.50             5   \n",
       "\n",
       "               living_area  floor  is_apartment  studio  open_plan  \\\n",
       "0                    51.00      8          True   False      False   \n",
       "1                    18.60      1          True   False      False   \n",
       "2                    34.30      4          True   False      False   \n",
       "3                      NaN      9          True   False      False   \n",
       "4                    32.00     13          True   False      False   \n",
       "...                    ...    ...           ...     ...        ...   \n",
       "23694                73.30      3          True   False      False   \n",
       "23695                38.00      4          True   False      False   \n",
       "23696                29.70      1          True   False      False   \n",
       "23697                  NaN     12          True   False      False   \n",
       "23698                12.30      1          True   False      False   \n",
       "\n",
       "              kitchen_area  balcony        locality_name     airports_nearest  \\\n",
       "0                    25.00        0      Санкт-Петербург            18,863.00   \n",
       "1                    11.00        2       посeлок Шушары            12,817.00   \n",
       "2                     8.30        0      Санкт-Петербург            21,741.00   \n",
       "3                      NaN        0      Санкт-Петербург            28,098.00   \n",
       "4                    41.00        0      Санкт-Петербург            31,856.00   \n",
       "...                    ...      ...                  ...                  ...   \n",
       "23694                13.83        0      Санкт-Петербург            24,665.00   \n",
       "23695                 8.50        0                Тосно                  NaN   \n",
       "23696                  NaN        0     село Рождествено                  NaN   \n",
       "23697                23.30        2      Санкт-Петербург            39,140.00   \n",
       "23698                 9.00        0  поселок Новый Учхоз                  NaN   \n",
       "\n",
       "       cityCenters_nearest  parks_around3000        parks_nearest  \\\n",
       "0                16,028.00                 1               482.00   \n",
       "1                18,603.00                 0                  NaN   \n",
       "2                13,933.00                 1                90.00   \n",
       "3                 6,800.00                 2                84.00   \n",
       "4                 8,098.00                 2               112.00   \n",
       "...                    ...               ...                  ...   \n",
       "23694             4,232.00                 1               796.00   \n",
       "23695                  NaN              <NA>                  NaN   \n",
       "23696                  NaN              <NA>                  NaN   \n",
       "23697            10,364.00                 2               173.00   \n",
       "23698                  NaN              <NA>                  NaN   \n",
       "\n",
       "       ponds_around3000        ponds_nearest      days_exposition  \\\n",
       "0                     2               755.00                  NaN   \n",
       "1                     0                  NaN                81.00   \n",
       "2                     2               574.00               558.00   \n",
       "3                     3               234.00               424.00   \n",
       "4                     1                48.00               121.00   \n",
       "...                 ...                  ...                  ...   \n",
       "23694                 3               381.00                  NaN   \n",
       "23695              <NA>                  NaN                45.00   \n",
       "23696              <NA>                  NaN                  NaN   \n",
       "23697                 3               196.00               602.00   \n",
       "23698              <NA>                  NaN                  NaN   \n",
       "\n",
       "           one_metre_price  weekday  day  month  year type_floor  \\\n",
       "0               120,370.37        3    7      3  2019     другой   \n",
       "1                82,920.79        1    4     12  2018     первый   \n",
       "2                92,785.71        3   20      8  2015     другой   \n",
       "3               408,176.10        4   24      7  2015     другой   \n",
       "4               100,000.00        1   19      6  2018     другой   \n",
       "...                    ...      ...  ...    ...   ...        ...   \n",
       "23694            72,490.85        1   21      3  2017     другой   \n",
       "23695            52,542.37        0   15      1  2018     другой   \n",
       "23696            44,091.71        6   11      2  2018     первый   \n",
       "23697           149,511.40        1   28      3  2017     другой   \n",
       "23698            41,795.67        4   21      7  2017     первый   \n",
       "\n",
       "       citycenters_nearest  \n",
       "0                    16.00  \n",
       "1                    19.00  \n",
       "2                    14.00  \n",
       "3                     7.00  \n",
       "4                     8.00  \n",
       "...                    ...  \n",
       "23694                 4.00  \n",
       "23695                  NaN  \n",
       "23696                  NaN  \n",
       "23697                10.00  \n",
       "23698                  NaN  \n",
       "\n",
       "[23650 rows x 29 columns]"
      ]
     },
     "metadata": {},
     "output_type": "display_data"
    }
   ],
   "source": [
    "# добавление цены одного квадратного метра\n",
    "data['one_metre_price'] = data['last_price'] / data['total_area']\n",
    "# добавление деня недели публикации объявления (0 — понедельник, 1 — вторник и так далее)\n",
    "data['weekday'] = data['first_day_exposition'].dt.weekday\n",
    "# добавление дня публикации объявления\n",
    "data['day'] = pd.DatetimeIndex(data['first_day_exposition']).day\n",
    "# добавление месяца публикации объявления\n",
    "data['month'] = pd.DatetimeIndex(data['first_day_exposition']).month\n",
    "# добавление года публикации объявления\n",
    "data['year'] = pd.DatetimeIndex(data['first_day_exposition']).year\n",
    "# добавление типа этажа квартиры (значения — «первый», «последний», «другой»)\n",
    "data.insert(loc=27, column='type_floor', value='другой')\n",
    "data.loc[data['floor'] == 1, ['type_floor']] = 'первый'\n",
    "data.loc[(data['floors_total'] - data['floor']) == 0, ['type_floor']] = 'последний'\n",
    "data.loc[data['floors_total'].isna(), ['type_floor']] = np.NaN\n",
    "# перевод в километры и округление до целых расстояния до центра города\n",
    "data['citycenters_nearest'] = (data['cityCenters_nearest'] / 1000).round(0)\n",
    "\n",
    "pd.set_option('display.max_columns', None)\n",
    "display(data)\n",
    "pd.reset_option('display.max_columns')"
   ]
  },
  {
   "cell_type": "markdown",
   "metadata": {},
   "source": [
    "### 2.6. <a id='toc2_6_'></a>[Вывод по разделу 2](#toc0_)\n",
    "Выполнена предобработка данных, включающая в себя изучение и заполнение пропусков в данных, исследование и корректировка аномальных значений и типов данных, осуществлена проверка на наличие дубликатов записей, в таблицу добавлены вспомогательные столбцы, необходимые для дальнейшего анализа."
   ]
  },
  {
   "cell_type": "markdown",
   "metadata": {},
   "source": [
    "## 3. <a id='toc3_'></a>[Исследовательский анализ данных и ответы на вопросы](#toc0_)\n",
    "\n",
    "### 3.1. <a id='toc3_1_'></a>[Изучение параметров объектов (квартир)](#toc0_)\n",
    "\n",
    "Рассмотрим имеющиеся в базе данных характеристики и параметры квартир, используем графический анализ, определим основные закономерности."
   ]
  },
  {
   "cell_type": "code",
   "execution_count": 31,
   "metadata": {
    "scrolled": false
   },
   "outputs": [
    {
     "data": {
      "image/png": "[encoded data removed]",
      "text/plain": [
       "<Figure size 792x288 with 3 Axes>"
      ]
     },
     "metadata": {
      "needs_background": "light"
     },
     "output_type": "display_data"
    },
    {
     "data": {
      "text/html": [
       "<div>\n",
       "<style scoped>\n",
       "    .dataframe tbody tr th:only-of-type {\n",
       "        vertical-align: middle;\n",
       "    }\n",
       "\n",
       "    .dataframe tbody tr th {\n",
       "        vertical-align: top;\n",
       "    }\n",
       "\n",
       "    .dataframe thead th {\n",
       "        text-align: right;\n",
       "    }\n",
       "</style>\n",
       "<table border=\"1\" class=\"dataframe\">\n",
       "  <thead>\n",
       "    <tr style=\"text-align: right;\">\n",
       "      <th></th>\n",
       "      <th>mean</th>\n",
       "      <th>median</th>\n",
       "      <th>mode</th>\n",
       "    </tr>\n",
       "  </thead>\n",
       "  <tbody>\n",
       "    <tr>\n",
       "      <th>total_area</th>\n",
       "      <td>60.00</td>\n",
       "      <td>52.00</td>\n",
       "      <td>45.00</td>\n",
       "    </tr>\n",
       "    <tr>\n",
       "      <th>living_area</th>\n",
       "      <td>34.00</td>\n",
       "      <td>30.00</td>\n",
       "      <td>18.00</td>\n",
       "    </tr>\n",
       "    <tr>\n",
       "      <th>kitchen_area</th>\n",
       "      <td>11.00</td>\n",
       "      <td>9.00</td>\n",
       "      <td>6.00</td>\n",
       "    </tr>\n",
       "  </tbody>\n",
       "</table>\n",
       "</div>"
      ],
      "text/plain": [
       "                             mean               median                 mode\n",
       "total_area                  60.00                52.00                45.00\n",
       "living_area                 34.00                30.00                18.00\n",
       "kitchen_area                11.00                 9.00                 6.00"
      ]
     },
     "metadata": {},
     "output_type": "display_data"
    },
    {
     "data": {
      "image/png": "[encoded data removed]",
      "text/plain": [
       "<Figure size 792x288 with 1 Axes>"
      ]
     },
     "metadata": {
      "needs_background": "light"
     },
     "output_type": "display_data"
    },
    {
     "data": {
      "image/png": "[encoded data removed]",
      "text/plain": [
       "<Figure size 792x288 with 1 Axes>"
      ]
     },
     "metadata": {
      "needs_background": "light"
     },
     "output_type": "display_data"
    }
   ],
   "source": [
    "data[['total_area', 'living_area', 'kitchen_area']].plot(kind='hist', title='Площади квартир (общая, жилая, кухня)', grid=True,\n",
    "                                                         subplots=True, layout=(1, 3), range=(5, 250), bins=250, figsize=(11, 4))\n",
    "plt.show()\n",
    "mmm(['total_area', 'living_area', 'kitchen_area'])\n",
    "data['living_area'].plot(kind='hist', title='Жилая площадь', range=(0, 110), bins=110, figsize=(11, 4), grid=True)\n",
    "plt.show()\n",
    "data['kitchen_area'].plot(kind='hist', title='Площадь кухни', range=(0, 32), bins=32, figsize=(11, 4), grid=True)\n",
    "plt.show()"
   ]
  },
  {
   "cell_type": "markdown",
   "metadata": {},
   "source": [
    "Все три гистограммы плащадей (общая, жилая, кухня) имеют положительную асимметрию (наклон вправо), что обусловлено преобладанием на рынке недвижимости квартир с меньшей площадью до 80 м<sup>2</sup>. На всех графиках (особенно на гистограмме жилой площади) наблюдаются провалы, причиной которых является то, что массовое строительство исторически велось типовым проектам, количество которых не особо большое.  \n",
    "Среднее значение, медиана и мода для всех плащадей показаны в таблице."
   ]
  },
  {
   "cell_type": "code",
   "execution_count": 32,
   "metadata": {},
   "outputs": [
    {
     "data": {
      "text/html": [
       "<div>\n",
       "<style scoped>\n",
       "    .dataframe tbody tr th:only-of-type {\n",
       "        vertical-align: middle;\n",
       "    }\n",
       "\n",
       "    .dataframe tbody tr th {\n",
       "        vertical-align: top;\n",
       "    }\n",
       "\n",
       "    .dataframe thead th {\n",
       "        text-align: right;\n",
       "    }\n",
       "</style>\n",
       "<table border=\"1\" class=\"dataframe\">\n",
       "  <thead>\n",
       "    <tr style=\"text-align: right;\">\n",
       "      <th></th>\n",
       "      <th>mean</th>\n",
       "      <th>median</th>\n",
       "      <th>mode</th>\n",
       "    </tr>\n",
       "  </thead>\n",
       "  <tbody>\n",
       "    <tr>\n",
       "      <th>last_price</th>\n",
       "      <td>6,541,403.00</td>\n",
       "      <td>4,650,000.00</td>\n",
       "      <td>4,500,000.00</td>\n",
       "    </tr>\n",
       "  </tbody>\n",
       "</table>\n",
       "</div>"
      ],
      "text/plain": [
       "                           mean               median                 mode\n",
       "last_price         6,541,403.00         4,650,000.00         4,500,000.00"
      ]
     },
     "metadata": {},
     "output_type": "display_data"
    },
    {
     "data": {
      "image/png": "[encoded data removed]",
      "text/plain": [
       "<Figure size 792x288 with 1 Axes>"
      ]
     },
     "metadata": {
      "needs_background": "light"
     },
     "output_type": "display_data"
    }
   ],
   "source": [
    "plt.ticklabel_format(style = 'plain')\n",
    "data['last_price'].plot(kind='hist', title='Цены на квартиры', range=(0, 30000000), bins=100, figsize=(11, 4), grid=True)\n",
    "mmm(['last_price'])\n"
   ]
  },
  {
   "cell_type": "markdown",
   "metadata": {},
   "source": [
    "Цена квартир имеет практически нормальное распределение с небольшим \"хвостом\" из дорогих квартир вправо. За счет этого \"хвоста\" происходит увеличение значения средней стоимости квартиры до 6,5 млн. руб. Значения медианы и моды практически совпадают и находятся на уровне 4,5 - 4,6 млн. руб."
   ]
  },
  {
   "cell_type": "code",
   "execution_count": 33,
   "metadata": {},
   "outputs": [
    {
     "data": {
      "text/html": [
       "<div>\n",
       "<style scoped>\n",
       "    .dataframe tbody tr th:only-of-type {\n",
       "        vertical-align: middle;\n",
       "    }\n",
       "\n",
       "    .dataframe tbody tr th {\n",
       "        vertical-align: top;\n",
       "    }\n",
       "\n",
       "    .dataframe thead th {\n",
       "        text-align: right;\n",
       "    }\n",
       "</style>\n",
       "<table border=\"1\" class=\"dataframe\">\n",
       "  <thead>\n",
       "    <tr style=\"text-align: right;\">\n",
       "      <th></th>\n",
       "      <th>mean</th>\n",
       "      <th>median</th>\n",
       "      <th>mode</th>\n",
       "    </tr>\n",
       "  </thead>\n",
       "  <tbody>\n",
       "    <tr>\n",
       "      <th>rooms</th>\n",
       "      <td>2.00</td>\n",
       "      <td>2.00</td>\n",
       "      <td>1</td>\n",
       "    </tr>\n",
       "  </tbody>\n",
       "</table>\n",
       "</div>"
      ],
      "text/plain": [
       "                      mean               median mode\n",
       "rooms                 2.00                 2.00    1"
      ]
     },
     "metadata": {},
     "output_type": "display_data"
    },
    {
     "data": {
      "image/png": "[encoded data removed]",
      "text/plain": [
       "<Figure size 792x288 with 1 Axes>"
      ]
     },
     "metadata": {
      "needs_background": "light"
     },
     "output_type": "display_data"
    }
   ],
   "source": [
    "data['rooms'].plot(kind='hist', title='Количество комнат', range=(0, 10), bins=10, figsize=(11, 4), grid=True)\n",
    "mmm(['rooms'])"
   ]
  },
  {
   "cell_type": "markdown",
   "metadata": {},
   "source": [
    "Видим, что рынке недвижимости подавляющее большинство в практически равных долях составляют одно и двухкомнатные квартиры. Доля трехкомнтных квартир в полтора раза меньше. Прочие квартиры составляют меньшинство."
   ]
  },
  {
   "cell_type": "code",
   "execution_count": 34,
   "metadata": {},
   "outputs": [
    {
     "data": {
      "text/html": [
       "<div>\n",
       "<style scoped>\n",
       "    .dataframe tbody tr th:only-of-type {\n",
       "        vertical-align: middle;\n",
       "    }\n",
       "\n",
       "    .dataframe tbody tr th {\n",
       "        vertical-align: top;\n",
       "    }\n",
       "\n",
       "    .dataframe thead th {\n",
       "        text-align: right;\n",
       "    }\n",
       "</style>\n",
       "<table border=\"1\" class=\"dataframe\">\n",
       "  <thead>\n",
       "    <tr style=\"text-align: right;\">\n",
       "      <th></th>\n",
       "      <th>mean</th>\n",
       "      <th>median</th>\n",
       "      <th>mode</th>\n",
       "    </tr>\n",
       "  </thead>\n",
       "  <tbody>\n",
       "    <tr>\n",
       "      <th>ceiling_height</th>\n",
       "      <td>3.00</td>\n",
       "      <td>3.00</td>\n",
       "      <td>2.00</td>\n",
       "    </tr>\n",
       "  </tbody>\n",
       "</table>\n",
       "</div>"
      ],
      "text/plain": [
       "                               mean               median                 mode\n",
       "ceiling_height                 3.00                 3.00                 2.00"
      ]
     },
     "metadata": {},
     "output_type": "display_data"
    },
    {
     "data": {
      "image/png": "[encoded data removed]",
      "text/plain": [
       "<Figure size 792x288 with 1 Axes>"
      ]
     },
     "metadata": {
      "needs_background": "light"
     },
     "output_type": "display_data"
    }
   ],
   "source": [
    "data['ceiling_height'].plot(kind='hist', title='Высота потолков', range=(2, 4), bins=40, figsize=(11, 4), grid=True)\n",
    "mmm(['ceiling_height'])"
   ]
  },
  {
   "cell_type": "markdown",
   "metadata": {},
   "source": [
    "Распределение высот потолков резко начинается с 2,5 метров, имеет явно выраженные высоты и впадины и уходит резко ниспадающим \"хвостом\" вправо после 3 метров. Такой вид графика обусловлен стандартизованной высотой потолков в проектах массовой застройки разных лет. На распределении четко видны основные типовые высоты: 2,5; 2,6; 2,7 и 3 метра. С более чем двукратным перевесом преобладают квартиры с потолками высотой 2,5 метра, как представители наиболее массовых типовых проектов."
   ]
  },
  {
   "cell_type": "code",
   "execution_count": 35,
   "metadata": {},
   "outputs": [
    {
     "data": {
      "image/png": "[encoded data removed]",
      "text/plain": [
       "<Figure size 792x288 with 2 Axes>"
      ]
     },
     "metadata": {
      "needs_background": "light"
     },
     "output_type": "display_data"
    },
    {
     "data": {
      "text/html": [
       "<div>\n",
       "<style scoped>\n",
       "    .dataframe tbody tr th:only-of-type {\n",
       "        vertical-align: middle;\n",
       "    }\n",
       "\n",
       "    .dataframe tbody tr th {\n",
       "        vertical-align: top;\n",
       "    }\n",
       "\n",
       "    .dataframe thead th {\n",
       "        text-align: right;\n",
       "    }\n",
       "</style>\n",
       "<table border=\"1\" class=\"dataframe\">\n",
       "  <thead>\n",
       "    <tr style=\"text-align: right;\">\n",
       "      <th></th>\n",
       "      <th>mean</th>\n",
       "      <th>median</th>\n",
       "      <th>mode</th>\n",
       "    </tr>\n",
       "  </thead>\n",
       "  <tbody>\n",
       "    <tr>\n",
       "      <th>floors_total</th>\n",
       "      <td>11.00</td>\n",
       "      <td>9.00</td>\n",
       "      <td>5</td>\n",
       "    </tr>\n",
       "    <tr>\n",
       "      <th>floor</th>\n",
       "      <td>6.00</td>\n",
       "      <td>4.00</td>\n",
       "      <td>2</td>\n",
       "    </tr>\n",
       "  </tbody>\n",
       "</table>\n",
       "</div>"
      ],
      "text/plain": [
       "                             mean               median mode\n",
       "floors_total                11.00                 9.00    5\n",
       "floor                        6.00                 4.00    2"
      ]
     },
     "metadata": {},
     "output_type": "display_data"
    }
   ],
   "source": [
    "data[['floors_total', 'floor']].plot(kind='hist', title='Количество этажей в домах и этаж выставленных на продажу квартир', \n",
    "                                     grid=True, subplots=True, layout=(1, 2), range=(0, 30), bins=30, figsize=(11, 4))\n",
    "plt.show()\n",
    "mmm(['floors_total', 'floor'])"
   ]
  },
  {
   "cell_type": "code",
   "execution_count": 36,
   "metadata": {},
   "outputs": [
    {
     "data": {
      "text/plain": [
       "<AxesSubplot:title={'center':'Тип этажа квартиры («первый», «последний», «другой»)'}>"
      ]
     },
     "execution_count": 36,
     "metadata": {},
     "output_type": "execute_result"
    },
    {
     "data": {
      "image/png": "[encoded data removed]",
      "text/plain": [
       "<Figure size 792x288 with 1 Axes>"
      ]
     },
     "metadata": {
      "needs_background": "light"
     },
     "output_type": "display_data"
    }
   ],
   "source": [
    "data['type_floor'].value_counts(ascending=True).plot(kind='bar', title='Тип этажа квартиры («первый», «последний», «другой»)', \n",
    "                                                     figsize=(11, 4), grid=True)"
   ]
  },
  {
   "cell_type": "markdown",
   "metadata": {},
   "source": [
    "На графике общего количества этажей в домах снова видим влияние типовых проектов застройки. Основная масса домов - это пяти и девятиэтажки. Из прочих типовых проектов массовой застройки в примерно в равных пропорциях присутствуют 4, 10, 12, 16 и 25 этажные дома.\n",
    "\n",
    "График распределения этажей не которых расположены квартиры, выставленные на продажу напоминает распределение Пуассона. Мода равна 2, медиана равна 4, а среднее значение - 6. Такие параметры обусловлены преобладаением в регионе домов этажностью до 10 этажей.\n",
    "\n",
    "Анализ расположения выставленных на продажу квартир на предмет нахождения на первом или последнем этажах показывает, что количество продаваемых квартир на первом и последнем этажах примерно равно с небольшим преимуществом в пользу последнего этажа."
   ]
  },
  {
   "cell_type": "code",
   "execution_count": 37,
   "metadata": {},
   "outputs": [
    {
     "data": {
      "image/png": "[encoded data removed]",
      "text/plain": [
       "<Figure size 792x288 with 2 Axes>"
      ]
     },
     "metadata": {
      "needs_background": "light"
     },
     "output_type": "display_data"
    },
    {
     "data": {
      "image/png": "[encoded data removed]",
      "text/plain": [
       "<Figure size 792x288 with 2 Axes>"
      ]
     },
     "metadata": {
      "needs_background": "light"
     },
     "output_type": "display_data"
    },
    {
     "data": {
      "text/html": [
       "<div>\n",
       "<style scoped>\n",
       "    .dataframe tbody tr th:only-of-type {\n",
       "        vertical-align: middle;\n",
       "    }\n",
       "\n",
       "    .dataframe tbody tr th {\n",
       "        vertical-align: top;\n",
       "    }\n",
       "\n",
       "    .dataframe thead th {\n",
       "        text-align: right;\n",
       "    }\n",
       "</style>\n",
       "<table border=\"1\" class=\"dataframe\">\n",
       "  <thead>\n",
       "    <tr style=\"text-align: right;\">\n",
       "      <th></th>\n",
       "      <th>mean</th>\n",
       "      <th>median</th>\n",
       "      <th>mode</th>\n",
       "    </tr>\n",
       "  </thead>\n",
       "  <tbody>\n",
       "    <tr>\n",
       "      <th>cityCenters_nearest</th>\n",
       "      <td>14,198.00</td>\n",
       "      <td>13,105.00</td>\n",
       "      <td>8,460.00</td>\n",
       "    </tr>\n",
       "    <tr>\n",
       "      <th>airports_nearest</th>\n",
       "      <td>28,805.00</td>\n",
       "      <td>26,757.00</td>\n",
       "      <td>37,434.00</td>\n",
       "    </tr>\n",
       "    <tr>\n",
       "      <th>parks_nearest</th>\n",
       "      <td>491.00</td>\n",
       "      <td>454.00</td>\n",
       "      <td>441.00</td>\n",
       "    </tr>\n",
       "    <tr>\n",
       "      <th>ponds_nearest</th>\n",
       "      <td>518.00</td>\n",
       "      <td>502.00</td>\n",
       "      <td>427.00</td>\n",
       "    </tr>\n",
       "  </tbody>\n",
       "</table>\n",
       "</div>"
      ],
      "text/plain": [
       "                                    mean               median  \\\n",
       "cityCenters_nearest            14,198.00            13,105.00   \n",
       "airports_nearest               28,805.00            26,757.00   \n",
       "parks_nearest                     491.00               454.00   \n",
       "ponds_nearest                     518.00               502.00   \n",
       "\n",
       "                                    mode  \n",
       "cityCenters_nearest             8,460.00  \n",
       "airports_nearest               37,434.00  \n",
       "parks_nearest                     441.00  \n",
       "ponds_nearest                     427.00  "
      ]
     },
     "metadata": {},
     "output_type": "display_data"
    }
   ],
   "source": [
    "data[['cityCenters_nearest', 'airports_nearest']].plot(kind='hist', title='Расстояние до центра города и аэропорта', \n",
    "                                                       grid=True, subplots=True, layout=(1, 2), range=(0, 75000), \n",
    "                                                       bins=100, figsize=(11, 4))\n",
    "plt.show()\n",
    "data[['parks_nearest', 'ponds_nearest']].plot(kind='hist', title='Расстояние до ближайшего парка и водоема', \n",
    "                                              grid=True, subplots=True, layout=(1, 2), range=(0, 2500), \n",
    "                                              bins=100, figsize=(11, 4))\n",
    "plt.show()\n",
    "mmm(['cityCenters_nearest', 'airports_nearest', 'parks_nearest', 'ponds_nearest'])"
   ]
  },
  {
   "cell_type": "markdown",
   "metadata": {},
   "source": [
    "Анализируя расстояние до центра города, видим два пика. Основной на расстоянии примерно 15 км. и второй, меньший на расстоянии 5 км. Также есть небольшие всплески на расстояниях чуть больше 20 км., чуть больше 30 км. и около 50 км. обусловленные наличием в таблице городов и населенных пунктов Ленинградской области.  \n",
    "Расстояния до аэропорта начинаются от 7,5 км. Это также прогнозируемо, так как аэропорт находится за городом. Среднее расстояние около 29 км., медиана 26,5 км., а мода 37,5 км. Относительно большие расстояния до аэропорта обусловлены влиянием населенных пунктов Ленинградской области.  \n",
    "Ближайшие парки и водоемы расположены на удалении в среднем около полукилометра. Основные значения расстояний расположены в диапазоне от 0 (практически рядом) до 800 м. для парков и примерно до 1000 м. для водоемов. В части парков есть небольшой \"хвост\" значений до 2,5к., можно предположить, что это жильё, расположенное в промышленных районах."
   ]
  },
  {
   "cell_type": "code",
   "execution_count": 38,
   "metadata": {},
   "outputs": [
    {
     "data": {
      "text/plain": [
       "<AxesSubplot:title={'center':'Зависимость от дня недели'}, ylabel='Frequency'>"
      ]
     },
     "execution_count": 38,
     "metadata": {},
     "output_type": "execute_result"
    },
    {
     "data": {
      "image/png": "[encoded data removed]",
      "text/plain": [
       "<Figure size 792x288 with 1 Axes>"
      ]
     },
     "metadata": {
      "needs_background": "light"
     },
     "output_type": "display_data"
    }
   ],
   "source": [
    "fig = plt.figure(figsize=(11, 4))\n",
    "ax = fig.add_subplot()\n",
    "ax.xaxis.set_major_locator(FixedLocator([0, 1, 2, 3, 4, 5, 6, 7]))\n",
    "ax.xaxis.set_major_formatter(FixedFormatter(['понедельник', 'вторник', 'среда', 'черверг', 'пятница', \n",
    "                                             'суббота', 'воскресение']))\n",
    "data['weekday'].plot(kind='hist', title='Зависимость от дня недели', range=(0, 7), bins=7, figsize=(11,4), grid=True)"
   ]
  },
  {
   "cell_type": "code",
   "execution_count": 39,
   "metadata": {},
   "outputs": [
    {
     "data": {
      "text/plain": [
       "<AxesSubplot:title={'center':'Зависимость от дня месяца'}, ylabel='Frequency'>"
      ]
     },
     "execution_count": 39,
     "metadata": {},
     "output_type": "execute_result"
    },
    {
     "data": {
      "image/png": "[encoded data removed]",
      "text/plain": [
       "<Figure size 792x288 with 1 Axes>"
      ]
     },
     "metadata": {
      "needs_background": "light"
     },
     "output_type": "display_data"
    }
   ],
   "source": [
    "data['day'].plot(kind='hist', title='Зависимость от дня месяца', range=(1, 32), bins=31, figsize=(11,4), grid=True)"
   ]
  },
  {
   "cell_type": "code",
   "execution_count": 40,
   "metadata": {},
   "outputs": [
    {
     "data": {
      "text/plain": [
       "<AxesSubplot:title={'center':'Зависимость от месяца'}, ylabel='Frequency'>"
      ]
     },
     "execution_count": 40,
     "metadata": {},
     "output_type": "execute_result"
    },
    {
     "data": {
      "image/png": "[encoded data removed]",
      "text/plain": [
       "<Figure size 792x288 with 1 Axes>"
      ]
     },
     "metadata": {
      "needs_background": "light"
     },
     "output_type": "display_data"
    }
   ],
   "source": [
    "fig = plt.figure(figsize=(11, 4))\n",
    "ax = fig.add_subplot()\n",
    "ax.xaxis.set_major_locator(FixedLocator([1, 2, 3, 4, 5, 6, 7, 8, 9, 10, 11, 12, 13]))\n",
    "ax.xaxis.set_major_formatter(FixedFormatter(['январь', 'февраль', 'март', 'апрель', 'май', 'июнь', 'июль', 'август',\n",
    "                                            'сентябрь', 'октябрь', 'ноябрь', 'декабрь']))\n",
    "data['month'].plot(kind='hist', title='Зависимость от месяца', range=(1, 13), bins=12, figsize=(11,4), grid=True)"
   ]
  },
  {
   "cell_type": "markdown",
   "metadata": {},
   "source": [
    "Анализируя статистику подачи объявлений, можно сделать следующие выводы:\n",
    "- В выходные дни объявлений размещают меньше, чем в будни. Количество объявлений о продаже квартир растет с понедельника по пятницу и резко падает в субботу - воскресение.\n",
    "- Наибольшее количество объявлений подается в 1-ый и 10-ый день месяца. Не считая этих двух всплесков, в течение месяца объявления поступают равномерно в первую декаду в среднем немного меньше. Также происходит спад количества объявлений в самые последние дни месяца.\n",
    "- Наибольшее количество объявлений поступает в феврале, марте, апреле и ноябре. Наименьшее - в мае. Спад наблюдается в середине года (май - август) и в декабре - январе."
   ]
  },
  {
   "cell_type": "markdown",
   "metadata": {},
   "source": [
    "### 3.2. <a id='toc3_2_'></a>[Анализ сроков продажи квартир](#toc0_)"
   ]
  },
  {
   "cell_type": "code",
   "execution_count": 41,
   "metadata": {},
   "outputs": [
    {
     "name": "stdout",
     "output_type": "stream",
     "text": [
      "count              20,470.00\n",
      "mean                  181.00\n",
      "std                   220.00\n",
      "min                     1.00\n",
      "25%                    45.00\n",
      "50%                    95.00\n",
      "75%                   231.00\n",
      "max                 1,580.00\n",
      "Name: days_exposition, dtype: float64\n",
      "\n",
      "Верхняя граница статистически значимой выборки ( Q3 + 1,5 * IQR ): 510.0\n"
     ]
    },
    {
     "data": {
      "image/png": "[encoded data removed]",
      "text/plain": [
       "<Figure size 792x288 with 1 Axes>"
      ]
     },
     "metadata": {
      "needs_background": "light"
     },
     "output_type": "display_data"
    },
    {
     "data": {
      "text/html": [
       "<div>\n",
       "<style scoped>\n",
       "    .dataframe tbody tr th:only-of-type {\n",
       "        vertical-align: middle;\n",
       "    }\n",
       "\n",
       "    .dataframe tbody tr th {\n",
       "        vertical-align: top;\n",
       "    }\n",
       "\n",
       "    .dataframe thead th {\n",
       "        text-align: right;\n",
       "    }\n",
       "</style>\n",
       "<table border=\"1\" class=\"dataframe\">\n",
       "  <thead>\n",
       "    <tr style=\"text-align: right;\">\n",
       "      <th></th>\n",
       "      <th>mean</th>\n",
       "      <th>median</th>\n",
       "      <th>mode</th>\n",
       "    </tr>\n",
       "  </thead>\n",
       "  <tbody>\n",
       "    <tr>\n",
       "      <th>days_exposition</th>\n",
       "      <td>181.00</td>\n",
       "      <td>95.00</td>\n",
       "      <td>45.00</td>\n",
       "    </tr>\n",
       "  </tbody>\n",
       "</table>\n",
       "</div>"
      ],
      "text/plain": [
       "                                mean               median                 mode\n",
       "days_exposition               181.00                95.00                45.00"
      ]
     },
     "metadata": {},
     "output_type": "display_data"
    },
    {
     "data": {
      "image/png": "[encoded data removed]",
      "text/plain": [
       "<Figure size 792x288 with 1 Axes>"
      ]
     },
     "metadata": {
      "needs_background": "light"
     },
     "output_type": "display_data"
    },
    {
     "data": {
      "text/plain": [
       "<AxesSubplot:title={'center':'Первые 50% продаж (первые 95 дней)'}, ylabel='Frequency'>"
      ]
     },
     "execution_count": 41,
     "metadata": {},
     "output_type": "execute_result"
    },
    {
     "data": {
      "image/png": "[encoded data removed]",
      "text/plain": [
       "<Figure size 792x288 with 1 Axes>"
      ]
     },
     "metadata": {
      "needs_background": "light"
     },
     "output_type": "display_data"
    }
   ],
   "source": [
    "print(data['days_exposition'].describe().round())\n",
    "print()\n",
    "print('Верхняя граница статистически значимой выборки ( Q3 + 1,5 * IQR ):', 231 + 1.5 * (231 - 45))\n",
    "\n",
    "data.boxplot(column='days_exposition', grid=True, figsize=(11, 4))\n",
    "plt.show()\n",
    "\n",
    "data['days_exposition'].plot(kind='hist', title='Период продажи (время между размещением и снятием объявления)', \n",
    "                             range=(0, 1400), bins=100, figsize=(11, 4), grid=True)\n",
    "\n",
    "mmm(['days_exposition'])\n",
    "plt.show()\n",
    "data['days_exposition'].plot(kind='hist', title='Первые 50% продаж (первые 95 дней)', \n",
    "                             range=(1, 96), bins=95, figsize=(11, 4), grid=True)"
   ]
  },
  {
   "cell_type": "markdown",
   "metadata": {},
   "source": [
    "В соответствии с диаграммой размаха, расчетом квартилей и гистограммой распределения наблюдаем следующие закономерности:\n",
    "- 25% продаж осуществляется в течении первых 45 дней;\n",
    "- 50% продаж осуществляется в течении первых 95 дней;\n",
    "- 75% продаж осуществляется в течении 231 дня;\n",
    "- значения статистически значимой выборки находится в диапазоне от 0 до 510 дней, свыше 510 дней есть незначительные выбросы (вплоть до 1580 дней).\n",
    "\n",
    "У данной выборки есть несколько ключевых значений:\n",
    "- 45 дней (Q1) происходит 25% всех продаж и совпадает с модой;\n",
    "- 95 дней (медиана) происходит 50% всех продаж;\n",
    "- 181 день - среднее значение;\n",
    "- 231 день (Q3) происходит 75% всех продаж;\n",
    "- 510 дней - верхняя граница статистически значащей выборки (Q3 + 1,5 * IQR).\n",
    "\n",
    "Продажи до 45 дней (Q1) можно считать быстрыми.  \n",
    "Продажи свыше 231 дня (Q3) можно считать долгими.\n",
    "\n",
    "Отдельно проанализируем первый 50% период (первые 95 дней). На гистограмме видим очень высокий пик на 45 день, тоже высокий, но ниже по размерам пик на 60 день и небольшие пики на 7, 30 и 90 дни. Эти пики на фоне остального распределения выглядят неестетственно. Предположительно на 7, 30, 45, 60 и 90 дни после подачи объявления, происходит проверка их актуальности и закрытие. Это обстоятельство уменьшает достоверность поля \"days_exposition\" в качестве источника данных о сроках продажи объектов. "
   ]
  },
  {
   "cell_type": "markdown",
   "metadata": {},
   "source": [
    "### 3.3. <a id='toc3_3_'></a>[Исследование влияния различных факторов на стоимость объектов](#toc0_)"
   ]
  },
  {
   "cell_type": "code",
   "execution_count": 42,
   "metadata": {
    "scrolled": false
   },
   "outputs": [
    {
     "name": "stdout",
     "output_type": "stream",
     "text": [
      "count              23,649.00\n",
      "mean            6,541,403.00\n",
      "std            10,896,547.00\n",
      "min               430,000.00\n",
      "2%              1,300,000.00\n",
      "25%             3,400,000.00\n",
      "50%             4,650,000.00\n",
      "75%             6,799,000.00\n",
      "98%            25,000,000.00\n",
      "max           763,000,000.00\n",
      "Name: last_price, dtype: float64\n"
     ]
    },
    {
     "data": {
      "image/png": "[encoded data removed]",
      "text/plain": [
       "<Figure size 792x288 with 1 Axes>"
      ]
     },
     "metadata": {
      "needs_background": "light"
     },
     "output_type": "display_data"
    },
    {
     "name": "stdout",
     "output_type": "stream",
     "text": [
      "Верхняя граница статистически значимой выборки ( Q3 + 1,5 * IQR ) = 11897500.0\n",
      "Отбросим выбросы свыше 98 перцентилей (> 25 млн. руб.) и повторно построим диаграмму размаха и гистограмму распределения плотности цены.\n"
     ]
    },
    {
     "data": {
      "image/png": "[encoded data removed]",
      "text/plain": [
       "<Figure size 792x288 with 1 Axes>"
      ]
     },
     "metadata": {
      "needs_background": "light"
     },
     "output_type": "display_data"
    },
    {
     "data": {
      "text/html": [
       "<div>\n",
       "<style scoped>\n",
       "    .dataframe tbody tr th:only-of-type {\n",
       "        vertical-align: middle;\n",
       "    }\n",
       "\n",
       "    .dataframe tbody tr th {\n",
       "        vertical-align: top;\n",
       "    }\n",
       "\n",
       "    .dataframe thead th {\n",
       "        text-align: right;\n",
       "    }\n",
       "</style>\n",
       "<table border=\"1\" class=\"dataframe\">\n",
       "  <thead>\n",
       "    <tr style=\"text-align: right;\">\n",
       "      <th></th>\n",
       "      <th>mean</th>\n",
       "      <th>median</th>\n",
       "      <th>mode</th>\n",
       "    </tr>\n",
       "  </thead>\n",
       "  <tbody>\n",
       "    <tr>\n",
       "      <th>last_price</th>\n",
       "      <td>6,541,403.00</td>\n",
       "      <td>4,650,000.00</td>\n",
       "      <td>4,500,000.00</td>\n",
       "    </tr>\n",
       "  </tbody>\n",
       "</table>\n",
       "</div>"
      ],
      "text/plain": [
       "                           mean               median                 mode\n",
       "last_price         6,541,403.00         4,650,000.00         4,500,000.00"
      ]
     },
     "metadata": {},
     "output_type": "display_data"
    },
    {
     "data": {
      "image/png": "[encoded data removed]",
      "text/plain": [
       "<Figure size 792x288 with 1 Axes>"
      ]
     },
     "metadata": {
      "needs_background": "light"
     },
     "output_type": "display_data"
    }
   ],
   "source": [
    "# проанализируем данные о цене квартир\n",
    "print(data['last_price'].describe(percentiles=[.02, .25, .5, .75, .98]).round())\n",
    "\n",
    "plt.ticklabel_format(style='plain')\n",
    "data['last_price'].plot(kind='box', title='Распределение цены', grid=True, figsize=(11, 4))\n",
    "plt.show()\n",
    "print('Верхняя граница статистически значимой выборки ( Q3 + 1,5 * IQR ) =', 6799000 + 1.5 * (6799000 - 3400000))\n",
    "print('Отбросим выбросы свыше 98 перцентилей (> 25 млн. руб.) и повторно построим диаграмму размаха и гистограмму распределения плотности цены.')\n",
    "plt.ticklabel_format(style='plain')\n",
    "data.loc[data['last_price'] < 25000000, 'last_price'].plot(kind='box', title='Распределение цены в диапазоне значимых данных', \n",
    "                                                           grid=True, figsize=(11, 4))\n",
    "plt.show()\n",
    "\n",
    "plt.ticklabel_format(style='plain')\n",
    "data['last_price'].plot(kind='hist', title='Распределение цены в диапазоне значимых данных', range=(0, 25000000), bins=100, \n",
    "                        figsize=(11, 4), grid=True)\n",
    "mmm(['last_price'])\n"
   ]
  },
  {
   "cell_type": "markdown",
   "metadata": {},
   "source": [
    "Распределение цены имеет очень узкий, но длинный \"хвост\" вправо, в сторону очень дорогих квартир. Медиана значений цены составляет 4,65 млн. руб., среднее значение - 6,54 млн.руб., верхняя граница статистически значимой выборки равна 11,9 млн. руб. Дополнительно расширим верхнюю границу до 98 перцентиля (25 млн. руб.). Выбросы, имеющие более высокие единичные значения, целесообразно отбросить при анализе корреляции исследуемых факторов с ценой."
   ]
  },
  {
   "cell_type": "code",
   "execution_count": 43,
   "metadata": {
    "scrolled": false
   },
   "outputs": [
    {
     "name": "stdout",
     "output_type": "stream",
     "text": [
      "\t \t Коэффициенты корреляции\n",
      "вид площади \t общий \t в диапазоне от 0 до 98 перцентилей\n",
      "total_area \t 0.65 \t 0.78\n",
      "living_area \t 0.57 \t 0.68\n",
      "kitchen_area \t 0.52 \t 0.59\n"
     ]
    },
    {
     "data": {
      "image/png": "[encoded data removed]",
      "text/plain": [
       "<Figure size 864x216 with 3 Axes>"
      ]
     },
     "metadata": {
      "needs_background": "light"
     },
     "output_type": "display_data"
    }
   ],
   "source": [
    "# проверяем зависимость цены 'last_price' от значений столбцов: ['total_area', 'living_area', 'kitchen_area']\n",
    "\n",
    "# рассчитаем коэффициенты корреляции и построим диаграммы рассеяния для определения зависимости цены от площадей\n",
    "spisok = ['total_area', 'living_area', 'kitchen_area']\n",
    "namber = 1\n",
    "print('\\t \\t Коэффициенты корреляции')\n",
    "print('вид площади \\t общий \\t в диапазоне от 0 до 98 перцентилей')\n",
    "for stolbec in spisok:\n",
    "    print(stolbec, '\\t', np.round(data[stolbec].corr(data['last_price']), 2), \n",
    "          '\\t', np.round(data[stolbec].corr(data.loc[data['last_price'] < 25000000, 'last_price']), 2))\n",
    "    data.plot(x=stolbec, y='last_price', kind='scatter', figsize=(12, 3), ylim=(0, 25000000), \n",
    "              grid=True, ax=plt.subplot(1, 3, namber))\n",
    "    plt.ticklabel_format(style='plain')\n",
    "    plt.yticks(rotation=45)\n",
    "    namber += 1"
   ]
  },
  {
   "cell_type": "markdown",
   "metadata": {},
   "source": [
    "Цена имеет корреляцию с площадью квартиры. Наибольшую корреляцию с ценой имеет общая площадь. Более низкую корреляцию с ценой имеет жилая площадь. Самую низкую, но, тем не менее, устойчивую корреляцию из площадей, имеет площадь кухни.  \n",
    "При исключении из выборки выбросов, корреляция проявляется более отчетливо."
   ]
  },
  {
   "cell_type": "code",
   "execution_count": 44,
   "metadata": {
    "scrolled": false
   },
   "outputs": [
    {
     "name": "stdout",
     "output_type": "stream",
     "text": [
      "Коэффициент корреляции \t 0.36\n"
     ]
    },
    {
     "data": {
      "image/png": "[encoded data removed]",
      "text/plain": [
       "<Figure size 792x288 with 1 Axes>"
      ]
     },
     "metadata": {
      "needs_background": "light"
     },
     "output_type": "display_data"
    }
   ],
   "source": [
    "# проверяем зависимость цены 'last_price' от значений столбцов: ['rooms']\n",
    "\n",
    "print('Коэффициент корреляции \\t', np.round(data['rooms'].corr(data['last_price']), 2))\n",
    "\n",
    "data.plot(x='rooms', y='last_price', kind='scatter', title='Зависимость стоимости от количества комнат', \n",
    "          figsize=(11, 4), grid=True)\n",
    "plt.ticklabel_format(style='plain')\n",
    "plt.show()\n"
   ]
  },
  {
   "cell_type": "markdown",
   "metadata": {},
   "source": [
    "Коэффициент корреляции небольшой - 0,36, но диаграмма рассеяния показывает, что зависимости есть. Снижает коэффициент корреляции разнонаправленная зависимость. Сначала с увеличением количества комнат она растет, затем даже падает.\n",
    "\n",
    "Посмотрим на эту же зависимость через диаграммы размаха для каждого количества комнат, угруппированные на одном графике."
   ]
  },
  {
   "cell_type": "code",
   "execution_count": 45,
   "metadata": {
    "scrolled": false
   },
   "outputs": [
    {
     "data": {
      "text/plain": [
       "Text(0.5, 1.0, 'Зависимость стоимости от количества комнат')"
      ]
     },
     "execution_count": 45,
     "metadata": {},
     "output_type": "execute_result"
    },
    {
     "data": {
      "image/png": "[encoded data removed]",
      "text/plain": [
       "<Figure size 432x288 with 1 Axes>"
      ]
     },
     "metadata": {
      "needs_background": "light"
     },
     "output_type": "display_data"
    }
   ],
   "source": [
    "sns.boxplot(x='rooms', y='last_price', data=data)\n",
    "plt.xlabel('Количество комнат')\n",
    "plt.ylabel('Стоимость квартиры')\n",
    "plt.title('Зависимость стоимости от количества комнат')"
   ]
  },
  {
   "cell_type": "markdown",
   "metadata": {},
   "source": [
    "Для большей наглядности убираем самые большие одиночные выбросы."
   ]
  },
  {
   "cell_type": "code",
   "execution_count": 46,
   "metadata": {},
   "outputs": [
    {
     "data": {
      "text/plain": [
       "Text(0.5, 1.0, 'Зависимость стоимости от количества комнат')"
      ]
     },
     "execution_count": 46,
     "metadata": {},
     "output_type": "execute_result"
    },
    {
     "data": {
      "image/png": "[encoded data removed]",
      "text/plain": [
       "<Figure size 432x288 with 1 Axes>"
      ]
     },
     "metadata": {
      "needs_background": "light"
     },
     "output_type": "display_data"
    }
   ],
   "source": [
    "sns.boxplot(x='rooms', y='last_price', data=data.loc[data['last_price'] < 100000000])\n",
    "plt.xlabel('Количество комнат')\n",
    "plt.ylabel('Стоимость квартиры')\n",
    "plt.title('Зависимость стоимости от количества комнат')"
   ]
  },
  {
   "cell_type": "markdown",
   "metadata": {},
   "source": [
    "Видим зависимость стоимости квартиры от количества комнат пока количество комнат растет до 7. В этом же диапазоне комнат наблюдаются наибольшие выбросы - отклонения цены. При дальнейшем увеличении комнат, цена не растет, т.к. цена больше зависит от общей площади квартиры, а не от того на сколько помещений квартира разбита."
   ]
  },
  {
   "cell_type": "code",
   "execution_count": 47,
   "metadata": {},
   "outputs": [
    {
     "data": {
      "text/plain": [
       "Text(0.5, 1.0, 'Зависимость стоимости от этажа')"
      ]
     },
     "execution_count": 47,
     "metadata": {},
     "output_type": "execute_result"
    },
    {
     "data": {
      "image/png": "[encoded data removed]",
      "text/plain": [
       "<Figure size 432x288 with 1 Axes>"
      ]
     },
     "metadata": {
      "needs_background": "light"
     },
     "output_type": "display_data"
    }
   ],
   "source": [
    "### проверяем зависимость цены 'last_price' от значений столбцов: ['type_floor']\n",
    "sns.boxplot(x='type_floor', y='last_price', data=data.loc[data['last_price'] < 25000000])\n",
    "plt.xlabel('Этаж')\n",
    "plt.ylabel('Стоимость квартиры')\n",
    "plt.title('Зависимость стоимости от этажа')"
   ]
  },
  {
   "cell_type": "markdown",
   "metadata": {},
   "source": [
    "Видим, что квартиры на первых этажах в среднем дешевле. Квартиры на последних этажах также в среднем дешевле, но разброс цен сопоставим с разбросом цен на квартиры на других этажах."
   ]
  },
  {
   "cell_type": "code",
   "execution_count": 48,
   "metadata": {},
   "outputs": [
    {
     "data": {
      "image/png": "[encoded data removed]",
      "text/plain": [
       "<Figure size 1152x360 with 3 Axes>"
      ]
     },
     "metadata": {
      "needs_background": "light"
     },
     "output_type": "display_data"
    }
   ],
   "source": [
    "### проверяем зависимость цены 'last_price' от значений столбцов: ['weekday', 'month', 'year']\n",
    "fig, axes = plt.subplots(1, 3, figsize=(16, 5))\n",
    "sns.boxplot(x='weekday', y='last_price', data=data.loc[data['last_price'] < 25000000], ax=axes[0]).set(\n",
    "    xlabel='День недели', ylabel='Стоимость квартиры')\n",
    "sns.boxplot(x='month', y='last_price', data=data.loc[data['last_price'] < 25000000], ax=axes[1]).set(\n",
    "    xlabel='День месяца', ylabel='Стоимость квартиры')\n",
    "sns.boxplot(x='year', y='last_price', data=data.loc[data['last_price'] < 25000000], ax=axes[2]).set(\n",
    "    xlabel='Год', ylabel='Стоимость квартиры')\n",
    "plt.show()"
   ]
  },
  {
   "cell_type": "markdown",
   "metadata": {},
   "source": [
    "Зависимости стоимости квартиры от дня недели и месяца при подаче объявления не наблюдается.\n",
    "\n",
    "По графику зависимости стоимости квартиры от года видим, что в 2015г. произошло значительное снижение цен на квартиры, в 2016 - 2018 годах цены оставались стабильными, в 2019г. произошел небольшой рост цен.  \n",
    "Зная, что стоимость квартиры зависит от её площади, посмотрим зависимость от года общей площади продаваемых квартир и стоимости квадратного метра."
   ]
  },
  {
   "cell_type": "code",
   "execution_count": 49,
   "metadata": {},
   "outputs": [
    {
     "data": {
      "image/png": "[encoded data removed]",
      "text/plain": [
       "<Figure size 1152x360 with 2 Axes>"
      ]
     },
     "metadata": {
      "needs_background": "light"
     },
     "output_type": "display_data"
    }
   ],
   "source": [
    "fig, axes = plt.subplots(1, 2, figsize=(16, 5))\n",
    "sns.boxplot(x='year', y='total_area', data=data.loc[data['total_area'] < 400], ax=axes[0]).set(\n",
    "    xlabel='Год', ylabel='Общая площадь квартиры')\n",
    "sns.boxplot(x='year', y='one_metre_price', data=data.loc[data['one_metre_price'] < 600000], ax=axes[1]).set(\n",
    "    xlabel='Год', ylabel='Стоимость квадратного метра')\n",
    "plt.show()"
   ]
  },
  {
   "cell_type": "markdown",
   "metadata": {},
   "source": [
    "Сопоставляя графики видим, что:\n",
    "- снижение цен на квартиры в 2015г. вызвано уменьшением общей площади продаваемых квартир (в большей степени) и уменьшением стоимости квадратного метра жилья (в меньшей степени);\n",
    "- в 2016г. площадь продаваемых квартир ещё немного снизилась, что нашло отражение в виде небольшого снижения на графике стоимости квартир в 2016г.;\n",
    "- в 2016 - 2019гг. средняя площадь продаваемых квартир не изменялась;\n",
    "- стоимость же квадратного метра практически не менялась в 2015 - 2018гг., а в 2019г. произошло увеличение стоимости квадратного метра, которое отразилось увеличением на графике стоимости квартир."
   ]
  },
  {
   "cell_type": "markdown",
   "metadata": {},
   "source": [
    "### 3.4. <a id='toc3_4_'></a>[Исследование средней стоимости квадратного метра в населенных пунктах](#toc0_)"
   ]
  },
  {
   "cell_type": "code",
   "execution_count": 50,
   "metadata": {},
   "outputs": [
    {
     "name": "stdout",
     "output_type": "stream",
     "text": [
      "Средняя стоимость квадратного метра жилья в населенных пунктах \n",
      "(показаны первые десять по количеству объявлений).\n"
     ]
    },
    {
     "data": {
      "text/html": [
       "<div>\n",
       "<style scoped>\n",
       "    .dataframe tbody tr th:only-of-type {\n",
       "        vertical-align: middle;\n",
       "    }\n",
       "\n",
       "    .dataframe tbody tr th {\n",
       "        vertical-align: top;\n",
       "    }\n",
       "\n",
       "    .dataframe thead th {\n",
       "        text-align: right;\n",
       "    }\n",
       "</style>\n",
       "<table border=\"1\" class=\"dataframe\">\n",
       "  <thead>\n",
       "    <tr style=\"text-align: right;\">\n",
       "      <th></th>\n",
       "      <th>count</th>\n",
       "      <th>mean</th>\n",
       "      <th>median</th>\n",
       "    </tr>\n",
       "    <tr>\n",
       "      <th>locality_name</th>\n",
       "      <th></th>\n",
       "      <th></th>\n",
       "      <th></th>\n",
       "    </tr>\n",
       "  </thead>\n",
       "  <tbody>\n",
       "    <tr>\n",
       "      <th>Санкт-Петербург</th>\n",
       "      <td>15720</td>\n",
       "      <td>114,856.31</td>\n",
       "      <td>104,766.09</td>\n",
       "    </tr>\n",
       "    <tr>\n",
       "      <th>посeлок Мурино</th>\n",
       "      <td>522</td>\n",
       "      <td>85,752.19</td>\n",
       "      <td>85,878.46</td>\n",
       "    </tr>\n",
       "    <tr>\n",
       "      <th>Кудрово</th>\n",
       "      <td>472</td>\n",
       "      <td>95,324.93</td>\n",
       "      <td>95,675.47</td>\n",
       "    </tr>\n",
       "    <tr>\n",
       "      <th>посeлок Шушары</th>\n",
       "      <td>440</td>\n",
       "      <td>78,677.36</td>\n",
       "      <td>76,876.17</td>\n",
       "    </tr>\n",
       "    <tr>\n",
       "      <th>Всеволожск</th>\n",
       "      <td>398</td>\n",
       "      <td>68,654.47</td>\n",
       "      <td>65,789.47</td>\n",
       "    </tr>\n",
       "    <tr>\n",
       "      <th>Пушкин</th>\n",
       "      <td>369</td>\n",
       "      <td>103,125.82</td>\n",
       "      <td>100,000.00</td>\n",
       "    </tr>\n",
       "    <tr>\n",
       "      <th>Колпино</th>\n",
       "      <td>338</td>\n",
       "      <td>75,424.58</td>\n",
       "      <td>74,723.75</td>\n",
       "    </tr>\n",
       "    <tr>\n",
       "      <th>посeлок Парголово</th>\n",
       "      <td>327</td>\n",
       "      <td>90,175.91</td>\n",
       "      <td>91,642.86</td>\n",
       "    </tr>\n",
       "    <tr>\n",
       "      <th>Гатчина</th>\n",
       "      <td>307</td>\n",
       "      <td>68,746.15</td>\n",
       "      <td>67,796.61</td>\n",
       "    </tr>\n",
       "    <tr>\n",
       "      <th>Выборг</th>\n",
       "      <td>237</td>\n",
       "      <td>58,141.91</td>\n",
       "      <td>58,158.32</td>\n",
       "    </tr>\n",
       "  </tbody>\n",
       "</table>\n",
       "</div>"
      ],
      "text/plain": [
       "                   count                 mean               median\n",
       "locality_name                                                     \n",
       "Санкт-Петербург    15720           114,856.31           104,766.09\n",
       "посeлок Мурино       522            85,752.19            85,878.46\n",
       "Кудрово              472            95,324.93            95,675.47\n",
       "посeлок Шушары       440            78,677.36            76,876.17\n",
       "Всеволожск           398            68,654.47            65,789.47\n",
       "Пушкин               369           103,125.82           100,000.00\n",
       "Колпино              338            75,424.58            74,723.75\n",
       "посeлок Парголово    327            90,175.91            91,642.86\n",
       "Гатчина              307            68,746.15            67,796.61\n",
       "Выборг               237            58,141.91            58,158.32"
      ]
     },
     "metadata": {},
     "output_type": "display_data"
    },
    {
     "name": "stdout",
     "output_type": "stream",
     "text": [
      "Отсортировано по уменьшению стоимости квадратного метра \n",
      "(те же десять населенных пунктов):\n"
     ]
    },
    {
     "data": {
      "text/html": [
       "<div>\n",
       "<style scoped>\n",
       "    .dataframe tbody tr th:only-of-type {\n",
       "        vertical-align: middle;\n",
       "    }\n",
       "\n",
       "    .dataframe tbody tr th {\n",
       "        vertical-align: top;\n",
       "    }\n",
       "\n",
       "    .dataframe thead th {\n",
       "        text-align: right;\n",
       "    }\n",
       "</style>\n",
       "<table border=\"1\" class=\"dataframe\">\n",
       "  <thead>\n",
       "    <tr style=\"text-align: right;\">\n",
       "      <th></th>\n",
       "      <th>count</th>\n",
       "      <th>mean</th>\n",
       "    </tr>\n",
       "    <tr>\n",
       "      <th>locality_name</th>\n",
       "      <th></th>\n",
       "      <th></th>\n",
       "    </tr>\n",
       "  </thead>\n",
       "  <tbody>\n",
       "    <tr>\n",
       "      <th>Санкт-Петербург</th>\n",
       "      <td>15720</td>\n",
       "      <td>114,856.31</td>\n",
       "    </tr>\n",
       "    <tr>\n",
       "      <th>Пушкин</th>\n",
       "      <td>369</td>\n",
       "      <td>103,125.82</td>\n",
       "    </tr>\n",
       "    <tr>\n",
       "      <th>Кудрово</th>\n",
       "      <td>472</td>\n",
       "      <td>95,324.93</td>\n",
       "    </tr>\n",
       "    <tr>\n",
       "      <th>посeлок Парголово</th>\n",
       "      <td>327</td>\n",
       "      <td>90,175.91</td>\n",
       "    </tr>\n",
       "    <tr>\n",
       "      <th>посeлок Мурино</th>\n",
       "      <td>522</td>\n",
       "      <td>85,752.19</td>\n",
       "    </tr>\n",
       "    <tr>\n",
       "      <th>посeлок Шушары</th>\n",
       "      <td>440</td>\n",
       "      <td>78,677.36</td>\n",
       "    </tr>\n",
       "    <tr>\n",
       "      <th>Колпино</th>\n",
       "      <td>338</td>\n",
       "      <td>75,424.58</td>\n",
       "    </tr>\n",
       "    <tr>\n",
       "      <th>Гатчина</th>\n",
       "      <td>307</td>\n",
       "      <td>68,746.15</td>\n",
       "    </tr>\n",
       "    <tr>\n",
       "      <th>Всеволожск</th>\n",
       "      <td>398</td>\n",
       "      <td>68,654.47</td>\n",
       "    </tr>\n",
       "    <tr>\n",
       "      <th>Выборг</th>\n",
       "      <td>237</td>\n",
       "      <td>58,141.91</td>\n",
       "    </tr>\n",
       "  </tbody>\n",
       "</table>\n",
       "</div>"
      ],
      "text/plain": [
       "                   count                 mean\n",
       "locality_name                                \n",
       "Санкт-Петербург    15720           114,856.31\n",
       "Пушкин               369           103,125.82\n",
       "Кудрово              472            95,324.93\n",
       "посeлок Парголово    327            90,175.91\n",
       "посeлок Мурино       522            85,752.19\n",
       "посeлок Шушары       440            78,677.36\n",
       "Колпино              338            75,424.58\n",
       "Гатчина              307            68,746.15\n",
       "Всеволожск           398            68,654.47\n",
       "Выборг               237            58,141.91"
      ]
     },
     "metadata": {},
     "output_type": "display_data"
    },
    {
     "name": "stdout",
     "output_type": "stream",
     "text": [
      "Отсортировано по уменьшению стоимости квадратного метра \n",
      " (по всей базе):\n"
     ]
    },
    {
     "data": {
      "text/html": [
       "<div>\n",
       "<style scoped>\n",
       "    .dataframe tbody tr th:only-of-type {\n",
       "        vertical-align: middle;\n",
       "    }\n",
       "\n",
       "    .dataframe tbody tr th {\n",
       "        vertical-align: top;\n",
       "    }\n",
       "\n",
       "    .dataframe thead th {\n",
       "        text-align: right;\n",
       "    }\n",
       "</style>\n",
       "<table border=\"1\" class=\"dataframe\">\n",
       "  <thead>\n",
       "    <tr style=\"text-align: right;\">\n",
       "      <th></th>\n",
       "      <th>count</th>\n",
       "      <th>mean</th>\n",
       "    </tr>\n",
       "    <tr>\n",
       "      <th>locality_name</th>\n",
       "      <th></th>\n",
       "      <th></th>\n",
       "    </tr>\n",
       "  </thead>\n",
       "  <tbody>\n",
       "    <tr>\n",
       "      <th>посeлок Лисий Нос</th>\n",
       "      <td>2</td>\n",
       "      <td>121,616.22</td>\n",
       "    </tr>\n",
       "    <tr>\n",
       "      <th>Зеленогорск</th>\n",
       "      <td>24</td>\n",
       "      <td>115,122.80</td>\n",
       "    </tr>\n",
       "    <tr>\n",
       "      <th>Санкт-Петербург</th>\n",
       "      <td>15720</td>\n",
       "      <td>114,856.31</td>\n",
       "    </tr>\n",
       "    <tr>\n",
       "      <th>посeлок Репино</th>\n",
       "      <td>4</td>\n",
       "      <td>104,238.61</td>\n",
       "    </tr>\n",
       "    <tr>\n",
       "      <th>Пушкин</th>\n",
       "      <td>369</td>\n",
       "      <td>103,125.82</td>\n",
       "    </tr>\n",
       "    <tr>\n",
       "      <th>Сестрорецк</th>\n",
       "      <td>183</td>\n",
       "      <td>101,757.62</td>\n",
       "    </tr>\n",
       "    <tr>\n",
       "      <th>деревня Мистолово</th>\n",
       "      <td>11</td>\n",
       "      <td>98,549.98</td>\n",
       "    </tr>\n",
       "    <tr>\n",
       "      <th>посeлок Левашово</th>\n",
       "      <td>1</td>\n",
       "      <td>96,997.69</td>\n",
       "    </tr>\n",
       "    <tr>\n",
       "      <th>Кудрово</th>\n",
       "      <td>472</td>\n",
       "      <td>95,324.93</td>\n",
       "    </tr>\n",
       "    <tr>\n",
       "      <th>посeлок Парголово</th>\n",
       "      <td>327</td>\n",
       "      <td>90,175.91</td>\n",
       "    </tr>\n",
       "  </tbody>\n",
       "</table>\n",
       "</div>"
      ],
      "text/plain": [
       "                   count                 mean\n",
       "locality_name                                \n",
       "посeлок Лисий Нос      2           121,616.22\n",
       "Зеленогорск           24           115,122.80\n",
       "Санкт-Петербург    15720           114,856.31\n",
       "посeлок Репино         4           104,238.61\n",
       "Пушкин               369           103,125.82\n",
       "Сестрорецк           183           101,757.62\n",
       "деревня Мистолово     11            98,549.98\n",
       "посeлок Левашово       1            96,997.69\n",
       "Кудрово              472            95,324.93\n",
       "посeлок Парголово    327            90,175.91"
      ]
     },
     "metadata": {},
     "output_type": "display_data"
    }
   ],
   "source": [
    "print('Средняя стоимость квадратного метра жилья в населенных пунктах \\n(показаны первые десять по количеству объявлений).')\n",
    "display(data.pivot_table(index='locality_name', values='one_metre_price', aggfunc=('count', 'mean','median'))\n",
    "        .sort_values(by='count', ascending=False).head(10))\n",
    "\n",
    "print('Отсортировано по уменьшению стоимости квадратного метра \\n(те же десять населенных пунктов):')\n",
    "display(data.pivot_table(index='locality_name', values='one_metre_price', aggfunc=('count', 'mean'))\n",
    "        .sort_values(by='count', ascending=False).head(10).sort_values(by='mean', ascending=False))\n",
    "\n",
    "print('Отсортировано по уменьшению стоимости квадратного метра \\n (по всей базе):')\n",
    "display(data.pivot_table(index='locality_name', values='one_metre_price', aggfunc=('count', 'mean'))\n",
    "        .sort_values(by='mean', ascending=False).head(10))"
   ]
  },
  {
   "cell_type": "markdown",
   "metadata": {},
   "source": [
    "Санкт-Петербург - ожидаемый лидер по количеству объявлений. За ним идут города Ленинградской области. Выборг замыкает десятку городов с самым большим количеством объявлений.  \n",
    "Среди этих 10 городов самый дорогой квадратный метр жилья в Санкт-Петербурге, самый дешевый - в Выборге.  \n",
    "Если посмотреть стоимость квадратного метра жилья, то на первые места в ТОП-10, опережая Санкт-Петербург, попадают поселок Лисий Нос и Зеленогорск. Также видны ещё несколько поселков. Количество объявлений в них небольшое, это или элитное жильё, или просто нерепрезентативная выборка."
   ]
  },
  {
   "cell_type": "markdown",
   "metadata": {},
   "source": [
    "### 3.5. <a id='toc3_5_'></a>[Исследование влияния на стоимость расстояния от центра города](#toc0_)"
   ]
  },
  {
   "cell_type": "code",
   "execution_count": 51,
   "metadata": {
    "scrolled": false
   },
   "outputs": [
    {
     "name": "stdout",
     "output_type": "stream",
     "text": [
      "Среднее, медиана и мода для расстояния до центра и стоимости километра:\n"
     ]
    },
    {
     "data": {
      "text/html": [
       "<div>\n",
       "<style scoped>\n",
       "    .dataframe tbody tr th:only-of-type {\n",
       "        vertical-align: middle;\n",
       "    }\n",
       "\n",
       "    .dataframe tbody tr th {\n",
       "        vertical-align: top;\n",
       "    }\n",
       "\n",
       "    .dataframe thead th {\n",
       "        text-align: right;\n",
       "    }\n",
       "</style>\n",
       "<table border=\"1\" class=\"dataframe\">\n",
       "  <thead>\n",
       "    <tr style=\"text-align: right;\">\n",
       "      <th></th>\n",
       "      <th>mean</th>\n",
       "      <th>median</th>\n",
       "      <th>mode</th>\n",
       "    </tr>\n",
       "  </thead>\n",
       "  <tbody>\n",
       "    <tr>\n",
       "      <th>cityCenters_nearest</th>\n",
       "      <td>11,601.00</td>\n",
       "      <td>12,244.00</td>\n",
       "      <td>8,460.00</td>\n",
       "    </tr>\n",
       "    <tr>\n",
       "      <th>cena_km</th>\n",
       "      <td>1,520.00</td>\n",
       "      <td>449.00</td>\n",
       "      <td>306.00</td>\n",
       "    </tr>\n",
       "  </tbody>\n",
       "</table>\n",
       "</div>"
      ],
      "text/plain": [
       "                                    mean               median  \\\n",
       "cityCenters_nearest            11,601.00            12,244.00   \n",
       "cena_km                         1,520.00               449.00   \n",
       "\n",
       "                                    mode  \n",
       "cityCenters_nearest             8,460.00  \n",
       "cena_km                           306.00  "
      ]
     },
     "metadata": {},
     "output_type": "display_data"
    },
    {
     "data": {
      "image/png": "[encoded data removed]",
      "text/plain": [
       "<Figure size 792x360 with 1 Axes>"
      ]
     },
     "metadata": {
      "needs_background": "light"
     },
     "output_type": "display_data"
    },
    {
     "data": {
      "text/plain": [
       "Text(0, 0.5, 'Стоимость километра')"
      ]
     },
     "execution_count": 51,
     "metadata": {},
     "output_type": "execute_result"
    },
    {
     "data": {
      "image/png": "[encoded data removed]",
      "text/plain": [
       "<Figure size 792x360 with 1 Axes>"
      ]
     },
     "metadata": {
      "needs_background": "light"
     },
     "output_type": "display_data"
    }
   ],
   "source": [
    "# отложим в отдельный датасет расстояние до центра, стоимость квартиры и стоимость километра по Санкт-Петербургу\n",
    "cena_kms = data.query('locality_name == \"Санкт-Петербург\" & ~(cityCenters_nearest.isna())'\n",
    "                     )[['cityCenters_nearest', 'last_price']]\n",
    "cena_kms['cena_km'] = cena_kms['last_price'] / cena_kms['cityCenters_nearest']\n",
    "\n",
    "print('Среднее, медиана и мода для расстояния до центра и стоимости километра:')\n",
    "mmm2(cena_kms, ['cityCenters_nearest', 'cena_km'])\n",
    "\n",
    "cena_kms.plot(x='cityCenters_nearest', y='last_price', kind='scatter', figsize=(11, 5), grid=True, ylim=(0, 100000000))\n",
    "plt.title('Зависимость стоимости квартиры от расстояния до центра')\n",
    "plt.xlabel('Расстояние до центра')\n",
    "plt.ylabel('Стоимость квартиры')\n",
    "plt.ticklabel_format(style='plain')\n",
    "plt.show()\n",
    "\n",
    "cena_kms.plot(x='cityCenters_nearest', y='cena_km', kind='scatter', figsize=(11, 5), grid=True, ylim=(0, 80000))\n",
    "plt.title('Зависимость стоимости километра от расстояния до центра')\n",
    "plt.xlabel('Расстояние до центра')\n",
    "plt.ylabel('Стоимость километра')"
   ]
  },
  {
   "cell_type": "markdown",
   "metadata": {},
   "source": [
    "Стоимость объектов ожидаемо уменьшается по мере удаления от центра. Аналогично уменьшается стоимость километра при удалении от центра."
   ]
  },
  {
   "cell_type": "markdown",
   "metadata": {},
   "source": [
    "### 3.6. <a id='toc3_6_'></a>[Вывод по разделу 3](#toc0_)\n",
    "\n",
    "Рассмотрев характеристики объектов (квартир) можно сделать следующие выводы:\n",
    "- На рынке недвижимости преобладают квартиры с площадью до 80 м<sup>2</sup>. Гистограммы распределения общей, жилой и площади кухни имеют неравномерности, так как большинство домов строилось по типовым проектам массовой застройки с четко определенными площадями. Это дает пики на графиках.\n",
    "- Большинство квартир одно и двухкомнатные, доля трехкомнатных квартир примерно в 1,5 раза меньше, остальные квартиры составляют меньшинство.\n",
    "- Основная высота потолков в квартирах составляет 2,5 м. Пики на графиках распределения соответствуют высотам потолков типовых проектов: 2,6; 2,7 и 3 метра.\n",
    "- Основной тип домов - пяти и девятиэтажные. Из прочих типовых проектов массовой застройки в примерно в равных пропорциях присутствуют 4, 10, 12, 16 и 25 этажные дома. Доля продаваемых квартир на крайних этажах примерно одинаковая, чуть больше продают квартир на последнем этаже, чем на первом.\n",
    "- Среднее расстояние до центра города составляет 14 км., но на графике распределения есть пики. Основной на расстоянии примерно 15 км., другой (меньший) на расстоянии 5 км. Также есть всплески на расстояниях в районе  20 км., 30 км. и 50 км., которые дают жилые окраины Санкт-Петербурга и населенные пункты Ленинградской области.\n",
    "- График цен на квартиры имеет близкое к нормальному распределение, без пиков, но картину искажает небольшое количество очень больших по значению выбросов цены на дорогое и элитное жильё. Медиана составляет 4,6 млн. руб. Средняя стоимость 6,5 млн. руб.\n",
    "- Цена имеет зависимость от:\n",
    "    - общей площади(в большей степени), жилой площади и площади кухни (в меньшей степени);\n",
    "    - количества комнат в квартире (актуально только для квартир с количеством комнат от 1 до 7);\n",
    "    - от расстояния до центра города.  \n",
    "\n",
    "- Цена практически не зависит от этажа (немного дешевле первые этажи). Зависимости стоимости квартиры от дня недели и месяца подачи объявления нет.  \n",
    "- В 2015г. произошло снижение цен на квартиры вызванное уменьшением общей площади продаваемых квартир (в большей степени) и снижением стоимости квадратного метра (в меньшей степени) В 2016г. небольшое снижение цены обусловлено дальнейшим снижением площади продаваемых квартир. 2017 - 2018 годах цены на квартиры оставались стабильными. В 2019г. произошел небольшой рост цен, обусловленный ростом стоимости квадратного метра жилья.\n",
    "\n",
    "Статистика подачи объявлений говорит о том, что в выходные дни объявлений размещают меньше, чем в будни. Наибольшее количество объявлений подается в 1-ый и 10-ый день месяца. Наибольшее количество объявлений поступает в феврале, марте, апреле и ноябре. Наименьшее в мае.  \n",
    "Средний срок продажи квартир составляет 181 день, но основная часть продается гораздо раньше. Медиана составляет 95 дней, мода 45 дней. На графике распределения есть ярко выраженные пики, предположительно обусловленные методикой работы с базой, что требует отдельного исследования.  \n",
    "Санкт-Петербург - лидер по количеству объявлений о продаже квартир. Выборг замыкает десятку городов с самым большим количеством объявлений о продаже. Среди этих 10 городов самый дорогой квадратный метр жилья в Санкт-Петербурге, самый дешевый в Выборге. ТОП-3 самых дорогих квадратных метров жилья: поселок Лисий Нос, Зеленогорск и Санкт-Петербург."
   ]
  },
  {
   "cell_type": "markdown",
   "metadata": {},
   "source": [
    "## 4. <a id='toc4_'></a>[Общий вывод](#toc0_)"
   ]
  },
  {
   "cell_type": "markdown",
   "metadata": {},
   "source": [
    "Для исследования была использована база объявлений о продаже квартир общим объемом более 23 тысяч строк (данные сервиса Яндекс Недвижимость — архив объявлений за несколько лет о продаже квартир в Санкт-Петербурге и соседних населённых пунктах). О каждой квартире в базе содержится два типа данных: добавленные пользователем и картографические.  \n",
    "База содержала пропуски и некорректные значения, поэтому на этапе предобработки данных были выполнены следующие процедуры:\n",
    "- изучение и заполнение пропусков;\n",
    "- исследование и корректировка аномальных значений и типов данных;\n",
    "- проверка на наличие дубликатов;\n",
    "- добавлены вспомогательные столбцы, необходимые для дальнейшего анализа.\n",
    "\n",
    "По результатам исследования выявлены следующие особенности и закономерности:\n",
    "- На рынке недвижимости Санкт-Петербурга и Ленинградской области преобладают одно и двухкомнатные квартиры. Доля трехкомнатных квартир в 1,5 раза меньше доли двухкомнатных квартир, остальные квартиры составляют меньшинство.\n",
    "- Сильное влияние на параметры объектов оказало массовое строительство по типовым проектам, являющееся преобладающим типом строительства. В частности:\n",
    "    - Основной тип домов пятиэтажные. Следующими по количеству идут девятиэтажные дома. Существенно меньшее количество и в примерно в равных пропорциях составляют 4, 10, 12, 16 и 25 этажные дома из прочих типовых проектов массовой застройки.\n",
    "    - Преобладают квартиры с площадью до 80 м<sup>2</sup>. Диаграммы распределения общей, жилой и площади кухни имеют неравномерности с пиками на площадях, соответствующих типовым проектам.\n",
    "    - Основная высота потолков составляет 2,5 м. Пики на графиках распределения соответствуют высотам потолков типовых проектов: 2,6; 2,7 и 3 метра.\n",
    "- Среднее расстояние до центра города составляет 14 км., при этом график распределения расстояния до центра неоднороден. Основной пик на расстоянии примерно 15 км. практически совпадает со средним расстоянием. Второй (меньший) пик на расстоянии 5 км. Есть пики на расстояниях 20 км., 30 км. и 50 км., которые дают жилые окраины Санкт-Петербурга и населенные пункты Ленинградской области.\n",
    "- Доля продаваемых квартир на крайних этажах примерно одинаковая, на последнем этаже квартиры продают чуть чаще, чем на первом.\n",
    "- Статистика подачи объявлений дает следующие выводы:\n",
    "    - в выходные дни объявлений размещают меньше, чем в будни;\n",
    "    - наибольшее количество объявлений подается в 1-ый и 10-ый день месяца;\n",
    "    - наибольшее количество объявлений поступает в феврале, марте, апреле и ноябре; наименьшее в мае;  \n",
    "    - средний срок продажи квартир составляет 181 день, при этом медиана составляет 95 дней, мода 45 дней; \n",
    "    - самое большое количество объявлений о продаже квартир подают в Санкт-Петербурге.\n",
    "- График цен на квартиры имеет ровное распределение без пиков и наклон вправо из-за относительно небольшого количества больших по значению выбросов цены на дорогое и элитное жильё. Средняя стоимость объекта составляет 6,5 млн. руб., медиана - 4,6 млн. руб.\n",
    "- Цена практически не зависит от этажа, а также от дня недели и месяца подачи объявления и зависит от:\n",
    "    - общей площади(в большей степени), жилой площади и площади кухни (в меньшей степени);\n",
    "    - количества комнат в квартире (для квартир с количеством комнат от 1 до 7);\n",
    "    - от расстояния до центра города.  \n",
    "- Среди ТОП-10 городов с наибольшим количеством объявлений самый дорогой квадратный метр жилья в Санкт-Петербурге, самый дешевый в Выборге. ТОП-3 населенных пунктов с самым дорогим квадратным метром жилья: поселок Лисий Нос, Зеленогорск и Санкт-Петербург.  \n",
    "- В 2015г. произошло снижение цен на квартиры вызванное уменьшением общей площади продаваемых квартир (в большей степени) и снижением стоимости квадратного метра (в меньшей степени) В 2016г. небольшое снижение цены обусловлено дальнейшим снижением площади продаваемых квартир. 2017 - 2018 годах цены на квартиры оставались стабильными. В 2019г. произошел небольшой рост цен, обусловленный ростом стоимости квадратного метра жилья.\n",
    "\n",
    "**Следует обратить внимание:**  \n",
    "На графике распределения сроков продажи квартир, данные для которого берутся из столбца количества дней размещения объявления от публикации до снятия, есть ярко выраженные аномальные пики на 7, 30, 45, 60 и 90 днях с момента размещения объявлений. Предположительно это обусловлено методикой работы с базой недвижимости. Данный факт вносит погрешность в сроки продажи квартир и требует отдельного дополнительного исследования. Детальная информация приведена в соответствующем разделе данного отчета."
   ]
  }
 ],
 "metadata": {
  "ExecuteTimeLog": [
   {
    "duration": 49,
    "start_time": "2022-12-22T17:52:41.357Z"
   },
   {
    "duration": 419,
    "start_time": "2022-12-22T17:52:47.184Z"
   },
   {
    "duration": 64,
    "start_time": "2022-12-22T17:52:49.498Z"
   },
   {
    "duration": 310,
    "start_time": "2022-12-22T17:52:58.152Z"
   },
   {
    "duration": 96,
    "start_time": "2022-12-22T17:53:06.679Z"
   },
   {
    "duration": 116,
    "start_time": "2022-12-22T17:54:32.017Z"
   },
   {
    "duration": 422,
    "start_time": "2022-12-22T17:54:54.521Z"
   },
   {
    "duration": 106,
    "start_time": "2022-12-22T17:54:56.296Z"
   },
   {
    "duration": 118,
    "start_time": "2022-12-22T17:56:45.777Z"
   },
   {
    "duration": 138,
    "start_time": "2022-12-22T17:57:10.970Z"
   },
   {
    "duration": 1974,
    "start_time": "2022-12-22T17:58:32.714Z"
   },
   {
    "duration": 1970,
    "start_time": "2022-12-22T18:00:01.235Z"
   },
   {
    "duration": 1297,
    "start_time": "2022-12-29T11:10:47.794Z"
   },
   {
    "duration": 3,
    "start_time": "2022-12-29T11:10:49.093Z"
   },
   {
    "duration": 7,
    "start_time": "2022-12-29T11:10:49.098Z"
   },
   {
    "duration": 137,
    "start_time": "2022-12-29T11:10:49.107Z"
   },
   {
    "duration": 0,
    "start_time": "2022-12-29T11:10:49.247Z"
   },
   {
    "duration": 0,
    "start_time": "2022-12-29T11:10:49.248Z"
   },
   {
    "duration": 0,
    "start_time": "2022-12-29T11:10:49.249Z"
   },
   {
    "duration": 0,
    "start_time": "2022-12-29T11:10:49.251Z"
   },
   {
    "duration": 0,
    "start_time": "2022-12-29T11:10:49.252Z"
   },
   {
    "duration": 0,
    "start_time": "2022-12-29T11:10:49.253Z"
   },
   {
    "duration": 0,
    "start_time": "2022-12-29T11:10:49.254Z"
   },
   {
    "duration": 0,
    "start_time": "2022-12-29T11:10:49.256Z"
   },
   {
    "duration": 0,
    "start_time": "2022-12-29T11:10:49.257Z"
   },
   {
    "duration": 0,
    "start_time": "2022-12-29T11:10:49.258Z"
   },
   {
    "duration": 0,
    "start_time": "2022-12-29T11:10:49.259Z"
   },
   {
    "duration": 0,
    "start_time": "2022-12-29T11:10:49.260Z"
   },
   {
    "duration": 0,
    "start_time": "2022-12-29T11:10:49.262Z"
   },
   {
    "duration": 0,
    "start_time": "2022-12-29T11:10:49.263Z"
   },
   {
    "duration": 0,
    "start_time": "2022-12-29T11:10:49.264Z"
   },
   {
    "duration": 0,
    "start_time": "2022-12-29T11:10:49.265Z"
   },
   {
    "duration": 0,
    "start_time": "2022-12-29T11:10:49.267Z"
   },
   {
    "duration": 0,
    "start_time": "2022-12-29T11:10:49.268Z"
   },
   {
    "duration": 0,
    "start_time": "2022-12-29T11:10:49.269Z"
   },
   {
    "duration": 0,
    "start_time": "2022-12-29T11:10:49.270Z"
   },
   {
    "duration": 0,
    "start_time": "2022-12-29T11:10:49.272Z"
   },
   {
    "duration": 0,
    "start_time": "2022-12-29T11:10:49.273Z"
   },
   {
    "duration": 0,
    "start_time": "2022-12-29T11:10:49.274Z"
   },
   {
    "duration": 0,
    "start_time": "2022-12-29T11:10:49.321Z"
   },
   {
    "duration": 0,
    "start_time": "2022-12-29T11:10:49.322Z"
   },
   {
    "duration": 0,
    "start_time": "2022-12-29T11:10:49.323Z"
   },
   {
    "duration": 0,
    "start_time": "2022-12-29T11:10:49.324Z"
   },
   {
    "duration": 0,
    "start_time": "2022-12-29T11:10:49.325Z"
   },
   {
    "duration": 0,
    "start_time": "2022-12-29T11:10:49.326Z"
   },
   {
    "duration": 0,
    "start_time": "2022-12-29T11:10:49.327Z"
   },
   {
    "duration": 0,
    "start_time": "2022-12-29T11:10:49.328Z"
   },
   {
    "duration": 0,
    "start_time": "2022-12-29T11:10:49.329Z"
   },
   {
    "duration": 0,
    "start_time": "2022-12-29T11:10:49.330Z"
   },
   {
    "duration": 0,
    "start_time": "2022-12-29T11:10:49.331Z"
   },
   {
    "duration": 0,
    "start_time": "2022-12-29T11:10:49.332Z"
   },
   {
    "duration": 0,
    "start_time": "2022-12-29T11:10:49.333Z"
   },
   {
    "duration": 0,
    "start_time": "2022-12-29T11:10:49.334Z"
   },
   {
    "duration": 0,
    "start_time": "2022-12-29T11:10:49.335Z"
   },
   {
    "duration": 0,
    "start_time": "2022-12-29T11:10:49.336Z"
   },
   {
    "duration": 0,
    "start_time": "2022-12-29T11:10:49.337Z"
   },
   {
    "duration": 0,
    "start_time": "2022-12-29T11:10:49.339Z"
   },
   {
    "duration": 0,
    "start_time": "2022-12-29T11:10:49.340Z"
   },
   {
    "duration": 0,
    "start_time": "2022-12-29T11:10:49.342Z"
   },
   {
    "duration": 0,
    "start_time": "2022-12-29T11:10:49.343Z"
   },
   {
    "duration": 0,
    "start_time": "2022-12-29T11:10:49.344Z"
   },
   {
    "duration": 0,
    "start_time": "2022-12-29T11:10:49.346Z"
   },
   {
    "duration": 324,
    "start_time": "2022-12-29T11:12:06.881Z"
   },
   {
    "duration": 1042,
    "start_time": "2022-12-29T11:12:11.169Z"
   },
   {
    "duration": 3,
    "start_time": "2022-12-29T11:12:12.213Z"
   },
   {
    "duration": 7,
    "start_time": "2022-12-29T11:12:12.217Z"
   },
   {
    "duration": 87,
    "start_time": "2022-12-29T11:12:12.226Z"
   },
   {
    "duration": 21,
    "start_time": "2022-12-29T11:12:12.314Z"
   },
   {
    "duration": 97,
    "start_time": "2022-12-29T11:12:12.336Z"
   },
   {
    "duration": 0,
    "start_time": "2022-12-29T11:12:12.436Z"
   },
   {
    "duration": 0,
    "start_time": "2022-12-29T11:12:12.437Z"
   },
   {
    "duration": 0,
    "start_time": "2022-12-29T11:12:12.438Z"
   },
   {
    "duration": 0,
    "start_time": "2022-12-29T11:12:12.439Z"
   },
   {
    "duration": 0,
    "start_time": "2022-12-29T11:12:12.441Z"
   },
   {
    "duration": 0,
    "start_time": "2022-12-29T11:12:12.442Z"
   },
   {
    "duration": 0,
    "start_time": "2022-12-29T11:12:12.443Z"
   },
   {
    "duration": 0,
    "start_time": "2022-12-29T11:12:12.444Z"
   },
   {
    "duration": 0,
    "start_time": "2022-12-29T11:12:12.446Z"
   },
   {
    "duration": 0,
    "start_time": "2022-12-29T11:12:12.447Z"
   },
   {
    "duration": 0,
    "start_time": "2022-12-29T11:12:12.448Z"
   },
   {
    "duration": 0,
    "start_time": "2022-12-29T11:12:12.449Z"
   },
   {
    "duration": 0,
    "start_time": "2022-12-29T11:12:12.450Z"
   },
   {
    "duration": 1,
    "start_time": "2022-12-29T11:12:12.451Z"
   },
   {
    "duration": 0,
    "start_time": "2022-12-29T11:12:12.453Z"
   },
   {
    "duration": 0,
    "start_time": "2022-12-29T11:12:12.454Z"
   },
   {
    "duration": 0,
    "start_time": "2022-12-29T11:12:12.456Z"
   },
   {
    "duration": 0,
    "start_time": "2022-12-29T11:12:12.457Z"
   },
   {
    "duration": 0,
    "start_time": "2022-12-29T11:12:12.458Z"
   },
   {
    "duration": 0,
    "start_time": "2022-12-29T11:12:12.459Z"
   },
   {
    "duration": 0,
    "start_time": "2022-12-29T11:12:12.460Z"
   },
   {
    "duration": 0,
    "start_time": "2022-12-29T11:12:12.462Z"
   },
   {
    "duration": 0,
    "start_time": "2022-12-29T11:12:12.463Z"
   },
   {
    "duration": 0,
    "start_time": "2022-12-29T11:12:12.465Z"
   },
   {
    "duration": 0,
    "start_time": "2022-12-29T11:12:12.466Z"
   },
   {
    "duration": 0,
    "start_time": "2022-12-29T11:12:12.467Z"
   },
   {
    "duration": 0,
    "start_time": "2022-12-29T11:12:12.468Z"
   },
   {
    "duration": 0,
    "start_time": "2022-12-29T11:12:12.521Z"
   },
   {
    "duration": 0,
    "start_time": "2022-12-29T11:12:12.522Z"
   },
   {
    "duration": 0,
    "start_time": "2022-12-29T11:12:12.524Z"
   },
   {
    "duration": 0,
    "start_time": "2022-12-29T11:12:12.525Z"
   },
   {
    "duration": 0,
    "start_time": "2022-12-29T11:12:12.526Z"
   },
   {
    "duration": 0,
    "start_time": "2022-12-29T11:12:12.527Z"
   },
   {
    "duration": 0,
    "start_time": "2022-12-29T11:12:12.528Z"
   },
   {
    "duration": 0,
    "start_time": "2022-12-29T11:12:12.529Z"
   },
   {
    "duration": 0,
    "start_time": "2022-12-29T11:12:12.530Z"
   },
   {
    "duration": 0,
    "start_time": "2022-12-29T11:12:12.532Z"
   },
   {
    "duration": 0,
    "start_time": "2022-12-29T11:12:12.533Z"
   },
   {
    "duration": 0,
    "start_time": "2022-12-29T11:12:12.534Z"
   },
   {
    "duration": 0,
    "start_time": "2022-12-29T11:12:12.535Z"
   },
   {
    "duration": 0,
    "start_time": "2022-12-29T11:12:12.536Z"
   },
   {
    "duration": 0,
    "start_time": "2022-12-29T11:12:12.537Z"
   },
   {
    "duration": 0,
    "start_time": "2022-12-29T11:12:12.539Z"
   },
   {
    "duration": 0,
    "start_time": "2022-12-29T11:12:12.540Z"
   },
   {
    "duration": 8,
    "start_time": "2022-12-29T11:12:46.811Z"
   },
   {
    "duration": 1095,
    "start_time": "2022-12-29T11:13:08.221Z"
   },
   {
    "duration": 5,
    "start_time": "2022-12-29T11:13:09.317Z"
   },
   {
    "duration": 13,
    "start_time": "2022-12-29T11:13:09.323Z"
   },
   {
    "duration": 99,
    "start_time": "2022-12-29T11:13:09.337Z"
   },
   {
    "duration": 0,
    "start_time": "2022-12-29T11:13:09.438Z"
   },
   {
    "duration": 0,
    "start_time": "2022-12-29T11:13:09.439Z"
   },
   {
    "duration": 0,
    "start_time": "2022-12-29T11:13:09.440Z"
   },
   {
    "duration": 0,
    "start_time": "2022-12-29T11:13:09.442Z"
   },
   {
    "duration": 0,
    "start_time": "2022-12-29T11:13:09.443Z"
   },
   {
    "duration": 0,
    "start_time": "2022-12-29T11:13:09.444Z"
   },
   {
    "duration": 0,
    "start_time": "2022-12-29T11:13:09.445Z"
   },
   {
    "duration": 0,
    "start_time": "2022-12-29T11:13:09.446Z"
   },
   {
    "duration": 0,
    "start_time": "2022-12-29T11:13:09.447Z"
   },
   {
    "duration": 0,
    "start_time": "2022-12-29T11:13:09.448Z"
   },
   {
    "duration": 0,
    "start_time": "2022-12-29T11:13:09.449Z"
   },
   {
    "duration": 0,
    "start_time": "2022-12-29T11:13:09.450Z"
   },
   {
    "duration": 0,
    "start_time": "2022-12-29T11:13:09.451Z"
   },
   {
    "duration": 0,
    "start_time": "2022-12-29T11:13:09.452Z"
   },
   {
    "duration": 0,
    "start_time": "2022-12-29T11:13:09.453Z"
   },
   {
    "duration": 0,
    "start_time": "2022-12-29T11:13:09.454Z"
   },
   {
    "duration": 0,
    "start_time": "2022-12-29T11:13:09.455Z"
   },
   {
    "duration": 0,
    "start_time": "2022-12-29T11:13:09.456Z"
   },
   {
    "duration": 0,
    "start_time": "2022-12-29T11:13:09.457Z"
   },
   {
    "duration": 0,
    "start_time": "2022-12-29T11:13:09.458Z"
   },
   {
    "duration": 0,
    "start_time": "2022-12-29T11:13:09.459Z"
   },
   {
    "duration": 0,
    "start_time": "2022-12-29T11:13:09.460Z"
   },
   {
    "duration": 0,
    "start_time": "2022-12-29T11:13:09.461Z"
   },
   {
    "duration": 0,
    "start_time": "2022-12-29T11:13:09.463Z"
   },
   {
    "duration": 0,
    "start_time": "2022-12-29T11:13:09.464Z"
   },
   {
    "duration": 0,
    "start_time": "2022-12-29T11:13:09.465Z"
   },
   {
    "duration": 0,
    "start_time": "2022-12-29T11:13:09.466Z"
   },
   {
    "duration": 0,
    "start_time": "2022-12-29T11:13:09.467Z"
   },
   {
    "duration": 0,
    "start_time": "2022-12-29T11:13:09.469Z"
   },
   {
    "duration": 0,
    "start_time": "2022-12-29T11:13:09.470Z"
   },
   {
    "duration": 0,
    "start_time": "2022-12-29T11:13:09.471Z"
   },
   {
    "duration": 0,
    "start_time": "2022-12-29T11:13:09.522Z"
   },
   {
    "duration": 0,
    "start_time": "2022-12-29T11:13:09.523Z"
   },
   {
    "duration": 0,
    "start_time": "2022-12-29T11:13:09.524Z"
   },
   {
    "duration": 0,
    "start_time": "2022-12-29T11:13:09.526Z"
   },
   {
    "duration": 0,
    "start_time": "2022-12-29T11:13:09.527Z"
   },
   {
    "duration": 0,
    "start_time": "2022-12-29T11:13:09.528Z"
   },
   {
    "duration": 0,
    "start_time": "2022-12-29T11:13:09.529Z"
   },
   {
    "duration": 0,
    "start_time": "2022-12-29T11:13:09.531Z"
   },
   {
    "duration": 0,
    "start_time": "2022-12-29T11:13:09.532Z"
   },
   {
    "duration": 0,
    "start_time": "2022-12-29T11:13:09.534Z"
   },
   {
    "duration": 0,
    "start_time": "2022-12-29T11:13:09.535Z"
   },
   {
    "duration": 0,
    "start_time": "2022-12-29T11:13:09.536Z"
   },
   {
    "duration": 0,
    "start_time": "2022-12-29T11:13:09.537Z"
   },
   {
    "duration": 0,
    "start_time": "2022-12-29T11:13:09.538Z"
   },
   {
    "duration": 0,
    "start_time": "2022-12-29T11:13:09.539Z"
   },
   {
    "duration": 1092,
    "start_time": "2022-12-29T11:13:44.804Z"
   },
   {
    "duration": 2,
    "start_time": "2022-12-29T11:13:45.898Z"
   },
   {
    "duration": 15,
    "start_time": "2022-12-29T11:13:45.902Z"
   },
   {
    "duration": 102,
    "start_time": "2022-12-29T11:13:45.919Z"
   },
   {
    "duration": 22,
    "start_time": "2022-12-29T11:13:46.023Z"
   },
   {
    "duration": 5,
    "start_time": "2022-12-29T11:13:46.046Z"
   },
   {
    "duration": 89,
    "start_time": "2022-12-29T11:13:46.052Z"
   },
   {
    "duration": 1737,
    "start_time": "2022-12-29T11:13:46.143Z"
   },
   {
    "duration": 166,
    "start_time": "2022-12-29T11:13:47.881Z"
   },
   {
    "duration": 0,
    "start_time": "2022-12-29T11:13:48.050Z"
   },
   {
    "duration": 0,
    "start_time": "2022-12-29T11:13:48.051Z"
   },
   {
    "duration": 0,
    "start_time": "2022-12-29T11:13:48.053Z"
   },
   {
    "duration": 0,
    "start_time": "2022-12-29T11:13:48.054Z"
   },
   {
    "duration": 0,
    "start_time": "2022-12-29T11:13:48.056Z"
   },
   {
    "duration": 0,
    "start_time": "2022-12-29T11:13:48.057Z"
   },
   {
    "duration": 0,
    "start_time": "2022-12-29T11:13:48.058Z"
   },
   {
    "duration": 0,
    "start_time": "2022-12-29T11:13:48.060Z"
   },
   {
    "duration": 0,
    "start_time": "2022-12-29T11:13:48.061Z"
   },
   {
    "duration": 0,
    "start_time": "2022-12-29T11:13:48.062Z"
   },
   {
    "duration": 0,
    "start_time": "2022-12-29T11:13:48.063Z"
   },
   {
    "duration": 0,
    "start_time": "2022-12-29T11:13:48.064Z"
   },
   {
    "duration": 0,
    "start_time": "2022-12-29T11:13:48.065Z"
   },
   {
    "duration": 0,
    "start_time": "2022-12-29T11:13:48.065Z"
   },
   {
    "duration": 0,
    "start_time": "2022-12-29T11:13:48.067Z"
   },
   {
    "duration": 0,
    "start_time": "2022-12-29T11:13:48.068Z"
   },
   {
    "duration": 0,
    "start_time": "2022-12-29T11:13:48.069Z"
   },
   {
    "duration": 0,
    "start_time": "2022-12-29T11:13:48.070Z"
   },
   {
    "duration": 0,
    "start_time": "2022-12-29T11:13:48.071Z"
   },
   {
    "duration": 0,
    "start_time": "2022-12-29T11:13:48.072Z"
   },
   {
    "duration": 0,
    "start_time": "2022-12-29T11:13:48.073Z"
   },
   {
    "duration": 0,
    "start_time": "2022-12-29T11:13:48.074Z"
   },
   {
    "duration": 0,
    "start_time": "2022-12-29T11:13:48.075Z"
   },
   {
    "duration": 0,
    "start_time": "2022-12-29T11:13:48.076Z"
   },
   {
    "duration": 0,
    "start_time": "2022-12-29T11:13:48.077Z"
   },
   {
    "duration": 0,
    "start_time": "2022-12-29T11:13:48.121Z"
   },
   {
    "duration": 0,
    "start_time": "2022-12-29T11:13:48.122Z"
   },
   {
    "duration": 0,
    "start_time": "2022-12-29T11:13:48.123Z"
   },
   {
    "duration": 0,
    "start_time": "2022-12-29T11:13:48.124Z"
   },
   {
    "duration": 0,
    "start_time": "2022-12-29T11:13:48.124Z"
   },
   {
    "duration": 0,
    "start_time": "2022-12-29T11:13:48.125Z"
   },
   {
    "duration": 0,
    "start_time": "2022-12-29T11:13:48.126Z"
   },
   {
    "duration": 0,
    "start_time": "2022-12-29T11:13:48.127Z"
   },
   {
    "duration": 0,
    "start_time": "2022-12-29T11:13:48.128Z"
   },
   {
    "duration": 0,
    "start_time": "2022-12-29T11:13:48.129Z"
   },
   {
    "duration": 0,
    "start_time": "2022-12-29T11:13:48.130Z"
   },
   {
    "duration": 0,
    "start_time": "2022-12-29T11:13:48.131Z"
   },
   {
    "duration": 0,
    "start_time": "2022-12-29T11:13:48.132Z"
   },
   {
    "duration": 0,
    "start_time": "2022-12-29T11:13:48.133Z"
   },
   {
    "duration": 0,
    "start_time": "2022-12-29T11:13:48.135Z"
   },
   {
    "duration": 0,
    "start_time": "2022-12-29T11:13:48.136Z"
   },
   {
    "duration": 36,
    "start_time": "2022-12-29T11:14:57.208Z"
   },
   {
    "duration": 41,
    "start_time": "2022-12-29T11:15:06.291Z"
   },
   {
    "duration": 1100,
    "start_time": "2022-12-29T11:15:19.688Z"
   },
   {
    "duration": 2,
    "start_time": "2022-12-29T11:15:20.790Z"
   },
   {
    "duration": 7,
    "start_time": "2022-12-29T11:15:20.793Z"
   },
   {
    "duration": 135,
    "start_time": "2022-12-29T11:15:20.801Z"
   },
   {
    "duration": 0,
    "start_time": "2022-12-29T11:15:20.940Z"
   },
   {
    "duration": 0,
    "start_time": "2022-12-29T11:15:20.941Z"
   },
   {
    "duration": 0,
    "start_time": "2022-12-29T11:15:20.942Z"
   },
   {
    "duration": 0,
    "start_time": "2022-12-29T11:15:20.943Z"
   },
   {
    "duration": 0,
    "start_time": "2022-12-29T11:15:20.945Z"
   },
   {
    "duration": 0,
    "start_time": "2022-12-29T11:15:20.946Z"
   },
   {
    "duration": 0,
    "start_time": "2022-12-29T11:15:20.948Z"
   },
   {
    "duration": 0,
    "start_time": "2022-12-29T11:15:20.949Z"
   },
   {
    "duration": 0,
    "start_time": "2022-12-29T11:15:20.950Z"
   },
   {
    "duration": 0,
    "start_time": "2022-12-29T11:15:20.952Z"
   },
   {
    "duration": 0,
    "start_time": "2022-12-29T11:15:20.953Z"
   },
   {
    "duration": 0,
    "start_time": "2022-12-29T11:15:20.954Z"
   },
   {
    "duration": 0,
    "start_time": "2022-12-29T11:15:20.955Z"
   },
   {
    "duration": 0,
    "start_time": "2022-12-29T11:15:20.956Z"
   },
   {
    "duration": 0,
    "start_time": "2022-12-29T11:15:20.957Z"
   },
   {
    "duration": 0,
    "start_time": "2022-12-29T11:15:20.958Z"
   },
   {
    "duration": 1,
    "start_time": "2022-12-29T11:15:20.958Z"
   },
   {
    "duration": 0,
    "start_time": "2022-12-29T11:15:20.960Z"
   },
   {
    "duration": 0,
    "start_time": "2022-12-29T11:15:20.961Z"
   },
   {
    "duration": 0,
    "start_time": "2022-12-29T11:15:20.962Z"
   },
   {
    "duration": 0,
    "start_time": "2022-12-29T11:15:20.963Z"
   },
   {
    "duration": 0,
    "start_time": "2022-12-29T11:15:20.964Z"
   },
   {
    "duration": 0,
    "start_time": "2022-12-29T11:15:20.965Z"
   },
   {
    "duration": 0,
    "start_time": "2022-12-29T11:15:20.966Z"
   },
   {
    "duration": 0,
    "start_time": "2022-12-29T11:15:20.967Z"
   },
   {
    "duration": 0,
    "start_time": "2022-12-29T11:15:20.968Z"
   },
   {
    "duration": 0,
    "start_time": "2022-12-29T11:15:20.969Z"
   },
   {
    "duration": 0,
    "start_time": "2022-12-29T11:15:20.970Z"
   },
   {
    "duration": 0,
    "start_time": "2022-12-29T11:15:20.971Z"
   },
   {
    "duration": 0,
    "start_time": "2022-12-29T11:15:21.022Z"
   },
   {
    "duration": 0,
    "start_time": "2022-12-29T11:15:21.022Z"
   },
   {
    "duration": 1,
    "start_time": "2022-12-29T11:15:21.023Z"
   },
   {
    "duration": 0,
    "start_time": "2022-12-29T11:15:21.024Z"
   },
   {
    "duration": 0,
    "start_time": "2022-12-29T11:15:21.025Z"
   },
   {
    "duration": 0,
    "start_time": "2022-12-29T11:15:21.026Z"
   },
   {
    "duration": 0,
    "start_time": "2022-12-29T11:15:21.027Z"
   },
   {
    "duration": 0,
    "start_time": "2022-12-29T11:15:21.028Z"
   },
   {
    "duration": 0,
    "start_time": "2022-12-29T11:15:21.029Z"
   },
   {
    "duration": 0,
    "start_time": "2022-12-29T11:15:21.031Z"
   },
   {
    "duration": 0,
    "start_time": "2022-12-29T11:15:21.032Z"
   },
   {
    "duration": 0,
    "start_time": "2022-12-29T11:15:21.033Z"
   },
   {
    "duration": 0,
    "start_time": "2022-12-29T11:15:21.034Z"
   },
   {
    "duration": 0,
    "start_time": "2022-12-29T11:15:21.035Z"
   },
   {
    "duration": 0,
    "start_time": "2022-12-29T11:15:21.036Z"
   },
   {
    "duration": 0,
    "start_time": "2022-12-29T11:15:21.037Z"
   },
   {
    "duration": 0,
    "start_time": "2022-12-29T11:15:21.038Z"
   },
   {
    "duration": 44,
    "start_time": "2022-12-29T11:15:29.700Z"
   },
   {
    "duration": 1134,
    "start_time": "2022-12-29T11:15:34.190Z"
   },
   {
    "duration": 3,
    "start_time": "2022-12-29T11:15:35.326Z"
   },
   {
    "duration": 12,
    "start_time": "2022-12-29T11:15:35.331Z"
   },
   {
    "duration": 151,
    "start_time": "2022-12-29T11:15:35.345Z"
   },
   {
    "duration": 0,
    "start_time": "2022-12-29T11:15:35.501Z"
   },
   {
    "duration": 0,
    "start_time": "2022-12-29T11:15:35.502Z"
   },
   {
    "duration": 0,
    "start_time": "2022-12-29T11:15:35.503Z"
   },
   {
    "duration": 0,
    "start_time": "2022-12-29T11:15:35.505Z"
   },
   {
    "duration": 0,
    "start_time": "2022-12-29T11:15:35.506Z"
   },
   {
    "duration": 0,
    "start_time": "2022-12-29T11:15:35.508Z"
   },
   {
    "duration": 0,
    "start_time": "2022-12-29T11:15:35.509Z"
   },
   {
    "duration": 0,
    "start_time": "2022-12-29T11:15:35.521Z"
   },
   {
    "duration": 0,
    "start_time": "2022-12-29T11:15:35.522Z"
   },
   {
    "duration": 0,
    "start_time": "2022-12-29T11:15:35.524Z"
   },
   {
    "duration": 0,
    "start_time": "2022-12-29T11:15:35.525Z"
   },
   {
    "duration": 0,
    "start_time": "2022-12-29T11:15:35.527Z"
   },
   {
    "duration": 0,
    "start_time": "2022-12-29T11:15:35.528Z"
   },
   {
    "duration": 0,
    "start_time": "2022-12-29T11:15:35.529Z"
   },
   {
    "duration": 0,
    "start_time": "2022-12-29T11:15:35.531Z"
   },
   {
    "duration": 0,
    "start_time": "2022-12-29T11:15:35.533Z"
   },
   {
    "duration": 0,
    "start_time": "2022-12-29T11:15:35.535Z"
   },
   {
    "duration": 0,
    "start_time": "2022-12-29T11:15:35.536Z"
   },
   {
    "duration": 0,
    "start_time": "2022-12-29T11:15:35.537Z"
   },
   {
    "duration": 0,
    "start_time": "2022-12-29T11:15:35.538Z"
   },
   {
    "duration": 0,
    "start_time": "2022-12-29T11:15:35.539Z"
   },
   {
    "duration": 0,
    "start_time": "2022-12-29T11:15:35.540Z"
   },
   {
    "duration": 0,
    "start_time": "2022-12-29T11:15:35.542Z"
   },
   {
    "duration": 0,
    "start_time": "2022-12-29T11:15:35.543Z"
   },
   {
    "duration": 0,
    "start_time": "2022-12-29T11:15:35.545Z"
   },
   {
    "duration": 0,
    "start_time": "2022-12-29T11:15:35.545Z"
   },
   {
    "duration": 0,
    "start_time": "2022-12-29T11:15:35.547Z"
   },
   {
    "duration": 0,
    "start_time": "2022-12-29T11:15:35.548Z"
   },
   {
    "duration": 0,
    "start_time": "2022-12-29T11:15:35.549Z"
   },
   {
    "duration": 0,
    "start_time": "2022-12-29T11:15:35.551Z"
   },
   {
    "duration": 0,
    "start_time": "2022-12-29T11:15:35.552Z"
   },
   {
    "duration": 0,
    "start_time": "2022-12-29T11:15:35.553Z"
   },
   {
    "duration": 0,
    "start_time": "2022-12-29T11:15:35.555Z"
   },
   {
    "duration": 0,
    "start_time": "2022-12-29T11:15:35.556Z"
   },
   {
    "duration": 0,
    "start_time": "2022-12-29T11:15:35.557Z"
   },
   {
    "duration": 0,
    "start_time": "2022-12-29T11:15:35.558Z"
   },
   {
    "duration": 0,
    "start_time": "2022-12-29T11:15:35.559Z"
   },
   {
    "duration": 0,
    "start_time": "2022-12-29T11:15:35.561Z"
   },
   {
    "duration": 0,
    "start_time": "2022-12-29T11:15:35.620Z"
   },
   {
    "duration": 0,
    "start_time": "2022-12-29T11:15:35.622Z"
   },
   {
    "duration": 0,
    "start_time": "2022-12-29T11:15:35.623Z"
   },
   {
    "duration": 0,
    "start_time": "2022-12-29T11:15:35.624Z"
   },
   {
    "duration": 0,
    "start_time": "2022-12-29T11:15:35.625Z"
   },
   {
    "duration": 0,
    "start_time": "2022-12-29T11:15:35.626Z"
   },
   {
    "duration": 0,
    "start_time": "2022-12-29T11:15:35.627Z"
   },
   {
    "duration": 0,
    "start_time": "2022-12-29T11:15:35.628Z"
   },
   {
    "duration": 46,
    "start_time": "2022-12-29T16:43:07.505Z"
   },
   {
    "duration": 1434,
    "start_time": "2022-12-29T16:43:18.628Z"
   },
   {
    "duration": 3,
    "start_time": "2022-12-29T16:43:21.379Z"
   },
   {
    "duration": 9,
    "start_time": "2022-12-29T16:43:22.632Z"
   },
   {
    "duration": 103,
    "start_time": "2022-12-29T16:43:25.541Z"
   },
   {
    "duration": 706,
    "start_time": "2022-12-29T16:44:02.541Z"
   },
   {
    "duration": 29,
    "start_time": "2022-12-29T16:44:18.445Z"
   },
   {
    "duration": 14,
    "start_time": "2022-12-29T16:59:11.612Z"
   },
   {
    "duration": 17,
    "start_time": "2022-12-29T16:59:54.322Z"
   },
   {
    "duration": 53,
    "start_time": "2022-12-29T17:00:20.723Z"
   },
   {
    "duration": 13,
    "start_time": "2022-12-29T17:00:31.617Z"
   },
   {
    "duration": 14,
    "start_time": "2022-12-29T17:00:46.437Z"
   },
   {
    "duration": 9,
    "start_time": "2022-12-29T17:34:48.965Z"
   },
   {
    "duration": 111,
    "start_time": "2022-12-29T17:35:02.644Z"
   },
   {
    "duration": 10,
    "start_time": "2022-12-29T17:35:43.340Z"
   },
   {
    "duration": 17,
    "start_time": "2022-12-29T17:36:29.785Z"
   },
   {
    "duration": 3,
    "start_time": "2022-12-29T17:39:55.892Z"
   },
   {
    "duration": 9,
    "start_time": "2022-12-29T17:39:55.896Z"
   },
   {
    "duration": 7,
    "start_time": "2022-12-29T17:39:55.907Z"
   },
   {
    "duration": 100,
    "start_time": "2022-12-29T17:39:55.916Z"
   },
   {
    "duration": 18,
    "start_time": "2022-12-29T17:39:56.018Z"
   },
   {
    "duration": 7,
    "start_time": "2022-12-29T17:39:56.037Z"
   },
   {
    "duration": 87,
    "start_time": "2022-12-29T17:39:56.046Z"
   },
   {
    "duration": 1960,
    "start_time": "2022-12-29T17:39:56.135Z"
   },
   {
    "duration": 17,
    "start_time": "2022-12-29T17:39:58.097Z"
   },
   {
    "duration": 5,
    "start_time": "2022-12-29T17:39:58.116Z"
   },
   {
    "duration": 23,
    "start_time": "2022-12-29T17:39:58.124Z"
   },
   {
    "duration": 10,
    "start_time": "2022-12-29T17:39:58.149Z"
   },
   {
    "duration": 22,
    "start_time": "2022-12-29T17:39:58.161Z"
   },
   {
    "duration": 35,
    "start_time": "2022-12-29T17:39:58.184Z"
   },
   {
    "duration": 5,
    "start_time": "2022-12-29T17:39:58.221Z"
   },
   {
    "duration": 16,
    "start_time": "2022-12-29T17:39:58.228Z"
   },
   {
    "duration": 15,
    "start_time": "2022-12-29T17:39:58.246Z"
   },
   {
    "duration": 76,
    "start_time": "2022-12-29T17:39:58.263Z"
   },
   {
    "duration": 20,
    "start_time": "2022-12-29T17:39:58.341Z"
   },
   {
    "duration": 0,
    "start_time": "2022-12-29T17:39:58.364Z"
   },
   {
    "duration": 0,
    "start_time": "2022-12-29T17:39:58.366Z"
   },
   {
    "duration": 0,
    "start_time": "2022-12-29T17:39:58.367Z"
   },
   {
    "duration": 0,
    "start_time": "2022-12-29T17:39:58.368Z"
   },
   {
    "duration": 0,
    "start_time": "2022-12-29T17:39:58.370Z"
   },
   {
    "duration": 0,
    "start_time": "2022-12-29T17:39:58.372Z"
   },
   {
    "duration": 0,
    "start_time": "2022-12-29T17:39:58.373Z"
   },
   {
    "duration": 0,
    "start_time": "2022-12-29T17:39:58.374Z"
   },
   {
    "duration": 0,
    "start_time": "2022-12-29T17:39:58.412Z"
   },
   {
    "duration": 0,
    "start_time": "2022-12-29T17:39:58.414Z"
   },
   {
    "duration": 0,
    "start_time": "2022-12-29T17:39:58.415Z"
   },
   {
    "duration": 0,
    "start_time": "2022-12-29T17:39:58.417Z"
   },
   {
    "duration": 0,
    "start_time": "2022-12-29T17:39:58.418Z"
   },
   {
    "duration": 0,
    "start_time": "2022-12-29T17:39:58.420Z"
   },
   {
    "duration": 0,
    "start_time": "2022-12-29T17:39:58.421Z"
   },
   {
    "duration": 0,
    "start_time": "2022-12-29T17:39:58.423Z"
   },
   {
    "duration": 0,
    "start_time": "2022-12-29T17:39:58.424Z"
   },
   {
    "duration": 0,
    "start_time": "2022-12-29T17:39:58.426Z"
   },
   {
    "duration": 0,
    "start_time": "2022-12-29T17:39:58.427Z"
   },
   {
    "duration": 0,
    "start_time": "2022-12-29T17:39:58.429Z"
   },
   {
    "duration": 0,
    "start_time": "2022-12-29T17:39:58.430Z"
   },
   {
    "duration": 0,
    "start_time": "2022-12-29T17:39:58.432Z"
   },
   {
    "duration": 0,
    "start_time": "2022-12-29T17:39:58.433Z"
   },
   {
    "duration": 0,
    "start_time": "2022-12-29T17:39:58.435Z"
   },
   {
    "duration": 0,
    "start_time": "2022-12-29T17:39:58.437Z"
   },
   {
    "duration": 0,
    "start_time": "2022-12-29T17:39:58.438Z"
   },
   {
    "duration": 0,
    "start_time": "2022-12-29T17:39:58.439Z"
   },
   {
    "duration": 0,
    "start_time": "2022-12-29T17:39:58.440Z"
   },
   {
    "duration": 0,
    "start_time": "2022-12-29T17:39:58.441Z"
   },
   {
    "duration": 0,
    "start_time": "2022-12-29T17:39:58.442Z"
   },
   {
    "duration": 0,
    "start_time": "2022-12-29T17:39:58.443Z"
   },
   {
    "duration": 17,
    "start_time": "2022-12-29T17:42:55.591Z"
   },
   {
    "duration": 11,
    "start_time": "2022-12-29T17:44:02.334Z"
   },
   {
    "duration": 4,
    "start_time": "2022-12-29T17:44:46.308Z"
   },
   {
    "duration": 13,
    "start_time": "2022-12-29T17:44:46.313Z"
   },
   {
    "duration": 26,
    "start_time": "2022-12-29T17:44:46.328Z"
   },
   {
    "duration": 106,
    "start_time": "2022-12-29T17:44:46.357Z"
   },
   {
    "duration": 23,
    "start_time": "2022-12-29T17:44:46.465Z"
   },
   {
    "duration": 2,
    "start_time": "2022-12-29T17:44:46.513Z"
   },
   {
    "duration": 80,
    "start_time": "2022-12-29T17:44:46.517Z"
   },
   {
    "duration": 1933,
    "start_time": "2022-12-29T17:44:46.599Z"
   },
   {
    "duration": 15,
    "start_time": "2022-12-29T17:44:48.535Z"
   },
   {
    "duration": 5,
    "start_time": "2022-12-29T17:44:48.552Z"
   },
   {
    "duration": 19,
    "start_time": "2022-12-29T17:44:48.559Z"
   },
   {
    "duration": 37,
    "start_time": "2022-12-29T17:44:48.579Z"
   },
   {
    "duration": 19,
    "start_time": "2022-12-29T17:44:48.617Z"
   },
   {
    "duration": 7,
    "start_time": "2022-12-29T17:44:48.638Z"
   },
   {
    "duration": 5,
    "start_time": "2022-12-29T17:44:48.646Z"
   },
   {
    "duration": 15,
    "start_time": "2022-12-29T17:44:48.653Z"
   },
   {
    "duration": 50,
    "start_time": "2022-12-29T17:44:48.670Z"
   },
   {
    "duration": 41,
    "start_time": "2022-12-29T17:44:48.722Z"
   },
   {
    "duration": 11,
    "start_time": "2022-12-29T17:44:48.764Z"
   },
   {
    "duration": 53,
    "start_time": "2022-12-29T17:44:48.777Z"
   },
   {
    "duration": 6,
    "start_time": "2022-12-29T17:44:48.831Z"
   },
   {
    "duration": 46,
    "start_time": "2022-12-29T17:44:48.838Z"
   },
   {
    "duration": 12,
    "start_time": "2022-12-29T17:44:48.912Z"
   },
   {
    "duration": 5,
    "start_time": "2022-12-29T17:44:48.927Z"
   },
   {
    "duration": 19,
    "start_time": "2022-12-29T17:44:48.933Z"
   },
   {
    "duration": 6,
    "start_time": "2022-12-29T17:44:48.954Z"
   },
   {
    "duration": 10,
    "start_time": "2022-12-29T17:44:48.961Z"
   },
   {
    "duration": 55,
    "start_time": "2022-12-29T17:44:48.972Z"
   },
   {
    "duration": 52,
    "start_time": "2022-12-29T17:44:49.029Z"
   },
   {
    "duration": 2159,
    "start_time": "2022-12-29T17:44:49.082Z"
   },
   {
    "duration": 483,
    "start_time": "2022-12-29T17:44:51.243Z"
   },
   {
    "duration": 163,
    "start_time": "2022-12-29T17:44:51.728Z"
   },
   {
    "duration": 215,
    "start_time": "2022-12-29T17:44:51.892Z"
   },
   {
    "duration": 376,
    "start_time": "2022-12-29T17:44:52.108Z"
   },
   {
    "duration": 135,
    "start_time": "2022-12-29T17:44:52.485Z"
   },
   {
    "duration": 1065,
    "start_time": "2022-12-29T17:44:52.622Z"
   },
   {
    "duration": 331,
    "start_time": "2022-12-29T17:44:53.688Z"
   },
   {
    "duration": 175,
    "start_time": "2022-12-29T17:44:54.021Z"
   },
   {
    "duration": 177,
    "start_time": "2022-12-29T17:44:54.197Z"
   },
   {
    "duration": 631,
    "start_time": "2022-12-29T17:44:54.376Z"
   },
   {
    "duration": 510,
    "start_time": "2022-12-29T17:44:55.011Z"
   },
   {
    "duration": 463,
    "start_time": "2022-12-29T17:44:55.523Z"
   },
   {
    "duration": 216,
    "start_time": "2022-12-29T17:44:55.988Z"
   },
   {
    "duration": 383,
    "start_time": "2022-12-29T17:44:56.205Z"
   },
   {
    "duration": 452,
    "start_time": "2022-12-29T17:44:56.590Z"
   },
   {
    "duration": 142,
    "start_time": "2022-12-29T17:44:57.043Z"
   },
   {
    "duration": 538,
    "start_time": "2022-12-29T17:44:57.186Z"
   },
   {
    "duration": 17,
    "start_time": "2022-12-29T17:44:57.725Z"
   },
   {
    "duration": 78,
    "start_time": "2022-12-29T17:44:57.744Z"
   },
   {
    "duration": 406,
    "start_time": "2022-12-29T17:44:57.824Z"
   },
   {
    "duration": 3,
    "start_time": "2022-12-29T17:53:32.527Z"
   },
   {
    "duration": 8,
    "start_time": "2022-12-29T17:53:32.532Z"
   },
   {
    "duration": 9,
    "start_time": "2022-12-29T17:53:32.543Z"
   },
   {
    "duration": 124,
    "start_time": "2022-12-29T17:53:32.553Z"
   },
   {
    "duration": 39,
    "start_time": "2022-12-29T17:53:32.679Z"
   },
   {
    "duration": 7,
    "start_time": "2022-12-29T17:53:32.719Z"
   },
   {
    "duration": 104,
    "start_time": "2022-12-29T17:53:32.728Z"
   },
   {
    "duration": 2096,
    "start_time": "2022-12-29T17:53:32.834Z"
   },
   {
    "duration": 16,
    "start_time": "2022-12-29T17:53:34.932Z"
   },
   {
    "duration": 11,
    "start_time": "2022-12-29T17:53:34.950Z"
   },
   {
    "duration": 20,
    "start_time": "2022-12-29T17:53:34.963Z"
   },
   {
    "duration": 30,
    "start_time": "2022-12-29T17:53:34.985Z"
   },
   {
    "duration": 20,
    "start_time": "2022-12-29T17:53:35.017Z"
   },
   {
    "duration": 7,
    "start_time": "2022-12-29T17:53:35.039Z"
   },
   {
    "duration": 6,
    "start_time": "2022-12-29T17:53:35.047Z"
   },
   {
    "duration": 16,
    "start_time": "2022-12-29T17:53:35.054Z"
   },
   {
    "duration": 50,
    "start_time": "2022-12-29T17:53:35.071Z"
   },
   {
    "duration": 40,
    "start_time": "2022-12-29T17:53:35.123Z"
   },
   {
    "duration": 11,
    "start_time": "2022-12-29T17:53:35.165Z"
   },
   {
    "duration": 52,
    "start_time": "2022-12-29T17:53:35.178Z"
   },
   {
    "duration": 5,
    "start_time": "2022-12-29T17:53:35.232Z"
   },
   {
    "duration": 42,
    "start_time": "2022-12-29T17:53:35.239Z"
   },
   {
    "duration": 36,
    "start_time": "2022-12-29T17:53:35.283Z"
   },
   {
    "duration": 3,
    "start_time": "2022-12-29T17:53:35.321Z"
   },
   {
    "duration": 23,
    "start_time": "2022-12-29T17:53:35.326Z"
   },
   {
    "duration": 6,
    "start_time": "2022-12-29T17:53:35.351Z"
   },
   {
    "duration": 10,
    "start_time": "2022-12-29T17:53:35.358Z"
   },
   {
    "duration": 53,
    "start_time": "2022-12-29T17:53:35.369Z"
   },
   {
    "duration": 48,
    "start_time": "2022-12-29T17:53:35.426Z"
   },
   {
    "duration": 2256,
    "start_time": "2022-12-29T17:53:35.475Z"
   },
   {
    "duration": 303,
    "start_time": "2022-12-29T17:53:37.733Z"
   },
   {
    "duration": 175,
    "start_time": "2022-12-29T17:53:38.038Z"
   },
   {
    "duration": 221,
    "start_time": "2022-12-29T17:53:38.215Z"
   },
   {
    "duration": 366,
    "start_time": "2022-12-29T17:53:38.439Z"
   },
   {
    "duration": 157,
    "start_time": "2022-12-29T17:53:38.807Z"
   },
   {
    "duration": 1140,
    "start_time": "2022-12-29T17:53:38.966Z"
   },
   {
    "duration": 162,
    "start_time": "2022-12-29T17:53:40.113Z"
   },
   {
    "duration": 181,
    "start_time": "2022-12-29T17:53:40.276Z"
   },
   {
    "duration": 428,
    "start_time": "2022-12-29T17:53:40.459Z"
   },
   {
    "duration": 662,
    "start_time": "2022-12-29T17:53:40.888Z"
   },
   {
    "duration": 534,
    "start_time": "2022-12-29T17:53:41.552Z"
   },
   {
    "duration": 477,
    "start_time": "2022-12-29T17:53:42.088Z"
   },
   {
    "duration": 228,
    "start_time": "2022-12-29T17:53:42.567Z"
   },
   {
    "duration": 336,
    "start_time": "2022-12-29T17:53:42.797Z"
   },
   {
    "duration": 312,
    "start_time": "2022-12-29T17:53:43.135Z"
   },
   {
    "duration": 150,
    "start_time": "2022-12-29T17:53:43.449Z"
   },
   {
    "duration": 590,
    "start_time": "2022-12-29T17:53:43.601Z"
   },
   {
    "duration": 27,
    "start_time": "2022-12-29T17:53:44.194Z"
   },
   {
    "duration": 55,
    "start_time": "2022-12-29T17:53:44.223Z"
   },
   {
    "duration": 419,
    "start_time": "2022-12-29T17:53:44.280Z"
   },
   {
    "duration": 1144,
    "start_time": "2022-12-29T23:22:21.246Z"
   },
   {
    "duration": 5,
    "start_time": "2022-12-29T23:22:22.394Z"
   },
   {
    "duration": 12,
    "start_time": "2022-12-29T23:22:22.402Z"
   },
   {
    "duration": 122,
    "start_time": "2022-12-29T23:22:22.417Z"
   },
   {
    "duration": 20,
    "start_time": "2022-12-29T23:22:22.541Z"
   },
   {
    "duration": 2,
    "start_time": "2022-12-29T23:22:22.563Z"
   },
   {
    "duration": 91,
    "start_time": "2022-12-29T23:22:22.566Z"
   },
   {
    "duration": 1753,
    "start_time": "2022-12-29T23:22:22.658Z"
   },
   {
    "duration": 100,
    "start_time": "2022-12-29T23:22:24.412Z"
   },
   {
    "duration": 5,
    "start_time": "2022-12-29T23:22:24.515Z"
   },
   {
    "duration": 32,
    "start_time": "2022-12-29T23:22:24.522Z"
   },
   {
    "duration": 9,
    "start_time": "2022-12-29T23:22:24.556Z"
   },
   {
    "duration": 23,
    "start_time": "2022-12-29T23:22:24.567Z"
   },
   {
    "duration": 8,
    "start_time": "2022-12-29T23:22:24.591Z"
   },
   {
    "duration": 37,
    "start_time": "2022-12-29T23:22:24.601Z"
   },
   {
    "duration": 15,
    "start_time": "2022-12-29T23:22:24.640Z"
   },
   {
    "duration": 24,
    "start_time": "2022-12-29T23:22:24.657Z"
   },
   {
    "duration": 66,
    "start_time": "2022-12-29T23:22:24.682Z"
   },
   {
    "duration": 14,
    "start_time": "2022-12-29T23:22:24.750Z"
   },
   {
    "duration": 34,
    "start_time": "2022-12-29T23:22:24.766Z"
   },
   {
    "duration": 7,
    "start_time": "2022-12-29T23:22:24.802Z"
   },
   {
    "duration": 70,
    "start_time": "2022-12-29T23:22:24.810Z"
   },
   {
    "duration": 14,
    "start_time": "2022-12-29T23:22:24.882Z"
   },
   {
    "duration": 15,
    "start_time": "2022-12-29T23:22:24.898Z"
   },
   {
    "duration": 35,
    "start_time": "2022-12-29T23:22:24.915Z"
   },
   {
    "duration": 7,
    "start_time": "2022-12-29T23:22:24.951Z"
   },
   {
    "duration": 22,
    "start_time": "2022-12-29T23:22:24.959Z"
   },
   {
    "duration": 32,
    "start_time": "2022-12-29T23:22:24.985Z"
   },
   {
    "duration": 59,
    "start_time": "2022-12-29T23:22:25.019Z"
   },
   {
    "duration": 2126,
    "start_time": "2022-12-29T23:22:25.081Z"
   },
   {
    "duration": 290,
    "start_time": "2022-12-29T23:22:27.209Z"
   },
   {
    "duration": 164,
    "start_time": "2022-12-29T23:22:27.501Z"
   },
   {
    "duration": 217,
    "start_time": "2022-12-29T23:22:27.667Z"
   },
   {
    "duration": 387,
    "start_time": "2022-12-29T23:22:27.885Z"
   },
   {
    "duration": 158,
    "start_time": "2022-12-29T23:22:28.273Z"
   },
   {
    "duration": 1313,
    "start_time": "2022-12-29T23:22:28.434Z"
   },
   {
    "duration": 156,
    "start_time": "2022-12-29T23:22:29.749Z"
   },
   {
    "duration": 190,
    "start_time": "2022-12-29T23:22:29.906Z"
   },
   {
    "duration": 185,
    "start_time": "2022-12-29T23:22:30.098Z"
   },
   {
    "duration": 808,
    "start_time": "2022-12-29T23:22:30.285Z"
   },
   {
    "duration": 533,
    "start_time": "2022-12-29T23:22:31.094Z"
   },
   {
    "duration": 502,
    "start_time": "2022-12-29T23:22:31.635Z"
   },
   {
    "duration": 235,
    "start_time": "2022-12-29T23:22:32.140Z"
   },
   {
    "duration": 392,
    "start_time": "2022-12-29T23:22:32.377Z"
   },
   {
    "duration": 467,
    "start_time": "2022-12-29T23:22:32.771Z"
   },
   {
    "duration": 172,
    "start_time": "2022-12-29T23:22:33.240Z"
   },
   {
    "duration": 615,
    "start_time": "2022-12-29T23:22:33.414Z"
   },
   {
    "duration": 18,
    "start_time": "2022-12-29T23:22:34.031Z"
   },
   {
    "duration": 60,
    "start_time": "2022-12-29T23:22:34.050Z"
   },
   {
    "duration": 416,
    "start_time": "2022-12-29T23:22:34.136Z"
   },
   {
    "duration": 16,
    "start_time": "2022-12-29T23:25:27.403Z"
   },
   {
    "duration": 6,
    "start_time": "2022-12-29T23:27:09.658Z"
   },
   {
    "duration": 51,
    "start_time": "2022-12-30T07:55:35.710Z"
   },
   {
    "duration": 43,
    "start_time": "2022-12-30T07:56:16.226Z"
   },
   {
    "duration": 1241,
    "start_time": "2022-12-30T07:58:16.444Z"
   },
   {
    "duration": 2,
    "start_time": "2022-12-30T07:58:17.687Z"
   },
   {
    "duration": 6,
    "start_time": "2022-12-30T07:58:17.695Z"
   },
   {
    "duration": 346,
    "start_time": "2022-12-30T07:58:17.703Z"
   },
   {
    "duration": 26,
    "start_time": "2022-12-30T07:58:18.051Z"
   },
   {
    "duration": 2,
    "start_time": "2022-12-30T07:58:18.078Z"
   },
   {
    "duration": 92,
    "start_time": "2022-12-30T07:58:18.082Z"
   },
   {
    "duration": 1901,
    "start_time": "2022-12-30T07:58:20.689Z"
   },
   {
    "duration": 193,
    "start_time": "2022-12-30T08:00:44.851Z"
   },
   {
    "duration": 3,
    "start_time": "2022-12-30T08:01:40.725Z"
   },
   {
    "duration": 6,
    "start_time": "2022-12-30T08:01:40.731Z"
   },
   {
    "duration": 7,
    "start_time": "2022-12-30T08:01:40.739Z"
   },
   {
    "duration": 90,
    "start_time": "2022-12-30T08:01:40.748Z"
   },
   {
    "duration": 18,
    "start_time": "2022-12-30T08:01:40.840Z"
   },
   {
    "duration": 5,
    "start_time": "2022-12-30T08:01:40.859Z"
   },
   {
    "duration": 85,
    "start_time": "2022-12-30T08:01:40.865Z"
   },
   {
    "duration": 1720,
    "start_time": "2022-12-30T08:01:40.951Z"
   },
   {
    "duration": 63,
    "start_time": "2022-12-30T08:01:45.003Z"
   },
   {
    "duration": 25,
    "start_time": "2022-12-30T08:02:22.133Z"
   },
   {
    "duration": 25,
    "start_time": "2022-12-30T08:02:44.732Z"
   },
   {
    "duration": 27,
    "start_time": "2022-12-30T08:03:13.580Z"
   },
   {
    "duration": 26,
    "start_time": "2022-12-30T08:03:34.965Z"
   },
   {
    "duration": 42,
    "start_time": "2022-12-30T08:04:27.860Z"
   },
   {
    "duration": 22,
    "start_time": "2022-12-30T08:15:53.830Z"
   },
   {
    "duration": 27,
    "start_time": "2022-12-30T08:16:40.231Z"
   },
   {
    "duration": 46,
    "start_time": "2022-12-30T08:16:54.119Z"
   },
   {
    "duration": 27,
    "start_time": "2022-12-30T08:17:18.065Z"
   },
   {
    "duration": 4,
    "start_time": "2022-12-30T08:21:32.619Z"
   },
   {
    "duration": 12,
    "start_time": "2022-12-30T08:21:32.625Z"
   },
   {
    "duration": 42,
    "start_time": "2022-12-30T08:21:32.639Z"
   },
   {
    "duration": 100,
    "start_time": "2022-12-30T08:21:32.683Z"
   },
   {
    "duration": 20,
    "start_time": "2022-12-30T08:21:32.785Z"
   },
   {
    "duration": 18,
    "start_time": "2022-12-30T08:21:32.806Z"
   },
   {
    "duration": 87,
    "start_time": "2022-12-30T08:21:32.826Z"
   },
   {
    "duration": 2034,
    "start_time": "2022-12-30T08:21:32.915Z"
   },
   {
    "duration": 46,
    "start_time": "2022-12-30T08:21:34.951Z"
   },
   {
    "duration": 6,
    "start_time": "2022-12-30T08:21:34.999Z"
   },
   {
    "duration": 30,
    "start_time": "2022-12-30T08:21:35.007Z"
   },
   {
    "duration": 10,
    "start_time": "2022-12-30T08:21:35.039Z"
   },
   {
    "duration": 32,
    "start_time": "2022-12-30T08:21:35.051Z"
   },
   {
    "duration": 19,
    "start_time": "2022-12-30T08:21:35.097Z"
   },
   {
    "duration": 17,
    "start_time": "2022-12-30T08:21:35.117Z"
   },
   {
    "duration": 35,
    "start_time": "2022-12-30T08:21:35.137Z"
   },
   {
    "duration": 59,
    "start_time": "2022-12-30T08:21:35.174Z"
   },
   {
    "duration": 51,
    "start_time": "2022-12-30T08:21:35.235Z"
   },
   {
    "duration": 12,
    "start_time": "2022-12-30T08:21:35.287Z"
   },
   {
    "duration": 28,
    "start_time": "2022-12-30T08:21:35.301Z"
   },
   {
    "duration": 32,
    "start_time": "2022-12-30T08:21:39.280Z"
   },
   {
    "duration": 3,
    "start_time": "2022-12-30T08:59:30.796Z"
   },
   {
    "duration": 40,
    "start_time": "2022-12-30T08:59:30.801Z"
   },
   {
    "duration": 42,
    "start_time": "2022-12-30T08:59:30.842Z"
   },
   {
    "duration": 116,
    "start_time": "2022-12-30T08:59:30.886Z"
   },
   {
    "duration": 18,
    "start_time": "2022-12-30T08:59:31.003Z"
   },
   {
    "duration": 23,
    "start_time": "2022-12-30T08:59:31.023Z"
   },
   {
    "duration": 113,
    "start_time": "2022-12-30T08:59:31.048Z"
   },
   {
    "duration": 1986,
    "start_time": "2022-12-30T08:59:31.163Z"
   },
   {
    "duration": 29,
    "start_time": "2022-12-30T08:59:33.152Z"
   },
   {
    "duration": 18,
    "start_time": "2022-12-30T08:59:33.182Z"
   },
   {
    "duration": 21,
    "start_time": "2022-12-30T08:59:33.202Z"
   },
   {
    "duration": 9,
    "start_time": "2022-12-30T08:59:33.225Z"
   },
   {
    "duration": 18,
    "start_time": "2022-12-30T08:59:33.236Z"
   },
   {
    "duration": 41,
    "start_time": "2022-12-30T08:59:33.256Z"
   },
   {
    "duration": 5,
    "start_time": "2022-12-30T08:59:33.299Z"
   },
   {
    "duration": 16,
    "start_time": "2022-12-30T08:59:33.306Z"
   },
   {
    "duration": 14,
    "start_time": "2022-12-30T08:59:33.323Z"
   },
   {
    "duration": 69,
    "start_time": "2022-12-30T08:59:33.339Z"
   },
   {
    "duration": 12,
    "start_time": "2022-12-30T08:59:33.409Z"
   },
   {
    "duration": 25,
    "start_time": "2022-12-30T08:59:33.423Z"
   },
   {
    "duration": 54,
    "start_time": "2022-12-30T08:59:33.449Z"
   },
   {
    "duration": 5,
    "start_time": "2022-12-30T08:59:33.505Z"
   },
   {
    "duration": 43,
    "start_time": "2022-12-30T08:59:33.512Z"
   },
   {
    "duration": 11,
    "start_time": "2022-12-30T08:59:33.558Z"
   },
   {
    "duration": 29,
    "start_time": "2022-12-30T08:59:33.570Z"
   },
   {
    "duration": 21,
    "start_time": "2022-12-30T08:59:33.600Z"
   },
   {
    "duration": 5,
    "start_time": "2022-12-30T08:59:33.622Z"
   },
   {
    "duration": 8,
    "start_time": "2022-12-30T08:59:33.629Z"
   },
   {
    "duration": 19,
    "start_time": "2022-12-30T08:59:33.638Z"
   },
   {
    "duration": 85,
    "start_time": "2022-12-30T08:59:33.659Z"
   },
   {
    "duration": 2065,
    "start_time": "2022-12-30T08:59:33.745Z"
   },
   {
    "duration": 354,
    "start_time": "2022-12-30T08:59:35.811Z"
   },
   {
    "duration": 162,
    "start_time": "2022-12-30T08:59:36.167Z"
   },
   {
    "duration": 209,
    "start_time": "2022-12-30T08:59:36.330Z"
   },
   {
    "duration": 360,
    "start_time": "2022-12-30T08:59:36.541Z"
   },
   {
    "duration": 138,
    "start_time": "2022-12-30T08:59:36.902Z"
   },
   {
    "duration": 1360,
    "start_time": "2022-12-30T08:59:37.042Z"
   },
   {
    "duration": 143,
    "start_time": "2022-12-30T08:59:38.404Z"
   },
   {
    "duration": 175,
    "start_time": "2022-12-30T08:59:38.549Z"
   },
   {
    "duration": 177,
    "start_time": "2022-12-30T08:59:38.725Z"
   },
   {
    "duration": 684,
    "start_time": "2022-12-30T08:59:38.904Z"
   },
   {
    "duration": 534,
    "start_time": "2022-12-30T08:59:39.589Z"
   },
   {
    "duration": 698,
    "start_time": "2022-12-30T08:59:40.125Z"
   },
   {
    "duration": 220,
    "start_time": "2022-12-30T08:59:40.825Z"
   },
   {
    "duration": 324,
    "start_time": "2022-12-30T08:59:41.047Z"
   },
   {
    "duration": 303,
    "start_time": "2022-12-30T08:59:41.373Z"
   },
   {
    "duration": 153,
    "start_time": "2022-12-30T08:59:41.677Z"
   },
   {
    "duration": 568,
    "start_time": "2022-12-30T08:59:41.832Z"
   },
   {
    "duration": 17,
    "start_time": "2022-12-30T08:59:42.401Z"
   },
   {
    "duration": 119,
    "start_time": "2022-12-30T08:59:58.960Z"
   },
   {
    "duration": 108,
    "start_time": "2022-12-30T09:04:50.562Z"
   },
   {
    "duration": 605,
    "start_time": "2022-12-30T09:04:58.856Z"
   },
   {
    "duration": 127,
    "start_time": "2022-12-30T09:05:11.570Z"
   },
   {
    "duration": 453,
    "start_time": "2022-12-30T09:05:25.634Z"
   },
   {
    "duration": 111,
    "start_time": "2022-12-30T09:06:13.577Z"
   },
   {
    "duration": 144,
    "start_time": "2022-12-30T09:07:28.882Z"
   },
   {
    "duration": 174,
    "start_time": "2022-12-30T09:08:28.211Z"
   },
   {
    "duration": 121,
    "start_time": "2022-12-30T09:08:45.129Z"
   },
   {
    "duration": 151,
    "start_time": "2022-12-30T09:08:53.730Z"
   },
   {
    "duration": 188,
    "start_time": "2022-12-30T09:09:54.465Z"
   },
   {
    "duration": 200,
    "start_time": "2022-12-30T09:10:01.665Z"
   },
   {
    "duration": 192,
    "start_time": "2022-12-30T09:12:47.436Z"
   },
   {
    "duration": 62,
    "start_time": "2022-12-30T09:15:56.517Z"
   },
   {
    "duration": 366,
    "start_time": "2022-12-30T09:16:22.916Z"
   },
   {
    "duration": 372,
    "start_time": "2022-12-30T09:16:40.312Z"
   },
   {
    "duration": 364,
    "start_time": "2022-12-30T09:17:27.820Z"
   },
   {
    "duration": 357,
    "start_time": "2022-12-30T09:19:23.972Z"
   },
   {
    "duration": 3,
    "start_time": "2022-12-30T09:19:44.762Z"
   },
   {
    "duration": 6,
    "start_time": "2022-12-30T09:19:44.766Z"
   },
   {
    "duration": 7,
    "start_time": "2022-12-30T09:19:44.774Z"
   },
   {
    "duration": 98,
    "start_time": "2022-12-30T09:19:44.783Z"
   },
   {
    "duration": 19,
    "start_time": "2022-12-30T09:19:44.883Z"
   },
   {
    "duration": 7,
    "start_time": "2022-12-30T09:19:44.903Z"
   },
   {
    "duration": 95,
    "start_time": "2022-12-30T09:19:44.911Z"
   },
   {
    "duration": 2143,
    "start_time": "2022-12-30T09:19:45.007Z"
   },
   {
    "duration": 26,
    "start_time": "2022-12-30T09:19:47.152Z"
   },
   {
    "duration": 5,
    "start_time": "2022-12-30T09:19:47.196Z"
   },
   {
    "duration": 27,
    "start_time": "2022-12-30T09:19:47.203Z"
   },
   {
    "duration": 9,
    "start_time": "2022-12-30T09:19:47.231Z"
   },
   {
    "duration": 22,
    "start_time": "2022-12-30T09:19:47.241Z"
   },
   {
    "duration": 7,
    "start_time": "2022-12-30T09:19:47.265Z"
   },
   {
    "duration": 24,
    "start_time": "2022-12-30T09:19:47.273Z"
   },
   {
    "duration": 16,
    "start_time": "2022-12-30T09:19:47.298Z"
   },
   {
    "duration": 14,
    "start_time": "2022-12-30T09:19:47.316Z"
   },
   {
    "duration": 66,
    "start_time": "2022-12-30T09:19:47.331Z"
   },
   {
    "duration": 12,
    "start_time": "2022-12-30T09:19:47.398Z"
   },
   {
    "duration": 33,
    "start_time": "2022-12-30T09:19:47.411Z"
   },
   {
    "duration": 27,
    "start_time": "2022-12-30T09:19:47.446Z"
   },
   {
    "duration": 24,
    "start_time": "2022-12-30T09:19:47.474Z"
   },
   {
    "duration": 48,
    "start_time": "2022-12-30T09:19:47.500Z"
   },
   {
    "duration": 10,
    "start_time": "2022-12-30T09:19:47.549Z"
   },
   {
    "duration": 5,
    "start_time": "2022-12-30T09:19:47.563Z"
   },
   {
    "duration": 39,
    "start_time": "2022-12-30T09:19:47.570Z"
   },
   {
    "duration": 7,
    "start_time": "2022-12-30T09:19:47.610Z"
   },
   {
    "duration": 24,
    "start_time": "2022-12-30T09:19:47.619Z"
   },
   {
    "duration": 37,
    "start_time": "2022-12-30T09:19:47.644Z"
   },
   {
    "duration": 56,
    "start_time": "2022-12-30T09:19:47.683Z"
   },
   {
    "duration": 2202,
    "start_time": "2022-12-30T09:19:47.741Z"
   },
   {
    "duration": 273,
    "start_time": "2022-12-30T09:19:49.945Z"
   },
   {
    "duration": 164,
    "start_time": "2022-12-30T09:19:50.220Z"
   },
   {
    "duration": 197,
    "start_time": "2022-12-30T09:19:50.385Z"
   },
   {
    "duration": 345,
    "start_time": "2022-12-30T09:19:50.584Z"
   },
   {
    "duration": 146,
    "start_time": "2022-12-30T09:19:50.931Z"
   },
   {
    "duration": 1211,
    "start_time": "2022-12-30T09:19:51.079Z"
   },
   {
    "duration": 175,
    "start_time": "2022-12-30T09:19:52.296Z"
   },
   {
    "duration": 186,
    "start_time": "2022-12-30T09:19:52.472Z"
   },
   {
    "duration": 186,
    "start_time": "2022-12-30T09:19:52.659Z"
   },
   {
    "duration": 1024,
    "start_time": "2022-12-30T09:19:52.847Z"
   },
   {
    "duration": 529,
    "start_time": "2022-12-30T09:19:53.872Z"
   },
   {
    "duration": 468,
    "start_time": "2022-12-30T09:19:54.403Z"
   },
   {
    "duration": 250,
    "start_time": "2022-12-30T09:19:54.872Z"
   },
   {
    "duration": 396,
    "start_time": "2022-12-30T09:19:55.125Z"
   },
   {
    "duration": 312,
    "start_time": "2022-12-30T09:19:55.523Z"
   },
   {
    "duration": 182,
    "start_time": "2022-12-30T09:19:55.836Z"
   },
   {
    "duration": 606,
    "start_time": "2022-12-30T09:19:56.020Z"
   },
   {
    "duration": 538,
    "start_time": "2022-12-30T09:22:01.229Z"
   },
   {
    "duration": 625,
    "start_time": "2022-12-30T09:22:14.004Z"
   },
   {
    "duration": 356,
    "start_time": "2022-12-30T09:23:43.653Z"
   },
   {
    "duration": 355,
    "start_time": "2022-12-30T09:25:59.765Z"
   },
   {
    "duration": 338,
    "start_time": "2022-12-30T09:27:18.614Z"
   },
   {
    "duration": 333,
    "start_time": "2022-12-30T09:27:34.356Z"
   },
   {
    "duration": 597,
    "start_time": "2022-12-30T09:29:55.818Z"
   },
   {
    "duration": 572,
    "start_time": "2022-12-30T09:30:03.726Z"
   },
   {
    "duration": 548,
    "start_time": "2022-12-30T09:30:10.398Z"
   },
   {
    "duration": 555,
    "start_time": "2022-12-30T09:30:20.645Z"
   },
   {
    "duration": 1017,
    "start_time": "2022-12-30T09:30:55.166Z"
   },
   {
    "duration": 336,
    "start_time": "2022-12-30T09:31:07.566Z"
   },
   {
    "duration": 3,
    "start_time": "2022-12-30T10:07:43.098Z"
   },
   {
    "duration": 9,
    "start_time": "2022-12-30T10:07:43.103Z"
   },
   {
    "duration": 7,
    "start_time": "2022-12-30T10:07:43.114Z"
   },
   {
    "duration": 92,
    "start_time": "2022-12-30T10:07:43.123Z"
   },
   {
    "duration": 18,
    "start_time": "2022-12-30T10:07:43.217Z"
   },
   {
    "duration": 5,
    "start_time": "2022-12-30T10:07:43.237Z"
   },
   {
    "duration": 97,
    "start_time": "2022-12-30T10:07:43.244Z"
   },
   {
    "duration": 1798,
    "start_time": "2022-12-30T10:07:43.343Z"
   },
   {
    "duration": 32,
    "start_time": "2022-12-30T10:07:45.142Z"
   },
   {
    "duration": 7,
    "start_time": "2022-12-30T10:07:45.195Z"
   },
   {
    "duration": 43,
    "start_time": "2022-12-30T10:07:45.203Z"
   },
   {
    "duration": 9,
    "start_time": "2022-12-30T10:07:45.248Z"
   },
   {
    "duration": 18,
    "start_time": "2022-12-30T10:07:45.259Z"
   },
   {
    "duration": 19,
    "start_time": "2022-12-30T10:07:45.278Z"
   },
   {
    "duration": 5,
    "start_time": "2022-12-30T10:07:45.299Z"
   },
   {
    "duration": 16,
    "start_time": "2022-12-30T10:07:45.305Z"
   },
   {
    "duration": 14,
    "start_time": "2022-12-30T10:07:45.322Z"
   },
   {
    "duration": 72,
    "start_time": "2022-12-30T10:07:45.337Z"
   },
   {
    "duration": 11,
    "start_time": "2022-12-30T10:07:45.411Z"
   },
   {
    "duration": 25,
    "start_time": "2022-12-30T10:07:45.424Z"
   },
   {
    "duration": 48,
    "start_time": "2022-12-30T10:07:45.451Z"
   },
   {
    "duration": 5,
    "start_time": "2022-12-30T10:07:45.501Z"
   },
   {
    "duration": 45,
    "start_time": "2022-12-30T10:07:45.507Z"
   },
   {
    "duration": 13,
    "start_time": "2022-12-30T10:07:45.554Z"
   },
   {
    "duration": 4,
    "start_time": "2022-12-30T10:07:45.596Z"
   },
   {
    "duration": 18,
    "start_time": "2022-12-30T10:07:45.603Z"
   },
   {
    "duration": 7,
    "start_time": "2022-12-30T10:07:45.623Z"
   },
   {
    "duration": 10,
    "start_time": "2022-12-30T10:07:45.632Z"
   },
   {
    "duration": 64,
    "start_time": "2022-12-30T10:07:45.644Z"
   },
   {
    "duration": 52,
    "start_time": "2022-12-30T10:07:45.709Z"
   },
   {
    "duration": 2387,
    "start_time": "2022-12-30T10:07:45.762Z"
   },
   {
    "duration": 276,
    "start_time": "2022-12-30T10:07:48.151Z"
   },
   {
    "duration": 161,
    "start_time": "2022-12-30T10:07:48.429Z"
   },
   {
    "duration": 206,
    "start_time": "2022-12-30T10:07:48.592Z"
   },
   {
    "duration": 375,
    "start_time": "2022-12-30T10:07:48.800Z"
   },
   {
    "duration": 165,
    "start_time": "2022-12-30T10:07:49.176Z"
   },
   {
    "duration": 1592,
    "start_time": "2022-12-30T10:07:49.344Z"
   },
   {
    "duration": 143,
    "start_time": "2022-12-30T10:07:50.938Z"
   },
   {
    "duration": 170,
    "start_time": "2022-12-30T10:07:51.083Z"
   },
   {
    "duration": 170,
    "start_time": "2022-12-30T10:07:51.255Z"
   },
   {
    "duration": 652,
    "start_time": "2022-12-30T10:07:51.427Z"
   },
   {
    "duration": 511,
    "start_time": "2022-12-30T10:07:52.080Z"
   },
   {
    "duration": 427,
    "start_time": "2022-12-30T10:07:52.596Z"
   },
   {
    "duration": 196,
    "start_time": "2022-12-30T10:07:53.024Z"
   },
   {
    "duration": 303,
    "start_time": "2022-12-30T10:07:53.222Z"
   },
   {
    "duration": 297,
    "start_time": "2022-12-30T10:07:53.526Z"
   },
   {
    "duration": 152,
    "start_time": "2022-12-30T10:07:53.825Z"
   },
   {
    "duration": 572,
    "start_time": "2022-12-30T10:07:53.979Z"
   },
   {
    "duration": 343,
    "start_time": "2022-12-30T10:07:54.553Z"
   },
   {
    "duration": 54,
    "start_time": "2022-12-30T10:07:54.898Z"
   },
   {
    "duration": 417,
    "start_time": "2022-12-30T10:07:54.953Z"
   },
   {
    "duration": 5,
    "start_time": "2022-12-30T10:09:15.614Z"
   },
   {
    "duration": 5,
    "start_time": "2022-12-30T10:09:21.661Z"
   },
   {
    "duration": 3,
    "start_time": "2022-12-30T10:09:52.081Z"
   },
   {
    "duration": 37,
    "start_time": "2022-12-30T10:09:52.086Z"
   },
   {
    "duration": 11,
    "start_time": "2022-12-30T10:09:52.126Z"
   },
   {
    "duration": 104,
    "start_time": "2022-12-30T10:09:52.139Z"
   },
   {
    "duration": 20,
    "start_time": "2022-12-30T10:09:52.246Z"
   },
   {
    "duration": 4,
    "start_time": "2022-12-30T10:09:52.268Z"
   },
   {
    "duration": 478,
    "start_time": "2022-12-30T10:09:52.274Z"
   },
   {
    "duration": 1853,
    "start_time": "2022-12-30T10:09:52.754Z"
   },
   {
    "duration": 27,
    "start_time": "2022-12-30T10:09:54.609Z"
   },
   {
    "duration": 5,
    "start_time": "2022-12-30T10:09:54.638Z"
   },
   {
    "duration": 32,
    "start_time": "2022-12-30T10:09:54.645Z"
   },
   {
    "duration": 26,
    "start_time": "2022-12-30T10:09:54.679Z"
   },
   {
    "duration": 32,
    "start_time": "2022-12-30T10:09:54.707Z"
   },
   {
    "duration": 39,
    "start_time": "2022-12-30T10:09:54.740Z"
   },
   {
    "duration": 8,
    "start_time": "2022-12-30T10:09:54.781Z"
   },
   {
    "duration": 39,
    "start_time": "2022-12-30T10:09:54.791Z"
   },
   {
    "duration": 30,
    "start_time": "2022-12-30T10:09:54.832Z"
   },
   {
    "duration": 55,
    "start_time": "2022-12-30T10:09:54.864Z"
   },
   {
    "duration": 12,
    "start_time": "2022-12-30T10:09:54.921Z"
   },
   {
    "duration": 28,
    "start_time": "2022-12-30T10:09:54.935Z"
   },
   {
    "duration": 54,
    "start_time": "2022-12-30T10:09:54.965Z"
   },
   {
    "duration": 6,
    "start_time": "2022-12-30T10:09:55.020Z"
   },
   {
    "duration": 49,
    "start_time": "2022-12-30T10:09:55.028Z"
   },
   {
    "duration": 33,
    "start_time": "2022-12-30T10:09:55.079Z"
   },
   {
    "duration": 22,
    "start_time": "2022-12-30T10:09:55.114Z"
   },
   {
    "duration": 35,
    "start_time": "2022-12-30T10:09:55.138Z"
   },
   {
    "duration": 8,
    "start_time": "2022-12-30T10:09:55.174Z"
   },
   {
    "duration": 31,
    "start_time": "2022-12-30T10:09:55.184Z"
   },
   {
    "duration": 20,
    "start_time": "2022-12-30T10:09:55.220Z"
   },
   {
    "duration": 57,
    "start_time": "2022-12-30T10:09:55.242Z"
   },
   {
    "duration": 2333,
    "start_time": "2022-12-30T10:09:55.301Z"
   },
   {
    "duration": 292,
    "start_time": "2022-12-30T10:09:57.635Z"
   },
   {
    "duration": 170,
    "start_time": "2022-12-30T10:09:57.928Z"
   },
   {
    "duration": 209,
    "start_time": "2022-12-30T10:09:58.099Z"
   },
   {
    "duration": 390,
    "start_time": "2022-12-30T10:09:58.310Z"
   },
   {
    "duration": 130,
    "start_time": "2022-12-30T10:09:58.701Z"
   },
   {
    "duration": 1120,
    "start_time": "2022-12-30T10:09:58.833Z"
   },
   {
    "duration": 171,
    "start_time": "2022-12-30T10:09:59.956Z"
   },
   {
    "duration": 199,
    "start_time": "2022-12-30T10:10:00.129Z"
   },
   {
    "duration": 205,
    "start_time": "2022-12-30T10:10:00.330Z"
   },
   {
    "duration": 695,
    "start_time": "2022-12-30T10:10:00.537Z"
   },
   {
    "duration": 1005,
    "start_time": "2022-12-30T10:10:01.233Z"
   },
   {
    "duration": 502,
    "start_time": "2022-12-30T10:10:02.240Z"
   },
   {
    "duration": 230,
    "start_time": "2022-12-30T10:10:02.744Z"
   },
   {
    "duration": 370,
    "start_time": "2022-12-30T10:10:02.975Z"
   },
   {
    "duration": 342,
    "start_time": "2022-12-30T10:10:03.347Z"
   },
   {
    "duration": 158,
    "start_time": "2022-12-30T10:10:03.695Z"
   },
   {
    "duration": 601,
    "start_time": "2022-12-30T10:10:03.854Z"
   },
   {
    "duration": 374,
    "start_time": "2022-12-30T10:10:04.457Z"
   },
   {
    "duration": 73,
    "start_time": "2022-12-30T10:10:04.833Z"
   },
   {
    "duration": 422,
    "start_time": "2022-12-30T10:10:04.908Z"
   },
   {
    "duration": 14,
    "start_time": "2022-12-30T10:27:34.284Z"
   },
   {
    "duration": 4,
    "start_time": "2022-12-30T10:27:55.191Z"
   },
   {
    "duration": 17,
    "start_time": "2022-12-30T10:27:55.197Z"
   },
   {
    "duration": 13,
    "start_time": "2022-12-30T10:27:55.216Z"
   },
   {
    "duration": 90,
    "start_time": "2022-12-30T10:27:55.231Z"
   },
   {
    "duration": 19,
    "start_time": "2022-12-30T10:27:55.323Z"
   },
   {
    "duration": 7,
    "start_time": "2022-12-30T10:27:55.344Z"
   },
   {
    "duration": 89,
    "start_time": "2022-12-30T10:27:55.352Z"
   },
   {
    "duration": 1911,
    "start_time": "2022-12-30T10:27:55.442Z"
   },
   {
    "duration": 27,
    "start_time": "2022-12-30T10:27:57.354Z"
   },
   {
    "duration": 19,
    "start_time": "2022-12-30T10:27:57.382Z"
   },
   {
    "duration": 20,
    "start_time": "2022-12-30T10:27:57.404Z"
   },
   {
    "duration": 8,
    "start_time": "2022-12-30T10:27:57.426Z"
   },
   {
    "duration": 20,
    "start_time": "2022-12-30T10:27:57.436Z"
   },
   {
    "duration": 43,
    "start_time": "2022-12-30T10:27:57.457Z"
   },
   {
    "duration": 6,
    "start_time": "2022-12-30T10:27:57.502Z"
   },
   {
    "duration": 17,
    "start_time": "2022-12-30T10:27:57.509Z"
   },
   {
    "duration": 14,
    "start_time": "2022-12-30T10:27:57.528Z"
   },
   {
    "duration": 103,
    "start_time": "2022-12-30T10:27:57.543Z"
   },
   {
    "duration": 12,
    "start_time": "2022-12-30T10:27:57.647Z"
   },
   {
    "duration": 30,
    "start_time": "2022-12-30T10:28:01.907Z"
   },
   {
    "duration": 4,
    "start_time": "2022-12-30T10:28:58.982Z"
   },
   {
    "duration": 20,
    "start_time": "2022-12-30T10:28:58.987Z"
   },
   {
    "duration": 23,
    "start_time": "2022-12-30T10:28:59.009Z"
   },
   {
    "duration": 93,
    "start_time": "2022-12-30T10:28:59.034Z"
   },
   {
    "duration": 17,
    "start_time": "2022-12-30T10:28:59.129Z"
   },
   {
    "duration": 4,
    "start_time": "2022-12-30T10:28:59.148Z"
   },
   {
    "duration": 99,
    "start_time": "2022-12-30T10:28:59.153Z"
   },
   {
    "duration": 2267,
    "start_time": "2022-12-30T10:28:59.254Z"
   },
   {
    "duration": 27,
    "start_time": "2022-12-30T10:29:01.523Z"
   },
   {
    "duration": 6,
    "start_time": "2022-12-30T10:29:01.552Z"
   },
   {
    "duration": 46,
    "start_time": "2022-12-30T10:29:01.559Z"
   },
   {
    "duration": 51,
    "start_time": "2022-12-30T10:29:01.608Z"
   },
   {
    "duration": 24,
    "start_time": "2022-12-30T10:29:01.661Z"
   },
   {
    "duration": 12,
    "start_time": "2022-12-30T10:29:01.686Z"
   },
   {
    "duration": 8,
    "start_time": "2022-12-30T10:29:01.699Z"
   },
   {
    "duration": 18,
    "start_time": "2022-12-30T10:29:01.708Z"
   },
   {
    "duration": 16,
    "start_time": "2022-12-30T10:29:01.729Z"
   },
   {
    "duration": 68,
    "start_time": "2022-12-30T10:29:01.747Z"
   },
   {
    "duration": 11,
    "start_time": "2022-12-30T10:29:01.817Z"
   },
   {
    "duration": 29,
    "start_time": "2022-12-30T10:29:01.830Z"
   },
   {
    "duration": 58,
    "start_time": "2022-12-30T10:29:01.861Z"
   },
   {
    "duration": 6,
    "start_time": "2022-12-30T10:29:01.922Z"
   },
   {
    "duration": 54,
    "start_time": "2022-12-30T10:29:01.929Z"
   },
   {
    "duration": 15,
    "start_time": "2022-12-30T10:29:01.999Z"
   },
   {
    "duration": 26,
    "start_time": "2022-12-30T10:29:02.016Z"
   },
   {
    "duration": 25,
    "start_time": "2022-12-30T10:29:02.043Z"
   },
   {
    "duration": 7,
    "start_time": "2022-12-30T10:29:02.070Z"
   },
   {
    "duration": 21,
    "start_time": "2022-12-30T10:29:02.079Z"
   },
   {
    "duration": 21,
    "start_time": "2022-12-30T10:29:02.101Z"
   },
   {
    "duration": 55,
    "start_time": "2022-12-30T10:29:02.123Z"
   },
   {
    "duration": 2080,
    "start_time": "2022-12-30T10:29:02.196Z"
   },
   {
    "duration": 759,
    "start_time": "2022-12-30T10:29:04.278Z"
   },
   {
    "duration": 187,
    "start_time": "2022-12-30T10:29:05.038Z"
   },
   {
    "duration": 221,
    "start_time": "2022-12-30T10:29:05.227Z"
   },
   {
    "duration": 398,
    "start_time": "2022-12-30T10:29:05.450Z"
   },
   {
    "duration": 183,
    "start_time": "2022-12-30T10:29:05.850Z"
   },
   {
    "duration": 1223,
    "start_time": "2022-12-30T10:29:06.035Z"
   },
   {
    "duration": 158,
    "start_time": "2022-12-30T10:29:07.259Z"
   },
   {
    "duration": 185,
    "start_time": "2022-12-30T10:29:07.419Z"
   },
   {
    "duration": 192,
    "start_time": "2022-12-30T10:29:07.606Z"
   },
   {
    "duration": 649,
    "start_time": "2022-12-30T10:29:07.800Z"
   },
   {
    "duration": 527,
    "start_time": "2022-12-30T10:29:08.450Z"
   },
   {
    "duration": 497,
    "start_time": "2022-12-30T10:29:08.979Z"
   },
   {
    "duration": 235,
    "start_time": "2022-12-30T10:29:09.477Z"
   },
   {
    "duration": 395,
    "start_time": "2022-12-30T10:29:09.714Z"
   },
   {
    "duration": 880,
    "start_time": "2022-12-30T10:29:10.111Z"
   },
   {
    "duration": 155,
    "start_time": "2022-12-30T10:29:10.993Z"
   },
   {
    "duration": 640,
    "start_time": "2022-12-30T10:29:11.150Z"
   },
   {
    "duration": 390,
    "start_time": "2022-12-30T10:29:11.792Z"
   },
   {
    "duration": 61,
    "start_time": "2022-12-30T10:29:12.184Z"
   },
   {
    "duration": 458,
    "start_time": "2022-12-30T10:29:12.246Z"
   },
   {
    "duration": 35,
    "start_time": "2022-12-30T10:32:06.603Z"
   },
   {
    "duration": 41,
    "start_time": "2022-12-30T10:33:05.845Z"
   },
   {
    "duration": 15,
    "start_time": "2022-12-30T10:35:07.653Z"
   },
   {
    "duration": 13,
    "start_time": "2022-12-30T10:35:47.643Z"
   },
   {
    "duration": 16,
    "start_time": "2022-12-30T10:36:02.044Z"
   },
   {
    "duration": 47,
    "start_time": "2022-12-30T10:36:12.802Z"
   },
   {
    "duration": 4,
    "start_time": "2022-12-30T10:38:21.002Z"
   },
   {
    "duration": 26,
    "start_time": "2022-12-30T10:38:21.008Z"
   },
   {
    "duration": 9,
    "start_time": "2022-12-30T10:38:21.035Z"
   },
   {
    "duration": 99,
    "start_time": "2022-12-30T10:38:21.045Z"
   },
   {
    "duration": 23,
    "start_time": "2022-12-30T10:38:21.146Z"
   },
   {
    "duration": 6,
    "start_time": "2022-12-30T10:38:21.171Z"
   },
   {
    "duration": 98,
    "start_time": "2022-12-30T10:38:21.179Z"
   },
   {
    "duration": 1870,
    "start_time": "2022-12-30T10:38:21.279Z"
   },
   {
    "duration": 29,
    "start_time": "2022-12-30T10:38:23.150Z"
   },
   {
    "duration": 6,
    "start_time": "2022-12-30T10:38:23.197Z"
   },
   {
    "duration": 22,
    "start_time": "2022-12-30T10:38:23.204Z"
   },
   {
    "duration": 9,
    "start_time": "2022-12-30T10:38:23.228Z"
   },
   {
    "duration": 20,
    "start_time": "2022-12-30T10:38:23.240Z"
   },
   {
    "duration": 40,
    "start_time": "2022-12-30T10:38:23.262Z"
   },
   {
    "duration": 6,
    "start_time": "2022-12-30T10:38:23.303Z"
   },
   {
    "duration": 17,
    "start_time": "2022-12-30T10:38:23.311Z"
   },
   {
    "duration": 16,
    "start_time": "2022-12-30T10:38:23.330Z"
   },
   {
    "duration": 79,
    "start_time": "2022-12-30T10:38:23.348Z"
   },
   {
    "duration": 11,
    "start_time": "2022-12-30T10:38:23.429Z"
   },
   {
    "duration": 38,
    "start_time": "2022-12-30T10:38:23.442Z"
   },
   {
    "duration": 34,
    "start_time": "2022-12-30T10:38:23.481Z"
   },
   {
    "duration": 6,
    "start_time": "2022-12-30T10:38:23.517Z"
   },
   {
    "duration": 43,
    "start_time": "2022-12-30T10:38:23.525Z"
   },
   {
    "duration": 34,
    "start_time": "2022-12-30T10:38:23.570Z"
   },
   {
    "duration": 5,
    "start_time": "2022-12-30T10:38:23.606Z"
   },
   {
    "duration": 22,
    "start_time": "2022-12-30T10:38:23.613Z"
   },
   {
    "duration": 7,
    "start_time": "2022-12-30T10:38:23.636Z"
   },
   {
    "duration": 11,
    "start_time": "2022-12-30T10:38:23.644Z"
   },
   {
    "duration": 50,
    "start_time": "2022-12-30T10:38:23.657Z"
   },
   {
    "duration": 54,
    "start_time": "2022-12-30T10:39:01.542Z"
   },
   {
    "duration": 3,
    "start_time": "2022-12-30T10:40:28.954Z"
   },
   {
    "duration": 8,
    "start_time": "2022-12-30T10:40:28.959Z"
   },
   {
    "duration": 11,
    "start_time": "2022-12-30T10:40:28.969Z"
   },
   {
    "duration": 101,
    "start_time": "2022-12-30T10:40:28.982Z"
   },
   {
    "duration": 18,
    "start_time": "2022-12-30T10:40:29.085Z"
   },
   {
    "duration": 2,
    "start_time": "2022-12-30T10:40:29.105Z"
   },
   {
    "duration": 80,
    "start_time": "2022-12-30T10:40:29.109Z"
   },
   {
    "duration": 1829,
    "start_time": "2022-12-30T10:40:29.197Z"
   },
   {
    "duration": 28,
    "start_time": "2022-12-30T10:40:31.027Z"
   },
   {
    "duration": 17,
    "start_time": "2022-12-30T10:40:31.058Z"
   },
   {
    "duration": 61,
    "start_time": "2022-12-30T10:40:31.076Z"
   },
   {
    "duration": 22,
    "start_time": "2022-12-30T10:40:31.139Z"
   },
   {
    "duration": 48,
    "start_time": "2022-12-30T10:40:31.163Z"
   },
   {
    "duration": 26,
    "start_time": "2022-12-30T10:40:31.212Z"
   },
   {
    "duration": 39,
    "start_time": "2022-12-30T10:40:31.240Z"
   },
   {
    "duration": 27,
    "start_time": "2022-12-30T10:40:31.281Z"
   },
   {
    "duration": 33,
    "start_time": "2022-12-30T10:40:31.309Z"
   },
   {
    "duration": 68,
    "start_time": "2022-12-30T10:40:31.344Z"
   },
   {
    "duration": 12,
    "start_time": "2022-12-30T10:40:31.413Z"
   },
   {
    "duration": 46,
    "start_time": "2022-12-30T10:40:31.427Z"
   },
   {
    "duration": 39,
    "start_time": "2022-12-30T10:40:31.475Z"
   },
   {
    "duration": 6,
    "start_time": "2022-12-30T10:40:31.515Z"
   },
   {
    "duration": 46,
    "start_time": "2022-12-30T10:40:31.523Z"
   },
   {
    "duration": 27,
    "start_time": "2022-12-30T10:40:31.571Z"
   },
   {
    "duration": 8,
    "start_time": "2022-12-30T10:40:31.601Z"
   },
   {
    "duration": 21,
    "start_time": "2022-12-30T10:40:31.610Z"
   },
   {
    "duration": 6,
    "start_time": "2022-12-30T10:40:31.632Z"
   },
   {
    "duration": 9,
    "start_time": "2022-12-30T10:40:31.640Z"
   },
   {
    "duration": 51,
    "start_time": "2022-12-30T10:40:31.651Z"
   },
   {
    "duration": 70,
    "start_time": "2022-12-30T10:40:46.221Z"
   },
   {
    "duration": 3,
    "start_time": "2022-12-30T10:41:07.016Z"
   },
   {
    "duration": 9,
    "start_time": "2022-12-30T10:41:07.022Z"
   },
   {
    "duration": 8,
    "start_time": "2022-12-30T10:41:07.034Z"
   },
   {
    "duration": 103,
    "start_time": "2022-12-30T10:41:07.044Z"
   },
   {
    "duration": 24,
    "start_time": "2022-12-30T10:41:07.149Z"
   },
   {
    "duration": 22,
    "start_time": "2022-12-30T10:41:07.175Z"
   },
   {
    "duration": 105,
    "start_time": "2022-12-30T10:41:07.199Z"
   },
   {
    "duration": 2307,
    "start_time": "2022-12-30T10:41:07.306Z"
   },
   {
    "duration": 26,
    "start_time": "2022-12-30T10:41:09.614Z"
   },
   {
    "duration": 6,
    "start_time": "2022-12-30T10:41:09.644Z"
   },
   {
    "duration": 45,
    "start_time": "2022-12-30T10:41:09.651Z"
   },
   {
    "duration": 10,
    "start_time": "2022-12-30T10:41:09.698Z"
   },
   {
    "duration": 18,
    "start_time": "2022-12-30T10:41:09.709Z"
   },
   {
    "duration": 7,
    "start_time": "2022-12-30T10:41:09.729Z"
   },
   {
    "duration": 5,
    "start_time": "2022-12-30T10:41:09.738Z"
   },
   {
    "duration": 51,
    "start_time": "2022-12-30T10:41:09.745Z"
   },
   {
    "duration": 16,
    "start_time": "2022-12-30T10:41:09.798Z"
   },
   {
    "duration": 37,
    "start_time": "2022-12-30T10:41:09.815Z"
   },
   {
    "duration": 11,
    "start_time": "2022-12-30T10:41:09.854Z"
   },
   {
    "duration": 28,
    "start_time": "2022-12-30T10:41:09.896Z"
   },
   {
    "duration": 31,
    "start_time": "2022-12-30T10:41:09.926Z"
   },
   {
    "duration": 5,
    "start_time": "2022-12-30T10:41:09.959Z"
   },
   {
    "duration": 71,
    "start_time": "2022-12-30T10:41:09.967Z"
   },
   {
    "duration": 25,
    "start_time": "2022-12-30T10:41:10.040Z"
   },
   {
    "duration": 23,
    "start_time": "2022-12-30T10:41:10.069Z"
   },
   {
    "duration": 50,
    "start_time": "2022-12-30T10:41:10.094Z"
   },
   {
    "duration": 8,
    "start_time": "2022-12-30T10:41:10.146Z"
   },
   {
    "duration": 14,
    "start_time": "2022-12-30T10:41:10.156Z"
   },
   {
    "duration": 25,
    "start_time": "2022-12-30T10:41:10.172Z"
   },
   {
    "duration": 36,
    "start_time": "2022-12-30T10:41:14.304Z"
   },
   {
    "duration": 4,
    "start_time": "2022-12-30T10:41:54.384Z"
   },
   {
    "duration": 7,
    "start_time": "2022-12-30T10:41:54.390Z"
   },
   {
    "duration": 7,
    "start_time": "2022-12-30T10:41:54.399Z"
   },
   {
    "duration": 89,
    "start_time": "2022-12-30T10:41:54.408Z"
   },
   {
    "duration": 18,
    "start_time": "2022-12-30T10:41:54.499Z"
   },
   {
    "duration": 25,
    "start_time": "2022-12-30T10:41:54.519Z"
   },
   {
    "duration": 83,
    "start_time": "2022-12-30T10:41:54.546Z"
   },
   {
    "duration": 1937,
    "start_time": "2022-12-30T10:41:54.630Z"
   },
   {
    "duration": 39,
    "start_time": "2022-12-30T10:41:56.569Z"
   },
   {
    "duration": 6,
    "start_time": "2022-12-30T10:41:56.610Z"
   },
   {
    "duration": 22,
    "start_time": "2022-12-30T10:41:56.617Z"
   },
   {
    "duration": 10,
    "start_time": "2022-12-30T10:41:56.641Z"
   },
   {
    "duration": 50,
    "start_time": "2022-12-30T10:41:56.652Z"
   },
   {
    "duration": 8,
    "start_time": "2022-12-30T10:41:56.704Z"
   },
   {
    "duration": 13,
    "start_time": "2022-12-30T10:41:56.714Z"
   },
   {
    "duration": 26,
    "start_time": "2022-12-30T10:41:56.729Z"
   },
   {
    "duration": 15,
    "start_time": "2022-12-30T10:41:56.756Z"
   },
   {
    "duration": 63,
    "start_time": "2022-12-30T10:41:56.773Z"
   },
   {
    "duration": 15,
    "start_time": "2022-12-30T10:41:56.838Z"
   },
   {
    "duration": 64,
    "start_time": "2022-12-30T10:41:56.855Z"
   },
   {
    "duration": 34,
    "start_time": "2022-12-30T10:41:56.921Z"
   },
   {
    "duration": 6,
    "start_time": "2022-12-30T10:41:56.957Z"
   },
   {
    "duration": 72,
    "start_time": "2022-12-30T10:41:56.965Z"
   },
   {
    "duration": 14,
    "start_time": "2022-12-30T10:41:57.039Z"
   },
   {
    "duration": 11,
    "start_time": "2022-12-30T10:41:57.057Z"
   },
   {
    "duration": 34,
    "start_time": "2022-12-30T10:41:57.070Z"
   },
   {
    "duration": 38,
    "start_time": "2022-12-30T10:42:23.061Z"
   },
   {
    "duration": 38,
    "start_time": "2022-12-30T10:43:31.605Z"
   },
   {
    "duration": 3,
    "start_time": "2022-12-30T10:44:02.297Z"
   },
   {
    "duration": 27,
    "start_time": "2022-12-30T10:44:02.302Z"
   },
   {
    "duration": 8,
    "start_time": "2022-12-30T10:44:02.331Z"
   },
   {
    "duration": 96,
    "start_time": "2022-12-30T10:44:02.341Z"
   },
   {
    "duration": 23,
    "start_time": "2022-12-30T10:44:02.440Z"
   },
   {
    "duration": 18,
    "start_time": "2022-12-30T10:44:02.466Z"
   },
   {
    "duration": 99,
    "start_time": "2022-12-30T10:44:02.486Z"
   },
   {
    "duration": 1887,
    "start_time": "2022-12-30T10:44:02.586Z"
   },
   {
    "duration": 42,
    "start_time": "2022-12-30T10:44:04.475Z"
   },
   {
    "duration": 6,
    "start_time": "2022-12-30T10:44:04.519Z"
   },
   {
    "duration": 561,
    "start_time": "2022-12-30T10:44:04.528Z"
   },
   {
    "duration": 14,
    "start_time": "2022-12-30T10:44:05.090Z"
   },
   {
    "duration": 29,
    "start_time": "2022-12-30T10:44:05.106Z"
   },
   {
    "duration": 25,
    "start_time": "2022-12-30T10:44:05.137Z"
   },
   {
    "duration": 17,
    "start_time": "2022-12-30T10:44:05.164Z"
   },
   {
    "duration": 43,
    "start_time": "2022-12-30T10:44:05.183Z"
   },
   {
    "duration": 26,
    "start_time": "2022-12-30T10:44:05.229Z"
   },
   {
    "duration": 65,
    "start_time": "2022-12-30T10:44:05.257Z"
   },
   {
    "duration": 10,
    "start_time": "2022-12-30T10:44:05.324Z"
   },
   {
    "duration": 40,
    "start_time": "2022-12-30T10:44:05.336Z"
   },
   {
    "duration": 47,
    "start_time": "2022-12-30T10:44:05.377Z"
   },
   {
    "duration": 6,
    "start_time": "2022-12-30T10:44:05.426Z"
   },
   {
    "duration": 52,
    "start_time": "2022-12-30T10:44:05.434Z"
   },
   {
    "duration": 40,
    "start_time": "2022-12-30T10:44:05.487Z"
   },
   {
    "duration": 21,
    "start_time": "2022-12-30T10:44:05.529Z"
   },
   {
    "duration": 37,
    "start_time": "2022-12-30T10:44:16.293Z"
   },
   {
    "duration": 85,
    "start_time": "2022-12-30T10:45:26.319Z"
   },
   {
    "duration": 3,
    "start_time": "2022-12-30T11:10:41.440Z"
   },
   {
    "duration": 12,
    "start_time": "2022-12-30T11:10:41.445Z"
   },
   {
    "duration": 10,
    "start_time": "2022-12-30T11:10:41.459Z"
   },
   {
    "duration": 84,
    "start_time": "2022-12-30T11:10:41.470Z"
   },
   {
    "duration": 19,
    "start_time": "2022-12-30T11:10:41.556Z"
   },
   {
    "duration": 20,
    "start_time": "2022-12-30T11:10:41.577Z"
   },
   {
    "duration": 103,
    "start_time": "2022-12-30T11:10:41.599Z"
   },
   {
    "duration": 1828,
    "start_time": "2022-12-30T11:10:41.704Z"
   },
   {
    "duration": 28,
    "start_time": "2022-12-30T11:10:43.533Z"
   },
   {
    "duration": 5,
    "start_time": "2022-12-30T11:10:43.562Z"
   },
   {
    "duration": 23,
    "start_time": "2022-12-30T11:10:43.595Z"
   },
   {
    "duration": 10,
    "start_time": "2022-12-30T11:10:43.620Z"
   },
   {
    "duration": 23,
    "start_time": "2022-12-30T11:10:43.632Z"
   },
   {
    "duration": 42,
    "start_time": "2022-12-30T11:10:43.657Z"
   },
   {
    "duration": 6,
    "start_time": "2022-12-30T11:10:43.701Z"
   },
   {
    "duration": 18,
    "start_time": "2022-12-30T11:10:43.709Z"
   },
   {
    "duration": 18,
    "start_time": "2022-12-30T11:10:43.729Z"
   },
   {
    "duration": 80,
    "start_time": "2022-12-30T11:10:43.749Z"
   },
   {
    "duration": 14,
    "start_time": "2022-12-30T11:10:43.831Z"
   },
   {
    "duration": 50,
    "start_time": "2022-12-30T11:10:43.847Z"
   },
   {
    "duration": 35,
    "start_time": "2022-12-30T11:10:43.899Z"
   },
   {
    "duration": 7,
    "start_time": "2022-12-30T11:10:43.937Z"
   },
   {
    "duration": 91,
    "start_time": "2022-12-30T11:10:43.946Z"
   },
   {
    "duration": 30,
    "start_time": "2022-12-30T11:10:44.039Z"
   },
   {
    "duration": 4,
    "start_time": "2022-12-30T11:10:44.071Z"
   },
   {
    "duration": 30,
    "start_time": "2022-12-30T11:10:44.077Z"
   },
   {
    "duration": 7,
    "start_time": "2022-12-30T11:10:44.109Z"
   },
   {
    "duration": 9,
    "start_time": "2022-12-30T11:10:44.117Z"
   },
   {
    "duration": 19,
    "start_time": "2022-12-30T11:10:44.130Z"
   },
   {
    "duration": 83,
    "start_time": "2022-12-30T11:10:44.150Z"
   },
   {
    "duration": 2442,
    "start_time": "2022-12-30T11:10:44.234Z"
   },
   {
    "duration": 294,
    "start_time": "2022-12-30T11:10:46.678Z"
   },
   {
    "duration": 160,
    "start_time": "2022-12-30T11:10:46.974Z"
   },
   {
    "duration": 214,
    "start_time": "2022-12-30T11:10:47.136Z"
   },
   {
    "duration": 364,
    "start_time": "2022-12-30T11:10:47.352Z"
   },
   {
    "duration": 157,
    "start_time": "2022-12-30T11:10:47.718Z"
   },
   {
    "duration": 1120,
    "start_time": "2022-12-30T11:10:47.877Z"
   },
   {
    "duration": 184,
    "start_time": "2022-12-30T11:10:48.998Z"
   },
   {
    "duration": 194,
    "start_time": "2022-12-30T11:10:49.184Z"
   },
   {
    "duration": 181,
    "start_time": "2022-12-30T11:10:49.380Z"
   },
   {
    "duration": 688,
    "start_time": "2022-12-30T11:10:49.562Z"
   },
   {
    "duration": 532,
    "start_time": "2022-12-30T11:10:50.252Z"
   },
   {
    "duration": 486,
    "start_time": "2022-12-30T11:10:50.786Z"
   },
   {
    "duration": 227,
    "start_time": "2022-12-30T11:10:51.274Z"
   },
   {
    "duration": 322,
    "start_time": "2022-12-30T11:10:51.503Z"
   },
   {
    "duration": 819,
    "start_time": "2022-12-30T11:10:51.827Z"
   },
   {
    "duration": 159,
    "start_time": "2022-12-30T11:10:52.647Z"
   },
   {
    "duration": 572,
    "start_time": "2022-12-30T11:10:52.808Z"
   },
   {
    "duration": 349,
    "start_time": "2022-12-30T11:10:53.381Z"
   },
   {
    "duration": 77,
    "start_time": "2022-12-30T11:10:53.732Z"
   },
   {
    "duration": 426,
    "start_time": "2022-12-30T11:10:53.811Z"
   },
   {
    "duration": 4,
    "start_time": "2022-12-30T11:13:09.176Z"
   },
   {
    "duration": 5,
    "start_time": "2022-12-30T11:13:09.182Z"
   },
   {
    "duration": 6,
    "start_time": "2022-12-30T11:13:09.190Z"
   },
   {
    "duration": 94,
    "start_time": "2022-12-30T11:13:09.198Z"
   },
   {
    "duration": 20,
    "start_time": "2022-12-30T11:13:09.294Z"
   },
   {
    "duration": 4,
    "start_time": "2022-12-30T11:13:09.315Z"
   },
   {
    "duration": 100,
    "start_time": "2022-12-30T11:13:09.321Z"
   },
   {
    "duration": 1882,
    "start_time": "2022-12-30T11:13:09.423Z"
   },
   {
    "duration": 29,
    "start_time": "2022-12-30T11:13:11.307Z"
   },
   {
    "duration": 5,
    "start_time": "2022-12-30T11:13:11.338Z"
   },
   {
    "duration": 22,
    "start_time": "2022-12-30T11:13:11.345Z"
   },
   {
    "duration": 35,
    "start_time": "2022-12-30T11:13:11.368Z"
   },
   {
    "duration": 25,
    "start_time": "2022-12-30T11:13:11.405Z"
   },
   {
    "duration": 7,
    "start_time": "2022-12-30T11:13:11.432Z"
   },
   {
    "duration": 4,
    "start_time": "2022-12-30T11:13:11.441Z"
   },
   {
    "duration": 15,
    "start_time": "2022-12-30T11:13:11.447Z"
   },
   {
    "duration": 44,
    "start_time": "2022-12-30T11:13:11.463Z"
   },
   {
    "duration": 39,
    "start_time": "2022-12-30T11:13:11.509Z"
   },
   {
    "duration": 11,
    "start_time": "2022-12-30T11:13:11.550Z"
   },
   {
    "duration": 55,
    "start_time": "2022-12-30T11:13:11.562Z"
   },
   {
    "duration": 28,
    "start_time": "2022-12-30T11:13:11.618Z"
   },
   {
    "duration": 5,
    "start_time": "2022-12-30T11:13:11.648Z"
   },
   {
    "duration": 64,
    "start_time": "2022-12-30T11:13:11.654Z"
   },
   {
    "duration": 11,
    "start_time": "2022-12-30T11:13:11.720Z"
   },
   {
    "duration": 3,
    "start_time": "2022-12-30T11:13:11.734Z"
   },
   {
    "duration": 22,
    "start_time": "2022-12-30T11:13:11.739Z"
   },
   {
    "duration": 5,
    "start_time": "2022-12-30T11:13:11.763Z"
   },
   {
    "duration": 10,
    "start_time": "2022-12-30T11:13:11.796Z"
   },
   {
    "duration": 19,
    "start_time": "2022-12-30T11:13:11.807Z"
   },
   {
    "duration": 78,
    "start_time": "2022-12-30T11:13:11.828Z"
   },
   {
    "duration": 2406,
    "start_time": "2022-12-30T11:13:11.908Z"
   },
   {
    "duration": 301,
    "start_time": "2022-12-30T11:13:14.316Z"
   },
   {
    "duration": 155,
    "start_time": "2022-12-30T11:13:14.619Z"
   },
   {
    "duration": 209,
    "start_time": "2022-12-30T11:13:14.776Z"
   },
   {
    "duration": 436,
    "start_time": "2022-12-30T11:13:14.987Z"
   },
   {
    "duration": 165,
    "start_time": "2022-12-30T11:13:15.425Z"
   },
   {
    "duration": 1229,
    "start_time": "2022-12-30T11:13:15.592Z"
   },
   {
    "duration": 154,
    "start_time": "2022-12-30T11:13:16.822Z"
   },
   {
    "duration": 170,
    "start_time": "2022-12-30T11:13:16.978Z"
   },
   {
    "duration": 184,
    "start_time": "2022-12-30T11:13:17.150Z"
   },
   {
    "duration": 658,
    "start_time": "2022-12-30T11:13:17.336Z"
   },
   {
    "duration": 538,
    "start_time": "2022-12-30T11:13:17.997Z"
   },
   {
    "duration": 172,
    "start_time": "2022-12-30T11:13:18.537Z"
   },
   {
    "duration": 0,
    "start_time": "2022-12-30T11:13:18.711Z"
   },
   {
    "duration": 0,
    "start_time": "2022-12-30T11:13:18.712Z"
   },
   {
    "duration": 0,
    "start_time": "2022-12-30T11:13:18.714Z"
   },
   {
    "duration": 0,
    "start_time": "2022-12-30T11:13:18.715Z"
   },
   {
    "duration": 0,
    "start_time": "2022-12-30T11:13:18.717Z"
   },
   {
    "duration": 0,
    "start_time": "2022-12-30T11:13:18.718Z"
   },
   {
    "duration": 0,
    "start_time": "2022-12-30T11:13:18.719Z"
   },
   {
    "duration": 0,
    "start_time": "2022-12-30T11:13:18.721Z"
   },
   {
    "duration": 35,
    "start_time": "2022-12-30T11:16:36.573Z"
   },
   {
    "duration": 205,
    "start_time": "2022-12-30T11:17:36.686Z"
   },
   {
    "duration": 45,
    "start_time": "2022-12-30T11:19:04.798Z"
   },
   {
    "duration": 81,
    "start_time": "2022-12-30T11:19:25.406Z"
   },
   {
    "duration": 48,
    "start_time": "2022-12-30T11:19:40.164Z"
   },
   {
    "duration": 90,
    "start_time": "2022-12-30T11:20:02.941Z"
   },
   {
    "duration": 3,
    "start_time": "2022-12-30T11:20:10.256Z"
   },
   {
    "duration": 18,
    "start_time": "2022-12-30T11:20:10.261Z"
   },
   {
    "duration": 15,
    "start_time": "2022-12-30T11:20:10.281Z"
   },
   {
    "duration": 101,
    "start_time": "2022-12-30T11:20:10.298Z"
   },
   {
    "duration": 20,
    "start_time": "2022-12-30T11:20:10.402Z"
   },
   {
    "duration": 3,
    "start_time": "2022-12-30T11:20:10.423Z"
   },
   {
    "duration": 114,
    "start_time": "2022-12-30T11:20:10.428Z"
   },
   {
    "duration": 2635,
    "start_time": "2022-12-30T11:20:10.544Z"
   },
   {
    "duration": 31,
    "start_time": "2022-12-30T11:20:13.181Z"
   },
   {
    "duration": 6,
    "start_time": "2022-12-30T11:20:13.213Z"
   },
   {
    "duration": 20,
    "start_time": "2022-12-30T11:20:13.221Z"
   },
   {
    "duration": 10,
    "start_time": "2022-12-30T11:20:13.243Z"
   },
   {
    "duration": 48,
    "start_time": "2022-12-30T11:20:13.254Z"
   },
   {
    "duration": 8,
    "start_time": "2022-12-30T11:20:13.305Z"
   },
   {
    "duration": 6,
    "start_time": "2022-12-30T11:20:13.315Z"
   },
   {
    "duration": 20,
    "start_time": "2022-12-30T11:20:13.322Z"
   },
   {
    "duration": 15,
    "start_time": "2022-12-30T11:20:13.344Z"
   },
   {
    "duration": 71,
    "start_time": "2022-12-30T11:20:13.361Z"
   },
   {
    "duration": 12,
    "start_time": "2022-12-30T11:20:13.434Z"
   },
   {
    "duration": 50,
    "start_time": "2022-12-30T11:20:13.448Z"
   },
   {
    "duration": 30,
    "start_time": "2022-12-30T11:20:13.500Z"
   },
   {
    "duration": 5,
    "start_time": "2022-12-30T11:20:13.532Z"
   },
   {
    "duration": 88,
    "start_time": "2022-12-30T11:20:13.539Z"
   },
   {
    "duration": 11,
    "start_time": "2022-12-30T11:20:13.629Z"
   },
   {
    "duration": 4,
    "start_time": "2022-12-30T11:20:13.642Z"
   },
   {
    "duration": 20,
    "start_time": "2022-12-30T11:20:13.647Z"
   },
   {
    "duration": 31,
    "start_time": "2022-12-30T11:20:13.669Z"
   },
   {
    "duration": 9,
    "start_time": "2022-12-30T11:20:13.702Z"
   },
   {
    "duration": 18,
    "start_time": "2022-12-30T11:20:13.714Z"
   },
   {
    "duration": 82,
    "start_time": "2022-12-30T11:20:13.734Z"
   },
   {
    "duration": 2001,
    "start_time": "2022-12-30T11:20:13.817Z"
   },
   {
    "duration": 380,
    "start_time": "2022-12-30T11:20:15.819Z"
   },
   {
    "duration": 184,
    "start_time": "2022-12-30T11:20:16.201Z"
   },
   {
    "duration": 209,
    "start_time": "2022-12-30T11:20:16.387Z"
   },
   {
    "duration": 364,
    "start_time": "2022-12-30T11:20:16.598Z"
   },
   {
    "duration": 140,
    "start_time": "2022-12-30T11:20:16.963Z"
   },
   {
    "duration": 1718,
    "start_time": "2022-12-30T11:20:17.104Z"
   },
   {
    "duration": 159,
    "start_time": "2022-12-30T11:20:18.823Z"
   },
   {
    "duration": 206,
    "start_time": "2022-12-30T11:20:18.984Z"
   },
   {
    "duration": 192,
    "start_time": "2022-12-30T11:20:19.192Z"
   },
   {
    "duration": 674,
    "start_time": "2022-12-30T11:20:19.386Z"
   },
   {
    "duration": 576,
    "start_time": "2022-12-30T11:20:20.062Z"
   },
   {
    "duration": 50,
    "start_time": "2022-12-30T11:20:29.885Z"
   },
   {
    "duration": 178,
    "start_time": "2022-12-30T11:20:53.358Z"
   },
   {
    "duration": 166,
    "start_time": "2022-12-30T11:21:38.960Z"
   },
   {
    "duration": 4,
    "start_time": "2022-12-30T11:22:20.593Z"
   },
   {
    "duration": 6,
    "start_time": "2022-12-30T11:22:20.598Z"
   },
   {
    "duration": 7,
    "start_time": "2022-12-30T11:22:20.606Z"
   },
   {
    "duration": 99,
    "start_time": "2022-12-30T11:22:20.615Z"
   },
   {
    "duration": 19,
    "start_time": "2022-12-30T11:22:20.717Z"
   },
   {
    "duration": 17,
    "start_time": "2022-12-30T11:22:20.737Z"
   },
   {
    "duration": 93,
    "start_time": "2022-12-30T11:22:20.756Z"
   },
   {
    "duration": 1911,
    "start_time": "2022-12-30T11:22:20.850Z"
   },
   {
    "duration": 41,
    "start_time": "2022-12-30T11:22:22.762Z"
   },
   {
    "duration": 6,
    "start_time": "2022-12-30T11:22:22.805Z"
   },
   {
    "duration": 44,
    "start_time": "2022-12-30T11:22:22.812Z"
   },
   {
    "duration": 22,
    "start_time": "2022-12-30T11:22:22.857Z"
   },
   {
    "duration": 34,
    "start_time": "2022-12-30T11:22:22.881Z"
   },
   {
    "duration": 30,
    "start_time": "2022-12-30T11:22:22.917Z"
   },
   {
    "duration": 38,
    "start_time": "2022-12-30T11:22:22.948Z"
   },
   {
    "duration": 52,
    "start_time": "2022-12-30T11:22:22.989Z"
   },
   {
    "duration": 25,
    "start_time": "2022-12-30T11:22:23.043Z"
   },
   {
    "duration": 53,
    "start_time": "2022-12-30T11:22:23.069Z"
   },
   {
    "duration": 11,
    "start_time": "2022-12-30T11:22:23.124Z"
   },
   {
    "duration": 37,
    "start_time": "2022-12-30T11:22:23.136Z"
   },
   {
    "duration": 50,
    "start_time": "2022-12-30T11:22:23.175Z"
   },
   {
    "duration": 5,
    "start_time": "2022-12-30T11:22:23.227Z"
   },
   {
    "duration": 50,
    "start_time": "2022-12-30T11:22:23.234Z"
   },
   {
    "duration": 11,
    "start_time": "2022-12-30T11:22:23.297Z"
   },
   {
    "duration": 4,
    "start_time": "2022-12-30T11:22:23.311Z"
   },
   {
    "duration": 22,
    "start_time": "2022-12-30T11:22:23.317Z"
   },
   {
    "duration": 6,
    "start_time": "2022-12-30T11:22:23.340Z"
   },
   {
    "duration": 14,
    "start_time": "2022-12-30T11:22:23.347Z"
   },
   {
    "duration": 46,
    "start_time": "2022-12-30T11:22:23.362Z"
   },
   {
    "duration": 56,
    "start_time": "2022-12-30T11:22:23.410Z"
   },
   {
    "duration": 2645,
    "start_time": "2022-12-30T11:22:23.468Z"
   },
   {
    "duration": 313,
    "start_time": "2022-12-30T11:22:26.115Z"
   },
   {
    "duration": 178,
    "start_time": "2022-12-30T11:22:26.429Z"
   },
   {
    "duration": 220,
    "start_time": "2022-12-30T11:22:26.609Z"
   },
   {
    "duration": 358,
    "start_time": "2022-12-30T11:22:26.831Z"
   },
   {
    "duration": 136,
    "start_time": "2022-12-30T11:22:27.190Z"
   },
   {
    "duration": 1096,
    "start_time": "2022-12-30T11:22:27.328Z"
   },
   {
    "duration": 153,
    "start_time": "2022-12-30T11:22:28.426Z"
   },
   {
    "duration": 180,
    "start_time": "2022-12-30T11:22:28.581Z"
   },
   {
    "duration": 184,
    "start_time": "2022-12-30T11:22:28.763Z"
   },
   {
    "duration": 653,
    "start_time": "2022-12-30T11:22:28.949Z"
   },
   {
    "duration": 514,
    "start_time": "2022-12-30T11:22:29.604Z"
   },
   {
    "duration": 1043,
    "start_time": "2022-12-30T11:22:38.695Z"
   },
   {
    "duration": 7,
    "start_time": "2022-12-30T11:28:37.300Z"
   },
   {
    "duration": 10,
    "start_time": "2022-12-30T11:28:37.315Z"
   },
   {
    "duration": 10,
    "start_time": "2022-12-30T11:28:37.326Z"
   },
   {
    "duration": 109,
    "start_time": "2022-12-30T11:28:37.338Z"
   },
   {
    "duration": 18,
    "start_time": "2022-12-30T11:28:37.448Z"
   },
   {
    "duration": 7,
    "start_time": "2022-12-30T11:28:37.468Z"
   },
   {
    "duration": 93,
    "start_time": "2022-12-30T11:28:37.476Z"
   },
   {
    "duration": 1952,
    "start_time": "2022-12-30T11:28:37.571Z"
   },
   {
    "duration": 27,
    "start_time": "2022-12-30T11:28:39.525Z"
   },
   {
    "duration": 6,
    "start_time": "2022-12-30T11:28:39.554Z"
   },
   {
    "duration": 47,
    "start_time": "2022-12-30T11:28:39.561Z"
   },
   {
    "duration": 10,
    "start_time": "2022-12-30T11:28:39.613Z"
   },
   {
    "duration": 20,
    "start_time": "2022-12-30T11:28:39.624Z"
   },
   {
    "duration": 8,
    "start_time": "2022-12-30T11:28:39.645Z"
   },
   {
    "duration": 5,
    "start_time": "2022-12-30T11:28:39.655Z"
   },
   {
    "duration": 54,
    "start_time": "2022-12-30T11:28:39.662Z"
   },
   {
    "duration": 15,
    "start_time": "2022-12-30T11:28:39.719Z"
   },
   {
    "duration": 37,
    "start_time": "2022-12-30T11:28:39.736Z"
   },
   {
    "duration": 39,
    "start_time": "2022-12-30T11:28:39.775Z"
   },
   {
    "duration": 30,
    "start_time": "2022-12-30T11:28:39.815Z"
   },
   {
    "duration": 30,
    "start_time": "2022-12-30T11:28:39.847Z"
   },
   {
    "duration": 30,
    "start_time": "2022-12-30T11:28:39.879Z"
   },
   {
    "duration": 48,
    "start_time": "2022-12-30T11:28:39.911Z"
   },
   {
    "duration": 11,
    "start_time": "2022-12-30T11:28:39.961Z"
   },
   {
    "duration": 4,
    "start_time": "2022-12-30T11:28:39.973Z"
   },
   {
    "duration": 50,
    "start_time": "2022-12-30T11:28:39.978Z"
   },
   {
    "duration": 6,
    "start_time": "2022-12-30T11:28:40.032Z"
   },
   {
    "duration": 13,
    "start_time": "2022-12-30T11:28:40.040Z"
   },
   {
    "duration": 20,
    "start_time": "2022-12-30T11:28:40.055Z"
   },
   {
    "duration": 73,
    "start_time": "2022-12-30T11:28:40.076Z"
   },
   {
    "duration": 2071,
    "start_time": "2022-12-30T11:28:40.151Z"
   },
   {
    "duration": 301,
    "start_time": "2022-12-30T11:28:42.224Z"
   },
   {
    "duration": 165,
    "start_time": "2022-12-30T11:28:42.527Z"
   },
   {
    "duration": 806,
    "start_time": "2022-12-30T11:28:42.693Z"
   },
   {
    "duration": 364,
    "start_time": "2022-12-30T11:28:43.502Z"
   },
   {
    "duration": 158,
    "start_time": "2022-12-30T11:28:43.867Z"
   },
   {
    "duration": 1131,
    "start_time": "2022-12-30T11:28:44.026Z"
   },
   {
    "duration": 163,
    "start_time": "2022-12-30T11:28:45.159Z"
   },
   {
    "duration": 183,
    "start_time": "2022-12-30T11:28:45.324Z"
   },
   {
    "duration": 169,
    "start_time": "2022-12-30T11:28:45.510Z"
   },
   {
    "duration": 752,
    "start_time": "2022-12-30T11:28:45.681Z"
   },
   {
    "duration": 520,
    "start_time": "2022-12-30T11:28:46.435Z"
   },
   {
    "duration": 480,
    "start_time": "2022-12-30T11:28:46.958Z"
   },
   {
    "duration": 210,
    "start_time": "2022-12-30T11:28:47.440Z"
   },
   {
    "duration": 332,
    "start_time": "2022-12-30T11:28:47.652Z"
   },
   {
    "duration": 322,
    "start_time": "2022-12-30T11:28:47.986Z"
   },
   {
    "duration": 148,
    "start_time": "2022-12-30T11:28:48.309Z"
   },
   {
    "duration": 625,
    "start_time": "2022-12-30T11:28:48.459Z"
   },
   {
    "duration": 383,
    "start_time": "2022-12-30T11:28:49.086Z"
   },
   {
    "duration": 71,
    "start_time": "2022-12-30T11:28:49.470Z"
   },
   {
    "duration": 420,
    "start_time": "2022-12-30T11:28:49.542Z"
   },
   {
    "duration": 43,
    "start_time": "2022-12-30T11:34:31.143Z"
   },
   {
    "duration": 56,
    "start_time": "2022-12-30T11:37:58.425Z"
   },
   {
    "duration": 4,
    "start_time": "2022-12-30T11:45:16.422Z"
   },
   {
    "duration": 25,
    "start_time": "2022-12-30T11:45:16.428Z"
   },
   {
    "duration": 10,
    "start_time": "2022-12-30T11:45:16.455Z"
   },
   {
    "duration": 122,
    "start_time": "2022-12-30T11:45:16.467Z"
   },
   {
    "duration": 27,
    "start_time": "2022-12-30T11:45:16.591Z"
   },
   {
    "duration": 2,
    "start_time": "2022-12-30T11:45:16.619Z"
   },
   {
    "duration": 98,
    "start_time": "2022-12-30T11:45:16.623Z"
   },
   {
    "duration": 2493,
    "start_time": "2022-12-30T11:45:16.723Z"
   },
   {
    "duration": 31,
    "start_time": "2022-12-30T11:45:19.219Z"
   },
   {
    "duration": 21,
    "start_time": "2022-12-30T11:45:19.251Z"
   },
   {
    "duration": 46,
    "start_time": "2022-12-30T11:45:19.273Z"
   },
   {
    "duration": 13,
    "start_time": "2022-12-30T11:45:19.321Z"
   },
   {
    "duration": 26,
    "start_time": "2022-12-30T11:45:19.335Z"
   },
   {
    "duration": 7,
    "start_time": "2022-12-30T11:45:19.363Z"
   },
   {
    "duration": 38,
    "start_time": "2022-12-30T11:45:19.371Z"
   },
   {
    "duration": 36,
    "start_time": "2022-12-30T11:45:19.411Z"
   },
   {
    "duration": 13,
    "start_time": "2022-12-30T11:45:19.449Z"
   },
   {
    "duration": 65,
    "start_time": "2022-12-30T11:45:19.464Z"
   },
   {
    "duration": 10,
    "start_time": "2022-12-30T11:45:19.531Z"
   },
   {
    "duration": 38,
    "start_time": "2022-12-30T11:45:19.543Z"
   },
   {
    "duration": 36,
    "start_time": "2022-12-30T11:45:19.585Z"
   },
   {
    "duration": 6,
    "start_time": "2022-12-30T11:45:19.623Z"
   },
   {
    "duration": 48,
    "start_time": "2022-12-30T11:45:19.630Z"
   },
   {
    "duration": 20,
    "start_time": "2022-12-30T11:45:19.696Z"
   },
   {
    "duration": 5,
    "start_time": "2022-12-30T11:45:19.718Z"
   },
   {
    "duration": 19,
    "start_time": "2022-12-30T11:45:19.724Z"
   },
   {
    "duration": 6,
    "start_time": "2022-12-30T11:45:19.745Z"
   },
   {
    "duration": 23,
    "start_time": "2022-12-30T11:45:19.752Z"
   },
   {
    "duration": 38,
    "start_time": "2022-12-30T11:45:19.777Z"
   },
   {
    "duration": 50,
    "start_time": "2022-12-30T11:45:19.817Z"
   },
   {
    "duration": 2122,
    "start_time": "2022-12-30T11:45:19.869Z"
   },
   {
    "duration": 295,
    "start_time": "2022-12-30T11:45:21.996Z"
   },
   {
    "duration": 179,
    "start_time": "2022-12-30T11:45:22.297Z"
   },
   {
    "duration": 230,
    "start_time": "2022-12-30T11:45:22.478Z"
   },
   {
    "duration": 382,
    "start_time": "2022-12-30T11:45:22.710Z"
   },
   {
    "duration": 146,
    "start_time": "2022-12-30T11:45:23.096Z"
   },
   {
    "duration": 1886,
    "start_time": "2022-12-30T11:45:23.244Z"
   },
   {
    "duration": 187,
    "start_time": "2022-12-30T11:45:25.132Z"
   },
   {
    "duration": 195,
    "start_time": "2022-12-30T11:45:25.321Z"
   },
   {
    "duration": 203,
    "start_time": "2022-12-30T11:45:25.517Z"
   },
   {
    "duration": 775,
    "start_time": "2022-12-30T11:45:25.722Z"
   },
   {
    "duration": 566,
    "start_time": "2022-12-30T11:45:26.505Z"
   },
   {
    "duration": 480,
    "start_time": "2022-12-30T11:45:27.072Z"
   },
   {
    "duration": 229,
    "start_time": "2022-12-30T11:45:27.554Z"
   },
   {
    "duration": 359,
    "start_time": "2022-12-30T11:45:27.785Z"
   },
   {
    "duration": 326,
    "start_time": "2022-12-30T11:45:28.145Z"
   },
   {
    "duration": 165,
    "start_time": "2022-12-30T11:45:28.473Z"
   },
   {
    "duration": 611,
    "start_time": "2022-12-30T11:45:28.640Z"
   },
   {
    "duration": 379,
    "start_time": "2022-12-30T11:45:29.253Z"
   },
   {
    "duration": 79,
    "start_time": "2022-12-30T11:45:29.633Z"
   },
   {
    "duration": 418,
    "start_time": "2022-12-30T11:45:29.714Z"
   },
   {
    "duration": 1139,
    "start_time": "2022-12-30T13:03:02.882Z"
   },
   {
    "duration": 3,
    "start_time": "2022-12-30T13:03:04.023Z"
   },
   {
    "duration": 5,
    "start_time": "2022-12-30T13:03:04.028Z"
   },
   {
    "duration": 93,
    "start_time": "2022-12-30T13:03:04.035Z"
   },
   {
    "duration": 22,
    "start_time": "2022-12-30T13:03:04.130Z"
   },
   {
    "duration": 3,
    "start_time": "2022-12-30T13:03:04.153Z"
   },
   {
    "duration": 88,
    "start_time": "2022-12-30T13:03:04.157Z"
   },
   {
    "duration": 1824,
    "start_time": "2022-12-30T13:03:04.246Z"
   },
   {
    "duration": 155,
    "start_time": "2022-12-30T13:03:06.071Z"
   },
   {
    "duration": 6,
    "start_time": "2022-12-30T13:03:06.228Z"
   },
   {
    "duration": 20,
    "start_time": "2022-12-30T13:03:06.235Z"
   },
   {
    "duration": 8,
    "start_time": "2022-12-30T13:03:06.256Z"
   },
   {
    "duration": 19,
    "start_time": "2022-12-30T13:03:06.266Z"
   },
   {
    "duration": 7,
    "start_time": "2022-12-30T13:03:06.322Z"
   },
   {
    "duration": 8,
    "start_time": "2022-12-30T13:03:06.331Z"
   },
   {
    "duration": 18,
    "start_time": "2022-12-30T13:03:06.341Z"
   },
   {
    "duration": 12,
    "start_time": "2022-12-30T13:03:06.361Z"
   },
   {
    "duration": 71,
    "start_time": "2022-12-30T13:03:06.375Z"
   },
   {
    "duration": 14,
    "start_time": "2022-12-30T13:03:06.448Z"
   },
   {
    "duration": 27,
    "start_time": "2022-12-30T13:03:06.464Z"
   },
   {
    "duration": 56,
    "start_time": "2022-12-30T13:03:06.493Z"
   },
   {
    "duration": 6,
    "start_time": "2022-12-30T13:03:06.551Z"
   },
   {
    "duration": 69,
    "start_time": "2022-12-30T13:03:06.559Z"
   },
   {
    "duration": 12,
    "start_time": "2022-12-30T13:03:06.629Z"
   },
   {
    "duration": 11,
    "start_time": "2022-12-30T13:03:06.642Z"
   },
   {
    "duration": 17,
    "start_time": "2022-12-30T13:03:06.655Z"
   },
   {
    "duration": 7,
    "start_time": "2022-12-30T13:03:06.674Z"
   },
   {
    "duration": 11,
    "start_time": "2022-12-30T13:03:06.682Z"
   },
   {
    "duration": 20,
    "start_time": "2022-12-30T13:03:06.722Z"
   },
   {
    "duration": 52,
    "start_time": "2022-12-30T13:03:06.744Z"
   },
   {
    "duration": 1901,
    "start_time": "2022-12-30T13:03:06.798Z"
   },
   {
    "duration": 278,
    "start_time": "2022-12-30T13:03:08.701Z"
   },
   {
    "duration": 183,
    "start_time": "2022-12-30T13:03:08.980Z"
   },
   {
    "duration": 203,
    "start_time": "2022-12-30T13:03:09.165Z"
   },
   {
    "duration": 352,
    "start_time": "2022-12-30T13:03:09.370Z"
   },
   {
    "duration": 276,
    "start_time": "2022-12-30T13:03:09.724Z"
   },
   {
    "duration": 1057,
    "start_time": "2022-12-30T13:03:10.002Z"
   },
   {
    "duration": 145,
    "start_time": "2022-12-30T13:03:11.060Z"
   },
   {
    "duration": 166,
    "start_time": "2022-12-30T13:03:11.206Z"
   },
   {
    "duration": 269,
    "start_time": "2022-12-30T13:03:11.374Z"
   },
   {
    "duration": 621,
    "start_time": "2022-12-30T13:03:11.647Z"
   },
   {
    "duration": 503,
    "start_time": "2022-12-30T13:03:12.270Z"
   },
   {
    "duration": 540,
    "start_time": "2022-12-30T13:03:12.775Z"
   },
   {
    "duration": 220,
    "start_time": "2022-12-30T13:03:13.317Z"
   },
   {
    "duration": 312,
    "start_time": "2022-12-30T13:03:13.539Z"
   },
   {
    "duration": 305,
    "start_time": "2022-12-30T13:03:13.853Z"
   },
   {
    "duration": 142,
    "start_time": "2022-12-30T13:03:14.159Z"
   },
   {
    "duration": 538,
    "start_time": "2022-12-30T13:03:14.303Z"
   },
   {
    "duration": 444,
    "start_time": "2022-12-30T13:03:14.843Z"
   },
   {
    "duration": 74,
    "start_time": "2022-12-30T13:03:15.289Z"
   },
   {
    "duration": 379,
    "start_time": "2022-12-30T13:03:15.366Z"
   }
  ],
  "kernelspec": {
   "display_name": "Python 3 (ipykernel)",
   "language": "python",
   "name": "python3"
  },
  "language_info": {
   "codemirror_mode": {
    "name": "ipython",
    "version": 3
   },
   "file_extension": ".py",
   "mimetype": "text/x-python",
   "name": "python",
   "nbconvert_exporter": "python",
   "pygments_lexer": "ipython3",
   "version": "3.9.13"
  },
  "toc": {
   "base_numbering": 1,
   "nav_menu": {},
   "number_sections": true,
   "sideBar": true,
   "skip_h1_title": true,
   "title_cell": "Table of Contents",
   "title_sidebar": "Contents",
   "toc_cell": false,
   "toc_position": {},
   "toc_section_display": true,
   "toc_window_display": true
  }
 },
 "nbformat": 4,
 "nbformat_minor": 2
}
