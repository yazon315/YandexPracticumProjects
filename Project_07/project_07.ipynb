{
 "cells": [
  {
   "cell_type": "markdown",
   "metadata": {},
   "source": [
    "# Проект: Прогноз оттока клиентов банка"
   ]
  },
  {
   "cell_type": "markdown",
   "metadata": {},
   "source": [
    "**Оглавление**<a id='toc0_'></a>    \n",
    "- 1. [Загрузка, изучение и подготовка данных](#toc1_)    \n",
    "  - 1.1. [Вывод по разделу 1](#toc1_1_)    \n",
    "- 2. [Исследование задачи](#toc2_)    \n",
    "  - 2.1. [Исследование баланса классов](#toc2_1_)    \n",
    "  - 2.2. [Формирование выборок](#toc2_2_)    \n",
    "  - 2.3. [Подготовка признаков](#toc2_3_)    \n",
    "  - 2.4. [Исследование моделей на несбалансированной выборке](#toc2_4_)    \n",
    "  - 2.5. [Вывод по разделу 2](#toc2_5_)    \n",
    "- 3. [Улучшение качества модели с учетом дисбаланса классов](#toc3_)    \n",
    "  - 3.1. [Применение техники взвешивания классов](#toc3_1_)    \n",
    "  - 3.2. [Применение техники изменения размера выборки (upsampling)](#toc3_2_)    \n",
    "  - 3.3. [Одновременное применение нескольких техник](#toc3_3_)    \n",
    "  - 3.4. [Вывод по разделу 3](#toc3_4_)    \n",
    "- 4. [Финальное тестирование](#toc4_)    \n",
    "  - 4.1. [Вывод по разделу 4](#toc4_1_)    \n",
    "- 5. [Общий вывод](#toc5_)    \n",
    "\n",
    "<!-- vscode-jupyter-toc-config\n",
    "\tnumbering=true\n",
    "\tanchor=true\n",
    "\tflat=false\n",
    "\tminLevel=2\n",
    "\tmaxLevel=6\n",
    "\t/vscode-jupyter-toc-config -->\n",
    "<!-- THIS CELL WILL BE REPLACED ON TOC UPDATE. DO NOT WRITE YOUR TEXT IN THIS CELL -->"
   ]
  },
  {
   "cell_type": "markdown",
   "metadata": {
    "id": "i74quiRfrzOd"
   },
   "source": [
    "**Задание:**\n",
    "\n",
    "«Бета-Банк» предоставил исторические данные о поведении клиентов и расторжении договоров с банком.\n",
    "\n",
    "По информации банка, клиенты стали уходить каждый месяц. Маркетологи банка установили, что сохранять текущих клиентов дешевле, чем привлекать новых. В связи с этим перед данным исследованием поставлена задача спрогнозировать, уйдёт клиент из банка в ближайшее время или нет.\n",
    "\n",
    "Необходимо построить модель с предельно большим значением *F1*-меры (довести значение метрики до 0,59) и проверить *F1*-меру на тестовой выборке. Также необходимо провести измерения *AUC-ROC* и сравнить её значение с *F1*-мерой.\n",
    "\n",
    "План работы:\n",
    "1. Загрузка, изучение и подготовка данных.\n",
    "2. Исследование задачи.\n",
    "3. Улучшение качества модели с учетом дисбаланса классов.\n",
    "4. Финальное тестирование.\n",
    "5. Общий вывод."
   ]
  },
  {
   "cell_type": "markdown",
   "metadata": {},
   "source": [
    "## 1. <a id='toc1_'></a>[Загрузка, изучение и подготовка данных](#toc0_)"
   ]
  },
  {
   "cell_type": "code",
   "execution_count": null,
   "metadata": {
    "id": "6SqB7InJrzOf"
   },
   "outputs": [],
   "source": [
    "# подключение библиотек\n",
    "import pandas as pd\n",
    "import numpy as np\n",
    "import matplotlib.pyplot as plt\n",
    "import random\n",
    "import re\n",
    "\n",
    "from IPython.display import display\n",
    "\n",
    "from sklearn.metrics import f1_score\n",
    "from sklearn.metrics import roc_auc_score\n",
    "from sklearn.model_selection import train_test_split\n",
    "from sklearn.preprocessing import OneHotEncoder\n",
    "from sklearn.preprocessing import StandardScaler\n",
    "from sklearn.utils import shuffle\n",
    "from sklearn.tree import DecisionTreeClassifier\n",
    "from sklearn.ensemble import RandomForestClassifier\n",
    "from sklearn.linear_model import LogisticRegression\n",
    "\n",
    "# константы\n",
    "RST = 12345 # random_state"
   ]
  },
  {
   "cell_type": "code",
   "execution_count": null,
   "metadata": {
    "id": "0QxG6w7wrzOh"
   },
   "outputs": [],
   "source": [
    "# функция по переводу названий столбцов датасета из \"верблюжьего\" регистра в \"змеиный\"\n",
    "def camel_to_snake(df):\n",
    "    columns_new = []\n",
    "    for i in range(len(df.columns)):\n",
    "        columns_new.append(re.sub('(?<=[a-zA-Z])([A-Z])',('_' + '\\g<1>'),df.columns[i]).lower())\n",
    "    data.columns = columns_new\n",
    "    return"
   ]
  },
  {
   "cell_type": "code",
   "execution_count": null,
   "metadata": {
    "id": "g6ig2U17rzOh"
   },
   "outputs": [],
   "source": [
    "# функция выбора лучшей модели \"дерево решений\"\n",
    "# параметры: features и target обучающей выборки, features и target валидационной выборки\n",
    "# пятый необязательный параметр class_weight по умолчанию равен None\n",
    "def model_dtc(features_x, target_x, features_y, target_y, cw = None):\n",
    "    best_f1_dtc = 0\n",
    "    best_depth_dtc = 0\n",
    "    best_model_dtc = None\n",
    "    for depth in range(1, 11):\n",
    "        # создаем модель типа \"дерево решений\" с глубиной 'depth'\n",
    "        model = DecisionTreeClassifier(random_state=RST, max_depth=depth, class_weight=cw)\n",
    "        # обучаем модель на обучающей выборке\n",
    "        model.fit(features_x, target_x)\n",
    "        # получаем предсказания обученной модели на валидационной выборке\n",
    "        predictions = model.predict(features_y)\n",
    "        # определяем F1-меру\n",
    "        f1_sc = f1_score(target_y, predictions)\n",
    "        # выбираем лучшее\n",
    "        if f1_sc > best_f1_dtc:\n",
    "            best_f1_dtc = f1_sc\n",
    "            best_depth_dtc = depth\n",
    "            best_model_dtc = model\n",
    "\n",
    "    # определяем AUC-ROC\n",
    "    probabilities_dtc = best_model_dtc.predict_proba(features_y)\n",
    "    probabilities_one_dtc = probabilities_dtc[:, 1]\n",
    "    auc_roc_dtc = roc_auc_score(target_y, probabilities_one_dtc)\n",
    "\n",
    "    print(f'''\n",
    "    Модель \"дерево решений\".\n",
    "    Наибольшее значение F1-меры {best_f1_dtc} при глубине дерева {best_depth_dtc}.\n",
    "    Значение AUC-ROC составляет {auc_roc_dtc}.''')\n",
    "    return best_model_dtc, best_f1_dtc, auc_roc_dtc"
   ]
  },
  {
   "cell_type": "code",
   "execution_count": null,
   "metadata": {
    "id": "Rl6VuZlwrzOi"
   },
   "outputs": [],
   "source": [
    "# функция выбора лучшей модели \"случайный лес\"\n",
    "# параметры: features и target обучающей выборки, features и target валидационной выборки\n",
    "# пятый необязательный параметр class_weight по умолчанию равен None\n",
    "def model_rfc(features_x, target_x, features_y, target_y, cw = None):\n",
    "    best_f1_rfc = 0\n",
    "    best_depth_rfc = 0\n",
    "    best_est_rfc = 0\n",
    "    best_model_rfc = None\n",
    "    for est in range(10, 101, 10):\n",
    "        for depth in range (1, 11):\n",
    "            # создаем модель типа \"случайный лес\" с количеством деревьев 'est' и глубиной 'depth'\n",
    "            model = RandomForestClassifier(random_state=RST, n_estimators=est, max_depth=depth, class_weight=cw)\n",
    "            # обучаем модель на обучающей выборке\n",
    "            model.fit(features_x, target_x)\n",
    "            # получаем предсказания обученной модели на валидационной выборке\n",
    "            predictions = model.predict(features_y)\n",
    "            # определяем F1-меру\n",
    "            f1_sc = f1_score(target_y, predictions)\n",
    "            # выбираем лучшее\n",
    "            if f1_sc > best_f1_rfc:\n",
    "                best_f1_rfc = f1_sc\n",
    "                best_depth_rfc = depth\n",
    "                best_est_rfc = est\n",
    "                best_model_rfc = model\n",
    "\n",
    "    # определяем AUC-ROC\n",
    "    probabilities_rfc = best_model_rfc.predict_proba(features_y)\n",
    "    probabilities_one_rfc = probabilities_rfc[:, 1]\n",
    "    auc_roc_rfc = roc_auc_score(target_y, probabilities_one_rfc)\n",
    "\n",
    "    print(f'''\n",
    "    Модель \"случайный лес\".\n",
    "    Наибольшее значение F1-меры {best_f1_rfc} при {best_est_rfc} деревьях и глубине дерева {best_depth_rfc}.\n",
    "    Значение AUC-ROC составляет {auc_roc_rfc}.''')\n",
    "    return best_model_rfc, best_f1_rfc, auc_roc_rfc"
   ]
  },
  {
   "cell_type": "code",
   "execution_count": null,
   "metadata": {
    "id": "fmopL4TOrzOi"
   },
   "outputs": [],
   "source": [
    "# функция выбора лучшей модели \"логистическая регрессия\"\n",
    "# параметры: features и target обучающей выборки, features и target валидационной выборки\n",
    "# пятый необязательный параметр class_weight по умолчанию равен None\n",
    "def model_lr(features_x, target_x, features_y, target_y, cw = None):\n",
    "    best_f1_lr = 0\n",
    "    best_iter_lr = 0\n",
    "    best_model_lr = None\n",
    "    for itera in range(100, 1001, 10):\n",
    "        # создаем модель типа \"логистическая регрессия\" с количеством итераций 'itera'\n",
    "        model = LogisticRegression(random_state=RST, solver='lbfgs', max_iter=itera, class_weight=cw)\n",
    "        # обучаем модель на обучающей выборке\n",
    "        model.fit(features_x, target_x)\n",
    "        # получаем предсказания обученной модели на валидационной выборке\n",
    "        predictions = model.predict(features_y)\n",
    "        # определяем F1-меру\n",
    "        f1_sc = f1_score(target_y, predictions)\n",
    "        # выбираем лучшее\n",
    "        if f1_sc > best_f1_lr:\n",
    "            best_f1_lr = f1_sc\n",
    "            best_iter_lr = itera\n",
    "            best_model_lr = model\n",
    "\n",
    "    # определяем AUC-ROC\n",
    "    probabilities_lr = best_model_lr.predict_proba(features_y)\n",
    "    probabilities_one_lr = probabilities_lr[:, 1]\n",
    "    auc_roc_lr = roc_auc_score(target_y, probabilities_one_lr)\n",
    "\n",
    "    print(f'''\n",
    "    Модель \"логистическая регрессия\".\n",
    "    Наибольшее значение F1-меры {best_f1_lr} при количестве итераций {best_iter_lr}.\n",
    "    Значение AUC-ROC составляет {auc_roc_lr}.''')\n",
    "    return best_model_lr, best_f1_lr, auc_roc_lr"
   ]
  },
  {
   "cell_type": "code",
   "execution_count": null,
   "metadata": {
    "id": "UX93yHBnrzOj"
   },
   "outputs": [],
   "source": [
    "# загрузка данных\n",
    "try:\n",
    "    data = pd.read_csv('/datasets/Churn.csv')\n",
    "except FileNotFoundError:\n",
    "    data = pd.read_csv('D:/Education/Data_Science/Проекты курса DS/Проект_07/datasets/Churn.csv')\n",
    "\n",
    "# загрузка описаний столбцов данных\n",
    "ind = ['RowNumber', 'CustomerId', 'Surname', 'CreditScore', 'Geography', 'Gender', 'Age', 'Tenure', 'Balance', \n",
    "       'NumOfProducts', 'HasCrCard', 'IsActiveMember', 'EstimatedSalary', 'Exited']\n",
    "polya = ['индекс строки в данных', 'уникальный идентификатор клиента', 'фамилия', 'кредитный рейтинг', 'страна проживания',\n",
    "         'пол', 'возраст', 'сколько лет человек является клиентом банка', 'баланс на счёте',\n",
    "         'количество продуктов банка, используемых клиентом', 'наличие кредитной карты', 'активность клиента',\n",
    "         'предполагаемая зарплата', 'факт ухода клиента']\n",
    "opisanie = pd.DataFrame(data=polya, index=ind, columns=['описание'])"
   ]
  },
  {
   "cell_type": "code",
   "execution_count": null,
   "metadata": {
    "id": "fqY32_WkrzOj",
    "outputId": "b730c6ac-c62b-4e69-bfee-36d129e664d7",
    "scrolled": false
   },
   "outputs": [
    {
     "name": "stdout",
     "output_type": "stream",
     "text": [
      "<class 'pandas.core.frame.DataFrame'>\n",
      "RangeIndex: 10000 entries, 0 to 9999\n",
      "Data columns (total 14 columns):\n",
      " #   Column           Non-Null Count  Dtype  \n",
      "---  ------           --------------  -----  \n",
      " 0   RowNumber        10000 non-null  int64  \n",
      " 1   CustomerId       10000 non-null  int64  \n",
      " 2   Surname          10000 non-null  object \n",
      " 3   CreditScore      10000 non-null  int64  \n",
      " 4   Geography        10000 non-null  object \n",
      " 5   Gender           10000 non-null  object \n",
      " 6   Age              10000 non-null  int64  \n",
      " 7   Tenure           9091 non-null   float64\n",
      " 8   Balance          10000 non-null  float64\n",
      " 9   NumOfProducts    10000 non-null  int64  \n",
      " 10  HasCrCard        10000 non-null  int64  \n",
      " 11  IsActiveMember   10000 non-null  int64  \n",
      " 12  EstimatedSalary  10000 non-null  float64\n",
      " 13  Exited           10000 non-null  int64  \n",
      "dtypes: float64(3), int64(8), object(3)\n",
      "memory usage: 1.1+ MB\n"
     ]
    },
    {
     "data": {
      "text/html": [
       "<div>\n",
       "<style scoped>\n",
       "    .dataframe tbody tr th:only-of-type {\n",
       "        vertical-align: middle;\n",
       "    }\n",
       "\n",
       "    .dataframe tbody tr th {\n",
       "        vertical-align: top;\n",
       "    }\n",
       "\n",
       "    .dataframe thead th {\n",
       "        text-align: right;\n",
       "    }\n",
       "</style>\n",
       "<table border=\"1\" class=\"dataframe\">\n",
       "  <thead>\n",
       "    <tr style=\"text-align: right;\">\n",
       "      <th></th>\n",
       "      <th>RowNumber</th>\n",
       "      <th>CustomerId</th>\n",
       "      <th>Surname</th>\n",
       "      <th>CreditScore</th>\n",
       "      <th>Geography</th>\n",
       "      <th>Gender</th>\n",
       "      <th>Age</th>\n",
       "      <th>Tenure</th>\n",
       "      <th>Balance</th>\n",
       "      <th>NumOfProducts</th>\n",
       "      <th>HasCrCard</th>\n",
       "      <th>IsActiveMember</th>\n",
       "      <th>EstimatedSalary</th>\n",
       "      <th>Exited</th>\n",
       "    </tr>\n",
       "  </thead>\n",
       "  <tbody>\n",
       "    <tr>\n",
       "      <th>0</th>\n",
       "      <td>1</td>\n",
       "      <td>15634602</td>\n",
       "      <td>Hargrave</td>\n",
       "      <td>619</td>\n",
       "      <td>France</td>\n",
       "      <td>Female</td>\n",
       "      <td>42</td>\n",
       "      <td>2.00</td>\n",
       "      <td>0.00</td>\n",
       "      <td>1</td>\n",
       "      <td>1</td>\n",
       "      <td>1</td>\n",
       "      <td>101348.88</td>\n",
       "      <td>1</td>\n",
       "    </tr>\n",
       "    <tr>\n",
       "      <th>1</th>\n",
       "      <td>2</td>\n",
       "      <td>15647311</td>\n",
       "      <td>Hill</td>\n",
       "      <td>608</td>\n",
       "      <td>Spain</td>\n",
       "      <td>Female</td>\n",
       "      <td>41</td>\n",
       "      <td>1.00</td>\n",
       "      <td>83807.86</td>\n",
       "      <td>1</td>\n",
       "      <td>0</td>\n",
       "      <td>1</td>\n",
       "      <td>112542.58</td>\n",
       "      <td>0</td>\n",
       "    </tr>\n",
       "    <tr>\n",
       "      <th>2</th>\n",
       "      <td>3</td>\n",
       "      <td>15619304</td>\n",
       "      <td>Onio</td>\n",
       "      <td>502</td>\n",
       "      <td>France</td>\n",
       "      <td>Female</td>\n",
       "      <td>42</td>\n",
       "      <td>8.00</td>\n",
       "      <td>159660.80</td>\n",
       "      <td>3</td>\n",
       "      <td>1</td>\n",
       "      <td>0</td>\n",
       "      <td>113931.57</td>\n",
       "      <td>1</td>\n",
       "    </tr>\n",
       "    <tr>\n",
       "      <th>3</th>\n",
       "      <td>4</td>\n",
       "      <td>15701354</td>\n",
       "      <td>Boni</td>\n",
       "      <td>699</td>\n",
       "      <td>France</td>\n",
       "      <td>Female</td>\n",
       "      <td>39</td>\n",
       "      <td>1.00</td>\n",
       "      <td>0.00</td>\n",
       "      <td>2</td>\n",
       "      <td>0</td>\n",
       "      <td>0</td>\n",
       "      <td>93826.63</td>\n",
       "      <td>0</td>\n",
       "    </tr>\n",
       "    <tr>\n",
       "      <th>4</th>\n",
       "      <td>5</td>\n",
       "      <td>15737888</td>\n",
       "      <td>Mitchell</td>\n",
       "      <td>850</td>\n",
       "      <td>Spain</td>\n",
       "      <td>Female</td>\n",
       "      <td>43</td>\n",
       "      <td>2.00</td>\n",
       "      <td>125510.82</td>\n",
       "      <td>1</td>\n",
       "      <td>1</td>\n",
       "      <td>1</td>\n",
       "      <td>79084.10</td>\n",
       "      <td>0</td>\n",
       "    </tr>\n",
       "    <tr>\n",
       "      <th>9791</th>\n",
       "      <td>9792</td>\n",
       "      <td>15742091</td>\n",
       "      <td>Parkhill</td>\n",
       "      <td>825</td>\n",
       "      <td>Germany</td>\n",
       "      <td>Female</td>\n",
       "      <td>35</td>\n",
       "      <td>6.00</td>\n",
       "      <td>118336.95</td>\n",
       "      <td>1</td>\n",
       "      <td>1</td>\n",
       "      <td>0</td>\n",
       "      <td>26342.33</td>\n",
       "      <td>1</td>\n",
       "    </tr>\n",
       "    <tr>\n",
       "      <th>3590</th>\n",
       "      <td>3591</td>\n",
       "      <td>15687884</td>\n",
       "      <td>Alekseyeva</td>\n",
       "      <td>677</td>\n",
       "      <td>France</td>\n",
       "      <td>Male</td>\n",
       "      <td>37</td>\n",
       "      <td>3.00</td>\n",
       "      <td>88363.03</td>\n",
       "      <td>1</td>\n",
       "      <td>0</td>\n",
       "      <td>1</td>\n",
       "      <td>117946.30</td>\n",
       "      <td>0</td>\n",
       "    </tr>\n",
       "    <tr>\n",
       "      <th>6071</th>\n",
       "      <td>6072</td>\n",
       "      <td>15665222</td>\n",
       "      <td>Lettiere</td>\n",
       "      <td>625</td>\n",
       "      <td>Spain</td>\n",
       "      <td>Male</td>\n",
       "      <td>52</td>\n",
       "      <td>8.00</td>\n",
       "      <td>121161.57</td>\n",
       "      <td>1</td>\n",
       "      <td>1</td>\n",
       "      <td>0</td>\n",
       "      <td>48988.28</td>\n",
       "      <td>0</td>\n",
       "    </tr>\n",
       "    <tr>\n",
       "      <th>9655</th>\n",
       "      <td>9656</td>\n",
       "      <td>15668971</td>\n",
       "      <td>Nicholson</td>\n",
       "      <td>583</td>\n",
       "      <td>France</td>\n",
       "      <td>Female</td>\n",
       "      <td>40</td>\n",
       "      <td>NaN</td>\n",
       "      <td>55776.39</td>\n",
       "      <td>2</td>\n",
       "      <td>1</td>\n",
       "      <td>0</td>\n",
       "      <td>26920.43</td>\n",
       "      <td>0</td>\n",
       "    </tr>\n",
       "    <tr>\n",
       "      <th>3339</th>\n",
       "      <td>3340</td>\n",
       "      <td>15631305</td>\n",
       "      <td>Franklin</td>\n",
       "      <td>599</td>\n",
       "      <td>Spain</td>\n",
       "      <td>Female</td>\n",
       "      <td>28</td>\n",
       "      <td>NaN</td>\n",
       "      <td>126833.79</td>\n",
       "      <td>2</td>\n",
       "      <td>1</td>\n",
       "      <td>0</td>\n",
       "      <td>60843.09</td>\n",
       "      <td>1</td>\n",
       "    </tr>\n",
       "    <tr>\n",
       "      <th>9995</th>\n",
       "      <td>9996</td>\n",
       "      <td>15606229</td>\n",
       "      <td>Obijiaku</td>\n",
       "      <td>771</td>\n",
       "      <td>France</td>\n",
       "      <td>Male</td>\n",
       "      <td>39</td>\n",
       "      <td>5.00</td>\n",
       "      <td>0.00</td>\n",
       "      <td>2</td>\n",
       "      <td>1</td>\n",
       "      <td>0</td>\n",
       "      <td>96270.64</td>\n",
       "      <td>0</td>\n",
       "    </tr>\n",
       "    <tr>\n",
       "      <th>9996</th>\n",
       "      <td>9997</td>\n",
       "      <td>15569892</td>\n",
       "      <td>Johnstone</td>\n",
       "      <td>516</td>\n",
       "      <td>France</td>\n",
       "      <td>Male</td>\n",
       "      <td>35</td>\n",
       "      <td>10.00</td>\n",
       "      <td>57369.61</td>\n",
       "      <td>1</td>\n",
       "      <td>1</td>\n",
       "      <td>1</td>\n",
       "      <td>101699.77</td>\n",
       "      <td>0</td>\n",
       "    </tr>\n",
       "    <tr>\n",
       "      <th>9997</th>\n",
       "      <td>9998</td>\n",
       "      <td>15584532</td>\n",
       "      <td>Liu</td>\n",
       "      <td>709</td>\n",
       "      <td>France</td>\n",
       "      <td>Female</td>\n",
       "      <td>36</td>\n",
       "      <td>7.00</td>\n",
       "      <td>0.00</td>\n",
       "      <td>1</td>\n",
       "      <td>0</td>\n",
       "      <td>1</td>\n",
       "      <td>42085.58</td>\n",
       "      <td>1</td>\n",
       "    </tr>\n",
       "    <tr>\n",
       "      <th>9998</th>\n",
       "      <td>9999</td>\n",
       "      <td>15682355</td>\n",
       "      <td>Sabbatini</td>\n",
       "      <td>772</td>\n",
       "      <td>Germany</td>\n",
       "      <td>Male</td>\n",
       "      <td>42</td>\n",
       "      <td>3.00</td>\n",
       "      <td>75075.31</td>\n",
       "      <td>2</td>\n",
       "      <td>1</td>\n",
       "      <td>0</td>\n",
       "      <td>92888.52</td>\n",
       "      <td>1</td>\n",
       "    </tr>\n",
       "    <tr>\n",
       "      <th>9999</th>\n",
       "      <td>10000</td>\n",
       "      <td>15628319</td>\n",
       "      <td>Walker</td>\n",
       "      <td>792</td>\n",
       "      <td>France</td>\n",
       "      <td>Female</td>\n",
       "      <td>28</td>\n",
       "      <td>NaN</td>\n",
       "      <td>130142.79</td>\n",
       "      <td>1</td>\n",
       "      <td>1</td>\n",
       "      <td>0</td>\n",
       "      <td>38190.78</td>\n",
       "      <td>0</td>\n",
       "    </tr>\n",
       "  </tbody>\n",
       "</table>\n",
       "</div>"
      ],
      "text/plain": [
       "      RowNumber  CustomerId     Surname  CreditScore Geography  Gender  Age  \\\n",
       "0             1    15634602    Hargrave          619    France  Female   42   \n",
       "1             2    15647311        Hill          608     Spain  Female   41   \n",
       "2             3    15619304        Onio          502    France  Female   42   \n",
       "3             4    15701354        Boni          699    France  Female   39   \n",
       "4             5    15737888    Mitchell          850     Spain  Female   43   \n",
       "9791       9792    15742091    Parkhill          825   Germany  Female   35   \n",
       "3590       3591    15687884  Alekseyeva          677    France    Male   37   \n",
       "6071       6072    15665222    Lettiere          625     Spain    Male   52   \n",
       "9655       9656    15668971   Nicholson          583    France  Female   40   \n",
       "3339       3340    15631305    Franklin          599     Spain  Female   28   \n",
       "9995       9996    15606229    Obijiaku          771    France    Male   39   \n",
       "9996       9997    15569892   Johnstone          516    France    Male   35   \n",
       "9997       9998    15584532         Liu          709    France  Female   36   \n",
       "9998       9999    15682355   Sabbatini          772   Germany    Male   42   \n",
       "9999      10000    15628319      Walker          792    France  Female   28   \n",
       "\n",
       "      Tenure   Balance  NumOfProducts  HasCrCard  IsActiveMember  \\\n",
       "0       2.00      0.00              1          1               1   \n",
       "1       1.00  83807.86              1          0               1   \n",
       "2       8.00 159660.80              3          1               0   \n",
       "3       1.00      0.00              2          0               0   \n",
       "4       2.00 125510.82              1          1               1   \n",
       "9791    6.00 118336.95              1          1               0   \n",
       "3590    3.00  88363.03              1          0               1   \n",
       "6071    8.00 121161.57              1          1               0   \n",
       "9655     NaN  55776.39              2          1               0   \n",
       "3339     NaN 126833.79              2          1               0   \n",
       "9995    5.00      0.00              2          1               0   \n",
       "9996   10.00  57369.61              1          1               1   \n",
       "9997    7.00      0.00              1          0               1   \n",
       "9998    3.00  75075.31              2          1               0   \n",
       "9999     NaN 130142.79              1          1               0   \n",
       "\n",
       "      EstimatedSalary  Exited  \n",
       "0           101348.88       1  \n",
       "1           112542.58       0  \n",
       "2           113931.57       1  \n",
       "3            93826.63       0  \n",
       "4            79084.10       0  \n",
       "9791         26342.33       1  \n",
       "3590        117946.30       0  \n",
       "6071         48988.28       0  \n",
       "9655         26920.43       0  \n",
       "3339         60843.09       1  \n",
       "9995         96270.64       0  \n",
       "9996        101699.77       0  \n",
       "9997         42085.58       1  \n",
       "9998         92888.52       1  \n",
       "9999         38190.78       0  "
      ]
     },
     "metadata": {},
     "output_type": "display_data"
    },
    {
     "name": "stdout",
     "output_type": "stream",
     "text": [
      "\n",
      "Количество дубликатов: 0\n"
     ]
    },
    {
     "data": {
      "text/html": [
       "<div>\n",
       "<style scoped>\n",
       "    .dataframe tbody tr th:only-of-type {\n",
       "        vertical-align: middle;\n",
       "    }\n",
       "\n",
       "    .dataframe tbody tr th {\n",
       "        vertical-align: top;\n",
       "    }\n",
       "\n",
       "    .dataframe thead th {\n",
       "        text-align: right;\n",
       "    }\n",
       "</style>\n",
       "<table border=\"1\" class=\"dataframe\">\n",
       "  <thead>\n",
       "    <tr style=\"text-align: right;\">\n",
       "      <th></th>\n",
       "      <th>тип данных</th>\n",
       "      <th>описание</th>\n",
       "    </tr>\n",
       "  </thead>\n",
       "  <tbody>\n",
       "    <tr>\n",
       "      <th>RowNumber</th>\n",
       "      <td>int64</td>\n",
       "      <td>индекс строки в данных</td>\n",
       "    </tr>\n",
       "    <tr>\n",
       "      <th>CustomerId</th>\n",
       "      <td>int64</td>\n",
       "      <td>уникальный идентификатор клиента</td>\n",
       "    </tr>\n",
       "    <tr>\n",
       "      <th>Surname</th>\n",
       "      <td>object</td>\n",
       "      <td>фамилия</td>\n",
       "    </tr>\n",
       "    <tr>\n",
       "      <th>CreditScore</th>\n",
       "      <td>int64</td>\n",
       "      <td>кредитный рейтинг</td>\n",
       "    </tr>\n",
       "    <tr>\n",
       "      <th>Geography</th>\n",
       "      <td>object</td>\n",
       "      <td>страна проживания</td>\n",
       "    </tr>\n",
       "    <tr>\n",
       "      <th>Gender</th>\n",
       "      <td>object</td>\n",
       "      <td>пол</td>\n",
       "    </tr>\n",
       "    <tr>\n",
       "      <th>Age</th>\n",
       "      <td>int64</td>\n",
       "      <td>возраст</td>\n",
       "    </tr>\n",
       "    <tr>\n",
       "      <th>Tenure</th>\n",
       "      <td>float64</td>\n",
       "      <td>сколько лет человек является клиентом банка</td>\n",
       "    </tr>\n",
       "    <tr>\n",
       "      <th>Balance</th>\n",
       "      <td>float64</td>\n",
       "      <td>баланс на счёте</td>\n",
       "    </tr>\n",
       "    <tr>\n",
       "      <th>NumOfProducts</th>\n",
       "      <td>int64</td>\n",
       "      <td>количество продуктов банка, используемых клиентом</td>\n",
       "    </tr>\n",
       "    <tr>\n",
       "      <th>HasCrCard</th>\n",
       "      <td>int64</td>\n",
       "      <td>наличие кредитной карты</td>\n",
       "    </tr>\n",
       "    <tr>\n",
       "      <th>IsActiveMember</th>\n",
       "      <td>int64</td>\n",
       "      <td>активность клиента</td>\n",
       "    </tr>\n",
       "    <tr>\n",
       "      <th>EstimatedSalary</th>\n",
       "      <td>float64</td>\n",
       "      <td>предполагаемая зарплата</td>\n",
       "    </tr>\n",
       "    <tr>\n",
       "      <th>Exited</th>\n",
       "      <td>int64</td>\n",
       "      <td>факт ухода клиента</td>\n",
       "    </tr>\n",
       "  </tbody>\n",
       "</table>\n",
       "</div>"
      ],
      "text/plain": [
       "                тип данных                                           описание\n",
       "RowNumber            int64                             индекс строки в данных\n",
       "CustomerId           int64                   уникальный идентификатор клиента\n",
       "Surname             object                                            фамилия\n",
       "CreditScore          int64                                  кредитный рейтинг\n",
       "Geography           object                                  страна проживания\n",
       "Gender              object                                                пол\n",
       "Age                  int64                                            возраст\n",
       "Tenure             float64        сколько лет человек является клиентом банка\n",
       "Balance            float64                                    баланс на счёте\n",
       "NumOfProducts        int64  количество продуктов банка, используемых клиентом\n",
       "HasCrCard            int64                            наличие кредитной карты\n",
       "IsActiveMember       int64                                 активность клиента\n",
       "EstimatedSalary    float64                            предполагаемая зарплата\n",
       "Exited               int64                                 факт ухода клиента"
      ]
     },
     "metadata": {},
     "output_type": "display_data"
    }
   ],
   "source": [
    "# обзор данных\n",
    "pd.set_option('display.max_colwidth', None)\n",
    "pd.set_option('display.max_colwidth', None)\n",
    "pd.set_option('display.float_format', '{:.2f}'.format)\n",
    "\n",
    "data.info()\n",
    "display(pd.concat([data.head(5), data.sample(5), data.tail(5)]))\n",
    "print('\\nКоличество дубликатов:', data.duplicated().sum())\n",
    "display(data.dtypes.to_frame(name='тип данных').join(opisanie))"
   ]
  },
  {
   "cell_type": "markdown",
   "metadata": {
    "id": "kYj_CXWNrzOl"
   },
   "source": [
    "Изучение данных показывает:\n",
    "- Выборка имеет 10000 записей, что достаточно для проведения исследования.\n",
    "- Дубликатов нет.\n",
    "- Исходя из описания и наполнения столбцы `RowNumber`, `CustomerId` и `Surname` не несут смысловой нагрузки для нашего исследования (не влияют на целевой признак `Exited` - факт ухода клиента), поэтому их можно удалить.\n",
    "- Пропуски есть только в столбце `Tenure` (сколько лет человек является клиентом банка).\n",
    "- Типы данных столбцов соответствуют их содержанию. Столбец `Tenure` (сколько лет человек является клиентом банка) предполагает целочисленне значения, можно скорректировать тип данных данного столбца.\n",
    "- Названия столбцов не унифицированы к \"змеиному\" регистру."
   ]
  },
  {
   "cell_type": "code",
   "execution_count": null,
   "metadata": {
    "id": "pf0PPxewrzOl",
    "outputId": "41b03658-68f4-4072-91b7-00c525e6cd31"
   },
   "outputs": [
    {
     "name": "stdout",
     "output_type": "stream",
     "text": [
      "0.00     382\n",
      "1.00     952\n",
      "2.00     950\n",
      "3.00     928\n",
      "4.00     885\n",
      "5.00     927\n",
      "6.00     881\n",
      "7.00     925\n",
      "8.00     933\n",
      "9.00     882\n",
      "10.00    446\n",
      "NaN      909\n",
      "Name: Tenure, dtype: int64\n",
      "\n",
      "Строки с пропусками данных составляют 9.09 %.\n"
     ]
    }
   ],
   "source": [
    "# выведем уникальные значения столбца \"Tenure\"\n",
    "print(data['Tenure'].value_counts(dropna=False).sort_index())\n",
    "print('\\nСтроки с пропусками данных составляют', 100 * data['Tenure'].isna().sum() / len(data['Tenure']), '%.')"
   ]
  },
  {
   "cell_type": "markdown",
   "metadata": {
    "id": "JOERCnJkrzOm"
   },
   "source": [
    "Информации для заполнения пропусков в столбце `Tenure` (сколько лет человек является клиентом банка) нет, достоверно спрогнозировать эту информацию в текущих условиях невозможно. Пропуски будут мешать дальнейшему исследованию, поэтому строки с пропусками удаляем. Это сократит размер выборки на 9%, но позволит провести дальнейшее исследование достоверно."
   ]
  },
  {
   "cell_type": "code",
   "execution_count": null,
   "metadata": {
    "id": "G7m52BplrzOm",
    "outputId": "50d1c23a-7f01-4a03-ae20-761c4ded8e9e"
   },
   "outputs": [
    {
     "name": "stdout",
     "output_type": "stream",
     "text": [
      "<class 'pandas.core.frame.DataFrame'>\n",
      "RangeIndex: 10000 entries, 0 to 9999\n",
      "Data columns (total 11 columns):\n",
      " #   Column            Non-Null Count  Dtype  \n",
      "---  ------            --------------  -----  \n",
      " 0   credit_score      10000 non-null  int64  \n",
      " 1   geography         10000 non-null  object \n",
      " 2   gender            10000 non-null  object \n",
      " 3   age               10000 non-null  int64  \n",
      " 4   tenure            9091 non-null   float64\n",
      " 5   balance           10000 non-null  float64\n",
      " 6   num_of_products   10000 non-null  int64  \n",
      " 7   has_cr_card       10000 non-null  int64  \n",
      " 8   is_active_member  10000 non-null  int64  \n",
      " 9   estimated_salary  10000 non-null  float64\n",
      " 10  exited            10000 non-null  int64  \n",
      "dtypes: float64(3), int64(6), object(2)\n",
      "memory usage: 859.5+ KB\n"
     ]
    }
   ],
   "source": [
    "# удаляем столбцы, не влияющие на исследование\n",
    "data = data.drop(['RowNumber', 'CustomerId', 'Surname'], axis=1)\n",
    "# приводим названия столбцов к \"змеиному\" регистру\n",
    "camel_to_snake(data)\n",
    "# выводим результат\n",
    "data.info()"
   ]
  },
  {
   "cell_type": "markdown",
   "metadata": {},
   "source": [
    "Реализуем альтернативное заполнение пропусков в столбце `Tenure` (сколько лет человек является клиентом банка) случайным значением из диапазона существующих значений данного столбца. Это позволит сохранить объем выборки и не повлияет на распределение данных."
   ]
  },
  {
   "cell_type": "code",
   "execution_count": null,
   "metadata": {
    "id": "6IXjmLvErzOn",
    "outputId": "c2e22c4a-9a0b-4621-84f9-5cca6ea69b50",
    "scrolled": false
   },
   "outputs": [
    {
     "data": {
      "image/png": "[encoded data removed]",
      "text/plain": [
       "<Figure size 1152x360 with 2 Axes>"
      ]
     },
     "metadata": {
      "needs_background": "light"
     },
     "output_type": "display_data"
    },
    {
     "name": "stdout",
     "output_type": "stream",
     "text": [
      "Строки с пропусками данных в столбце \"tenure\" составляют 0.0 %.\n",
      "\n",
      "<class 'pandas.core.frame.DataFrame'>\n",
      "RangeIndex: 10000 entries, 0 to 9999\n",
      "Data columns (total 11 columns):\n",
      " #   Column            Non-Null Count  Dtype  \n",
      "---  ------            --------------  -----  \n",
      " 0   credit_score      10000 non-null  int64  \n",
      " 1   geography         10000 non-null  object \n",
      " 2   gender            10000 non-null  object \n",
      " 3   age               10000 non-null  int64  \n",
      " 4   tenure            10000 non-null  int64  \n",
      " 5   balance           10000 non-null  float64\n",
      " 6   num_of_products   10000 non-null  int64  \n",
      " 7   has_cr_card       10000 non-null  int64  \n",
      " 8   is_active_member  10000 non-null  int64  \n",
      " 9   estimated_salary  10000 non-null  float64\n",
      " 10  exited            10000 non-null  int64  \n",
      "dtypes: float64(2), int64(7), object(2)\n",
      "memory usage: 859.5+ KB\n"
     ]
    }
   ],
   "source": [
    "# исходное распределение значений в столбце \"tenure\"\n",
    "data['tenure'].plot(kind='hist', ax=plt.subplot(1, 2, 1), figsize=(16, 5), bins=50, \n",
    "                    title='Исходные данные в столбце \"tenure\"')\n",
    "\n",
    "# заполнение пропусков случайной величиной из диапазона сначений столбца (от 0 до 10)\n",
    "random.seed(RST)\n",
    "data['tenure'] = data['tenure'].map(lambda x: x if not np.isnan(x) else random.randint(0, 10))\n",
    "# альтернатива рандомного заполнения, но каждый запуск по-разному генерит случайные числа\n",
    "# data['tenure'] = data['tenure'].map(lambda x: x if not np.isnan(x) else np.random.choice(range(0, 10)))\n",
    "\n",
    "# распределение значений в столбце \"tenure\" после заполнения пропусков\n",
    "data['tenure'].plot(kind='hist', bins=50, ax=plt.subplot(1, 2, 2), \n",
    "                    title='После заполнения пропусков случайными значениями из диапазона')\n",
    "plt.show()\n",
    "print('Строки с пропусками данных в столбце \"tenure\" составляют', \n",
    "      100 * data['tenure'].isna().sum() / len(data['tenure']), '%.\\n')\n",
    "\n",
    "# меняем тип данных столбца \"Tenure\" на целочисленный\n",
    "data['tenure'] = data['tenure'].astype('int64')\n",
    "# выводим результат\n",
    "data.info()"
   ]
  },
  {
   "cell_type": "code",
   "execution_count": null,
   "metadata": {
    "id": "YQcUHKLgrzOo",
    "outputId": "767c4532-14f9-4e69-d4cb-a9e80faa6d21",
    "scrolled": false
   },
   "outputs": [
    {
     "name": "stdout",
     "output_type": "stream",
     "text": [
      "Статистическая информация:\n"
     ]
    },
    {
     "data": {
      "text/html": [
       "<div>\n",
       "<style scoped>\n",
       "    .dataframe tbody tr th:only-of-type {\n",
       "        vertical-align: middle;\n",
       "    }\n",
       "\n",
       "    .dataframe tbody tr th {\n",
       "        vertical-align: top;\n",
       "    }\n",
       "\n",
       "    .dataframe thead th {\n",
       "        text-align: right;\n",
       "    }\n",
       "</style>\n",
       "<table border=\"1\" class=\"dataframe\">\n",
       "  <thead>\n",
       "    <tr style=\"text-align: right;\">\n",
       "      <th></th>\n",
       "      <th>credit_score</th>\n",
       "      <th>geography</th>\n",
       "      <th>gender</th>\n",
       "      <th>age</th>\n",
       "      <th>tenure</th>\n",
       "      <th>balance</th>\n",
       "      <th>num_of_products</th>\n",
       "      <th>has_cr_card</th>\n",
       "      <th>is_active_member</th>\n",
       "      <th>estimated_salary</th>\n",
       "      <th>exited</th>\n",
       "    </tr>\n",
       "  </thead>\n",
       "  <tbody>\n",
       "    <tr>\n",
       "      <th>count</th>\n",
       "      <td>10000.00</td>\n",
       "      <td>10000</td>\n",
       "      <td>10000</td>\n",
       "      <td>10000.00</td>\n",
       "      <td>10000.00</td>\n",
       "      <td>10000.00</td>\n",
       "      <td>10000.00</td>\n",
       "      <td>10000.00</td>\n",
       "      <td>10000.00</td>\n",
       "      <td>10000.00</td>\n",
       "      <td>10000.00</td>\n",
       "    </tr>\n",
       "    <tr>\n",
       "      <th>unique</th>\n",
       "      <td>NaN</td>\n",
       "      <td>3</td>\n",
       "      <td>2</td>\n",
       "      <td>NaN</td>\n",
       "      <td>NaN</td>\n",
       "      <td>NaN</td>\n",
       "      <td>NaN</td>\n",
       "      <td>NaN</td>\n",
       "      <td>NaN</td>\n",
       "      <td>NaN</td>\n",
       "      <td>NaN</td>\n",
       "    </tr>\n",
       "    <tr>\n",
       "      <th>top</th>\n",
       "      <td>NaN</td>\n",
       "      <td>France</td>\n",
       "      <td>Male</td>\n",
       "      <td>NaN</td>\n",
       "      <td>NaN</td>\n",
       "      <td>NaN</td>\n",
       "      <td>NaN</td>\n",
       "      <td>NaN</td>\n",
       "      <td>NaN</td>\n",
       "      <td>NaN</td>\n",
       "      <td>NaN</td>\n",
       "    </tr>\n",
       "    <tr>\n",
       "      <th>freq</th>\n",
       "      <td>NaN</td>\n",
       "      <td>5014</td>\n",
       "      <td>5457</td>\n",
       "      <td>NaN</td>\n",
       "      <td>NaN</td>\n",
       "      <td>NaN</td>\n",
       "      <td>NaN</td>\n",
       "      <td>NaN</td>\n",
       "      <td>NaN</td>\n",
       "      <td>NaN</td>\n",
       "      <td>NaN</td>\n",
       "    </tr>\n",
       "    <tr>\n",
       "      <th>mean</th>\n",
       "      <td>650.53</td>\n",
       "      <td>NaN</td>\n",
       "      <td>NaN</td>\n",
       "      <td>38.92</td>\n",
       "      <td>4.99</td>\n",
       "      <td>76485.89</td>\n",
       "      <td>1.53</td>\n",
       "      <td>0.71</td>\n",
       "      <td>0.52</td>\n",
       "      <td>100090.24</td>\n",
       "      <td>0.20</td>\n",
       "    </tr>\n",
       "    <tr>\n",
       "      <th>std</th>\n",
       "      <td>96.65</td>\n",
       "      <td>NaN</td>\n",
       "      <td>NaN</td>\n",
       "      <td>10.49</td>\n",
       "      <td>2.92</td>\n",
       "      <td>62397.41</td>\n",
       "      <td>0.58</td>\n",
       "      <td>0.46</td>\n",
       "      <td>0.50</td>\n",
       "      <td>57510.49</td>\n",
       "      <td>0.40</td>\n",
       "    </tr>\n",
       "    <tr>\n",
       "      <th>min</th>\n",
       "      <td>350.00</td>\n",
       "      <td>NaN</td>\n",
       "      <td>NaN</td>\n",
       "      <td>18.00</td>\n",
       "      <td>0.00</td>\n",
       "      <td>0.00</td>\n",
       "      <td>1.00</td>\n",
       "      <td>0.00</td>\n",
       "      <td>0.00</td>\n",
       "      <td>11.58</td>\n",
       "      <td>0.00</td>\n",
       "    </tr>\n",
       "    <tr>\n",
       "      <th>25%</th>\n",
       "      <td>584.00</td>\n",
       "      <td>NaN</td>\n",
       "      <td>NaN</td>\n",
       "      <td>32.00</td>\n",
       "      <td>2.00</td>\n",
       "      <td>0.00</td>\n",
       "      <td>1.00</td>\n",
       "      <td>0.00</td>\n",
       "      <td>0.00</td>\n",
       "      <td>51002.11</td>\n",
       "      <td>0.00</td>\n",
       "    </tr>\n",
       "    <tr>\n",
       "      <th>50%</th>\n",
       "      <td>652.00</td>\n",
       "      <td>NaN</td>\n",
       "      <td>NaN</td>\n",
       "      <td>37.00</td>\n",
       "      <td>5.00</td>\n",
       "      <td>97198.54</td>\n",
       "      <td>1.00</td>\n",
       "      <td>1.00</td>\n",
       "      <td>1.00</td>\n",
       "      <td>100193.91</td>\n",
       "      <td>0.00</td>\n",
       "    </tr>\n",
       "    <tr>\n",
       "      <th>75%</th>\n",
       "      <td>718.00</td>\n",
       "      <td>NaN</td>\n",
       "      <td>NaN</td>\n",
       "      <td>44.00</td>\n",
       "      <td>7.00</td>\n",
       "      <td>127644.24</td>\n",
       "      <td>2.00</td>\n",
       "      <td>1.00</td>\n",
       "      <td>1.00</td>\n",
       "      <td>149388.25</td>\n",
       "      <td>0.00</td>\n",
       "    </tr>\n",
       "    <tr>\n",
       "      <th>max</th>\n",
       "      <td>850.00</td>\n",
       "      <td>NaN</td>\n",
       "      <td>NaN</td>\n",
       "      <td>92.00</td>\n",
       "      <td>10.00</td>\n",
       "      <td>250898.09</td>\n",
       "      <td>4.00</td>\n",
       "      <td>1.00</td>\n",
       "      <td>1.00</td>\n",
       "      <td>199992.48</td>\n",
       "      <td>1.00</td>\n",
       "    </tr>\n",
       "  </tbody>\n",
       "</table>\n",
       "</div>"
      ],
      "text/plain": [
       "        credit_score geography gender      age   tenure   balance  \\\n",
       "count       10000.00     10000  10000 10000.00 10000.00  10000.00   \n",
       "unique           NaN         3      2      NaN      NaN       NaN   \n",
       "top              NaN    France   Male      NaN      NaN       NaN   \n",
       "freq             NaN      5014   5457      NaN      NaN       NaN   \n",
       "mean          650.53       NaN    NaN    38.92     4.99  76485.89   \n",
       "std            96.65       NaN    NaN    10.49     2.92  62397.41   \n",
       "min           350.00       NaN    NaN    18.00     0.00      0.00   \n",
       "25%           584.00       NaN    NaN    32.00     2.00      0.00   \n",
       "50%           652.00       NaN    NaN    37.00     5.00  97198.54   \n",
       "75%           718.00       NaN    NaN    44.00     7.00 127644.24   \n",
       "max           850.00       NaN    NaN    92.00    10.00 250898.09   \n",
       "\n",
       "        num_of_products  has_cr_card  is_active_member  estimated_salary  \\\n",
       "count          10000.00     10000.00          10000.00          10000.00   \n",
       "unique              NaN          NaN               NaN               NaN   \n",
       "top                 NaN          NaN               NaN               NaN   \n",
       "freq                NaN          NaN               NaN               NaN   \n",
       "mean               1.53         0.71              0.52         100090.24   \n",
       "std                0.58         0.46              0.50          57510.49   \n",
       "min                1.00         0.00              0.00             11.58   \n",
       "25%                1.00         0.00              0.00          51002.11   \n",
       "50%                1.00         1.00              1.00         100193.91   \n",
       "75%                2.00         1.00              1.00         149388.25   \n",
       "max                4.00         1.00              1.00         199992.48   \n",
       "\n",
       "         exited  \n",
       "count  10000.00  \n",
       "unique      NaN  \n",
       "top         NaN  \n",
       "freq        NaN  \n",
       "mean       0.20  \n",
       "std        0.40  \n",
       "min        0.00  \n",
       "25%        0.00  \n",
       "50%        0.00  \n",
       "75%        0.00  \n",
       "max        1.00  "
      ]
     },
     "metadata": {},
     "output_type": "display_data"
    },
    {
     "data": {
      "image/png": "[encoded data removed]",
      "text/plain": [
       "<Figure size 1080x720 with 9 Axes>"
      ]
     },
     "metadata": {
      "needs_background": "light"
     },
     "output_type": "display_data"
    }
   ],
   "source": [
    "print('Статистическая информация:')\n",
    "display(data.describe(include='all'))\n",
    "data.hist(figsize=(15, 10), bins=50)\n",
    "plt.show()"
   ]
  },
  {
   "cell_type": "markdown",
   "metadata": {},
   "source": [
    "### 1.1. <a id='toc1_1_'></a>[Вывод по разделу 1](#toc0_)\n",
    "\n",
    "Данные успешно загружены. Выполнена небольшая предобработка данных с целью подготовки к дальнейшему исследованию. Размер выборки в 9 тысяч строк достаточен для проведения исследования. Пропуски в данных удалены. Дубликатов нет. Типы данных соответствуют содержимому. Названия столбцов унифицированы. Аномальных значений не наблюдается.\n",
    "\n",
    "На гистограмме `credit_score` (кредитный рейтинг) можно отметить всплеск на уровне максимального значения кредитного рейтинга (850). Вероятно, это следствие действия внутренней политики банка по присвоению высшего кредитного рейтинга, что является достоверным и приемлемым для исследования.  \n",
    "На гистограмме `balance` (баланс на счёте) есть сильный выброс на нулевом значении. Это фактические данные банка, у клиентов действительно отсутствуют деньги на открытых счетах. Принимаем эти данные для исследования как есть.  \n",
    "На гистограмме целевого признака `exited` (факт ухода клиента) видим, что существует дисбаланс классов. Положительных исходов примерно в 3,5 раза меньше, чем отрицательных."
   ]
  },
  {
   "cell_type": "markdown",
   "metadata": {},
   "source": [
    "## 2. <a id='toc2_'></a>[Исследование задачи](#toc0_)"
   ]
  },
  {
   "cell_type": "markdown",
   "metadata": {},
   "source": [
    "### 2.1. <a id='toc2_1_'></a>[Исследование баланса классов](#toc0_)\n",
    "\n",
    "Целевой признак - факт ухода клиента находится в столбце `exited`. Исследуем его."
   ]
  },
  {
   "cell_type": "code",
   "execution_count": null,
   "metadata": {
    "id": "VSlVe_P3rzOq",
    "outputId": "cbffe156-9a4b-4dbe-f44b-aad26f29676b"
   },
   "outputs": [
    {
     "data": {
      "text/html": [
       "<div>\n",
       "<style scoped>\n",
       "    .dataframe tbody tr th:only-of-type {\n",
       "        vertical-align: middle;\n",
       "    }\n",
       "\n",
       "    .dataframe tbody tr th {\n",
       "        vertical-align: top;\n",
       "    }\n",
       "\n",
       "    .dataframe thead th {\n",
       "        text-align: right;\n",
       "    }\n",
       "</style>\n",
       "<table border=\"1\" class=\"dataframe\">\n",
       "  <thead>\n",
       "    <tr style=\"text-align: right;\">\n",
       "      <th></th>\n",
       "      <th>%</th>\n",
       "      <th>описание</th>\n",
       "    </tr>\n",
       "    <tr>\n",
       "      <th>класс</th>\n",
       "      <th></th>\n",
       "      <th></th>\n",
       "    </tr>\n",
       "  </thead>\n",
       "  <tbody>\n",
       "    <tr>\n",
       "      <th>0</th>\n",
       "      <td>79.63</td>\n",
       "      <td>клиент остался</td>\n",
       "    </tr>\n",
       "    <tr>\n",
       "      <th>1</th>\n",
       "      <td>20.37</td>\n",
       "      <td>клиент ушел</td>\n",
       "    </tr>\n",
       "  </tbody>\n",
       "</table>\n",
       "</div>"
      ],
      "text/plain": [
       "          %        описание\n",
       "класс                      \n",
       "0     79.63  клиент остался\n",
       "1     20.37     клиент ушел"
      ]
     },
     "metadata": {},
     "output_type": "display_data"
    },
    {
     "data": {
      "image/png": "[encoded data removed]",
      "text/plain": [
       "<Figure size 1152x360 with 1 Axes>"
      ]
     },
     "metadata": {
      "needs_background": "light"
     },
     "output_type": "display_data"
    }
   ],
   "source": [
    "class_frequency = data['exited'].value_counts(normalize=True)\n",
    "display(pd.concat([class_frequency.rename('%') * 100, pd.Series(['клиент остался', 'клиент ушел'], name='описание')], axis=1)\n",
    "      .rename_axis(index='класс'))\n",
    "class_frequency.plot(kind='bar', figsize=(16, 5))\n",
    "plt.title('Частоты классов целевого признака')\n",
    "plt.xlabel('Класс')\n",
    "plt.ylabel('Частота')\n",
    "plt.xticks(rotation=0)\n",
    "plt.show()"
   ]
  },
  {
   "cell_type": "markdown",
   "metadata": {
    "id": "SNXMlP2MrzOq"
   },
   "source": [
    "Видим, что баланса классов целевого признака нет. Соотношение классов 4:1 в пользу класса 0 (клиент остался)."
   ]
  },
  {
   "cell_type": "markdown",
   "metadata": {},
   "source": [
    "### 2.2. <a id='toc2_2_'></a>[Формирование выборок](#toc0_)\n",
    "\n",
    "Разделим данные на обучающую, валидационную и тестовую выборки в соотношении 60%, 20% и 20% соответственно.  \n",
    "Целевая переменная - факт ухода клиента (`exited`)."
   ]
  },
  {
   "cell_type": "code",
   "execution_count": null,
   "metadata": {
    "id": "ggltGxD5rzOr",
    "outputId": "504aa818-99f0-463d-ba6a-3dc9d7a74c3e"
   },
   "outputs": [
    {
     "name": "stdout",
     "output_type": "stream",
     "text": [
      "\n",
      "Обучающая выборка: \n",
      "    - параметры (строки, столбцы): (6000, 10)\n",
      "    - целевая переменная (строки): (6000,)\n",
      "        -- количество значений в классах: [4778 1222]\n",
      "        -- соотношение классов: 3.909983633387889\n",
      "\n",
      "Валидационная выборка: \n",
      "    - параметры (строки, столбцы): (2000, 10)\n",
      "    - целевая переменная (строки): (2000,)\n",
      "        -- количество значений в классах: [1592  408]\n",
      "        -- соотношение классов: 3.9019607843137254\n",
      "\n",
      "Тестовая выборка: \n",
      "    - параметры (строки, столбцы): (2000, 10)\n",
      "    - целевая переменная (строки): (2000,)\n",
      "        -- количество значений в классах: [1593  407]\n",
      "        -- соотношение классов: 3.914004914004914\n"
     ]
    }
   ],
   "source": [
    "# разделим исходные данные на параметры (features) и целевую переменную (target)\n",
    "features = data.drop(['exited'], axis=1)\n",
    "target = data['exited']\n",
    "\n",
    "# разделим исходные данные на обучающую, валидационную и тестовую выборки\n",
    "features_train, features_valid_test, target_train, target_valid_test = train_test_split(\n",
    "    features, target, test_size=.4, random_state=RST, stratify=target)\n",
    "features_valid, features_test, target_valid, target_test = train_test_split(\n",
    "    features_valid_test, target_valid_test, test_size=.5, random_state=RST, stratify=target_valid_test)\n",
    "\n",
    "# проверим количество строк в сформированных выборках и распределение значений целевой переменной\n",
    "print(f'''\n",
    "Обучающая выборка: \n",
    "    - параметры (строки, столбцы): {features_train.shape}\n",
    "    - целевая переменная (строки): {target_train.shape}\n",
    "        -- количество значений в классах: {np.bincount(target_train)}\n",
    "        -- соотношение классов: {np.bincount(target_train)[0] / np.bincount(target_train)[1]}''')\n",
    "print(f'''\n",
    "Валидационная выборка: \n",
    "    - параметры (строки, столбцы): {features_valid.shape}\n",
    "    - целевая переменная (строки): {target_valid.shape}\n",
    "        -- количество значений в классах: {np.bincount(target_valid)}\n",
    "        -- соотношение классов: {np.bincount(target_valid)[0] / np.bincount(target_valid)[1]}''')\n",
    "print(f'''\n",
    "Тестовая выборка: \n",
    "    - параметры (строки, столбцы): {features_test.shape}\n",
    "    - целевая переменная (строки): {target_test.shape}\n",
    "        -- количество значений в классах: {np.bincount(target_test)}\n",
    "        -- соотношение классов: {np.bincount(target_test)[0] / np.bincount(target_test)[1]}''')\n",
    "\n",
    "# сделаем копию выборок для работы на этапе балансировки классов\n",
    "features_train_balans = features_train.copy()\n",
    "target_train_balans = target_train.copy()\n",
    "features_valid_balans = features_valid.copy()\n",
    "target_valid_balans = target_valid.copy()\n",
    "features_test_balans = features_test.copy()\n",
    "target_test_balans = target_test.copy()"
   ]
  },
  {
   "cell_type": "markdown",
   "metadata": {},
   "source": [
    "### 2.3. <a id='toc2_3_'></a>[Подготовка признаков](#toc0_)"
   ]
  },
  {
   "cell_type": "code",
   "execution_count": null,
   "metadata": {
    "id": "ZlvHAuAfrzOr",
    "outputId": "e6f0b540-7b8b-47ec-eee9-80d7ec4fb50d"
   },
   "outputs": [
    {
     "name": "stdout",
     "output_type": "stream",
     "text": [
      "<class 'pandas.core.frame.DataFrame'>\n",
      "Int64Index: 6000 entries, 2837 to 700\n",
      "Data columns (total 10 columns):\n",
      " #   Column            Non-Null Count  Dtype  \n",
      "---  ------            --------------  -----  \n",
      " 0   credit_score      6000 non-null   int64  \n",
      " 1   geography         6000 non-null   object \n",
      " 2   gender            6000 non-null   object \n",
      " 3   age               6000 non-null   int64  \n",
      " 4   tenure            6000 non-null   int64  \n",
      " 5   balance           6000 non-null   float64\n",
      " 6   num_of_products   6000 non-null   int64  \n",
      " 7   has_cr_card       6000 non-null   int64  \n",
      " 8   is_active_member  6000 non-null   int64  \n",
      " 9   estimated_salary  6000 non-null   float64\n",
      "dtypes: float64(2), int64(6), object(2)\n",
      "memory usage: 515.6+ KB\n"
     ]
    }
   ],
   "source": [
    "features_train.info()"
   ]
  },
  {
   "cell_type": "markdown",
   "metadata": {
    "id": "TcLUWVmErzOs"
   },
   "source": [
    "В выборках есть признаки двух типов:\n",
    "1. Категориальные:\n",
    "- `geography` (страна проживания);\n",
    "- `gender` (пол);  \n",
    "следующие признаки, не смотря на тип, также являются категориальными бинарными:  \n",
    "- `has_cr_card` (наличие кредитной карты);\n",
    "- `is_active_member` (активность клиента).  \n",
    "Для категориальных признаков будем использовать технику прямого кодирования `One-Hot Encoding`. \n",
    "    \n",
    "2. Численные:\n",
    "- `credit_score` (кредитный рейтинг);\n",
    "- `age` (возраст);\n",
    "- `tenure` (сколько лет человек является клиентом банка);\n",
    "- `balance` (баланс на счёте);\n",
    "- `num_of_products` (количество продуктов банка, используемых клиентом);\n",
    "- `estimated_salary` (предполагаемая зарплата).  \n",
    "Для численных признаков будем использовать стандартизацию данных `StandardScale`."
   ]
  },
  {
   "cell_type": "code",
   "execution_count": null,
   "metadata": {
    "id": "y19c5TNrrzOs",
    "outputId": "a54946ca-a03a-416d-924f-ba9a29355f80"
   },
   "outputs": [
    {
     "name": "stdout",
     "output_type": "stream",
     "text": [
      "\n",
      "Список категориальных признаков:\n",
      "['geography', 'gender']\n",
      "\n",
      "Список численных признаков:\n",
      "['credit_score', 'age', 'tenure', 'balance', 'num_of_products', 'estimated_salary']\n"
     ]
    }
   ],
   "source": [
    "# сформируем список категориальных признаков\n",
    "# признаки 'has_cr_card' и 'is_active_member' уже имеют нужный формат и не требуют обработки\n",
    "list_category = features_train.select_dtypes(include='object').columns.to_list()\n",
    "#list_category.extend(['has_cr_card', 'is_active_member'])\n",
    "print(f'''\n",
    "Список категориальных признаков:\n",
    "{list_category}''')\n",
    "\n",
    "# сформируем список численных признаков\n",
    "list_numeral = features_train.select_dtypes(exclude='object').columns.to_list()\n",
    "list_numeral.remove('has_cr_card')\n",
    "list_numeral.remove('is_active_member')\n",
    "print(f'''\n",
    "Список численных признаков:\n",
    "{list_numeral}''')"
   ]
  },
  {
   "cell_type": "markdown",
   "metadata": {
    "id": "7yF0M86yrzOt"
   },
   "source": [
    "Подготовим признаки в обучающей выборке."
   ]
  },
  {
   "cell_type": "code",
   "execution_count": null,
   "metadata": {
    "id": "sJIod2GfrzOt",
    "outputId": "0293feb0-30eb-41b3-ff91-6a48f14143f3"
   },
   "outputs": [
    {
     "data": {
      "text/html": [
       "<div>\n",
       "<style scoped>\n",
       "    .dataframe tbody tr th:only-of-type {\n",
       "        vertical-align: middle;\n",
       "    }\n",
       "\n",
       "    .dataframe tbody tr th {\n",
       "        vertical-align: top;\n",
       "    }\n",
       "\n",
       "    .dataframe thead th {\n",
       "        text-align: right;\n",
       "    }\n",
       "</style>\n",
       "<table border=\"1\" class=\"dataframe\">\n",
       "  <thead>\n",
       "    <tr style=\"text-align: right;\">\n",
       "      <th></th>\n",
       "      <th>credit_score</th>\n",
       "      <th>age</th>\n",
       "      <th>tenure</th>\n",
       "      <th>balance</th>\n",
       "      <th>num_of_products</th>\n",
       "      <th>has_cr_card</th>\n",
       "      <th>is_active_member</th>\n",
       "      <th>estimated_salary</th>\n",
       "      <th>x0_Germany</th>\n",
       "      <th>x0_Spain</th>\n",
       "      <th>x1_Male</th>\n",
       "    </tr>\n",
       "  </thead>\n",
       "  <tbody>\n",
       "    <tr>\n",
       "      <th>2837</th>\n",
       "      <td>-1.04</td>\n",
       "      <td>0.95</td>\n",
       "      <td>0.34</td>\n",
       "      <td>0.77</td>\n",
       "      <td>-0.91</td>\n",
       "      <td>0</td>\n",
       "      <td>1</td>\n",
       "      <td>-0.12</td>\n",
       "      <td>1.00</td>\n",
       "      <td>0.00</td>\n",
       "      <td>0.00</td>\n",
       "    </tr>\n",
       "    <tr>\n",
       "      <th>9925</th>\n",
       "      <td>0.45</td>\n",
       "      <td>-0.10</td>\n",
       "      <td>-1.72</td>\n",
       "      <td>1.91</td>\n",
       "      <td>-0.91</td>\n",
       "      <td>1</td>\n",
       "      <td>1</td>\n",
       "      <td>-0.26</td>\n",
       "      <td>0.00</td>\n",
       "      <td>0.00</td>\n",
       "      <td>0.00</td>\n",
       "    </tr>\n",
       "    <tr>\n",
       "      <th>8746</th>\n",
       "      <td>0.10</td>\n",
       "      <td>-0.48</td>\n",
       "      <td>1.03</td>\n",
       "      <td>0.48</td>\n",
       "      <td>0.82</td>\n",
       "      <td>0</td>\n",
       "      <td>1</td>\n",
       "      <td>1.42</td>\n",
       "      <td>0.00</td>\n",
       "      <td>0.00</td>\n",
       "      <td>1.00</td>\n",
       "    </tr>\n",
       "    <tr>\n",
       "      <th>660</th>\n",
       "      <td>-0.18</td>\n",
       "      <td>0.19</td>\n",
       "      <td>-1.72</td>\n",
       "      <td>0.09</td>\n",
       "      <td>-0.91</td>\n",
       "      <td>1</td>\n",
       "      <td>1</td>\n",
       "      <td>-1.16</td>\n",
       "      <td>1.00</td>\n",
       "      <td>0.00</td>\n",
       "      <td>0.00</td>\n",
       "    </tr>\n",
       "    <tr>\n",
       "      <th>3610</th>\n",
       "      <td>-0.72</td>\n",
       "      <td>1.62</td>\n",
       "      <td>-1.37</td>\n",
       "      <td>0.88</td>\n",
       "      <td>-0.91</td>\n",
       "      <td>1</td>\n",
       "      <td>0</td>\n",
       "      <td>0.11</td>\n",
       "      <td>0.00</td>\n",
       "      <td>0.00</td>\n",
       "      <td>0.00</td>\n",
       "    </tr>\n",
       "  </tbody>\n",
       "</table>\n",
       "</div>"
      ],
      "text/plain": [
       "      credit_score   age  tenure  balance  num_of_products  has_cr_card  \\\n",
       "2837         -1.04  0.95    0.34     0.77            -0.91            0   \n",
       "9925          0.45 -0.10   -1.72     1.91            -0.91            1   \n",
       "8746          0.10 -0.48    1.03     0.48             0.82            0   \n",
       "660          -0.18  0.19   -1.72     0.09            -0.91            1   \n",
       "3610         -0.72  1.62   -1.37     0.88            -0.91            1   \n",
       "\n",
       "      is_active_member  estimated_salary  x0_Germany  x0_Spain  x1_Male  \n",
       "2837                 1             -0.12        1.00      0.00     0.00  \n",
       "9925                 1             -0.26        0.00      0.00     0.00  \n",
       "8746                 1              1.42        0.00      0.00     1.00  \n",
       "660                  1             -1.16        1.00      0.00     0.00  \n",
       "3610                 0              0.11        0.00      0.00     0.00  "
      ]
     },
     "metadata": {},
     "output_type": "display_data"
    }
   ],
   "source": [
    "# отключение предупреждения 'SettingWithCopy'\n",
    "pd.options.mode.chained_assignment = None\n",
    "\n",
    "# кодирование категориальных признаков\n",
    "encoder = OneHotEncoder(drop='first', sparse=False)\n",
    "features_train[encoder.get_feature_names()] = encoder.fit_transform(features_train[list_category])\n",
    "features_train = features_train.drop(list_category, axis=1)\n",
    "\n",
    "# кодирование численных признаков\n",
    "scaler = StandardScaler()\n",
    "features_train[list_numeral] = scaler.fit_transform(features_train[list_numeral])\n",
    "\n",
    "# вывод результата\n",
    "display(features_train.head())"
   ]
  },
  {
   "cell_type": "markdown",
   "metadata": {
    "id": "MeNsXJuArzOt"
   },
   "source": [
    "Подготовим признаки в валидационной выборке обученными на обучающей выборке энкодером (`OneHotEncoder()`) и скалером (`StandardScaler()`)."
   ]
  },
  {
   "cell_type": "code",
   "execution_count": null,
   "metadata": {
    "id": "UFyVfdK0rzOt",
    "outputId": "d2d13fa0-de57-44e2-ffa4-51c8683bb9cf"
   },
   "outputs": [
    {
     "data": {
      "text/html": [
       "<div>\n",
       "<style scoped>\n",
       "    .dataframe tbody tr th:only-of-type {\n",
       "        vertical-align: middle;\n",
       "    }\n",
       "\n",
       "    .dataframe tbody tr th {\n",
       "        vertical-align: top;\n",
       "    }\n",
       "\n",
       "    .dataframe thead th {\n",
       "        text-align: right;\n",
       "    }\n",
       "</style>\n",
       "<table border=\"1\" class=\"dataframe\">\n",
       "  <thead>\n",
       "    <tr style=\"text-align: right;\">\n",
       "      <th></th>\n",
       "      <th>credit_score</th>\n",
       "      <th>age</th>\n",
       "      <th>tenure</th>\n",
       "      <th>balance</th>\n",
       "      <th>num_of_products</th>\n",
       "      <th>has_cr_card</th>\n",
       "      <th>is_active_member</th>\n",
       "      <th>estimated_salary</th>\n",
       "      <th>x0_Germany</th>\n",
       "      <th>x0_Spain</th>\n",
       "      <th>x1_Male</th>\n",
       "    </tr>\n",
       "  </thead>\n",
       "  <tbody>\n",
       "    <tr>\n",
       "      <th>6612</th>\n",
       "      <td>-1.52</td>\n",
       "      <td>2.38</td>\n",
       "      <td>-0.69</td>\n",
       "      <td>1.01</td>\n",
       "      <td>-0.91</td>\n",
       "      <td>0</td>\n",
       "      <td>1</td>\n",
       "      <td>0.01</td>\n",
       "      <td>0.00</td>\n",
       "      <td>0.00</td>\n",
       "      <td>0.00</td>\n",
       "    </tr>\n",
       "    <tr>\n",
       "      <th>519</th>\n",
       "      <td>0.59</td>\n",
       "      <td>1.81</td>\n",
       "      <td>0.34</td>\n",
       "      <td>0.21</td>\n",
       "      <td>-0.91</td>\n",
       "      <td>0</td>\n",
       "      <td>1</td>\n",
       "      <td>0.45</td>\n",
       "      <td>0.00</td>\n",
       "      <td>0.00</td>\n",
       "      <td>1.00</td>\n",
       "    </tr>\n",
       "    <tr>\n",
       "      <th>1609</th>\n",
       "      <td>-0.32</td>\n",
       "      <td>-0.38</td>\n",
       "      <td>1.03</td>\n",
       "      <td>0.89</td>\n",
       "      <td>-0.91</td>\n",
       "      <td>1</td>\n",
       "      <td>0</td>\n",
       "      <td>-0.60</td>\n",
       "      <td>0.00</td>\n",
       "      <td>0.00</td>\n",
       "      <td>0.00</td>\n",
       "    </tr>\n",
       "    <tr>\n",
       "      <th>3475</th>\n",
       "      <td>1.23</td>\n",
       "      <td>-0.76</td>\n",
       "      <td>-0.34</td>\n",
       "      <td>-0.24</td>\n",
       "      <td>0.82</td>\n",
       "      <td>1</td>\n",
       "      <td>1</td>\n",
       "      <td>-1.62</td>\n",
       "      <td>0.00</td>\n",
       "      <td>0.00</td>\n",
       "      <td>1.00</td>\n",
       "    </tr>\n",
       "    <tr>\n",
       "      <th>2707</th>\n",
       "      <td>-0.13</td>\n",
       "      <td>-0.10</td>\n",
       "      <td>-0.69</td>\n",
       "      <td>0.45</td>\n",
       "      <td>-0.91</td>\n",
       "      <td>0</td>\n",
       "      <td>0</td>\n",
       "      <td>0.34</td>\n",
       "      <td>0.00</td>\n",
       "      <td>0.00</td>\n",
       "      <td>0.00</td>\n",
       "    </tr>\n",
       "  </tbody>\n",
       "</table>\n",
       "</div>"
      ],
      "text/plain": [
       "      credit_score   age  tenure  balance  num_of_products  has_cr_card  \\\n",
       "6612         -1.52  2.38   -0.69     1.01            -0.91            0   \n",
       "519           0.59  1.81    0.34     0.21            -0.91            0   \n",
       "1609         -0.32 -0.38    1.03     0.89            -0.91            1   \n",
       "3475          1.23 -0.76   -0.34    -0.24             0.82            1   \n",
       "2707         -0.13 -0.10   -0.69     0.45            -0.91            0   \n",
       "\n",
       "      is_active_member  estimated_salary  x0_Germany  x0_Spain  x1_Male  \n",
       "6612                 1              0.01        0.00      0.00     0.00  \n",
       "519                  1              0.45        0.00      0.00     1.00  \n",
       "1609                 0             -0.60        0.00      0.00     0.00  \n",
       "3475                 1             -1.62        0.00      0.00     1.00  \n",
       "2707                 0              0.34        0.00      0.00     0.00  "
      ]
     },
     "metadata": {},
     "output_type": "display_data"
    }
   ],
   "source": [
    "# кодирование категориальных признаков\n",
    "features_valid[encoder.get_feature_names()] = encoder.transform(features_valid[list_category])\n",
    "features_valid = features_valid.drop(list_category, axis=1)\n",
    "\n",
    "# кодирование численных признаков\n",
    "features_valid[list_numeral] = scaler.transform(features_valid[list_numeral])\n",
    "\n",
    "# вывод результата\n",
    "display(features_valid.head())"
   ]
  },
  {
   "cell_type": "markdown",
   "metadata": {},
   "source": [
    "### 2.4. <a id='toc2_4_'></a>[Исследование моделей на несбалансированной выборке](#toc0_)\n",
    "\n",
    "Исследование проведем на трех типах моделей:\n",
    "- \"дерево решений\" (DecisionTreeClassifier);\n",
    "- \"случайный лес\" (RandomForestClassifier);\n",
    "- \"логистическая регрессия\" (LogisticRegression)\n",
    "\n",
    "путем регулирования гиперпараметров моделей:\n",
    "- глубина дерева от 1 до 10 для моделей \"дерево решений\";\n",
    "- количество деревьев от 10 до 100 с шагом 10 и глубина дерева от 1 до 10 для моделей \"случайный лес\";\n",
    "- количество итераций от 100 до 1000 с шагом 10 для моделей \"логистическая регрессия\".\n",
    "\n",
    "Критерием выбора лучшей модели будет наибольшее значение F1-меры.  \n",
    "Для лучших подобранных моделей кроме F1-меры будем вычислять значение AUC-ROC."
   ]
  },
  {
   "cell_type": "code",
   "execution_count": null,
   "metadata": {
    "id": "zXK-OFZ8rzOu",
    "outputId": "a3621fee-9a81-47b1-9e73-60cd24132490"
   },
   "outputs": [
    {
     "name": "stdout",
     "output_type": "stream",
     "text": [
      "\n",
      "    Модель \"дерево решений\".\n",
      "    Наибольшее значение F1-меры 0.5880640465793304 при глубине дерева 7.\n",
      "    Значение AUC-ROC составляет 0.8233331177948566.\n",
      "\n",
      "    Модель \"случайный лес\".\n",
      "    Наибольшее значение F1-меры 0.60882800608828 при 20 деревьях и глубине дерева 9.\n",
      "    Значение AUC-ROC составляет 0.8680103951128191.\n",
      "\n",
      "    Модель \"логистическая регрессия\".\n",
      "    Наибольшее значение F1-меры 0.30458715596330277 при количестве итераций 100.\n",
      "    Значение AUC-ROC составляет 0.7875514213222977.\n"
     ]
    }
   ],
   "source": [
    "mod_dtc_u, f1_dtc_u, ar_dtc_u = model_dtc(features_train, target_train, features_valid, target_valid)\n",
    "mod_rfc_u, f1_rfc_u, ar_rfc_u = model_rfc(features_train, target_train, features_valid, target_valid)\n",
    "mod_lr_u, f1_lr_u, ar_lr_u = model_lr(features_train, target_train, features_valid, target_valid)"
   ]
  },
  {
   "cell_type": "markdown",
   "metadata": {
    "id": "qE083kdgrzOv"
   },
   "source": [
    "В результате подбора гиперпараметров для трех типов моделей, наибольшее значение F1-меры 0.60882800608828 удалось достичь на модели \"случайный лес\" из 20 деревьев с глубиной дерева 9.  \n",
    "При этом AUC-ROC также имеет максимальне значение и составляет 0.8680103951128191."
   ]
  },
  {
   "cell_type": "markdown",
   "metadata": {},
   "source": [
    "### 2.5. <a id='toc2_5_'></a>[Вывод по разделу 2](#toc0_)\n",
    "\n",
    "- Изучение баланса классов целевого признака показало наличие дисбаланса в соотношении 1:4.\n",
    "- Из исходных данных сформированы обучающая, валидационная и тестовая выборки в соотношении 60%, 20% и 20% соответственно.\n",
    "- Во всех выборках проведена подготовка признаков:\n",
    "    - категориальных - с помощью техники прямого кодирования One-Hot Encoding;\n",
    "    - численных - с помощью стандартизации данных методом StandardScale.\n",
    "- Проведено исследование трех типов моделей: \"дерево решений\", \"случайный лес\" и \"логистическая регрессия\" путем подбора гиперпараметров. Наибольшее значение F1-меры удалось получить на модели \"случайный лес\".\n",
    "- Значение F1-меры для лучшей из моделей (\"случайный лес\") на валидационной выборке составило 0.60882800608828, значение AUC-ROC составило 0.8680103951128191."
   ]
  },
  {
   "cell_type": "markdown",
   "metadata": {},
   "source": [
    "## 3. <a id='toc3_'></a>[Улучшение качества модели с учетом дисбаланса классов](#toc0_)\n",
    "\n",
    "Для улучшения качества моделей уменьшим влияние дисбаланса классов, применяя следующие техники:\n",
    "1. Взвешивание классов.\n",
    "2. Изменение размеров - увеличение/уменьшение выборки (upsampling/downsampling)."
   ]
  },
  {
   "cell_type": "markdown",
   "metadata": {},
   "source": [
    "### 3.1. <a id='toc3_1_'></a>[Применение техники взвешивания классов](#toc0_)\n",
    "\n",
    "Используем параметр `class_weight='balanced'` для балансировки классов при создании моделей и выберем лучшие модели каждого типа, подбирая гиперпараметры и оценивая F1-меру."
   ]
  },
  {
   "cell_type": "code",
   "execution_count": null,
   "metadata": {
    "id": "AcafEehgrzOw",
    "outputId": "8ae4d1d3-9f22-4e61-ba6a-111de4ccf070"
   },
   "outputs": [
    {
     "name": "stdout",
     "output_type": "stream",
     "text": [
      "\n",
      "    Модель \"дерево решений\".\n",
      "    Наибольшее значение F1-меры 0.5764596848934197 при глубине дерева 6.\n",
      "    Значение AUC-ROC составляет 0.8253437838703321.\n",
      "\n",
      "    Модель \"случайный лес\".\n",
      "    Наибольшее значение F1-меры 0.653061224489796 при 100 деревьях и глубине дерева 9.\n",
      "    Значение AUC-ROC составляет 0.8726845009360529.\n",
      "\n",
      "    Модель \"логистическая регрессия\".\n",
      "    Наибольшее значение F1-меры 0.5280701754385966 при количестве итераций 100.\n",
      "    Значение AUC-ROC составляет 0.793772785496108.\n"
     ]
    }
   ],
   "source": [
    "mod_dtc_b1, f1_dtc_b1, ar_dtc_b1 = model_dtc(features_train, target_train, features_valid, target_valid, 'balanced')\n",
    "mod_rfc_b1, f1_rfc_b1, ar_rfc_b1 = model_rfc(features_train, target_train, features_valid, target_valid, 'balanced')\n",
    "mod_lr_b1, f1_lr_b1, ar_lr_b1 = model_lr(features_train, target_train, features_valid, target_valid, 'balanced')"
   ]
  },
  {
   "cell_type": "markdown",
   "metadata": {
    "id": "Up-YqcAhrzOx"
   },
   "source": [
    "Применение техники взвешивания классов дало прирост параметров F1-меры и AUC-ROC для всех типов моделей. Наиболее значимые улучшения получила модель \"логистическая регрессия\".\n",
    "\n",
    "Лучшие значения F1-меры и AUC-ROC показала модель \"случайный лес\":\n",
    "- F1-мера: 0.6530089628681178;\n",
    "- AUC-ROC: 0.876452256457733."
   ]
  },
  {
   "cell_type": "markdown",
   "metadata": {},
   "source": [
    "### 3.2. <a id='toc3_2_'></a>[Применение техники изменения размера выборки (upsampling)](#toc0_)\n",
    "\n",
    "Из двух техник, связанных с изменением размера выборки, выберем технику увеличения выборки (upsampling), чтобы не сокращать объем имеющихся данных.\n",
    "\n",
    "Посмотрим текущий баланс классов целевого параметра в обучающей выборке."
   ]
  },
  {
   "cell_type": "code",
   "execution_count": null,
   "metadata": {
    "id": "Cs66wSXDrzOx",
    "outputId": "6545af22-9021-4451-f4b7-9453d3a3abc7"
   },
   "outputs": [
    {
     "data": {
      "text/plain": [
       "0   0.80\n",
       "1   0.20\n",
       "Name: exited, dtype: float64"
      ]
     },
     "metadata": {},
     "output_type": "display_data"
    }
   ],
   "source": [
    "display(target_train_balans.value_counts(normalize=True))"
   ]
  },
  {
   "cell_type": "markdown",
   "metadata": {
    "id": "E3fch9kDrzOy"
   },
   "source": [
    "Соотношение 4:1 в пользу отрицательных объектов. Применим upsampling к обучающей выборке, увеличивая количество положительных объектов в 4 раза."
   ]
  },
  {
   "cell_type": "code",
   "execution_count": null,
   "metadata": {
    "id": "pdy2xur7rzOy",
    "outputId": "16212ed5-5093-4893-b45d-b4e1738d8904"
   },
   "outputs": [
    {
     "name": "stdout",
     "output_type": "stream",
     "text": [
      "\n",
      "До применения upsampling:\n",
      "    - параметры: (6000, 10)\n",
      "    - целевой признак: (6000,)\n",
      "    - баланс классов: \n",
      "0   0.80\n",
      "1   0.20\n",
      "Name: exited, dtype: float64\n",
      "      \n",
      "После применения upsampling:\n",
      "    - параметры: (9666, 10)\n",
      "    - целевой признак: (9666,)\n",
      "    - баланс классов:\n",
      "0   0.49\n",
      "1   0.51\n",
      "Name: exited, dtype: float64\n"
     ]
    }
   ],
   "source": [
    "# делим обучающие выборки на отрицательные и положительные объекты\n",
    "features_zeros = features_train_balans[target_train_balans == 0]\n",
    "features_ones = features_train_balans[target_train_balans == 1]\n",
    "target_zeros = target_train_balans[target_train_balans == 0]\n",
    "target_ones = target_train_balans[target_train_balans == 1]\n",
    "\n",
    "# увеличиваем количество положительных объектов в 4 раза путем копирования\n",
    "features_train_upsampled = pd.concat([features_zeros] + [features_ones] * 4)\n",
    "target_train_upsampled = pd.concat([target_zeros] + [target_ones] * 4)\n",
    "\n",
    "# перемешиваем\n",
    "features_train_upsampled, target_train_upsampled = shuffle(features_train_upsampled, target_train_upsampled, random_state=RST)\n",
    "\n",
    "# вывод результатов\n",
    "print(f'''\n",
    "До применения upsampling:\n",
    "    - параметры: {features_train_balans.shape}\n",
    "    - целевой признак: {target_train_balans.shape}\n",
    "    - баланс классов: \n",
    "{target_train_balans.value_counts(normalize=True, sort=False)}\n",
    "      \n",
    "После применения upsampling:\n",
    "    - параметры: {features_train_upsampled.shape}\n",
    "    - целевой признак: {target_train_upsampled.shape}\n",
    "    - баланс классов:\n",
    "{target_train_upsampled.value_counts(normalize=True, sort=False)}''')"
   ]
  },
  {
   "cell_type": "markdown",
   "metadata": {
    "id": "TnNW6Z8lrzOy"
   },
   "source": [
    "Выполним предобработку категориальных и численных признаков сбалансированной обучающей выборки."
   ]
  },
  {
   "cell_type": "code",
   "execution_count": null,
   "metadata": {
    "id": "QVKHF7gcrzOy",
    "outputId": "3f16c333-006d-484b-fcd2-eb21614ea11c"
   },
   "outputs": [
    {
     "data": {
      "text/html": [
       "<div>\n",
       "<style scoped>\n",
       "    .dataframe tbody tr th:only-of-type {\n",
       "        vertical-align: middle;\n",
       "    }\n",
       "\n",
       "    .dataframe tbody tr th {\n",
       "        vertical-align: top;\n",
       "    }\n",
       "\n",
       "    .dataframe thead th {\n",
       "        text-align: right;\n",
       "    }\n",
       "</style>\n",
       "<table border=\"1\" class=\"dataframe\">\n",
       "  <thead>\n",
       "    <tr style=\"text-align: right;\">\n",
       "      <th></th>\n",
       "      <th>credit_score</th>\n",
       "      <th>age</th>\n",
       "      <th>tenure</th>\n",
       "      <th>balance</th>\n",
       "      <th>num_of_products</th>\n",
       "      <th>has_cr_card</th>\n",
       "      <th>is_active_member</th>\n",
       "      <th>estimated_salary</th>\n",
       "      <th>x0_Germany</th>\n",
       "      <th>x0_Spain</th>\n",
       "      <th>x1_Male</th>\n",
       "    </tr>\n",
       "  </thead>\n",
       "  <tbody>\n",
       "    <tr>\n",
       "      <th>6785</th>\n",
       "      <td>-0.28</td>\n",
       "      <td>-0.02</td>\n",
       "      <td>0.01</td>\n",
       "      <td>0.37</td>\n",
       "      <td>-0.76</td>\n",
       "      <td>1</td>\n",
       "      <td>1</td>\n",
       "      <td>-0.09</td>\n",
       "      <td>0.00</td>\n",
       "      <td>1.00</td>\n",
       "      <td>1.00</td>\n",
       "    </tr>\n",
       "    <tr>\n",
       "      <th>8042</th>\n",
       "      <td>-0.43</td>\n",
       "      <td>-0.40</td>\n",
       "      <td>0.35</td>\n",
       "      <td>0.00</td>\n",
       "      <td>-0.76</td>\n",
       "      <td>0</td>\n",
       "      <td>0</td>\n",
       "      <td>1.24</td>\n",
       "      <td>0.00</td>\n",
       "      <td>0.00</td>\n",
       "      <td>1.00</td>\n",
       "    </tr>\n",
       "    <tr>\n",
       "      <th>2962</th>\n",
       "      <td>-1.00</td>\n",
       "      <td>-0.30</td>\n",
       "      <td>1.38</td>\n",
       "      <td>0.95</td>\n",
       "      <td>2.27</td>\n",
       "      <td>1</td>\n",
       "      <td>1</td>\n",
       "      <td>1.23</td>\n",
       "      <td>0.00</td>\n",
       "      <td>0.00</td>\n",
       "      <td>1.00</td>\n",
       "    </tr>\n",
       "    <tr>\n",
       "      <th>2492</th>\n",
       "      <td>-1.31</td>\n",
       "      <td>-0.96</td>\n",
       "      <td>-0.68</td>\n",
       "      <td>0.44</td>\n",
       "      <td>-0.76</td>\n",
       "      <td>1</td>\n",
       "      <td>1</td>\n",
       "      <td>1.44</td>\n",
       "      <td>1.00</td>\n",
       "      <td>0.00</td>\n",
       "      <td>0.00</td>\n",
       "    </tr>\n",
       "    <tr>\n",
       "      <th>2414</th>\n",
       "      <td>-0.94</td>\n",
       "      <td>1.01</td>\n",
       "      <td>1.38</td>\n",
       "      <td>-1.34</td>\n",
       "      <td>-0.76</td>\n",
       "      <td>1</td>\n",
       "      <td>0</td>\n",
       "      <td>1.29</td>\n",
       "      <td>0.00</td>\n",
       "      <td>0.00</td>\n",
       "      <td>0.00</td>\n",
       "    </tr>\n",
       "  </tbody>\n",
       "</table>\n",
       "</div>"
      ],
      "text/plain": [
       "      credit_score   age  tenure  balance  num_of_products  has_cr_card  \\\n",
       "6785         -0.28 -0.02    0.01     0.37            -0.76            1   \n",
       "8042         -0.43 -0.40    0.35     0.00            -0.76            0   \n",
       "2962         -1.00 -0.30    1.38     0.95             2.27            1   \n",
       "2492         -1.31 -0.96   -0.68     0.44            -0.76            1   \n",
       "2414         -0.94  1.01    1.38    -1.34            -0.76            1   \n",
       "\n",
       "      is_active_member  estimated_salary  x0_Germany  x0_Spain  x1_Male  \n",
       "6785                 1             -0.09        0.00      1.00     1.00  \n",
       "8042                 0              1.24        0.00      0.00     1.00  \n",
       "2962                 1              1.23        0.00      0.00     1.00  \n",
       "2492                 1              1.44        1.00      0.00     0.00  \n",
       "2414                 0              1.29        0.00      0.00     0.00  "
      ]
     },
     "metadata": {},
     "output_type": "display_data"
    }
   ],
   "source": [
    "# кодирование категориальных признаков обучающей выборки\n",
    "encoder_balans = OneHotEncoder(drop='first', sparse=False)\n",
    "features_train_upsampled[encoder_balans.get_feature_names()] = encoder_balans.fit_transform(\n",
    "    features_train_upsampled[list_category])\n",
    "features_train_upsampled = features_train_upsampled.drop(list_category, axis=1)\n",
    "\n",
    "# кодирование численных признаков обучающей выборки\n",
    "scaler_balans = StandardScaler()\n",
    "features_train_upsampled[list_numeral] = scaler_balans.fit_transform(features_train_upsampled[list_numeral])\n",
    "\n",
    "# вывод результата\n",
    "display(features_train_upsampled.head())"
   ]
  },
  {
   "cell_type": "markdown",
   "metadata": {
    "id": "uwn_YilHrzOz"
   },
   "source": [
    "Выполним предобработку категориальных и численных признаков валидационной выборки обученными на сбалансированной обучающей выборке энкодером (`OneHotEncoder()`) и скалером (`StandardScaler()`)."
   ]
  },
  {
   "cell_type": "code",
   "execution_count": null,
   "metadata": {
    "id": "ysqToKKhrzOz",
    "outputId": "8cbf2cac-78b3-4330-89dd-89f398763f5a"
   },
   "outputs": [
    {
     "data": {
      "text/html": [
       "<div>\n",
       "<style scoped>\n",
       "    .dataframe tbody tr th:only-of-type {\n",
       "        vertical-align: middle;\n",
       "    }\n",
       "\n",
       "    .dataframe tbody tr th {\n",
       "        vertical-align: top;\n",
       "    }\n",
       "\n",
       "    .dataframe thead th {\n",
       "        text-align: right;\n",
       "    }\n",
       "</style>\n",
       "<table border=\"1\" class=\"dataframe\">\n",
       "  <thead>\n",
       "    <tr style=\"text-align: right;\">\n",
       "      <th></th>\n",
       "      <th>credit_score</th>\n",
       "      <th>age</th>\n",
       "      <th>tenure</th>\n",
       "      <th>balance</th>\n",
       "      <th>num_of_products</th>\n",
       "      <th>has_cr_card</th>\n",
       "      <th>is_active_member</th>\n",
       "      <th>estimated_salary</th>\n",
       "      <th>x0_Germany</th>\n",
       "      <th>x0_Spain</th>\n",
       "      <th>x1_Male</th>\n",
       "    </tr>\n",
       "  </thead>\n",
       "  <tbody>\n",
       "    <tr>\n",
       "      <th>6612</th>\n",
       "      <td>-1.49</td>\n",
       "      <td>2.13</td>\n",
       "      <td>-0.68</td>\n",
       "      <td>0.94</td>\n",
       "      <td>-0.76</td>\n",
       "      <td>0</td>\n",
       "      <td>1</td>\n",
       "      <td>0.00</td>\n",
       "      <td>0.00</td>\n",
       "      <td>0.00</td>\n",
       "      <td>0.00</td>\n",
       "    </tr>\n",
       "    <tr>\n",
       "      <th>519</th>\n",
       "      <td>0.59</td>\n",
       "      <td>1.57</td>\n",
       "      <td>0.35</td>\n",
       "      <td>0.12</td>\n",
       "      <td>-0.76</td>\n",
       "      <td>0</td>\n",
       "      <td>1</td>\n",
       "      <td>0.44</td>\n",
       "      <td>0.00</td>\n",
       "      <td>0.00</td>\n",
       "      <td>1.00</td>\n",
       "    </tr>\n",
       "    <tr>\n",
       "      <th>1609</th>\n",
       "      <td>-0.30</td>\n",
       "      <td>-0.58</td>\n",
       "      <td>1.04</td>\n",
       "      <td>0.82</td>\n",
       "      <td>-0.76</td>\n",
       "      <td>1</td>\n",
       "      <td>0</td>\n",
       "      <td>-0.61</td>\n",
       "      <td>0.00</td>\n",
       "      <td>0.00</td>\n",
       "      <td>0.00</td>\n",
       "    </tr>\n",
       "    <tr>\n",
       "      <th>3475</th>\n",
       "      <td>1.23</td>\n",
       "      <td>-0.96</td>\n",
       "      <td>-0.33</td>\n",
       "      <td>-0.34</td>\n",
       "      <td>0.76</td>\n",
       "      <td>1</td>\n",
       "      <td>1</td>\n",
       "      <td>-1.63</td>\n",
       "      <td>0.00</td>\n",
       "      <td>0.00</td>\n",
       "      <td>1.00</td>\n",
       "    </tr>\n",
       "    <tr>\n",
       "      <th>2707</th>\n",
       "      <td>-0.12</td>\n",
       "      <td>-0.30</td>\n",
       "      <td>-0.68</td>\n",
       "      <td>0.36</td>\n",
       "      <td>-0.76</td>\n",
       "      <td>0</td>\n",
       "      <td>0</td>\n",
       "      <td>0.33</td>\n",
       "      <td>0.00</td>\n",
       "      <td>0.00</td>\n",
       "      <td>0.00</td>\n",
       "    </tr>\n",
       "  </tbody>\n",
       "</table>\n",
       "</div>"
      ],
      "text/plain": [
       "      credit_score   age  tenure  balance  num_of_products  has_cr_card  \\\n",
       "6612         -1.49  2.13   -0.68     0.94            -0.76            0   \n",
       "519           0.59  1.57    0.35     0.12            -0.76            0   \n",
       "1609         -0.30 -0.58    1.04     0.82            -0.76            1   \n",
       "3475          1.23 -0.96   -0.33    -0.34             0.76            1   \n",
       "2707         -0.12 -0.30   -0.68     0.36            -0.76            0   \n",
       "\n",
       "      is_active_member  estimated_salary  x0_Germany  x0_Spain  x1_Male  \n",
       "6612                 1              0.00        0.00      0.00     0.00  \n",
       "519                  1              0.44        0.00      0.00     1.00  \n",
       "1609                 0             -0.61        0.00      0.00     0.00  \n",
       "3475                 1             -1.63        0.00      0.00     1.00  \n",
       "2707                 0              0.33        0.00      0.00     0.00  "
      ]
     },
     "metadata": {},
     "output_type": "display_data"
    }
   ],
   "source": [
    "# кодирование категориальных признаков валидационной выборки\n",
    "features_valid_balans[encoder_balans.get_feature_names()] = encoder_balans.transform(features_valid_balans[list_category])\n",
    "features_valid_balans = features_valid_balans.drop(list_category, axis=1)\n",
    "\n",
    "# кодирование численных признаков валидационной выборки\n",
    "features_valid_balans[list_numeral] = scaler_balans.transform(features_valid_balans[list_numeral])\n",
    "\n",
    "# вывод результата\n",
    "display(features_valid_balans.head())"
   ]
  },
  {
   "cell_type": "markdown",
   "metadata": {
    "id": "-vc2yWtsrzO0"
   },
   "source": [
    "Найдем лучшие модели каждого исследуемого типа, подбирая гиперпараметры и оценивая F1-меру."
   ]
  },
  {
   "cell_type": "code",
   "execution_count": null,
   "metadata": {
    "id": "2AQgYQ3CrzO0",
    "outputId": "38338dfc-6c76-4c21-8284-476544c650cc",
    "scrolled": true
   },
   "outputs": [
    {
     "name": "stdout",
     "output_type": "stream",
     "text": [
      "\n",
      "    Модель \"дерево решений\".\n",
      "    Наибольшее значение F1-меры 0.5764596848934197 при глубине дерева 6.\n",
      "    Значение AUC-ROC составляет 0.8253591794758104.\n",
      "\n",
      "    Модель \"случайный лес\".\n",
      "    Наибольшее значение F1-меры 0.6545454545454547 при 90 деревьях и глубине дерева 9.\n",
      "    Значение AUC-ROC составляет 0.8734281086806582.\n",
      "\n",
      "    Модель \"логистическая регрессия\".\n",
      "    Наибольшее значение F1-меры 0.5246753246753246 при количестве итераций 100.\n",
      "    Значение AUC-ROC составляет 0.7938405261602128.\n"
     ]
    }
   ],
   "source": [
    "mod_dtc_b2, f1_dtc_b2, ar_dtc_b2 = model_dtc(features_train_upsampled, target_train_upsampled, \n",
    "                                             features_valid_balans, target_valid_balans)\n",
    "mod_rfc_b2, f1_rfc_b2, ar_rfc_b2 = model_rfc(features_train_upsampled, target_train_upsampled, \n",
    "                                             features_valid_balans, target_valid_balans)\n",
    "mod_lr_b2, f1_lr_b2, ar_lr_b2 = model_lr(features_train_upsampled, target_train_upsampled, \n",
    "                                         features_valid_balans, target_valid_balans)"
   ]
  },
  {
   "cell_type": "markdown",
   "metadata": {},
   "source": [
    "### 3.3. <a id='toc3_3_'></a>[Одновременное применение нескольких техник](#toc0_)\n",
    "\n",
    "Применим последовательно обе рассматриваемые техники уменьшения дисбаланса классов upsampling и взвешивание классов."
   ]
  },
  {
   "cell_type": "code",
   "execution_count": null,
   "metadata": {
    "id": "0W3sDbSZrzO1",
    "outputId": "04cc937e-9e86-48b1-a2b3-f27312ca743e"
   },
   "outputs": [
    {
     "name": "stdout",
     "output_type": "stream",
     "text": [
      "\n",
      "    Модель \"дерево решений\".\n",
      "    Наибольшее значение F1-меры 0.5764596848934197 при глубине дерева 6.\n",
      "    Значение AUC-ROC составляет 0.8253437838703321.\n",
      "\n",
      "    Модель \"случайный лес\".\n",
      "    Наибольшее значение F1-меры 0.6511111111111112 при 90 деревьях и глубине дерева 10.\n",
      "    Значение AUC-ROC составляет 0.8700410754754164.\n",
      "\n",
      "    Модель \"логистическая регрессия\".\n",
      "    Наибольшее значение F1-меры 0.5280701754385966 при количестве итераций 100.\n",
      "    Значение AUC-ROC составляет 0.7937589294511775.\n"
     ]
    }
   ],
   "source": [
    "mod_dtc_b3, f1_dtc_b3, ar_dtc_b3 = model_dtc(features_train_upsampled, target_train_upsampled, \n",
    "                                             features_valid_balans, target_valid_balans, 'balanced')\n",
    "mod_rfc_b3, f1_rfc_b3, ar_rfc_b3 = model_rfc(features_train_upsampled, target_train_upsampled, \n",
    "                                             features_valid_balans, target_valid_balans, 'balanced')\n",
    "mod_lr_b3, f1_lr_b3, ar_lr_b3 = model_lr(features_train_upsampled, target_train_upsampled, \n",
    "                                         features_valid_balans, target_valid_balans, 'balanced')"
   ]
  },
  {
   "cell_type": "markdown",
   "metadata": {},
   "source": [
    "### 3.4. <a id='toc3_4_'></a>[Вывод по разделу 3](#toc0_)\n",
    "\n",
    "Сведем результаты всех исследований в общую таблицу."
   ]
  },
  {
   "cell_type": "code",
   "execution_count": null,
   "metadata": {
    "id": "5QSVSdMprzO1",
    "outputId": "47cf3483-df09-46d7-e9f3-d5ad5d57f6d8"
   },
   "outputs": [
    {
     "data": {
      "text/html": [
       "<div>\n",
       "<style scoped>\n",
       "    .dataframe tbody tr th:only-of-type {\n",
       "        vertical-align: middle;\n",
       "    }\n",
       "\n",
       "    .dataframe tbody tr th {\n",
       "        vertical-align: top;\n",
       "    }\n",
       "\n",
       "    .dataframe thead tr th {\n",
       "        text-align: left;\n",
       "    }\n",
       "</style>\n",
       "<table border=\"1\" class=\"dataframe\">\n",
       "  <thead>\n",
       "    <tr>\n",
       "      <th></th>\n",
       "      <th></th>\n",
       "      <th colspan=\"2\" halign=\"left\">дерево решений</th>\n",
       "      <th colspan=\"2\" halign=\"left\">случайный лес</th>\n",
       "      <th colspan=\"2\" halign=\"left\">логистическая регрессия</th>\n",
       "    </tr>\n",
       "    <tr>\n",
       "      <th></th>\n",
       "      <th></th>\n",
       "      <th>F1-мера</th>\n",
       "      <th>AUC-ROC</th>\n",
       "      <th>F1-мера</th>\n",
       "      <th>AUC-ROC</th>\n",
       "      <th>F1-мера</th>\n",
       "      <th>AUC-ROC</th>\n",
       "    </tr>\n",
       "  </thead>\n",
       "  <tbody>\n",
       "    <tr>\n",
       "      <th>выборка с дисбалансом классов</th>\n",
       "      <th></th>\n",
       "      <td>0.59</td>\n",
       "      <td>0.82</td>\n",
       "      <td>0.61</td>\n",
       "      <td>0.87</td>\n",
       "      <td>0.30</td>\n",
       "      <td>0.79</td>\n",
       "    </tr>\n",
       "    <tr>\n",
       "      <th rowspan=\"3\" valign=\"top\">сбалансированные выборки:</th>\n",
       "      <th>взвешивание классов</th>\n",
       "      <td>0.58</td>\n",
       "      <td>0.83</td>\n",
       "      <td>0.65</td>\n",
       "      <td>0.87</td>\n",
       "      <td>0.53</td>\n",
       "      <td>0.79</td>\n",
       "    </tr>\n",
       "    <tr>\n",
       "      <th>upsampling</th>\n",
       "      <td>0.58</td>\n",
       "      <td>0.83</td>\n",
       "      <td>0.65</td>\n",
       "      <td>0.87</td>\n",
       "      <td>0.52</td>\n",
       "      <td>0.79</td>\n",
       "    </tr>\n",
       "    <tr>\n",
       "      <th>две техники</th>\n",
       "      <td>0.58</td>\n",
       "      <td>0.83</td>\n",
       "      <td>0.65</td>\n",
       "      <td>0.87</td>\n",
       "      <td>0.53</td>\n",
       "      <td>0.79</td>\n",
       "    </tr>\n",
       "  </tbody>\n",
       "</table>\n",
       "</div>"
      ],
      "text/plain": [
       "                                                  дерево решений          \\\n",
       "                                                         F1-мера AUC-ROC   \n",
       "выборка с дисбалансом классов                               0.59    0.82   \n",
       "сбалансированные выборки:     взвешивание классов           0.58    0.83   \n",
       "                              upsampling                    0.58    0.83   \n",
       "                              две техники                   0.58    0.83   \n",
       "\n",
       "                                                  случайный лес          \\\n",
       "                                                        F1-мера AUC-ROC   \n",
       "выборка с дисбалансом классов                              0.61    0.87   \n",
       "сбалансированные выборки:     взвешивание классов          0.65    0.87   \n",
       "                              upsampling                   0.65    0.87   \n",
       "                              две техники                  0.65    0.87   \n",
       "\n",
       "                                                  логистическая регрессия  \\\n",
       "                                                                  F1-мера   \n",
       "выборка с дисбалансом классов                                        0.30   \n",
       "сбалансированные выборки:     взвешивание классов                    0.53   \n",
       "                              upsampling                             0.52   \n",
       "                              две техники                            0.53   \n",
       "\n",
       "                                                           \n",
       "                                                  AUC-ROC  \n",
       "выборка с дисбалансом классов                        0.79  \n",
       "сбалансированные выборки:     взвешивание классов    0.79  \n",
       "                              upsampling             0.79  \n",
       "                              две техники            0.79  "
      ]
     },
     "metadata": {},
     "output_type": "display_data"
    }
   ],
   "source": [
    "models_param = pd.DataFrame(data=[\n",
    "        [f1_dtc_u, ar_dtc_u, f1_rfc_u, ar_rfc_u, f1_lr_u, ar_lr_u],\n",
    "        [f1_dtc_b1, ar_dtc_b1, f1_rfc_b1, ar_rfc_b1, f1_lr_b1, ar_lr_b1],\n",
    "        [f1_dtc_b2, ar_dtc_b2, f1_rfc_b2, ar_rfc_b2, f1_lr_b2, ar_lr_b2],\n",
    "        [f1_dtc_b3, ar_dtc_b3, f1_rfc_b3, ar_rfc_b3, f1_lr_b3, ar_lr_b3]],\n",
    "         index=[['выборка с дисбалансом классов', 'сбалансированные выборки:', 'сбалансированные выборки:',\n",
    "                 'сбалансированные выборки:'], ['','взвешивание классов','upsampling','две техники']],\n",
    "         columns=[['дерево решений', 'дерево решений', 'случайный лес','случайный лес', 'логистическая регрессия', \n",
    "                   'логистическая регрессия'],['F1-мера', 'AUC-ROC', 'F1-мера', 'AUC-ROC', 'F1-мера', 'AUC-ROC']])\n",
    "display(models_param)"
   ]
  },
  {
   "cell_type": "markdown",
   "metadata": {
    "id": "m3VUBjeLrzO2"
   },
   "source": [
    "Сравнив результаты, можно сделать следующие выводы:\n",
    "- На выборке с дисбалансом классов все модели показывают худшие значения F1-мера.\n",
    "- Параметр AUC-ROC, в отличии от F1-меры, не зависит от наличия или отсутствия дисбаланса классов. Зависит от типа модели.\n",
    "- Рассмотренные техники борьбы с дисбалансом классов равноэффективны, так как позволяют на каждой из моделей достичь своих примерно одинаковых показателей.\n",
    "- Применение последовательно двух техник балансировки классов не дает дальнейшего улучшения, достаточно применения одной из техник.\n",
    "- Лучшие разультаты как на выборке с дисбалансом, так и на сбалансированной выборке показывает модель \"случайный лес\". Худшие показатели у модели \"логистическая регрессия\"."
   ]
  },
  {
   "cell_type": "markdown",
   "metadata": {},
   "source": [
    "## 4. <a id='toc4_'></a>[Финальное тестирование](#toc0_)\n",
    "\n",
    "В ходе исследования лучшие результаты показала модель \"случайный лес\" на выборке, сбалансированной методом взвешивания классов. Протестируем этот лучший результат с помощью тестовой выборки."
   ]
  },
  {
   "cell_type": "code",
   "execution_count": null,
   "metadata": {
    "id": "esJCXAWTrzO2",
    "outputId": "a19e9dbf-0006-4f08-89b4-9cf12e78ccb8"
   },
   "outputs": [
    {
     "data": {
      "text/html": [
       "<div>\n",
       "<style scoped>\n",
       "    .dataframe tbody tr th:only-of-type {\n",
       "        vertical-align: middle;\n",
       "    }\n",
       "\n",
       "    .dataframe tbody tr th {\n",
       "        vertical-align: top;\n",
       "    }\n",
       "\n",
       "    .dataframe thead th {\n",
       "        text-align: right;\n",
       "    }\n",
       "</style>\n",
       "<table border=\"1\" class=\"dataframe\">\n",
       "  <thead>\n",
       "    <tr style=\"text-align: right;\">\n",
       "      <th></th>\n",
       "      <th>credit_score</th>\n",
       "      <th>age</th>\n",
       "      <th>tenure</th>\n",
       "      <th>balance</th>\n",
       "      <th>num_of_products</th>\n",
       "      <th>has_cr_card</th>\n",
       "      <th>is_active_member</th>\n",
       "      <th>estimated_salary</th>\n",
       "      <th>x0_Germany</th>\n",
       "      <th>x0_Spain</th>\n",
       "      <th>x1_Male</th>\n",
       "    </tr>\n",
       "  </thead>\n",
       "  <tbody>\n",
       "    <tr>\n",
       "      <th>657</th>\n",
       "      <td>-0.48</td>\n",
       "      <td>1.19</td>\n",
       "      <td>-1.36</td>\n",
       "      <td>0.80</td>\n",
       "      <td>0.76</td>\n",
       "      <td>1</td>\n",
       "      <td>1</td>\n",
       "      <td>1.72</td>\n",
       "      <td>1.00</td>\n",
       "      <td>0.00</td>\n",
       "      <td>0.00</td>\n",
       "    </tr>\n",
       "    <tr>\n",
       "      <th>2083</th>\n",
       "      <td>-1.16</td>\n",
       "      <td>-1.61</td>\n",
       "      <td>-1.36</td>\n",
       "      <td>-1.34</td>\n",
       "      <td>-0.76</td>\n",
       "      <td>1</td>\n",
       "      <td>1</td>\n",
       "      <td>1.19</td>\n",
       "      <td>0.00</td>\n",
       "      <td>0.00</td>\n",
       "      <td>1.00</td>\n",
       "    </tr>\n",
       "    <tr>\n",
       "      <th>3234</th>\n",
       "      <td>-1.24</td>\n",
       "      <td>0.54</td>\n",
       "      <td>-1.36</td>\n",
       "      <td>-1.34</td>\n",
       "      <td>-0.76</td>\n",
       "      <td>1</td>\n",
       "      <td>0</td>\n",
       "      <td>-1.39</td>\n",
       "      <td>0.00</td>\n",
       "      <td>0.00</td>\n",
       "      <td>1.00</td>\n",
       "    </tr>\n",
       "    <tr>\n",
       "      <th>1551</th>\n",
       "      <td>0.83</td>\n",
       "      <td>1.01</td>\n",
       "      <td>0.69</td>\n",
       "      <td>-1.34</td>\n",
       "      <td>0.76</td>\n",
       "      <td>0</td>\n",
       "      <td>1</td>\n",
       "      <td>0.37</td>\n",
       "      <td>0.00</td>\n",
       "      <td>1.00</td>\n",
       "      <td>0.00</td>\n",
       "    </tr>\n",
       "    <tr>\n",
       "      <th>2344</th>\n",
       "      <td>0.67</td>\n",
       "      <td>0.73</td>\n",
       "      <td>-0.33</td>\n",
       "      <td>0.18</td>\n",
       "      <td>-0.76</td>\n",
       "      <td>1</td>\n",
       "      <td>0</td>\n",
       "      <td>-1.62</td>\n",
       "      <td>1.00</td>\n",
       "      <td>0.00</td>\n",
       "      <td>0.00</td>\n",
       "    </tr>\n",
       "  </tbody>\n",
       "</table>\n",
       "</div>"
      ],
      "text/plain": [
       "      credit_score   age  tenure  balance  num_of_products  has_cr_card  \\\n",
       "657          -0.48  1.19   -1.36     0.80             0.76            1   \n",
       "2083         -1.16 -1.61   -1.36    -1.34            -0.76            1   \n",
       "3234         -1.24  0.54   -1.36    -1.34            -0.76            1   \n",
       "1551          0.83  1.01    0.69    -1.34             0.76            0   \n",
       "2344          0.67  0.73   -0.33     0.18            -0.76            1   \n",
       "\n",
       "      is_active_member  estimated_salary  x0_Germany  x0_Spain  x1_Male  \n",
       "657                  1              1.72        1.00      0.00     0.00  \n",
       "2083                 1              1.19        0.00      0.00     1.00  \n",
       "3234                 0             -1.39        0.00      0.00     1.00  \n",
       "1551                 1              0.37        0.00      1.00     0.00  \n",
       "2344                 0             -1.62        1.00      0.00     0.00  "
      ]
     },
     "metadata": {},
     "output_type": "display_data"
    }
   ],
   "source": [
    "# кодирование категориальных признаков в тестовой выборке настроенным энкодером\n",
    "features_test_balans[encoder_balans.get_feature_names()] = encoder_balans.transform(features_test_balans[list_category])\n",
    "features_test_balans = features_test_balans.drop(list_category, axis=1)\n",
    "\n",
    "# кодирование численных признаков в тестовой выборке настроенным скалером\n",
    "features_test_balans[list_numeral] = scaler_balans.transform(features_test_balans[list_numeral])\n",
    "\n",
    "# просмотр результата\n",
    "display(features_test_balans.head())"
   ]
  },
  {
   "cell_type": "code",
   "execution_count": null,
   "metadata": {
    "id": "Rzw3HHITrzO3",
    "outputId": "797370cc-2c23-4526-bee7-14c866d3a4bb"
   },
   "outputs": [
    {
     "name": "stdout",
     "output_type": "stream",
     "text": [
      "Значение F1-меры на тестовой выборке: 0.6104218362282878.\n",
      "Значение AUC-ROC на тестовой выборке: 0.8541345659989728.\n"
     ]
    }
   ],
   "source": [
    "# получим предсказания лучшей обученной модели типа \"случайный лес\" на тестовой выборке\n",
    "predictions = mod_rfc_b1.predict(features_test_balans)\n",
    "\n",
    "# определяем F1-меру на тестовой выборке\n",
    "f1_rfc_test = f1_score(target_test_balans, predictions)\n",
    "\n",
    "# определяем AUC-ROC на тестовой выборке\n",
    "probabilities_test = mod_rfc_b1.predict_proba(features_test_balans)\n",
    "probabilities_one_test = probabilities_test[:, 1]\n",
    "auc_roc_test = roc_auc_score(target_test_balans, probabilities_one_test)\n",
    "\n",
    "# вывод результатов\n",
    "print(f'Значение F1-меры на тестовой выборке: {f1_rfc_test}.')\n",
    "print(f'Значение AUC-ROC на тестовой выборке: {auc_roc_test}.')"
   ]
  },
  {
   "cell_type": "markdown",
   "metadata": {},
   "source": [
    "Отобразим важность факторов (признаков) для лучшей модели."
   ]
  },
  {
   "cell_type": "code",
   "execution_count": null,
   "metadata": {
    "id": "l5WsWnzgrzO5",
    "outputId": "ae61d598-ca36-4630-9430-92c18a44ec1c"
   },
   "outputs": [
    {
     "data": {
      "image/png": "[encoded data removed]",
      "text/plain": [
       "<Figure size 1152x360 with 1 Axes>"
      ]
     },
     "metadata": {
      "needs_background": "light"
     },
     "output_type": "display_data"
    }
   ],
   "source": [
    "pd.Series(mod_rfc_b1.feature_importances_, features_test_balans.columns).sort_values(ascending=False).plot(\n",
    "    kind='bar', figsize=(16,5), title='Важность факторов')\n",
    "plt.show()"
   ]
  },
  {
   "cell_type": "markdown",
   "metadata": {},
   "source": [
    "### 4.1. <a id='toc4_1_'></a>[Вывод по разделу 4](#toc0_)\n",
    "\n",
    "Значение F1-меры выше порогового значения 0,59 на тестовой выборке достигнуто.\n",
    "\n",
    "Наибольшее влияние на прогноз оказывают признаки возраста клиента, количества у него продуктов банка и баланс на счете."
   ]
  },
  {
   "cell_type": "markdown",
   "metadata": {},
   "source": [
    "## 5. <a id='toc5_'></a>[Общий вывод](#toc0_)"
   ]
  },
  {
   "cell_type": "markdown",
   "metadata": {
    "id": "ODdb2Ay4rzO4"
   },
   "source": [
    "Данные загружены, выполнена небольшая предобработка с целью подготовки к дальнейшему исследованию. Размер выборки в 9 тысяч строк достаточен для проведения исследования.  \n",
    "Изучение баланса классов целевого признака показало наличие дисбаланса в соотношении 1:4.  \n",
    "Из исходных данных сформированы обучающая, валидационная и тестовая выборки в соотношении 60%, 20% и 20% соответственно. Исследование проводилось на тестовой и валидационной выборках, финальное тестирование на тестовой выборке.  \n",
    "\n",
    "Для исследования были выбраны три типа моделей: \"дерево решений\" (DecisionTreeClassifier), \"случайный лес\" (RandomForestClassifier) и \"логистическая регрессия\" (LogisticRegression). Выбор лучшей модели осуществлялся подбором гиперпараметров с контролем значения F1-меры.\n",
    "\n",
    "Перед передачей данных в модели выполнялась подготовка признаков:\n",
    "- категориальных (техника прямого кодирования One-Hot Encoding);\n",
    "- численных (стандартизация данных методом StandardScale).\n",
    "\n",
    "Для улучшения качества моделей применялись следующие техники уменьшения влияния дисбаланса классов:\n",
    "- взвешивание классов;\n",
    "- увеличение выборки (upsampling);\n",
    "- последовательное применение двух техник.\n",
    "\n",
    "\n",
    "По итогам исследования можно сделать следующие выводы:\n",
    "- На выборке с дисбалансом классов все модели показывают значения F1-меры хуже, чем на сбалансированной выборке. Наибольшее значение F1-меры удалось получить на модели \"случайный лес\".\n",
    "- Рассмотренные техники борьбы с дисбалансом классов равноэффективны, так как позволяют на каждой из моделей достичь своих примерно одинаковых показателей. Применение последовательно двух техник балансировки классов не дает дальнейшего улучшения, достаточно применения одной из техник. Лучшие разультаты на сбалансированной выборке показала модель \"случайный лес\", худшие - модель \"логистическая регрессия\".\n",
    "- Отдельно можно отметить, что параметр AUC-ROC, в отличии от F1-меры, не зависит от наличия или отсутствия дисбаланса классов, но зависит от типа модели.\n",
    "- На тестовой выборке значение F1-меры выше заданного 0,59 получено на модели \"случайный лес\" для сбалансированной выборки.\n",
    "- Наибольшее влияние на прогноз оказывают признаки возраста клиента, количества у него продуктов банка и баланс на счете."
   ]
  }
 ],
 "metadata": {
  "ExecuteTimeLog": [
   {
    "duration": 1499,
    "start_time": "2023-02-07T20:03:04.986Z"
   },
   {
    "duration": 181,
    "start_time": "2023-02-07T20:03:09.461Z"
   },
   {
    "duration": 83,
    "start_time": "2023-02-07T20:03:26.952Z"
   },
   {
    "duration": 1978,
    "start_time": "2023-02-07T20:03:29.829Z"
   },
   {
    "duration": 1856,
    "start_time": "2023-02-07T20:07:46.827Z"
   },
   {
    "duration": 1907,
    "start_time": "2023-02-07T20:08:15.170Z"
   },
   {
    "duration": 2031,
    "start_time": "2023-02-07T20:12:04.398Z"
   },
   {
    "duration": 2157,
    "start_time": "2023-02-07T20:12:59.184Z"
   },
   {
    "duration": 1941,
    "start_time": "2023-02-07T20:13:21.273Z"
   },
   {
    "duration": 2089,
    "start_time": "2023-02-07T20:13:59.653Z"
   },
   {
    "duration": 2006,
    "start_time": "2023-02-07T20:14:34.839Z"
   },
   {
    "duration": 1935,
    "start_time": "2023-02-07T20:18:32.631Z"
   },
   {
    "duration": 2018,
    "start_time": "2023-02-07T20:18:54.975Z"
   },
   {
    "duration": 1920,
    "start_time": "2023-02-07T20:19:32.815Z"
   },
   {
    "duration": 1982,
    "start_time": "2023-02-07T20:21:08.190Z"
   },
   {
    "duration": 2028,
    "start_time": "2023-02-07T20:21:27.844Z"
   },
   {
    "duration": 2071,
    "start_time": "2023-02-07T20:23:51.963Z"
   },
   {
    "duration": 13,
    "start_time": "2023-02-07T20:32:21.544Z"
   },
   {
    "duration": 47,
    "start_time": "2023-02-07T20:39:05.411Z"
   },
   {
    "duration": 1989,
    "start_time": "2023-02-07T20:39:10.284Z"
   },
   {
    "duration": 38,
    "start_time": "2023-02-07T20:40:54.040Z"
   },
   {
    "duration": 2138,
    "start_time": "2023-02-07T20:40:57.451Z"
   },
   {
    "duration": 6,
    "start_time": "2023-02-07T20:52:06.318Z"
   },
   {
    "duration": 5,
    "start_time": "2023-02-07T20:52:11.125Z"
   },
   {
    "duration": 5,
    "start_time": "2023-02-07T20:52:40.025Z"
   },
   {
    "duration": 6,
    "start_time": "2023-02-07T21:01:03.168Z"
   },
   {
    "duration": 5,
    "start_time": "2023-02-07T21:01:17.871Z"
   },
   {
    "duration": 4,
    "start_time": "2023-02-07T21:01:27.167Z"
   },
   {
    "duration": 4,
    "start_time": "2023-02-07T21:03:03.072Z"
   },
   {
    "duration": 14,
    "start_time": "2023-02-07T21:09:41.277Z"
   },
   {
    "duration": 15,
    "start_time": "2023-02-07T21:10:32.845Z"
   },
   {
    "duration": 5,
    "start_time": "2023-02-07T21:17:04.079Z"
   },
   {
    "duration": 5,
    "start_time": "2023-02-07T21:18:12.711Z"
   },
   {
    "duration": 5,
    "start_time": "2023-02-07T21:20:01.696Z"
   },
   {
    "duration": 4,
    "start_time": "2023-02-07T21:20:09.112Z"
   },
   {
    "duration": 3,
    "start_time": "2023-02-07T21:21:53.488Z"
   },
   {
    "duration": 3,
    "start_time": "2023-02-07T21:22:04.264Z"
   },
   {
    "duration": 5,
    "start_time": "2023-02-07T21:22:39.177Z"
   },
   {
    "duration": 4,
    "start_time": "2023-02-07T21:22:44.186Z"
   },
   {
    "duration": 6,
    "start_time": "2023-02-07T21:23:23.353Z"
   },
   {
    "duration": 18,
    "start_time": "2023-02-07T21:24:42.578Z"
   },
   {
    "duration": 23,
    "start_time": "2023-02-07T21:25:09.428Z"
   },
   {
    "duration": 4,
    "start_time": "2023-02-07T21:25:15.786Z"
   },
   {
    "duration": 4,
    "start_time": "2023-02-07T21:27:17.135Z"
   },
   {
    "duration": 3,
    "start_time": "2023-02-07T21:27:22.866Z"
   },
   {
    "duration": 12,
    "start_time": "2023-02-07T21:32:55.188Z"
   },
   {
    "duration": 11,
    "start_time": "2023-02-07T21:33:14.796Z"
   },
   {
    "duration": 13,
    "start_time": "2023-02-07T21:39:36.707Z"
   },
   {
    "duration": 13,
    "start_time": "2023-02-07T21:44:43.765Z"
   },
   {
    "duration": 6,
    "start_time": "2023-02-07T21:44:51.981Z"
   },
   {
    "duration": 4,
    "start_time": "2023-02-07T21:45:13.927Z"
   },
   {
    "duration": 11,
    "start_time": "2023-02-07T21:46:55.278Z"
   },
   {
    "duration": 6,
    "start_time": "2023-02-07T21:47:08.709Z"
   },
   {
    "duration": 4,
    "start_time": "2023-02-07T21:47:26.588Z"
   },
   {
    "duration": 40,
    "start_time": "2023-02-07T21:47:28.661Z"
   },
   {
    "duration": 2089,
    "start_time": "2023-02-07T21:47:31.015Z"
   },
   {
    "duration": 6,
    "start_time": "2023-02-07T21:47:40.885Z"
   },
   {
    "duration": 6,
    "start_time": "2023-02-07T21:52:36.887Z"
   },
   {
    "duration": 5,
    "start_time": "2023-02-07T21:54:32.400Z"
   },
   {
    "duration": 12,
    "start_time": "2023-02-07T21:54:32.407Z"
   },
   {
    "duration": 82,
    "start_time": "2023-02-07T21:54:32.422Z"
   },
   {
    "duration": 2236,
    "start_time": "2023-02-07T21:54:32.506Z"
   },
   {
    "duration": 22,
    "start_time": "2023-02-07T21:54:38.950Z"
   },
   {
    "duration": 20,
    "start_time": "2023-02-07T21:55:55.023Z"
   },
   {
    "duration": 4,
    "start_time": "2023-02-07T22:00:22.719Z"
   },
   {
    "duration": 5,
    "start_time": "2023-02-07T22:04:24.312Z"
   },
   {
    "duration": 4,
    "start_time": "2023-02-07T22:04:59.604Z"
   },
   {
    "duration": 5,
    "start_time": "2023-02-07T22:04:59.610Z"
   },
   {
    "duration": 41,
    "start_time": "2023-02-07T22:04:59.616Z"
   },
   {
    "duration": 1976,
    "start_time": "2023-02-07T22:04:59.659Z"
   },
   {
    "duration": 4,
    "start_time": "2023-02-07T22:05:06.024Z"
   },
   {
    "duration": 4,
    "start_time": "2023-02-07T22:08:24.589Z"
   },
   {
    "duration": 8,
    "start_time": "2023-02-07T22:08:24.595Z"
   },
   {
    "duration": 44,
    "start_time": "2023-02-07T22:08:24.605Z"
   },
   {
    "duration": 1952,
    "start_time": "2023-02-07T22:08:24.652Z"
   },
   {
    "duration": 6,
    "start_time": "2023-02-07T22:08:30.497Z"
   },
   {
    "duration": 4,
    "start_time": "2023-02-07T22:10:04.783Z"
   },
   {
    "duration": 7,
    "start_time": "2023-02-07T22:10:04.789Z"
   },
   {
    "duration": 39,
    "start_time": "2023-02-07T22:10:04.798Z"
   },
   {
    "duration": 37,
    "start_time": "2023-02-07T22:10:04.839Z"
   },
   {
    "duration": 5,
    "start_time": "2023-02-07T22:10:04.879Z"
   },
   {
    "duration": 6,
    "start_time": "2023-02-07T22:11:49.834Z"
   },
   {
    "duration": 5,
    "start_time": "2023-02-07T22:12:16.138Z"
   },
   {
    "duration": 6,
    "start_time": "2023-02-07T22:17:38.002Z"
   },
   {
    "duration": 5,
    "start_time": "2023-02-07T22:19:37.274Z"
   },
   {
    "duration": 6,
    "start_time": "2023-02-07T22:20:29.866Z"
   },
   {
    "duration": 6,
    "start_time": "2023-02-07T22:20:47.177Z"
   },
   {
    "duration": 6,
    "start_time": "2023-02-07T22:23:01.330Z"
   },
   {
    "duration": 6,
    "start_time": "2023-02-07T22:27:59.548Z"
   },
   {
    "duration": 9,
    "start_time": "2023-02-07T22:28:38.980Z"
   },
   {
    "duration": 4,
    "start_time": "2023-02-07T22:41:46.235Z"
   },
   {
    "duration": 5,
    "start_time": "2023-02-07T22:41:46.241Z"
   },
   {
    "duration": 40,
    "start_time": "2023-02-07T22:41:46.248Z"
   },
   {
    "duration": 41,
    "start_time": "2023-02-07T22:41:46.289Z"
   },
   {
    "duration": 755,
    "start_time": "2023-02-07T22:41:46.331Z"
   },
   {
    "duration": 0,
    "start_time": "2023-02-07T22:41:47.087Z"
   },
   {
    "duration": 7,
    "start_time": "2023-02-07T22:42:10.589Z"
   },
   {
    "duration": 15,
    "start_time": "2023-02-07T22:42:18.065Z"
   },
   {
    "duration": 14,
    "start_time": "2023-02-07T22:45:38.632Z"
   },
   {
    "duration": 4,
    "start_time": "2023-02-07T22:46:04.071Z"
   },
   {
    "duration": 15,
    "start_time": "2023-02-07T22:46:04.077Z"
   },
   {
    "duration": 42,
    "start_time": "2023-02-07T22:46:04.093Z"
   },
   {
    "duration": 36,
    "start_time": "2023-02-07T22:46:04.137Z"
   },
   {
    "duration": 6,
    "start_time": "2023-02-07T22:46:04.176Z"
   },
   {
    "duration": 18,
    "start_time": "2023-02-07T22:46:04.183Z"
   },
   {
    "duration": 4,
    "start_time": "2023-02-07T22:49:11.328Z"
   },
   {
    "duration": 7,
    "start_time": "2023-02-07T22:49:11.334Z"
   },
   {
    "duration": 39,
    "start_time": "2023-02-07T22:49:11.342Z"
   },
   {
    "duration": 35,
    "start_time": "2023-02-07T22:49:11.383Z"
   },
   {
    "duration": 8,
    "start_time": "2023-02-07T22:49:11.419Z"
   },
   {
    "duration": 17,
    "start_time": "2023-02-07T22:49:11.428Z"
   },
   {
    "duration": 1508,
    "start_time": "2023-02-07T22:50:33.060Z"
   },
   {
    "duration": 17,
    "start_time": "2023-02-07T22:58:15.538Z"
   },
   {
    "duration": 18,
    "start_time": "2023-02-07T22:58:52.166Z"
   },
   {
    "duration": 17,
    "start_time": "2023-02-07T22:59:56.012Z"
   },
   {
    "duration": 16,
    "start_time": "2023-02-07T23:01:08.190Z"
   },
   {
    "duration": 4,
    "start_time": "2023-02-07T23:04:59.467Z"
   },
   {
    "duration": 7,
    "start_time": "2023-02-07T23:04:59.473Z"
   },
   {
    "duration": 42,
    "start_time": "2023-02-07T23:04:59.481Z"
   },
   {
    "duration": 36,
    "start_time": "2023-02-07T23:04:59.525Z"
   },
   {
    "duration": 6,
    "start_time": "2023-02-07T23:04:59.563Z"
   },
   {
    "duration": 17,
    "start_time": "2023-02-07T23:04:59.570Z"
   },
   {
    "duration": 1526,
    "start_time": "2023-02-07T23:04:59.589Z"
   },
   {
    "duration": 4,
    "start_time": "2023-02-07T23:32:23.365Z"
   },
   {
    "duration": 7,
    "start_time": "2023-02-07T23:32:23.371Z"
   },
   {
    "duration": 48,
    "start_time": "2023-02-07T23:32:23.379Z"
   },
   {
    "duration": 224,
    "start_time": "2023-02-07T23:32:23.429Z"
   },
   {
    "duration": 8,
    "start_time": "2023-02-07T23:32:53.573Z"
   },
   {
    "duration": 6,
    "start_time": "2023-02-07T23:34:04.952Z"
   },
   {
    "duration": 10,
    "start_time": "2023-02-07T23:36:36.520Z"
   },
   {
    "duration": 9,
    "start_time": "2023-02-07T23:36:51.779Z"
   },
   {
    "duration": 5,
    "start_time": "2023-02-07T23:37:12.303Z"
   },
   {
    "duration": 5,
    "start_time": "2023-02-07T23:37:47.135Z"
   },
   {
    "duration": 8,
    "start_time": "2023-02-07T23:38:10.000Z"
   },
   {
    "duration": 9,
    "start_time": "2023-02-07T23:38:21.824Z"
   },
   {
    "duration": 4,
    "start_time": "2023-02-07T23:38:48.416Z"
   },
   {
    "duration": 51,
    "start_time": "2023-02-07T23:39:26.262Z"
   },
   {
    "duration": 5,
    "start_time": "2023-02-07T23:39:31.615Z"
   },
   {
    "duration": 5,
    "start_time": "2023-02-07T23:40:06.778Z"
   },
   {
    "duration": 7,
    "start_time": "2023-02-07T23:40:22.063Z"
   },
   {
    "duration": 6,
    "start_time": "2023-02-07T23:40:36.976Z"
   },
   {
    "duration": 7,
    "start_time": "2023-02-07T23:41:02.695Z"
   },
   {
    "duration": 4,
    "start_time": "2023-02-08T00:22:55.898Z"
   },
   {
    "duration": 12,
    "start_time": "2023-02-08T00:22:55.903Z"
   },
   {
    "duration": 39,
    "start_time": "2023-02-08T00:22:55.917Z"
   },
   {
    "duration": 34,
    "start_time": "2023-02-08T00:22:55.958Z"
   },
   {
    "duration": 6,
    "start_time": "2023-02-08T00:22:55.993Z"
   },
   {
    "duration": 16,
    "start_time": "2023-02-08T00:22:56.000Z"
   },
   {
    "duration": 1471,
    "start_time": "2023-02-08T00:22:56.017Z"
   },
   {
    "duration": 1973,
    "start_time": "2023-02-08T13:19:48.444Z"
   },
   {
    "duration": 4,
    "start_time": "2023-02-08T13:19:50.420Z"
   },
   {
    "duration": 238,
    "start_time": "2023-02-08T13:19:50.426Z"
   },
   {
    "duration": 55,
    "start_time": "2023-02-08T13:19:50.669Z"
   },
   {
    "duration": 7,
    "start_time": "2023-02-08T13:19:50.727Z"
   },
   {
    "duration": 54,
    "start_time": "2023-02-08T13:19:50.736Z"
   },
   {
    "duration": 1812,
    "start_time": "2023-02-08T13:19:50.792Z"
   },
   {
    "duration": 91,
    "start_time": "2023-02-08T13:19:56.402Z"
   },
   {
    "duration": 265,
    "start_time": "2023-02-08T13:20:03.228Z"
   },
   {
    "duration": 358,
    "start_time": "2023-02-08T13:20:27.260Z"
   },
   {
    "duration": 194,
    "start_time": "2023-02-08T13:24:10.660Z"
   },
   {
    "duration": 162,
    "start_time": "2023-02-08T13:24:49.612Z"
   },
   {
    "duration": 230,
    "start_time": "2023-02-08T13:25:09.291Z"
   },
   {
    "duration": 275,
    "start_time": "2023-02-08T13:26:18.060Z"
   },
   {
    "duration": 131,
    "start_time": "2023-02-08T13:31:00.296Z"
   },
   {
    "duration": 32,
    "start_time": "2023-02-08T13:33:39.207Z"
   },
   {
    "duration": 12,
    "start_time": "2023-02-08T13:34:03.566Z"
   },
   {
    "duration": 5,
    "start_time": "2023-02-08T13:34:23.653Z"
   },
   {
    "duration": 20,
    "start_time": "2023-02-08T13:34:33.798Z"
   },
   {
    "duration": 18,
    "start_time": "2023-02-08T13:35:45.623Z"
   },
   {
    "duration": 5,
    "start_time": "2023-02-08T13:37:45.495Z"
   },
   {
    "duration": 82,
    "start_time": "2023-02-08T13:39:26.127Z"
   },
   {
    "duration": 8,
    "start_time": "2023-02-08T13:39:31.367Z"
   },
   {
    "duration": 9,
    "start_time": "2023-02-08T13:39:54.164Z"
   },
   {
    "duration": 52,
    "start_time": "2023-02-08T18:33:00.434Z"
   },
   {
    "duration": 2362,
    "start_time": "2023-02-08T18:33:34.850Z"
   },
   {
    "duration": 4,
    "start_time": "2023-02-08T18:33:37.215Z"
   },
   {
    "duration": 156,
    "start_time": "2023-02-08T18:33:37.221Z"
   },
   {
    "duration": 62,
    "start_time": "2023-02-08T18:33:37.378Z"
   },
   {
    "duration": 6,
    "start_time": "2023-02-08T18:33:37.442Z"
   },
   {
    "duration": 29,
    "start_time": "2023-02-08T18:33:37.450Z"
   },
   {
    "duration": 1788,
    "start_time": "2023-02-08T18:33:37.481Z"
   },
   {
    "duration": 178,
    "start_time": "2023-02-08T18:33:39.271Z"
   },
   {
    "duration": 43,
    "start_time": "2023-02-08T18:33:46.023Z"
   },
   {
    "duration": 49,
    "start_time": "2023-02-08T18:34:11.554Z"
   },
   {
    "duration": 12,
    "start_time": "2023-02-08T18:34:35.587Z"
   },
   {
    "duration": 119,
    "start_time": "2023-02-08T18:34:56.060Z"
   },
   {
    "duration": 13,
    "start_time": "2023-02-08T18:35:04.555Z"
   },
   {
    "duration": 15,
    "start_time": "2023-02-08T18:37:27.788Z"
   },
   {
    "duration": 13,
    "start_time": "2023-02-08T18:37:38.173Z"
   },
   {
    "duration": 13,
    "start_time": "2023-02-08T18:38:17.932Z"
   },
   {
    "duration": 13,
    "start_time": "2023-02-08T18:38:51.518Z"
   },
   {
    "duration": 9,
    "start_time": "2023-02-08T18:39:00.085Z"
   },
   {
    "duration": 44,
    "start_time": "2023-02-08T18:42:59.038Z"
   },
   {
    "duration": 53,
    "start_time": "2023-02-08T18:43:11.285Z"
   },
   {
    "duration": 53,
    "start_time": "2023-02-08T18:43:36.045Z"
   },
   {
    "duration": 4,
    "start_time": "2023-02-08T18:44:25.720Z"
   },
   {
    "duration": 8,
    "start_time": "2023-02-08T18:44:48.287Z"
   },
   {
    "duration": 11,
    "start_time": "2023-02-08T18:49:18.030Z"
   },
   {
    "duration": 17,
    "start_time": "2023-02-08T18:49:36.351Z"
   },
   {
    "duration": 14,
    "start_time": "2023-02-08T18:54:16.537Z"
   },
   {
    "duration": 12,
    "start_time": "2023-02-08T18:55:20.231Z"
   },
   {
    "duration": 8,
    "start_time": "2023-02-08T18:55:39.681Z"
   },
   {
    "duration": 16,
    "start_time": "2023-02-08T18:55:49.697Z"
   },
   {
    "duration": 11,
    "start_time": "2023-02-08T18:56:20.529Z"
   },
   {
    "duration": 145,
    "start_time": "2023-02-08T18:57:09.824Z"
   },
   {
    "duration": 150,
    "start_time": "2023-02-08T18:58:32.387Z"
   },
   {
    "duration": 12,
    "start_time": "2023-02-08T18:58:46.425Z"
   },
   {
    "duration": 147,
    "start_time": "2023-02-08T18:58:57.621Z"
   },
   {
    "duration": 139,
    "start_time": "2023-02-08T19:05:00.485Z"
   },
   {
    "duration": 132,
    "start_time": "2023-02-08T19:05:12.380Z"
   },
   {
    "duration": 126,
    "start_time": "2023-02-08T19:07:22.821Z"
   },
   {
    "duration": 306,
    "start_time": "2023-02-08T19:07:33.364Z"
   },
   {
    "duration": 153,
    "start_time": "2023-02-08T19:10:52.558Z"
   },
   {
    "duration": 156,
    "start_time": "2023-02-08T19:10:57.238Z"
   },
   {
    "duration": 163,
    "start_time": "2023-02-08T19:12:21.054Z"
   },
   {
    "duration": 12,
    "start_time": "2023-02-09T15:11:28.570Z"
   },
   {
    "duration": 11,
    "start_time": "2023-02-09T15:11:32.819Z"
   },
   {
    "duration": 12,
    "start_time": "2023-02-09T15:11:46.320Z"
   },
   {
    "duration": 4,
    "start_time": "2023-02-09T15:13:54.093Z"
   },
   {
    "duration": 28,
    "start_time": "2023-02-09T15:13:54.099Z"
   },
   {
    "duration": 52,
    "start_time": "2023-02-09T15:13:54.129Z"
   },
   {
    "duration": 56,
    "start_time": "2023-02-09T15:13:54.184Z"
   },
   {
    "duration": 9,
    "start_time": "2023-02-09T15:13:54.242Z"
   },
   {
    "duration": 47,
    "start_time": "2023-02-09T15:13:54.253Z"
   },
   {
    "duration": 1778,
    "start_time": "2023-02-09T15:13:54.302Z"
   },
   {
    "duration": 171,
    "start_time": "2023-02-09T15:13:56.082Z"
   },
   {
    "duration": 48,
    "start_time": "2023-02-09T15:20:17.792Z"
   },
   {
    "duration": 38,
    "start_time": "2023-02-09T15:20:49.081Z"
   },
   {
    "duration": 41,
    "start_time": "2023-02-09T15:20:59.135Z"
   },
   {
    "duration": 36,
    "start_time": "2023-02-09T15:21:10.184Z"
   },
   {
    "duration": 73,
    "start_time": "2023-02-09T15:21:30.888Z"
   },
   {
    "duration": 45,
    "start_time": "2023-02-09T15:22:02.681Z"
   },
   {
    "duration": 6,
    "start_time": "2023-02-09T15:24:21.262Z"
   },
   {
    "duration": 14,
    "start_time": "2023-02-09T15:24:21.271Z"
   },
   {
    "duration": 61,
    "start_time": "2023-02-09T15:24:21.287Z"
   },
   {
    "duration": 42,
    "start_time": "2023-02-09T15:24:21.351Z"
   },
   {
    "duration": 7,
    "start_time": "2023-02-09T15:24:21.395Z"
   },
   {
    "duration": 28,
    "start_time": "2023-02-09T15:24:21.412Z"
   },
   {
    "duration": 1842,
    "start_time": "2023-02-09T15:24:21.442Z"
   },
   {
    "duration": 183,
    "start_time": "2023-02-09T15:24:23.286Z"
   },
   {
    "duration": 6,
    "start_time": "2023-02-09T15:28:24.317Z"
   },
   {
    "duration": 7,
    "start_time": "2023-02-09T15:50:02.600Z"
   },
   {
    "duration": 6,
    "start_time": "2023-02-09T15:50:16.580Z"
   },
   {
    "duration": 6,
    "start_time": "2023-02-09T15:50:41.286Z"
   },
   {
    "duration": 5,
    "start_time": "2023-02-09T15:50:52.193Z"
   },
   {
    "duration": 118,
    "start_time": "2023-02-09T16:28:40.119Z"
   },
   {
    "duration": 18,
    "start_time": "2023-02-09T16:29:07.320Z"
   },
   {
    "duration": 18,
    "start_time": "2023-02-09T16:37:47.892Z"
   },
   {
    "duration": 20,
    "start_time": "2023-02-09T16:38:17.172Z"
   },
   {
    "duration": 16,
    "start_time": "2023-02-09T16:40:48.632Z"
   },
   {
    "duration": 17,
    "start_time": "2023-02-09T16:41:09.834Z"
   },
   {
    "duration": 19,
    "start_time": "2023-02-09T16:41:31.721Z"
   },
   {
    "duration": 18,
    "start_time": "2023-02-09T16:41:37.880Z"
   },
   {
    "duration": 17,
    "start_time": "2023-02-09T16:46:40.113Z"
   },
   {
    "duration": 17,
    "start_time": "2023-02-09T16:47:40.677Z"
   },
   {
    "duration": 21,
    "start_time": "2023-02-09T16:48:14.107Z"
   },
   {
    "duration": 18,
    "start_time": "2023-02-09T16:48:24.288Z"
   },
   {
    "duration": 17,
    "start_time": "2023-02-09T16:52:45.925Z"
   },
   {
    "duration": 19,
    "start_time": "2023-02-09T16:54:17.110Z"
   },
   {
    "duration": 15,
    "start_time": "2023-02-09T16:54:32.620Z"
   },
   {
    "duration": 15,
    "start_time": "2023-02-09T16:55:41.722Z"
   },
   {
    "duration": 13,
    "start_time": "2023-02-09T17:19:18.902Z"
   },
   {
    "duration": 8,
    "start_time": "2023-02-09T17:35:25.069Z"
   },
   {
    "duration": 4,
    "start_time": "2023-02-09T17:35:58.305Z"
   },
   {
    "duration": 10,
    "start_time": "2023-02-09T17:35:58.311Z"
   },
   {
    "duration": 41,
    "start_time": "2023-02-09T17:35:58.323Z"
   },
   {
    "duration": 40,
    "start_time": "2023-02-09T17:35:58.366Z"
   },
   {
    "duration": 6,
    "start_time": "2023-02-09T17:35:58.407Z"
   },
   {
    "duration": 30,
    "start_time": "2023-02-09T17:35:58.414Z"
   },
   {
    "duration": 0,
    "start_time": "2023-02-09T17:35:58.445Z"
   },
   {
    "duration": 0,
    "start_time": "2023-02-09T17:35:58.446Z"
   },
   {
    "duration": 0,
    "start_time": "2023-02-09T17:35:58.447Z"
   },
   {
    "duration": 0,
    "start_time": "2023-02-09T17:35:58.448Z"
   },
   {
    "duration": 15,
    "start_time": "2023-02-09T17:37:44.565Z"
   },
   {
    "duration": 5,
    "start_time": "2023-02-09T17:38:08.913Z"
   },
   {
    "duration": 33,
    "start_time": "2023-02-09T17:38:08.920Z"
   },
   {
    "duration": 87,
    "start_time": "2023-02-09T17:38:08.955Z"
   },
   {
    "duration": 42,
    "start_time": "2023-02-09T17:38:09.044Z"
   },
   {
    "duration": 7,
    "start_time": "2023-02-09T17:38:09.088Z"
   },
   {
    "duration": 18,
    "start_time": "2023-02-09T17:38:12.061Z"
   },
   {
    "duration": 4,
    "start_time": "2023-02-09T17:38:28.686Z"
   },
   {
    "duration": 6,
    "start_time": "2023-02-09T17:38:28.692Z"
   },
   {
    "duration": 41,
    "start_time": "2023-02-09T17:38:28.699Z"
   },
   {
    "duration": 36,
    "start_time": "2023-02-09T17:38:28.742Z"
   },
   {
    "duration": 6,
    "start_time": "2023-02-09T17:38:28.779Z"
   },
   {
    "duration": 20,
    "start_time": "2023-02-09T17:38:28.787Z"
   },
   {
    "duration": 18,
    "start_time": "2023-02-09T17:38:28.809Z"
   },
   {
    "duration": 0,
    "start_time": "2023-02-09T17:38:28.829Z"
   },
   {
    "duration": 0,
    "start_time": "2023-02-09T17:38:28.830Z"
   },
   {
    "duration": 0,
    "start_time": "2023-02-09T17:38:28.831Z"
   },
   {
    "duration": 11,
    "start_time": "2023-02-09T17:38:31.640Z"
   },
   {
    "duration": 7,
    "start_time": "2023-02-09T17:38:46.569Z"
   },
   {
    "duration": 4,
    "start_time": "2023-02-09T17:40:19.662Z"
   },
   {
    "duration": 10,
    "start_time": "2023-02-09T17:40:19.668Z"
   },
   {
    "duration": 64,
    "start_time": "2023-02-09T17:40:19.679Z"
   },
   {
    "duration": 37,
    "start_time": "2023-02-09T17:40:19.745Z"
   },
   {
    "duration": 7,
    "start_time": "2023-02-09T17:40:19.784Z"
   },
   {
    "duration": 20,
    "start_time": "2023-02-09T17:40:19.793Z"
   },
   {
    "duration": 1652,
    "start_time": "2023-02-09T17:40:19.814Z"
   },
   {
    "duration": 155,
    "start_time": "2023-02-09T17:40:21.467Z"
   },
   {
    "duration": 15,
    "start_time": "2023-02-09T17:40:21.624Z"
   },
   {
    "duration": 10,
    "start_time": "2023-02-09T17:40:21.640Z"
   },
   {
    "duration": 7,
    "start_time": "2023-02-09T17:40:21.652Z"
   },
   {
    "duration": 7,
    "start_time": "2023-02-09T17:51:17.022Z"
   },
   {
    "duration": 15,
    "start_time": "2023-02-09T18:19:16.097Z"
   },
   {
    "duration": 14,
    "start_time": "2023-02-09T18:19:47.825Z"
   },
   {
    "duration": 10,
    "start_time": "2023-02-09T18:20:24.181Z"
   },
   {
    "duration": 7,
    "start_time": "2023-02-09T18:21:20.153Z"
   },
   {
    "duration": 14,
    "start_time": "2023-02-09T18:21:34.493Z"
   },
   {
    "duration": 7,
    "start_time": "2023-02-09T18:21:48.197Z"
   },
   {
    "duration": 14,
    "start_time": "2023-02-09T18:22:12.816Z"
   },
   {
    "duration": 7,
    "start_time": "2023-02-09T18:22:26.389Z"
   },
   {
    "duration": 11,
    "start_time": "2023-02-09T18:24:27.930Z"
   },
   {
    "duration": 8,
    "start_time": "2023-02-09T18:24:52.805Z"
   },
   {
    "duration": 14,
    "start_time": "2023-02-09T18:33:56.927Z"
   },
   {
    "duration": 8,
    "start_time": "2023-02-09T18:34:09.630Z"
   },
   {
    "duration": 8,
    "start_time": "2023-02-09T18:35:37.293Z"
   },
   {
    "duration": 41,
    "start_time": "2023-02-09T18:37:02.445Z"
   },
   {
    "duration": 9,
    "start_time": "2023-02-09T18:37:29.085Z"
   },
   {
    "duration": 11,
    "start_time": "2023-02-09T18:37:57.701Z"
   },
   {
    "duration": 9,
    "start_time": "2023-02-09T18:38:09.254Z"
   },
   {
    "duration": 12,
    "start_time": "2023-02-09T19:00:51.026Z"
   },
   {
    "duration": 5,
    "start_time": "2023-02-09T19:03:08.507Z"
   },
   {
    "duration": 12,
    "start_time": "2023-02-09T19:03:18.786Z"
   },
   {
    "duration": 12,
    "start_time": "2023-02-09T19:13:13.701Z"
   },
   {
    "duration": 19,
    "start_time": "2023-02-09T19:13:20.628Z"
   },
   {
    "duration": 11,
    "start_time": "2023-02-09T19:34:25.410Z"
   },
   {
    "duration": 12,
    "start_time": "2023-02-09T19:34:32.650Z"
   },
   {
    "duration": 10,
    "start_time": "2023-02-09T19:34:49.571Z"
   },
   {
    "duration": 11,
    "start_time": "2023-02-09T19:37:09.071Z"
   },
   {
    "duration": 11,
    "start_time": "2023-02-09T19:37:21.973Z"
   },
   {
    "duration": 18,
    "start_time": "2023-02-09T19:38:13.603Z"
   },
   {
    "duration": 12,
    "start_time": "2023-02-09T19:38:36.723Z"
   },
   {
    "duration": 22,
    "start_time": "2023-02-09T19:39:10.542Z"
   },
   {
    "duration": 408,
    "start_time": "2023-02-09T19:40:23.196Z"
   },
   {
    "duration": 25,
    "start_time": "2023-02-09T19:42:06.638Z"
   },
   {
    "duration": 31,
    "start_time": "2023-02-09T19:42:17.541Z"
   },
   {
    "duration": 30,
    "start_time": "2023-02-09T19:43:47.574Z"
   },
   {
    "duration": 36,
    "start_time": "2023-02-09T19:44:55.072Z"
   },
   {
    "duration": 346,
    "start_time": "2023-02-09T19:45:28.079Z"
   },
   {
    "duration": 375,
    "start_time": "2023-02-09T19:45:58.167Z"
   },
   {
    "duration": 30,
    "start_time": "2023-02-09T19:46:25.106Z"
   },
   {
    "duration": 31,
    "start_time": "2023-02-09T19:46:52.593Z"
   },
   {
    "duration": 32,
    "start_time": "2023-02-09T19:47:22.717Z"
   },
   {
    "duration": 36,
    "start_time": "2023-02-09T19:49:48.136Z"
   },
   {
    "duration": 17,
    "start_time": "2023-02-09T19:50:53.600Z"
   },
   {
    "duration": 12,
    "start_time": "2023-02-09T19:51:02.518Z"
   },
   {
    "duration": 8,
    "start_time": "2023-02-09T19:51:08.901Z"
   },
   {
    "duration": 49,
    "start_time": "2023-02-09T19:51:11.928Z"
   },
   {
    "duration": 4,
    "start_time": "2023-02-09T19:52:51.897Z"
   },
   {
    "duration": 15,
    "start_time": "2023-02-09T19:52:51.904Z"
   },
   {
    "duration": 49,
    "start_time": "2023-02-09T19:52:51.921Z"
   },
   {
    "duration": 44,
    "start_time": "2023-02-09T19:52:51.972Z"
   },
   {
    "duration": 6,
    "start_time": "2023-02-09T19:52:52.018Z"
   },
   {
    "duration": 19,
    "start_time": "2023-02-09T19:52:52.026Z"
   },
   {
    "duration": 1633,
    "start_time": "2023-02-09T19:52:52.046Z"
   },
   {
    "duration": 351,
    "start_time": "2023-02-09T19:52:53.681Z"
   },
   {
    "duration": 15,
    "start_time": "2023-02-09T19:52:54.034Z"
   },
   {
    "duration": 12,
    "start_time": "2023-02-09T19:52:54.051Z"
   },
   {
    "duration": 16,
    "start_time": "2023-02-09T19:52:54.065Z"
   },
   {
    "duration": 47,
    "start_time": "2023-02-09T19:52:54.084Z"
   },
   {
    "duration": 26,
    "start_time": "2023-02-09T19:55:13.824Z"
   },
   {
    "duration": 17,
    "start_time": "2023-02-09T19:56:11.462Z"
   },
   {
    "duration": 5,
    "start_time": "2023-02-09T19:58:58.962Z"
   },
   {
    "duration": 8,
    "start_time": "2023-02-09T19:58:58.969Z"
   },
   {
    "duration": 46,
    "start_time": "2023-02-09T19:58:58.978Z"
   },
   {
    "duration": 45,
    "start_time": "2023-02-09T19:58:59.026Z"
   },
   {
    "duration": 6,
    "start_time": "2023-02-09T19:58:59.073Z"
   },
   {
    "duration": 22,
    "start_time": "2023-02-09T19:58:59.106Z"
   },
   {
    "duration": 1704,
    "start_time": "2023-02-09T19:58:59.130Z"
   },
   {
    "duration": 182,
    "start_time": "2023-02-09T19:59:00.836Z"
   },
   {
    "duration": 17,
    "start_time": "2023-02-09T19:59:01.021Z"
   },
   {
    "duration": 39,
    "start_time": "2023-02-09T19:59:01.041Z"
   },
   {
    "duration": 46,
    "start_time": "2023-02-09T19:59:01.082Z"
   },
   {
    "duration": 50,
    "start_time": "2023-02-09T19:59:01.130Z"
   },
   {
    "duration": 29,
    "start_time": "2023-02-09T19:59:01.181Z"
   },
   {
    "duration": 5,
    "start_time": "2023-02-09T20:15:50.280Z"
   },
   {
    "duration": 15,
    "start_time": "2023-02-09T20:15:50.288Z"
   },
   {
    "duration": 41,
    "start_time": "2023-02-09T20:15:50.305Z"
   },
   {
    "duration": 147,
    "start_time": "2023-02-09T20:15:50.348Z"
   },
   {
    "duration": 7,
    "start_time": "2023-02-09T20:15:50.504Z"
   },
   {
    "duration": 16,
    "start_time": "2023-02-09T20:15:50.513Z"
   },
   {
    "duration": 1519,
    "start_time": "2023-02-09T20:15:50.531Z"
   },
   {
    "duration": 152,
    "start_time": "2023-02-09T20:15:52.051Z"
   },
   {
    "duration": 17,
    "start_time": "2023-02-09T20:15:52.205Z"
   },
   {
    "duration": 13,
    "start_time": "2023-02-09T20:15:52.224Z"
   },
   {
    "duration": 7,
    "start_time": "2023-02-09T20:15:52.238Z"
   },
   {
    "duration": 64,
    "start_time": "2023-02-09T20:15:52.247Z"
   },
   {
    "duration": 46,
    "start_time": "2023-02-09T20:15:52.312Z"
   },
   {
    "duration": 0,
    "start_time": "2023-02-09T20:15:52.360Z"
   },
   {
    "duration": 27,
    "start_time": "2023-02-09T20:16:28.366Z"
   },
   {
    "duration": 4,
    "start_time": "2023-02-09T20:17:49.661Z"
   },
   {
    "duration": 38,
    "start_time": "2023-02-09T20:17:49.667Z"
   },
   {
    "duration": 61,
    "start_time": "2023-02-09T20:17:49.706Z"
   },
   {
    "duration": 41,
    "start_time": "2023-02-09T20:17:49.769Z"
   },
   {
    "duration": 6,
    "start_time": "2023-02-09T20:17:49.811Z"
   },
   {
    "duration": 24,
    "start_time": "2023-02-09T20:17:49.818Z"
   },
   {
    "duration": 1559,
    "start_time": "2023-02-09T20:17:49.844Z"
   },
   {
    "duration": 152,
    "start_time": "2023-02-09T20:17:51.404Z"
   },
   {
    "duration": 19,
    "start_time": "2023-02-09T20:17:51.558Z"
   },
   {
    "duration": 36,
    "start_time": "2023-02-09T20:17:51.580Z"
   },
   {
    "duration": 11,
    "start_time": "2023-02-09T20:17:51.618Z"
   },
   {
    "duration": 44,
    "start_time": "2023-02-09T20:17:51.631Z"
   },
   {
    "duration": 37,
    "start_time": "2023-02-09T20:17:51.677Z"
   },
   {
    "duration": 5,
    "start_time": "2023-02-09T20:20:57.799Z"
   },
   {
    "duration": 151,
    "start_time": "2023-02-09T20:25:28.353Z"
   },
   {
    "duration": 151,
    "start_time": "2023-02-09T20:26:16.073Z"
   },
   {
    "duration": 159,
    "start_time": "2023-02-09T20:28:27.633Z"
   },
   {
    "duration": 48,
    "start_time": "2023-02-09T20:34:49.979Z"
   },
   {
    "duration": 20257,
    "start_time": "2023-02-09T20:35:12.283Z"
   },
   {
    "duration": 20363,
    "start_time": "2023-02-09T20:39:29.013Z"
   },
   {
    "duration": 11,
    "start_time": "2023-02-09T20:42:59.254Z"
   },
   {
    "duration": 22728,
    "start_time": "2023-02-09T20:43:13.276Z"
   },
   {
    "duration": 19910,
    "start_time": "2023-02-09T20:44:38.301Z"
   },
   {
    "duration": 22,
    "start_time": "2023-02-09T20:51:34.215Z"
   },
   {
    "duration": 13,
    "start_time": "2023-02-09T20:58:51.761Z"
   },
   {
    "duration": 16,
    "start_time": "2023-02-09T20:59:17.776Z"
   },
   {
    "duration": 4,
    "start_time": "2023-02-09T21:01:10.416Z"
   },
   {
    "duration": 5,
    "start_time": "2023-02-09T21:05:25.185Z"
   },
   {
    "duration": 25,
    "start_time": "2023-02-09T21:08:48.825Z"
   },
   {
    "duration": 19590,
    "start_time": "2023-02-09T21:12:09.714Z"
   },
   {
    "duration": 19873,
    "start_time": "2023-02-09T21:15:02.744Z"
   },
   {
    "duration": 6,
    "start_time": "2023-02-09T21:18:25.501Z"
   },
   {
    "duration": 11,
    "start_time": "2023-02-09T21:18:25.510Z"
   },
   {
    "duration": 46,
    "start_time": "2023-02-09T21:18:25.524Z"
   },
   {
    "duration": 39,
    "start_time": "2023-02-09T21:18:25.573Z"
   },
   {
    "duration": 8,
    "start_time": "2023-02-09T21:18:25.614Z"
   },
   {
    "duration": 22,
    "start_time": "2023-02-09T21:18:25.623Z"
   },
   {
    "duration": 1541,
    "start_time": "2023-02-09T21:18:25.647Z"
   },
   {
    "duration": 278,
    "start_time": "2023-02-09T21:18:27.190Z"
   },
   {
    "duration": 21,
    "start_time": "2023-02-09T21:18:27.469Z"
   },
   {
    "duration": 23,
    "start_time": "2023-02-09T21:18:27.504Z"
   },
   {
    "duration": 8,
    "start_time": "2023-02-09T21:18:27.529Z"
   },
   {
    "duration": 39,
    "start_time": "2023-02-09T21:18:27.539Z"
   },
   {
    "duration": 29,
    "start_time": "2023-02-09T21:18:27.580Z"
   },
   {
    "duration": 180,
    "start_time": "2023-02-09T21:18:27.611Z"
   },
   {
    "duration": 20526,
    "start_time": "2023-02-09T21:18:27.793Z"
   },
   {
    "duration": 20584,
    "start_time": "2023-02-09T21:18:48.320Z"
   },
   {
    "duration": 106,
    "start_time": "2023-02-09T21:19:08.905Z"
   },
   {
    "duration": 28,
    "start_time": "2023-02-09T21:19:09.013Z"
   },
   {
    "duration": 9307,
    "start_time": "2023-02-09T22:05:01.405Z"
   },
   {
    "duration": 19642,
    "start_time": "2023-02-09T22:05:26.269Z"
   },
   {
    "duration": 5,
    "start_time": "2023-02-09T22:12:53.559Z"
   },
   {
    "duration": 1593,
    "start_time": "2023-02-10T09:03:56.686Z"
   },
   {
    "duration": 4,
    "start_time": "2023-02-10T09:03:58.282Z"
   },
   {
    "duration": 12,
    "start_time": "2023-02-10T09:03:58.288Z"
   },
   {
    "duration": 102,
    "start_time": "2023-02-10T09:03:58.301Z"
   },
   {
    "duration": 58,
    "start_time": "2023-02-10T09:03:58.405Z"
   },
   {
    "duration": 7,
    "start_time": "2023-02-10T09:03:58.464Z"
   },
   {
    "duration": 27,
    "start_time": "2023-02-10T09:03:58.472Z"
   },
   {
    "duration": 1784,
    "start_time": "2023-02-10T09:03:58.501Z"
   },
   {
    "duration": 158,
    "start_time": "2023-02-10T09:04:00.287Z"
   },
   {
    "duration": 16,
    "start_time": "2023-02-10T09:04:00.448Z"
   },
   {
    "duration": 53,
    "start_time": "2023-02-10T09:04:00.466Z"
   },
   {
    "duration": 34,
    "start_time": "2023-02-10T09:04:00.520Z"
   },
   {
    "duration": 77,
    "start_time": "2023-02-10T09:04:00.556Z"
   },
   {
    "duration": 22,
    "start_time": "2023-02-10T09:04:00.635Z"
   },
   {
    "duration": 182,
    "start_time": "2023-02-10T09:04:00.658Z"
   },
   {
    "duration": 21735,
    "start_time": "2023-02-10T09:04:00.842Z"
   },
   {
    "duration": 26062,
    "start_time": "2023-02-10T09:04:22.578Z"
   },
   {
    "duration": 111,
    "start_time": "2023-02-10T09:04:48.643Z"
   },
   {
    "duration": 27,
    "start_time": "2023-02-10T09:04:48.756Z"
   },
   {
    "duration": 167,
    "start_time": "2023-02-10T09:07:21.922Z"
   },
   {
    "duration": 181,
    "start_time": "2023-02-10T09:08:55.450Z"
   },
   {
    "duration": 125,
    "start_time": "2023-02-10T09:28:55.840Z"
   },
   {
    "duration": 5,
    "start_time": "2023-02-10T09:29:04.694Z"
   },
   {
    "duration": 22040,
    "start_time": "2023-02-10T09:29:11.800Z"
   },
   {
    "duration": 5,
    "start_time": "2023-02-10T09:32:35.282Z"
   },
   {
    "duration": 25336,
    "start_time": "2023-02-10T09:33:03.810Z"
   },
   {
    "duration": 5,
    "start_time": "2023-02-10T09:41:47.890Z"
   },
   {
    "duration": 32,
    "start_time": "2023-02-10T09:41:47.897Z"
   },
   {
    "duration": 24,
    "start_time": "2023-02-10T09:41:47.931Z"
   },
   {
    "duration": 12,
    "start_time": "2023-02-10T09:41:47.958Z"
   },
   {
    "duration": 10,
    "start_time": "2023-02-10T09:41:47.972Z"
   },
   {
    "duration": 44,
    "start_time": "2023-02-10T09:41:47.983Z"
   },
   {
    "duration": 52,
    "start_time": "2023-02-10T09:41:48.029Z"
   },
   {
    "duration": 7,
    "start_time": "2023-02-10T09:41:48.084Z"
   },
   {
    "duration": 25,
    "start_time": "2023-02-10T09:41:48.093Z"
   },
   {
    "duration": 2001,
    "start_time": "2023-02-10T09:41:48.139Z"
   },
   {
    "duration": 222,
    "start_time": "2023-02-10T09:41:50.142Z"
   },
   {
    "duration": 25,
    "start_time": "2023-02-10T09:41:50.367Z"
   },
   {
    "duration": 24,
    "start_time": "2023-02-10T09:41:50.396Z"
   },
   {
    "duration": 20,
    "start_time": "2023-02-10T09:41:50.422Z"
   },
   {
    "duration": 43,
    "start_time": "2023-02-10T09:41:50.447Z"
   },
   {
    "duration": 22,
    "start_time": "2023-02-10T09:41:50.492Z"
   },
   {
    "duration": 48029,
    "start_time": "2023-02-10T09:41:50.516Z"
   },
   {
    "duration": 206,
    "start_time": "2023-02-10T09:42:38.548Z"
   },
   {
    "duration": 28,
    "start_time": "2023-02-10T09:42:38.755Z"
   },
   {
    "duration": 5,
    "start_time": "2023-02-10T10:21:40.886Z"
   },
   {
    "duration": 8,
    "start_time": "2023-02-10T10:21:40.893Z"
   },
   {
    "duration": 7,
    "start_time": "2023-02-10T10:21:40.902Z"
   },
   {
    "duration": 7,
    "start_time": "2023-02-10T10:21:40.910Z"
   },
   {
    "duration": 7,
    "start_time": "2023-02-10T10:21:40.919Z"
   },
   {
    "duration": 43,
    "start_time": "2023-02-10T10:21:40.928Z"
   },
   {
    "duration": 37,
    "start_time": "2023-02-10T10:21:40.972Z"
   },
   {
    "duration": 6,
    "start_time": "2023-02-10T10:21:41.010Z"
   },
   {
    "duration": 23,
    "start_time": "2023-02-10T10:21:41.018Z"
   },
   {
    "duration": 1648,
    "start_time": "2023-02-10T10:21:41.043Z"
   },
   {
    "duration": 154,
    "start_time": "2023-02-10T10:21:42.693Z"
   },
   {
    "duration": 16,
    "start_time": "2023-02-10T10:21:42.849Z"
   },
   {
    "duration": 23,
    "start_time": "2023-02-10T10:21:42.867Z"
   },
   {
    "duration": 7,
    "start_time": "2023-02-10T10:21:42.893Z"
   },
   {
    "duration": 48,
    "start_time": "2023-02-10T10:21:42.902Z"
   },
   {
    "duration": 24,
    "start_time": "2023-02-10T10:21:42.952Z"
   },
   {
    "duration": 49479,
    "start_time": "2023-02-10T10:21:42.977Z"
   },
   {
    "duration": 190,
    "start_time": "2023-02-10T10:22:32.458Z"
   },
   {
    "duration": 40,
    "start_time": "2023-02-10T10:22:32.650Z"
   },
   {
    "duration": 6,
    "start_time": "2023-02-10T10:38:20.970Z"
   },
   {
    "duration": 8,
    "start_time": "2023-02-10T10:38:20.979Z"
   },
   {
    "duration": 8,
    "start_time": "2023-02-10T10:38:20.989Z"
   },
   {
    "duration": 8,
    "start_time": "2023-02-10T10:38:20.999Z"
   },
   {
    "duration": 10,
    "start_time": "2023-02-10T10:38:21.009Z"
   },
   {
    "duration": 63,
    "start_time": "2023-02-10T10:38:21.020Z"
   },
   {
    "duration": 41,
    "start_time": "2023-02-10T10:38:21.085Z"
   },
   {
    "duration": 6,
    "start_time": "2023-02-10T10:38:21.128Z"
   },
   {
    "duration": 35,
    "start_time": "2023-02-10T10:38:21.136Z"
   },
   {
    "duration": 1790,
    "start_time": "2023-02-10T10:38:21.173Z"
   },
   {
    "duration": 157,
    "start_time": "2023-02-10T10:38:22.970Z"
   },
   {
    "duration": 37,
    "start_time": "2023-02-10T10:38:23.129Z"
   },
   {
    "duration": 15,
    "start_time": "2023-02-10T10:38:23.172Z"
   },
   {
    "duration": 7,
    "start_time": "2023-02-10T10:38:23.190Z"
   },
   {
    "duration": 33,
    "start_time": "2023-02-10T10:38:23.199Z"
   },
   {
    "duration": 40,
    "start_time": "2023-02-10T10:38:23.234Z"
   },
   {
    "duration": 101887,
    "start_time": "2023-02-10T10:38:50.572Z"
   },
   {
    "duration": 96158,
    "start_time": "2023-02-10T10:41:13.297Z"
   },
   {
    "duration": 5,
    "start_time": "2023-02-10T10:46:12.772Z"
   },
   {
    "duration": 7,
    "start_time": "2023-02-10T10:46:12.779Z"
   },
   {
    "duration": 8,
    "start_time": "2023-02-10T10:46:12.788Z"
   },
   {
    "duration": 9,
    "start_time": "2023-02-10T10:46:12.797Z"
   },
   {
    "duration": 9,
    "start_time": "2023-02-10T10:46:12.808Z"
   },
   {
    "duration": 48,
    "start_time": "2023-02-10T10:46:12.819Z"
   },
   {
    "duration": 40,
    "start_time": "2023-02-10T10:46:12.869Z"
   },
   {
    "duration": 6,
    "start_time": "2023-02-10T10:46:12.911Z"
   },
   {
    "duration": 34,
    "start_time": "2023-02-10T10:46:12.919Z"
   },
   {
    "duration": 1780,
    "start_time": "2023-02-10T10:46:12.955Z"
   },
   {
    "duration": 175,
    "start_time": "2023-02-10T10:46:14.741Z"
   },
   {
    "duration": 27,
    "start_time": "2023-02-10T10:46:14.918Z"
   },
   {
    "duration": 19,
    "start_time": "2023-02-10T10:46:14.953Z"
   },
   {
    "duration": 8,
    "start_time": "2023-02-10T10:46:14.975Z"
   },
   {
    "duration": 38,
    "start_time": "2023-02-10T10:46:14.985Z"
   },
   {
    "duration": 35,
    "start_time": "2023-02-10T10:46:15.025Z"
   },
   {
    "duration": 81101,
    "start_time": "2023-02-10T10:46:15.062Z"
   },
   {
    "duration": 126,
    "start_time": "2023-02-10T10:47:36.170Z"
   },
   {
    "duration": 32,
    "start_time": "2023-02-10T10:47:36.348Z"
   },
   {
    "duration": 91876,
    "start_time": "2023-02-10T10:47:36.382Z"
   },
   {
    "duration": 20,
    "start_time": "2023-02-10T11:18:22.868Z"
   },
   {
    "duration": 7,
    "start_time": "2023-02-10T11:18:41.219Z"
   },
   {
    "duration": 13,
    "start_time": "2023-02-10T11:37:31.216Z"
   },
   {
    "duration": 13,
    "start_time": "2023-02-10T11:38:11.408Z"
   },
   {
    "duration": 21,
    "start_time": "2023-02-10T11:38:51.496Z"
   },
   {
    "duration": 23,
    "start_time": "2023-02-10T11:39:29.105Z"
   },
   {
    "duration": 47,
    "start_time": "2023-02-10T11:47:09.556Z"
   },
   {
    "duration": 15,
    "start_time": "2023-02-10T11:48:01.387Z"
   },
   {
    "duration": 16,
    "start_time": "2023-02-10T11:48:23.690Z"
   },
   {
    "duration": 21,
    "start_time": "2023-02-10T11:48:32.034Z"
   },
   {
    "duration": 22,
    "start_time": "2023-02-10T11:49:03.673Z"
   },
   {
    "duration": 15,
    "start_time": "2023-02-10T11:49:15.914Z"
   },
   {
    "duration": 16,
    "start_time": "2023-02-10T11:49:28.642Z"
   },
   {
    "duration": 14,
    "start_time": "2023-02-10T11:49:50.870Z"
   },
   {
    "duration": 16,
    "start_time": "2023-02-10T11:50:12.795Z"
   },
   {
    "duration": 14,
    "start_time": "2023-02-10T11:51:28.767Z"
   },
   {
    "duration": 86492,
    "start_time": "2023-02-10T11:54:59.565Z"
   },
   {
    "duration": 90187,
    "start_time": "2023-02-10T11:56:39.373Z"
   },
   {
    "duration": 6,
    "start_time": "2023-02-10T12:10:50.153Z"
   },
   {
    "duration": 25,
    "start_time": "2023-02-10T12:10:50.161Z"
   },
   {
    "duration": 6,
    "start_time": "2023-02-10T12:10:50.188Z"
   },
   {
    "duration": 8,
    "start_time": "2023-02-10T12:10:50.196Z"
   },
   {
    "duration": 14,
    "start_time": "2023-02-10T12:10:50.206Z"
   },
   {
    "duration": 71,
    "start_time": "2023-02-10T12:10:50.221Z"
   },
   {
    "duration": 44,
    "start_time": "2023-02-10T12:10:50.294Z"
   },
   {
    "duration": 13,
    "start_time": "2023-02-10T12:10:50.342Z"
   },
   {
    "duration": 23,
    "start_time": "2023-02-10T12:10:50.357Z"
   },
   {
    "duration": 1733,
    "start_time": "2023-02-10T12:10:50.383Z"
   },
   {
    "duration": 177,
    "start_time": "2023-02-10T12:10:52.117Z"
   },
   {
    "duration": 16,
    "start_time": "2023-02-10T12:10:52.296Z"
   },
   {
    "duration": 50,
    "start_time": "2023-02-10T12:10:52.313Z"
   },
   {
    "duration": 28,
    "start_time": "2023-02-10T12:10:52.364Z"
   },
   {
    "duration": 56,
    "start_time": "2023-02-10T12:10:52.393Z"
   },
   {
    "duration": 25,
    "start_time": "2023-02-10T12:10:52.452Z"
   },
   {
    "duration": 83685,
    "start_time": "2023-02-10T12:10:52.479Z"
   },
   {
    "duration": 113,
    "start_time": "2023-02-10T12:12:16.244Z"
   },
   {
    "duration": 96,
    "start_time": "2023-02-10T12:12:16.359Z"
   },
   {
    "duration": 74692,
    "start_time": "2023-02-10T12:12:16.457Z"
   },
   {
    "duration": 7,
    "start_time": "2023-02-10T12:15:12.948Z"
   },
   {
    "duration": 17,
    "start_time": "2023-02-10T12:17:31.763Z"
   },
   {
    "duration": 5,
    "start_time": "2023-02-10T14:46:09.334Z"
   },
   {
    "duration": 33,
    "start_time": "2023-02-10T14:46:09.341Z"
   },
   {
    "duration": 9,
    "start_time": "2023-02-10T14:46:09.376Z"
   },
   {
    "duration": 9,
    "start_time": "2023-02-10T14:46:09.387Z"
   },
   {
    "duration": 12,
    "start_time": "2023-02-10T14:46:09.398Z"
   },
   {
    "duration": 65,
    "start_time": "2023-02-10T14:46:09.411Z"
   },
   {
    "duration": 45,
    "start_time": "2023-02-10T14:46:09.478Z"
   },
   {
    "duration": 7,
    "start_time": "2023-02-10T14:46:09.525Z"
   },
   {
    "duration": 21,
    "start_time": "2023-02-10T14:46:09.534Z"
   },
   {
    "duration": 1692,
    "start_time": "2023-02-10T14:46:09.557Z"
   },
   {
    "duration": 168,
    "start_time": "2023-02-10T14:46:11.251Z"
   },
   {
    "duration": 26,
    "start_time": "2023-02-10T14:46:11.420Z"
   },
   {
    "duration": 12,
    "start_time": "2023-02-10T14:46:11.448Z"
   },
   {
    "duration": 8,
    "start_time": "2023-02-10T14:46:11.461Z"
   },
   {
    "duration": 32,
    "start_time": "2023-02-10T14:46:11.470Z"
   },
   {
    "duration": 46,
    "start_time": "2023-02-10T14:46:11.504Z"
   },
   {
    "duration": 47098,
    "start_time": "2023-02-10T14:46:11.551Z"
   },
   {
    "duration": 114,
    "start_time": "2023-02-10T14:46:58.742Z"
   },
   {
    "duration": 26,
    "start_time": "2023-02-10T14:46:58.858Z"
   },
   {
    "duration": 49861,
    "start_time": "2023-02-10T14:46:58.886Z"
   },
   {
    "duration": 96,
    "start_time": "2023-02-10T14:47:48.749Z"
   },
   {
    "duration": 114,
    "start_time": "2023-02-10T14:47:48.847Z"
   },
   {
    "duration": 82,
    "start_time": "2023-02-10T14:47:48.963Z"
   },
   {
    "duration": 33,
    "start_time": "2023-02-10T14:47:49.047Z"
   },
   {
    "duration": 17,
    "start_time": "2023-02-10T14:55:38.497Z"
   },
   {
    "duration": 6,
    "start_time": "2023-02-10T14:57:04.665Z"
   },
   {
    "duration": 22,
    "start_time": "2023-02-10T14:57:04.673Z"
   },
   {
    "duration": 7,
    "start_time": "2023-02-10T14:57:04.697Z"
   },
   {
    "duration": 8,
    "start_time": "2023-02-10T14:57:04.707Z"
   },
   {
    "duration": 7,
    "start_time": "2023-02-10T14:57:04.718Z"
   },
   {
    "duration": 44,
    "start_time": "2023-02-10T14:57:04.726Z"
   },
   {
    "duration": 44,
    "start_time": "2023-02-10T14:57:04.772Z"
   },
   {
    "duration": 7,
    "start_time": "2023-02-10T14:57:04.818Z"
   },
   {
    "duration": 27,
    "start_time": "2023-02-10T14:57:04.827Z"
   },
   {
    "duration": 1817,
    "start_time": "2023-02-10T14:57:04.856Z"
   },
   {
    "duration": 162,
    "start_time": "2023-02-10T14:57:06.675Z"
   },
   {
    "duration": 18,
    "start_time": "2023-02-10T14:57:06.840Z"
   },
   {
    "duration": 14,
    "start_time": "2023-02-10T14:57:06.860Z"
   },
   {
    "duration": 7,
    "start_time": "2023-02-10T14:57:06.877Z"
   },
   {
    "duration": 57,
    "start_time": "2023-02-10T14:57:06.886Z"
   },
   {
    "duration": 31,
    "start_time": "2023-02-10T14:57:06.945Z"
   },
   {
    "duration": 3,
    "start_time": "2023-02-10T14:57:06.978Z"
   },
   {
    "duration": 26,
    "start_time": "2023-02-10T14:57:06.983Z"
   },
   {
    "duration": 54,
    "start_time": "2023-02-10T14:57:07.011Z"
   },
   {
    "duration": 23,
    "start_time": "2023-02-10T14:57:07.067Z"
   },
   {
    "duration": 32,
    "start_time": "2023-02-10T14:57:07.092Z"
   },
   {
    "duration": 22,
    "start_time": "2023-02-10T14:57:07.126Z"
   },
   {
    "duration": 49,
    "start_time": "2023-02-10T14:57:10.417Z"
   },
   {
    "duration": 32,
    "start_time": "2023-02-10T14:58:48.127Z"
   },
   {
    "duration": 5,
    "start_time": "2023-02-10T15:02:29.873Z"
   },
   {
    "duration": 8,
    "start_time": "2023-02-10T15:02:29.880Z"
   },
   {
    "duration": 6,
    "start_time": "2023-02-10T15:02:29.889Z"
   },
   {
    "duration": 10,
    "start_time": "2023-02-10T15:02:29.897Z"
   },
   {
    "duration": 7,
    "start_time": "2023-02-10T15:02:29.910Z"
   },
   {
    "duration": 48,
    "start_time": "2023-02-10T15:02:29.919Z"
   },
   {
    "duration": 43,
    "start_time": "2023-02-10T15:02:29.968Z"
   },
   {
    "duration": 9,
    "start_time": "2023-02-10T15:02:30.013Z"
   },
   {
    "duration": 38,
    "start_time": "2023-02-10T15:02:30.024Z"
   },
   {
    "duration": 1949,
    "start_time": "2023-02-10T15:02:30.064Z"
   },
   {
    "duration": 180,
    "start_time": "2023-02-10T15:02:32.015Z"
   },
   {
    "duration": 19,
    "start_time": "2023-02-10T15:02:32.197Z"
   },
   {
    "duration": 34,
    "start_time": "2023-02-10T15:02:32.218Z"
   },
   {
    "duration": 19,
    "start_time": "2023-02-10T15:02:32.256Z"
   },
   {
    "duration": 57,
    "start_time": "2023-02-10T15:02:32.277Z"
   },
   {
    "duration": 38,
    "start_time": "2023-02-10T15:02:32.336Z"
   },
   {
    "duration": 2,
    "start_time": "2023-02-10T15:02:32.376Z"
   },
   {
    "duration": 66,
    "start_time": "2023-02-10T15:02:32.380Z"
   },
   {
    "duration": 34,
    "start_time": "2023-02-10T15:02:32.449Z"
   },
   {
    "duration": 3,
    "start_time": "2023-02-10T15:02:32.485Z"
   },
   {
    "duration": 26,
    "start_time": "2023-02-10T15:02:32.489Z"
   },
   {
    "duration": 48,
    "start_time": "2023-02-10T15:02:32.516Z"
   },
   {
    "duration": 94,
    "start_time": "2023-02-10T15:02:32.565Z"
   },
   {
    "duration": 51624,
    "start_time": "2023-02-10T15:02:38.424Z"
   },
   {
    "duration": 5,
    "start_time": "2023-02-10T15:17:31.975Z"
   },
   {
    "duration": 33,
    "start_time": "2023-02-10T15:17:31.981Z"
   },
   {
    "duration": 13,
    "start_time": "2023-02-10T15:17:32.015Z"
   },
   {
    "duration": 53,
    "start_time": "2023-02-10T15:17:32.030Z"
   },
   {
    "duration": 26,
    "start_time": "2023-02-10T15:17:32.086Z"
   },
   {
    "duration": 73,
    "start_time": "2023-02-10T15:17:32.114Z"
   },
   {
    "duration": 47,
    "start_time": "2023-02-10T15:17:32.189Z"
   },
   {
    "duration": 7,
    "start_time": "2023-02-10T15:17:32.238Z"
   },
   {
    "duration": 45,
    "start_time": "2023-02-10T15:17:32.247Z"
   },
   {
    "duration": 1674,
    "start_time": "2023-02-10T15:17:32.294Z"
   },
   {
    "duration": 163,
    "start_time": "2023-02-10T15:17:33.970Z"
   },
   {
    "duration": 16,
    "start_time": "2023-02-10T15:17:34.140Z"
   },
   {
    "duration": 13,
    "start_time": "2023-02-10T15:17:34.158Z"
   },
   {
    "duration": 7,
    "start_time": "2023-02-10T15:17:34.174Z"
   },
   {
    "duration": 55,
    "start_time": "2023-02-10T15:17:34.183Z"
   },
   {
    "duration": 21,
    "start_time": "2023-02-10T15:17:34.240Z"
   },
   {
    "duration": 47386,
    "start_time": "2023-02-10T15:17:34.262Z"
   },
   {
    "duration": 113,
    "start_time": "2023-02-10T15:18:21.741Z"
   },
   {
    "duration": 26,
    "start_time": "2023-02-10T15:18:21.856Z"
   },
   {
    "duration": 48664,
    "start_time": "2023-02-10T15:18:21.884Z"
   },
   {
    "duration": 10,
    "start_time": "2023-02-10T15:19:10.640Z"
   },
   {
    "duration": 101,
    "start_time": "2023-02-10T15:19:10.653Z"
   },
   {
    "duration": 46,
    "start_time": "2023-02-10T15:19:10.755Z"
   },
   {
    "duration": 45,
    "start_time": "2023-02-10T15:19:10.803Z"
   },
   {
    "duration": 57091,
    "start_time": "2023-02-10T15:19:10.850Z"
   },
   {
    "duration": 66192,
    "start_time": "2023-02-10T15:20:07.949Z"
   },
   {
    "duration": 5,
    "start_time": "2023-02-10T16:37:51.018Z"
   },
   {
    "duration": 22,
    "start_time": "2023-02-10T16:37:51.025Z"
   },
   {
    "duration": 8,
    "start_time": "2023-02-10T16:37:51.049Z"
   },
   {
    "duration": 29,
    "start_time": "2023-02-10T16:37:51.060Z"
   },
   {
    "duration": 12,
    "start_time": "2023-02-10T16:37:51.091Z"
   },
   {
    "duration": 62,
    "start_time": "2023-02-10T16:37:51.104Z"
   },
   {
    "duration": 43,
    "start_time": "2023-02-10T16:37:51.168Z"
   },
   {
    "duration": 7,
    "start_time": "2023-02-10T16:37:51.213Z"
   },
   {
    "duration": 29,
    "start_time": "2023-02-10T16:37:51.222Z"
   },
   {
    "duration": 1619,
    "start_time": "2023-02-10T16:37:51.254Z"
   },
   {
    "duration": 177,
    "start_time": "2023-02-10T16:37:52.875Z"
   },
   {
    "duration": 27,
    "start_time": "2023-02-10T16:37:53.054Z"
   },
   {
    "duration": 16,
    "start_time": "2023-02-10T16:37:53.083Z"
   },
   {
    "duration": 39,
    "start_time": "2023-02-10T16:37:53.101Z"
   },
   {
    "duration": 42,
    "start_time": "2023-02-10T16:37:53.143Z"
   },
   {
    "duration": 23,
    "start_time": "2023-02-10T16:37:53.187Z"
   },
   {
    "duration": 49331,
    "start_time": "2023-02-10T16:37:53.211Z"
   },
   {
    "duration": 109,
    "start_time": "2023-02-10T16:38:42.547Z"
   },
   {
    "duration": 25,
    "start_time": "2023-02-10T16:38:42.658Z"
   },
   {
    "duration": 51461,
    "start_time": "2023-02-10T16:38:42.684Z"
   },
   {
    "duration": 101,
    "start_time": "2023-02-10T16:39:34.147Z"
   },
   {
    "duration": 101,
    "start_time": "2023-02-10T16:39:34.251Z"
   },
   {
    "duration": 35,
    "start_time": "2023-02-10T16:39:34.354Z"
   },
   {
    "duration": 23,
    "start_time": "2023-02-10T16:39:34.391Z"
   },
   {
    "duration": 57524,
    "start_time": "2023-02-10T16:39:34.416Z"
   },
   {
    "duration": 61600,
    "start_time": "2023-02-10T16:40:31.942Z"
   },
   {
    "duration": 107,
    "start_time": "2023-02-10T16:41:33.545Z"
   },
   {
    "duration": 16,
    "start_time": "2023-02-10T16:43:57.010Z"
   },
   {
    "duration": 16,
    "start_time": "2023-02-10T16:45:03.897Z"
   },
   {
    "duration": 15,
    "start_time": "2023-02-10T16:45:22.762Z"
   },
   {
    "duration": 16,
    "start_time": "2023-02-10T16:48:32.314Z"
   },
   {
    "duration": 4,
    "start_time": "2023-02-10T17:26:14.578Z"
   },
   {
    "duration": 6,
    "start_time": "2023-02-10T17:26:14.584Z"
   },
   {
    "duration": 7,
    "start_time": "2023-02-10T17:26:14.591Z"
   },
   {
    "duration": 7,
    "start_time": "2023-02-10T17:26:14.600Z"
   },
   {
    "duration": 18,
    "start_time": "2023-02-10T17:26:14.608Z"
   },
   {
    "duration": 68,
    "start_time": "2023-02-10T17:26:14.628Z"
   },
   {
    "duration": 41,
    "start_time": "2023-02-10T17:26:14.698Z"
   },
   {
    "duration": 7,
    "start_time": "2023-02-10T17:26:14.740Z"
   },
   {
    "duration": 22,
    "start_time": "2023-02-10T17:26:14.748Z"
   },
   {
    "duration": 1654,
    "start_time": "2023-02-10T17:26:14.773Z"
   },
   {
    "duration": 159,
    "start_time": "2023-02-10T17:26:16.440Z"
   },
   {
    "duration": 24,
    "start_time": "2023-02-10T17:26:16.601Z"
   },
   {
    "duration": 25,
    "start_time": "2023-02-10T17:26:16.627Z"
   },
   {
    "duration": 10,
    "start_time": "2023-02-10T17:26:16.654Z"
   },
   {
    "duration": 37,
    "start_time": "2023-02-10T17:26:16.665Z"
   },
   {
    "duration": 43,
    "start_time": "2023-02-10T17:26:16.704Z"
   },
   {
    "duration": 50091,
    "start_time": "2023-02-10T17:26:16.749Z"
   },
   {
    "duration": 112,
    "start_time": "2023-02-10T17:27:06.843Z"
   },
   {
    "duration": 28,
    "start_time": "2023-02-10T17:27:06.957Z"
   },
   {
    "duration": 52258,
    "start_time": "2023-02-10T17:27:06.987Z"
   },
   {
    "duration": 97,
    "start_time": "2023-02-10T17:27:59.247Z"
   },
   {
    "duration": 18,
    "start_time": "2023-02-10T17:27:59.345Z"
   },
   {
    "duration": 82,
    "start_time": "2023-02-10T17:27:59.365Z"
   },
   {
    "duration": 21,
    "start_time": "2023-02-10T17:27:59.448Z"
   },
   {
    "duration": 57780,
    "start_time": "2023-02-10T17:27:59.471Z"
   },
   {
    "duration": 64295,
    "start_time": "2023-02-10T17:28:57.344Z"
   },
   {
    "duration": 17,
    "start_time": "2023-02-10T17:30:01.641Z"
   },
   {
    "duration": 47,
    "start_time": "2023-02-10T17:30:01.661Z"
   },
   {
    "duration": 97,
    "start_time": "2023-02-10T17:30:01.710Z"
   },
   {
    "duration": 85,
    "start_time": "2023-02-10T17:34:58.680Z"
   },
   {
    "duration": 5,
    "start_time": "2023-02-10T19:48:46.874Z"
   },
   {
    "duration": 23,
    "start_time": "2023-02-10T19:48:46.881Z"
   },
   {
    "duration": 7,
    "start_time": "2023-02-10T19:48:46.907Z"
   },
   {
    "duration": 17,
    "start_time": "2023-02-10T19:48:46.916Z"
   },
   {
    "duration": 9,
    "start_time": "2023-02-10T19:48:46.934Z"
   },
   {
    "duration": 49,
    "start_time": "2023-02-10T19:48:46.945Z"
   },
   {
    "duration": 45,
    "start_time": "2023-02-10T19:48:46.996Z"
   },
   {
    "duration": 8,
    "start_time": "2023-02-10T19:48:47.042Z"
   },
   {
    "duration": 37,
    "start_time": "2023-02-10T19:48:47.052Z"
   },
   {
    "duration": 1567,
    "start_time": "2023-02-10T19:48:47.092Z"
   },
   {
    "duration": 168,
    "start_time": "2023-02-10T19:48:48.661Z"
   },
   {
    "duration": 23,
    "start_time": "2023-02-10T19:48:48.831Z"
   },
   {
    "duration": 12,
    "start_time": "2023-02-10T19:48:48.856Z"
   },
   {
    "duration": 7,
    "start_time": "2023-02-10T19:48:48.870Z"
   },
   {
    "duration": 78,
    "start_time": "2023-02-10T19:48:48.879Z"
   },
   {
    "duration": 29,
    "start_time": "2023-02-10T19:48:48.959Z"
   },
   {
    "duration": 47348,
    "start_time": "2023-02-10T19:48:48.991Z"
   },
   {
    "duration": 114,
    "start_time": "2023-02-10T19:49:36.341Z"
   },
   {
    "duration": 32,
    "start_time": "2023-02-10T19:49:36.457Z"
   },
   {
    "duration": 50656,
    "start_time": "2023-02-10T19:49:36.490Z"
   },
   {
    "duration": 96,
    "start_time": "2023-02-10T19:50:27.148Z"
   },
   {
    "duration": 16,
    "start_time": "2023-02-10T19:50:27.246Z"
   },
   {
    "duration": 50,
    "start_time": "2023-02-10T19:50:27.264Z"
   },
   {
    "duration": 39,
    "start_time": "2023-02-10T19:50:27.316Z"
   },
   {
    "duration": 62683,
    "start_time": "2023-02-10T19:50:27.357Z"
   },
   {
    "duration": 64599,
    "start_time": "2023-02-10T19:51:30.042Z"
   },
   {
    "duration": 107,
    "start_time": "2023-02-10T19:52:34.644Z"
   },
   {
    "duration": 25,
    "start_time": "2023-02-10T19:52:34.754Z"
   },
   {
    "duration": 102,
    "start_time": "2023-02-10T19:52:34.782Z"
   },
   {
    "duration": 3464,
    "start_time": "2023-02-11T14:58:57.557Z"
   },
   {
    "duration": 4,
    "start_time": "2023-02-11T14:59:01.023Z"
   },
   {
    "duration": 24,
    "start_time": "2023-02-11T14:59:01.029Z"
   },
   {
    "duration": 34,
    "start_time": "2023-02-11T14:59:01.055Z"
   },
   {
    "duration": 21,
    "start_time": "2023-02-11T14:59:01.093Z"
   },
   {
    "duration": 193,
    "start_time": "2023-02-11T14:59:01.116Z"
   },
   {
    "duration": 51,
    "start_time": "2023-02-11T14:59:01.312Z"
   },
   {
    "duration": 8,
    "start_time": "2023-02-11T14:59:01.365Z"
   },
   {
    "duration": 33,
    "start_time": "2023-02-11T14:59:01.374Z"
   },
   {
    "duration": 1644,
    "start_time": "2023-02-11T14:59:01.409Z"
   },
   {
    "duration": 157,
    "start_time": "2023-02-11T14:59:03.055Z"
   },
   {
    "duration": 24,
    "start_time": "2023-02-11T14:59:03.214Z"
   },
   {
    "duration": 12,
    "start_time": "2023-02-11T14:59:03.240Z"
   },
   {
    "duration": 6,
    "start_time": "2023-02-11T14:59:03.256Z"
   },
   {
    "duration": 34,
    "start_time": "2023-02-11T14:59:03.264Z"
   },
   {
    "duration": 53,
    "start_time": "2023-02-11T14:59:03.299Z"
   },
   {
    "duration": 44187,
    "start_time": "2023-02-11T14:59:03.353Z"
   },
   {
    "duration": 119,
    "start_time": "2023-02-11T14:59:47.542Z"
   },
   {
    "duration": 96,
    "start_time": "2023-02-11T14:59:47.663Z"
   },
   {
    "duration": 42480,
    "start_time": "2023-02-11T14:59:47.760Z"
   },
   {
    "duration": 95,
    "start_time": "2023-02-11T15:00:30.243Z"
   },
   {
    "duration": 106,
    "start_time": "2023-02-11T15:00:30.340Z"
   },
   {
    "duration": 37,
    "start_time": "2023-02-11T15:00:30.448Z"
   },
   {
    "duration": 23,
    "start_time": "2023-02-11T15:00:30.488Z"
   },
   {
    "duration": 51101,
    "start_time": "2023-02-11T15:00:30.537Z"
   },
   {
    "duration": 52496,
    "start_time": "2023-02-11T15:01:21.641Z"
   },
   {
    "duration": 110,
    "start_time": "2023-02-11T15:02:14.141Z"
   },
   {
    "duration": 33,
    "start_time": "2023-02-11T15:02:14.254Z"
   },
   {
    "duration": 103,
    "start_time": "2023-02-11T15:02:14.289Z"
   },
   {
    "duration": 1609,
    "start_time": "2023-02-11T21:35:53.292Z"
   },
   {
    "duration": 4,
    "start_time": "2023-02-11T21:35:54.903Z"
   },
   {
    "duration": 11,
    "start_time": "2023-02-11T21:35:54.909Z"
   },
   {
    "duration": 11,
    "start_time": "2023-02-11T21:35:54.923Z"
   },
   {
    "duration": 12,
    "start_time": "2023-02-11T21:35:54.936Z"
   },
   {
    "duration": 201,
    "start_time": "2023-02-11T21:35:54.949Z"
   },
   {
    "duration": 48,
    "start_time": "2023-02-11T21:35:55.152Z"
   },
   {
    "duration": 7,
    "start_time": "2023-02-11T21:35:55.201Z"
   },
   {
    "duration": 514,
    "start_time": "2023-02-11T21:35:59.900Z"
   },
   {
    "duration": 5,
    "start_time": "2023-02-11T21:46:36.987Z"
   },
   {
    "duration": 7,
    "start_time": "2023-02-11T21:46:36.993Z"
   },
   {
    "duration": 5,
    "start_time": "2023-02-11T21:46:37.002Z"
   },
   {
    "duration": 7,
    "start_time": "2023-02-11T21:46:37.009Z"
   },
   {
    "duration": 8,
    "start_time": "2023-02-11T21:46:37.017Z"
   },
   {
    "duration": 46,
    "start_time": "2023-02-11T21:46:37.027Z"
   },
   {
    "duration": 39,
    "start_time": "2023-02-11T21:46:37.075Z"
   },
   {
    "duration": 7,
    "start_time": "2023-02-11T21:46:37.116Z"
   },
   {
    "duration": 29,
    "start_time": "2023-02-11T21:46:37.124Z"
   },
   {
    "duration": 364,
    "start_time": "2023-02-11T21:46:54.496Z"
   },
   {
    "duration": 4,
    "start_time": "2023-02-11T21:51:31.421Z"
   },
   {
    "duration": 19,
    "start_time": "2023-02-11T21:51:31.427Z"
   },
   {
    "duration": 40,
    "start_time": "2023-02-11T21:51:31.448Z"
   },
   {
    "duration": 85,
    "start_time": "2023-02-11T21:51:31.490Z"
   },
   {
    "duration": 35,
    "start_time": "2023-02-11T21:51:31.577Z"
   },
   {
    "duration": 69,
    "start_time": "2023-02-11T21:51:31.613Z"
   },
   {
    "duration": 41,
    "start_time": "2023-02-11T21:51:31.683Z"
   },
   {
    "duration": 10,
    "start_time": "2023-02-11T21:51:31.726Z"
   },
   {
    "duration": 40,
    "start_time": "2023-02-11T21:51:31.738Z"
   },
   {
    "duration": 76,
    "start_time": "2023-02-11T21:51:34.544Z"
   },
   {
    "duration": 77,
    "start_time": "2023-02-11T21:51:51.872Z"
   },
   {
    "duration": 366,
    "start_time": "2023-02-11T21:52:16.897Z"
   },
   {
    "duration": 4,
    "start_time": "2023-02-11T22:01:35.703Z"
   },
   {
    "duration": 6,
    "start_time": "2023-02-11T22:01:35.709Z"
   },
   {
    "duration": 6,
    "start_time": "2023-02-11T22:01:35.717Z"
   },
   {
    "duration": 7,
    "start_time": "2023-02-11T22:01:35.725Z"
   },
   {
    "duration": 9,
    "start_time": "2023-02-11T22:01:35.734Z"
   },
   {
    "duration": 47,
    "start_time": "2023-02-11T22:01:35.745Z"
   },
   {
    "duration": 40,
    "start_time": "2023-02-11T22:01:35.794Z"
   },
   {
    "duration": 7,
    "start_time": "2023-02-11T22:01:35.836Z"
   },
   {
    "duration": 21,
    "start_time": "2023-02-11T22:01:35.844Z"
   },
   {
    "duration": 353,
    "start_time": "2023-02-11T22:01:38.083Z"
   },
   {
    "duration": 4,
    "start_time": "2023-02-11T22:02:22.431Z"
   },
   {
    "duration": 9,
    "start_time": "2023-02-11T22:02:22.437Z"
   },
   {
    "duration": 8,
    "start_time": "2023-02-11T22:02:22.448Z"
   },
   {
    "duration": 12,
    "start_time": "2023-02-11T22:02:22.458Z"
   },
   {
    "duration": 14,
    "start_time": "2023-02-11T22:02:22.472Z"
   },
   {
    "duration": 47,
    "start_time": "2023-02-11T22:02:22.488Z"
   },
   {
    "duration": 42,
    "start_time": "2023-02-11T22:02:22.537Z"
   },
   {
    "duration": 7,
    "start_time": "2023-02-11T22:02:22.581Z"
   },
   {
    "duration": 37,
    "start_time": "2023-02-11T22:02:22.590Z"
   },
   {
    "duration": 365,
    "start_time": "2023-02-11T22:02:24.443Z"
   },
   {
    "duration": 4,
    "start_time": "2023-02-11T22:03:52.488Z"
   },
   {
    "duration": 46,
    "start_time": "2023-02-11T22:03:52.494Z"
   },
   {
    "duration": 23,
    "start_time": "2023-02-11T22:03:52.542Z"
   },
   {
    "duration": 38,
    "start_time": "2023-02-11T22:03:52.567Z"
   },
   {
    "duration": 50,
    "start_time": "2023-02-11T22:03:52.607Z"
   },
   {
    "duration": 86,
    "start_time": "2023-02-11T22:03:52.658Z"
   },
   {
    "duration": 47,
    "start_time": "2023-02-11T22:03:52.747Z"
   },
   {
    "duration": 6,
    "start_time": "2023-02-11T22:03:52.796Z"
   },
   {
    "duration": 37,
    "start_time": "2023-02-11T22:03:52.803Z"
   },
   {
    "duration": 402,
    "start_time": "2023-02-11T22:03:52.843Z"
   },
   {
    "duration": 1532,
    "start_time": "2023-02-11T22:03:53.246Z"
   },
   {
    "duration": 148,
    "start_time": "2023-02-11T22:03:54.780Z"
   },
   {
    "duration": 17,
    "start_time": "2023-02-11T22:03:54.930Z"
   },
   {
    "duration": 15,
    "start_time": "2023-02-11T22:03:54.948Z"
   },
   {
    "duration": 15,
    "start_time": "2023-02-11T22:03:54.965Z"
   },
   {
    "duration": 50,
    "start_time": "2023-02-11T22:03:54.982Z"
   },
   {
    "duration": 29,
    "start_time": "2023-02-11T22:03:55.033Z"
   },
   {
    "duration": 46766,
    "start_time": "2023-02-11T22:03:55.064Z"
   },
   {
    "duration": 191,
    "start_time": "2023-02-11T22:04:41.833Z"
   },
   {
    "duration": 30,
    "start_time": "2023-02-11T22:04:42.025Z"
   },
   {
    "duration": 47069,
    "start_time": "2023-02-11T22:04:42.057Z"
   },
   {
    "duration": 97,
    "start_time": "2023-02-11T22:05:29.128Z"
   },
   {
    "duration": 95,
    "start_time": "2023-02-11T22:05:29.227Z"
   },
   {
    "duration": 37,
    "start_time": "2023-02-11T22:05:29.324Z"
   },
   {
    "duration": 23,
    "start_time": "2023-02-11T22:05:29.363Z"
   },
   {
    "duration": 59743,
    "start_time": "2023-02-11T22:05:29.387Z"
   },
   {
    "duration": 59199,
    "start_time": "2023-02-11T22:06:29.222Z"
   },
   {
    "duration": 107,
    "start_time": "2023-02-11T22:07:28.426Z"
   },
   {
    "duration": 23,
    "start_time": "2023-02-11T22:07:28.535Z"
   },
   {
    "duration": 95,
    "start_time": "2023-02-11T22:07:28.560Z"
   },
   {
    "duration": 109,
    "start_time": "2023-02-11T22:42:49.981Z"
   },
   {
    "duration": 17,
    "start_time": "2023-02-11T22:43:13.853Z"
   },
   {
    "duration": 311,
    "start_time": "2023-02-11T22:43:31.397Z"
   },
   {
    "duration": 305,
    "start_time": "2023-02-11T22:43:43.725Z"
   },
   {
    "duration": 294,
    "start_time": "2023-02-11T22:43:59.209Z"
   },
   {
    "duration": 308,
    "start_time": "2023-02-11T22:44:54.590Z"
   },
   {
    "duration": 322,
    "start_time": "2023-02-11T22:45:33.934Z"
   },
   {
    "duration": 294,
    "start_time": "2023-02-11T22:45:51.910Z"
   },
   {
    "duration": 499,
    "start_time": "2023-02-11T22:52:20.497Z"
   },
   {
    "duration": 193,
    "start_time": "2023-02-11T22:53:41.328Z"
   },
   {
    "duration": 11,
    "start_time": "2023-02-11T23:00:13.856Z"
   },
   {
    "duration": 73,
    "start_time": "2023-02-11T23:00:40.368Z"
   },
   {
    "duration": 32,
    "start_time": "2023-02-11T23:02:44.321Z"
   },
   {
    "duration": 4,
    "start_time": "2023-02-12T01:09:20.914Z"
   },
   {
    "duration": 15,
    "start_time": "2023-02-12T01:09:20.920Z"
   },
   {
    "duration": 28,
    "start_time": "2023-02-12T01:09:20.936Z"
   },
   {
    "duration": 10,
    "start_time": "2023-02-12T01:09:20.966Z"
   },
   {
    "duration": 11,
    "start_time": "2023-02-12T01:09:20.977Z"
   },
   {
    "duration": 46,
    "start_time": "2023-02-12T01:09:20.990Z"
   },
   {
    "duration": 38,
    "start_time": "2023-02-12T01:09:21.038Z"
   },
   {
    "duration": 6,
    "start_time": "2023-02-12T01:09:21.078Z"
   },
   {
    "duration": 38,
    "start_time": "2023-02-12T01:09:21.086Z"
   },
   {
    "duration": 459,
    "start_time": "2023-02-12T01:09:21.126Z"
   },
   {
    "duration": 1413,
    "start_time": "2023-02-12T01:09:21.587Z"
   },
   {
    "duration": 152,
    "start_time": "2023-02-12T01:09:23.003Z"
   },
   {
    "duration": 156,
    "start_time": "2023-02-12T01:09:23.157Z"
   },
   {
    "duration": 15,
    "start_time": "2023-02-12T01:09:23.315Z"
   },
   {
    "duration": 7,
    "start_time": "2023-02-12T01:09:23.331Z"
   },
   {
    "duration": 31,
    "start_time": "2023-02-12T01:09:23.340Z"
   },
   {
    "duration": 48,
    "start_time": "2023-02-12T01:09:23.373Z"
   },
   {
    "duration": 48004,
    "start_time": "2023-02-12T01:09:23.422Z"
   },
   {
    "duration": 49797,
    "start_time": "2023-02-12T01:10:11.429Z"
   },
   {
    "duration": 94,
    "start_time": "2023-02-12T01:11:01.229Z"
   },
   {
    "duration": 105,
    "start_time": "2023-02-12T01:11:01.325Z"
   },
   {
    "duration": 41,
    "start_time": "2023-02-12T01:11:01.431Z"
   },
   {
    "duration": 47,
    "start_time": "2023-02-12T01:11:01.474Z"
   },
   {
    "duration": 59003,
    "start_time": "2023-02-12T01:11:01.523Z"
   },
   {
    "duration": 58800,
    "start_time": "2023-02-12T01:12:00.528Z"
   },
   {
    "duration": 107,
    "start_time": "2023-02-12T01:12:59.331Z"
   },
   {
    "duration": 98,
    "start_time": "2023-02-12T01:12:59.440Z"
   },
   {
    "duration": 53,
    "start_time": "2023-02-12T01:12:59.541Z"
   },
   {
    "duration": 199,
    "start_time": "2023-02-12T01:12:59.595Z"
   },
   {
    "duration": 60,
    "start_time": "2023-02-12T01:15:28.960Z"
   },
   {
    "duration": 46,
    "start_time": "2023-02-12T01:17:32.337Z"
   },
   {
    "duration": 44,
    "start_time": "2023-02-12T01:17:47.449Z"
   },
   {
    "duration": 61,
    "start_time": "2023-02-12T01:18:00.521Z"
   },
   {
    "duration": 42,
    "start_time": "2023-02-12T11:46:24.463Z"
   },
   {
    "duration": 1483,
    "start_time": "2023-02-12T11:46:36.026Z"
   },
   {
    "duration": 3,
    "start_time": "2023-02-12T11:46:41.673Z"
   },
   {
    "duration": 4,
    "start_time": "2023-02-12T11:46:44.321Z"
   },
   {
    "duration": 3,
    "start_time": "2023-02-12T11:46:45.232Z"
   },
   {
    "duration": 3,
    "start_time": "2023-02-12T11:46:46.026Z"
   },
   {
    "duration": 3,
    "start_time": "2023-02-12T11:46:46.688Z"
   },
   {
    "duration": 6,
    "start_time": "2023-02-12T11:46:59.297Z"
   },
   {
    "duration": 6,
    "start_time": "2023-02-12T11:47:01.994Z"
   },
   {
    "duration": 5,
    "start_time": "2023-02-12T11:47:02.809Z"
   },
   {
    "duration": 8,
    "start_time": "2023-02-12T11:47:03.401Z"
   },
   {
    "duration": 4,
    "start_time": "2023-02-12T11:50:03.602Z"
   },
   {
    "duration": 6,
    "start_time": "2023-02-12T11:50:03.608Z"
   },
   {
    "duration": 8,
    "start_time": "2023-02-12T11:50:03.615Z"
   },
   {
    "duration": 9,
    "start_time": "2023-02-12T11:50:03.625Z"
   },
   {
    "duration": 7,
    "start_time": "2023-02-12T11:50:03.637Z"
   },
   {
    "duration": 87,
    "start_time": "2023-02-12T11:50:03.645Z"
   },
   {
    "duration": 44,
    "start_time": "2023-02-12T11:50:03.733Z"
   },
   {
    "duration": 6,
    "start_time": "2023-02-12T11:50:03.778Z"
   },
   {
    "duration": 21,
    "start_time": "2023-02-12T11:50:03.786Z"
   },
   {
    "duration": 381,
    "start_time": "2023-02-12T11:50:03.809Z"
   },
   {
    "duration": 1515,
    "start_time": "2023-02-12T11:50:04.196Z"
   },
   {
    "duration": 152,
    "start_time": "2023-02-12T11:50:05.712Z"
   },
   {
    "duration": 16,
    "start_time": "2023-02-12T11:50:05.867Z"
   },
   {
    "duration": 11,
    "start_time": "2023-02-12T11:50:05.885Z"
   },
   {
    "duration": 7,
    "start_time": "2023-02-12T11:50:05.897Z"
   },
   {
    "duration": 55,
    "start_time": "2023-02-12T11:50:05.906Z"
   },
   {
    "duration": 20,
    "start_time": "2023-02-12T11:50:05.962Z"
   },
   {
    "duration": 39968,
    "start_time": "2023-02-12T11:50:05.984Z"
   },
   {
    "duration": 42607,
    "start_time": "2023-02-12T11:50:46.039Z"
   },
   {
    "duration": 97,
    "start_time": "2023-02-12T11:51:28.740Z"
   },
   {
    "duration": 16,
    "start_time": "2023-02-12T11:51:28.839Z"
   },
   {
    "duration": 33,
    "start_time": "2023-02-12T11:51:28.857Z"
   },
   {
    "duration": 20,
    "start_time": "2023-02-12T11:51:28.892Z"
   },
   {
    "duration": 55801,
    "start_time": "2023-02-12T11:51:28.937Z"
   },
   {
    "duration": 53501,
    "start_time": "2023-02-12T11:52:24.740Z"
   },
   {
    "duration": 116,
    "start_time": "2023-02-12T11:53:18.242Z"
   },
   {
    "duration": 33,
    "start_time": "2023-02-12T11:53:18.360Z"
   },
   {
    "duration": 106,
    "start_time": "2023-02-12T11:53:18.395Z"
   },
   {
    "duration": 233,
    "start_time": "2023-02-12T11:53:18.504Z"
   }
  ],
  "colab": {
   "provenance": []
  },
  "kernelspec": {
   "display_name": "Python 3 (ipykernel)",
   "language": "python",
   "name": "python3"
  },
  "language_info": {
   "codemirror_mode": {
    "name": "ipython",
    "version": 3
   },
   "file_extension": ".py",
   "mimetype": "text/x-python",
   "name": "python",
   "nbconvert_exporter": "python",
   "pygments_lexer": "ipython3",
   "version": "3.9.13"
  },
  "toc": {
   "base_numbering": 1,
   "nav_menu": {},
   "number_sections": true,
   "sideBar": true,
   "skip_h1_title": true,
   "title_cell": "Содержание",
   "title_sidebar": "Contents",
   "toc_cell": true,
   "toc_position": {
    "height": "calc(100% - 180px)",
    "left": "10px",
    "top": "150px",
    "width": "366.188px"
   },
   "toc_section_display": true,
   "toc_window_display": true
  }
 },
 "nbformat": 4,
 "nbformat_minor": 1
}
