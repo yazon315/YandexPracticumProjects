{
 "cells": [
  {
   "cell_type": "markdown",
   "metadata": {},
   "source": [
    "# Проект: Реализация и проверка алгоритма защиты персональных данных клиентов"
   ]
  },
  {
   "cell_type": "markdown",
   "metadata": {},
   "source": [
    "**Оглавление**<a id='toc0_'></a>    \n",
    "- 1. [Загрузка и изучение данных](#toc1_)    \n",
    "  - 1.1. [Вывод по результатам раздела 1](#toc1_1_)    \n",
    "- 2. [Обоснование выбранного решения умножения матриц](#toc2_)    \n",
    "  - 2.1. [Вывод по результатам раздела 2](#toc2_1_)    \n",
    "- 3. [Алгоритм преобразования данных](#toc3_)    \n",
    "  - 3.1. [Вывод по разделу 3](#toc3_1_)    \n",
    "- 4. [Проверка алгоритма](#toc4_)    \n",
    "  - 4.1. [Проверка алгоритма с помощью матричных операций](#toc4_1_)    \n",
    "  - 4.2. [Проверка алгоритма с помощью моделей](#toc4_2_)    \n",
    "  - 4.3. [Вывод по разделу 4](#toc4_3_)    \n",
    "- 5. [Общий вывод](#toc5_)    \n",
    "\n",
    "<!-- vscode-jupyter-toc-config\n",
    "\tnumbering=true\n",
    "\tanchor=true\n",
    "\tflat=false\n",
    "\tminLevel=2\n",
    "\tmaxLevel=6\n",
    "\t/vscode-jupyter-toc-config -->\n",
    "<!-- THIS CELL WILL BE REPLACED ON TOC UPDATE. DO NOT WRITE YOUR TEXT IN THIS CELL -->"
   ]
  },
  {
   "cell_type": "markdown",
   "metadata": {},
   "source": [
    "**Задание:**\n",
    "\n",
    "Требуется защитить данные клиентов страховой компании «Хоть потоп». Для этого необходимо разработать метод преобразования данных, чтобы по ним было сложно восстановить персональную информацию. При этом качество моделей машинного обучения не должно ухудшиться.\n",
    "\n",
    "План работы:\n",
    "1. Загрузка и изучение данных.\n",
    "2. Обоснование выбранного решения умножения матриц.\n",
    "3. Алгоритм преобразования данных.\n",
    "4. Проверка алгоритма.\n",
    "5. Общий вывод."
   ]
  },
  {
   "cell_type": "markdown",
   "metadata": {},
   "source": [
    "## 1. <a id='toc1_'></a>[Загрузка и изучение данных](#toc0_)"
   ]
  },
  {
   "cell_type": "code",
   "execution_count": 1,
   "metadata": {},
   "outputs": [
    {
     "name": "stdout",
     "output_type": "stream",
     "text": [
      "Collecting phik\n",
      "  Downloading phik-0.12.3-cp39-cp39-manylinux_2_17_x86_64.manylinux2014_x86_64.whl (679 kB)\n",
      "\u001b[K     |████████████████████████████████| 679 kB 2.2 MB/s eta 0:00:01\n",
      "\u001b[?25hRequirement already satisfied: pandas>=0.25.1 in /opt/conda/lib/python3.9/site-packages (from phik) (1.2.4)\n",
      "Requirement already satisfied: joblib>=0.14.1 in /opt/conda/lib/python3.9/site-packages (from phik) (1.1.0)\n",
      "Requirement already satisfied: scipy>=1.5.2 in /opt/conda/lib/python3.9/site-packages (from phik) (1.9.1)\n",
      "Requirement already satisfied: numpy>=1.18.0 in /opt/conda/lib/python3.9/site-packages (from phik) (1.21.1)\n",
      "Requirement already satisfied: matplotlib>=2.2.3 in /opt/conda/lib/python3.9/site-packages (from phik) (3.3.4)\n",
      "Requirement already satisfied: pyparsing!=2.0.4,!=2.1.2,!=2.1.6,>=2.0.3 in /opt/conda/lib/python3.9/site-packages (from matplotlib>=2.2.3->phik) (2.4.7)\n",
      "Requirement already satisfied: kiwisolver>=1.0.1 in /opt/conda/lib/python3.9/site-packages (from matplotlib>=2.2.3->phik) (1.4.4)\n",
      "Requirement already satisfied: python-dateutil>=2.1 in /opt/conda/lib/python3.9/site-packages (from matplotlib>=2.2.3->phik) (2.8.1)\n",
      "Requirement already satisfied: pillow>=6.2.0 in /opt/conda/lib/python3.9/site-packages (from matplotlib>=2.2.3->phik) (8.4.0)\n",
      "Requirement already satisfied: cycler>=0.10 in /opt/conda/lib/python3.9/site-packages (from matplotlib>=2.2.3->phik) (0.11.0)\n",
      "Requirement already satisfied: pytz>=2017.3 in /opt/conda/lib/python3.9/site-packages (from pandas>=0.25.1->phik) (2021.1)\n",
      "Requirement already satisfied: six>=1.5 in /opt/conda/lib/python3.9/site-packages (from python-dateutil>=2.1->matplotlib>=2.2.3->phik) (1.16.0)\n",
      "Installing collected packages: phik\n",
      "Successfully installed phik-0.12.3\n"
     ]
    }
   ],
   "source": [
    "# загрузка библиотеки phik для построения матрицы корреляции с коэффициентом корреляции Phik\n",
    "!pip install phik -U"
   ]
  },
  {
   "cell_type": "code",
   "execution_count": 2,
   "metadata": {},
   "outputs": [],
   "source": [
    "# подключение библиотек\n",
    "import pandas as pd\n",
    "import numpy as np\n",
    "import matplotlib.pyplot as plt\n",
    "import seaborn as sns\n",
    "import phik\n",
    "from IPython.display import display\n",
    "from sklearn.metrics import mean_absolute_error\n",
    "from sklearn.metrics import r2_score\n",
    "from sklearn.linear_model import LinearRegression\n",
    "\n",
    "# константы\n",
    "PATH = 'D:/Education/Data_Science/Проекты курса DS/Проект_10/datasets/' # путь к файлам на ПК"
   ]
  },
  {
   "cell_type": "code",
   "execution_count": 3,
   "metadata": {},
   "outputs": [
    {
     "name": "stdout",
     "output_type": "stream",
     "text": [
      "<class 'pandas.core.frame.DataFrame'>\n",
      "RangeIndex: 5000 entries, 0 to 4999\n",
      "Data columns (total 5 columns):\n",
      " #   Column             Non-Null Count  Dtype  \n",
      "---  ------             --------------  -----  \n",
      " 0   Пол                5000 non-null   int64  \n",
      " 1   Возраст            5000 non-null   float64\n",
      " 2   Зарплата           5000 non-null   float64\n",
      " 3   Члены семьи        5000 non-null   int64  \n",
      " 4   Страховые выплаты  5000 non-null   int64  \n",
      "dtypes: float64(2), int64(3)\n",
      "memory usage: 195.4 KB\n"
     ]
    },
    {
     "data": {
      "text/html": [
       "<div>\n",
       "<style scoped>\n",
       "    .dataframe tbody tr th:only-of-type {\n",
       "        vertical-align: middle;\n",
       "    }\n",
       "\n",
       "    .dataframe tbody tr th {\n",
       "        vertical-align: top;\n",
       "    }\n",
       "\n",
       "    .dataframe thead th {\n",
       "        text-align: right;\n",
       "    }\n",
       "</style>\n",
       "<table border=\"1\" class=\"dataframe\">\n",
       "  <thead>\n",
       "    <tr style=\"text-align: right;\">\n",
       "      <th></th>\n",
       "      <th>Пол</th>\n",
       "      <th>Возраст</th>\n",
       "      <th>Зарплата</th>\n",
       "      <th>Члены семьи</th>\n",
       "      <th>Страховые выплаты</th>\n",
       "    </tr>\n",
       "  </thead>\n",
       "  <tbody>\n",
       "    <tr>\n",
       "      <th>0</th>\n",
       "      <td>1</td>\n",
       "      <td>41.0</td>\n",
       "      <td>49600.0</td>\n",
       "      <td>1</td>\n",
       "      <td>0</td>\n",
       "    </tr>\n",
       "    <tr>\n",
       "      <th>1</th>\n",
       "      <td>0</td>\n",
       "      <td>46.0</td>\n",
       "      <td>38000.0</td>\n",
       "      <td>1</td>\n",
       "      <td>1</td>\n",
       "    </tr>\n",
       "    <tr>\n",
       "      <th>2</th>\n",
       "      <td>0</td>\n",
       "      <td>29.0</td>\n",
       "      <td>21000.0</td>\n",
       "      <td>0</td>\n",
       "      <td>0</td>\n",
       "    </tr>\n",
       "    <tr>\n",
       "      <th>3</th>\n",
       "      <td>0</td>\n",
       "      <td>21.0</td>\n",
       "      <td>41700.0</td>\n",
       "      <td>2</td>\n",
       "      <td>0</td>\n",
       "    </tr>\n",
       "    <tr>\n",
       "      <th>4</th>\n",
       "      <td>1</td>\n",
       "      <td>28.0</td>\n",
       "      <td>26100.0</td>\n",
       "      <td>0</td>\n",
       "      <td>0</td>\n",
       "    </tr>\n",
       "    <tr>\n",
       "      <th>3158</th>\n",
       "      <td>1</td>\n",
       "      <td>27.0</td>\n",
       "      <td>30000.0</td>\n",
       "      <td>3</td>\n",
       "      <td>0</td>\n",
       "    </tr>\n",
       "    <tr>\n",
       "      <th>539</th>\n",
       "      <td>1</td>\n",
       "      <td>31.0</td>\n",
       "      <td>42600.0</td>\n",
       "      <td>1</td>\n",
       "      <td>0</td>\n",
       "    </tr>\n",
       "    <tr>\n",
       "      <th>4143</th>\n",
       "      <td>1</td>\n",
       "      <td>40.0</td>\n",
       "      <td>34200.0</td>\n",
       "      <td>0</td>\n",
       "      <td>0</td>\n",
       "    </tr>\n",
       "    <tr>\n",
       "      <th>1425</th>\n",
       "      <td>0</td>\n",
       "      <td>32.0</td>\n",
       "      <td>46500.0</td>\n",
       "      <td>1</td>\n",
       "      <td>0</td>\n",
       "    </tr>\n",
       "    <tr>\n",
       "      <th>722</th>\n",
       "      <td>0</td>\n",
       "      <td>25.0</td>\n",
       "      <td>40200.0</td>\n",
       "      <td>1</td>\n",
       "      <td>0</td>\n",
       "    </tr>\n",
       "    <tr>\n",
       "      <th>4995</th>\n",
       "      <td>0</td>\n",
       "      <td>28.0</td>\n",
       "      <td>35700.0</td>\n",
       "      <td>2</td>\n",
       "      <td>0</td>\n",
       "    </tr>\n",
       "    <tr>\n",
       "      <th>4996</th>\n",
       "      <td>0</td>\n",
       "      <td>34.0</td>\n",
       "      <td>52400.0</td>\n",
       "      <td>1</td>\n",
       "      <td>0</td>\n",
       "    </tr>\n",
       "    <tr>\n",
       "      <th>4997</th>\n",
       "      <td>0</td>\n",
       "      <td>20.0</td>\n",
       "      <td>33900.0</td>\n",
       "      <td>2</td>\n",
       "      <td>0</td>\n",
       "    </tr>\n",
       "    <tr>\n",
       "      <th>4998</th>\n",
       "      <td>1</td>\n",
       "      <td>22.0</td>\n",
       "      <td>32700.0</td>\n",
       "      <td>3</td>\n",
       "      <td>0</td>\n",
       "    </tr>\n",
       "    <tr>\n",
       "      <th>4999</th>\n",
       "      <td>1</td>\n",
       "      <td>28.0</td>\n",
       "      <td>40600.0</td>\n",
       "      <td>1</td>\n",
       "      <td>0</td>\n",
       "    </tr>\n",
       "  </tbody>\n",
       "</table>\n",
       "</div>"
      ],
      "text/plain": [
       "      Пол  Возраст  Зарплата  Члены семьи  Страховые выплаты\n",
       "0       1     41.0   49600.0            1                  0\n",
       "1       0     46.0   38000.0            1                  1\n",
       "2       0     29.0   21000.0            0                  0\n",
       "3       0     21.0   41700.0            2                  0\n",
       "4       1     28.0   26100.0            0                  0\n",
       "3158    1     27.0   30000.0            3                  0\n",
       "539     1     31.0   42600.0            1                  0\n",
       "4143    1     40.0   34200.0            0                  0\n",
       "1425    0     32.0   46500.0            1                  0\n",
       "722     0     25.0   40200.0            1                  0\n",
       "4995    0     28.0   35700.0            2                  0\n",
       "4996    0     34.0   52400.0            1                  0\n",
       "4997    0     20.0   33900.0            2                  0\n",
       "4998    1     22.0   32700.0            3                  0\n",
       "4999    1     28.0   40600.0            1                  0"
      ]
     },
     "metadata": {},
     "output_type": "display_data"
    },
    {
     "name": "stdout",
     "output_type": "stream",
     "text": [
      "Количество полных дубликатов: 153\n"
     ]
    }
   ],
   "source": [
    "# загрузка файла\n",
    "try:\n",
    "    data = pd.read_csv('/datasets/insurance.csv')\n",
    "except FileNotFoundError:\n",
    "    data = pd.read_csv(PATH+'insurance.csv')\n",
    "# обзор данных\n",
    "data.info()\n",
    "display(pd.concat([data.head(5), data.sample(5), data.tail(5)]))\n",
    "print('Количество полных дубликатов:', data.duplicated().sum())"
   ]
  },
  {
   "cell_type": "markdown",
   "metadata": {},
   "source": [
    "- В данных обнаружены полные дубликаты строк. Такое может быть, у нас не полные данные по клиентам и имеющиеся наборы признаков у разных клиентов могут совпадать.\n",
    "- Типы данных в столбцах \"Возраст\" и \"Зарплата\" по факту целочисленные. Изменим тип данных этих столбцов на соответствующий."
   ]
  },
  {
   "cell_type": "code",
   "execution_count": 4,
   "metadata": {},
   "outputs": [
    {
     "name": "stdout",
     "output_type": "stream",
     "text": [
      "\n",
      "Типы данных:\n",
      "Пол                  int64\n",
      "Возраст              int64\n",
      "Зарплата             int64\n",
      "Члены семьи          int64\n",
      "Страховые выплаты    int64\n",
      "dtype: object\n"
     ]
    }
   ],
   "source": [
    "# изменение типа столбцов\n",
    "data[['Возраст', 'Зарплата']] = data[['Возраст', 'Зарплата']].astype('int64')\n",
    "print('\\nТипы данных:')\n",
    "print(data.dtypes)"
   ]
  },
  {
   "cell_type": "code",
   "execution_count": 5,
   "metadata": {},
   "outputs": [
    {
     "name": "stdout",
     "output_type": "stream",
     "text": [
      "\n",
      "Статистическая информация:\n"
     ]
    },
    {
     "data": {
      "text/html": [
       "<div>\n",
       "<style scoped>\n",
       "    .dataframe tbody tr th:only-of-type {\n",
       "        vertical-align: middle;\n",
       "    }\n",
       "\n",
       "    .dataframe tbody tr th {\n",
       "        vertical-align: top;\n",
       "    }\n",
       "\n",
       "    .dataframe thead th {\n",
       "        text-align: right;\n",
       "    }\n",
       "</style>\n",
       "<table border=\"1\" class=\"dataframe\">\n",
       "  <thead>\n",
       "    <tr style=\"text-align: right;\">\n",
       "      <th></th>\n",
       "      <th>Пол</th>\n",
       "      <th>Возраст</th>\n",
       "      <th>Зарплата</th>\n",
       "      <th>Члены семьи</th>\n",
       "      <th>Страховые выплаты</th>\n",
       "    </tr>\n",
       "  </thead>\n",
       "  <tbody>\n",
       "    <tr>\n",
       "      <th>count</th>\n",
       "      <td>5000.000000</td>\n",
       "      <td>5000.000000</td>\n",
       "      <td>5000.000000</td>\n",
       "      <td>5000.000000</td>\n",
       "      <td>5000.000000</td>\n",
       "    </tr>\n",
       "    <tr>\n",
       "      <th>mean</th>\n",
       "      <td>0.499000</td>\n",
       "      <td>30.952800</td>\n",
       "      <td>39916.359400</td>\n",
       "      <td>1.194200</td>\n",
       "      <td>0.148000</td>\n",
       "    </tr>\n",
       "    <tr>\n",
       "      <th>std</th>\n",
       "      <td>0.500049</td>\n",
       "      <td>8.440807</td>\n",
       "      <td>9900.082063</td>\n",
       "      <td>1.091387</td>\n",
       "      <td>0.463183</td>\n",
       "    </tr>\n",
       "    <tr>\n",
       "      <th>min</th>\n",
       "      <td>0.000000</td>\n",
       "      <td>18.000000</td>\n",
       "      <td>5300.000000</td>\n",
       "      <td>0.000000</td>\n",
       "      <td>0.000000</td>\n",
       "    </tr>\n",
       "    <tr>\n",
       "      <th>25%</th>\n",
       "      <td>0.000000</td>\n",
       "      <td>24.000000</td>\n",
       "      <td>33300.000000</td>\n",
       "      <td>0.000000</td>\n",
       "      <td>0.000000</td>\n",
       "    </tr>\n",
       "    <tr>\n",
       "      <th>50%</th>\n",
       "      <td>0.000000</td>\n",
       "      <td>30.000000</td>\n",
       "      <td>40200.000000</td>\n",
       "      <td>1.000000</td>\n",
       "      <td>0.000000</td>\n",
       "    </tr>\n",
       "    <tr>\n",
       "      <th>75%</th>\n",
       "      <td>1.000000</td>\n",
       "      <td>37.000000</td>\n",
       "      <td>46600.000000</td>\n",
       "      <td>2.000000</td>\n",
       "      <td>0.000000</td>\n",
       "    </tr>\n",
       "    <tr>\n",
       "      <th>max</th>\n",
       "      <td>1.000000</td>\n",
       "      <td>65.000000</td>\n",
       "      <td>79000.000000</td>\n",
       "      <td>6.000000</td>\n",
       "      <td>5.000000</td>\n",
       "    </tr>\n",
       "  </tbody>\n",
       "</table>\n",
       "</div>"
      ],
      "text/plain": [
       "               Пол      Возраст      Зарплата  Члены семьи  Страховые выплаты\n",
       "count  5000.000000  5000.000000   5000.000000  5000.000000        5000.000000\n",
       "mean      0.499000    30.952800  39916.359400     1.194200           0.148000\n",
       "std       0.500049     8.440807   9900.082063     1.091387           0.463183\n",
       "min       0.000000    18.000000   5300.000000     0.000000           0.000000\n",
       "25%       0.000000    24.000000  33300.000000     0.000000           0.000000\n",
       "50%       0.000000    30.000000  40200.000000     1.000000           0.000000\n",
       "75%       1.000000    37.000000  46600.000000     2.000000           0.000000\n",
       "max       1.000000    65.000000  79000.000000     6.000000           5.000000"
      ]
     },
     "metadata": {},
     "output_type": "display_data"
    },
    {
     "data": {
      "image/png": "[encoded data removed]",
      "text/plain": [
       "<Figure size 1224x6336 with 88 Axes>"
      ]
     },
     "metadata": {
      "needs_background": "light"
     },
     "output_type": "display_data"
    },
    {
     "data": {
      "image/png": "[encoded data removed]",
      "text/plain": [
       "<Figure size 864x648 with 2 Axes>"
      ]
     },
     "metadata": {
      "needs_background": "light"
     },
     "output_type": "display_data"
    }
   ],
   "source": [
    "# отображение статистической информации\n",
    "print('\\nСтатистическая информация:')\n",
    "display(data.describe())\n",
    "data.hist(bins=100, figsize=(17,88), layout=(22,4))\n",
    "plt.show()\n",
    "\n",
    "# построение матрицы корреляции\n",
    "plt.subplots(figsize=(12, 9))\n",
    "sns.heatmap(data.corr(), vmin = -1, vmax = +1, cmap = 'coolwarm', annot=True, linewidths=.1, linecolor='black')\n",
    "plt.yticks(rotation=0)\n",
    "plt.title('Матрица корреляции')\n",
    "plt.show()"
   ]
  },
  {
   "cell_type": "markdown",
   "metadata": {},
   "source": [
    "В наборе признаков кроме количественных, имеются качественные признаки, а также признаки с распределением, отличным от нормального. В этой ситуации для исследования корреляции подойдет коэффициент Спирмена и коэффициент Phik. Построим матрицы корреляции с этими коэффициентами."
   ]
  },
  {
   "cell_type": "code",
   "execution_count": 6,
   "metadata": {},
   "outputs": [
    {
     "data": {
      "image/png": "[encoded data removed]",
      "text/plain": [
       "<Figure size 864x648 with 2 Axes>"
      ]
     },
     "metadata": {
      "needs_background": "light"
     },
     "output_type": "display_data"
    }
   ],
   "source": [
    "# построение матрицы с коэффициентом корреляции Спирмена (без признака \"Пол\")\n",
    "plt.figure(figsize=(12, 9))\n",
    "sns.heatmap(data.loc[:, data.columns != 'Пол'].corr(method = 'spearman'), \n",
    "            vmin = -1, vmax = +1, cmap = 'coolwarm', annot=True, linewidths=.1, linecolor='black')\n",
    "plt.yticks(rotation=0)\n",
    "plt.title('Матрица корреляции Спирмена', size=15, fontweight='bold')\n",
    "plt.show()"
   ]
  },
  {
   "cell_type": "code",
   "execution_count": 7,
   "metadata": {},
   "outputs": [
    {
     "name": "stdout",
     "output_type": "stream",
     "text": [
      "Матрица с коэффициентами корреляции Phik\n"
     ]
    },
    {
     "data": {
      "text/html": [
       "<div>\n",
       "<style scoped>\n",
       "    .dataframe tbody tr th:only-of-type {\n",
       "        vertical-align: middle;\n",
       "    }\n",
       "\n",
       "    .dataframe tbody tr th {\n",
       "        vertical-align: top;\n",
       "    }\n",
       "\n",
       "    .dataframe thead th {\n",
       "        text-align: right;\n",
       "    }\n",
       "</style>\n",
       "<table border=\"1\" class=\"dataframe\">\n",
       "  <thead>\n",
       "    <tr style=\"text-align: right;\">\n",
       "      <th></th>\n",
       "      <th>Пол</th>\n",
       "      <th>Возраст</th>\n",
       "      <th>Зарплата</th>\n",
       "      <th>Члены семьи</th>\n",
       "      <th>Страховые выплаты</th>\n",
       "    </tr>\n",
       "  </thead>\n",
       "  <tbody>\n",
       "    <tr>\n",
       "      <th>Пол</th>\n",
       "      <td>1.000000</td>\n",
       "      <td>0.000000</td>\n",
       "      <td>0.000000</td>\n",
       "      <td>0.0</td>\n",
       "      <td>0.032181</td>\n",
       "    </tr>\n",
       "    <tr>\n",
       "      <th>Возраст</th>\n",
       "      <td>0.000000</td>\n",
       "      <td>1.000000</td>\n",
       "      <td>0.175125</td>\n",
       "      <td>0.0</td>\n",
       "      <td>0.884865</td>\n",
       "    </tr>\n",
       "    <tr>\n",
       "      <th>Зарплата</th>\n",
       "      <td>0.000000</td>\n",
       "      <td>0.175125</td>\n",
       "      <td>1.000000</td>\n",
       "      <td>0.0</td>\n",
       "      <td>0.000000</td>\n",
       "    </tr>\n",
       "    <tr>\n",
       "      <th>Члены семьи</th>\n",
       "      <td>0.000000</td>\n",
       "      <td>0.000000</td>\n",
       "      <td>0.000000</td>\n",
       "      <td>1.0</td>\n",
       "      <td>0.000000</td>\n",
       "    </tr>\n",
       "    <tr>\n",
       "      <th>Страховые выплаты</th>\n",
       "      <td>0.032181</td>\n",
       "      <td>0.884865</td>\n",
       "      <td>0.000000</td>\n",
       "      <td>0.0</td>\n",
       "      <td>1.000000</td>\n",
       "    </tr>\n",
       "  </tbody>\n",
       "</table>\n",
       "</div>"
      ],
      "text/plain": [
       "                        Пол   Возраст  Зарплата  Члены семьи  \\\n",
       "Пол                1.000000  0.000000  0.000000          0.0   \n",
       "Возраст            0.000000  1.000000  0.175125          0.0   \n",
       "Зарплата           0.000000  0.175125  1.000000          0.0   \n",
       "Члены семьи        0.000000  0.000000  0.000000          1.0   \n",
       "Страховые выплаты  0.032181  0.884865  0.000000          0.0   \n",
       "\n",
       "                   Страховые выплаты  \n",
       "Пол                         0.032181  \n",
       "Возраст                     0.884865  \n",
       "Зарплата                    0.000000  \n",
       "Члены семьи                 0.000000  \n",
       "Страховые выплаты           1.000000  "
      ]
     },
     "metadata": {},
     "output_type": "display_data"
    },
    {
     "data": {
      "image/png": "[encoded data removed]",
      "text/plain": [
       "<Figure size 864x648 with 2 Axes>"
      ]
     },
     "metadata": {
      "needs_background": "light"
     },
     "output_type": "display_data"
    }
   ],
   "source": [
    "# построение матрицы с коэффициентом корреляции Phik\n",
    "data_phik = data.phik_matrix(interval_cols=['Пол', 'Возраст', 'Члены семьи', 'Страховые выплаты'])\n",
    "print('Матрица с коэффициентами корреляции Phik')\n",
    "display(data_phik)\n",
    "\n",
    "plt.figure(figsize=(12, 9))\n",
    "sns.heatmap(data_phik, vmin = -1, vmax = +1, cmap = 'coolwarm', annot=True, linewidths=.1, linecolor='black')\n",
    "plt.yticks(rotation=0)\n",
    "plt.title('Матрица корреляции \"Phik\"', size=15, fontweight='bold')\n",
    "plt.show()"
   ]
  },
  {
   "cell_type": "markdown",
   "metadata": {},
   "source": [
    "Относительно высокая корреляция (0,88) наблюдается между возрастом и страховыми выплатами. Построим диаграмму рассеяния. "
   ]
  },
  {
   "cell_type": "code",
   "execution_count": 8,
   "metadata": {},
   "outputs": [
    {
     "data": {
      "image/png": "[encoded data removed]",
      "text/plain": [
       "<Figure size 864x648 with 1 Axes>"
      ]
     },
     "metadata": {
      "needs_background": "light"
     },
     "output_type": "display_data"
    }
   ],
   "source": [
    "# построение диаграммы рассеяния (Возраст - Страховые выплаты)\n",
    "plt.figure(figsize=(12, 9))\n",
    "plt.scatter(data['Возраст'], data['Страховые выплаты'])\n",
    "plt.xlabel('Возраст, лет')\n",
    "plt.ylabel('Страховые выплаты, шт.')\n",
    "plt.title('Зависимость страховых выплат от возраста', size=15, fontweight='bold')\n",
    "plt.show()"
   ]
  },
  {
   "cell_type": "markdown",
   "metadata": {},
   "source": [
    "Прямая зависимость действительно наблюдается, но в рамках данного проекта дополнительных действий для её устранения не требуется."
   ]
  },
  {
   "cell_type": "markdown",
   "metadata": {},
   "source": [
    "### 1.1. <a id='toc1_1_'></a>[Вывод по результатам раздела 1](#toc0_)\n",
    "\n",
    "Размер загруженной выборки - 5000 записей.\n",
    "- Пропусков в данных нет.\n",
    "- Обнаружены дубликаты, которые с высокой вероятностью являются совпадающими по значениям данными для разных клиентов, поэтому удалять данные дубликаты нет необходимости.\n",
    "- Типы данных в столбцах приведен к целочисленному для соответствия содержимому.\n",
    "- Анализ гистограмм распределения показывает отсутствие сильных выбросов и аномальных значений.\n",
    "- Корреляция между признаками ($X$) и признаками ($X$) отсутствует.\n",
    "- Существует корреляция между признаком ($X$)  \"Возраст\" и целевым признаком ($y$) \"Страховые выплаты\". В зависимости от используемого коэффициента корреляции, значение составляет от 0,55 до 0,88. В случае наших данных, имеющих в своем составе категориальные данные и признаки с распределениями, не соответствующими нормальному, за основу возьмем коэффициент корреляции $\\phi_k$ со значением 0,88. Значение высокое, но дополнительные мероприятия по снижению корреляции проводить не требуется."
   ]
  },
  {
   "cell_type": "markdown",
   "metadata": {},
   "source": [
    "## 2. <a id='toc2_'></a>[Обоснование выбранного решения умножения матриц](#toc0_)\n",
    "\n",
    "В качестве решения поставленной задачи по защите персональных данных планируется использовать умножение матрицы признаков (персональных данных) на произвольную обратимую матрицу. Проанализируем и определим, изменится ли качество линейной регрессии, если матрицу признаков до отработки моделью умножить на обратимую матрицу.\n",
    "\n",
    "Качество линейной регрессии можно определить по предсказаниям, которые дает модель. Поэтому сравним предсказания линейной регрессии для матрицы признаков и предсказания линейной регрессии для матрицы признаков, умноженной на обратимую матрицу.\n",
    "\n",
    "Для выполнения сравнения проведем необходимые математические расчеты.\n",
    "\n",
    "<ins>Условные обозначения:</ins>\n",
    "\n",
    "- $X$ — матрица признаков (нулевой столбец состоит из единиц);\n",
    "- $y$ — вектор целевого признака;\n",
    "- $w$ — вектор весов линейной регрессии (нулевой элемент равен сдвигу);\n",
    "- $P$ — обратимая матрица, на которую умножаются признаки;\n",
    "- $X_2$ — матрица с измененными признаками (после умножения матрицы признаков $X$ на обратимую матрицу $P$);\n",
    "- $E$ — единичная матрица (по главной диагонали расположены единицы, остальное заполнено нулями).\n",
    "\n",
    "<ins>Используемые в расчетах свойства матричных операций:</ins>\n",
    "\n",
    "$\\begin{aligned}\n",
    "&(A\\cdot B)^T=B^T\\cdot A^T \\\\\n",
    "&(A\\cdot B)^{-1}=B^{-1}\\cdot A^{-1} \\\\\n",
    "&A^{-1}\\cdot A=A\\cdot A^{-1}=E \\\\\n",
    "&A\\cdot E=E\\cdot A=A \\\\\n",
    "\\end{aligned}$\n",
    "\n",
    "<ins>Расчеты:</ins>\n",
    "\n",
    "Задача обучения линейной регресии:\n",
    "\n",
    "$\\begin{aligned}\n",
    "&w=\\arg\\min_w MSE(Xw, y)\n",
    "\\end{aligned}$\n",
    "\n",
    "Формула обучения линейной регресии:\n",
    "\n",
    "$\\begin{aligned}\n",
    "&w=(X^T\\cdot X)^{-1}\\cdot X^T\\cdot y\n",
    "\\end{aligned}$\n",
    "\n",
    "Предсказания линейной регрессии $a$ рассчитываются по формуле:\n",
    "\n",
    "$\\begin{aligned}\n",
    "&a=X\\cdot w \\text{ ,}\n",
    "\\end{aligned}$\n",
    "\n",
    "Предсказания линейной регрессии $a_2$ после умножения матрицы признаков $X$ на обратимую матрицу $P$ :\n",
    "\n",
    "$\\begin{aligned}\n",
    "&a_2=X_2\\cdot w_2\\text{ , где:} \\\\\n",
    "&\\;\\;\\;\\;X_2=X\\cdot P \\\\\n",
    "&\\;\\;\\;\\;w_2=(X_2^T\\cdot X_2)^{-1}\\cdot X_2^T\\cdot y\n",
    "\\end{aligned}$\n",
    "\n",
    "Подставим значения в формулу предсказаний линейной регрессии $a_2$ и выполним необходимые преобразования, используя свойства матричных операций:\n",
    "\n",
    "$\\begin{aligned}\n",
    "&a_2=X_2\\cdot w_2=X\\cdot P\\cdot \\left((X\\cdot P)^T\\cdot (X\\cdot P)\\right)^{-1}\\cdot (X\\cdot P)^T\\cdot y=\\\\\n",
    "&=X\\cdot P\\cdot (X\\cdot P)^{-1}\\cdot \\left((X\\cdot P\\right)^T)^{-1}\\cdot (X\\cdot P)^T\\cdot y=\\\\\n",
    "&=X\\cdot P\\cdot P^{-1}\\cdot X^{-1}\\cdot (P^T\\cdot X^T)^{-1}\\cdot P^T\\cdot X^T\\cdot y=\\\\\n",
    "&=X\\cdot E\\cdot X^{-1}\\cdot \\left(X^T\\right)^{-1}\\cdot \\left(P^T\\right)^{-1}\\cdot P^T\\cdot X^T\\cdot y=\\\\\n",
    "&=X\\cdot X^{-1}\\cdot (X^T)^{-1}\\cdot E\\cdot X^T\\cdot y=\\\\\n",
    "&=X\\cdot (X^T\\cdot X)^{-1}\\cdot X^T\\cdot y=\\\\\n",
    "&=X\\cdot w\n",
    "\\end{aligned}$\n",
    "\n",
    "В результате получили, что предсказания линейной регрессии для матрицы признаков и предсказания для матрицы признаков, умноженной на обратимую матрицу, равны."
   ]
  },
  {
   "cell_type": "markdown",
   "metadata": {},
   "source": [
    "$\\begin{aligned}\n",
    "&a_2=X_2\\cdot w_2=X\\cdot P\\cdot \\left((X\\cdot P)^T\\cdot X\\cdot P\\right)^{-1}\\cdot (X\\cdot P)^T\\cdot y=\\\\\n",
    "&=X\\cdot P\\cdot \\left(P^T\\cdot X^T \\cdot X\\cdot P\\right)^{-1} \\cdot P^T\\cdot X^T\\cdot y=\\\\\n",
    "&=X\\cdot P\\cdot \\left(P^T\\cdot (X^T \\cdot X)\\cdot P\\right)^{-1} \\cdot P^T\\cdot X^T\\cdot y=\\\\\n",
    "&=X\\cdot P\\cdot P^{-1}\\cdot (X^T \\cdot X)^{-1}\\cdot (P^T)^{-1}\\cdot P^T\\cdot X^T\\cdot y=\\\\\n",
    "&=X\\cdot E\\cdot (X^T \\cdot X)^{-1}\\cdot E\\cdot X^T\\cdot y=\\\\\n",
    "&=X\\cdot (X^T\\cdot X)^{-1}\\cdot X^T\\cdot y=\\\\\n",
    "&=X\\cdot w\n",
    "\\end{aligned}$\n",
    "\n",
    "В результате расчетов получили, что предсказания линейной регрессии для матрицы признаков $X$ и предсказания линейной регрессии для матрицы признаков $X$, умноженной на обратимую матрицу $P$, равны.\n",
    "\n",
    "Теперь рассмотрим, как связаны параметры линейной регрессии в исходной задаче и в преобразованной.\n",
    "\n",
    "$\\begin{aligned}\n",
    "&a_2=X_2\\cdot w_2=X\\cdot w\\\\\n",
    "&X_2\\cdot w_2=X\\cdot w\\\\\n",
    "&X\\cdot P\\cdot w_2=X\\cdot w\\\\\n",
    "\\end{aligned}$\n",
    "\n",
    "Домножим обе части уравнения на $X^{-1}$ слева.\n",
    "\n",
    "$\\begin{aligned}\n",
    "&X^{-1}\\cdot X\\cdot P\\cdot w_2=X^{-1}\\cdot X\\cdot w\\\\\n",
    "&E\\cdot P\\cdot w_2=E\\cdot w\\\\\n",
    "&P\\cdot w_2=w\\\\\n",
    "\\end{aligned}$\n",
    "\n",
    "Домножим обе части уравнения на $P^{-1}$ слева.\n",
    "\n",
    "$\\begin{aligned}\n",
    "&P^{-1}\\cdot P\\cdot w_2=P^{-1}\\cdot w\\\\\n",
    "&E\\cdot w_2=P^{-1}\\cdot w\\\\\n",
    "&w_2=P^{-1}\\cdot w\\\\\n",
    "\\end{aligned}$\n",
    "\n",
    "Таким образом, параметры линейной регрессии после преобразования равны произведению обратной матрицы для произвольной обратимой матрицы, на которую умножались признаки, и параметров исходной линейной регрессии."
   ]
  },
  {
   "cell_type": "markdown",
   "metadata": {},
   "source": [
    "### 2.1. <a id='toc2_1_'></a>[Вывод по результатам раздела 2](#toc0_)\n",
    "\n"
   ]
  },
  {
   "cell_type": "markdown",
   "metadata": {},
   "source": [
    "1. При умножении признаков на обратимую матрицу, качество линейной регрессии не изменяется, так как предсказания линейной регрессии для матрицы признаков $X$ и предсказания линейной регрессии для матрицы признаков $X$, умноженной на обратимую матрицу $P$, равны.\n",
    "\n",
    "2. Связь между параметрами линейной регрессии в исходной задаче и в преобразованной определяется формулой:  \n",
    "$w_2=P^{-1}\\cdot w$  \n",
    "Параметры линейной регрессии после преобразования равны произведению обратной матрицы, на которую умножались признаки, на параметры исходной линейной регрессии."
   ]
  },
  {
   "cell_type": "markdown",
   "metadata": {},
   "source": [
    "## 3. <a id='toc3_'></a>[Алгоритм преобразования данных](#toc0_)\n",
    "\n",
    "Определим следующий порядок действий по преобразованию данных:\n",
    "\n",
    "1. Создание обратимой матрицы со случайными значениями и размерностью, равной количеству признаков.\n",
    "2. Проверка созданной матрицы на обратимость путем расчета определителя (детерминаната) матрицы и сравнения его с нулем.\n",
    "3. Преобразование признаков умножением на созданную обратимую матрицу.\n",
    "4. Получение предсказаний линейной регрессии для преобразованных признаков, получение метрики R2.\n",
    "5. Обучение линейной регрессии на исходных данных, получение метрики R2.\n",
    "6. Сравнение получившихся метрик R2."
   ]
  },
  {
   "cell_type": "markdown",
   "metadata": {},
   "source": [
    "### 3.1. <a id='toc3_1_'></a>[Вывод по разделу 3](#toc0_)\n",
    "\n",
    "Алгоритм преобразования исходных признаков путем их умножения на обратимую матрицу со случайными значениями не приводит к искажению предсказаний и изменению качества линейной регрессии, так как проведенные математические расчеты доказывают, что предсказания линейной регрессии для матрицы признаков $X$ равны предсказаниям линейной регрессии для матрицы признаков $X$, умноженной на произвольную обратимую матрицу $P$."
   ]
  },
  {
   "cell_type": "markdown",
   "metadata": {},
   "source": [
    "## 4. <a id='toc4_'></a>[Проверка алгоритма](#toc0_)\n",
    "\n",
    "### 4.1. <a id='toc4_1_'></a>[Проверка алгоритма с помощью матричных операций](#toc0_)\n",
    "\n",
    "Выполним алгоритм по шагам и проанализируем результат.\n",
    "\n",
    "1. Создание обратимой матрицы со случайными значениями.\n",
    "\n",
    "В выборке 4 признака, поэтому необходимо создать матрицу размерностью 5х5 (4 + 1) с учетом нулевого столбца из единиц в матрице признаков. Диапазон случайных значений выберем произвольно - положительные целые двузначные числа от 10 до 99."
   ]
  },
  {
   "cell_type": "code",
   "execution_count": 9,
   "metadata": {},
   "outputs": [
    {
     "name": "stdout",
     "output_type": "stream",
     "text": [
      "[[82 11 97 34 64]\n",
      " [94 12 20 10 69]\n",
      " [78 83 69 84 13]\n",
      " [54 49 97 45 13]\n",
      " [20 62 16 29 16]]\n"
     ]
    }
   ],
   "source": [
    "matrix = np.random.randint(10, 99, (5, 5))\n",
    "print(matrix)"
   ]
  },
  {
   "cell_type": "code",
   "execution_count": 10,
   "metadata": {},
   "outputs": [
    {
     "data": {
      "text/plain": [
       "array([[-0.02194995,  0.02063313,  0.0028458 ,  0.01876198, -0.01873688],\n",
       "       [-0.01342334,  0.00711241, -0.01049573,  0.01641951,  0.01820802],\n",
       "       [ 0.00271365, -0.00366228, -0.0083524 ,  0.01427062,  0.00013042],\n",
       "       [ 0.02715833, -0.0215272 ,  0.02704329, -0.04125574, -0.00424963],\n",
       "       [ 0.02751477, -0.01067167, -0.00354988, -0.02657269,  0.02293709]])"
      ]
     },
     "execution_count": 10,
     "metadata": {},
     "output_type": "execute_result"
    }
   ],
   "source": [
    "# проверка на возможность создания обратной матрицы\n",
    "np.linalg.inv(matrix)"
   ]
  },
  {
   "cell_type": "markdown",
   "metadata": {},
   "source": [
    "2. Преобразование признаков путем умножения на обратимую матрицу."
   ]
  },
  {
   "cell_type": "code",
   "execution_count": 11,
   "metadata": {
    "scrolled": false
   },
   "outputs": [
    {
     "name": "stdout",
     "output_type": "stream",
     "text": [
      "Результат умножения признаков на обратимую матрицу:\n"
     ]
    },
    {
     "data": {
      "text/html": [
       "<div>\n",
       "<style scoped>\n",
       "    .dataframe tbody tr th:only-of-type {\n",
       "        vertical-align: middle;\n",
       "    }\n",
       "\n",
       "    .dataframe tbody tr th {\n",
       "        vertical-align: top;\n",
       "    }\n",
       "\n",
       "    .dataframe thead th {\n",
       "        text-align: right;\n",
       "    }\n",
       "</style>\n",
       "<table border=\"1\" class=\"dataframe\">\n",
       "  <thead>\n",
       "    <tr style=\"text-align: right;\">\n",
       "      <th></th>\n",
       "      <th>0</th>\n",
       "      <th>1</th>\n",
       "      <th>2</th>\n",
       "      <th>3</th>\n",
       "      <th>4</th>\n",
       "    </tr>\n",
       "  </thead>\n",
       "  <tbody>\n",
       "    <tr>\n",
       "      <th>0</th>\n",
       "      <td>2681794.0</td>\n",
       "      <td>2433888.0</td>\n",
       "      <td>4814162.0</td>\n",
       "      <td>2235517.0</td>\n",
       "      <td>645482.0</td>\n",
       "    </tr>\n",
       "    <tr>\n",
       "      <th>1</th>\n",
       "      <td>2055690.0</td>\n",
       "      <td>1865891.0</td>\n",
       "      <td>3689287.0</td>\n",
       "      <td>1713927.0</td>\n",
       "      <td>494678.0</td>\n",
       "    </tr>\n",
       "    <tr>\n",
       "      <th>2</th>\n",
       "      <td>1136344.0</td>\n",
       "      <td>1031418.0</td>\n",
       "      <td>2039098.0</td>\n",
       "      <td>947470.0</td>\n",
       "      <td>273441.0</td>\n",
       "    </tr>\n",
       "    <tr>\n",
       "      <th>3</th>\n",
       "      <td>2253560.0</td>\n",
       "      <td>2045178.0</td>\n",
       "      <td>4046478.0</td>\n",
       "      <td>1878356.0</td>\n",
       "      <td>542469.0</td>\n",
       "    </tr>\n",
       "    <tr>\n",
       "      <th>4</th>\n",
       "      <td>1411760.0</td>\n",
       "      <td>1281247.0</td>\n",
       "      <td>2533749.0</td>\n",
       "      <td>1176896.0</td>\n",
       "      <td>339797.0</td>\n",
       "    </tr>\n",
       "  </tbody>\n",
       "</table>\n",
       "</div>"
      ],
      "text/plain": [
       "           0          1          2          3         4\n",
       "0  2681794.0  2433888.0  4814162.0  2235517.0  645482.0\n",
       "1  2055690.0  1865891.0  3689287.0  1713927.0  494678.0\n",
       "2  1136344.0  1031418.0  2039098.0   947470.0  273441.0\n",
       "3  2253560.0  2045178.0  4046478.0  1878356.0  542469.0\n",
       "4  1411760.0  1281247.0  2533749.0  1176896.0  339797.0"
      ]
     },
     "metadata": {},
     "output_type": "display_data"
    },
    {
     "name": "stdout",
     "output_type": "stream",
     "text": [
      "<class 'pandas.core.frame.DataFrame'>\n",
      "RangeIndex: 5000 entries, 0 to 4999\n",
      "Data columns (total 5 columns):\n",
      " #   Column  Non-Null Count  Dtype  \n",
      "---  ------  --------------  -----  \n",
      " 0   0       5000 non-null   float64\n",
      " 1   1       5000 non-null   float64\n",
      " 2   2       5000 non-null   float64\n",
      " 3   3       5000 non-null   float64\n",
      " 4   4       5000 non-null   float64\n",
      "dtypes: float64(5)\n",
      "memory usage: 195.4 KB\n"
     ]
    }
   ],
   "source": [
    "# создание выборки с признаками и выборки с целевым признаком\n",
    "features = data.drop(columns='Страховые выплаты')\n",
    "target = data['Страховые выплаты']\n",
    "\n",
    "# умножение признаков на обратимую матрицу\n",
    "features_with_one = np.concatenate((np.ones((features.shape[0], 1)), features), axis=1)\n",
    "features_matrix = pd.DataFrame(features_with_one.dot(matrix))\n",
    "\n",
    "print('Результат умножения признаков на обратимую матрицу:')\n",
    "display(features_matrix.head())\n",
    "features_matrix.info()"
   ]
  },
  {
   "cell_type": "markdown",
   "metadata": {},
   "source": [
    "1. Создание обратимой матрицы со случайными значениями."
   ]
  },
  {
   "cell_type": "code",
   "execution_count": 12,
   "metadata": {},
   "outputs": [],
   "source": [
    "# создание обратимой матрицы с размерностью, равной количеству признаков\n",
    "matrix = np.random.randint(10, 99, (4, 4))"
   ]
  },
  {
   "cell_type": "markdown",
   "metadata": {},
   "source": [
    "2. Проверка созданной матрицы на обратимость."
   ]
  },
  {
   "cell_type": "code",
   "execution_count": 13,
   "metadata": {},
   "outputs": [
    {
     "name": "stdout",
     "output_type": "stream",
     "text": [
      "[[-0.01047008  0.03641125  0.00390196 -0.00526133]\n",
      " [ 0.03343798 -0.08303595  0.02189303 -0.0109218 ]\n",
      " [ 0.00720442  0.04224841 -0.02377985 -0.00567151]\n",
      " [-0.02694454  0.00199094  0.00893664  0.03121145]]\n",
      "\n",
      "Матрица обратима.\n",
      "Определитель (детерминант) матрицы равен 1901610\n"
     ]
    }
   ],
   "source": [
    "# проверка обратимости матрицы: расчет определителя (детерминаната) матрицы и сравнение его с нулем\n",
    "while np.linalg.det(matrix) == 0:\n",
    "    matrix = np.random.randint(10, 99, (4, 4))\n",
    "print(np.linalg.inv(matrix))\n",
    "print('\\nМатрица обратима.\\nОпределитель (детерминант) матрицы равен', round(np.linalg.det(matrix)))"
   ]
  },
  {
   "cell_type": "markdown",
   "metadata": {},
   "source": [
    "3. Преобразование признаков путем умножения на обратимую матрицу."
   ]
  },
  {
   "cell_type": "code",
   "execution_count": 14,
   "metadata": {
    "scrolled": false
   },
   "outputs": [
    {
     "name": "stdout",
     "output_type": "stream",
     "text": [
      "Результат умножения признаков на обратимую матрицу:\n"
     ]
    },
    {
     "data": {
      "text/html": [
       "<div>\n",
       "<style scoped>\n",
       "    .dataframe tbody tr th:only-of-type {\n",
       "        vertical-align: middle;\n",
       "    }\n",
       "\n",
       "    .dataframe tbody tr th {\n",
       "        vertical-align: top;\n",
       "    }\n",
       "\n",
       "    .dataframe thead th {\n",
       "        text-align: right;\n",
       "    }\n",
       "</style>\n",
       "<table border=\"1\" class=\"dataframe\">\n",
       "  <thead>\n",
       "    <tr style=\"text-align: right;\">\n",
       "      <th></th>\n",
       "      <th>0</th>\n",
       "      <th>1</th>\n",
       "      <th>2</th>\n",
       "      <th>3</th>\n",
       "      <th>4</th>\n",
       "    </tr>\n",
       "  </thead>\n",
       "  <tbody>\n",
       "    <tr>\n",
       "      <th>0</th>\n",
       "      <td>1.0</td>\n",
       "      <td>3572696.0</td>\n",
       "      <td>2133681.0</td>\n",
       "      <td>1042973.0</td>\n",
       "      <td>1538442.0</td>\n",
       "    </tr>\n",
       "    <tr>\n",
       "      <th>1</th>\n",
       "      <td>1.0</td>\n",
       "      <td>2737626.0</td>\n",
       "      <td>1634914.0</td>\n",
       "      <td>799442.0</td>\n",
       "      <td>1178888.0</td>\n",
       "    </tr>\n",
       "    <tr>\n",
       "      <th>2</th>\n",
       "      <td>1.0</td>\n",
       "      <td>1513015.0</td>\n",
       "      <td>903551.0</td>\n",
       "      <td>441870.0</td>\n",
       "      <td>651522.0</td>\n",
       "    </tr>\n",
       "    <tr>\n",
       "      <th>3</th>\n",
       "      <td>1.0</td>\n",
       "      <td>3003167.0</td>\n",
       "      <td>1793579.0</td>\n",
       "      <td>876454.0</td>\n",
       "      <td>1293198.0</td>\n",
       "    </tr>\n",
       "    <tr>\n",
       "      <th>4</th>\n",
       "      <td>1.0</td>\n",
       "      <td>1880225.0</td>\n",
       "      <td>1122894.0</td>\n",
       "      <td>549021.0</td>\n",
       "      <td>809648.0</td>\n",
       "    </tr>\n",
       "  </tbody>\n",
       "</table>\n",
       "</div>"
      ],
      "text/plain": [
       "     0          1          2          3          4\n",
       "0  1.0  3572696.0  2133681.0  1042973.0  1538442.0\n",
       "1  1.0  2737626.0  1634914.0   799442.0  1178888.0\n",
       "2  1.0  1513015.0   903551.0   441870.0   651522.0\n",
       "3  1.0  3003167.0  1793579.0   876454.0  1293198.0\n",
       "4  1.0  1880225.0  1122894.0   549021.0   809648.0"
      ]
     },
     "metadata": {},
     "output_type": "display_data"
    },
    {
     "name": "stdout",
     "output_type": "stream",
     "text": [
      "<class 'pandas.core.frame.DataFrame'>\n",
      "RangeIndex: 5000 entries, 0 to 4999\n",
      "Data columns (total 5 columns):\n",
      " #   Column  Non-Null Count  Dtype  \n",
      "---  ------  --------------  -----  \n",
      " 0   0       5000 non-null   float64\n",
      " 1   1       5000 non-null   float64\n",
      " 2   2       5000 non-null   float64\n",
      " 3   3       5000 non-null   float64\n",
      " 4   4       5000 non-null   float64\n",
      "dtypes: float64(5)\n",
      "memory usage: 195.4 KB\n"
     ]
    }
   ],
   "source": [
    "# умножаем признаки на обратимую матрицу\n",
    "features_temp = features.values.dot(matrix)\n",
    "# добавляем нулевой столбец с единицами\n",
    "features_matrix = pd.DataFrame(np.concatenate((np.ones((features_temp.shape[0], 1)), features_temp), axis=1))\n",
    "\n",
    "print('Результат умножения признаков на обратимую матрицу:')\n",
    "display(features_matrix.head())\n",
    "features_matrix.info()"
   ]
  },
  {
   "cell_type": "markdown",
   "metadata": {},
   "source": [
    "4. Получение предсказаний линейной регрессии для преобразованных признаков.\n",
    "\n",
    "Для расчета предсказаний для преобразованных признаков воспользуемся следующими формулами:\n",
    "\n",
    "$\\begin{aligned}\n",
    "&a_2=X_2\\cdot w_2\\\\\n",
    "&w_2=(X_2^T\\cdot X_2)^{-1}\\cdot X_2^T\\cdot y\n",
    "\\end{aligned}$"
   ]
  },
  {
   "cell_type": "code",
   "execution_count": 15,
   "metadata": {},
   "outputs": [],
   "source": [
    "# считаем матричными операциями предсказания по преобразованным признакам - a2\n",
    "x2 = features_matrix.values\n",
    "w2 = np.linalg.inv(x2.T.dot(x2)).dot(x2.T).dot(target.values)\n",
    "a2 = x2.dot(w2)"
   ]
  },
  {
   "cell_type": "markdown",
   "metadata": {},
   "source": [
    "5. Получение предсказаний линейной регрессии на исходных данных.\n",
    "\n",
    "Сделаем аналогичный расчет предсказаний для исходной матрицы признаков по формулам:\n",
    "\n",
    "$\\begin{aligned}\n",
    "&a=X\\cdot w\\\\\n",
    "&w=(X^T\\cdot X)^{-1}\\cdot X^T\\cdot y\n",
    "\\end{aligned}$"
   ]
  },
  {
   "cell_type": "code",
   "execution_count": 16,
   "metadata": {},
   "outputs": [],
   "source": [
    "#x = features_with_one # было в первой версии проекта\n",
    "\n",
    "# считаем матричными операциями предсказания по исходным признакам - a\n",
    "#x = features.values\n",
    "x = pd.DataFrame(np.concatenate((np.ones((features.shape[0], 1)), features), axis=1))\n",
    "w = np.linalg.inv(x.T.dot(x)).dot(x.T).dot(target.values)\n",
    "a = x.dot(w)"
   ]
  },
  {
   "cell_type": "markdown",
   "metadata": {},
   "source": [
    "6. Сравнение предсказаний.\n",
    "\n",
    "Сравним полученные предсказания для преобразованных и исходных признаков."
   ]
  },
  {
   "cell_type": "code",
   "execution_count": 17,
   "metadata": {},
   "outputs": [
    {
     "name": "stdout",
     "output_type": "stream",
     "text": [
      "Среднее абсолютное отклонение (MAE) двух предсказаний =  0.000000124444264\n",
      "\n",
      "Евклидово расстояние: 9.227044742297534e-06\n",
      "Косинусное подобие:  0.00000000000006605827\n",
      "Коэффициент корреляции Пирсона: PearsonRResult(statistic=0.9999999999999922, pvalue=0.0)\n"
     ]
    }
   ],
   "source": [
    "# найдем разницу предсказаний\n",
    "delta = a2 - a\n",
    "# определим MAE двух предсказаний\n",
    "print('Среднее абсолютное отклонение (MAE) двух предсказаний =', '{: ,.15f}'.format(mean_absolute_error(a2, a)))\n",
    "\n",
    "# альтернативные варианты сравнения векторов\n",
    "print('\\nЕвклидово расстояние:', np.linalg.norm(delta))\n",
    "from scipy.spatial.distance import cosine\n",
    "print('Косинусное подобие:', '{: ,.20f}'.format(cosine(a2, a)))\n",
    "from scipy import stats\n",
    "print('Коэффициент корреляции Пирсона:', stats.pearsonr(a2, a))"
   ]
  },
  {
   "cell_type": "markdown",
   "metadata": {},
   "source": [
    "По результатам сравнения видим, что среднее абсолютное отклонение `MAE` и разница предсказаний очень малы, что говорит и высокой степени совпадения предсказаний линейных регрессий для исходной выборки признаков и для выборки признаков, умноженной на обратимую матрицу."
   ]
  },
  {
   "cell_type": "markdown",
   "metadata": {},
   "source": [
    "### 4.2. <a id='toc4_2_'></a>[Проверка алгоритма с помощью моделей](#toc0_)\n",
    "\n",
    "Для реализации алгоритма создадим новый класс `CodeLinearRegression` - линейную регрессию с предварительным преобразованием выборки признаков путем умножения на обратимую матрицу."
   ]
  },
  {
   "cell_type": "code",
   "execution_count": 18,
   "metadata": {},
   "outputs": [],
   "source": [
    "class CodeLinearRegression:\n",
    "    \n",
    "    def fit(self, features_train, target_train): # обучение модели\n",
    "        error = 1\n",
    "        while error == 1:\n",
    "            n = features_train.shape[1]# + 1\n",
    "            self.matrix = np.random.randint(10, 99, (n, n))\n",
    "            try:\n",
    "                np.linalg.inv(matrix)\n",
    "                error = 0\n",
    "            except numpy.linalg.LinAlgError:\n",
    "                error = 1\n",
    "        x = np.concatenate((np.ones((features_train.values.dot(self.matrix).shape[0], 1)), \n",
    "                            features_train.values.dot(self.matrix)), axis=1)\n",
    "        self.w = np.linalg.inv(x.T.dot(x)).dot(x.T).dot(target_train.values)\n",
    "        \n",
    "    def predict(self, features_test): # получение предсказаний\n",
    "        x = np.concatenate((np.ones((features_test.values.dot(self.matrix).shape[0], 1)), \n",
    "                            features_test.values.dot(self.matrix)), axis=1)\n",
    "        predict = x.dot(self.w)\n",
    "        return pd.Series(predict)\n",
    "    \n",
    "    def matrix(self): # отображение сгенерированной обратимой матрицы\n",
    "        return self.matrix"
   ]
  },
  {
   "cell_type": "markdown",
   "metadata": {},
   "source": [
    "Подготовим выборки с признаками и целевым признаком."
   ]
  },
  {
   "cell_type": "code",
   "execution_count": 19,
   "metadata": {},
   "outputs": [],
   "source": [
    "# формирование выборки с признаками и выборки с целевым признаком\n",
    "features = data.drop('Страховые выплаты', axis=1)\n",
    "target = data['Страховые выплаты']"
   ]
  },
  {
   "cell_type": "markdown",
   "metadata": {},
   "source": [
    "Создадим, обучим и получим предсказания для трех моделей:\n",
    "\n",
    "1. Модель линейной регрессии `CodeLinearRegression` предварительно преобразующая исходную выборку признаков путем умножения на обратимую матрицу. \n",
    "2. Модель линейной регрессии `LinearRegression` из библиотеки `sklearn` на исходной, непреобразованной выборке признаков.\n",
    "3. Модель линейной регрессии `LinearRegression` из библиотеки `sklearn` на преобразованной выборке признаков (умноженной на обратимую матрицу).\n",
    "\n",
    "Оценим качество всех моделей с помощью метрики `R2` (коэффициент детерминации)."
   ]
  },
  {
   "cell_type": "code",
   "execution_count": 20,
   "metadata": {},
   "outputs": [
    {
     "name": "stdout",
     "output_type": "stream",
     "text": [
      "\n",
      "Модель \"CodeLinearRegression\":\n",
      "R2 = 0.4249455030816468.\n",
      "\n",
      "Модель \"LinearRegression\" на исходной выборке:\n",
      "R2 = 0.42494550308169177.\n",
      "\n",
      "Модель \"LinearRegression\" на преобразованной выборке:\n",
      "R2 = 0.4249455030816889.\n"
     ]
    }
   ],
   "source": [
    "# модель линейной регрессии 'CodeLinearRegression'\n",
    "model1 = CodeLinearRegression()\n",
    "model1.fit(features, target)\n",
    "predict1 = model1.predict(features)\n",
    "r2_1 = r2_score(target, predict1)\n",
    "\n",
    "# модель линейной регрессии `LinearRegression` на исходной выборке признаков\n",
    "model2 = LinearRegression()\n",
    "model2.fit(features, target)\n",
    "predict2 = model2.predict(features)\n",
    "r2_2 = r2_score(target, predict2)\n",
    "\n",
    "# модель линейной регрессии `LinearRegression` на преобразованной выборке признаков\n",
    "# для соответствия возьмем обратимую матрицу для преобразования признаков из модели 'CodeLinearRegression'\n",
    "model3 = LinearRegression()\n",
    "features_code = pd.DataFrame(features.values.dot(model1.matrix), columns=features.columns)\n",
    "model3.fit(features_code, target)\n",
    "predict3 = model3.predict(features_code)\n",
    "r2_3 = r2_score(target, predict3)\n",
    "\n",
    "# вывод результатов\n",
    "print(f'''\n",
    "Модель \"CodeLinearRegression\":\n",
    "R2 = {r2_1}.\n",
    "\n",
    "Модель \"LinearRegression\" на исходной выборке:\n",
    "R2 = {r2_2}.\n",
    "\n",
    "Модель \"LinearRegression\" на преобразованной выборке:\n",
    "R2 = {r2_3}.''')"
   ]
  },
  {
   "cell_type": "markdown",
   "metadata": {},
   "source": [
    "Видим, что коэффициент детерминации `R2` всех трех моделей с высокой точностью совпадает.\n",
    "\n",
    "Дополнительно попарно сравним предсказания моделей с помощью метрики `MAE` (среднее абсолютное отклонение)."
   ]
  },
  {
   "cell_type": "code",
   "execution_count": 21,
   "metadata": {},
   "outputs": [
    {
     "name": "stdout",
     "output_type": "stream",
     "text": [
      "\n",
      "Сравнение предсказаний модели \"CodeLinearRegression\" и модели \"LinearRegression\" на исходной выборке:\n",
      "MAE = 8.330215006704029e-08.\n",
      "\n",
      "Сравнение предсказаний модели \"CodeLinearRegression\" и модели \"LinearRegression\" на преобразованной выборке:\n",
      "MAE = 8.330213480500421e-08.\n",
      "\n",
      "Сравнение предсказаний модели \"LinearRegression\" на исходной выборке и модели \"LinearRegression\" на преобразованной выборке:\n",
      "MAE = 5.875129271970537e-14.\n"
     ]
    }
   ],
   "source": [
    "print(f'''\n",
    "Сравнение предсказаний модели \"CodeLinearRegression\" и модели \"LinearRegression\" на исходной выборке:\n",
    "MAE = {mean_absolute_error(predict1, predict2)}.\n",
    "\n",
    "Сравнение предсказаний модели \"CodeLinearRegression\" и модели \"LinearRegression\" на преобразованной выборке:\n",
    "MAE = {mean_absolute_error(predict1, predict3)}.\n",
    "\n",
    "Сравнение предсказаний модели \"LinearRegression\" на исходной выборке и модели \"LinearRegression\" на преобразованной выборке:\n",
    "MAE = {mean_absolute_error(predict2, predict3)}.''')"
   ]
  },
  {
   "cell_type": "markdown",
   "metadata": {},
   "source": [
    "Среднее абсолютное отклонение `MAE` во всех вариантах сравнения имеет очень низкое значение, что говорит о высоком совпадении предсказаний моделей."
   ]
  },
  {
   "cell_type": "markdown",
   "metadata": {},
   "source": [
    "### 4.3. <a id='toc4_3_'></a>[Вывод по разделу 4](#toc0_)\n",
    "\n",
    "Проанализировав модели и их предсказания можно сделать следующие выводы:\n",
    "- Качество модели линейной регрессии `CodeLinearRegression`, запрограммированной по алгоритму, построенному на основе матричных операций, совпадает с качеством модели линейной регрессии `LinearRegression` из библиотеки `sklearn`.\n",
    "- Качество линейных регрессий `LinearRegression` из библиотеки `sklearn` до и после преобразования выборки признаков не отличаются.\n",
    "- Предсказания моделей `CodeLinearRegression` и `LinearRegression` из библиотеки `sklearn` вне зависимости от преобразования выборки признаков с высокой точностью совпадают."
   ]
  },
  {
   "cell_type": "markdown",
   "metadata": {},
   "source": [
    "## 5. <a id='toc5_'></a>[Общий вывод](#toc0_)\n",
    "\n",
    "В исследовании были использованы исходные данные, имитирующие пресональные данные клиентов, в объеме 5 тыс. строк.\n",
    "\n",
    "По результатам изучения и предобработки данных:\n",
    "- пропусков нет;\n",
    "- выбросы и аномальные значения отсутствуют;\n",
    "- обнаруженные дубликаты удалены;\n",
    "- типы данных приведены в соответствии с содержанием;\n",
    "- корреляция между признаками не наблюдается, значение корреляции между признаком \"Возраст\" и целевым признаком \"Страховые выплаты\" высокая, но допустимая.\n",
    " \n",
    "Путем математических расчетов доказано, что при умножении признаков на обратимую матрицу, качество линейной регрессии не изменяется, так как предсказания линейной регрессии для матрицы исходных признаков совпадают с предсказаниями для матрицы признаков, умноженной на обратимую матрицу.\n",
    "\n",
    "Описан и обоснован алгоритм преобразования признаков на основе матричных операций. Выполнена его проверка с помощью имеющихся исходных данных и обратимой матрицы. Алгоритм реализован в виде класса `CodeLinearRegression` - линейной регрессии с преобразованием выборки признаков путем умножения на обратимую матрицу.\n",
    "\n",
    "Сравнение качества и предсказаний моделей линейных регрессий до и после преобразования признаков показало отсутствие влияния данного преобразования на результаты моделей, что подтверждает возможность использования данного алгоритма для защиты персональных данных клиентов без ухудшения качества машинного обучения."
   ]
  }
 ],
 "metadata": {
  "ExecuteTimeLog": [
   {
    "duration": 1465,
    "start_time": "2023-03-16T23:41:06.235Z"
   },
   {
    "duration": 3525,
    "start_time": "2023-03-16T23:41:10.301Z"
   },
   {
    "duration": 106,
    "start_time": "2023-03-16T23:45:09.926Z"
   },
   {
    "duration": 6,
    "start_time": "2023-03-16T23:45:30.215Z"
   },
   {
    "duration": 8,
    "start_time": "2023-03-16T23:46:24.335Z"
   },
   {
    "duration": 86,
    "start_time": "2023-03-17T20:56:37.067Z"
   },
   {
    "duration": 1534,
    "start_time": "2023-03-17T20:56:43.581Z"
   },
   {
    "duration": 3312,
    "start_time": "2023-03-17T20:56:45.118Z"
   },
   {
    "duration": 8,
    "start_time": "2023-03-17T20:56:57.154Z"
   },
   {
    "duration": 16,
    "start_time": "2023-03-17T20:57:13.431Z"
   },
   {
    "duration": 20,
    "start_time": "2023-03-17T20:58:15.536Z"
   },
   {
    "duration": 80,
    "start_time": "2023-03-17T21:00:12.779Z"
   },
   {
    "duration": 11,
    "start_time": "2023-03-17T21:00:29.633Z"
   },
   {
    "duration": 45,
    "start_time": "2023-03-17T21:01:27.777Z"
   },
   {
    "duration": 16,
    "start_time": "2023-03-17T21:01:38.705Z"
   },
   {
    "duration": 15,
    "start_time": "2023-03-17T21:01:45.114Z"
   },
   {
    "duration": 57,
    "start_time": "2023-03-17T21:02:01.272Z"
   },
   {
    "duration": 19,
    "start_time": "2023-03-17T21:02:07.889Z"
   },
   {
    "duration": 14,
    "start_time": "2023-03-17T21:02:21.824Z"
   },
   {
    "duration": 13,
    "start_time": "2023-03-17T21:03:30.426Z"
   },
   {
    "duration": 17,
    "start_time": "2023-03-17T21:03:46.729Z"
   },
   {
    "duration": 19,
    "start_time": "2023-03-17T21:06:10.499Z"
   },
   {
    "duration": 25,
    "start_time": "2023-03-17T21:06:57.604Z"
   },
   {
    "duration": 19,
    "start_time": "2023-03-17T21:07:23.506Z"
   },
   {
    "duration": 24,
    "start_time": "2023-03-17T21:07:49.731Z"
   },
   {
    "duration": 18,
    "start_time": "2023-03-17T21:08:08.077Z"
   },
   {
    "duration": 7,
    "start_time": "2023-03-17T21:09:37.355Z"
   },
   {
    "duration": 7,
    "start_time": "2023-03-17T21:09:59.746Z"
   },
   {
    "duration": 7,
    "start_time": "2023-03-17T21:10:46.981Z"
   },
   {
    "duration": 8,
    "start_time": "2023-03-17T21:10:54.099Z"
   },
   {
    "duration": 10,
    "start_time": "2023-03-17T21:11:05.650Z"
   },
   {
    "duration": 9,
    "start_time": "2023-03-17T21:11:10.139Z"
   },
   {
    "duration": 12,
    "start_time": "2023-03-17T21:13:46.075Z"
   },
   {
    "duration": 5,
    "start_time": "2023-03-17T21:13:54.707Z"
   },
   {
    "duration": 10,
    "start_time": "2023-03-17T21:14:01.459Z"
   },
   {
    "duration": 5,
    "start_time": "2023-03-17T21:14:06.707Z"
   },
   {
    "duration": 5,
    "start_time": "2023-03-17T21:16:06.204Z"
   },
   {
    "duration": 5,
    "start_time": "2023-03-17T21:16:11.907Z"
   },
   {
    "duration": 7,
    "start_time": "2023-03-17T21:16:28.059Z"
   },
   {
    "duration": 12,
    "start_time": "2023-03-17T21:16:44.212Z"
   },
   {
    "duration": 13,
    "start_time": "2023-03-17T21:16:50.355Z"
   },
   {
    "duration": 8,
    "start_time": "2023-03-17T21:18:39.268Z"
   },
   {
    "duration": 6,
    "start_time": "2023-03-17T21:18:43.516Z"
   },
   {
    "duration": 9,
    "start_time": "2023-03-17T21:19:24.174Z"
   },
   {
    "duration": 45,
    "start_time": "2023-03-17T21:21:50.166Z"
   },
   {
    "duration": 11,
    "start_time": "2023-03-17T21:21:56.212Z"
   },
   {
    "duration": 43,
    "start_time": "2023-03-17T21:22:40.350Z"
   },
   {
    "duration": 14,
    "start_time": "2023-03-17T21:22:44.031Z"
   },
   {
    "duration": 5,
    "start_time": "2023-03-17T21:23:16.975Z"
   },
   {
    "duration": 7,
    "start_time": "2023-03-17T21:23:36.725Z"
   },
   {
    "duration": 10,
    "start_time": "2023-03-17T21:23:43.342Z"
   },
   {
    "duration": 14,
    "start_time": "2023-03-17T21:28:48.474Z"
   },
   {
    "duration": 16,
    "start_time": "2023-03-17T21:29:04.168Z"
   },
   {
    "duration": 440,
    "start_time": "2023-03-17T21:47:27.357Z"
   },
   {
    "duration": 374,
    "start_time": "2023-03-17T21:50:08.795Z"
   },
   {
    "duration": 417,
    "start_time": "2023-03-17T21:54:42.525Z"
   },
   {
    "duration": 441,
    "start_time": "2023-03-17T21:55:46.487Z"
   },
   {
    "duration": 451,
    "start_time": "2023-03-17T21:55:55.359Z"
   },
   {
    "duration": 427,
    "start_time": "2023-03-17T21:56:01.199Z"
   },
   {
    "duration": 447,
    "start_time": "2023-03-17T21:57:21.503Z"
   },
   {
    "duration": 464,
    "start_time": "2023-03-17T21:57:28.318Z"
   },
   {
    "duration": 490,
    "start_time": "2023-03-17T21:57:34.271Z"
   },
   {
    "duration": 852,
    "start_time": "2023-03-17T21:57:37.414Z"
   },
   {
    "duration": 428,
    "start_time": "2023-03-17T22:00:07.328Z"
   },
   {
    "duration": 459,
    "start_time": "2023-03-17T22:00:50.840Z"
   },
   {
    "duration": 46,
    "start_time": "2023-03-17T22:02:44.515Z"
   },
   {
    "duration": 3533,
    "start_time": "2023-03-17T22:02:49.343Z"
   },
   {
    "duration": 3834,
    "start_time": "2023-03-17T22:03:20.632Z"
   },
   {
    "duration": 3875,
    "start_time": "2023-03-17T22:03:33.737Z"
   },
   {
    "duration": 3907,
    "start_time": "2023-03-17T22:03:54.401Z"
   },
   {
    "duration": 9,
    "start_time": "2023-03-17T22:11:08.882Z"
   },
   {
    "duration": 13,
    "start_time": "2023-03-17T22:11:20.772Z"
   },
   {
    "duration": 13,
    "start_time": "2023-03-17T22:12:05.972Z"
   },
   {
    "duration": 19,
    "start_time": "2023-03-17T22:12:21.482Z"
   },
   {
    "duration": 181,
    "start_time": "2023-03-17T22:12:55.578Z"
   },
   {
    "duration": 18,
    "start_time": "2023-03-17T22:13:03.986Z"
   },
   {
    "duration": 17,
    "start_time": "2023-03-17T22:13:47.572Z"
   },
   {
    "duration": 48,
    "start_time": "2023-03-17T22:13:54.507Z"
   },
   {
    "duration": 13,
    "start_time": "2023-03-17T22:13:59.650Z"
   },
   {
    "duration": 17,
    "start_time": "2023-03-17T22:14:31.483Z"
   },
   {
    "duration": 8,
    "start_time": "2023-03-17T22:15:43.956Z"
   },
   {
    "duration": 10,
    "start_time": "2023-03-17T22:16:10.460Z"
   },
   {
    "duration": 3661,
    "start_time": "2023-03-17T22:18:08.629Z"
   },
   {
    "duration": 710,
    "start_time": "2023-03-17T22:28:45.807Z"
   },
   {
    "duration": 11,
    "start_time": "2023-03-17T22:29:01.808Z"
   },
   {
    "duration": 11,
    "start_time": "2023-03-17T22:31:51.887Z"
   },
   {
    "duration": 10,
    "start_time": "2023-03-17T22:31:57.973Z"
   },
   {
    "duration": 9,
    "start_time": "2023-03-17T22:32:07.768Z"
   },
   {
    "duration": 12,
    "start_time": "2023-03-17T22:32:12.271Z"
   },
   {
    "duration": 5,
    "start_time": "2023-03-17T22:36:14.402Z"
   },
   {
    "duration": 7,
    "start_time": "2023-03-17T22:36:22.975Z"
   },
   {
    "duration": 5,
    "start_time": "2023-03-17T22:40:43.344Z"
   },
   {
    "duration": 5,
    "start_time": "2023-03-17T22:40:51.257Z"
   },
   {
    "duration": 4,
    "start_time": "2023-03-17T22:41:02.697Z"
   },
   {
    "duration": 4,
    "start_time": "2023-03-17T22:41:08.572Z"
   },
   {
    "duration": 3,
    "start_time": "2023-03-17T22:41:46.431Z"
   },
   {
    "duration": 59,
    "start_time": "2023-03-17T22:41:46.435Z"
   },
   {
    "duration": 12,
    "start_time": "2023-03-17T22:41:58.250Z"
   },
   {
    "duration": 5,
    "start_time": "2023-03-17T22:42:53.983Z"
   },
   {
    "duration": 70,
    "start_time": "2023-03-17T22:42:53.991Z"
   },
   {
    "duration": 11,
    "start_time": "2023-03-17T22:42:56.386Z"
   },
   {
    "duration": 3746,
    "start_time": "2023-03-17T22:43:05.338Z"
   },
   {
    "duration": 4,
    "start_time": "2023-03-18T08:32:45.450Z"
   },
   {
    "duration": 3,
    "start_time": "2023-03-18T09:33:30.464Z"
   },
   {
    "duration": 1475,
    "start_time": "2023-03-18T23:22:07.545Z"
   },
   {
    "duration": 107,
    "start_time": "2023-03-18T23:22:09.022Z"
   },
   {
    "duration": 11,
    "start_time": "2023-03-18T23:22:09.131Z"
   },
   {
    "duration": 3889,
    "start_time": "2023-03-18T23:22:09.144Z"
   },
   {
    "duration": 6,
    "start_time": "2023-03-18T23:39:20.263Z"
   },
   {
    "duration": 4,
    "start_time": "2023-03-18T23:39:30.214Z"
   },
   {
    "duration": 3,
    "start_time": "2023-03-18T23:46:26.052Z"
   },
   {
    "duration": 4,
    "start_time": "2023-03-18T23:46:37.152Z"
   },
   {
    "duration": 5,
    "start_time": "2023-03-18T23:46:44.883Z"
   },
   {
    "duration": 4,
    "start_time": "2023-03-18T23:46:50.173Z"
   },
   {
    "duration": 4,
    "start_time": "2023-03-18T23:46:56.513Z"
   },
   {
    "duration": 3,
    "start_time": "2023-03-18T23:46:57.647Z"
   },
   {
    "duration": 6,
    "start_time": "2023-03-18T23:47:42.656Z"
   },
   {
    "duration": 106,
    "start_time": "2023-03-19T00:13:46.363Z"
   },
   {
    "duration": 6,
    "start_time": "2023-03-19T00:15:58.343Z"
   },
   {
    "duration": 10,
    "start_time": "2023-03-19T00:16:44.894Z"
   },
   {
    "duration": 19,
    "start_time": "2023-03-19T00:17:39.124Z"
   },
   {
    "duration": 12,
    "start_time": "2023-03-19T00:18:26.183Z"
   },
   {
    "duration": 24,
    "start_time": "2023-03-19T00:19:07.773Z"
   },
   {
    "duration": 19,
    "start_time": "2023-03-19T00:19:18.536Z"
   },
   {
    "duration": 1937,
    "start_time": "2023-03-20T13:37:03.587Z"
   },
   {
    "duration": 193,
    "start_time": "2023-03-20T13:37:05.531Z"
   },
   {
    "duration": 15,
    "start_time": "2023-03-20T13:37:05.726Z"
   },
   {
    "duration": 5733,
    "start_time": "2023-03-20T13:37:05.744Z"
   },
   {
    "duration": 4,
    "start_time": "2023-03-20T13:37:11.479Z"
   },
   {
    "duration": 63,
    "start_time": "2023-03-20T13:37:11.508Z"
   },
   {
    "duration": 60,
    "start_time": "2023-03-20T13:37:11.573Z"
   },
   {
    "duration": 27,
    "start_time": "2023-03-20T14:20:20.628Z"
   },
   {
    "duration": 29,
    "start_time": "2023-03-20T14:22:08.231Z"
   },
   {
    "duration": 50,
    "start_time": "2023-03-20T14:22:36.268Z"
   },
   {
    "duration": 36,
    "start_time": "2023-03-20T14:22:54.371Z"
   },
   {
    "duration": 4,
    "start_time": "2023-03-20T14:26:19.313Z"
   },
   {
    "duration": 3,
    "start_time": "2023-03-20T14:26:26.981Z"
   },
   {
    "duration": 4,
    "start_time": "2023-03-20T14:27:23.733Z"
   },
   {
    "duration": 43,
    "start_time": "2023-03-20T14:27:57.420Z"
   },
   {
    "duration": 17,
    "start_time": "2023-03-20T14:28:20.730Z"
   },
   {
    "duration": 222,
    "start_time": "2023-03-20T14:29:44.799Z"
   },
   {
    "duration": 23,
    "start_time": "2023-03-20T14:29:50.427Z"
   },
   {
    "duration": 35,
    "start_time": "2023-03-20T14:30:15.226Z"
   },
   {
    "duration": 24,
    "start_time": "2023-03-20T14:30:23.125Z"
   },
   {
    "duration": 17,
    "start_time": "2023-03-20T14:30:40.039Z"
   },
   {
    "duration": 19,
    "start_time": "2023-03-20T14:30:46.447Z"
   },
   {
    "duration": 170,
    "start_time": "2023-03-20T14:31:16.326Z"
   },
   {
    "duration": 133,
    "start_time": "2023-03-20T14:31:23.086Z"
   },
   {
    "duration": 22,
    "start_time": "2023-03-20T14:31:28.137Z"
   },
   {
    "duration": 17,
    "start_time": "2023-03-20T14:31:48.336Z"
   },
   {
    "duration": 249,
    "start_time": "2023-03-20T14:43:58.249Z"
   },
   {
    "duration": 473,
    "start_time": "2023-03-20T14:44:06.566Z"
   },
   {
    "duration": 9,
    "start_time": "2023-03-20T14:58:44.553Z"
   },
   {
    "duration": 16,
    "start_time": "2023-03-20T15:02:53.721Z"
   },
   {
    "duration": 7,
    "start_time": "2023-03-20T15:03:17.864Z"
   },
   {
    "duration": 9,
    "start_time": "2023-03-20T15:04:51.354Z"
   },
   {
    "duration": 6,
    "start_time": "2023-03-20T15:04:55.753Z"
   },
   {
    "duration": 234,
    "start_time": "2023-03-20T15:06:28.547Z"
   },
   {
    "duration": 22,
    "start_time": "2023-03-20T15:07:07.402Z"
   },
   {
    "duration": 11,
    "start_time": "2023-03-20T15:08:46.779Z"
   },
   {
    "duration": 72,
    "start_time": "2023-03-20T15:09:25.211Z"
   },
   {
    "duration": 10,
    "start_time": "2023-03-20T15:09:37.403Z"
   },
   {
    "duration": 280,
    "start_time": "2023-03-20T15:10:37.684Z"
   },
   {
    "duration": 205,
    "start_time": "2023-03-20T15:10:48.442Z"
   },
   {
    "duration": 146,
    "start_time": "2023-03-20T15:11:02.479Z"
   },
   {
    "duration": 276,
    "start_time": "2023-03-20T15:11:09.066Z"
   },
   {
    "duration": 637,
    "start_time": "2023-03-20T15:12:42.453Z"
   },
   {
    "duration": 287,
    "start_time": "2023-03-20T15:12:55.955Z"
   },
   {
    "duration": 272,
    "start_time": "2023-03-20T15:13:20.284Z"
   },
   {
    "duration": 276,
    "start_time": "2023-03-20T15:19:27.342Z"
   },
   {
    "duration": 171,
    "start_time": "2023-03-20T15:22:21.143Z"
   },
   {
    "duration": 271,
    "start_time": "2023-03-20T15:27:30.644Z"
   },
   {
    "duration": 29,
    "start_time": "2023-03-20T15:42:12.288Z"
   },
   {
    "duration": 100,
    "start_time": "2023-03-20T20:23:50.251Z"
   },
   {
    "duration": 6,
    "start_time": "2023-03-20T20:23:58.237Z"
   },
   {
    "duration": 5,
    "start_time": "2023-03-20T20:24:15.524Z"
   },
   {
    "duration": 53,
    "start_time": "2023-03-20T20:26:22.275Z"
   },
   {
    "duration": 14,
    "start_time": "2023-03-20T20:26:41.773Z"
   },
   {
    "duration": 7,
    "start_time": "2023-03-20T20:27:00.605Z"
   },
   {
    "duration": 4,
    "start_time": "2023-03-20T20:27:33.348Z"
   },
   {
    "duration": 6,
    "start_time": "2023-03-20T20:27:35.756Z"
   },
   {
    "duration": 1611,
    "start_time": "2023-03-20T20:27:47.599Z"
   },
   {
    "duration": 117,
    "start_time": "2023-03-20T20:27:49.212Z"
   },
   {
    "duration": 10,
    "start_time": "2023-03-20T20:27:49.330Z"
   },
   {
    "duration": 3648,
    "start_time": "2023-03-20T20:27:49.341Z"
   },
   {
    "duration": 11,
    "start_time": "2023-03-20T20:27:52.995Z"
   },
   {
    "duration": 11,
    "start_time": "2023-03-20T20:27:53.007Z"
   },
   {
    "duration": 77,
    "start_time": "2023-03-20T20:27:53.021Z"
   },
   {
    "duration": 107,
    "start_time": "2023-03-20T20:27:53.100Z"
   },
   {
    "duration": 198,
    "start_time": "2023-03-20T20:27:53.211Z"
   },
   {
    "duration": 399,
    "start_time": "2023-03-20T20:27:53.411Z"
   },
   {
    "duration": 5,
    "start_time": "2023-03-20T20:27:53.812Z"
   },
   {
    "duration": 9,
    "start_time": "2023-03-20T20:27:53.818Z"
   },
   {
    "duration": 23,
    "start_time": "2023-03-20T20:28:15.693Z"
   },
   {
    "duration": 32259,
    "start_time": "2023-03-20T20:28:18.772Z"
   },
   {
    "duration": 7,
    "start_time": "2023-03-20T20:29:21.023Z"
   },
   {
    "duration": 50,
    "start_time": "2023-03-20T20:29:23.445Z"
   },
   {
    "duration": 23,
    "start_time": "2023-03-20T20:37:43.880Z"
   },
   {
    "duration": 7,
    "start_time": "2023-03-20T20:39:00.530Z"
   },
   {
    "duration": 12,
    "start_time": "2023-03-20T20:39:11.727Z"
   },
   {
    "duration": 10,
    "start_time": "2023-03-20T20:39:12.903Z"
   },
   {
    "duration": 87,
    "start_time": "2023-03-20T20:41:59.200Z"
   },
   {
    "duration": 4,
    "start_time": "2023-03-20T20:42:29.161Z"
   },
   {
    "duration": 44,
    "start_time": "2023-03-20T20:42:34.232Z"
   },
   {
    "duration": 8,
    "start_time": "2023-03-20T20:42:52.431Z"
   },
   {
    "duration": 13,
    "start_time": "2023-03-20T20:42:53.560Z"
   },
   {
    "duration": 12,
    "start_time": "2023-03-20T20:42:54.551Z"
   },
   {
    "duration": 4,
    "start_time": "2023-03-20T20:43:22.935Z"
   },
   {
    "duration": 15,
    "start_time": "2023-03-20T20:43:26.095Z"
   },
   {
    "duration": 13,
    "start_time": "2023-03-20T20:43:35.039Z"
   },
   {
    "duration": 5,
    "start_time": "2023-03-20T20:44:08.425Z"
   },
   {
    "duration": 99,
    "start_time": "2023-03-20T20:44:10.994Z"
   },
   {
    "duration": 9,
    "start_time": "2023-03-20T20:47:06.793Z"
   },
   {
    "duration": 8,
    "start_time": "2023-03-20T20:47:08.032Z"
   },
   {
    "duration": 12,
    "start_time": "2023-03-20T20:47:10.640Z"
   },
   {
    "duration": 9,
    "start_time": "2023-03-20T20:47:11.985Z"
   },
   {
    "duration": 9,
    "start_time": "2023-03-20T20:47:14.361Z"
   },
   {
    "duration": 5,
    "start_time": "2023-03-20T20:49:41.441Z"
   },
   {
    "duration": 5,
    "start_time": "2023-03-20T20:50:02.020Z"
   },
   {
    "duration": 76,
    "start_time": "2023-03-20T20:51:30.770Z"
   },
   {
    "duration": 10,
    "start_time": "2023-03-20T20:52:11.363Z"
   },
   {
    "duration": 6,
    "start_time": "2023-03-20T20:52:19.906Z"
   },
   {
    "duration": 14,
    "start_time": "2023-03-20T20:55:39.739Z"
   },
   {
    "duration": 12,
    "start_time": "2023-03-20T20:55:57.905Z"
   },
   {
    "duration": 24,
    "start_time": "2023-03-20T20:56:33.094Z"
   },
   {
    "duration": 16,
    "start_time": "2023-03-20T20:57:45.845Z"
   },
   {
    "duration": 16,
    "start_time": "2023-03-20T21:05:29.246Z"
   },
   {
    "duration": 11,
    "start_time": "2023-03-20T21:10:38.071Z"
   },
   {
    "duration": 5,
    "start_time": "2023-03-20T21:10:46.817Z"
   },
   {
    "duration": 9,
    "start_time": "2023-03-20T21:11:04.663Z"
   },
   {
    "duration": 9,
    "start_time": "2023-03-20T21:11:10.699Z"
   },
   {
    "duration": 10,
    "start_time": "2023-03-20T21:11:46.367Z"
   },
   {
    "duration": 9,
    "start_time": "2023-03-20T21:12:12.561Z"
   },
   {
    "duration": 3,
    "start_time": "2023-03-20T21:12:16.333Z"
   },
   {
    "duration": 13,
    "start_time": "2023-03-20T21:13:00.891Z"
   },
   {
    "duration": 4,
    "start_time": "2023-03-20T21:13:50.144Z"
   },
   {
    "duration": 14,
    "start_time": "2023-03-20T21:18:06.073Z"
   },
   {
    "duration": 5,
    "start_time": "2023-03-20T21:19:04.513Z"
   },
   {
    "duration": 63,
    "start_time": "2023-03-20T21:19:09.425Z"
   },
   {
    "duration": 6,
    "start_time": "2023-03-20T21:20:55.449Z"
   },
   {
    "duration": 20,
    "start_time": "2023-03-20T21:21:06.971Z"
   },
   {
    "duration": 13,
    "start_time": "2023-03-20T21:22:48.633Z"
   },
   {
    "duration": 15,
    "start_time": "2023-03-20T21:22:50.337Z"
   },
   {
    "duration": 6,
    "start_time": "2023-03-20T21:25:03.452Z"
   },
   {
    "duration": 6,
    "start_time": "2023-03-20T21:26:09.850Z"
   },
   {
    "duration": 9,
    "start_time": "2023-03-20T21:26:13.459Z"
   },
   {
    "duration": 5,
    "start_time": "2023-03-20T21:30:47.050Z"
   },
   {
    "duration": 17,
    "start_time": "2023-03-20T21:30:51.716Z"
   },
   {
    "duration": 5,
    "start_time": "2023-03-20T21:31:22.565Z"
   },
   {
    "duration": 63,
    "start_time": "2023-03-20T21:31:25.215Z"
   },
   {
    "duration": 16,
    "start_time": "2023-03-20T21:31:32.533Z"
   },
   {
    "duration": 16,
    "start_time": "2023-03-20T21:31:33.604Z"
   },
   {
    "duration": 4,
    "start_time": "2023-03-20T21:35:25.132Z"
   },
   {
    "duration": 5,
    "start_time": "2023-03-20T21:35:32.349Z"
   },
   {
    "duration": 9,
    "start_time": "2023-03-20T21:35:37.477Z"
   },
   {
    "duration": 5,
    "start_time": "2023-03-20T21:36:40.806Z"
   },
   {
    "duration": 776,
    "start_time": "2023-03-20T21:36:43.430Z"
   },
   {
    "duration": 15,
    "start_time": "2023-03-20T21:37:09.374Z"
   },
   {
    "duration": 11,
    "start_time": "2023-03-20T21:37:11.558Z"
   },
   {
    "duration": 15,
    "start_time": "2023-03-20T21:37:29.278Z"
   },
   {
    "duration": 12,
    "start_time": "2023-03-20T21:37:31.653Z"
   },
   {
    "duration": 9,
    "start_time": "2023-03-20T21:39:15.602Z"
   },
   {
    "duration": 18,
    "start_time": "2023-03-20T21:39:20.768Z"
   },
   {
    "duration": 11,
    "start_time": "2023-03-20T21:39:39.078Z"
   },
   {
    "duration": 9,
    "start_time": "2023-03-20T21:39:41.254Z"
   },
   {
    "duration": 5,
    "start_time": "2023-03-20T21:39:56.157Z"
   },
   {
    "duration": 69,
    "start_time": "2023-03-20T21:39:58.310Z"
   },
   {
    "duration": 5,
    "start_time": "2023-03-20T21:40:18.318Z"
   },
   {
    "duration": 10,
    "start_time": "2023-03-20T21:40:21.520Z"
   },
   {
    "duration": 5,
    "start_time": "2023-03-20T21:41:02.392Z"
   },
   {
    "duration": 11,
    "start_time": "2023-03-20T21:41:05.646Z"
   },
   {
    "duration": 8,
    "start_time": "2023-03-20T21:47:06.796Z"
   },
   {
    "duration": 77,
    "start_time": "2023-03-20T21:47:10.798Z"
   },
   {
    "duration": 7,
    "start_time": "2023-03-20T21:54:16.227Z"
   },
   {
    "duration": 6,
    "start_time": "2023-03-20T21:54:18.139Z"
   },
   {
    "duration": 21,
    "start_time": "2023-03-20T21:54:28.825Z"
   },
   {
    "duration": 5,
    "start_time": "2023-03-20T21:54:51.914Z"
   },
   {
    "duration": 17,
    "start_time": "2023-03-20T21:54:55.330Z"
   },
   {
    "duration": 8,
    "start_time": "2023-03-20T21:55:06.998Z"
   },
   {
    "duration": 89,
    "start_time": "2023-03-20T21:55:11.098Z"
   },
   {
    "duration": 6,
    "start_time": "2023-03-20T21:57:56.419Z"
   },
   {
    "duration": 10,
    "start_time": "2023-03-20T21:57:59.756Z"
   },
   {
    "duration": 5,
    "start_time": "2023-03-20T21:58:10.844Z"
   },
   {
    "duration": 10,
    "start_time": "2023-03-20T21:58:15.305Z"
   },
   {
    "duration": 10,
    "start_time": "2023-03-20T22:01:29.973Z"
   },
   {
    "duration": 16,
    "start_time": "2023-03-20T22:01:33.413Z"
   },
   {
    "duration": 6,
    "start_time": "2023-03-20T22:01:56.316Z"
   },
   {
    "duration": 12,
    "start_time": "2023-03-20T22:01:59.493Z"
   },
   {
    "duration": 6,
    "start_time": "2023-03-20T22:02:26.061Z"
   },
   {
    "duration": 11,
    "start_time": "2023-03-20T22:02:36.213Z"
   },
   {
    "duration": 13,
    "start_time": "2023-03-20T22:06:10.786Z"
   },
   {
    "duration": 12,
    "start_time": "2023-03-20T22:06:16.309Z"
   },
   {
    "duration": 110,
    "start_time": "2023-03-20T22:07:47.413Z"
   },
   {
    "duration": 6,
    "start_time": "2023-03-20T22:11:38.319Z"
   },
   {
    "duration": 43,
    "start_time": "2023-03-20T22:11:43.039Z"
   },
   {
    "duration": 4,
    "start_time": "2023-03-20T22:12:26.319Z"
   },
   {
    "duration": 82,
    "start_time": "2023-03-20T22:20:11.089Z"
   },
   {
    "duration": 19,
    "start_time": "2023-03-20T22:20:50.169Z"
   },
   {
    "duration": 14,
    "start_time": "2023-03-20T22:20:58.041Z"
   },
   {
    "duration": 10,
    "start_time": "2023-03-20T22:21:45.009Z"
   },
   {
    "duration": 67,
    "start_time": "2023-03-20T22:41:26.311Z"
   },
   {
    "duration": 24,
    "start_time": "2023-03-20T22:46:22.352Z"
   },
   {
    "duration": 153,
    "start_time": "2023-03-20T22:47:09.425Z"
   },
   {
    "duration": 37,
    "start_time": "2023-03-20T22:52:37.945Z"
   },
   {
    "duration": 5,
    "start_time": "2023-03-20T23:01:08.636Z"
   },
   {
    "duration": 5,
    "start_time": "2023-03-20T23:36:44.052Z"
   },
   {
    "duration": 60,
    "start_time": "2023-03-20T23:36:55.716Z"
   },
   {
    "duration": 4,
    "start_time": "2023-03-21T00:31:34.489Z"
   },
   {
    "duration": 5,
    "start_time": "2023-03-21T00:31:38.857Z"
   },
   {
    "duration": 19,
    "start_time": "2023-03-21T00:31:45.971Z"
   },
   {
    "duration": 4,
    "start_time": "2023-03-21T00:32:35.930Z"
   },
   {
    "duration": 4,
    "start_time": "2023-03-21T00:32:50.154Z"
   },
   {
    "duration": 3,
    "start_time": "2023-03-21T00:33:01.410Z"
   },
   {
    "duration": 4,
    "start_time": "2023-03-21T00:33:13.794Z"
   },
   {
    "duration": 3,
    "start_time": "2023-03-21T00:33:19.666Z"
   },
   {
    "duration": 89,
    "start_time": "2023-03-21T00:39:35.492Z"
   },
   {
    "duration": 113,
    "start_time": "2023-03-21T00:39:50.468Z"
   },
   {
    "duration": 135,
    "start_time": "2023-03-21T00:40:45.533Z"
   },
   {
    "duration": 11,
    "start_time": "2023-03-21T00:41:02.221Z"
   },
   {
    "duration": 6,
    "start_time": "2023-03-21T00:42:52.829Z"
   },
   {
    "duration": 5,
    "start_time": "2023-03-21T00:42:59.435Z"
   },
   {
    "duration": 5,
    "start_time": "2023-03-21T00:45:46.006Z"
   },
   {
    "duration": 4,
    "start_time": "2023-03-21T00:45:52.701Z"
   },
   {
    "duration": 24,
    "start_time": "2023-03-21T00:46:46.415Z"
   },
   {
    "duration": 27,
    "start_time": "2023-03-21T00:48:05.248Z"
   },
   {
    "duration": 26,
    "start_time": "2023-03-21T00:48:45.942Z"
   },
   {
    "duration": 77,
    "start_time": "2023-03-21T00:53:25.936Z"
   },
   {
    "duration": 19,
    "start_time": "2023-03-21T00:53:34.936Z"
   },
   {
    "duration": 5,
    "start_time": "2023-03-21T00:54:58.455Z"
   },
   {
    "duration": 4,
    "start_time": "2023-03-21T00:55:09.880Z"
   },
   {
    "duration": 290,
    "start_time": "2023-03-21T00:55:15.063Z"
   },
   {
    "duration": 19,
    "start_time": "2023-03-21T00:57:54.418Z"
   },
   {
    "duration": 5,
    "start_time": "2023-03-21T00:58:46.344Z"
   },
   {
    "duration": 9,
    "start_time": "2023-03-21T00:58:48.441Z"
   },
   {
    "duration": 4,
    "start_time": "2023-03-21T00:59:14.729Z"
   },
   {
    "duration": 583,
    "start_time": "2023-03-21T00:59:17.408Z"
   },
   {
    "duration": 3,
    "start_time": "2023-03-21T01:00:00.913Z"
   },
   {
    "duration": 4,
    "start_time": "2023-03-21T01:00:01.560Z"
   },
   {
    "duration": 5,
    "start_time": "2023-03-21T01:00:06.784Z"
   },
   {
    "duration": 19,
    "start_time": "2023-03-21T01:00:10.817Z"
   },
   {
    "duration": 6,
    "start_time": "2023-03-21T01:00:15.080Z"
   },
   {
    "duration": 7,
    "start_time": "2023-03-21T01:00:17.416Z"
   },
   {
    "duration": 234,
    "start_time": "2023-03-21T01:00:20.353Z"
   },
   {
    "duration": 242,
    "start_time": "2023-03-21T01:01:31.497Z"
   },
   {
    "duration": 3,
    "start_time": "2023-03-21T01:02:37.482Z"
   },
   {
    "duration": 4,
    "start_time": "2023-03-21T01:02:42.712Z"
   },
   {
    "duration": 10,
    "start_time": "2023-03-21T01:02:46.488Z"
   },
   {
    "duration": 20,
    "start_time": "2023-03-21T01:02:48.953Z"
   },
   {
    "duration": 11,
    "start_time": "2023-03-21T01:02:53.081Z"
   },
   {
    "duration": 5,
    "start_time": "2023-03-21T01:02:55.113Z"
   },
   {
    "duration": 246,
    "start_time": "2023-03-21T01:02:57.632Z"
   },
   {
    "duration": 4,
    "start_time": "2023-03-21T01:07:41.484Z"
   },
   {
    "duration": 7,
    "start_time": "2023-03-21T01:07:43.939Z"
   },
   {
    "duration": 22,
    "start_time": "2023-03-21T01:07:47.165Z"
   },
   {
    "duration": 99,
    "start_time": "2023-03-21T01:07:50.875Z"
   },
   {
    "duration": 4,
    "start_time": "2023-03-21T01:07:53.106Z"
   },
   {
    "duration": 249,
    "start_time": "2023-03-21T01:07:55.773Z"
   },
   {
    "duration": 3,
    "start_time": "2023-03-21T01:08:42.500Z"
   },
   {
    "duration": 5,
    "start_time": "2023-03-21T01:08:44.707Z"
   },
   {
    "duration": 20,
    "start_time": "2023-03-21T01:08:46.699Z"
   },
   {
    "duration": 6,
    "start_time": "2023-03-21T01:09:01.906Z"
   },
   {
    "duration": 5,
    "start_time": "2023-03-21T01:09:04.010Z"
   },
   {
    "duration": 236,
    "start_time": "2023-03-21T01:09:06.506Z"
   },
   {
    "duration": 1500,
    "start_time": "2023-03-21T01:15:36.573Z"
   },
   {
    "duration": 53,
    "start_time": "2023-03-21T01:15:38.075Z"
   },
   {
    "duration": 10,
    "start_time": "2023-03-21T01:15:38.129Z"
   },
   {
    "duration": 3491,
    "start_time": "2023-03-21T01:15:38.141Z"
   },
   {
    "duration": 4,
    "start_time": "2023-03-21T01:15:41.634Z"
   },
   {
    "duration": 35,
    "start_time": "2023-03-21T01:15:41.640Z"
   },
   {
    "duration": 112,
    "start_time": "2023-03-21T01:15:41.678Z"
   },
   {
    "duration": 6,
    "start_time": "2023-03-21T01:15:41.791Z"
   },
   {
    "duration": 176,
    "start_time": "2023-03-21T01:15:41.799Z"
   },
   {
    "duration": 422,
    "start_time": "2023-03-21T01:15:41.979Z"
   },
   {
    "duration": 6,
    "start_time": "2023-03-21T01:15:42.402Z"
   },
   {
    "duration": 7,
    "start_time": "2023-03-21T01:15:42.410Z"
   },
   {
    "duration": 159,
    "start_time": "2023-03-21T01:15:42.418Z"
   },
   {
    "duration": 96,
    "start_time": "2023-03-21T01:15:42.579Z"
   },
   {
    "duration": 3,
    "start_time": "2023-03-21T01:16:36.309Z"
   },
   {
    "duration": 50,
    "start_time": "2023-03-21T01:16:36.314Z"
   },
   {
    "duration": 11,
    "start_time": "2023-03-21T01:16:36.366Z"
   },
   {
    "duration": 3695,
    "start_time": "2023-03-21T01:16:36.379Z"
   },
   {
    "duration": 4,
    "start_time": "2023-03-21T01:16:40.075Z"
   },
   {
    "duration": 20,
    "start_time": "2023-03-21T01:16:40.081Z"
   },
   {
    "duration": 172,
    "start_time": "2023-03-21T01:16:40.103Z"
   },
   {
    "duration": 4,
    "start_time": "2023-03-21T01:16:40.277Z"
   },
   {
    "duration": 102,
    "start_time": "2023-03-21T01:16:40.283Z"
   },
   {
    "duration": 428,
    "start_time": "2023-03-21T01:16:40.388Z"
   },
   {
    "duration": 243,
    "start_time": "2023-03-21T01:16:40.818Z"
   },
   {
    "duration": 12,
    "start_time": "2023-03-21T01:16:41.063Z"
   },
   {
    "duration": 101,
    "start_time": "2023-03-21T01:16:41.076Z"
   },
   {
    "duration": 96,
    "start_time": "2023-03-21T01:16:41.179Z"
   },
   {
    "duration": 247,
    "start_time": "2023-03-21T02:03:00.985Z"
   },
   {
    "duration": 6,
    "start_time": "2023-03-21T02:12:49.555Z"
   },
   {
    "duration": 6,
    "start_time": "2023-03-21T02:15:03.580Z"
   },
   {
    "duration": 1309,
    "start_time": "2023-03-21T02:25:17.878Z"
   },
   {
    "duration": 51,
    "start_time": "2023-03-21T02:25:19.189Z"
   },
   {
    "duration": 11,
    "start_time": "2023-03-21T02:25:19.241Z"
   },
   {
    "duration": 3299,
    "start_time": "2023-03-21T02:25:19.254Z"
   },
   {
    "duration": 3,
    "start_time": "2023-03-21T02:25:22.555Z"
   },
   {
    "duration": 17,
    "start_time": "2023-03-21T02:25:22.560Z"
   },
   {
    "duration": 195,
    "start_time": "2023-03-21T02:25:22.579Z"
   },
   {
    "duration": 12,
    "start_time": "2023-03-21T02:25:22.776Z"
   },
   {
    "duration": 101,
    "start_time": "2023-03-21T02:25:22.873Z"
   },
   {
    "duration": 332,
    "start_time": "2023-03-21T02:25:22.978Z"
   },
   {
    "duration": 6,
    "start_time": "2023-03-21T02:25:23.312Z"
   },
   {
    "duration": 6,
    "start_time": "2023-03-21T02:25:23.319Z"
   },
   {
    "duration": 149,
    "start_time": "2023-03-21T02:25:23.327Z"
   },
   {
    "duration": 102,
    "start_time": "2023-03-21T02:25:23.479Z"
   },
   {
    "duration": 1499,
    "start_time": "2023-03-22T03:09:03.446Z"
   },
   {
    "duration": 93,
    "start_time": "2023-03-22T03:09:04.946Z"
   },
   {
    "duration": 10,
    "start_time": "2023-03-22T03:09:05.041Z"
   },
   {
    "duration": 2957,
    "start_time": "2023-03-22T03:09:05.052Z"
   },
   {
    "duration": 3,
    "start_time": "2023-03-22T03:09:08.011Z"
   },
   {
    "duration": 5,
    "start_time": "2023-03-22T03:09:08.021Z"
   },
   {
    "duration": 104,
    "start_time": "2023-03-22T03:09:08.027Z"
   },
   {
    "duration": 90,
    "start_time": "2023-03-22T03:09:08.133Z"
   },
   {
    "duration": 5,
    "start_time": "2023-03-22T03:09:08.226Z"
   },
   {
    "duration": 286,
    "start_time": "2023-03-22T03:09:08.324Z"
   },
   {
    "duration": 12,
    "start_time": "2023-03-22T03:09:08.611Z"
   },
   {
    "duration": 23,
    "start_time": "2023-03-22T03:09:08.624Z"
   },
   {
    "duration": 75,
    "start_time": "2023-03-22T03:09:08.649Z"
   },
   {
    "duration": 102,
    "start_time": "2023-03-22T03:09:08.726Z"
   },
   {
    "duration": 93,
    "start_time": "2023-03-22T03:09:12.930Z"
   },
   {
    "duration": 48,
    "start_time": "2023-03-22T03:09:13.025Z"
   },
   {
    "duration": 10,
    "start_time": "2023-03-22T03:09:13.075Z"
   },
   {
    "duration": 3063,
    "start_time": "2023-03-22T03:09:13.087Z"
   },
   {
    "duration": 4,
    "start_time": "2023-03-22T03:09:16.152Z"
   },
   {
    "duration": 8,
    "start_time": "2023-03-22T03:09:16.157Z"
   },
   {
    "duration": 73,
    "start_time": "2023-03-22T03:09:16.167Z"
   },
   {
    "duration": 5,
    "start_time": "2023-03-22T03:09:16.322Z"
   },
   {
    "duration": 101,
    "start_time": "2023-03-22T03:09:16.423Z"
   },
   {
    "duration": 842,
    "start_time": "2023-03-22T03:09:16.526Z"
   },
   {
    "duration": 56,
    "start_time": "2023-03-22T03:09:17.369Z"
   },
   {
    "duration": 8,
    "start_time": "2023-03-22T03:09:17.427Z"
   },
   {
    "duration": 90,
    "start_time": "2023-03-22T03:09:17.437Z"
   },
   {
    "duration": 196,
    "start_time": "2023-03-22T03:09:17.529Z"
   },
   {
    "duration": 1402,
    "start_time": "2023-03-22T03:09:54.967Z"
   },
   {
    "duration": 50,
    "start_time": "2023-03-22T03:09:56.372Z"
   },
   {
    "duration": 9,
    "start_time": "2023-03-22T03:09:56.423Z"
   },
   {
    "duration": 3815,
    "start_time": "2023-03-22T03:09:56.434Z"
   },
   {
    "duration": 3,
    "start_time": "2023-03-22T03:10:00.250Z"
   },
   {
    "duration": 69,
    "start_time": "2023-03-22T03:10:00.254Z"
   },
   {
    "duration": 104,
    "start_time": "2023-03-22T03:10:00.325Z"
   },
   {
    "duration": 32,
    "start_time": "2023-03-22T03:10:00.431Z"
   },
   {
    "duration": 166,
    "start_time": "2023-03-22T03:10:00.464Z"
   },
   {
    "duration": 603,
    "start_time": "2023-03-22T03:10:00.631Z"
   },
   {
    "duration": 5,
    "start_time": "2023-03-22T03:10:01.235Z"
   },
   {
    "duration": 82,
    "start_time": "2023-03-22T03:10:01.241Z"
   },
   {
    "duration": 103,
    "start_time": "2023-03-22T03:10:01.324Z"
   },
   {
    "duration": 237,
    "start_time": "2023-03-22T03:10:01.429Z"
   },
   {
    "duration": 4,
    "start_time": "2023-03-22T03:36:21.525Z"
   },
   {
    "duration": 1584,
    "start_time": "2023-03-22T08:30:14.801Z"
   },
   {
    "duration": 137,
    "start_time": "2023-03-22T08:30:16.387Z"
   },
   {
    "duration": 6,
    "start_time": "2023-03-22T08:30:16.525Z"
   },
   {
    "duration": 10,
    "start_time": "2023-03-22T08:46:15.707Z"
   },
   {
    "duration": 393,
    "start_time": "2023-03-22T08:46:59.144Z"
   },
   {
    "duration": 3008,
    "start_time": "2023-03-22T08:51:39.090Z"
   },
   {
    "duration": 52,
    "start_time": "2023-03-22T08:52:37.820Z"
   },
   {
    "duration": 3155,
    "start_time": "2023-03-22T08:52:42.380Z"
   },
   {
    "duration": 2808,
    "start_time": "2023-03-22T09:16:08.188Z"
   },
   {
    "duration": 21,
    "start_time": "2023-03-22T09:17:31.056Z"
   },
   {
    "duration": 165867,
    "start_time": "2023-03-22T09:20:12.015Z"
   },
   {
    "duration": 91,
    "start_time": "2023-03-22T09:23:13.664Z"
   },
   {
    "duration": 123,
    "start_time": "2023-03-22T09:26:02.926Z"
   },
   {
    "duration": 201149,
    "start_time": "2023-03-22T09:26:13.752Z"
   },
   {
    "duration": 176489,
    "start_time": "2023-03-22T09:53:11.639Z"
   },
   {
    "duration": 477,
    "start_time": "2023-03-22T09:57:27.416Z"
   },
   {
    "duration": 488,
    "start_time": "2023-03-22T09:58:04.963Z"
   },
   {
    "duration": 754,
    "start_time": "2023-03-22T10:21:11.482Z"
   },
   {
    "duration": 346,
    "start_time": "2023-03-22T10:26:09.080Z"
   },
   {
    "duration": 756,
    "start_time": "2023-03-22T10:26:13.768Z"
   },
   {
    "duration": 1136,
    "start_time": "2023-03-22T10:44:19.686Z"
   },
   {
    "duration": 1387,
    "start_time": "2023-03-22T10:45:32.651Z"
   },
   {
    "duration": 1428,
    "start_time": "2023-03-22T10:45:43.981Z"
   },
   {
    "duration": 58,
    "start_time": "2023-03-22T16:01:13.899Z"
   },
   {
    "duration": 3513,
    "start_time": "2023-03-22T16:01:23.895Z"
   },
   {
    "duration": 1788,
    "start_time": "2023-03-22T16:01:27.411Z"
   },
   {
    "duration": 223,
    "start_time": "2023-03-22T16:01:29.202Z"
   },
   {
    "duration": 9,
    "start_time": "2023-03-22T16:01:29.427Z"
   },
   {
    "duration": 3758,
    "start_time": "2023-03-22T16:01:29.438Z"
   },
   {
    "duration": 379,
    "start_time": "2023-03-22T16:01:33.198Z"
   },
   {
    "duration": 1104,
    "start_time": "2023-03-22T16:01:33.581Z"
   },
   {
    "duration": 260,
    "start_time": "2023-03-22T16:01:39.418Z"
   },
   {
    "duration": 112,
    "start_time": "2023-03-22T16:01:55.368Z"
   },
   {
    "duration": 214,
    "start_time": "2023-03-22T16:05:06.682Z"
   },
   {
    "duration": 405,
    "start_time": "2023-03-22T16:05:39.423Z"
   },
   {
    "duration": 1007,
    "start_time": "2023-03-22T16:05:42.670Z"
   },
   {
    "duration": 168,
    "start_time": "2023-03-22T16:09:35.483Z"
   },
   {
    "duration": 166,
    "start_time": "2023-03-22T16:09:44.934Z"
   },
   {
    "duration": 194,
    "start_time": "2023-03-22T16:10:41.624Z"
   },
   {
    "duration": 184,
    "start_time": "2023-03-22T16:20:17.278Z"
   },
   {
    "duration": 2958,
    "start_time": "2023-03-22T19:13:06.444Z"
   },
   {
    "duration": 1462,
    "start_time": "2023-03-22T19:13:09.404Z"
   },
   {
    "duration": 129,
    "start_time": "2023-03-22T19:13:10.867Z"
   },
   {
    "duration": 7,
    "start_time": "2023-03-22T19:13:10.998Z"
   },
   {
    "duration": 3985,
    "start_time": "2023-03-22T19:13:11.006Z"
   },
   {
    "duration": 402,
    "start_time": "2023-03-22T19:13:14.994Z"
   },
   {
    "duration": 1039,
    "start_time": "2023-03-22T19:13:15.398Z"
   },
   {
    "duration": 172,
    "start_time": "2023-03-22T19:13:16.439Z"
   },
   {
    "duration": 212,
    "start_time": "2023-03-22T19:14:42.561Z"
   },
   {
    "duration": 165,
    "start_time": "2023-03-22T19:14:53.238Z"
   },
   {
    "duration": 207,
    "start_time": "2023-03-22T19:15:36.702Z"
   },
   {
    "duration": 146,
    "start_time": "2023-03-22T19:16:10.091Z"
   },
   {
    "duration": 62,
    "start_time": "2023-03-22T19:16:30.932Z"
   },
   {
    "duration": 184,
    "start_time": "2023-03-22T19:16:38.232Z"
   },
   {
    "duration": 182,
    "start_time": "2023-03-22T19:18:04.399Z"
   },
   {
    "duration": 210,
    "start_time": "2023-03-22T19:18:32.464Z"
   },
   {
    "duration": 168,
    "start_time": "2023-03-22T19:18:41.354Z"
   },
   {
    "duration": 156,
    "start_time": "2023-03-22T19:18:48.855Z"
   },
   {
    "duration": 170,
    "start_time": "2023-03-22T19:19:03.175Z"
   },
   {
    "duration": 829,
    "start_time": "2023-03-22T19:19:16.130Z"
   },
   {
    "duration": 401,
    "start_time": "2023-03-22T19:19:30.855Z"
   },
   {
    "duration": 879,
    "start_time": "2023-03-22T19:20:19.303Z"
   },
   {
    "duration": 233,
    "start_time": "2023-03-22T19:20:31.829Z"
   },
   {
    "duration": 1984,
    "start_time": "2023-03-22T22:34:04.397Z"
   },
   {
    "duration": 3,
    "start_time": "2023-03-22T22:34:06.383Z"
   },
   {
    "duration": 51,
    "start_time": "2023-03-22T22:34:06.388Z"
   },
   {
    "duration": 6,
    "start_time": "2023-03-22T22:34:06.441Z"
   },
   {
    "duration": 3673,
    "start_time": "2023-03-22T22:34:06.448Z"
   },
   {
    "duration": 410,
    "start_time": "2023-03-22T22:34:10.123Z"
   },
   {
    "duration": 886,
    "start_time": "2023-03-22T22:34:10.535Z"
   },
   {
    "duration": 161,
    "start_time": "2023-03-22T22:34:11.423Z"
   },
   {
    "duration": 4,
    "start_time": "2023-03-22T22:34:11.586Z"
   },
   {
    "duration": 13,
    "start_time": "2023-03-22T22:34:11.593Z"
   },
   {
    "duration": 167,
    "start_time": "2023-03-22T22:34:11.608Z"
   },
   {
    "duration": 4,
    "start_time": "2023-03-22T22:34:11.777Z"
   },
   {
    "duration": 10,
    "start_time": "2023-03-22T22:34:11.782Z"
   },
   {
    "duration": 1989,
    "start_time": "2023-03-22T22:50:48.946Z"
   },
   {
    "duration": 4,
    "start_time": "2023-03-22T22:50:50.937Z"
   },
   {
    "duration": 50,
    "start_time": "2023-03-22T22:50:50.942Z"
   },
   {
    "duration": 7,
    "start_time": "2023-03-22T22:50:50.993Z"
   },
   {
    "duration": 3342,
    "start_time": "2023-03-22T22:50:51.001Z"
   },
   {
    "duration": 349,
    "start_time": "2023-03-22T22:50:54.344Z"
   },
   {
    "duration": 920,
    "start_time": "2023-03-22T22:50:54.695Z"
   },
   {
    "duration": 151,
    "start_time": "2023-03-22T22:50:55.617Z"
   },
   {
    "duration": 3,
    "start_time": "2023-03-22T22:50:55.770Z"
   },
   {
    "duration": 7,
    "start_time": "2023-03-22T22:50:55.775Z"
   },
   {
    "duration": 93,
    "start_time": "2023-03-22T22:50:55.784Z"
   },
   {
    "duration": 5,
    "start_time": "2023-03-22T22:51:16.180Z"
   },
   {
    "duration": 11,
    "start_time": "2023-03-22T22:51:36.009Z"
   },
   {
    "duration": 5,
    "start_time": "2023-03-22T22:51:43.413Z"
   },
   {
    "duration": 5,
    "start_time": "2023-03-22T22:52:25.189Z"
   },
   {
    "duration": 5,
    "start_time": "2023-03-22T22:52:38.911Z"
   },
   {
    "duration": 11,
    "start_time": "2023-03-22T22:53:01.637Z"
   },
   {
    "duration": 6,
    "start_time": "2023-03-22T22:53:15.069Z"
   },
   {
    "duration": 5,
    "start_time": "2023-03-22T22:53:25.326Z"
   },
   {
    "duration": 5,
    "start_time": "2023-03-22T22:53:48.685Z"
   },
   {
    "duration": 5,
    "start_time": "2023-03-22T22:53:54.781Z"
   },
   {
    "duration": 5,
    "start_time": "2023-03-22T22:53:59.311Z"
   },
   {
    "duration": 6,
    "start_time": "2023-03-22T22:54:00.444Z"
   },
   {
    "duration": 5,
    "start_time": "2023-03-22T22:54:01.253Z"
   },
   {
    "duration": 5,
    "start_time": "2023-03-22T22:54:05.581Z"
   },
   {
    "duration": 15,
    "start_time": "2023-03-22T22:58:02.094Z"
   },
   {
    "duration": 19,
    "start_time": "2023-03-22T22:58:09.510Z"
   },
   {
    "duration": 16,
    "start_time": "2023-03-22T23:10:01.340Z"
   },
   {
    "duration": 4,
    "start_time": "2023-03-22T23:10:13.690Z"
   },
   {
    "duration": 5,
    "start_time": "2023-03-22T23:10:16.681Z"
   },
   {
    "duration": 218,
    "start_time": "2023-03-22T23:10:19.321Z"
   },
   {
    "duration": 4,
    "start_time": "2023-03-22T23:11:56.250Z"
   },
   {
    "duration": 8,
    "start_time": "2023-03-22T23:19:12.188Z"
   },
   {
    "duration": 3,
    "start_time": "2023-03-22T23:19:20.349Z"
   },
   {
    "duration": 4,
    "start_time": "2023-03-22T23:19:22.876Z"
   },
   {
    "duration": 3,
    "start_time": "2023-03-22T23:19:24.925Z"
   },
   {
    "duration": 6,
    "start_time": "2023-03-22T23:23:26.590Z"
   },
   {
    "duration": 4,
    "start_time": "2023-03-22T23:30:07.273Z"
   },
   {
    "duration": 4,
    "start_time": "2023-03-22T23:30:26.047Z"
   },
   {
    "duration": 10,
    "start_time": "2023-03-22T23:34:46.921Z"
   },
   {
    "duration": 5,
    "start_time": "2023-03-22T23:34:56.224Z"
   },
   {
    "duration": 5,
    "start_time": "2023-03-22T23:37:05.657Z"
   },
   {
    "duration": 10,
    "start_time": "2023-03-22T23:37:57.402Z"
   },
   {
    "duration": 6,
    "start_time": "2023-03-22T23:40:36.994Z"
   },
   {
    "duration": 7,
    "start_time": "2023-03-22T23:41:30.178Z"
   },
   {
    "duration": 6,
    "start_time": "2023-03-22T23:41:35.196Z"
   },
   {
    "duration": 3,
    "start_time": "2023-03-22T23:46:50.347Z"
   },
   {
    "duration": 5,
    "start_time": "2023-03-22T23:47:01.468Z"
   },
   {
    "duration": 53,
    "start_time": "2023-03-22T23:47:50.117Z"
   },
   {
    "duration": 6,
    "start_time": "2023-03-22T23:48:28.516Z"
   },
   {
    "duration": 6,
    "start_time": "2023-03-22T23:48:43.578Z"
   },
   {
    "duration": 6,
    "start_time": "2023-03-22T23:49:32.404Z"
   },
   {
    "duration": 7,
    "start_time": "2023-03-22T23:49:51.244Z"
   },
   {
    "duration": 6,
    "start_time": "2023-03-22T23:49:57.588Z"
   },
   {
    "duration": 69,
    "start_time": "2023-03-22T23:50:47.270Z"
   },
   {
    "duration": 6,
    "start_time": "2023-03-22T23:51:13.648Z"
   },
   {
    "duration": 7,
    "start_time": "2023-03-22T23:51:21.515Z"
   },
   {
    "duration": 5,
    "start_time": "2023-03-22T23:51:40.181Z"
   },
   {
    "duration": 4,
    "start_time": "2023-03-22T23:52:20.196Z"
   },
   {
    "duration": 8,
    "start_time": "2023-03-22T23:52:23.836Z"
   },
   {
    "duration": 7,
    "start_time": "2023-03-23T00:23:03.478Z"
   },
   {
    "duration": 59,
    "start_time": "2023-03-23T00:26:30.581Z"
   },
   {
    "duration": 9,
    "start_time": "2023-03-23T00:26:37.780Z"
   },
   {
    "duration": 4,
    "start_time": "2023-03-23T00:28:42.926Z"
   },
   {
    "duration": 8,
    "start_time": "2023-03-23T00:28:46.526Z"
   },
   {
    "duration": 5,
    "start_time": "2023-03-23T00:31:12.182Z"
   },
   {
    "duration": 8,
    "start_time": "2023-03-23T00:34:12.416Z"
   },
   {
    "duration": 3,
    "start_time": "2023-03-23T00:34:26.927Z"
   },
   {
    "duration": 9,
    "start_time": "2023-03-23T00:34:29.094Z"
   },
   {
    "duration": 11,
    "start_time": "2023-03-23T00:34:56.623Z"
   },
   {
    "duration": 5,
    "start_time": "2023-03-23T02:02:45.427Z"
   },
   {
    "duration": 3,
    "start_time": "2023-03-23T02:02:51.616Z"
   },
   {
    "duration": 18,
    "start_time": "2023-03-23T02:02:55.064Z"
   },
   {
    "duration": 5,
    "start_time": "2023-03-23T02:04:07.537Z"
   },
   {
    "duration": 103,
    "start_time": "2023-03-23T02:04:12.769Z"
   },
   {
    "duration": 1935,
    "start_time": "2023-03-23T02:31:47.371Z"
   },
   {
    "duration": 1127,
    "start_time": "2023-03-23T02:31:49.308Z"
   },
   {
    "duration": 47,
    "start_time": "2023-03-23T02:31:50.437Z"
   },
   {
    "duration": 5,
    "start_time": "2023-03-23T02:31:50.486Z"
   },
   {
    "duration": 3247,
    "start_time": "2023-03-23T02:31:50.493Z"
   },
   {
    "duration": 377,
    "start_time": "2023-03-23T02:31:53.743Z"
   },
   {
    "duration": 905,
    "start_time": "2023-03-23T02:31:54.122Z"
   },
   {
    "duration": 148,
    "start_time": "2023-03-23T02:31:55.029Z"
   },
   {
    "duration": 3,
    "start_time": "2023-03-23T02:31:55.179Z"
   },
   {
    "duration": 5,
    "start_time": "2023-03-23T02:31:55.185Z"
   },
   {
    "duration": 91,
    "start_time": "2023-03-23T02:31:55.191Z"
   },
   {
    "duration": 3,
    "start_time": "2023-03-23T02:31:55.367Z"
   },
   {
    "duration": 7,
    "start_time": "2023-03-23T02:31:55.372Z"
   },
   {
    "duration": 96,
    "start_time": "2023-03-23T02:31:55.381Z"
   },
   {
    "duration": 90,
    "start_time": "2023-03-23T02:31:55.479Z"
   },
   {
    "duration": 98,
    "start_time": "2023-03-23T02:31:55.574Z"
   },
   {
    "duration": 8,
    "start_time": "2023-03-23T02:31:55.674Z"
   },
   {
    "duration": 101,
    "start_time": "2023-03-23T02:31:55.769Z"
   },
   {
    "duration": 7,
    "start_time": "2023-03-23T02:31:55.871Z"
   },
   {
    "duration": 97,
    "start_time": "2023-03-23T02:31:55.879Z"
   },
   {
    "duration": 92,
    "start_time": "2023-03-23T02:31:55.978Z"
   },
   {
    "duration": 5,
    "start_time": "2023-03-23T02:31:56.072Z"
   },
   {
    "duration": 45,
    "start_time": "2023-03-23T07:46:43.048Z"
   },
   {
    "duration": 2983,
    "start_time": "2023-03-23T07:46:52.994Z"
   },
   {
    "duration": 1563,
    "start_time": "2023-03-23T07:46:55.980Z"
   },
   {
    "duration": 48,
    "start_time": "2023-03-23T07:46:57.545Z"
   },
   {
    "duration": 6,
    "start_time": "2023-03-23T07:46:57.595Z"
   },
   {
    "duration": 3305,
    "start_time": "2023-03-23T07:46:57.604Z"
   },
   {
    "duration": 373,
    "start_time": "2023-03-23T07:47:00.910Z"
   },
   {
    "duration": 1129,
    "start_time": "2023-03-23T07:47:01.285Z"
   },
   {
    "duration": 172,
    "start_time": "2023-03-23T07:47:02.415Z"
   },
   {
    "duration": 5,
    "start_time": "2023-03-23T07:47:02.589Z"
   },
   {
    "duration": 33,
    "start_time": "2023-03-23T07:47:02.596Z"
   },
   {
    "duration": 111,
    "start_time": "2023-03-23T07:47:02.630Z"
   },
   {
    "duration": 21,
    "start_time": "2023-03-23T07:47:02.743Z"
   },
   {
    "duration": 6,
    "start_time": "2023-03-23T07:47:02.765Z"
   },
   {
    "duration": 82,
    "start_time": "2023-03-23T07:47:02.774Z"
   },
   {
    "duration": 41,
    "start_time": "2023-03-23T07:47:02.922Z"
   },
   {
    "duration": 196,
    "start_time": "2023-03-23T07:47:02.965Z"
   },
   {
    "duration": 5,
    "start_time": "2023-03-23T07:47:03.163Z"
   },
   {
    "duration": 89,
    "start_time": "2023-03-23T07:47:03.170Z"
   },
   {
    "duration": 96,
    "start_time": "2023-03-23T07:47:03.263Z"
   },
   {
    "duration": 196,
    "start_time": "2023-03-23T07:47:03.365Z"
   },
   {
    "duration": 20,
    "start_time": "2023-03-23T07:47:03.562Z"
   },
   {
    "duration": 47,
    "start_time": "2023-03-23T07:47:03.584Z"
   },
   {
    "duration": 132,
    "start_time": "2023-03-23T07:47:03.632Z"
   },
   {
    "duration": 9,
    "start_time": "2023-03-23T07:47:37.263Z"
   },
   {
    "duration": 3015,
    "start_time": "2023-03-23T11:32:59.660Z"
   },
   {
    "duration": 1452,
    "start_time": "2023-03-23T11:33:02.677Z"
   },
   {
    "duration": 127,
    "start_time": "2023-03-23T11:33:04.131Z"
   },
   {
    "duration": 5,
    "start_time": "2023-03-23T11:33:04.260Z"
   },
   {
    "duration": 3289,
    "start_time": "2023-03-23T11:33:04.266Z"
   },
   {
    "duration": 345,
    "start_time": "2023-03-23T11:33:07.557Z"
   },
   {
    "duration": 918,
    "start_time": "2023-03-23T11:33:07.903Z"
   },
   {
    "duration": 156,
    "start_time": "2023-03-23T11:33:08.823Z"
   },
   {
    "duration": 3,
    "start_time": "2023-03-23T11:33:08.981Z"
   },
   {
    "duration": 12,
    "start_time": "2023-03-23T11:33:08.986Z"
   },
   {
    "duration": 146,
    "start_time": "2023-03-23T11:33:08.999Z"
   },
   {
    "duration": 3,
    "start_time": "2023-03-23T11:33:09.146Z"
   },
   {
    "duration": 5,
    "start_time": "2023-03-23T11:33:09.151Z"
   },
   {
    "duration": 92,
    "start_time": "2023-03-23T11:33:09.157Z"
   },
   {
    "duration": 93,
    "start_time": "2023-03-23T11:33:09.250Z"
   },
   {
    "duration": 5,
    "start_time": "2023-03-23T11:33:26.109Z"
   },
   {
    "duration": 10,
    "start_time": "2023-03-23T11:33:30.736Z"
   },
   {
    "duration": 2244,
    "start_time": "2023-03-23T11:55:19.216Z"
   },
   {
    "duration": 1307,
    "start_time": "2023-03-23T11:55:21.463Z"
   },
   {
    "duration": 58,
    "start_time": "2023-03-23T11:55:22.772Z"
   },
   {
    "duration": 7,
    "start_time": "2023-03-23T11:55:22.832Z"
   },
   {
    "duration": 3375,
    "start_time": "2023-03-23T11:55:22.840Z"
   },
   {
    "duration": 404,
    "start_time": "2023-03-23T11:55:26.216Z"
   },
   {
    "duration": 1000,
    "start_time": "2023-03-23T11:55:26.622Z"
   },
   {
    "duration": 155,
    "start_time": "2023-03-23T11:55:27.623Z"
   },
   {
    "duration": 4,
    "start_time": "2023-03-23T11:55:27.779Z"
   },
   {
    "duration": 12,
    "start_time": "2023-03-23T11:55:27.785Z"
   },
   {
    "duration": 141,
    "start_time": "2023-03-23T11:55:27.799Z"
   },
   {
    "duration": 2,
    "start_time": "2023-03-23T11:55:27.942Z"
   },
   {
    "duration": 5,
    "start_time": "2023-03-23T11:55:27.946Z"
   },
   {
    "duration": 92,
    "start_time": "2023-03-23T11:55:27.953Z"
   },
   {
    "duration": 6,
    "start_time": "2023-03-23T11:55:28.047Z"
   },
   {
    "duration": 94,
    "start_time": "2023-03-23T11:55:28.055Z"
   },
   {
    "duration": 8,
    "start_time": "2023-03-23T11:55:28.241Z"
   },
   {
    "duration": 7,
    "start_time": "2023-03-23T11:55:28.340Z"
   },
   {
    "duration": 4,
    "start_time": "2023-03-23T11:55:28.348Z"
   },
   {
    "duration": 89,
    "start_time": "2023-03-23T11:55:28.353Z"
   },
   {
    "duration": 101,
    "start_time": "2023-03-23T11:55:28.443Z"
   },
   {
    "duration": 3503,
    "start_time": "2023-03-23T16:28:02.905Z"
   },
   {
    "duration": 1802,
    "start_time": "2023-03-23T16:28:06.410Z"
   },
   {
    "duration": 61,
    "start_time": "2023-03-23T16:28:08.214Z"
   },
   {
    "duration": 8,
    "start_time": "2023-03-23T16:28:08.277Z"
   },
   {
    "duration": 4189,
    "start_time": "2023-03-23T16:28:08.287Z"
   },
   {
    "duration": 396,
    "start_time": "2023-03-23T16:28:12.478Z"
   },
   {
    "duration": 1222,
    "start_time": "2023-03-23T16:28:12.875Z"
   },
   {
    "duration": 199,
    "start_time": "2023-03-23T16:28:14.100Z"
   },
   {
    "duration": 5,
    "start_time": "2023-03-23T16:28:14.301Z"
   },
   {
    "duration": 42,
    "start_time": "2023-03-23T16:28:14.308Z"
   },
   {
    "duration": 104,
    "start_time": "2023-03-23T16:28:14.352Z"
   },
   {
    "duration": 12,
    "start_time": "2023-03-23T16:28:14.457Z"
   },
   {
    "duration": 14,
    "start_time": "2023-03-23T16:28:14.472Z"
   },
   {
    "duration": 154,
    "start_time": "2023-03-23T16:28:14.490Z"
   },
   {
    "duration": 32,
    "start_time": "2023-03-23T16:28:14.646Z"
   },
   {
    "duration": 89,
    "start_time": "2023-03-23T16:28:14.681Z"
   },
   {
    "duration": 30,
    "start_time": "2023-03-23T16:28:14.842Z"
   },
   {
    "duration": 9,
    "start_time": "2023-03-23T16:28:14.943Z"
   },
   {
    "duration": 7,
    "start_time": "2023-03-23T16:28:14.960Z"
   },
   {
    "duration": 99,
    "start_time": "2023-03-23T16:28:14.969Z"
   },
   {
    "duration": 89,
    "start_time": "2023-03-23T16:28:15.154Z"
   }
  ],
  "kernelspec": {
   "display_name": "Python 3 (ipykernel)",
   "language": "python",
   "name": "python3"
  },
  "language_info": {
   "codemirror_mode": {
    "name": "ipython",
    "version": 3
   },
   "file_extension": ".py",
   "mimetype": "text/x-python",
   "name": "python",
   "nbconvert_exporter": "python",
   "pygments_lexer": "ipython3",
   "version": "3.9.13"
  },
  "toc": {
   "base_numbering": 1,
   "nav_menu": {},
   "number_sections": true,
   "sideBar": true,
   "skip_h1_title": true,
   "title_cell": "Содержание",
   "title_sidebar": "Contents",
   "toc_cell": true,
   "toc_position": {
    "height": "calc(100% - 180px)",
    "left": "10px",
    "top": "150px",
    "width": "366.188px"
   },
   "toc_section_display": true,
   "toc_window_display": true
  }
 },
 "nbformat": 4,
 "nbformat_minor": 2
}
