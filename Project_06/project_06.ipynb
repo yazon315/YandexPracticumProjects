{
 "cells": [
  {
   "cell_type": "markdown",
   "metadata": {},
   "source": [
    "# Проект: Прогноз склонности абонентов к выбору тарифного плана"
   ]
  },
  {
   "cell_type": "markdown",
   "metadata": {},
   "source": [
    "**Оглавление**<a id='toc0_'></a>    \n",
    "- 1. [Загрузка и изучение данных](#toc1_)    \n",
    "  - 1.1. [Вывод по разделу 1](#toc1_1_)    \n",
    "- 2. [Разделение данных на выборки](#toc2_)    \n",
    "  - 2.1. [Вывод по разделу 2](#toc2_1_)    \n",
    "- 3. [Исследование моделей](#toc3_)    \n",
    "  - 3.1. [Исследование моделей типа \"дерево решений\"](#toc3_1_)    \n",
    "  - 3.2. [Исследование моделей типа \"случайный лес\"](#toc3_2_)    \n",
    "  - 3.3. [Исследование моделей типа \"логистическая регрессия\"](#toc3_3_)    \n",
    "  - 3.4. [Вывод по разделу 3](#toc3_4_)    \n",
    "- 4. [Проверка моделей на тестовой выборке](#toc4_)    \n",
    "  - 4.1. [Вывод по разделу 4](#toc4_1_)    \n",
    "- 5. [Проверка моделей на адекватность](#toc5_)    \n",
    "  - 5.1. [Вывод по разделу 5](#toc5_1_)    \n",
    "- 6. [Общий вывод](#toc6_)    \n",
    "\n",
    "<!-- vscode-jupyter-toc-config\n",
    "\tnumbering=true\n",
    "\tanchor=true\n",
    "\tflat=false\n",
    "\tminLevel=2\n",
    "\tmaxLevel=6\n",
    "\t/vscode-jupyter-toc-config -->\n",
    "<!-- THIS CELL WILL BE REPLACED ON TOC UPDATE. DO NOT WRITE YOUR TEXT IN THIS CELL -->"
   ]
  },
  {
   "cell_type": "markdown",
   "metadata": {},
   "source": [
    "**Задание:**\n",
    "\n",
    "Оператор мобильной связи «Мегалайн» выяснил, что многие клиенты пользуются архивными тарифами. Он планирует построить систему, способную проанализировать поведение клиентов и предложить пользователям новые тарифы: «Смарт» или «Ультра».\n",
    "\n",
    "Имеются данные о поведении клиентов, которые уже перешли на эти тарифы. Нужно построить модель для задачи классификации, которая выберет подходящий тариф. Предобработка данных не нужна — она сделана ранее.\n",
    "\n",
    "Необходимо: построить модель с максимально большим значением *`accuracy`*; довести долю правильных ответов по крайней мере до 0,75; проверить *`accuracy`* на тестовой выборке.\n",
    "\n",
    "План работы:\n",
    "1. Загрузка и изучение данных.\n",
    "2. Разделение данных на выборки.\n",
    "3. Исследование моделей.\n",
    "4. Проверка моделей на тестовой выборке.\n",
    "5. Проверка моделей на адекватность.\n",
    "6. Общий вывод."
   ]
  },
  {
   "cell_type": "markdown",
   "metadata": {},
   "source": [
    "## 1. <a id='toc1_'></a>[Загрузка и изучение данных](#toc0_)"
   ]
  },
  {
   "cell_type": "code",
   "execution_count": 1,
   "metadata": {},
   "outputs": [],
   "source": [
    "# подключение библиотек\n",
    "import pandas as pd\n",
    "import numpy as np\n",
    "import seaborn as sns\n",
    "import matplotlib.pyplot as plt\n",
    "from IPython.display import display\n",
    "\n",
    "from sklearn.metrics import accuracy_score\n",
    "from sklearn.metrics import mean_squared_error\n",
    "from sklearn.model_selection import train_test_split\n",
    "\n",
    "from sklearn.tree import DecisionTreeClassifier\n",
    "from sklearn.tree import DecisionTreeRegressor\n",
    "from sklearn.ensemble import RandomForestClassifier\n",
    "from sklearn.ensemble import RandomForestRegressor\n",
    "from sklearn.linear_model import LogisticRegression\n",
    "from sklearn.linear_model import LinearRegression\n",
    "from sklearn.dummy import DummyClassifier"
   ]
  },
  {
   "cell_type": "code",
   "execution_count": 2,
   "metadata": {},
   "outputs": [],
   "source": [
    "# загрузка данных\n",
    "try:\n",
    "    data = pd.read_csv('/datasets/users_behavior.csv')\n",
    "except FileNotFoundError:\n",
    "    data = pd.read_csv('D:/Education/Data_Science/Проекты курса DS/Проект_06/datasets/users_behavior.csv')\n",
    "\n",
    "# загрузка описаний полей\n",
    "ind = ['calls', 'minutes', 'messages', 'mb_used', 'is_ultra']\n",
    "polya = ['количество звонков', 'суммарная длительность звонков в минутах', 'количество sms-сообщений', \n",
    "         'израсходованный интернет-трафик в Мб', 'каким тарифом пользовался в течение месяца («Ультра» — 1, «Смарт» — 0)']\n",
    "opisanie = pd.DataFrame(data=polya, index=ind, columns=['описание'])"
   ]
  },
  {
   "cell_type": "code",
   "execution_count": 3,
   "metadata": {
    "scrolled": false
   },
   "outputs": [
    {
     "data": {
      "text/html": [
       "<div>\n",
       "<style scoped>\n",
       "    .dataframe tbody tr th:only-of-type {\n",
       "        vertical-align: middle;\n",
       "    }\n",
       "\n",
       "    .dataframe tbody tr th {\n",
       "        vertical-align: top;\n",
       "    }\n",
       "\n",
       "    .dataframe thead th {\n",
       "        text-align: right;\n",
       "    }\n",
       "</style>\n",
       "<table border=\"1\" class=\"dataframe\">\n",
       "  <thead>\n",
       "    <tr style=\"text-align: right;\">\n",
       "      <th></th>\n",
       "      <th>calls</th>\n",
       "      <th>minutes</th>\n",
       "      <th>messages</th>\n",
       "      <th>mb_used</th>\n",
       "      <th>is_ultra</th>\n",
       "    </tr>\n",
       "  </thead>\n",
       "  <tbody>\n",
       "    <tr>\n",
       "      <th>0</th>\n",
       "      <td>40.0</td>\n",
       "      <td>311.90</td>\n",
       "      <td>83.0</td>\n",
       "      <td>19915.42</td>\n",
       "      <td>0</td>\n",
       "    </tr>\n",
       "    <tr>\n",
       "      <th>1</th>\n",
       "      <td>85.0</td>\n",
       "      <td>516.75</td>\n",
       "      <td>56.0</td>\n",
       "      <td>22696.96</td>\n",
       "      <td>0</td>\n",
       "    </tr>\n",
       "    <tr>\n",
       "      <th>2</th>\n",
       "      <td>77.0</td>\n",
       "      <td>467.66</td>\n",
       "      <td>86.0</td>\n",
       "      <td>21060.45</td>\n",
       "      <td>0</td>\n",
       "    </tr>\n",
       "    <tr>\n",
       "      <th>3</th>\n",
       "      <td>106.0</td>\n",
       "      <td>745.53</td>\n",
       "      <td>81.0</td>\n",
       "      <td>8437.39</td>\n",
       "      <td>1</td>\n",
       "    </tr>\n",
       "    <tr>\n",
       "      <th>4</th>\n",
       "      <td>66.0</td>\n",
       "      <td>418.74</td>\n",
       "      <td>1.0</td>\n",
       "      <td>14502.75</td>\n",
       "      <td>0</td>\n",
       "    </tr>\n",
       "    <tr>\n",
       "      <th>3209</th>\n",
       "      <td>122.0</td>\n",
       "      <td>910.98</td>\n",
       "      <td>20.0</td>\n",
       "      <td>35124.90</td>\n",
       "      <td>1</td>\n",
       "    </tr>\n",
       "    <tr>\n",
       "      <th>3210</th>\n",
       "      <td>25.0</td>\n",
       "      <td>190.36</td>\n",
       "      <td>0.0</td>\n",
       "      <td>3275.61</td>\n",
       "      <td>0</td>\n",
       "    </tr>\n",
       "    <tr>\n",
       "      <th>3211</th>\n",
       "      <td>97.0</td>\n",
       "      <td>634.44</td>\n",
       "      <td>70.0</td>\n",
       "      <td>13974.06</td>\n",
       "      <td>0</td>\n",
       "    </tr>\n",
       "    <tr>\n",
       "      <th>3212</th>\n",
       "      <td>64.0</td>\n",
       "      <td>462.32</td>\n",
       "      <td>90.0</td>\n",
       "      <td>31239.78</td>\n",
       "      <td>0</td>\n",
       "    </tr>\n",
       "    <tr>\n",
       "      <th>3213</th>\n",
       "      <td>80.0</td>\n",
       "      <td>566.09</td>\n",
       "      <td>6.0</td>\n",
       "      <td>29480.52</td>\n",
       "      <td>1</td>\n",
       "    </tr>\n",
       "  </tbody>\n",
       "</table>\n",
       "</div>"
      ],
      "text/plain": [
       "      calls  minutes  messages   mb_used  is_ultra\n",
       "0      40.0   311.90      83.0  19915.42         0\n",
       "1      85.0   516.75      56.0  22696.96         0\n",
       "2      77.0   467.66      86.0  21060.45         0\n",
       "3     106.0   745.53      81.0   8437.39         1\n",
       "4      66.0   418.74       1.0  14502.75         0\n",
       "3209  122.0   910.98      20.0  35124.90         1\n",
       "3210   25.0   190.36       0.0   3275.61         0\n",
       "3211   97.0   634.44      70.0  13974.06         0\n",
       "3212   64.0   462.32      90.0  31239.78         0\n",
       "3213   80.0   566.09       6.0  29480.52         1"
      ]
     },
     "metadata": {},
     "output_type": "display_data"
    },
    {
     "name": "stdout",
     "output_type": "stream",
     "text": [
      "<class 'pandas.core.frame.DataFrame'>\n",
      "RangeIndex: 3214 entries, 0 to 3213\n",
      "Data columns (total 5 columns):\n",
      " #   Column    Non-Null Count  Dtype  \n",
      "---  ------    --------------  -----  \n",
      " 0   calls     3214 non-null   float64\n",
      " 1   minutes   3214 non-null   float64\n",
      " 2   messages  3214 non-null   float64\n",
      " 3   mb_used   3214 non-null   float64\n",
      " 4   is_ultra  3214 non-null   int64  \n",
      "dtypes: float64(4), int64(1)\n",
      "memory usage: 125.7 KB\n",
      "\n",
      "Количество явных дубликатов: 0\n"
     ]
    },
    {
     "data": {
      "text/html": [
       "<div>\n",
       "<style scoped>\n",
       "    .dataframe tbody tr th:only-of-type {\n",
       "        vertical-align: middle;\n",
       "    }\n",
       "\n",
       "    .dataframe tbody tr th {\n",
       "        vertical-align: top;\n",
       "    }\n",
       "\n",
       "    .dataframe thead th {\n",
       "        text-align: right;\n",
       "    }\n",
       "</style>\n",
       "<table border=\"1\" class=\"dataframe\">\n",
       "  <thead>\n",
       "    <tr style=\"text-align: right;\">\n",
       "      <th></th>\n",
       "      <th>тип данных</th>\n",
       "      <th>описание</th>\n",
       "    </tr>\n",
       "  </thead>\n",
       "  <tbody>\n",
       "    <tr>\n",
       "      <th>calls</th>\n",
       "      <td>float64</td>\n",
       "      <td>количество звонков</td>\n",
       "    </tr>\n",
       "    <tr>\n",
       "      <th>minutes</th>\n",
       "      <td>float64</td>\n",
       "      <td>суммарная длительность звонков в минутах</td>\n",
       "    </tr>\n",
       "    <tr>\n",
       "      <th>messages</th>\n",
       "      <td>float64</td>\n",
       "      <td>количество sms-сообщений</td>\n",
       "    </tr>\n",
       "    <tr>\n",
       "      <th>mb_used</th>\n",
       "      <td>float64</td>\n",
       "      <td>израсходованный интернет-трафик в Мб</td>\n",
       "    </tr>\n",
       "    <tr>\n",
       "      <th>is_ultra</th>\n",
       "      <td>int64</td>\n",
       "      <td>каким тарифом пользовался в течение месяца («Ультра» — 1, «Смарт» — 0)</td>\n",
       "    </tr>\n",
       "  </tbody>\n",
       "</table>\n",
       "</div>"
      ],
      "text/plain": [
       "         тип данных  \\\n",
       "calls       float64   \n",
       "minutes     float64   \n",
       "messages    float64   \n",
       "mb_used     float64   \n",
       "is_ultra      int64   \n",
       "\n",
       "                                                                        описание  \n",
       "calls                                                         количество звонков  \n",
       "minutes                                 суммарная длительность звонков в минутах  \n",
       "messages                                                количество sms-сообщений  \n",
       "mb_used                                     израсходованный интернет-трафик в Мб  \n",
       "is_ultra  каким тарифом пользовался в течение месяца («Ультра» — 1, «Смарт» — 0)  "
      ]
     },
     "metadata": {},
     "output_type": "display_data"
    },
    {
     "name": "stdout",
     "output_type": "stream",
     "text": [
      "\n",
      "Статистическая информация:\n"
     ]
    },
    {
     "data": {
      "text/html": [
       "<div>\n",
       "<style scoped>\n",
       "    .dataframe tbody tr th:only-of-type {\n",
       "        vertical-align: middle;\n",
       "    }\n",
       "\n",
       "    .dataframe tbody tr th {\n",
       "        vertical-align: top;\n",
       "    }\n",
       "\n",
       "    .dataframe thead th {\n",
       "        text-align: right;\n",
       "    }\n",
       "</style>\n",
       "<table border=\"1\" class=\"dataframe\">\n",
       "  <thead>\n",
       "    <tr style=\"text-align: right;\">\n",
       "      <th></th>\n",
       "      <th>calls</th>\n",
       "      <th>minutes</th>\n",
       "      <th>messages</th>\n",
       "      <th>mb_used</th>\n",
       "      <th>is_ultra</th>\n",
       "    </tr>\n",
       "  </thead>\n",
       "  <tbody>\n",
       "    <tr>\n",
       "      <th>count</th>\n",
       "      <td>3214.000000</td>\n",
       "      <td>3214.000000</td>\n",
       "      <td>3214.000000</td>\n",
       "      <td>3214.000000</td>\n",
       "      <td>3214.000000</td>\n",
       "    </tr>\n",
       "    <tr>\n",
       "      <th>mean</th>\n",
       "      <td>63.038892</td>\n",
       "      <td>438.208787</td>\n",
       "      <td>38.281269</td>\n",
       "      <td>17207.673836</td>\n",
       "      <td>0.306472</td>\n",
       "    </tr>\n",
       "    <tr>\n",
       "      <th>std</th>\n",
       "      <td>33.236368</td>\n",
       "      <td>234.569872</td>\n",
       "      <td>36.148326</td>\n",
       "      <td>7570.968246</td>\n",
       "      <td>0.461100</td>\n",
       "    </tr>\n",
       "    <tr>\n",
       "      <th>min</th>\n",
       "      <td>0.000000</td>\n",
       "      <td>0.000000</td>\n",
       "      <td>0.000000</td>\n",
       "      <td>0.000000</td>\n",
       "      <td>0.000000</td>\n",
       "    </tr>\n",
       "    <tr>\n",
       "      <th>25%</th>\n",
       "      <td>40.000000</td>\n",
       "      <td>274.575000</td>\n",
       "      <td>9.000000</td>\n",
       "      <td>12491.902500</td>\n",
       "      <td>0.000000</td>\n",
       "    </tr>\n",
       "    <tr>\n",
       "      <th>50%</th>\n",
       "      <td>62.000000</td>\n",
       "      <td>430.600000</td>\n",
       "      <td>30.000000</td>\n",
       "      <td>16943.235000</td>\n",
       "      <td>0.000000</td>\n",
       "    </tr>\n",
       "    <tr>\n",
       "      <th>75%</th>\n",
       "      <td>82.000000</td>\n",
       "      <td>571.927500</td>\n",
       "      <td>57.000000</td>\n",
       "      <td>21424.700000</td>\n",
       "      <td>1.000000</td>\n",
       "    </tr>\n",
       "    <tr>\n",
       "      <th>max</th>\n",
       "      <td>244.000000</td>\n",
       "      <td>1632.060000</td>\n",
       "      <td>224.000000</td>\n",
       "      <td>49745.730000</td>\n",
       "      <td>1.000000</td>\n",
       "    </tr>\n",
       "  </tbody>\n",
       "</table>\n",
       "</div>"
      ],
      "text/plain": [
       "             calls      minutes     messages       mb_used     is_ultra\n",
       "count  3214.000000  3214.000000  3214.000000   3214.000000  3214.000000\n",
       "mean     63.038892   438.208787    38.281269  17207.673836     0.306472\n",
       "std      33.236368   234.569872    36.148326   7570.968246     0.461100\n",
       "min       0.000000     0.000000     0.000000      0.000000     0.000000\n",
       "25%      40.000000   274.575000     9.000000  12491.902500     0.000000\n",
       "50%      62.000000   430.600000    30.000000  16943.235000     0.000000\n",
       "75%      82.000000   571.927500    57.000000  21424.700000     1.000000\n",
       "max     244.000000  1632.060000   224.000000  49745.730000     1.000000"
      ]
     },
     "metadata": {},
     "output_type": "display_data"
    },
    {
     "data": {
      "image/png": "[encoded data removed]",
      "text/plain": [
       "<Figure size 1080x720 with 6 Axes>"
      ]
     },
     "metadata": {
      "needs_background": "light"
     },
     "output_type": "display_data"
    }
   ],
   "source": [
    "# ознакомимся с данными\n",
    "display(pd.concat([data.head(), data.tail()]))\n",
    "data.info()\n",
    "print('\\nКоличество явных дубликатов:', data.duplicated().sum())\n",
    "pd.set_option('display.max_colwidth', None)\n",
    "display(data.dtypes.to_frame(name='тип данных').join(opisanie))\n",
    "print('\\nСтатистическая информация:')\n",
    "display(data.describe())\n",
    "data.hist(figsize=(15, 10), bins=50)\n",
    "plt.show()"
   ]
  },
  {
   "cell_type": "markdown",
   "metadata": {},
   "source": [
    "Можно изменить тип данных для столбцов с количеством звонков и количеством сообщений на целочисленный, а для тарифного плана, имеющего всего два значения, на категориальный."
   ]
  },
  {
   "cell_type": "code",
   "execution_count": 4,
   "metadata": {},
   "outputs": [
    {
     "data": {
      "text/html": [
       "<div>\n",
       "<style scoped>\n",
       "    .dataframe tbody tr th:only-of-type {\n",
       "        vertical-align: middle;\n",
       "    }\n",
       "\n",
       "    .dataframe tbody tr th {\n",
       "        vertical-align: top;\n",
       "    }\n",
       "\n",
       "    .dataframe thead th {\n",
       "        text-align: right;\n",
       "    }\n",
       "</style>\n",
       "<table border=\"1\" class=\"dataframe\">\n",
       "  <thead>\n",
       "    <tr style=\"text-align: right;\">\n",
       "      <th></th>\n",
       "      <th>type</th>\n",
       "      <th>описание</th>\n",
       "    </tr>\n",
       "  </thead>\n",
       "  <tbody>\n",
       "    <tr>\n",
       "      <th>calls</th>\n",
       "      <td>Int64</td>\n",
       "      <td>количество звонков</td>\n",
       "    </tr>\n",
       "    <tr>\n",
       "      <th>minutes</th>\n",
       "      <td>float64</td>\n",
       "      <td>суммарная длительность звонков в минутах</td>\n",
       "    </tr>\n",
       "    <tr>\n",
       "      <th>messages</th>\n",
       "      <td>Int64</td>\n",
       "      <td>количество sms-сообщений</td>\n",
       "    </tr>\n",
       "    <tr>\n",
       "      <th>mb_used</th>\n",
       "      <td>float64</td>\n",
       "      <td>израсходованный интернет-трафик в Мб</td>\n",
       "    </tr>\n",
       "    <tr>\n",
       "      <th>is_ultra</th>\n",
       "      <td>category</td>\n",
       "      <td>каким тарифом пользовался в течение месяца («Ультра» — 1, «Смарт» — 0)</td>\n",
       "    </tr>\n",
       "  </tbody>\n",
       "</table>\n",
       "</div>"
      ],
      "text/plain": [
       "              type  \\\n",
       "calls        Int64   \n",
       "minutes    float64   \n",
       "messages     Int64   \n",
       "mb_used    float64   \n",
       "is_ultra  category   \n",
       "\n",
       "                                                                        описание  \n",
       "calls                                                         количество звонков  \n",
       "minutes                                 суммарная длительность звонков в минутах  \n",
       "messages                                                количество sms-сообщений  \n",
       "mb_used                                     израсходованный интернет-трафик в Мб  \n",
       "is_ultra  каким тарифом пользовался в течение месяца («Ультра» — 1, «Смарт» — 0)  "
      ]
     },
     "metadata": {},
     "output_type": "display_data"
    }
   ],
   "source": [
    "# изменение типов данных\n",
    "data['calls'] = data['calls'].astype('Int64')\n",
    "data['messages'] = data['messages'].astype('Int64')\n",
    "data['is_ultra'] = data['is_ultra'].astype('category')\n",
    "# отображение результатов изменений\n",
    "display(data.dtypes.to_frame(name='type').join(opisanie))"
   ]
  },
  {
   "cell_type": "markdown",
   "metadata": {},
   "source": [
    "### 1.1. <a id='toc1_1_'></a>[Вывод по разделу 1](#toc0_)\n",
    "\n",
    "Данные загружены. Их предобработка была сделана ранее. Названия столбцов унифицированы. Пропусков нет. Дубликатов нет. Аномальных значений не наблюдается. Типы данных соответствуют содержимому.  \n",
    "- Распределения количества звонков, суммарной длительности звонков и расходуемого интернет-трафика близки к нормальным.  \n",
    "- Есть всплески на нулевых значениях на графиках распределения количества звонков и минут, значит есть абоненты, которые не звонят. Они или полностью не активные, или пользуются только передачей данных.  \n",
    "- График распределения количества sms-сообщений имеет большой всплеск в районе нуля. Это говорит о том, что многие пользователи не пользуются sms-сообщениями.  \n",
    "- Абонентов с тарифным планом \"Смарт\" в два раза больше, чем абонентов с тарифным планом \"Ультра\"."
   ]
  },
  {
   "cell_type": "markdown",
   "metadata": {},
   "source": [
    "## 2. <a id='toc2_'></a>[Разделение данных на выборки](#toc0_)"
   ]
  },
  {
   "cell_type": "markdown",
   "metadata": {},
   "source": [
    "У нас нет отдельно сохраненной тестовой выборки, поэтому в соответствии с общепринятыми рекомендациями разделим имеющиеся исходные данные на выборки в следующих пропорциях:\n",
    "- обучающая выборка (60%);\n",
    "- валидационная выборка (20%);\n",
    "- тестовая выборка (20%).\n",
    "\n",
    "Целевая переменная для нашей задачи - это тарифный план, который находится в столбце `is_ultra`.  \n",
    "В остальных четырех столбцах содержится набор параметров от которых зависит целевая переменная."
   ]
  },
  {
   "cell_type": "code",
   "execution_count": 5,
   "metadata": {},
   "outputs": [
    {
     "name": "stdout",
     "output_type": "stream",
     "text": [
      "Обучающая выборка: параметры и целевая переменная (строки, столбцы): (1928, 4) (1928,)\n",
      "Количество строк в разбивке по целевой переменной: [1337  591]. Соотношение: 2.2622673434856178.\n",
      "\n",
      "Валидационная выборка: параметры и целевая переменная (строки, столбцы): (643, 4) (643,)\n",
      "Количество строк в разбивке по целевой переменной: [446 197]. Соотношение: 2.263959390862944.\n",
      "\n",
      "Тестовая выборка: параметры и целевая переменная (строки, столбцы): (643, 4) (643,)\n",
      "Количество строк в разбивке по целевой переменной: [446 197]. Соотношение: 2.263959390862944.\n",
      "\n"
     ]
    }
   ],
   "source": [
    "# зафиксируем параметр random_state\n",
    "rst = 12345\n",
    "\n",
    "# разделим исходные данные на параметры (features) и целевую переменную (target)\n",
    "features = data.drop(['is_ultra'], axis=1)\n",
    "target = data['is_ultra']\n",
    "\n",
    "# разделим исходные данные на обучающую, валидационную и тестовую выборки\n",
    "features_train, features_valid_test, target_train, target_valid_test = train_test_split(\n",
    "    features, target, test_size=.4, random_state=rst, stratify=target)\n",
    "features_valid, features_test, target_valid, target_test = train_test_split(\n",
    "    features_valid_test, target_valid_test, test_size=.5, random_state=rst, stratify=target_valid_test)\n",
    "\n",
    "# проверим количество строк в сформированных выборках и распределение целевой переменной\n",
    "print('Обучающая выборка: параметры и целевая переменная (строки, столбцы):', features_train.shape, target_train.shape)\n",
    "print('Количество строк в разбивке по целевой переменной: {0}. Соотношение: {1}.\\n'\n",
    "      .format(np.bincount(target_train), (np.bincount(target_train)[0] / np.bincount(target_train)[1])))\n",
    "print('Валидационная выборка: параметры и целевая переменная (строки, столбцы):', features_valid.shape, target_valid.shape)\n",
    "print('Количество строк в разбивке по целевой переменной: {0}. Соотношение: {1}.\\n'\n",
    "      .format(np.bincount(target_valid), (np.bincount(target_valid)[0] / np.bincount(target_valid)[1])))\n",
    "print('Тестовая выборка: параметры и целевая переменная (строки, столбцы):', features_test.shape, target_test.shape)\n",
    "print('Количество строк в разбивке по целевой переменной: {0}. Соотношение: {1}.\\n'\n",
    "      .format(np.bincount(target_test), (np.bincount(target_test)[0] / np.bincount(target_test)[1])))"
   ]
  },
  {
   "cell_type": "markdown",
   "metadata": {},
   "source": [
    "### 2.1. <a id='toc2_1_'></a>[Вывод по разделу 2](#toc0_)\n",
    "\n",
    "Для проведения дальнейшего исследования исходные данные разделены на обучающую, валидационную и тестовую выборки в соотношении 60%, 20% и 20% соответственно.  \n",
    "Каждая выборка разделена на массив с параметрами и массив с целевой переменной."
   ]
  },
  {
   "cell_type": "markdown",
   "metadata": {},
   "source": [
    "## 3. <a id='toc3_'></a>[Исследование моделей](#toc0_)"
   ]
  },
  {
   "cell_type": "markdown",
   "metadata": {},
   "source": [
    "В нашем исследовании мы решаем задачу классификации, так как целевым признаком является тариф. Этот признак категориальный, имеет два варианта значения \"Смарт\" (0) и \"Ультра\" (1).  \n",
    "Будем создавать, обучать и исследовать три типа моделей:\n",
    "- дерево решений (DecisionTreeClassifier);\n",
    "- случайный лес (RandomForestClassifier);\n",
    "- логистическая регрессия (LogisticRegression).\n",
    "\n",
    "Цель - найти модель, предсказывающую тариф на валидационной выборке с точностью `accuracy` не менее 0,75, изменяя доступные гиперпараметры моделей."
   ]
  },
  {
   "cell_type": "markdown",
   "metadata": {},
   "source": [
    "### 3.1. <a id='toc3_1_'></a>[Исследование моделей типа \"дерево решений\"](#toc0_)"
   ]
  },
  {
   "cell_type": "markdown",
   "metadata": {},
   "source": [
    "Определим лучшую по точности модель типа \"дерево решений\", изменяя глубину дерева от 1 до 10."
   ]
  },
  {
   "cell_type": "code",
   "execution_count": 6,
   "metadata": {},
   "outputs": [
    {
     "name": "stdout",
     "output_type": "stream",
     "text": [
      "Лучшая точность у модели типа \"дерево решений\" составляет 0.80248833592535 при глубине дерева 8.\n"
     ]
    }
   ],
   "source": [
    "best_accuracy_dct = 0\n",
    "best_depth_dct = 0\n",
    "best_model_dtc = None\n",
    "for depth in range(1, 11):\n",
    "    # создаем модель типа \"дерево решений\" с глубиной 'depth'\n",
    "    model = DecisionTreeClassifier(random_state=rst, max_depth=depth)\n",
    "    # обучаем модель на обучающей выборке\n",
    "    model.fit(features_train, target_train)\n",
    "    # получаем предсказания обученной модели на валидационной выборке\n",
    "    predictions = model.predict(features_valid)\n",
    "    # определяем точность модели\n",
    "    accuracy = accuracy_score(target_valid, predictions)\n",
    "    if accuracy > best_accuracy_dct:\n",
    "        best_accuracy_dct = accuracy\n",
    "        best_depth_dct = depth\n",
    "        best_model_dtc = model\n",
    "        \n",
    "print('Лучшая точность у модели типа \"дерево решений\" составляет {0} при глубине дерева {1}.'\n",
    "      .format(best_accuracy_dct, best_depth_dct))"
   ]
  },
  {
   "cell_type": "markdown",
   "metadata": {},
   "source": [
    "### 3.2. <a id='toc3_2_'></a>[Исследование моделей типа \"случайный лес\"](#toc0_)"
   ]
  },
  {
   "cell_type": "markdown",
   "metadata": {},
   "source": [
    "Определим лучшую по точности модель типа \"случайный лес\", изменяя количество деревьев от 10 до 100 с шагом 10 и глубину дерева от 1 до 10."
   ]
  },
  {
   "cell_type": "code",
   "execution_count": 7,
   "metadata": {},
   "outputs": [
    {
     "name": "stdout",
     "output_type": "stream",
     "text": [
      "Лучшая точность у модели типа \"случайный лес\" составляет 0.8211508553654744 при 40 деревьях с глубиной дерева 9.\n"
     ]
    }
   ],
   "source": [
    "best_accuracy_rfc = 0\n",
    "best_depth_rfc = 0\n",
    "best_est_rfc = 0\n",
    "best_model_rfc = None\n",
    "for est in range(10, 101, 10):\n",
    "    for depth in range (1, 11):\n",
    "        # создаем модель типа \"случайный лес\" с количеством деревьев 'est' и глубиной 'depth'\n",
    "        model = RandomForestClassifier(random_state=rst, n_estimators=est, max_depth=depth)\n",
    "        # обучаем модель на обучающей выборке\n",
    "        model.fit(features_train, target_train)\n",
    "        # получаем предсказания обученной модели на валидационной выборке\n",
    "        predictions = model.predict(features_valid)\n",
    "        # определяем точность модели\n",
    "        accuracy = accuracy_score(target_valid, predictions)\n",
    "        if accuracy > best_accuracy_rfc:\n",
    "            best_accuracy_rfc = accuracy\n",
    "            best_depth_rfc = depth\n",
    "            best_est_rfc = est\n",
    "            best_model_rfc = model\n",
    "            \n",
    "print('Лучшая точность у модели типа \"случайный лес\" составляет {0} при {1} деревьях с глубиной дерева {2}.'\n",
    "      .format(best_accuracy_rfc, best_est_rfc, best_depth_rfc))"
   ]
  },
  {
   "cell_type": "markdown",
   "metadata": {},
   "source": [
    "### 3.3. <a id='toc3_3_'></a>[Исследование моделей типа \"логистическая регрессия\"](#toc0_)"
   ]
  },
  {
   "cell_type": "markdown",
   "metadata": {},
   "source": [
    "Определим лучшую по точности модель типа \"логистическая регрессия\", изменяя количество итераций от 100 до 1000 с шагом 10."
   ]
  },
  {
   "cell_type": "code",
   "execution_count": 8,
   "metadata": {
    "scrolled": false
   },
   "outputs": [
    {
     "name": "stdout",
     "output_type": "stream",
     "text": [
      "Лучшая точность у модели типа \"логистическая регрессия\" составляет 0.7387247278382582 при количестве итераций 100.\n"
     ]
    }
   ],
   "source": [
    "best_accuracy_lr = 0\n",
    "best_iter_lr = 0\n",
    "best_model_lr = None\n",
    "for iter in range(100, 1001, 10):\n",
    "    # создаем модель типа \"логистическая регрессия\" с количеством итераций 'iter'\n",
    "    model = LogisticRegression(random_state=rst, solver='lbfgs', max_iter=iter)\n",
    "    # обучаем модель на обучающей выборке\n",
    "    model.fit(features_train, target_train)\n",
    "    # получаем предсказания обученной модели на валидационной выборке\n",
    "    predictions = model.predict(features_valid)\n",
    "    # определяем точность модели\n",
    "    accuracy = accuracy_score(target_valid, predictions)\n",
    "    if accuracy > best_accuracy_lr:\n",
    "        best_accuracy_lr = accuracy\n",
    "        best_iter_lr = iter\n",
    "        best_model_lr = model\n",
    "        \n",
    "print('Лучшая точность у модели типа \"логистическая регрессия\" составляет {0} при количестве итераций {1}.'\n",
    "      .format(best_accuracy_lr, best_iter_lr))"
   ]
  },
  {
   "cell_type": "markdown",
   "metadata": {},
   "source": [
    "### 3.4. <a id='toc3_4_'></a>[Вывод по разделу 3](#toc0_)\n",
    "\n",
    "Наибольшую точность (0,82) на валидационной выборке дает модель типа \"случайный лес\" при 40 деревьях с глубиной дерева 9.\n",
    "\n",
    "Точность `accuracy` лучше 0,75 дают модели типов \"случайный лес\" и \"решающее дерево\".  \n",
    "Модель типа \"логистическая регрессия\" дает точность хуже 0,75."
   ]
  },
  {
   "cell_type": "markdown",
   "metadata": {},
   "source": [
    "## 4. <a id='toc4_'></a>[Проверка моделей на тестовой выборке](#toc0_)"
   ]
  },
  {
   "cell_type": "markdown",
   "metadata": {},
   "source": [
    "Проверим точность лучших из каждого типа моделей на тестовой выборке."
   ]
  },
  {
   "cell_type": "code",
   "execution_count": 9,
   "metadata": {},
   "outputs": [
    {
     "name": "stdout",
     "output_type": "stream",
     "text": [
      "Точность лучшей из моделей типа \"решающее дерево\" на тестовой выборке составляет 0.7838258164852255.\n",
      "Точность лучшей из моделей типа \"случайный лес\" на тестовой выборке составляет 0.8087091757387247.\n",
      "Точность лучшей из моделей типа \"логистическая регрессия\" на тестовой выборке составляет 0.7465007776049767.\n"
     ]
    }
   ],
   "source": [
    "# получим предсказания обученной модели типа \"решающее дерево\" на тестовой выборке\n",
    "predictions = best_model_dtc.predict(features_test)\n",
    "# определяем точность модели на тестовой выборке\n",
    "accuracy_dct_test = accuracy_score(target_test, predictions)\n",
    "print('Точность лучшей из моделей типа \"решающее дерево\" на тестовой выборке составляет {}.'.format(accuracy_dct_test))\n",
    "\n",
    "# получим предсказания обученной модели типа \"случайный лес\" на тестовой выборке\n",
    "predictions = best_model_rfc.predict(features_test)\n",
    "# определяем точность модели на тестовой выборке\n",
    "accuracy_rfc_test = accuracy_score(target_test, predictions)\n",
    "print('Точность лучшей из моделей типа \"случайный лес\" на тестовой выборке составляет {}.'.format(accuracy_rfc_test))\n",
    "\n",
    "# получим предсказания обученной модели типа \"логистическая регрессия\" на тестовой выборке\n",
    "predictions = best_model_lr.predict(features_test)\n",
    "# определим точность модели на тестовой выборке\n",
    "accuracy_lr_test = accuracy_score(target_test, predictions)\n",
    "print('Точность лучшей из моделей типа \"логистическая регрессия\" на тестовой выборке составляет {}.'.format(accuracy_lr_test))"
   ]
  },
  {
   "cell_type": "markdown",
   "metadata": {},
   "source": [
    "Добавим валидационную выборку к обучающей и на увеличенном объеме данных проведем обучение полученных ранее трех лучших моделей разных типов. После этого проведем их повторное тестирование на тестовой выборке."
   ]
  },
  {
   "cell_type": "code",
   "execution_count": 10,
   "metadata": {},
   "outputs": [
    {
     "name": "stdout",
     "output_type": "stream",
     "text": [
      "Объединенная обучающая выборка: параметры и целевая переменная (строки, столбцы): (2571, 4) (2571,)\n",
      "Количество строк в разбивке по целевой переменной: [1783  788]. Соотношение: 2.262690355329949.\n",
      "\n"
     ]
    }
   ],
   "source": [
    "# объединим обучающую и валидационную выборки\n",
    "features_train_full = pd.concat([features_train, features_valid])\n",
    "target_train_full = pd.concat([target_train, target_valid])\n",
    "\n",
    "# проверим количество строк в объединенной обучающей выборке и распределение целевой переменной\n",
    "print('Объединенная обучающая выборка: параметры и целевая переменная (строки, столбцы):', \n",
    "      features_train_full.shape, target_train_full.shape)\n",
    "print('Количество строк в разбивке по целевой переменной: {0}. Соотношение: {1}.\\n'\n",
    "      .format(np.bincount(target_train_full), (np.bincount(target_train_full)[0] / np.bincount(target_train_full)[1])))"
   ]
  },
  {
   "cell_type": "code",
   "execution_count": 11,
   "metadata": {},
   "outputs": [
    {
     "name": "stdout",
     "output_type": "stream",
     "text": [
      "Точность модели типа \"решающее дерево\" на тестовой выборке составляет 0.807153965785381.\n",
      "Точность модели типа \"случайный лес\" на тестовой выборке составляет 0.8289269051321928.\n",
      "Точность модели типа \"логистическая регрессия\" на тестовой выборке составляет 0.7480559875583204.\n"
     ]
    }
   ],
   "source": [
    "# обучим три лучшие выборки на объединенной обучающей выборке\n",
    "best_model_dtc.fit(features_train_full, target_train_full)\n",
    "best_model_rfc.fit(features_train_full, target_train_full)\n",
    "best_model_lr.fit(features_train_full, target_train_full)\n",
    "\n",
    "# получим предсказания обученной модели типа \"решающее дерево\" на тестовой выборке\n",
    "predictions = best_model_dtc.predict(features_test)\n",
    "# определяем точность модели на тестовой выборке\n",
    "accuracy_dct_test = accuracy_score(target_test, predictions)\n",
    "print('Точность модели типа \"решающее дерево\" на тестовой выборке составляет {}.'.format(accuracy_dct_test))\n",
    "\n",
    "# получим предсказания обученной модели типа \"случайный лес\" на тестовой выборке\n",
    "predictions = best_model_rfc.predict(features_test)\n",
    "# определим точность модели на тестовой выборке\n",
    "accuracy_rfc_test = accuracy_score(target_test, predictions)\n",
    "print('Точность модели типа \"случайный лес\" на тестовой выборке составляет {}.'.format(accuracy_rfc_test))\n",
    "\n",
    "# получим предсказания обученной модели типа \"логистическая регрессия\" на тестовой выборке\n",
    "predictions = best_model_lr.predict(features_test)\n",
    "# определим точность модели на тестовой выборке\n",
    "accuracy_lr_test = accuracy_score(target_test, predictions)\n",
    "print('Точность модели типа \"логистическая регрессия\" на тестовой выборке составляет {}.'.format(accuracy_lr_test))"
   ]
  },
  {
   "cell_type": "markdown",
   "metadata": {},
   "source": [
    "После обучения на объединенной выборке (обучающая+валидационная), точность на тестовой выборке всех моделей увеличилась. В большей степени улучшение произошло для моделей типа \"решающее дерево\" и \"случайный лес\", в меньшей степени для модели типа \"логистическая регрессия\".  \n",
    "Точность модели типа \"логистическая регрессия\" осталась ниже порогового значения 0,75."
   ]
  },
  {
   "cell_type": "markdown",
   "metadata": {},
   "source": [
    "### 4.1. <a id='toc4_1_'></a>[Вывод по разделу 4](#toc0_)\n",
    "\n",
    "Точность моделей типа \"решающее дерево\" и \"случайный лес\" на тестовой выборке не существенно, но ниже, чем на валидационной. Точность модели типа \"логистическая регрессия\" на тестовой выборке немного выше, чем на валидационной.  \n",
    "Наибольшая точность у модели типа \"случайный лес\", наименьшая - у модели типа \"логистическая регрессия\".  \n",
    "Точность всех моделей на тестовой выборке удалось поднять за счет обучения моделей на объединенной обучающей выборке (обучающая+валидационная).\n",
    "Точность `accuracy` моделей типа \"случайный лес\" и \"решающее дерево\" лучше 0,75. Точность модели типа \"логистическая регрессия\" хуже 0,75."
   ]
  },
  {
   "cell_type": "markdown",
   "metadata": {},
   "source": [
    "## 5. <a id='toc5_'></a>[Проверка моделей на адекватность](#toc0_)"
   ]
  },
  {
   "cell_type": "markdown",
   "metadata": {},
   "source": [
    "Для проверки адекватности созданных моделей создадим и оценим точность модели, созданной по простейшим правилам с помощью функции `DummyClassifier`. Метод создания модели - всегда предсказывать наиболее часто встречающийся в обучающей выборке класс."
   ]
  },
  {
   "cell_type": "code",
   "execution_count": 12,
   "metadata": {},
   "outputs": [
    {
     "name": "stdout",
     "output_type": "stream",
     "text": [
      "Точность модели на тестовой выборке составляет 0.6936236391912908.\n"
     ]
    }
   ],
   "source": [
    "# создадим простую модель\n",
    "dummy_clf = DummyClassifier(strategy='most_frequent', random_state=rst)\n",
    "# обучаем модель на обучающей выборке\n",
    "dummy_clf.fit(features_train, target_train)\n",
    "# получаем предсказания обученной модели на тестовой выборке\n",
    "predictions = dummy_clf.predict(features_test)\n",
    "# определяем точность модели\n",
    "accuracy = accuracy_score(target_test, predictions)\n",
    "print('Точность модели на тестовой выборке составляет {}.'.format(accuracy))"
   ]
  },
  {
   "cell_type": "markdown",
   "metadata": {},
   "source": [
    "### 5.1. <a id='toc5_1_'></a>[Вывод по разделу 5](#toc0_)\n",
    "\n",
    "Точность всех трех моделей (\"решающее дерево\", \"случайный лес\" и \"логистическая регрессия\") на тестовой выборке выше точности модели, созданной по простейшим правилам, значит все три модели можно считать адекватными."
   ]
  },
  {
   "cell_type": "markdown",
   "metadata": {},
   "source": [
    "## 6. <a id='toc6_'></a>[Общий вывод](#toc0_)"
   ]
  },
  {
   "cell_type": "markdown",
   "metadata": {},
   "source": [
    "Данные, используемые для исследования, были подготовлены ранее. Проверка показала их пригодность для исследования без необходимости применения дополнительной предобработки. Небольшие корректировки были внесены в типы данных.\n",
    "\n",
    "Для проведения исследования исходные данные были разделены на обучающую, валидационную и тестовую выборки в соотношении 60%, 20% и 20% соответственно. Каждая выборка в свою очередь была разделена на массив с параметрами и массив с целевой переменной.\n",
    "\n",
    "Создавались, обучались и исследовались три типа моделей:\n",
    "- \"дерево решений\" (DecisionTreeClassifier);\n",
    "- \"случайный лес\" (RandomForestClassifier);\n",
    "- \"логистическая регрессия\" (LogisticRegression).\n",
    "\n",
    "Улучшение точности моделей осуществлялось регулировкой гиперпараметров: глубина дерева, количество деревьев, количество итераций.\n",
    "\n",
    "Заданную точность `accuracy` > 0,75 смогли обеспечить модели \"решающее дерево\" и \"случайный лес\". При этом наибольшую точность (0,82) на валидационной выборке показала модель типа \"случайный лес\" при установке значений гиперпараметров: 40 деревьев с глубиной 9 узлов.  \n",
    "Модель типа \"логистическая регрессия\" показала точность хуже 0,75.\n",
    "\n",
    "На тестовой выборке модели типа \"решающее дерево\" и \"случайный лес\" показали чуть меньшую точность, чем на валидационной, но выше порога в 0,75. Точность модели типа \"логистическая регрессия\" на тестовой выборке выше, чем на валидационной, но остается ниже порогового значения 0,75.\n",
    "\n",
    "Точность всех моделей на тестовой выборке удалось поднять за счет обучения моделей на увеличенной объединенной обучающей выборке (обучающая+валидационная). Но даже за счет этого точность `accuracy` модели типа \"логистическая регрессия\" не удалось поднять выше 0,75. Точность моделей типа \"случайный лес\" и \"решающее дерево\" выше 0,75 и составляет 0,83 и 0,81 соответственно.\n",
    "\n",
    "Адекватность моделей оценивалась в сравнении с моделью, построенной с помощью функции `DummyClassifier`, методом предсказания наиболее часто встречающегося класса. Все три исследуемые модели имеют более высокую точность, чем модель `DummyClassifier`, и могут считаться адекватными."
   ]
  }
 ],
 "metadata": {
  "ExecuteTimeLog": [
   {
    "duration": 4,
    "start_time": "2023-01-24T14:24:32.494Z"
   },
   {
    "duration": 13,
    "start_time": "2023-01-24T14:24:32.500Z"
   },
   {
    "duration": 711,
    "start_time": "2023-01-24T14:24:32.514Z"
   },
   {
    "duration": 22,
    "start_time": "2023-01-24T14:24:33.226Z"
   },
   {
    "duration": 565,
    "start_time": "2023-01-24T14:30:54.615Z"
   },
   {
    "duration": 623,
    "start_time": "2023-01-24T14:40:54.368Z"
   },
   {
    "duration": 7,
    "start_time": "2023-01-24T14:42:10.174Z"
   },
   {
    "duration": 6,
    "start_time": "2023-01-24T14:42:32.693Z"
   },
   {
    "duration": 6,
    "start_time": "2023-01-24T14:42:55.350Z"
   },
   {
    "duration": 6,
    "start_time": "2023-01-24T14:43:01.541Z"
   },
   {
    "duration": 5,
    "start_time": "2023-01-24T14:46:13.438Z"
   },
   {
    "duration": 116,
    "start_time": "2023-01-24T14:46:26.801Z"
   },
   {
    "duration": 6,
    "start_time": "2023-01-24T14:46:43.770Z"
   },
   {
    "duration": 7,
    "start_time": "2023-01-24T14:46:53.269Z"
   },
   {
    "duration": 526,
    "start_time": "2023-01-24T14:48:15.992Z"
   },
   {
    "duration": 666,
    "start_time": "2023-01-24T14:48:43.727Z"
   },
   {
    "duration": 77,
    "start_time": "2023-01-24T14:53:36.311Z"
   },
   {
    "duration": 8,
    "start_time": "2023-01-24T14:57:26.967Z"
   },
   {
    "duration": 14,
    "start_time": "2023-01-24T14:58:10.841Z"
   },
   {
    "duration": 4,
    "start_time": "2023-01-24T15:00:02.173Z"
   },
   {
    "duration": 91,
    "start_time": "2023-01-24T15:00:02.179Z"
   },
   {
    "duration": 609,
    "start_time": "2023-01-24T15:00:02.272Z"
   },
   {
    "duration": 11,
    "start_time": "2023-01-24T15:00:10.191Z"
   },
   {
    "duration": 9,
    "start_time": "2023-01-24T15:00:24.870Z"
   },
   {
    "duration": 9,
    "start_time": "2023-01-24T15:00:56.655Z"
   },
   {
    "duration": 16,
    "start_time": "2023-01-24T15:02:49.688Z"
   },
   {
    "duration": 533,
    "start_time": "2023-01-24T15:03:43.475Z"
   },
   {
    "duration": 628,
    "start_time": "2023-01-24T15:08:24.889Z"
   },
   {
    "duration": 575,
    "start_time": "2023-01-24T15:08:52.105Z"
   },
   {
    "duration": 550,
    "start_time": "2023-01-24T15:09:08.072Z"
   },
   {
    "duration": 584,
    "start_time": "2023-01-24T15:09:35.833Z"
   },
   {
    "duration": 655,
    "start_time": "2023-01-24T15:10:13.041Z"
   },
   {
    "duration": 574,
    "start_time": "2023-01-24T15:10:30.890Z"
   },
   {
    "duration": 27,
    "start_time": "2023-01-24T15:11:45.808Z"
   },
   {
    "duration": 609,
    "start_time": "2023-01-24T15:11:47.426Z"
   },
   {
    "duration": 612,
    "start_time": "2023-01-24T15:12:29.746Z"
   },
   {
    "duration": 686,
    "start_time": "2023-01-24T15:12:47.397Z"
   },
   {
    "duration": 624,
    "start_time": "2023-01-24T15:13:22.635Z"
   },
   {
    "duration": 594,
    "start_time": "2023-01-24T15:13:32.747Z"
   },
   {
    "duration": 10,
    "start_time": "2023-01-24T15:15:54.419Z"
   },
   {
    "duration": 21,
    "start_time": "2023-01-24T15:16:16.370Z"
   },
   {
    "duration": 9,
    "start_time": "2023-01-24T15:16:44.826Z"
   },
   {
    "duration": 28,
    "start_time": "2023-01-24T15:37:09.783Z"
   },
   {
    "duration": 664,
    "start_time": "2023-01-24T15:37:12.232Z"
   },
   {
    "duration": 11,
    "start_time": "2023-01-24T15:37:22.783Z"
   },
   {
    "duration": 546,
    "start_time": "2023-01-24T15:38:27.121Z"
   },
   {
    "duration": 5,
    "start_time": "2023-01-24T15:38:36.807Z"
   },
   {
    "duration": 32,
    "start_time": "2023-01-24T15:38:36.814Z"
   },
   {
    "duration": 559,
    "start_time": "2023-01-24T15:38:36.848Z"
   },
   {
    "duration": 11,
    "start_time": "2023-01-24T15:38:37.409Z"
   },
   {
    "duration": 3,
    "start_time": "2023-01-24T16:21:31.192Z"
   },
   {
    "duration": 4,
    "start_time": "2023-01-24T16:21:38.415Z"
   },
   {
    "duration": 5,
    "start_time": "2023-01-24T16:21:55.880Z"
   },
   {
    "duration": 4,
    "start_time": "2023-01-24T16:22:01.705Z"
   },
   {
    "duration": 3,
    "start_time": "2023-01-24T16:22:13.624Z"
   },
   {
    "duration": 4,
    "start_time": "2023-01-24T16:22:26.887Z"
   },
   {
    "duration": 4,
    "start_time": "2023-01-24T16:22:39.383Z"
   },
   {
    "duration": 5,
    "start_time": "2023-01-24T16:22:45.136Z"
   },
   {
    "duration": 13,
    "start_time": "2023-01-24T16:23:33.057Z"
   },
   {
    "duration": 17,
    "start_time": "2023-01-24T16:24:11.632Z"
   },
   {
    "duration": 3,
    "start_time": "2023-01-24T16:25:18.612Z"
   },
   {
    "duration": 22,
    "start_time": "2023-01-24T16:32:12.443Z"
   },
   {
    "duration": 10,
    "start_time": "2023-01-24T16:33:38.323Z"
   },
   {
    "duration": 8,
    "start_time": "2023-01-24T16:50:48.153Z"
   },
   {
    "duration": 72,
    "start_time": "2023-01-24T17:34:25.971Z"
   },
   {
    "duration": 172,
    "start_time": "2023-01-24T17:34:36.169Z"
   },
   {
    "duration": 169,
    "start_time": "2023-01-24T17:35:59.337Z"
   },
   {
    "duration": 170,
    "start_time": "2023-01-24T17:36:18.001Z"
   },
   {
    "duration": 178,
    "start_time": "2023-01-24T17:36:34.152Z"
   },
   {
    "duration": 172,
    "start_time": "2023-01-24T17:36:44.856Z"
   },
   {
    "duration": 181,
    "start_time": "2023-01-24T17:40:41.546Z"
   },
   {
    "duration": 98,
    "start_time": "2023-01-24T17:41:00.154Z"
   },
   {
    "duration": 170,
    "start_time": "2023-01-24T17:41:04.882Z"
   },
   {
    "duration": 176,
    "start_time": "2023-01-24T17:41:46.270Z"
   },
   {
    "duration": 169,
    "start_time": "2023-01-24T18:22:46.875Z"
   },
   {
    "duration": 20,
    "start_time": "2023-01-24T18:30:37.375Z"
   },
   {
    "duration": 20,
    "start_time": "2023-01-24T18:31:31.384Z"
   },
   {
    "duration": 91,
    "start_time": "2023-01-24T18:34:43.610Z"
   },
   {
    "duration": 22,
    "start_time": "2023-01-24T18:34:59.833Z"
   },
   {
    "duration": 177,
    "start_time": "2023-01-24T18:35:29.530Z"
   },
   {
    "duration": 5,
    "start_time": "2023-01-24T18:36:35.226Z"
   },
   {
    "duration": 169,
    "start_time": "2023-01-24T18:37:27.962Z"
   },
   {
    "duration": 16,
    "start_time": "2023-01-24T18:41:07.443Z"
   },
   {
    "duration": 12,
    "start_time": "2023-01-24T18:41:28.699Z"
   },
   {
    "duration": 90,
    "start_time": "2023-01-24T18:41:58.243Z"
   },
   {
    "duration": 97,
    "start_time": "2023-01-24T18:42:16.374Z"
   },
   {
    "duration": 120,
    "start_time": "2023-01-24T18:42:23.979Z"
   },
   {
    "duration": 205,
    "start_time": "2023-01-24T18:43:04.508Z"
   },
   {
    "duration": 104,
    "start_time": "2023-01-24T18:43:42.813Z"
   },
   {
    "duration": 99,
    "start_time": "2023-01-24T18:43:53.475Z"
   },
   {
    "duration": 181,
    "start_time": "2023-01-24T18:44:08.477Z"
   },
   {
    "duration": 204,
    "start_time": "2023-01-24T18:44:10.915Z"
   },
   {
    "duration": 159,
    "start_time": "2023-01-24T18:45:03.334Z"
   },
   {
    "duration": 72,
    "start_time": "2023-01-24T18:46:00.645Z"
   },
   {
    "duration": 193,
    "start_time": "2023-01-24T18:47:10.094Z"
   },
   {
    "duration": 183,
    "start_time": "2023-01-24T19:01:32.769Z"
   },
   {
    "duration": 9464,
    "start_time": "2023-01-24T19:02:45.090Z"
   },
   {
    "duration": 33798,
    "start_time": "2023-01-24T19:03:48.091Z"
   },
   {
    "duration": 24659,
    "start_time": "2023-01-24T19:04:46.707Z"
   },
   {
    "duration": 316905,
    "start_time": "2023-01-24T19:05:52.539Z"
   },
   {
    "duration": 210,
    "start_time": "2023-01-24T19:14:48.504Z"
   },
   {
    "duration": 208,
    "start_time": "2023-01-24T19:15:23.400Z"
   },
   {
    "duration": 217,
    "start_time": "2023-01-24T19:15:48.369Z"
   },
   {
    "duration": 4,
    "start_time": "2023-01-24T19:16:06.863Z"
   },
   {
    "duration": 34,
    "start_time": "2023-01-24T19:16:06.870Z"
   },
   {
    "duration": 583,
    "start_time": "2023-01-24T19:16:06.905Z"
   },
   {
    "duration": 12,
    "start_time": "2023-01-24T19:16:07.491Z"
   },
   {
    "duration": 8,
    "start_time": "2023-01-24T19:16:07.506Z"
   },
   {
    "duration": 184,
    "start_time": "2023-01-24T19:16:10.480Z"
   },
   {
    "duration": 283,
    "start_time": "2023-01-24T19:16:32.954Z"
   },
   {
    "duration": 35279,
    "start_time": "2023-01-24T19:16:46.377Z"
   },
   {
    "duration": 2013,
    "start_time": "2023-01-24T19:25:18.302Z"
   },
   {
    "duration": 179,
    "start_time": "2023-01-24T19:26:13.502Z"
   },
   {
    "duration": 7,
    "start_time": "2023-01-24T19:26:34.447Z"
   },
   {
    "duration": 46,
    "start_time": "2023-01-24T19:26:41.144Z"
   },
   {
    "duration": 26,
    "start_time": "2023-01-24T19:27:12.615Z"
   },
   {
    "duration": 17,
    "start_time": "2023-01-24T19:27:26.774Z"
   },
   {
    "duration": 1697,
    "start_time": "2023-01-24T19:27:53.569Z"
   },
   {
    "duration": 210,
    "start_time": "2023-01-24T19:28:52.673Z"
   },
   {
    "duration": 2140,
    "start_time": "2023-01-24T19:29:08.441Z"
   },
   {
    "duration": 1920,
    "start_time": "2023-01-24T19:29:36.377Z"
   },
   {
    "duration": 2141,
    "start_time": "2023-01-24T19:30:14.705Z"
   },
   {
    "duration": 830,
    "start_time": "2023-01-24T19:43:21.746Z"
   },
   {
    "duration": 16407,
    "start_time": "2023-01-24T19:43:41.556Z"
   },
   {
    "duration": 10421,
    "start_time": "2023-01-24T19:53:00.063Z"
   },
   {
    "duration": 9391,
    "start_time": "2023-01-24T19:53:35.128Z"
   },
   {
    "duration": 1941,
    "start_time": "2023-01-24T19:54:07.471Z"
   },
   {
    "duration": 197,
    "start_time": "2023-01-24T19:54:23.564Z"
   },
   {
    "duration": 1211,
    "start_time": "2023-01-24T19:54:40.296Z"
   },
   {
    "duration": 93,
    "start_time": "2023-01-24T19:55:22.304Z"
   },
   {
    "duration": 94,
    "start_time": "2023-01-24T19:57:46.458Z"
   },
   {
    "duration": 98,
    "start_time": "2023-01-24T19:57:57.473Z"
   },
   {
    "duration": 206,
    "start_time": "2023-01-24T19:58:05.333Z"
   },
   {
    "duration": 150,
    "start_time": "2023-01-24T19:58:37.162Z"
   },
   {
    "duration": 169,
    "start_time": "2023-01-24T19:58:47.705Z"
   },
   {
    "duration": 30,
    "start_time": "2023-01-24T20:00:02.888Z"
   },
   {
    "duration": 23,
    "start_time": "2023-01-24T20:00:22.475Z"
   },
   {
    "duration": 34,
    "start_time": "2023-01-24T20:00:37.031Z"
   },
   {
    "duration": 29,
    "start_time": "2023-01-24T20:00:47.104Z"
   },
   {
    "duration": 26,
    "start_time": "2023-01-24T20:00:53.973Z"
   },
   {
    "duration": 36,
    "start_time": "2023-01-24T20:00:58.888Z"
   },
   {
    "duration": 23,
    "start_time": "2023-01-24T20:01:04.296Z"
   },
   {
    "duration": 25,
    "start_time": "2023-01-24T20:01:09.577Z"
   },
   {
    "duration": 36,
    "start_time": "2023-01-24T20:01:15.135Z"
   },
   {
    "duration": 23,
    "start_time": "2023-01-24T20:01:19.679Z"
   },
   {
    "duration": 23,
    "start_time": "2023-01-24T20:01:29.959Z"
   },
   {
    "duration": 39,
    "start_time": "2023-01-24T20:01:37.591Z"
   },
   {
    "duration": 159,
    "start_time": "2023-01-24T20:02:00.935Z"
   },
   {
    "duration": 173,
    "start_time": "2023-01-24T20:02:14.200Z"
   },
   {
    "duration": 168,
    "start_time": "2023-01-24T20:02:19.328Z"
   },
   {
    "duration": 175,
    "start_time": "2023-01-24T20:02:23.834Z"
   },
   {
    "duration": 30,
    "start_time": "2023-01-24T20:02:30.057Z"
   },
   {
    "duration": 196,
    "start_time": "2023-01-24T20:02:37.329Z"
   },
   {
    "duration": 18,
    "start_time": "2023-01-24T20:02:51.688Z"
   },
   {
    "duration": 16,
    "start_time": "2023-01-24T20:02:57.487Z"
   },
   {
    "duration": 14,
    "start_time": "2023-01-24T20:03:02.280Z"
   },
   {
    "duration": 14,
    "start_time": "2023-01-24T20:03:07.674Z"
   },
   {
    "duration": 39,
    "start_time": "2023-01-24T20:03:24.337Z"
   },
   {
    "duration": 13,
    "start_time": "2023-01-24T20:03:34.199Z"
   },
   {
    "duration": 202,
    "start_time": "2023-01-24T20:03:40.784Z"
   },
   {
    "duration": 35,
    "start_time": "2023-01-24T20:03:57.440Z"
   },
   {
    "duration": 36,
    "start_time": "2023-01-24T20:04:02.160Z"
   },
   {
    "duration": 1756,
    "start_time": "2023-01-24T20:04:26.729Z"
   },
   {
    "duration": 2053,
    "start_time": "2023-01-24T20:04:38.232Z"
   },
   {
    "duration": 1969,
    "start_time": "2023-01-24T20:04:49.119Z"
   },
   {
    "duration": 1907,
    "start_time": "2023-01-24T20:04:58.433Z"
   },
   {
    "duration": 1937,
    "start_time": "2023-01-24T20:05:08.559Z"
   },
   {
    "duration": 146,
    "start_time": "2023-01-24T20:05:16.424Z"
   },
   {
    "duration": 172,
    "start_time": "2023-01-24T20:05:20.353Z"
   },
   {
    "duration": 1917,
    "start_time": "2023-01-24T20:05:40.561Z"
   },
   {
    "duration": 34272,
    "start_time": "2023-01-24T20:10:42.634Z"
   },
   {
    "duration": 2003,
    "start_time": "2023-01-24T20:12:06.394Z"
   },
   {
    "duration": 177,
    "start_time": "2023-01-24T20:12:41.827Z"
   },
   {
    "duration": 14,
    "start_time": "2023-01-24T20:24:37.301Z"
   },
   {
    "duration": 3,
    "start_time": "2023-01-24T20:25:18.549Z"
   },
   {
    "duration": 53,
    "start_time": "2023-01-24T20:25:18.554Z"
   },
   {
    "duration": 586,
    "start_time": "2023-01-24T20:25:18.609Z"
   },
   {
    "duration": 11,
    "start_time": "2023-01-24T20:25:19.196Z"
   },
   {
    "duration": 12,
    "start_time": "2023-01-24T20:25:19.209Z"
   },
   {
    "duration": 194,
    "start_time": "2023-01-24T20:25:19.222Z"
   },
   {
    "duration": 34423,
    "start_time": "2023-01-24T20:25:19.418Z"
   },
   {
    "duration": 2087,
    "start_time": "2023-01-24T20:25:53.842Z"
   },
   {
    "duration": 11,
    "start_time": "2023-01-24T20:26:03.751Z"
   },
   {
    "duration": 20,
    "start_time": "2023-01-24T20:29:23.590Z"
   },
   {
    "duration": 154,
    "start_time": "2023-01-24T20:47:16.138Z"
   },
   {
    "duration": 141,
    "start_time": "2023-01-24T20:48:43.402Z"
   },
   {
    "duration": 180,
    "start_time": "2023-01-24T20:48:52.754Z"
   },
   {
    "duration": 157,
    "start_time": "2023-01-24T20:49:04.354Z"
   },
   {
    "duration": 164,
    "start_time": "2023-01-24T20:49:17.433Z"
   },
   {
    "duration": 168,
    "start_time": "2023-01-24T20:49:44.106Z"
   },
   {
    "duration": 4,
    "start_time": "2023-01-24T20:51:20.353Z"
   },
   {
    "duration": 41,
    "start_time": "2023-01-24T20:51:20.360Z"
   },
   {
    "duration": 693,
    "start_time": "2023-01-24T20:51:20.402Z"
   },
   {
    "duration": 11,
    "start_time": "2023-01-24T20:51:21.096Z"
   },
   {
    "duration": 11,
    "start_time": "2023-01-24T20:51:21.109Z"
   },
   {
    "duration": 192,
    "start_time": "2023-01-24T20:51:21.121Z"
   },
   {
    "duration": 302469,
    "start_time": "2023-01-24T20:51:21.315Z"
   },
   {
    "duration": 1151,
    "start_time": "2023-01-24T20:56:23.786Z"
   },
   {
    "duration": 23,
    "start_time": "2023-01-24T20:56:24.938Z"
   },
   {
    "duration": 89,
    "start_time": "2023-01-24T20:59:47.710Z"
   },
   {
    "duration": 173,
    "start_time": "2023-01-24T21:00:26.126Z"
   },
   {
    "duration": 167,
    "start_time": "2023-01-24T21:00:35.780Z"
   },
   {
    "duration": 152,
    "start_time": "2023-01-24T21:00:36.916Z"
   },
   {
    "duration": 156,
    "start_time": "2023-01-24T21:03:20.893Z"
   },
   {
    "duration": 103,
    "start_time": "2023-01-24T21:03:34.093Z"
   },
   {
    "duration": 16611,
    "start_time": "2023-01-24T21:07:01.328Z"
   },
   {
    "duration": 6624,
    "start_time": "2023-01-24T21:07:25.743Z"
   },
   {
    "duration": 16,
    "start_time": "2023-01-24T21:08:00.575Z"
   },
   {
    "duration": 9108,
    "start_time": "2023-01-24T21:08:24.231Z"
   },
   {
    "duration": 18,
    "start_time": "2023-01-24T21:08:43.775Z"
   },
   {
    "duration": 42,
    "start_time": "2023-01-24T21:09:16.968Z"
   },
   {
    "duration": 25,
    "start_time": "2023-01-24T21:09:34.440Z"
   },
   {
    "duration": 4,
    "start_time": "2023-01-24T21:09:48.126Z"
   },
   {
    "duration": 36,
    "start_time": "2023-01-24T21:09:48.132Z"
   },
   {
    "duration": 658,
    "start_time": "2023-01-24T21:09:48.170Z"
   },
   {
    "duration": 28,
    "start_time": "2023-01-24T21:09:48.830Z"
   },
   {
    "duration": 16,
    "start_time": "2023-01-24T21:09:48.860Z"
   },
   {
    "duration": 29,
    "start_time": "2023-01-24T21:09:48.877Z"
   },
   {
    "duration": 9147,
    "start_time": "2023-01-24T21:09:48.907Z"
   },
   {
    "duration": 1232,
    "start_time": "2023-01-24T21:09:58.056Z"
   },
   {
    "duration": 19,
    "start_time": "2023-01-24T21:09:59.291Z"
   },
   {
    "duration": 87,
    "start_time": "2023-01-24T21:12:02.289Z"
   },
   {
    "duration": 6382,
    "start_time": "2023-01-24T21:12:07.960Z"
   },
   {
    "duration": 23,
    "start_time": "2023-01-24T21:12:26.544Z"
   },
   {
    "duration": 13427,
    "start_time": "2023-01-24T21:13:35.849Z"
   },
   {
    "duration": 22,
    "start_time": "2023-01-24T21:14:06.049Z"
   },
   {
    "duration": 7,
    "start_time": "2023-01-24T21:14:57.561Z"
   },
   {
    "duration": 42,
    "start_time": "2023-01-24T21:14:57.571Z"
   },
   {
    "duration": 744,
    "start_time": "2023-01-24T21:14:57.615Z"
   },
   {
    "duration": 14,
    "start_time": "2023-01-24T21:14:58.361Z"
   },
   {
    "duration": 17,
    "start_time": "2023-01-24T21:14:58.378Z"
   },
   {
    "duration": 115,
    "start_time": "2023-01-24T21:14:58.398Z"
   },
   {
    "duration": 13834,
    "start_time": "2023-01-24T21:14:58.514Z"
   },
   {
    "duration": 1136,
    "start_time": "2023-01-24T21:15:12.350Z"
   },
   {
    "duration": 33,
    "start_time": "2023-01-24T21:15:13.487Z"
   },
   {
    "duration": 13706,
    "start_time": "2023-01-24T21:15:52.382Z"
   },
   {
    "duration": 24,
    "start_time": "2023-01-24T21:16:19.059Z"
   },
   {
    "duration": 98,
    "start_time": "2023-01-24T21:20:30.388Z"
   },
   {
    "duration": 168,
    "start_time": "2023-01-24T21:20:46.684Z"
   },
   {
    "duration": 93,
    "start_time": "2023-01-24T21:20:58.826Z"
   },
   {
    "duration": 109,
    "start_time": "2023-01-24T21:21:05.515Z"
   },
   {
    "duration": 57,
    "start_time": "2023-01-24T21:21:12.443Z"
   },
   {
    "duration": 89,
    "start_time": "2023-01-24T21:21:16.787Z"
   },
   {
    "duration": 80,
    "start_time": "2023-01-24T21:21:23.436Z"
   },
   {
    "duration": 110,
    "start_time": "2023-01-24T21:21:31.003Z"
   },
   {
    "duration": 83,
    "start_time": "2023-01-24T21:21:42.395Z"
   },
   {
    "duration": 13,
    "start_time": "2023-01-24T21:23:30.749Z"
   },
   {
    "duration": 9,
    "start_time": "2023-01-24T21:23:51.701Z"
   },
   {
    "duration": 15,
    "start_time": "2023-01-24T21:24:11.148Z"
   },
   {
    "duration": 4,
    "start_time": "2023-01-24T21:26:29.541Z"
   },
   {
    "duration": 4,
    "start_time": "2023-01-24T21:26:47.501Z"
   },
   {
    "duration": 4,
    "start_time": "2023-01-24T21:26:59.804Z"
   },
   {
    "duration": 5,
    "start_time": "2023-01-24T21:27:09.292Z"
   },
   {
    "duration": 7,
    "start_time": "2023-01-24T21:27:24.301Z"
   },
   {
    "duration": 14,
    "start_time": "2023-01-24T21:29:33.751Z"
   },
   {
    "duration": 17,
    "start_time": "2023-01-24T21:30:11.863Z"
   },
   {
    "duration": 10,
    "start_time": "2023-01-24T21:30:46.343Z"
   },
   {
    "duration": 4,
    "start_time": "2023-01-24T21:32:02.968Z"
   },
   {
    "duration": 32,
    "start_time": "2023-01-24T21:32:02.975Z"
   },
   {
    "duration": 606,
    "start_time": "2023-01-24T21:32:03.008Z"
   },
   {
    "duration": 12,
    "start_time": "2023-01-24T21:32:03.616Z"
   },
   {
    "duration": 20,
    "start_time": "2023-01-24T21:32:03.629Z"
   },
   {
    "duration": 194,
    "start_time": "2023-01-24T21:32:03.651Z"
   },
   {
    "duration": 33624,
    "start_time": "2023-01-24T21:32:03.849Z"
   },
   {
    "duration": 1923,
    "start_time": "2023-01-24T21:32:37.475Z"
   },
   {
    "duration": 19,
    "start_time": "2023-01-24T21:32:39.400Z"
   },
   {
    "duration": 5,
    "start_time": "2023-01-24T21:35:08.935Z"
   },
   {
    "duration": 51,
    "start_time": "2023-01-24T21:35:08.942Z"
   },
   {
    "duration": 601,
    "start_time": "2023-01-24T21:35:08.994Z"
   },
   {
    "duration": 12,
    "start_time": "2023-01-24T21:35:09.596Z"
   },
   {
    "duration": 8,
    "start_time": "2023-01-24T21:35:09.610Z"
   },
   {
    "duration": 95,
    "start_time": "2023-01-24T21:35:09.619Z"
   },
   {
    "duration": 300652,
    "start_time": "2023-01-24T21:35:09.717Z"
   },
   {
    "duration": 1792,
    "start_time": "2023-01-24T21:40:10.371Z"
   },
   {
    "duration": 19,
    "start_time": "2023-01-24T21:40:12.165Z"
   },
   {
    "duration": 5,
    "start_time": "2023-01-24T21:44:35.523Z"
   },
   {
    "duration": 56,
    "start_time": "2023-01-24T21:44:35.530Z"
   },
   {
    "duration": 679,
    "start_time": "2023-01-24T21:44:35.588Z"
   },
   {
    "duration": 12,
    "start_time": "2023-01-24T21:44:36.273Z"
   },
   {
    "duration": 10,
    "start_time": "2023-01-24T21:44:36.287Z"
   },
   {
    "duration": 122,
    "start_time": "2023-01-24T21:44:36.299Z"
   },
   {
    "duration": 13646,
    "start_time": "2023-01-24T21:44:36.424Z"
   },
   {
    "duration": 1964,
    "start_time": "2023-01-24T21:44:50.073Z"
   },
   {
    "duration": 23,
    "start_time": "2023-01-24T21:44:52.039Z"
   },
   {
    "duration": 21,
    "start_time": "2023-01-24T22:30:39.894Z"
   },
   {
    "duration": 4,
    "start_time": "2023-01-24T23:07:38.817Z"
   },
   {
    "duration": 3,
    "start_time": "2023-01-24T23:08:27.960Z"
   },
   {
    "duration": 4,
    "start_time": "2023-01-24T23:09:56.601Z"
   },
   {
    "duration": 10,
    "start_time": "2023-01-24T23:11:40.840Z"
   },
   {
    "duration": 5,
    "start_time": "2023-01-24T23:11:52.129Z"
   },
   {
    "duration": 3,
    "start_time": "2023-01-24T23:13:21.689Z"
   },
   {
    "duration": 33,
    "start_time": "2023-01-24T23:13:21.694Z"
   },
   {
    "duration": 610,
    "start_time": "2023-01-24T23:13:21.728Z"
   },
   {
    "duration": 15,
    "start_time": "2023-01-24T23:13:22.340Z"
   },
   {
    "duration": 16,
    "start_time": "2023-01-24T23:13:22.357Z"
   },
   {
    "duration": 75,
    "start_time": "2023-01-24T23:13:22.375Z"
   },
   {
    "duration": 12277,
    "start_time": "2023-01-24T23:13:22.451Z"
   },
   {
    "duration": 2726,
    "start_time": "2023-01-24T23:13:34.729Z"
   },
   {
    "duration": 18,
    "start_time": "2023-01-24T23:13:37.457Z"
   },
   {
    "duration": 2636,
    "start_time": "2023-01-24T23:14:08.466Z"
   },
   {
    "duration": 2595,
    "start_time": "2023-01-24T23:14:13.955Z"
   },
   {
    "duration": 2605,
    "start_time": "2023-01-24T23:14:29.578Z"
   },
   {
    "duration": 2563,
    "start_time": "2023-01-24T23:14:37.905Z"
   },
   {
    "duration": 2677,
    "start_time": "2023-01-24T23:14:45.722Z"
   },
   {
    "duration": 2566,
    "start_time": "2023-01-24T23:14:54.395Z"
   },
   {
    "duration": 8,
    "start_time": "2023-01-24T23:32:52.399Z"
   },
   {
    "duration": 18,
    "start_time": "2023-01-24T23:33:47.232Z"
   },
   {
    "duration": 31,
    "start_time": "2023-01-24T23:35:45.376Z"
   },
   {
    "duration": 9,
    "start_time": "2023-01-24T23:53:57.748Z"
   },
   {
    "duration": 3,
    "start_time": "2023-01-24T23:54:28.293Z"
   },
   {
    "duration": 10,
    "start_time": "2023-01-24T23:54:36.428Z"
   },
   {
    "duration": 7,
    "start_time": "2023-01-24T23:54:58.052Z"
   },
   {
    "duration": 7,
    "start_time": "2023-01-24T23:55:33.582Z"
   },
   {
    "duration": 7,
    "start_time": "2023-01-24T23:55:46.853Z"
   },
   {
    "duration": 6,
    "start_time": "2023-01-24T23:56:12.044Z"
   },
   {
    "duration": 6,
    "start_time": "2023-01-24T23:56:21.590Z"
   },
   {
    "duration": 6,
    "start_time": "2023-01-24T23:56:32.372Z"
   },
   {
    "duration": 5,
    "start_time": "2023-01-24T23:56:43.236Z"
   },
   {
    "duration": 11,
    "start_time": "2023-01-24T23:56:56.526Z"
   },
   {
    "duration": 11,
    "start_time": "2023-01-24T23:57:42.325Z"
   },
   {
    "duration": 6,
    "start_time": "2023-01-24T23:58:58.574Z"
   },
   {
    "duration": 6,
    "start_time": "2023-01-24T23:59:06.141Z"
   },
   {
    "duration": 6,
    "start_time": "2023-01-24T23:59:36.991Z"
   },
   {
    "duration": 6,
    "start_time": "2023-01-24T23:59:45.375Z"
   },
   {
    "duration": 6,
    "start_time": "2023-01-24T23:59:53.613Z"
   },
   {
    "duration": 6,
    "start_time": "2023-01-25T00:00:13.141Z"
   },
   {
    "duration": 5,
    "start_time": "2023-01-25T00:00:16.494Z"
   },
   {
    "duration": 6,
    "start_time": "2023-01-25T00:00:23.389Z"
   },
   {
    "duration": 6,
    "start_time": "2023-01-25T00:02:26.839Z"
   },
   {
    "duration": 6,
    "start_time": "2023-01-25T00:02:35.639Z"
   },
   {
    "duration": 6,
    "start_time": "2023-01-25T00:02:37.703Z"
   },
   {
    "duration": 7,
    "start_time": "2023-01-25T00:02:45.070Z"
   },
   {
    "duration": 5,
    "start_time": "2023-01-25T00:02:54.142Z"
   },
   {
    "duration": 6,
    "start_time": "2023-01-25T00:03:02.190Z"
   },
   {
    "duration": 6,
    "start_time": "2023-01-25T00:34:37.728Z"
   },
   {
    "duration": 7,
    "start_time": "2023-01-25T00:36:03.280Z"
   },
   {
    "duration": 8,
    "start_time": "2023-01-25T00:37:13.040Z"
   },
   {
    "duration": 6,
    "start_time": "2023-01-25T00:37:40.607Z"
   },
   {
    "duration": 3,
    "start_time": "2023-01-25T01:17:02.182Z"
   },
   {
    "duration": 31,
    "start_time": "2023-01-25T01:17:02.188Z"
   },
   {
    "duration": 549,
    "start_time": "2023-01-25T01:17:02.221Z"
   },
   {
    "duration": 12,
    "start_time": "2023-01-25T01:17:02.772Z"
   },
   {
    "duration": 11,
    "start_time": "2023-01-25T01:17:02.786Z"
   },
   {
    "duration": 100,
    "start_time": "2023-01-25T01:17:02.798Z"
   },
   {
    "duration": 12088,
    "start_time": "2023-01-25T01:17:02.900Z"
   },
   {
    "duration": 2465,
    "start_time": "2023-01-25T01:17:14.990Z"
   },
   {
    "duration": 20,
    "start_time": "2023-01-25T01:17:17.457Z"
   },
   {
    "duration": 6,
    "start_time": "2023-01-25T01:17:17.478Z"
   },
   {
    "duration": 1240,
    "start_time": "2023-01-25T12:58:43.169Z"
   },
   {
    "duration": 136,
    "start_time": "2023-01-25T12:58:44.411Z"
   },
   {
    "duration": 660,
    "start_time": "2023-01-25T12:58:44.549Z"
   },
   {
    "duration": 12,
    "start_time": "2023-01-25T12:58:45.211Z"
   },
   {
    "duration": 14,
    "start_time": "2023-01-25T12:58:45.238Z"
   },
   {
    "duration": 98,
    "start_time": "2023-01-25T12:58:45.253Z"
   },
   {
    "duration": 16187,
    "start_time": "2023-01-25T12:58:45.353Z"
   },
   {
    "duration": 2569,
    "start_time": "2023-01-25T12:59:01.542Z"
   },
   {
    "duration": 35,
    "start_time": "2023-01-25T12:59:04.112Z"
   },
   {
    "duration": 7,
    "start_time": "2023-01-25T12:59:04.149Z"
   },
   {
    "duration": 1727,
    "start_time": "2023-01-25T16:41:54.127Z"
   },
   {
    "duration": 134,
    "start_time": "2023-01-25T16:41:55.856Z"
   },
   {
    "duration": 730,
    "start_time": "2023-01-25T16:41:55.992Z"
   },
   {
    "duration": 12,
    "start_time": "2023-01-25T16:42:36.427Z"
   },
   {
    "duration": 11,
    "start_time": "2023-01-25T16:42:56.773Z"
   },
   {
    "duration": 15,
    "start_time": "2023-01-25T16:43:02.019Z"
   },
   {
    "duration": 84,
    "start_time": "2023-01-25T16:46:27.708Z"
   },
   {
    "duration": 13,
    "start_time": "2023-01-25T16:46:43.211Z"
   },
   {
    "duration": 12,
    "start_time": "2023-01-25T16:46:53.116Z"
   },
   {
    "duration": 13,
    "start_time": "2023-01-25T16:47:26.461Z"
   },
   {
    "duration": 14,
    "start_time": "2023-01-25T16:47:39.587Z"
   },
   {
    "duration": 22,
    "start_time": "2023-01-25T16:51:15.606Z"
   },
   {
    "duration": 938,
    "start_time": "2023-01-25T16:59:13.945Z"
   },
   {
    "duration": 939,
    "start_time": "2023-01-25T17:00:32.769Z"
   },
   {
    "duration": 148,
    "start_time": "2023-01-25T17:05:16.208Z"
   },
   {
    "duration": 19,
    "start_time": "2023-01-25T17:05:33.730Z"
   },
   {
    "duration": 18,
    "start_time": "2023-01-25T17:05:46.402Z"
   },
   {
    "duration": 16,
    "start_time": "2023-01-25T17:06:03.728Z"
   },
   {
    "duration": 12,
    "start_time": "2023-01-25T17:06:08.761Z"
   },
   {
    "duration": 15,
    "start_time": "2023-01-25T17:06:42.649Z"
   },
   {
    "duration": 11,
    "start_time": "2023-01-25T17:06:53.042Z"
   },
   {
    "duration": 10,
    "start_time": "2023-01-25T17:09:07.438Z"
   },
   {
    "duration": 11,
    "start_time": "2023-01-25T17:09:29.891Z"
   },
   {
    "duration": 10,
    "start_time": "2023-01-25T17:09:41.066Z"
   },
   {
    "duration": 10,
    "start_time": "2023-01-25T17:09:50.002Z"
   },
   {
    "duration": 12,
    "start_time": "2023-01-25T17:10:56.827Z"
   },
   {
    "duration": 13,
    "start_time": "2023-01-25T17:14:40.429Z"
   },
   {
    "duration": 116,
    "start_time": "2023-01-25T17:27:38.531Z"
   },
   {
    "duration": 13,
    "start_time": "2023-01-25T17:27:55.560Z"
   },
   {
    "duration": 13,
    "start_time": "2023-01-25T17:28:25.592Z"
   },
   {
    "duration": 13,
    "start_time": "2023-01-25T17:28:45.663Z"
   },
   {
    "duration": 4,
    "start_time": "2023-01-25T17:29:33.095Z"
   },
   {
    "duration": 4,
    "start_time": "2023-01-25T17:29:52.528Z"
   },
   {
    "duration": 5,
    "start_time": "2023-01-25T17:31:01.687Z"
   },
   {
    "duration": 5,
    "start_time": "2023-01-25T17:31:17.634Z"
   },
   {
    "duration": 147,
    "start_time": "2023-01-25T17:32:50.721Z"
   },
   {
    "duration": 90,
    "start_time": "2023-01-25T17:34:07.785Z"
   },
   {
    "duration": 15,
    "start_time": "2023-01-25T17:34:32.240Z"
   },
   {
    "duration": 13,
    "start_time": "2023-01-25T17:35:16.803Z"
   },
   {
    "duration": 20,
    "start_time": "2023-01-25T17:36:09.440Z"
   },
   {
    "duration": 13,
    "start_time": "2023-01-25T17:39:55.589Z"
   },
   {
    "duration": 4,
    "start_time": "2023-01-25T17:40:09.593Z"
   },
   {
    "duration": 32,
    "start_time": "2023-01-25T17:40:09.598Z"
   },
   {
    "duration": 965,
    "start_time": "2023-01-25T17:40:09.632Z"
   },
   {
    "duration": 28,
    "start_time": "2023-01-25T17:40:10.600Z"
   },
   {
    "duration": 13,
    "start_time": "2023-01-25T17:40:10.630Z"
   },
   {
    "duration": 17,
    "start_time": "2023-01-25T17:40:10.645Z"
   },
   {
    "duration": 109,
    "start_time": "2023-01-25T17:40:10.664Z"
   },
   {
    "duration": 14176,
    "start_time": "2023-01-25T17:40:10.775Z"
   },
   {
    "duration": 3164,
    "start_time": "2023-01-25T17:40:24.954Z"
   },
   {
    "duration": 24,
    "start_time": "2023-01-25T17:40:28.121Z"
   },
   {
    "duration": 14,
    "start_time": "2023-01-25T17:46:34.972Z"
   },
   {
    "duration": 30,
    "start_time": "2023-01-25T17:46:45.101Z"
   },
   {
    "duration": 12,
    "start_time": "2023-01-25T17:47:08.660Z"
   },
   {
    "duration": 8,
    "start_time": "2023-01-25T17:51:20.087Z"
   },
   {
    "duration": 11,
    "start_time": "2023-01-25T17:54:34.064Z"
   },
   {
    "duration": 9,
    "start_time": "2023-01-25T17:55:12.241Z"
   },
   {
    "duration": 13,
    "start_time": "2023-01-25T17:57:10.303Z"
   },
   {
    "duration": 10,
    "start_time": "2023-01-25T18:01:11.169Z"
   },
   {
    "duration": 4,
    "start_time": "2023-01-25T19:34:35.140Z"
   },
   {
    "duration": 57,
    "start_time": "2023-01-25T19:34:35.146Z"
   },
   {
    "duration": 942,
    "start_time": "2023-01-25T19:34:35.204Z"
   },
   {
    "duration": 16,
    "start_time": "2023-01-25T19:34:36.148Z"
   },
   {
    "duration": 19,
    "start_time": "2023-01-25T19:34:36.167Z"
   },
   {
    "duration": 116,
    "start_time": "2023-01-25T19:34:36.188Z"
   },
   {
    "duration": 14675,
    "start_time": "2023-01-25T19:34:36.306Z"
   },
   {
    "duration": 3076,
    "start_time": "2023-01-25T19:34:50.982Z"
   },
   {
    "duration": 22,
    "start_time": "2023-01-25T19:34:54.060Z"
   },
   {
    "duration": 9,
    "start_time": "2023-01-25T19:34:54.084Z"
   },
   {
    "duration": 3126,
    "start_time": "2023-01-25T19:34:59.096Z"
   },
   {
    "duration": 4,
    "start_time": "2023-01-25T19:48:19.247Z"
   },
   {
    "duration": 39,
    "start_time": "2023-01-25T19:48:19.254Z"
   },
   {
    "duration": 926,
    "start_time": "2023-01-25T19:48:19.294Z"
   },
   {
    "duration": 12,
    "start_time": "2023-01-25T19:48:20.223Z"
   },
   {
    "duration": 20,
    "start_time": "2023-01-25T19:48:20.237Z"
   },
   {
    "duration": 100,
    "start_time": "2023-01-25T19:48:20.259Z"
   },
   {
    "duration": 14015,
    "start_time": "2023-01-25T19:48:20.361Z"
   },
   {
    "duration": 2956,
    "start_time": "2023-01-25T19:48:34.378Z"
   },
   {
    "duration": 21,
    "start_time": "2023-01-25T19:48:37.336Z"
   },
   {
    "duration": 8,
    "start_time": "2023-01-25T19:48:37.358Z"
   },
   {
    "duration": 753,
    "start_time": "2023-01-25T19:48:37.368Z"
   },
   {
    "duration": 6,
    "start_time": "2023-01-25T19:48:38.123Z"
   },
   {
    "duration": 2610,
    "start_time": "2023-01-26T03:44:09.393Z"
   },
   {
    "duration": 163,
    "start_time": "2023-01-26T03:44:12.006Z"
   },
   {
    "duration": 2036,
    "start_time": "2023-01-26T03:44:12.171Z"
   },
   {
    "duration": 69,
    "start_time": "2023-01-26T03:44:14.210Z"
   },
   {
    "duration": 22,
    "start_time": "2023-01-26T03:44:14.282Z"
   },
   {
    "duration": 277,
    "start_time": "2023-01-26T03:44:14.306Z"
   },
   {
    "duration": 27817,
    "start_time": "2023-01-26T03:44:14.585Z"
   },
   {
    "duration": 6383,
    "start_time": "2023-01-26T03:44:42.404Z"
   },
   {
    "duration": 21,
    "start_time": "2023-01-26T03:44:48.788Z"
   },
   {
    "duration": 62,
    "start_time": "2023-01-26T03:44:48.812Z"
   },
   {
    "duration": 1200,
    "start_time": "2023-01-26T03:44:48.876Z"
   },
   {
    "duration": 7,
    "start_time": "2023-01-26T03:44:50.079Z"
   }
  ],
  "kernelspec": {
   "display_name": "Python 3 (ipykernel)",
   "language": "python",
   "name": "python3"
  },
  "language_info": {
   "codemirror_mode": {
    "name": "ipython",
    "version": 3
   },
   "file_extension": ".py",
   "mimetype": "text/x-python",
   "name": "python",
   "nbconvert_exporter": "python",
   "pygments_lexer": "ipython3",
   "version": "3.9.13"
  },
  "toc": {
   "base_numbering": 1,
   "nav_menu": {},
   "number_sections": true,
   "sideBar": true,
   "skip_h1_title": true,
   "title_cell": "Table of Contents",
   "title_sidebar": "Contents",
   "toc_cell": false,
   "toc_position": {
    "height": "calc(100% - 180px)",
    "left": "10px",
    "top": "150px",
    "width": "366.188px"
   },
   "toc_section_display": true,
   "toc_window_display": true
  }
 },
 "nbformat": 4,
 "nbformat_minor": 2
}
