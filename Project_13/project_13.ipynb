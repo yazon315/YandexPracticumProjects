{
 "cells": [
  {
   "cell_type": "markdown",
   "metadata": {},
   "source": [
    "# Проект: Построение модели классификации комментариев для интернет-магазина"
   ]
  },
  {
   "cell_type": "markdown",
   "metadata": {},
   "source": [
    "**Оглавление**<a id='toc0_'></a>    \n",
    "- 1. [Загрузка и подготовка данных](#toc1_)    \n",
    "  - 1.1. [Загрузка и обзор данных](#toc1_1_)    \n",
    "  - 1.2. [Подготовка данных](#toc1_2_)    \n",
    "  - 1.3. [Разделение данных на выборки](#toc1_3_)    \n",
    "  - 1.4. [Векторизация признаков](#toc1_4_)    \n",
    "  - 1.5. [Вывод по результатам раздела 1](#toc1_5_)    \n",
    "- 2. [Обучение моделей](#toc2_)    \n",
    "  - 2.1. [Выбор моделей](#toc2_1_)    \n",
    "  - 2.2. [Классификатор Байеса с распределением Бернулли](#toc2_2_)    \n",
    "  - 2.3. [Логистическая регрессия](#toc2_3_)    \n",
    "  - 2.4. [Метод опорных векторов](#toc2_4_)    \n",
    "  - 2.5. [Стохастический градиентный спуск](#toc2_5_)    \n",
    "  - 2.6. [Градиентный бустинг](#toc2_6_)    \n",
    "  - 2.7. [Вывод по результатам раздела 2](#toc2_7_)    \n",
    "- 3. [Проверка на тестовой выборке](#toc3_)    \n",
    "  - 3.1. [Вывод по результатам раздела 3](#toc3_1_)    \n",
    "- 4. [Общий вывод](#toc4_)    \n",
    "\n",
    "<!-- vscode-jupyter-toc-config\n",
    "\tnumbering=true\n",
    "\tanchor=true\n",
    "\tflat=false\n",
    "\tminLevel=2\n",
    "\tmaxLevel=6\n",
    "\t/vscode-jupyter-toc-config -->\n",
    "<!-- THIS CELL WILL BE REPLACED ON TOC UPDATE. DO NOT WRITE YOUR TEXT IN THIS CELL -->"
   ]
  },
  {
   "cell_type": "markdown",
   "metadata": {},
   "source": [
    "**Задание:**\n",
    "\n",
    "Интернет-магазин «Викишоп» запускает новый сервис, в котором пользователи могут редактировать и дополнять описания товаров. Клиенты могут предлагать свои правки и комментировать изменения других. Требуется разработать инструмент, который будет находить токсичные (отрицательные) комментарии и отправлять их на модерацию. \n",
    "\n",
    "Предоставлен набор данных с разметкой о токсичности правок. Данные находятся в файле \"toxic_comments.csv\". Столбец \"text\" содержит текст комментария, столбец \"toxic\" — целевой признак.\n",
    "\n",
    "Необходимо:\n",
    "- Загрузить и обработать исходные данные.\n",
    "- Построить и обучить несколько моделей классифицировать комментарии на позитивные и негативные. При этом значение метрики качества \"F1\" модели должно быть не меньше 0,75.\n",
    "- Проверить данные на тестовой выборке и сделать выводы.\n",
    "\n",
    "План работы:\n",
    "1. Загрузка и подготовка данных.\n",
    "2. Обучение моделей.\n",
    "3. Проверка на тестовой выборке.\n",
    "4. Общий вывод."
   ]
  },
  {
   "cell_type": "markdown",
   "metadata": {},
   "source": [
    "## 1. <a id='toc1_'></a>[Загрузка и подготовка данных](#toc0_)"
   ]
  },
  {
   "cell_type": "code",
   "execution_count": 2,
   "metadata": {},
   "outputs": [],
   "source": [
    "# подключение библиотек\n",
    "import pandas as pd\n",
    "import numpy as np\n",
    "\n",
    "import matplotlib.pyplot as plt\n",
    "import seaborn as sns\n",
    "\n",
    "import time\n",
    "from IPython.display import display\n",
    "\n",
    "import spacy\n",
    "from sklearn.feature_extraction.text import TfidfVectorizer\n",
    "\n",
    "from sklearn.naive_bayes import BernoulliNB\n",
    "from sklearn.svm import LinearSVC\n",
    "from sklearn.linear_model import LogisticRegression\n",
    "from sklearn.linear_model import SGDClassifier\n",
    "from lightgbm import LGBMClassifier\n",
    "\n",
    "from sklearn.metrics import f1_score\n",
    "\n",
    "from sklearn.model_selection import train_test_split\n",
    "from sklearn.model_selection import GridSearchCV\n",
    "\n",
    "# константы\n",
    "RST = 12345 # значение random_state"
   ]
  },
  {
   "cell_type": "markdown",
   "metadata": {},
   "source": [
    "### 1.1. <a id='toc1_1_'></a>[Загрузка и обзор данных](#toc0_)"
   ]
  },
  {
   "cell_type": "code",
   "execution_count": 3,
   "metadata": {},
   "outputs": [],
   "source": [
    "# загрузка файла\n",
    "try:\n",
    "    data = pd.read_csv('/datasets/toxic_comments.csv', index_col=0)\n",
    "except FileNotFoundError:\n",
    "    data = pd.read_csv('D:\\Education\\Data Science\\Проекты курса DS\\Проект_13\\datasets\\\\toxic_comments.csv', index_col=0)"
   ]
  },
  {
   "cell_type": "code",
   "execution_count": 4,
   "metadata": {},
   "outputs": [
    {
     "name": "stdout",
     "output_type": "stream",
     "text": [
      "<class 'pandas.core.frame.DataFrame'>\n",
      "Int64Index: 159292 entries, 0 to 159450\n",
      "Data columns (total 2 columns):\n",
      " #   Column  Non-Null Count   Dtype \n",
      "---  ------  --------------   ----- \n",
      " 0   text    159292 non-null  object\n",
      " 1   toxic   159292 non-null  int64 \n",
      "dtypes: int64(1), object(1)\n",
      "memory usage: 3.6+ MB\n"
     ]
    },
    {
     "data": {
      "text/html": [
       "<div>\n",
       "<style scoped>\n",
       "    .dataframe tbody tr th:only-of-type {\n",
       "        vertical-align: middle;\n",
       "    }\n",
       "\n",
       "    .dataframe tbody tr th {\n",
       "        vertical-align: top;\n",
       "    }\n",
       "\n",
       "    .dataframe thead th {\n",
       "        text-align: right;\n",
       "    }\n",
       "</style>\n",
       "<table border=\"1\" class=\"dataframe\">\n",
       "  <thead>\n",
       "    <tr style=\"text-align: right;\">\n",
       "      <th></th>\n",
       "      <th>text</th>\n",
       "      <th>toxic</th>\n",
       "    </tr>\n",
       "  </thead>\n",
       "  <tbody>\n",
       "    <tr>\n",
       "      <th>0</th>\n",
       "      <td>Explanation\\nWhy the edits made under my username Hardcore Metallica Fan were reverted? They weren't vandalisms, just closure on some GAs after I voted at New York Dolls FAC. And please don't remove the template from the talk page since I'm retired now.89.205.38.27</td>\n",
       "      <td>0</td>\n",
       "    </tr>\n",
       "    <tr>\n",
       "      <th>1</th>\n",
       "      <td>D'aww! He matches this background colour I'm seemingly stuck with. Thanks.  (talk) 21:51, January 11, 2016 (UTC)</td>\n",
       "      <td>0</td>\n",
       "    </tr>\n",
       "    <tr>\n",
       "      <th>2</th>\n",
       "      <td>Hey man, I'm really not trying to edit war. It's just that this guy is constantly removing relevant information and talking to me through edits instead of my talk page. He seems to care more about the formatting than the actual info.</td>\n",
       "      <td>0</td>\n",
       "    </tr>\n",
       "    <tr>\n",
       "      <th>3</th>\n",
       "      <td>\"\\nMore\\nI can't make any real suggestions on improvement - I wondered if the section statistics should be later on, or a subsection of \"\"types of accidents\"\"  -I think the references may need tidying so that they are all in the exact same format ie date format etc. I can do that later on, if no-one else does first - if you have any preferences for formatting style on references or want to do it yourself please let me know.\\n\\nThere appears to be a backlog on articles for review so I guess there may be a delay until a reviewer turns up. It's listed in the relevant form eg Wikipedia:Good_article_nominations#Transport  \"</td>\n",
       "      <td>0</td>\n",
       "    </tr>\n",
       "    <tr>\n",
       "      <th>4</th>\n",
       "      <td>You, sir, are my hero. Any chance you remember what page that's on?</td>\n",
       "      <td>0</td>\n",
       "    </tr>\n",
       "    <tr>\n",
       "      <th>118342</th>\n",
       "      <td>William Windsor (goat) \\n\\nIs this William Windsor (goat) any relation to William Windsor (Fish) ? link here</td>\n",
       "      <td>0</td>\n",
       "    </tr>\n",
       "    <tr>\n",
       "      <th>74703</th>\n",
       "      <td>You to. 82.132.218.163</td>\n",
       "      <td>0</td>\n",
       "    </tr>\n",
       "    <tr>\n",
       "      <th>79940</th>\n",
       "      <td>Thank you for your apology. I accept it, such as it is. It is a good first step in repairing what was broken here - the trust that we are all working in an impartial environment.</td>\n",
       "      <td>0</td>\n",
       "    </tr>\n",
       "    <tr>\n",
       "      <th>152833</th>\n",
       "      <td>IM BACK!! AND NOW IN DC!!!! HAHA VARY</td>\n",
       "      <td>0</td>\n",
       "    </tr>\n",
       "    <tr>\n",
       "      <th>16524</th>\n",
       "      <td>Asian Supremacy\\nYou voted to delete the article Asian supremacy because you felt it was unverifiable.  It is verifiable.   The organization Goldsea supports Asian supremacy.</td>\n",
       "      <td>0</td>\n",
       "    </tr>\n",
       "  </tbody>\n",
       "</table>\n",
       "</div>"
      ],
      "text/plain": [
       "                                                                                                                                                                                                                                                                                                                                                                                                                                                                                                                                                                                                                                                      text  \\\n",
       "0                                                                                                                                                                                                                                                                                                                                                                                Explanation\\nWhy the edits made under my username Hardcore Metallica Fan were reverted? They weren't vandalisms, just closure on some GAs after I voted at New York Dolls FAC. And please don't remove the template from the talk page since I'm retired now.89.205.38.27   \n",
       "1                                                                                                                                                                                                                                                                                                                                                                                                                                                                                                                                         D'aww! He matches this background colour I'm seemingly stuck with. Thanks.  (talk) 21:51, January 11, 2016 (UTC)   \n",
       "2                                                                                                                                                                                                                                                                                                                                                                                                                Hey man, I'm really not trying to edit war. It's just that this guy is constantly removing relevant information and talking to me through edits instead of my talk page. He seems to care more about the formatting than the actual info.   \n",
       "3       \"\\nMore\\nI can't make any real suggestions on improvement - I wondered if the section statistics should be later on, or a subsection of \"\"types of accidents\"\"  -I think the references may need tidying so that they are all in the exact same format ie date format etc. I can do that later on, if no-one else does first - if you have any preferences for formatting style on references or want to do it yourself please let me know.\\n\\nThere appears to be a backlog on articles for review so I guess there may be a delay until a reviewer turns up. It's listed in the relevant form eg Wikipedia:Good_article_nominations#Transport  \"   \n",
       "4                                                                                                                                                                                                                                                                                                                                                                                                                                                                                                                                                                                      You, sir, are my hero. Any chance you remember what page that's on?   \n",
       "118342                                                                                                                                                                                                                                                                                                                                                                                                                                                                                                                                        William Windsor (goat) \\n\\nIs this William Windsor (goat) any relation to William Windsor (Fish) ? link here   \n",
       "74703                                                                                                                                                                                                                                                                                                                                                                                                                                                                                                                                                                                                                               You to. 82.132.218.163   \n",
       "79940                                                                                                                                                                                                                                                                                                                                                                                                                                                                   Thank you for your apology. I accept it, such as it is. It is a good first step in repairing what was broken here - the trust that we are all working in an impartial environment.   \n",
       "152833                                                                                                                                                                                                                                                                                                                                                                                                                                                                                                                                                                                                               IM BACK!! AND NOW IN DC!!!! HAHA VARY   \n",
       "16524                                                                                                                                                                                                                                                                                                                                                                                                                                                                       Asian Supremacy\\nYou voted to delete the article Asian supremacy because you felt it was unverifiable.  It is verifiable.   The organization Goldsea supports Asian supremacy.   \n",
       "\n",
       "        toxic  \n",
       "0           0  \n",
       "1           0  \n",
       "2           0  \n",
       "3           0  \n",
       "4           0  \n",
       "118342      0  \n",
       "74703       0  \n",
       "79940       0  \n",
       "152833      0  \n",
       "16524       0  "
      ]
     },
     "metadata": {},
     "output_type": "display_data"
    },
    {
     "name": "stdout",
     "output_type": "stream",
     "text": [
      "\n",
      "Количество полных дубликатов: 0\n",
      "\n",
      "\n",
      "Статистическая информация:\n"
     ]
    },
    {
     "data": {
      "text/html": [
       "<div>\n",
       "<style scoped>\n",
       "    .dataframe tbody tr th:only-of-type {\n",
       "        vertical-align: middle;\n",
       "    }\n",
       "\n",
       "    .dataframe tbody tr th {\n",
       "        vertical-align: top;\n",
       "    }\n",
       "\n",
       "    .dataframe thead th {\n",
       "        text-align: right;\n",
       "    }\n",
       "</style>\n",
       "<table border=\"1\" class=\"dataframe\">\n",
       "  <thead>\n",
       "    <tr style=\"text-align: right;\">\n",
       "      <th></th>\n",
       "      <th>toxic</th>\n",
       "    </tr>\n",
       "  </thead>\n",
       "  <tbody>\n",
       "    <tr>\n",
       "      <th>count</th>\n",
       "      <td>159292.000000</td>\n",
       "    </tr>\n",
       "    <tr>\n",
       "      <th>mean</th>\n",
       "      <td>0.101612</td>\n",
       "    </tr>\n",
       "    <tr>\n",
       "      <th>std</th>\n",
       "      <td>0.302139</td>\n",
       "    </tr>\n",
       "    <tr>\n",
       "      <th>min</th>\n",
       "      <td>0.000000</td>\n",
       "    </tr>\n",
       "    <tr>\n",
       "      <th>25%</th>\n",
       "      <td>0.000000</td>\n",
       "    </tr>\n",
       "    <tr>\n",
       "      <th>50%</th>\n",
       "      <td>0.000000</td>\n",
       "    </tr>\n",
       "    <tr>\n",
       "      <th>75%</th>\n",
       "      <td>0.000000</td>\n",
       "    </tr>\n",
       "    <tr>\n",
       "      <th>max</th>\n",
       "      <td>1.000000</td>\n",
       "    </tr>\n",
       "  </tbody>\n",
       "</table>\n",
       "</div>"
      ],
      "text/plain": [
       "               toxic\n",
       "count  159292.000000\n",
       "mean        0.101612\n",
       "std         0.302139\n",
       "min         0.000000\n",
       "25%         0.000000\n",
       "50%         0.000000\n",
       "75%         0.000000\n",
       "max         1.000000"
      ]
     },
     "metadata": {},
     "output_type": "display_data"
    },
    {
     "data": {
      "image/png": "[encoded data removed]",
      "text/plain": [
       "<Figure size 720x360 with 1 Axes>"
      ]
     },
     "metadata": {
      "needs_background": "light"
     },
     "output_type": "display_data"
    }
   ],
   "source": [
    "# обзор данных\n",
    "data.info()\n",
    "pd.set_option('display.max_colwidth', None)\n",
    "display(pd.concat([data.head(5), data.sample(5)]))\n",
    "\n",
    "# проверка на наличие дубликатов\n",
    "print('\\nКоличество полных дубликатов:', data.duplicated().sum(), end='\\n\\n')\n",
    "\n",
    "# отображение статистической информации\n",
    "print('\\nСтатистическая информация:')\n",
    "display(data.describe())\n",
    "data.hist(bins=100, figsize=(10,5))\n",
    "plt.show()"
   ]
  },
  {
   "cell_type": "markdown",
   "metadata": {},
   "source": [
    "В загруженных данных около 160 тыс. записей. Этого достаточно для обучения моделей. Пропусков нет, дубликаты отсутствуют, аномальных значений нет, типы данных столбцов соответствуют содержанию.\n",
    "\n",
    "Наблюдается дисбаланс классов в пользу позитивных отзывов в соотношении примерно 10:1."
   ]
  },
  {
   "cell_type": "markdown",
   "metadata": {},
   "source": [
    "### 1.2. <a id='toc1_2_'></a>[Подготовка данных](#toc0_)\n",
    "\n",
    "В рамках подготовки данных выполним следующие действия:\n",
    "- удаление лишних символов;\n",
    "- лемматизация;\n",
    "- удаление стоп-слов.\n",
    "\n",
    "Используем средства библиотеки `spacy`, которые содержат требуемые функции."
   ]
  },
  {
   "cell_type": "code",
   "execution_count": 5,
   "metadata": {},
   "outputs": [],
   "source": [
    "# инициализация лемматизации\n",
    "nlp = spacy.load('en_core_web_sm', disable = ['parser', 'ner'])\n",
    "\n",
    "# функция лемматизации текста с удалением стоп-слов и символов, кроме букв\n",
    "def lemmatiz(text):\n",
    "    return ' '.join(token.lemma_ for token in nlp(text) if (not token.is_stop and token.is_alpha)).lower()"
   ]
  },
  {
   "cell_type": "code",
   "execution_count": 5,
   "metadata": {
    "scrolled": true
   },
   "outputs": [
    {
     "data": {
      "text/html": [
       "<div>\n",
       "<style scoped>\n",
       "    .dataframe tbody tr th:only-of-type {\n",
       "        vertical-align: middle;\n",
       "    }\n",
       "\n",
       "    .dataframe tbody tr th {\n",
       "        vertical-align: top;\n",
       "    }\n",
       "\n",
       "    .dataframe thead th {\n",
       "        text-align: right;\n",
       "    }\n",
       "</style>\n",
       "<table border=\"1\" class=\"dataframe\">\n",
       "  <thead>\n",
       "    <tr style=\"text-align: right;\">\n",
       "      <th></th>\n",
       "      <th>text</th>\n",
       "      <th>toxic</th>\n",
       "      <th>text_lemm</th>\n",
       "    </tr>\n",
       "  </thead>\n",
       "  <tbody>\n",
       "    <tr>\n",
       "      <th>0</th>\n",
       "      <td>Explanation\\nWhy the edits made under my username Hardcore Metallica Fan were reverted? They weren't vandalisms, just closure on some GAs after I voted at New York Dolls FAC. And please don't remove the template from the talk page since I'm retired now.89.205.38.27</td>\n",
       "      <td>0</td>\n",
       "      <td>explanation edit username hardcore metallica fan revert vandalism closure gas vote new york dolls fac remove template talk page retire</td>\n",
       "    </tr>\n",
       "    <tr>\n",
       "      <th>1</th>\n",
       "      <td>D'aww! He matches this background colour I'm seemingly stuck with. Thanks.  (talk) 21:51, January 11, 2016 (UTC)</td>\n",
       "      <td>0</td>\n",
       "      <td>match background colour seemingly stuck thank talk january utc</td>\n",
       "    </tr>\n",
       "    <tr>\n",
       "      <th>2</th>\n",
       "      <td>Hey man, I'm really not trying to edit war. It's just that this guy is constantly removing relevant information and talking to me through edits instead of my talk page. He seems to care more about the formatting than the actual info.</td>\n",
       "      <td>0</td>\n",
       "      <td>hey man try edit war guy constantly remove relevant information talk edit instead talk page care formatting actual info</td>\n",
       "    </tr>\n",
       "    <tr>\n",
       "      <th>3</th>\n",
       "      <td>\"\\nMore\\nI can't make any real suggestions on improvement - I wondered if the section statistics should be later on, or a subsection of \"\"types of accidents\"\"  -I think the references may need tidying so that they are all in the exact same format ie date format etc. I can do that later on, if no-one else does first - if you have any preferences for formatting style on references or want to do it yourself please let me know.\\n\\nThere appears to be a backlog on articles for review so I guess there may be a delay until a reviewer turns up. It's listed in the relevant form eg Wikipedia:Good_article_nominations#Transport  \"</td>\n",
       "      <td>0</td>\n",
       "      <td>real suggestion improvement wonder section statistic later subsection type accident think reference need tidy exact format ie date format etc later preference format style reference want let know appear backlog article review guess delay reviewer turn list relevant form eg wikipedia</td>\n",
       "    </tr>\n",
       "    <tr>\n",
       "      <th>4</th>\n",
       "      <td>You, sir, are my hero. Any chance you remember what page that's on?</td>\n",
       "      <td>0</td>\n",
       "      <td>sir hero chance remember page</td>\n",
       "    </tr>\n",
       "  </tbody>\n",
       "</table>\n",
       "</div>"
      ],
      "text/plain": [
       "                                                                                                                                                                                                                                                                                                                                                                                                                                                                                                                                                                                                                                                 text  \\\n",
       "0                                                                                                                                                                                                                                                                                                                                                                           Explanation\\nWhy the edits made under my username Hardcore Metallica Fan were reverted? They weren't vandalisms, just closure on some GAs after I voted at New York Dolls FAC. And please don't remove the template from the talk page since I'm retired now.89.205.38.27   \n",
       "1                                                                                                                                                                                                                                                                                                                                                                                                                                                                                                                                    D'aww! He matches this background colour I'm seemingly stuck with. Thanks.  (talk) 21:51, January 11, 2016 (UTC)   \n",
       "2                                                                                                                                                                                                                                                                                                                                                                                                           Hey man, I'm really not trying to edit war. It's just that this guy is constantly removing relevant information and talking to me through edits instead of my talk page. He seems to care more about the formatting than the actual info.   \n",
       "3  \"\\nMore\\nI can't make any real suggestions on improvement - I wondered if the section statistics should be later on, or a subsection of \"\"types of accidents\"\"  -I think the references may need tidying so that they are all in the exact same format ie date format etc. I can do that later on, if no-one else does first - if you have any preferences for formatting style on references or want to do it yourself please let me know.\\n\\nThere appears to be a backlog on articles for review so I guess there may be a delay until a reviewer turns up. It's listed in the relevant form eg Wikipedia:Good_article_nominations#Transport  \"   \n",
       "4                                                                                                                                                                                                                                                                                                                                                                                                                                                                                                                                                                                 You, sir, are my hero. Any chance you remember what page that's on?   \n",
       "\n",
       "   toxic  \\\n",
       "0      0   \n",
       "1      0   \n",
       "2      0   \n",
       "3      0   \n",
       "4      0   \n",
       "\n",
       "                                                                                                                                                                                                                                                                                     text_lemm  \n",
       "0                                                                                                                                                       explanation edit username hardcore metallica fan revert vandalism closure gas vote new york dolls fac remove template talk page retire  \n",
       "1                                                                                                                                                                                                                               match background colour seemingly stuck thank talk january utc  \n",
       "2                                                                                                                                                                      hey man try edit war guy constantly remove relevant information talk edit instead talk page care formatting actual info  \n",
       "3  real suggestion improvement wonder section statistic later subsection type accident think reference need tidy exact format ie date format etc later preference format style reference want let know appear backlog article review guess delay reviewer turn list relevant form eg wikipedia  \n",
       "4                                                                                                                                                                                                                                                                sir hero chance remember page  "
      ]
     },
     "metadata": {},
     "output_type": "display_data"
    },
    {
     "name": "stdout",
     "output_type": "stream",
     "text": [
      "CPU times: user 17min 14s, sys: 4.57 s, total: 17min 19s\n",
      "Wall time: 17min 19s\n"
     ]
    }
   ],
   "source": [
    "%%time\n",
    "# удаление лишних символов и лемматизация с помощью пользовательской функции\n",
    "data['text_lemm'] = data['text'].map(lemmatiz)\n",
    "\n",
    "# просмотр результата\n",
    "display(data.head())"
   ]
  },
  {
   "cell_type": "markdown",
   "metadata": {},
   "source": [
    "### 1.3. <a id='toc1_3_'></a>[Разделение данных на выборки](#toc0_)\n",
    "\n",
    "Разделим данные на обучающую и тестовую выборки, в тестовую выборку отложим 20% от имеющихся данных. Обучение всех моделей будем осуществлять с применением кросс-валидации, поэтому формирование отдельной валидационной выборки не требуется."
   ]
  },
  {
   "cell_type": "code",
   "execution_count": 6,
   "metadata": {},
   "outputs": [
    {
     "name": "stdout",
     "output_type": "stream",
     "text": [
      "\n",
      "Обучающая выборка (train): (127433, 3)\n",
      "    - баланс классов: 10.16%\n",
      "Тестовая выборка (test): (31859, 3)\n",
      "    - баланс классов: 10.16%\n"
     ]
    }
   ],
   "source": [
    "# разделение исходных данных на обучающую и тестовую выборки\n",
    "train, test = train_test_split(data, test_size=.2, random_state=RST, stratify=data['toxic'])\n",
    "# вывод информации о выборках\n",
    "print(f'''\n",
    "Обучающая выборка (train): {train.shape}\n",
    "    - баланс классов: {train['toxic'].mean():0.2%}\n",
    "Тестовая выборка (test): {test.shape}\n",
    "    - баланс классов: {test['toxic'].mean():0.2%}''')"
   ]
  },
  {
   "cell_type": "markdown",
   "metadata": {},
   "source": [
    "Рассмотрим распределение отзывов по количеству слов в них."
   ]
  },
  {
   "cell_type": "code",
   "execution_count": 7,
   "metadata": {},
   "outputs": [
    {
     "data": {
      "image/png": "[encoded data removed]",
      "text/plain": [
       "<Figure size 1224x360 with 2 Axes>"
      ]
     },
     "metadata": {
      "needs_background": "light"
     },
     "output_type": "display_data"
    },
    {
     "name": "stdout",
     "output_type": "stream",
     "text": [
      "Количество сообщений c длиной больше 200 слов: 2011\n"
     ]
    }
   ],
   "source": [
    "text_len = [len(str(i).split()) for i in train['text_lemm']]\n",
    "fig, ax = plt.subplots(nrows=1, ncols=2, figsize=(17, 5))\n",
    "fig.suptitle('Распределение твитов по количеству слов в них (после лемматизации)')\n",
    "pd.Series(text_len).hist(bins = 100, ax=ax[0])\n",
    "pd.Series(text_len).hist(bins = 100, ax=ax[1])\n",
    "ax[1].set_xlim(0, 200)\n",
    "plt.show()\n",
    "\n",
    "print('Количество сообщений c длиной больше 200 слов:', pd.Series(text_len).loc[lambda x: (x > 200)].count())"
   ]
  },
  {
   "cell_type": "markdown",
   "metadata": {},
   "source": [
    "Для сокращения размерности матрицы признаков, отбросим длинные твиты с количеством слов больше 200."
   ]
  },
  {
   "cell_type": "code",
   "execution_count": 8,
   "metadata": {
    "scrolled": false
   },
   "outputs": [
    {
     "name": "stdout",
     "output_type": "stream",
     "text": [
      "\n",
      "Обучающая выборка (train): (125407, 3)\n",
      "    - баланс классов: 10.14%\n"
     ]
    }
   ],
   "source": [
    "train = train[train['text_lemm'].map(lambda x: len(str(x).split())) < 200]\n",
    "print(f'''\n",
    "Обучающая выборка (train): {train.shape}\n",
    "    - баланс классов: {train['toxic'].mean():0.2%}''')"
   ]
  },
  {
   "cell_type": "markdown",
   "metadata": {},
   "source": [
    "Разделим обучающую и тестовую выборки на выборки с признаками (`features`) и выборки с целевым признаком (`target`)."
   ]
  },
  {
   "cell_type": "code",
   "execution_count": 9,
   "metadata": {},
   "outputs": [
    {
     "name": "stdout",
     "output_type": "stream",
     "text": [
      "\n",
      "Обучающая выборка (features_train, target_train):\n",
      "    - признаки (125407,);\n",
      "    - целевой признак (125407)\n",
      "        - баланс классов (процент отрицательных отзывов): 10.14%.\n",
      "Тестовая выборка (features_test, target_test):\n",
      "    - признаки (31859,);\n",
      "    - целевой признак (31859)\n",
      "        - баланс классов (процент отрицательных отзывов): 10.16%.\n",
      "\n"
     ]
    }
   ],
   "source": [
    "features_train = train['text_lemm'].copy()\n",
    "target_train = train['toxic'].copy()\n",
    "features_test = test['text_lemm'].copy()\n",
    "target_test = test['toxic'].copy()\n",
    "\n",
    "# вывод итоговой информации о выборках\n",
    "print(f'''\n",
    "Обучающая выборка (features_train, target_train):\n",
    "    - признаки {features_train.shape};\n",
    "    - целевой признак ({target_train.shape[0]})\n",
    "        - баланс классов (процент отрицательных отзывов): {target_train.mean():0.2%}.\n",
    "Тестовая выборка (features_test, target_test):\n",
    "    - признаки {features_test.shape};\n",
    "    - целевой признак ({target_test.shape[0]})\n",
    "        - баланс классов (процент отрицательных отзывов): {target_test.mean():0.2%}.\n",
    "''')"
   ]
  },
  {
   "cell_type": "markdown",
   "metadata": {},
   "source": [
    "### 1.4. <a id='toc1_4_'></a>[Векторизация признаков](#toc0_)\n",
    "\n",
    "Осуществим векторизацию признаков для обучающей и тестовой выборки методом `TF-IDF`."
   ]
  },
  {
   "cell_type": "code",
   "execution_count": 10,
   "metadata": {
    "scrolled": true
   },
   "outputs": [
    {
     "name": "stdout",
     "output_type": "stream",
     "text": [
      "Матрица признаков обучающей выборки: (125407, 116806)\n",
      "Матрица признаков тестовой выборки: (31859, 116806)\n"
     ]
    }
   ],
   "source": [
    "vectorizer = TfidfVectorizer()\n",
    "vectorizer.fit(features_train)\n",
    "features_train = vectorizer.transform(features_train)\n",
    "print('Матрица признаков обучающей выборки:', features_train.shape)\n",
    "features_test = vectorizer.transform(features_test)\n",
    "print('Матрица признаков тестовой выборки:', features_test.shape)"
   ]
  },
  {
   "cell_type": "markdown",
   "metadata": {},
   "source": [
    "### 1.5. <a id='toc1_5_'></a>[Вывод по результатам раздела 1](#toc0_)\n",
    "\n",
    "Выполнена загрузка исходных данных (около 160 тыс. записей), в ходе обзора установлено, что:\n",
    "- пропусков нет;\n",
    "- дубликаты отсутствуют;\n",
    "- аномальных значений нет;\n",
    "- типы данных столбцов соответствуют содержанию;\n",
    "- имеется дисбаланс классов в сторону позитивных отзывов в соотношении примерно 10:1.\n",
    "\n",
    "Проведены следующие мероприятия по подготовке данных:\n",
    "- удаление лишних символов и стоп-слов;\n",
    "- лемматизация с использованием библиотеки `spacy`;\n",
    "- векторизация методом `TF-IDF` (`TfidfVectorizer`).\n",
    "\n",
    "Исходные данные разделены на обучающую и тестовую выборки для проведения обучения и получения предсказаний моделей."
   ]
  },
  {
   "cell_type": "markdown",
   "metadata": {},
   "source": [
    "## 2. <a id='toc2_'></a>[Обучение моделей](#toc0_)"
   ]
  },
  {
   "cell_type": "markdown",
   "metadata": {},
   "source": [
    "### 2.1. <a id='toc2_1_'></a>[Выбор моделей](#toc0_)\n",
    "\n",
    "Целевой признак категориальный (задача бинарной классификации), будем обучать и анализировать следующие модели:\n",
    "- Классификатор Байеса. За счет не сложных математических расчетов вероятностей позволяет сделать быстрые предсказания. Для классификации текстов из семейства классификаторов Байеса выберем классификатор с распределением Бернулли (`BernoulliNB`), который лучше работает с небольшими текстами, такими, как отзывы в наших исходных данных.\n",
    "- Логистическая регрессия (`LogisticRegression`). Классическая модель классификации, позволяющая в большинстве случаев получить хорошее качество предсказаний.\n",
    "- Метод опорных векторов. Эффективно работает на больших выборках и выборках с большим количеством параметров, при этом имеет высокую производительность, поэтому подходит для обработки текстов и для нашей относительно большой обучающей выборки в 125 тыс. записей. Из семейства моделей SVC выберем модель линейных опорных векторов (`LinearSVC`), как более быструю реализацию задачи классификации.\n",
    "- Модель стохастического градиентного спуска (`SGDClassifier`). В данной модели реализовано обучение линейных классификаторов, таких как опорные вектора, логистическая регрессия и другие с помощью более быстрого стохастического градиентного спуска. Это позволяет успешно применять модель к крупномасштабным задачам машинного обучения, возникающим при классификации текста и обработке естественного языка.\n",
    "- Градиентный бустинг (`LightGBM`). Это ансамбль из простых моделей типа решающее дерево в котором каждая последующая базовая модель учитывает ошибку предудущей, тем самым минимизируя ошибку ансамбля. Градиентный бустинг `LightGBM` в отличии от других моделей градиентного бустинга строит несимметричные деревья ориентируясь на бОльшую величину градиента и имеет более высокую скорость обучения, сохряняя при этом высокую точность.\n",
    "\n",
    "Подбор гиперпараметров осуществим с помощью `GridSearchCV` и кросс-валидации.\n",
    "\n",
    "В качестве метрики используем F1, значение которой в соответствии с заданием должно быть не менее 0,75.\n",
    "\n",
    "Для обучения моделей, подбора гиперпараметров и измерения F1 создадим пользовательскую функцию `model_fit`."
   ]
  },
  {
   "cell_type": "code",
   "execution_count": 11,
   "metadata": {},
   "outputs": [],
   "source": [
    "# функция обучения модели\n",
    "# на входе: созданная модель, выборки с признаками и целевым признаком,\n",
    "# гиперпараметры для подбора, количество итераций кроссвалидации\n",
    "# на выходе: обученная модель, её лучший F1 и параметры\n",
    "def model_fit(model_type, features, target, param_grid, cv):\n",
    "    # засекаем время\n",
    "    start_time = time.time()\n",
    "    # подбор гиперпараметров с использованием кросс-валидации\n",
    "    model = GridSearchCV(model_type, param_grid=param_grid, scoring='f1', cv=cv, n_jobs=-1, verbose=2)\n",
    "    model.fit(features, target)\n",
    "    f1 = model.best_score_\n",
    "    param = model.best_params_\n",
    "    # подсчет времени выполнения\n",
    "    time_fit = time.time() - start_time\n",
    "    # вывод результатов\n",
    "    print(f'''\n",
    "Лучшие гиперпараметры:{pd.DataFrame.from_dict(param, orient='index').rename(columns={0:''})}\n",
    "Значение F1: {f1:0.3f}\n",
    "Время обучения: {time_fit:0.1f} сек. ({time.strftime(\"%H:%M:%S\", time.gmtime(time_fit))})''')\n",
    "    return model, f1, param, time_fit"
   ]
  },
  {
   "cell_type": "markdown",
   "metadata": {},
   "source": [
    "### 2.2. <a id='toc2_2_'></a>[Классификатор Байеса с распределением Бернулли](#toc0_)\n",
    "\n",
    "Для данной модели будем осуществлять подбор значений гиперпараметра адаптивного сглаживания (`alpha`).\n",
    "\n",
    "Используем подготовленную пользовательскую функцию `model_fit`, обучим модель с применением кроссвалидации и измерим метрику F1."
   ]
  },
  {
   "cell_type": "code",
   "execution_count": 12,
   "metadata": {
    "scrolled": true
   },
   "outputs": [
    {
     "name": "stdout",
     "output_type": "stream",
     "text": [
      "Модель \"классификатор Байеса с распределением Бернулли\"\n",
      "Fitting 5 folds for each of 5 candidates, totalling 25 fits\n",
      "[CV] END ..........................................alpha=0.1; total time=   0.1s\n",
      "[CV] END ..........................................alpha=0.1; total time=   0.1s\n",
      "[CV] END ..........................................alpha=0.1; total time=   0.1s\n",
      "[CV] END ..........................................alpha=0.1; total time=   0.1s\n",
      "[CV] END ..........................................alpha=0.1; total time=   0.1s\n",
      "[CV] END ..........................................alpha=0.5; total time=   0.1s\n",
      "[CV] END ..........................................alpha=0.5; total time=   0.1s\n",
      "[CV] END ..........................................alpha=0.5; total time=   0.1s\n",
      "[CV] END ..........................................alpha=0.5; total time=   0.1s\n",
      "[CV] END ..........................................alpha=0.5; total time=   0.1s\n",
      "[CV] END ............................................alpha=1; total time=   0.1s\n",
      "[CV] END ............................................alpha=1; total time=   0.1s\n",
      "[CV] END ............................................alpha=1; total time=   0.1s\n",
      "[CV] END ............................................alpha=1; total time=   0.1s\n",
      "[CV] END ............................................alpha=1; total time=   0.1s\n",
      "[CV] END ............................................alpha=2; total time=   0.1s\n",
      "[CV] END ............................................alpha=2; total time=   0.1s\n",
      "[CV] END ............................................alpha=2; total time=   0.1s\n",
      "[CV] END ............................................alpha=2; total time=   0.1s\n",
      "[CV] END ............................................alpha=2; total time=   0.1s\n",
      "[CV] END ............................................alpha=4; total time=   0.1s\n",
      "[CV] END ............................................alpha=4; total time=   0.1s\n",
      "[CV] END ............................................alpha=4; total time=   0.1s\n",
      "[CV] END ............................................alpha=4; total time=   0.1s\n",
      "[CV] END ............................................alpha=4; total time=   0.1s\n",
      "\n",
      "Лучшие гиперпараметры:          \n",
      "alpha  0.5\n",
      "Значение F1: 0.655\n",
      "Время обучения: 1.8 сек. (00:00:01)\n"
     ]
    }
   ],
   "source": [
    "print('Модель \"классификатор Байеса с распределением Бернулли\"')\n",
    "# гиперпараметры и их диапазоны для подбора\n",
    "param_grid = [{\n",
    "    'alpha': [.1, .5, 1, 2, 4],\n",
    "    }]\n",
    "\n",
    "bnb_mod, bnb_f1, bnb_param, bnb_time_fit = model_fit(BernoulliNB(), features_train, target_train, param_grid, 5)"
   ]
  },
  {
   "cell_type": "markdown",
   "metadata": {},
   "source": [
    "Обучение модели прошло очень быстро, но качество низкое, значение метрики F1 ниже требуемого порога 0,75."
   ]
  },
  {
   "cell_type": "markdown",
   "metadata": {},
   "source": [
    "### 2.3. <a id='toc2_3_'></a>[Логистическая регрессия](#toc0_)\n",
    "\n",
    "При обучении модели логистической регрессии осуществим подбор двух гиперпараметров: тип алгоритма `solver` и максимальное количество итераций `max_iter`."
   ]
  },
  {
   "cell_type": "code",
   "execution_count": 13,
   "metadata": {
    "scrolled": true
   },
   "outputs": [
    {
     "name": "stdout",
     "output_type": "stream",
     "text": [
      "Модель \"логистическая регрессия\"\n",
      "Fitting 5 folds for each of 6 candidates, totalling 30 fits\n",
      "[CV] END .....................max_iter=100, solver=liblinear; total time=  13.9s\n",
      "[CV] END .....................max_iter=100, solver=liblinear; total time=  12.7s\n",
      "[CV] END .....................max_iter=100, solver=liblinear; total time=  12.3s\n",
      "[CV] END .....................max_iter=100, solver=liblinear; total time=  14.0s\n",
      "[CV] END .....................max_iter=100, solver=liblinear; total time=  13.9s\n",
      "[CV] END ...........................max_iter=100, solver=sag; total time=   3.3s\n",
      "[CV] END ...........................max_iter=100, solver=sag; total time=   3.4s\n",
      "[CV] END ...........................max_iter=100, solver=sag; total time=   2.9s\n",
      "[CV] END ...........................max_iter=100, solver=sag; total time=   2.9s\n",
      "[CV] END ...........................max_iter=100, solver=sag; total time=   3.1s\n",
      "[CV] END .....................max_iter=200, solver=liblinear; total time=  14.3s\n",
      "[CV] END .....................max_iter=200, solver=liblinear; total time=  12.5s\n",
      "[CV] END .....................max_iter=200, solver=liblinear; total time=  11.4s\n",
      "[CV] END .....................max_iter=200, solver=liblinear; total time=  14.1s\n",
      "[CV] END .....................max_iter=200, solver=liblinear; total time=  13.9s\n",
      "[CV] END ...........................max_iter=200, solver=sag; total time=   3.0s\n",
      "[CV] END ...........................max_iter=200, solver=sag; total time=   3.4s\n",
      "[CV] END ...........................max_iter=200, solver=sag; total time=   3.3s\n",
      "[CV] END ...........................max_iter=200, solver=sag; total time=   3.2s\n",
      "[CV] END ...........................max_iter=200, solver=sag; total time=   3.2s\n",
      "[CV] END .....................max_iter=400, solver=liblinear; total time=  14.2s\n",
      "[CV] END .....................max_iter=400, solver=liblinear; total time=  12.1s\n",
      "[CV] END .....................max_iter=400, solver=liblinear; total time=  11.9s\n",
      "[CV] END .....................max_iter=400, solver=liblinear; total time=  13.7s\n",
      "[CV] END .....................max_iter=400, solver=liblinear; total time=  14.0s\n",
      "[CV] END ...........................max_iter=400, solver=sag; total time=   3.0s\n",
      "[CV] END ...........................max_iter=400, solver=sag; total time=   3.2s\n",
      "[CV] END ...........................max_iter=400, solver=sag; total time=   3.1s\n",
      "[CV] END ...........................max_iter=400, solver=sag; total time=   2.8s\n",
      "[CV] END ...........................max_iter=400, solver=sag; total time=   3.1s\n",
      "\n",
      "Лучшие гиперпараметры:             \n",
      "max_iter  100\n",
      "solver    sag\n",
      "Значение F1: 0.746\n",
      "Время обучения: 250.2 сек. (00:04:10)\n"
     ]
    }
   ],
   "source": [
    "print('Модель \"логистическая регрессия\"')\n",
    "# гиперпараметры для подбора\n",
    "param_grid = [{\n",
    "    'solver': ['liblinear', 'sag'],\n",
    "    'max_iter': [100, 200, 400]\n",
    "    }]\n",
    "\n",
    "lr_mod, lr_f1, lr_param, lr_time_fit = model_fit(LogisticRegression(random_state=RST, class_weight='balanced'),\n",
    "                                                 features_train, target_train, param_grid, 5)"
   ]
  },
  {
   "cell_type": "markdown",
   "metadata": {},
   "source": [
    "Скорость обучения приемлемая. Качество предсказаний практически достигло требуемого значения F1.\n",
    "\n",
    "Посмотрим влияние подбираемых гиперпараметров на качество предсказания модели."
   ]
  },
  {
   "cell_type": "code",
   "execution_count": 14,
   "metadata": {},
   "outputs": [
    {
     "data": {
      "image/png": "[encoded data removed]",
      "text/plain": [
       "<Figure size 1152x360 with 2 Axes>"
      ]
     },
     "metadata": {
      "needs_background": "light"
     },
     "output_type": "display_data"
    }
   ],
   "source": [
    "# построение графиков влияния подбираемых гиперпараметров на модель\n",
    "res_lr = pd.DataFrame(lr_mod.cv_results_).sort_values(by='rank_test_score')\n",
    "fig, axes = plt.subplots(1, 2, figsize=(16, 5))\n",
    "sns.set_style(\"whitegrid\")\n",
    "fig.suptitle('Влияние гиперпараметров на точность предсказаний модели', fontweight='bold')\n",
    "sns.barplot(x='param_solver', y='mean_test_score', data=res_lr, ax=axes[0], color='lightgrey')\n",
    "axes[0].set (xlabel='решатель', ylabel='F1')\n",
    "axes[0].set_title(label = 'solver', fontweight='bold')\n",
    "axes[0].set_ylim([.5, .8])\n",
    "sns.barplot(x='param_max_iter', y='mean_test_score', data=res_lr, ax=axes[1], color='lightblue')\n",
    "axes[1].set (xlabel='максимальное количество итераций', ylabel='F1')\n",
    "axes[1].set_title(label = 'max_iter', fontweight='bold')\n",
    "axes[1].set_ylim([.5, .8])\n",
    "fig.tight_layout()\n",
    "plt.show()"
   ]
  },
  {
   "cell_type": "markdown",
   "metadata": {},
   "source": [
    "Видим, что изменение гиперпараметров не оказывает существенного влияния на значение метрики F1."
   ]
  },
  {
   "cell_type": "markdown",
   "metadata": {},
   "source": [
    "### 2.4. <a id='toc2_4_'></a>[Метод опорных векторов](#toc0_)\n",
    "\n",
    "Осуществим подбор гиперпараметров, оказывающих основное влияние на результат модели: параметр регуляризации `C`, максимальное количество итераций `max_iter`, допуск критерия остановки `tol`."
   ]
  },
  {
   "cell_type": "code",
   "execution_count": 15,
   "metadata": {
    "scrolled": true
   },
   "outputs": [
    {
     "name": "stdout",
     "output_type": "stream",
     "text": [
      "Модель \"метод опорных векторов\"\n",
      "Fitting 5 folds for each of 100 candidates, totalling 500 fits\n",
      "[CV] END ....................C=0.5, max_iter=500, tol=0.0001; total time=   0.6s\n",
      "[CV] END ....................C=0.5, max_iter=500, tol=0.0001; total time=   0.5s\n",
      "[CV] END ....................C=0.5, max_iter=500, tol=0.0001; total time=   0.5s\n",
      "[CV] END ....................C=0.5, max_iter=500, tol=0.0001; total time=   0.5s\n",
      "[CV] END ....................C=0.5, max_iter=500, tol=0.0001; total time=   0.5s\n",
      "[CV] END .........................C=0.5, max_iter=500, tol=1; total time=   0.3s\n",
      "[CV] END .........................C=0.5, max_iter=500, tol=1; total time=   0.3s\n",
      "[CV] END .........................C=0.5, max_iter=500, tol=1; total time=   0.3s\n",
      "[CV] END .........................C=0.5, max_iter=500, tol=1; total time=   0.3s\n",
      "[CV] END .........................C=0.5, max_iter=500, tol=1; total time=   0.3s\n",
      "[CV] END .........................C=0.5, max_iter=500, tol=2; total time=   0.2s\n",
      "[CV] END .........................C=0.5, max_iter=500, tol=2; total time=   0.2s\n",
      "[CV] END .........................C=0.5, max_iter=500, tol=2; total time=   0.2s\n",
      "[CV] END .........................C=0.5, max_iter=500, tol=2; total time=   0.2s\n",
      "[CV] END .........................C=0.5, max_iter=500, tol=2; total time=   0.2s\n",
      "[CV] END .........................C=0.5, max_iter=500, tol=4; total time=   0.2s\n",
      "[CV] END .........................C=0.5, max_iter=500, tol=4; total time=   0.2s\n",
      "[CV] END .........................C=0.5, max_iter=500, tol=4; total time=   0.2s\n",
      "[CV] END .........................C=0.5, max_iter=500, tol=4; total time=   0.2s\n",
      "[CV] END .........................C=0.5, max_iter=500, tol=4; total time=   0.2s\n",
      "[CV] END .........................C=0.5, max_iter=500, tol=8; total time=   0.1s\n",
      "[CV] END .........................C=0.5, max_iter=500, tol=8; total time=   0.1s\n",
      "[CV] END .........................C=0.5, max_iter=500, tol=8; total time=   0.1s\n",
      "[CV] END .........................C=0.5, max_iter=500, tol=8; total time=   0.1s\n",
      "[CV] END .........................C=0.5, max_iter=500, tol=8; total time=   0.1s\n",
      "[CV] END ...................C=0.5, max_iter=1000, tol=0.0001; total time=   0.5s\n",
      "[CV] END ...................C=0.5, max_iter=1000, tol=0.0001; total time=   0.5s\n",
      "[CV] END ...................C=0.5, max_iter=1000, tol=0.0001; total time=   0.5s\n",
      "[CV] END ...................C=0.5, max_iter=1000, tol=0.0001; total time=   0.6s\n",
      "[CV] END ...................C=0.5, max_iter=1000, tol=0.0001; total time=   0.5s\n",
      "[CV] END ........................C=0.5, max_iter=1000, tol=1; total time=   0.3s\n",
      "[CV] END ........................C=0.5, max_iter=1000, tol=1; total time=   0.3s\n",
      "[CV] END ........................C=0.5, max_iter=1000, tol=1; total time=   0.3s\n",
      "[CV] END ........................C=0.5, max_iter=1000, tol=1; total time=   0.3s\n",
      "[CV] END ........................C=0.5, max_iter=1000, tol=1; total time=   0.3s\n",
      "[CV] END ........................C=0.5, max_iter=1000, tol=2; total time=   0.2s\n",
      "[CV] END ........................C=0.5, max_iter=1000, tol=2; total time=   0.2s\n",
      "[CV] END ........................C=0.5, max_iter=1000, tol=2; total time=   0.2s\n",
      "[CV] END ........................C=0.5, max_iter=1000, tol=2; total time=   0.2s\n",
      "[CV] END ........................C=0.5, max_iter=1000, tol=2; total time=   0.3s\n",
      "[CV] END ........................C=0.5, max_iter=1000, tol=4; total time=   0.2s\n",
      "[CV] END ........................C=0.5, max_iter=1000, tol=4; total time=   0.2s\n",
      "[CV] END ........................C=0.5, max_iter=1000, tol=4; total time=   0.2s\n",
      "[CV] END ........................C=0.5, max_iter=1000, tol=4; total time=   0.2s\n",
      "[CV] END ........................C=0.5, max_iter=1000, tol=4; total time=   0.2s\n",
      "[CV] END ........................C=0.5, max_iter=1000, tol=8; total time=   0.1s\n",
      "[CV] END ........................C=0.5, max_iter=1000, tol=8; total time=   0.1s\n",
      "[CV] END ........................C=0.5, max_iter=1000, tol=8; total time=   0.1s\n",
      "[CV] END ........................C=0.5, max_iter=1000, tol=8; total time=   0.1s\n",
      "[CV] END ........................C=0.5, max_iter=1000, tol=8; total time=   0.1s\n",
      "[CV] END ...................C=0.5, max_iter=2000, tol=0.0001; total time=   0.6s\n",
      "[CV] END ...................C=0.5, max_iter=2000, tol=0.0001; total time=   0.6s\n",
      "[CV] END ...................C=0.5, max_iter=2000, tol=0.0001; total time=   0.7s\n",
      "[CV] END ...................C=0.5, max_iter=2000, tol=0.0001; total time=   0.6s\n",
      "[CV] END ...................C=0.5, max_iter=2000, tol=0.0001; total time=   0.5s\n",
      "[CV] END ........................C=0.5, max_iter=2000, tol=1; total time=   0.3s\n",
      "[CV] END ........................C=0.5, max_iter=2000, tol=1; total time=   0.3s\n",
      "[CV] END ........................C=0.5, max_iter=2000, tol=1; total time=   0.3s\n",
      "[CV] END ........................C=0.5, max_iter=2000, tol=1; total time=   0.3s\n",
      "[CV] END ........................C=0.5, max_iter=2000, tol=1; total time=   0.3s\n",
      "[CV] END ........................C=0.5, max_iter=2000, tol=2; total time=   0.2s\n",
      "[CV] END ........................C=0.5, max_iter=2000, tol=2; total time=   0.2s\n",
      "[CV] END ........................C=0.5, max_iter=2000, tol=2; total time=   0.3s\n",
      "[CV] END ........................C=0.5, max_iter=2000, tol=2; total time=   0.2s\n",
      "[CV] END ........................C=0.5, max_iter=2000, tol=2; total time=   0.2s\n",
      "[CV] END ........................C=0.5, max_iter=2000, tol=4; total time=   0.2s\n",
      "[CV] END ........................C=0.5, max_iter=2000, tol=4; total time=   0.2s\n",
      "[CV] END ........................C=0.5, max_iter=2000, tol=4; total time=   0.2s\n",
      "[CV] END ........................C=0.5, max_iter=2000, tol=4; total time=   0.2s\n",
      "[CV] END ........................C=0.5, max_iter=2000, tol=4; total time=   0.2s\n",
      "[CV] END ........................C=0.5, max_iter=2000, tol=8; total time=   0.1s\n",
      "[CV] END ........................C=0.5, max_iter=2000, tol=8; total time=   0.1s\n",
      "[CV] END ........................C=0.5, max_iter=2000, tol=8; total time=   0.1s\n",
      "[CV] END ........................C=0.5, max_iter=2000, tol=8; total time=   0.1s\n",
      "[CV] END ........................C=0.5, max_iter=2000, tol=8; total time=   0.1s\n",
      "[CV] END ...................C=0.5, max_iter=4000, tol=0.0001; total time=   0.6s\n",
      "[CV] END ...................C=0.5, max_iter=4000, tol=0.0001; total time=   0.6s\n",
      "[CV] END ...................C=0.5, max_iter=4000, tol=0.0001; total time=   0.5s\n",
      "[CV] END ...................C=0.5, max_iter=4000, tol=0.0001; total time=   0.5s\n",
      "[CV] END ...................C=0.5, max_iter=4000, tol=0.0001; total time=   0.5s\n",
      "[CV] END ........................C=0.5, max_iter=4000, tol=1; total time=   0.3s\n",
      "[CV] END ........................C=0.5, max_iter=4000, tol=1; total time=   0.3s\n",
      "[CV] END ........................C=0.5, max_iter=4000, tol=1; total time=   0.3s\n",
      "[CV] END ........................C=0.5, max_iter=4000, tol=1; total time=   0.3s\n",
      "[CV] END ........................C=0.5, max_iter=4000, tol=1; total time=   0.3s\n",
      "[CV] END ........................C=0.5, max_iter=4000, tol=2; total time=   0.2s\n",
      "[CV] END ........................C=0.5, max_iter=4000, tol=2; total time=   0.2s\n",
      "[CV] END ........................C=0.5, max_iter=4000, tol=2; total time=   0.2s\n",
      "[CV] END ........................C=0.5, max_iter=4000, tol=2; total time=   0.3s\n",
      "[CV] END ........................C=0.5, max_iter=4000, tol=2; total time=   0.2s\n",
      "[CV] END ........................C=0.5, max_iter=4000, tol=4; total time=   0.2s\n",
      "[CV] END ........................C=0.5, max_iter=4000, tol=4; total time=   0.2s\n",
      "[CV] END ........................C=0.5, max_iter=4000, tol=4; total time=   0.2s\n",
      "[CV] END ........................C=0.5, max_iter=4000, tol=4; total time=   0.2s\n",
      "[CV] END ........................C=0.5, max_iter=4000, tol=4; total time=   0.2s\n",
      "[CV] END ........................C=0.5, max_iter=4000, tol=8; total time=   0.1s\n",
      "[CV] END ........................C=0.5, max_iter=4000, tol=8; total time=   0.1s\n",
      "[CV] END ........................C=0.5, max_iter=4000, tol=8; total time=   0.1s\n",
      "[CV] END ........................C=0.5, max_iter=4000, tol=8; total time=   0.1s\n",
      "[CV] END ........................C=0.5, max_iter=4000, tol=8; total time=   0.1s\n",
      "[CV] END ......................C=1, max_iter=500, tol=0.0001; total time=   0.9s\n",
      "[CV] END ......................C=1, max_iter=500, tol=0.0001; total time=   0.8s\n",
      "[CV] END ......................C=1, max_iter=500, tol=0.0001; total time=   0.7s\n",
      "[CV] END ......................C=1, max_iter=500, tol=0.0001; total time=   0.7s\n",
      "[CV] END ......................C=1, max_iter=500, tol=0.0001; total time=   0.7s\n",
      "[CV] END ...........................C=1, max_iter=500, tol=1; total time=   0.3s\n",
      "[CV] END ...........................C=1, max_iter=500, tol=1; total time=   0.4s\n",
      "[CV] END ...........................C=1, max_iter=500, tol=1; total time=   0.4s\n",
      "[CV] END ...........................C=1, max_iter=500, tol=1; total time=   0.4s\n",
      "[CV] END ...........................C=1, max_iter=500, tol=1; total time=   0.4s\n",
      "[CV] END ...........................C=1, max_iter=500, tol=2; total time=   0.3s\n",
      "[CV] END ...........................C=1, max_iter=500, tol=2; total time=   0.3s\n",
      "[CV] END ...........................C=1, max_iter=500, tol=2; total time=   0.3s\n",
      "[CV] END ...........................C=1, max_iter=500, tol=2; total time=   0.3s\n",
      "[CV] END ...........................C=1, max_iter=500, tol=2; total time=   0.3s\n",
      "[CV] END ...........................C=1, max_iter=500, tol=4; total time=   0.2s\n",
      "[CV] END ...........................C=1, max_iter=500, tol=4; total time=   0.2s\n",
      "[CV] END ...........................C=1, max_iter=500, tol=4; total time=   0.2s\n",
      "[CV] END ...........................C=1, max_iter=500, tol=4; total time=   0.2s\n",
      "[CV] END ...........................C=1, max_iter=500, tol=4; total time=   0.2s\n",
      "[CV] END ...........................C=1, max_iter=500, tol=8; total time=   0.1s\n",
      "[CV] END ...........................C=1, max_iter=500, tol=8; total time=   0.1s\n",
      "[CV] END ...........................C=1, max_iter=500, tol=8; total time=   0.1s\n",
      "[CV] END ...........................C=1, max_iter=500, tol=8; total time=   0.1s\n",
      "[CV] END ...........................C=1, max_iter=500, tol=8; total time=   0.1s\n",
      "[CV] END .....................C=1, max_iter=1000, tol=0.0001; total time=   0.7s\n",
      "[CV] END .....................C=1, max_iter=1000, tol=0.0001; total time=   0.7s\n",
      "[CV] END .....................C=1, max_iter=1000, tol=0.0001; total time=   0.7s\n",
      "[CV] END .....................C=1, max_iter=1000, tol=0.0001; total time=   0.7s\n",
      "[CV] END .....................C=1, max_iter=1000, tol=0.0001; total time=   0.7s\n",
      "[CV] END ..........................C=1, max_iter=1000, tol=1; total time=   0.3s\n",
      "[CV] END ..........................C=1, max_iter=1000, tol=1; total time=   0.4s\n",
      "[CV] END ..........................C=1, max_iter=1000, tol=1; total time=   0.4s\n",
      "[CV] END ..........................C=1, max_iter=1000, tol=1; total time=   0.3s\n",
      "[CV] END ..........................C=1, max_iter=1000, tol=1; total time=   0.4s\n",
      "[CV] END ..........................C=1, max_iter=1000, tol=2; total time=   0.3s\n",
      "[CV] END ..........................C=1, max_iter=1000, tol=2; total time=   0.3s\n",
      "[CV] END ..........................C=1, max_iter=1000, tol=2; total time=   0.3s\n",
      "[CV] END ..........................C=1, max_iter=1000, tol=2; total time=   0.3s\n",
      "[CV] END ..........................C=1, max_iter=1000, tol=2; total time=   0.3s\n",
      "[CV] END ..........................C=1, max_iter=1000, tol=4; total time=   0.2s\n",
      "[CV] END ..........................C=1, max_iter=1000, tol=4; total time=   0.2s\n",
      "[CV] END ..........................C=1, max_iter=1000, tol=4; total time=   0.2s\n",
      "[CV] END ..........................C=1, max_iter=1000, tol=4; total time=   0.2s\n",
      "[CV] END ..........................C=1, max_iter=1000, tol=4; total time=   0.2s\n",
      "[CV] END ..........................C=1, max_iter=1000, tol=8; total time=   0.1s\n",
      "[CV] END ..........................C=1, max_iter=1000, tol=8; total time=   0.1s\n",
      "[CV] END ..........................C=1, max_iter=1000, tol=8; total time=   0.1s\n",
      "[CV] END ..........................C=1, max_iter=1000, tol=8; total time=   0.1s\n",
      "[CV] END ..........................C=1, max_iter=1000, tol=8; total time=   0.1s\n",
      "[CV] END .....................C=1, max_iter=2000, tol=0.0001; total time=   0.7s\n",
      "[CV] END .....................C=1, max_iter=2000, tol=0.0001; total time=   0.7s\n",
      "[CV] END .....................C=1, max_iter=2000, tol=0.0001; total time=   0.7s\n",
      "[CV] END .....................C=1, max_iter=2000, tol=0.0001; total time=   0.7s\n",
      "[CV] END .....................C=1, max_iter=2000, tol=0.0001; total time=   0.7s\n",
      "[CV] END ..........................C=1, max_iter=2000, tol=1; total time=   0.4s\n",
      "[CV] END ..........................C=1, max_iter=2000, tol=1; total time=   0.4s\n",
      "[CV] END ..........................C=1, max_iter=2000, tol=1; total time=   0.3s\n",
      "[CV] END ..........................C=1, max_iter=2000, tol=1; total time=   0.3s\n",
      "[CV] END ..........................C=1, max_iter=2000, tol=1; total time=   0.3s\n",
      "[CV] END ..........................C=1, max_iter=2000, tol=2; total time=   0.2s\n",
      "[CV] END ..........................C=1, max_iter=2000, tol=2; total time=   0.2s\n",
      "[CV] END ..........................C=1, max_iter=2000, tol=2; total time=   0.3s\n",
      "[CV] END ..........................C=1, max_iter=2000, tol=2; total time=   0.3s\n",
      "[CV] END ..........................C=1, max_iter=2000, tol=2; total time=   0.3s\n",
      "[CV] END ..........................C=1, max_iter=2000, tol=4; total time=   0.2s\n",
      "[CV] END ..........................C=1, max_iter=2000, tol=4; total time=   0.2s\n",
      "[CV] END ..........................C=1, max_iter=2000, tol=4; total time=   0.2s\n",
      "[CV] END ..........................C=1, max_iter=2000, tol=4; total time=   0.2s\n",
      "[CV] END ..........................C=1, max_iter=2000, tol=4; total time=   0.2s\n",
      "[CV] END ..........................C=1, max_iter=2000, tol=8; total time=   0.1s\n",
      "[CV] END ..........................C=1, max_iter=2000, tol=8; total time=   0.1s\n",
      "[CV] END ..........................C=1, max_iter=2000, tol=8; total time=   0.1s\n",
      "[CV] END ..........................C=1, max_iter=2000, tol=8; total time=   0.1s\n",
      "[CV] END ..........................C=1, max_iter=2000, tol=8; total time=   0.1s\n",
      "[CV] END .....................C=1, max_iter=4000, tol=0.0001; total time=   0.7s\n",
      "[CV] END .....................C=1, max_iter=4000, tol=0.0001; total time=   0.7s\n",
      "[CV] END .....................C=1, max_iter=4000, tol=0.0001; total time=   0.8s\n",
      "[CV] END .....................C=1, max_iter=4000, tol=0.0001; total time=   0.7s\n",
      "[CV] END .....................C=1, max_iter=4000, tol=0.0001; total time=   0.7s\n",
      "[CV] END ..........................C=1, max_iter=4000, tol=1; total time=   0.3s\n",
      "[CV] END ..........................C=1, max_iter=4000, tol=1; total time=   0.4s\n",
      "[CV] END ..........................C=1, max_iter=4000, tol=1; total time=   0.4s\n",
      "[CV] END ..........................C=1, max_iter=4000, tol=1; total time=   0.4s\n",
      "[CV] END ..........................C=1, max_iter=4000, tol=1; total time=   0.4s\n",
      "[CV] END ..........................C=1, max_iter=4000, tol=2; total time=   0.3s\n",
      "[CV] END ..........................C=1, max_iter=4000, tol=2; total time=   0.3s\n",
      "[CV] END ..........................C=1, max_iter=4000, tol=2; total time=   0.3s\n",
      "[CV] END ..........................C=1, max_iter=4000, tol=2; total time=   0.3s\n",
      "[CV] END ..........................C=1, max_iter=4000, tol=2; total time=   0.3s\n",
      "[CV] END ..........................C=1, max_iter=4000, tol=4; total time=   0.2s\n",
      "[CV] END ..........................C=1, max_iter=4000, tol=4; total time=   0.2s\n",
      "[CV] END ..........................C=1, max_iter=4000, tol=4; total time=   0.2s\n",
      "[CV] END ..........................C=1, max_iter=4000, tol=4; total time=   0.2s\n",
      "[CV] END ..........................C=1, max_iter=4000, tol=4; total time=   0.2s\n",
      "[CV] END ..........................C=1, max_iter=4000, tol=8; total time=   0.1s\n",
      "[CV] END ..........................C=1, max_iter=4000, tol=8; total time=   0.1s\n",
      "[CV] END ..........................C=1, max_iter=4000, tol=8; total time=   0.1s\n",
      "[CV] END ..........................C=1, max_iter=4000, tol=8; total time=   0.1s\n",
      "[CV] END ..........................C=1, max_iter=4000, tol=8; total time=   0.1s\n",
      "[CV] END ......................C=2, max_iter=500, tol=0.0001; total time=   1.0s\n",
      "[CV] END ......................C=2, max_iter=500, tol=0.0001; total time=   1.0s\n",
      "[CV] END ......................C=2, max_iter=500, tol=0.0001; total time=   1.0s\n",
      "[CV] END ......................C=2, max_iter=500, tol=0.0001; total time=   1.0s\n",
      "[CV] END ......................C=2, max_iter=500, tol=0.0001; total time=   1.0s\n",
      "[CV] END ...........................C=2, max_iter=500, tol=1; total time=   0.5s\n",
      "[CV] END ...........................C=2, max_iter=500, tol=1; total time=   0.5s\n",
      "[CV] END ...........................C=2, max_iter=500, tol=1; total time=   0.4s\n",
      "[CV] END ...........................C=2, max_iter=500, tol=1; total time=   0.5s\n",
      "[CV] END ...........................C=2, max_iter=500, tol=1; total time=   0.5s\n",
      "[CV] END ...........................C=2, max_iter=500, tol=2; total time=   0.4s\n",
      "[CV] END ...........................C=2, max_iter=500, tol=2; total time=   0.4s\n",
      "[CV] END ...........................C=2, max_iter=500, tol=2; total time=   0.3s\n",
      "[CV] END ...........................C=2, max_iter=500, tol=2; total time=   0.4s\n",
      "[CV] END ...........................C=2, max_iter=500, tol=2; total time=   0.4s\n",
      "[CV] END ...........................C=2, max_iter=500, tol=4; total time=   0.2s\n",
      "[CV] END ...........................C=2, max_iter=500, tol=4; total time=   0.2s\n",
      "[CV] END ...........................C=2, max_iter=500, tol=4; total time=   0.2s\n",
      "[CV] END ...........................C=2, max_iter=500, tol=4; total time=   0.2s\n",
      "[CV] END ...........................C=2, max_iter=500, tol=4; total time=   0.3s\n",
      "[CV] END ...........................C=2, max_iter=500, tol=8; total time=   0.1s\n",
      "[CV] END ...........................C=2, max_iter=500, tol=8; total time=   0.1s\n",
      "[CV] END ...........................C=2, max_iter=500, tol=8; total time=   0.1s\n",
      "[CV] END ...........................C=2, max_iter=500, tol=8; total time=   0.1s\n",
      "[CV] END ...........................C=2, max_iter=500, tol=8; total time=   0.1s\n",
      "[CV] END .....................C=2, max_iter=1000, tol=0.0001; total time=   1.3s\n",
      "[CV] END .....................C=2, max_iter=1000, tol=0.0001; total time=   1.2s\n",
      "[CV] END .....................C=2, max_iter=1000, tol=0.0001; total time=   1.4s\n",
      "[CV] END .....................C=2, max_iter=1000, tol=0.0001; total time=   1.1s\n",
      "[CV] END .....................C=2, max_iter=1000, tol=0.0001; total time=   1.1s\n",
      "[CV] END ..........................C=2, max_iter=1000, tol=1; total time=   0.5s\n",
      "[CV] END ..........................C=2, max_iter=1000, tol=1; total time=   0.5s\n",
      "[CV] END ..........................C=2, max_iter=1000, tol=1; total time=   0.5s\n",
      "[CV] END ..........................C=2, max_iter=1000, tol=1; total time=   0.5s\n",
      "[CV] END ..........................C=2, max_iter=1000, tol=1; total time=   0.5s\n",
      "[CV] END ..........................C=2, max_iter=1000, tol=2; total time=   0.4s\n",
      "[CV] END ..........................C=2, max_iter=1000, tol=2; total time=   0.4s\n",
      "[CV] END ..........................C=2, max_iter=1000, tol=2; total time=   0.3s\n",
      "[CV] END ..........................C=2, max_iter=1000, tol=2; total time=   0.4s\n",
      "[CV] END ..........................C=2, max_iter=1000, tol=2; total time=   0.4s\n",
      "[CV] END ..........................C=2, max_iter=1000, tol=4; total time=   0.2s\n",
      "[CV] END ..........................C=2, max_iter=1000, tol=4; total time=   0.3s\n",
      "[CV] END ..........................C=2, max_iter=1000, tol=4; total time=   0.3s\n",
      "[CV] END ..........................C=2, max_iter=1000, tol=4; total time=   0.2s\n",
      "[CV] END ..........................C=2, max_iter=1000, tol=4; total time=   0.3s\n",
      "[CV] END ..........................C=2, max_iter=1000, tol=8; total time=   0.1s\n",
      "[CV] END ..........................C=2, max_iter=1000, tol=8; total time=   0.1s\n",
      "[CV] END ..........................C=2, max_iter=1000, tol=8; total time=   0.1s\n",
      "[CV] END ..........................C=2, max_iter=1000, tol=8; total time=   0.1s\n",
      "[CV] END ..........................C=2, max_iter=1000, tol=8; total time=   0.1s\n",
      "[CV] END .....................C=2, max_iter=2000, tol=0.0001; total time=   1.1s\n",
      "[CV] END .....................C=2, max_iter=2000, tol=0.0001; total time=   1.1s\n",
      "[CV] END .....................C=2, max_iter=2000, tol=0.0001; total time=   1.2s\n",
      "[CV] END .....................C=2, max_iter=2000, tol=0.0001; total time=   1.3s\n",
      "[CV] END .....................C=2, max_iter=2000, tol=0.0001; total time=   1.1s\n",
      "[CV] END ..........................C=2, max_iter=2000, tol=1; total time=   0.5s\n",
      "[CV] END ..........................C=2, max_iter=2000, tol=1; total time=   0.5s\n",
      "[CV] END ..........................C=2, max_iter=2000, tol=1; total time=   0.4s\n",
      "[CV] END ..........................C=2, max_iter=2000, tol=1; total time=   0.5s\n",
      "[CV] END ..........................C=2, max_iter=2000, tol=1; total time=   0.5s\n",
      "[CV] END ..........................C=2, max_iter=2000, tol=2; total time=   0.4s\n",
      "[CV] END ..........................C=2, max_iter=2000, tol=2; total time=   0.4s\n",
      "[CV] END ..........................C=2, max_iter=2000, tol=2; total time=   0.3s\n",
      "[CV] END ..........................C=2, max_iter=2000, tol=2; total time=   0.4s\n",
      "[CV] END ..........................C=2, max_iter=2000, tol=2; total time=   0.4s\n",
      "[CV] END ..........................C=2, max_iter=2000, tol=4; total time=   0.2s\n",
      "[CV] END ..........................C=2, max_iter=2000, tol=4; total time=   0.2s\n",
      "[CV] END ..........................C=2, max_iter=2000, tol=4; total time=   0.2s\n",
      "[CV] END ..........................C=2, max_iter=2000, tol=4; total time=   0.2s\n",
      "[CV] END ..........................C=2, max_iter=2000, tol=4; total time=   0.3s\n",
      "[CV] END ..........................C=2, max_iter=2000, tol=8; total time=   0.1s\n",
      "[CV] END ..........................C=2, max_iter=2000, tol=8; total time=   0.1s\n",
      "[CV] END ..........................C=2, max_iter=2000, tol=8; total time=   0.1s\n",
      "[CV] END ..........................C=2, max_iter=2000, tol=8; total time=   0.1s\n",
      "[CV] END ..........................C=2, max_iter=2000, tol=8; total time=   0.1s\n",
      "[CV] END .....................C=2, max_iter=4000, tol=0.0001; total time=   1.0s\n",
      "[CV] END .....................C=2, max_iter=4000, tol=0.0001; total time=   1.0s\n",
      "[CV] END .....................C=2, max_iter=4000, tol=0.0001; total time=   1.0s\n",
      "[CV] END .....................C=2, max_iter=4000, tol=0.0001; total time=   1.0s\n",
      "[CV] END .....................C=2, max_iter=4000, tol=0.0001; total time=   1.0s\n",
      "[CV] END ..........................C=2, max_iter=4000, tol=1; total time=   0.4s\n",
      "[CV] END ..........................C=2, max_iter=4000, tol=1; total time=   0.5s\n",
      "[CV] END ..........................C=2, max_iter=4000, tol=1; total time=   0.4s\n",
      "[CV] END ..........................C=2, max_iter=4000, tol=1; total time=   0.5s\n",
      "[CV] END ..........................C=2, max_iter=4000, tol=1; total time=   0.5s\n",
      "[CV] END ..........................C=2, max_iter=4000, tol=2; total time=   0.4s\n",
      "[CV] END ..........................C=2, max_iter=4000, tol=2; total time=   0.4s\n",
      "[CV] END ..........................C=2, max_iter=4000, tol=2; total time=   0.3s\n",
      "[CV] END ..........................C=2, max_iter=4000, tol=2; total time=   0.4s\n",
      "[CV] END ..........................C=2, max_iter=4000, tol=2; total time=   0.4s\n",
      "[CV] END ..........................C=2, max_iter=4000, tol=4; total time=   0.2s\n",
      "[CV] END ..........................C=2, max_iter=4000, tol=4; total time=   0.2s\n",
      "[CV] END ..........................C=2, max_iter=4000, tol=4; total time=   0.2s\n",
      "[CV] END ..........................C=2, max_iter=4000, tol=4; total time=   0.2s\n",
      "[CV] END ..........................C=2, max_iter=4000, tol=4; total time=   0.3s\n",
      "[CV] END ..........................C=2, max_iter=4000, tol=8; total time=   0.1s\n",
      "[CV] END ..........................C=2, max_iter=4000, tol=8; total time=   0.1s\n",
      "[CV] END ..........................C=2, max_iter=4000, tol=8; total time=   0.1s\n",
      "[CV] END ..........................C=2, max_iter=4000, tol=8; total time=   0.1s\n",
      "[CV] END ..........................C=2, max_iter=4000, tol=8; total time=   0.1s\n",
      "[CV] END ......................C=4, max_iter=500, tol=0.0001; total time=   1.6s\n",
      "[CV] END ......................C=4, max_iter=500, tol=0.0001; total time=   1.6s\n",
      "[CV] END ......................C=4, max_iter=500, tol=0.0001; total time=   1.6s\n",
      "[CV] END ......................C=4, max_iter=500, tol=0.0001; total time=   1.5s\n",
      "[CV] END ......................C=4, max_iter=500, tol=0.0001; total time=   1.5s\n",
      "[CV] END ...........................C=4, max_iter=500, tol=1; total time=   0.7s\n",
      "[CV] END ...........................C=4, max_iter=500, tol=1; total time=   0.7s\n",
      "[CV] END ...........................C=4, max_iter=500, tol=1; total time=   0.7s\n",
      "[CV] END ...........................C=4, max_iter=500, tol=1; total time=   0.7s\n",
      "[CV] END ...........................C=4, max_iter=500, tol=1; total time=   0.7s\n",
      "[CV] END ...........................C=4, max_iter=500, tol=2; total time=   0.6s\n",
      "[CV] END ...........................C=4, max_iter=500, tol=2; total time=   0.6s\n",
      "[CV] END ...........................C=4, max_iter=500, tol=2; total time=   0.6s\n",
      "[CV] END ...........................C=4, max_iter=500, tol=2; total time=   0.5s\n",
      "[CV] END ...........................C=4, max_iter=500, tol=2; total time=   0.6s\n",
      "[CV] END ...........................C=4, max_iter=500, tol=4; total time=   0.3s\n",
      "[CV] END ...........................C=4, max_iter=500, tol=4; total time=   0.3s\n",
      "[CV] END ...........................C=4, max_iter=500, tol=4; total time=   0.3s\n",
      "[CV] END ...........................C=4, max_iter=500, tol=4; total time=   0.3s\n",
      "[CV] END ...........................C=4, max_iter=500, tol=4; total time=   0.3s\n",
      "[CV] END ...........................C=4, max_iter=500, tol=8; total time=   0.1s\n",
      "[CV] END ...........................C=4, max_iter=500, tol=8; total time=   0.1s\n",
      "[CV] END ...........................C=4, max_iter=500, tol=8; total time=   0.1s\n",
      "[CV] END ...........................C=4, max_iter=500, tol=8; total time=   0.1s\n",
      "[CV] END ...........................C=4, max_iter=500, tol=8; total time=   0.1s\n",
      "[CV] END .....................C=4, max_iter=1000, tol=0.0001; total time=   1.5s\n",
      "[CV] END .....................C=4, max_iter=1000, tol=0.0001; total time=   1.5s\n",
      "[CV] END .....................C=4, max_iter=1000, tol=0.0001; total time=   1.5s\n",
      "[CV] END .....................C=4, max_iter=1000, tol=0.0001; total time=   1.5s\n",
      "[CV] END .....................C=4, max_iter=1000, tol=0.0001; total time=   1.6s\n",
      "[CV] END ..........................C=4, max_iter=1000, tol=1; total time=   0.7s\n",
      "[CV] END ..........................C=4, max_iter=1000, tol=1; total time=   0.6s\n",
      "[CV] END ..........................C=4, max_iter=1000, tol=1; total time=   0.9s\n",
      "[CV] END ..........................C=4, max_iter=1000, tol=1; total time=   0.8s\n",
      "[CV] END ..........................C=4, max_iter=1000, tol=1; total time=   0.8s\n",
      "[CV] END ..........................C=4, max_iter=1000, tol=2; total time=   0.6s\n",
      "[CV] END ..........................C=4, max_iter=1000, tol=2; total time=   0.6s\n",
      "[CV] END ..........................C=4, max_iter=1000, tol=2; total time=   0.7s\n",
      "[CV] END ..........................C=4, max_iter=1000, tol=2; total time=   0.6s\n",
      "[CV] END ..........................C=4, max_iter=1000, tol=2; total time=   0.6s\n",
      "[CV] END ..........................C=4, max_iter=1000, tol=4; total time=   0.3s\n",
      "[CV] END ..........................C=4, max_iter=1000, tol=4; total time=   0.3s\n",
      "[CV] END ..........................C=4, max_iter=1000, tol=4; total time=   0.3s\n",
      "[CV] END ..........................C=4, max_iter=1000, tol=4; total time=   0.3s\n",
      "[CV] END ..........................C=4, max_iter=1000, tol=4; total time=   0.3s\n",
      "[CV] END ..........................C=4, max_iter=1000, tol=8; total time=   0.1s\n",
      "[CV] END ..........................C=4, max_iter=1000, tol=8; total time=   0.1s\n",
      "[CV] END ..........................C=4, max_iter=1000, tol=8; total time=   0.1s\n",
      "[CV] END ..........................C=4, max_iter=1000, tol=8; total time=   0.1s\n",
      "[CV] END ..........................C=4, max_iter=1000, tol=8; total time=   0.1s\n",
      "[CV] END .....................C=4, max_iter=2000, tol=0.0001; total time=   1.6s\n",
      "[CV] END .....................C=4, max_iter=2000, tol=0.0001; total time=   1.6s\n",
      "[CV] END .....................C=4, max_iter=2000, tol=0.0001; total time=   1.6s\n",
      "[CV] END .....................C=4, max_iter=2000, tol=0.0001; total time=   1.6s\n",
      "[CV] END .....................C=4, max_iter=2000, tol=0.0001; total time=   1.8s\n",
      "[CV] END ..........................C=4, max_iter=2000, tol=1; total time=   0.9s\n",
      "[CV] END ..........................C=4, max_iter=2000, tol=1; total time=   0.8s\n",
      "[CV] END ..........................C=4, max_iter=2000, tol=1; total time=   0.7s\n",
      "[CV] END ..........................C=4, max_iter=2000, tol=1; total time=   0.7s\n",
      "[CV] END ..........................C=4, max_iter=2000, tol=1; total time=   0.7s\n",
      "[CV] END ..........................C=4, max_iter=2000, tol=2; total time=   0.5s\n",
      "[CV] END ..........................C=4, max_iter=2000, tol=2; total time=   0.6s\n",
      "[CV] END ..........................C=4, max_iter=2000, tol=2; total time=   0.6s\n",
      "[CV] END ..........................C=4, max_iter=2000, tol=2; total time=   0.5s\n",
      "[CV] END ..........................C=4, max_iter=2000, tol=2; total time=   0.6s\n",
      "[CV] END ..........................C=4, max_iter=2000, tol=4; total time=   0.3s\n",
      "[CV] END ..........................C=4, max_iter=2000, tol=4; total time=   0.3s\n",
      "[CV] END ..........................C=4, max_iter=2000, tol=4; total time=   0.3s\n",
      "[CV] END ..........................C=4, max_iter=2000, tol=4; total time=   0.3s\n",
      "[CV] END ..........................C=4, max_iter=2000, tol=4; total time=   0.3s\n",
      "[CV] END ..........................C=4, max_iter=2000, tol=8; total time=   0.1s\n",
      "[CV] END ..........................C=4, max_iter=2000, tol=8; total time=   0.1s\n",
      "[CV] END ..........................C=4, max_iter=2000, tol=8; total time=   0.1s\n",
      "[CV] END ..........................C=4, max_iter=2000, tol=8; total time=   0.1s\n",
      "[CV] END ..........................C=4, max_iter=2000, tol=8; total time=   0.1s\n",
      "[CV] END .....................C=4, max_iter=4000, tol=0.0001; total time=   1.5s\n",
      "[CV] END .....................C=4, max_iter=4000, tol=0.0001; total time=   1.5s\n",
      "[CV] END .....................C=4, max_iter=4000, tol=0.0001; total time=   1.5s\n",
      "[CV] END .....................C=4, max_iter=4000, tol=0.0001; total time=   1.5s\n",
      "[CV] END .....................C=4, max_iter=4000, tol=0.0001; total time=   1.6s\n",
      "[CV] END ..........................C=4, max_iter=4000, tol=1; total time=   0.7s\n",
      "[CV] END ..........................C=4, max_iter=4000, tol=1; total time=   0.6s\n",
      "[CV] END ..........................C=4, max_iter=4000, tol=1; total time=   0.7s\n",
      "[CV] END ..........................C=4, max_iter=4000, tol=1; total time=   0.7s\n",
      "[CV] END ..........................C=4, max_iter=4000, tol=1; total time=   0.7s\n",
      "[CV] END ..........................C=4, max_iter=4000, tol=2; total time=   0.5s\n",
      "[CV] END ..........................C=4, max_iter=4000, tol=2; total time=   0.5s\n",
      "[CV] END ..........................C=4, max_iter=4000, tol=2; total time=   0.6s\n",
      "[CV] END ..........................C=4, max_iter=4000, tol=2; total time=   0.6s\n",
      "[CV] END ..........................C=4, max_iter=4000, tol=2; total time=   0.6s\n",
      "[CV] END ..........................C=4, max_iter=4000, tol=4; total time=   0.3s\n",
      "[CV] END ..........................C=4, max_iter=4000, tol=4; total time=   0.3s\n",
      "[CV] END ..........................C=4, max_iter=4000, tol=4; total time=   0.3s\n",
      "[CV] END ..........................C=4, max_iter=4000, tol=4; total time=   0.3s\n",
      "[CV] END ..........................C=4, max_iter=4000, tol=4; total time=   0.3s\n",
      "[CV] END ..........................C=4, max_iter=4000, tol=8; total time=   0.1s\n",
      "[CV] END ..........................C=4, max_iter=4000, tol=8; total time=   0.1s\n",
      "[CV] END ..........................C=4, max_iter=4000, tol=8; total time=   0.1s\n",
      "[CV] END ..........................C=4, max_iter=4000, tol=8; total time=   0.1s\n",
      "[CV] END ..........................C=4, max_iter=4000, tol=8; total time=   0.1s\n",
      "[CV] END ......................C=8, max_iter=500, tol=0.0001; total time=   2.5s\n",
      "[CV] END ......................C=8, max_iter=500, tol=0.0001; total time=   2.4s\n",
      "[CV] END ......................C=8, max_iter=500, tol=0.0001; total time=   2.6s\n",
      "[CV] END ......................C=8, max_iter=500, tol=0.0001; total time=   2.5s\n",
      "[CV] END ......................C=8, max_iter=500, tol=0.0001; total time=   2.7s\n",
      "[CV] END ...........................C=8, max_iter=500, tol=1; total time=   0.9s\n",
      "[CV] END ...........................C=8, max_iter=500, tol=1; total time=   1.0s\n",
      "[CV] END ...........................C=8, max_iter=500, tol=1; total time=   0.9s\n",
      "[CV] END ...........................C=8, max_iter=500, tol=1; total time=   1.0s\n",
      "[CV] END ...........................C=8, max_iter=500, tol=1; total time=   1.0s\n",
      "[CV] END ...........................C=8, max_iter=500, tol=2; total time=   0.8s\n",
      "[CV] END ...........................C=8, max_iter=500, tol=2; total time=   0.7s\n",
      "[CV] END ...........................C=8, max_iter=500, tol=2; total time=   0.7s\n",
      "[CV] END ...........................C=8, max_iter=500, tol=2; total time=   0.8s\n",
      "[CV] END ...........................C=8, max_iter=500, tol=2; total time=   0.9s\n",
      "[CV] END ...........................C=8, max_iter=500, tol=4; total time=   0.5s\n",
      "[CV] END ...........................C=8, max_iter=500, tol=4; total time=   0.4s\n",
      "[CV] END ...........................C=8, max_iter=500, tol=4; total time=   0.4s\n",
      "[CV] END ...........................C=8, max_iter=500, tol=4; total time=   0.4s\n",
      "[CV] END ...........................C=8, max_iter=500, tol=4; total time=   0.5s\n",
      "[CV] END ...........................C=8, max_iter=500, tol=8; total time=   0.1s\n",
      "[CV] END ...........................C=8, max_iter=500, tol=8; total time=   0.1s\n",
      "[CV] END ...........................C=8, max_iter=500, tol=8; total time=   0.1s\n",
      "[CV] END ...........................C=8, max_iter=500, tol=8; total time=   0.1s\n",
      "[CV] END ...........................C=8, max_iter=500, tol=8; total time=   0.1s\n",
      "[CV] END .....................C=8, max_iter=1000, tol=0.0001; total time=   2.7s\n",
      "[CV] END .....................C=8, max_iter=1000, tol=0.0001; total time=   2.6s\n",
      "[CV] END .....................C=8, max_iter=1000, tol=0.0001; total time=   2.4s\n",
      "[CV] END .....................C=8, max_iter=1000, tol=0.0001; total time=   2.5s\n",
      "[CV] END .....................C=8, max_iter=1000, tol=0.0001; total time=   3.4s\n",
      "[CV] END ..........................C=8, max_iter=1000, tol=1; total time=   1.0s\n",
      "[CV] END ..........................C=8, max_iter=1000, tol=1; total time=   1.0s\n",
      "[CV] END ..........................C=8, max_iter=1000, tol=1; total time=   0.9s\n",
      "[CV] END ..........................C=8, max_iter=1000, tol=1; total time=   1.0s\n",
      "[CV] END ..........................C=8, max_iter=1000, tol=1; total time=   1.0s\n",
      "[CV] END ..........................C=8, max_iter=1000, tol=2; total time=   0.7s\n",
      "[CV] END ..........................C=8, max_iter=1000, tol=2; total time=   0.7s\n",
      "[CV] END ..........................C=8, max_iter=1000, tol=2; total time=   0.7s\n",
      "[CV] END ..........................C=8, max_iter=1000, tol=2; total time=   0.8s\n",
      "[CV] END ..........................C=8, max_iter=1000, tol=2; total time=   0.7s\n",
      "[CV] END ..........................C=8, max_iter=1000, tol=4; total time=   0.4s\n",
      "[CV] END ..........................C=8, max_iter=1000, tol=4; total time=   0.3s\n",
      "[CV] END ..........................C=8, max_iter=1000, tol=4; total time=   0.4s\n",
      "[CV] END ..........................C=8, max_iter=1000, tol=4; total time=   0.4s\n",
      "[CV] END ..........................C=8, max_iter=1000, tol=4; total time=   0.4s\n",
      "[CV] END ..........................C=8, max_iter=1000, tol=8; total time=   0.1s\n",
      "[CV] END ..........................C=8, max_iter=1000, tol=8; total time=   0.1s\n",
      "[CV] END ..........................C=8, max_iter=1000, tol=8; total time=   0.1s\n",
      "[CV] END ..........................C=8, max_iter=1000, tol=8; total time=   0.1s\n",
      "[CV] END ..........................C=8, max_iter=1000, tol=8; total time=   0.1s\n",
      "[CV] END .....................C=8, max_iter=2000, tol=0.0001; total time=   2.5s\n",
      "[CV] END .....................C=8, max_iter=2000, tol=0.0001; total time=   2.4s\n",
      "[CV] END .....................C=8, max_iter=2000, tol=0.0001; total time=   2.4s\n",
      "[CV] END .....................C=8, max_iter=2000, tol=0.0001; total time=   2.4s\n",
      "[CV] END .....................C=8, max_iter=2000, tol=0.0001; total time=   2.7s\n",
      "[CV] END ..........................C=8, max_iter=2000, tol=1; total time=   0.9s\n",
      "[CV] END ..........................C=8, max_iter=2000, tol=1; total time=   1.0s\n",
      "[CV] END ..........................C=8, max_iter=2000, tol=1; total time=   0.9s\n",
      "[CV] END ..........................C=8, max_iter=2000, tol=1; total time=   1.0s\n",
      "[CV] END ..........................C=8, max_iter=2000, tol=1; total time=   1.0s\n",
      "[CV] END ..........................C=8, max_iter=2000, tol=2; total time=   0.8s\n",
      "[CV] END ..........................C=8, max_iter=2000, tol=2; total time=   0.8s\n",
      "[CV] END ..........................C=8, max_iter=2000, tol=2; total time=   0.7s\n",
      "[CV] END ..........................C=8, max_iter=2000, tol=2; total time=   0.8s\n",
      "[CV] END ..........................C=8, max_iter=2000, tol=2; total time=   0.7s\n",
      "[CV] END ..........................C=8, max_iter=2000, tol=4; total time=   0.4s\n",
      "[CV] END ..........................C=8, max_iter=2000, tol=4; total time=   0.3s\n",
      "[CV] END ..........................C=8, max_iter=2000, tol=4; total time=   0.4s\n",
      "[CV] END ..........................C=8, max_iter=2000, tol=4; total time=   0.4s\n",
      "[CV] END ..........................C=8, max_iter=2000, tol=4; total time=   0.4s\n",
      "[CV] END ..........................C=8, max_iter=2000, tol=8; total time=   0.1s\n",
      "[CV] END ..........................C=8, max_iter=2000, tol=8; total time=   0.1s\n",
      "[CV] END ..........................C=8, max_iter=2000, tol=8; total time=   0.1s\n",
      "[CV] END ..........................C=8, max_iter=2000, tol=8; total time=   0.1s\n",
      "[CV] END ..........................C=8, max_iter=2000, tol=8; total time=   0.1s\n",
      "[CV] END .....................C=8, max_iter=4000, tol=0.0001; total time=   2.4s\n",
      "[CV] END .....................C=8, max_iter=4000, tol=0.0001; total time=   2.4s\n",
      "[CV] END .....................C=8, max_iter=4000, tol=0.0001; total time=   2.4s\n",
      "[CV] END .....................C=8, max_iter=4000, tol=0.0001; total time=   2.9s\n",
      "[CV] END .....................C=8, max_iter=4000, tol=0.0001; total time=   3.1s\n",
      "[CV] END ..........................C=8, max_iter=4000, tol=1; total time=   1.0s\n",
      "[CV] END ..........................C=8, max_iter=4000, tol=1; total time=   1.0s\n",
      "[CV] END ..........................C=8, max_iter=4000, tol=1; total time=   0.9s\n",
      "[CV] END ..........................C=8, max_iter=4000, tol=1; total time=   1.0s\n",
      "[CV] END ..........................C=8, max_iter=4000, tol=1; total time=   1.0s\n",
      "[CV] END ..........................C=8, max_iter=4000, tol=2; total time=   0.7s\n",
      "[CV] END ..........................C=8, max_iter=4000, tol=2; total time=   0.7s\n",
      "[CV] END ..........................C=8, max_iter=4000, tol=2; total time=   0.7s\n",
      "[CV] END ..........................C=8, max_iter=4000, tol=2; total time=   0.8s\n",
      "[CV] END ..........................C=8, max_iter=4000, tol=2; total time=   0.8s\n",
      "[CV] END ..........................C=8, max_iter=4000, tol=4; total time=   0.5s\n",
      "[CV] END ..........................C=8, max_iter=4000, tol=4; total time=   0.4s\n",
      "[CV] END ..........................C=8, max_iter=4000, tol=4; total time=   0.5s\n",
      "[CV] END ..........................C=8, max_iter=4000, tol=4; total time=   0.5s\n",
      "[CV] END ..........................C=8, max_iter=4000, tol=4; total time=   0.5s\n",
      "[CV] END ..........................C=8, max_iter=4000, tol=8; total time=   0.1s\n",
      "[CV] END ..........................C=8, max_iter=4000, tol=8; total time=   0.1s\n",
      "[CV] END ..........................C=8, max_iter=4000, tol=8; total time=   0.1s\n",
      "[CV] END ..........................C=8, max_iter=4000, tol=8; total time=   0.1s\n",
      "[CV] END ..........................C=8, max_iter=4000, tol=8; total time=   0.1s\n",
      "\n",
      "Лучшие гиперпараметры:             \n",
      "C           1\n",
      "max_iter  500\n",
      "tol         4\n",
      "Значение F1: 0.780\n",
      "Время обучения: 269.2 сек. (00:04:29)\n"
     ]
    }
   ],
   "source": [
    "print('Модель \"метод опорных векторов\"')\n",
    "# гиперпараметры и их диапазоны для подбора\n",
    "param_grid = [{\n",
    "    'C': [.5, 1, 2, 4, 8],\n",
    "    'tol': [1e-4, 1, 2, 4, 8],\n",
    "    'max_iter': [500, 1000, 2000, 4000]\n",
    "    }]\n",
    "\n",
    "svc_mod, svc_f1, svc_param, svc_time_fit = model_fit(LinearSVC(random_state=RST), features_train, target_train, param_grid, 5)"
   ]
  },
  {
   "cell_type": "markdown",
   "metadata": {},
   "source": [
    "Скорость обучения хорошая, норматив значения F1 достигнут."
   ]
  },
  {
   "cell_type": "code",
   "execution_count": 16,
   "metadata": {},
   "outputs": [
    {
     "data": {
      "image/png": "[encoded data removed]",
      "text/plain": [
       "<Figure size 1152x720 with 3 Axes>"
      ]
     },
     "metadata": {},
     "output_type": "display_data"
    }
   ],
   "source": [
    "# построение графиков влияния подбираемых гиперпараметров на модель\n",
    "res_svc = pd.DataFrame(svc_mod.cv_results_).sort_values(by='rank_test_score')\n",
    "fig, axes = plt.subplots(2, 2, figsize=(16, 10))\n",
    "sns.set_style(\"whitegrid\")\n",
    "fig.suptitle('Влияние гиперпараметров на точность предсказаний модели', fontweight='bold')\n",
    "sns.barplot(x='param_C', y='mean_test_score', data=res_svc, ax=axes[0,0], color='wheat')\n",
    "axes[0,0].set (xlabel='параметр регуляризации', ylabel='F1')\n",
    "axes[0,0].set_title(label = 'C', fontweight='bold')\n",
    "axes[0,0].set_ylim([.5, .8])\n",
    "sns.barplot(x='param_tol', y='mean_test_score', data=res_svc, ax=axes[0,1], color='lightblue')\n",
    "axes[0,1].set (xlabel='допуск критерия остановки', ylabel='F1')\n",
    "axes[0,1].set_title(label = 'tol', fontweight='bold')\n",
    "axes[0,1].set_ylim([.5, .8])\n",
    "sns.barplot(x='param_max_iter', y='mean_test_score', data=res_svc, ax=axes[1,0], color='lightgrey')\n",
    "axes[1,0].set (xlabel='максимальное количество итераций', ylabel='F1')\n",
    "axes[1,0].set_title(label = 'max_iter', fontweight='bold')\n",
    "axes[1,0].set_ylim([.5, .8])\n",
    "fig.delaxes(axes[1,1])\n",
    "fig.tight_layout()\n",
    "plt.show()"
   ]
  },
  {
   "cell_type": "markdown",
   "metadata": {},
   "source": [
    "Параметр регуляризации (`C`) - при увеличении значения до 1 улучшает качество предсказания модели, при дальнейшем увеличении значения, качество предсказаний модели ухудшается.\n",
    "\n",
    "Максимальное количество итераций (`max_iter`) - практически не оказывает влияния на качество модели.\n",
    "\n",
    "Влияние изменения значений гиперпараметра допуск критерия остановки (`tol`) на метрику F1 нелинейное, лучшее значение метрики F1 достигается при значении гиперпараметра равном 4."
   ]
  },
  {
   "cell_type": "markdown",
   "metadata": {},
   "source": [
    "### 2.5. <a id='toc2_5_'></a>[Стохастический градиентный спуск](#toc0_)\n",
    "\n",
    "Осуществим подбор гиперпараметров, оказывающих основное влияние на результат модели: функция потерь `loss`, вид регуляризации `penalty`, коэффициент регуляризации (`alpha`)."
   ]
  },
  {
   "cell_type": "code",
   "execution_count": 17,
   "metadata": {
    "scrolled": true
   },
   "outputs": [
    {
     "name": "stdout",
     "output_type": "stream",
     "text": [
      "Модель \"стохастический градиентный спуск\"\n",
      "Fitting 5 folds for each of 48 candidates, totalling 240 fits\n",
      "[CV] END ................alpha=1e-06, loss=hinge, penalty=l2; total time=   0.6s\n",
      "[CV] END ................alpha=1e-06, loss=hinge, penalty=l2; total time=   0.6s\n",
      "[CV] END ................alpha=1e-06, loss=hinge, penalty=l2; total time=   0.5s\n",
      "[CV] END ................alpha=1e-06, loss=hinge, penalty=l2; total time=   0.6s\n",
      "[CV] END ................alpha=1e-06, loss=hinge, penalty=l2; total time=   0.6s\n",
      "[CV] END ................alpha=1e-06, loss=hinge, penalty=l1; total time=   0.9s\n",
      "[CV] END ................alpha=1e-06, loss=hinge, penalty=l1; total time=   1.0s\n",
      "[CV] END ................alpha=1e-06, loss=hinge, penalty=l1; total time=   0.9s\n",
      "[CV] END ................alpha=1e-06, loss=hinge, penalty=l1; total time=   0.9s\n",
      "[CV] END ................alpha=1e-06, loss=hinge, penalty=l1; total time=   1.0s\n",
      "[CV] END ........alpha=1e-06, loss=hinge, penalty=elasticnet; total time=   1.0s\n",
      "[CV] END ........alpha=1e-06, loss=hinge, penalty=elasticnet; total time=   0.9s\n",
      "[CV] END ........alpha=1e-06, loss=hinge, penalty=elasticnet; total time=   1.0s\n",
      "[CV] END ........alpha=1e-06, loss=hinge, penalty=elasticnet; total time=   0.9s\n",
      "[CV] END ........alpha=1e-06, loss=hinge, penalty=elasticnet; total time=   0.9s\n",
      "[CV] END .......alpha=1e-06, loss=modified_huber, penalty=l2; total time=   0.7s\n",
      "[CV] END .......alpha=1e-06, loss=modified_huber, penalty=l2; total time=   0.8s\n",
      "[CV] END .......alpha=1e-06, loss=modified_huber, penalty=l2; total time=   0.7s\n",
      "[CV] END .......alpha=1e-06, loss=modified_huber, penalty=l2; total time=   0.7s\n",
      "[CV] END .......alpha=1e-06, loss=modified_huber, penalty=l2; total time=   0.8s\n",
      "[CV] END .......alpha=1e-06, loss=modified_huber, penalty=l1; total time=   1.6s\n",
      "[CV] END .......alpha=1e-06, loss=modified_huber, penalty=l1; total time=   1.7s\n",
      "[CV] END .......alpha=1e-06, loss=modified_huber, penalty=l1; total time=   1.6s\n",
      "[CV] END .......alpha=1e-06, loss=modified_huber, penalty=l1; total time=   1.7s\n",
      "[CV] END .......alpha=1e-06, loss=modified_huber, penalty=l1; total time=   1.6s\n",
      "[CV] END alpha=1e-06, loss=modified_huber, penalty=elasticnet; total time=   1.1s\n",
      "[CV] END alpha=1e-06, loss=modified_huber, penalty=elasticnet; total time=   1.3s\n",
      "[CV] END alpha=1e-06, loss=modified_huber, penalty=elasticnet; total time=   1.2s\n",
      "[CV] END alpha=1e-06, loss=modified_huber, penalty=elasticnet; total time=   1.3s\n",
      "[CV] END alpha=1e-06, loss=modified_huber, penalty=elasticnet; total time=   1.1s\n",
      "[CV] END ...........alpha=1e-06, loss=perceptron, penalty=l2; total time=   0.5s\n",
      "[CV] END ...........alpha=1e-06, loss=perceptron, penalty=l2; total time=   0.5s\n",
      "[CV] END ...........alpha=1e-06, loss=perceptron, penalty=l2; total time=   0.5s\n",
      "[CV] END ...........alpha=1e-06, loss=perceptron, penalty=l2; total time=   0.5s\n",
      "[CV] END ...........alpha=1e-06, loss=perceptron, penalty=l2; total time=   0.5s\n",
      "[CV] END ...........alpha=1e-06, loss=perceptron, penalty=l1; total time=   0.8s\n",
      "[CV] END ...........alpha=1e-06, loss=perceptron, penalty=l1; total time=   0.8s\n",
      "[CV] END ...........alpha=1e-06, loss=perceptron, penalty=l1; total time=   0.8s\n",
      "[CV] END ...........alpha=1e-06, loss=perceptron, penalty=l1; total time=   0.8s\n",
      "[CV] END ...........alpha=1e-06, loss=perceptron, penalty=l1; total time=   0.9s\n",
      "[CV] END ...alpha=1e-06, loss=perceptron, penalty=elasticnet; total time=   0.7s\n",
      "[CV] END ...alpha=1e-06, loss=perceptron, penalty=elasticnet; total time=   0.7s\n",
      "[CV] END ...alpha=1e-06, loss=perceptron, penalty=elasticnet; total time=   0.7s\n",
      "[CV] END ...alpha=1e-06, loss=perceptron, penalty=elasticnet; total time=   0.7s\n",
      "[CV] END ...alpha=1e-06, loss=perceptron, penalty=elasticnet; total time=   0.7s\n",
      "[CV] END ..................alpha=1e-06, loss=log, penalty=l2; total time=   0.6s\n",
      "[CV] END ..................alpha=1e-06, loss=log, penalty=l2; total time=   0.5s\n",
      "[CV] END ..................alpha=1e-06, loss=log, penalty=l2; total time=   0.6s\n",
      "[CV] END ..................alpha=1e-06, loss=log, penalty=l2; total time=   0.6s\n",
      "[CV] END ..................alpha=1e-06, loss=log, penalty=l2; total time=   0.6s\n",
      "[CV] END ..................alpha=1e-06, loss=log, penalty=l1; total time=   0.9s\n",
      "[CV] END ..................alpha=1e-06, loss=log, penalty=l1; total time=   0.9s\n",
      "[CV] END ..................alpha=1e-06, loss=log, penalty=l1; total time=   0.9s\n",
      "[CV] END ..................alpha=1e-06, loss=log, penalty=l1; total time=   0.8s\n",
      "[CV] END ..................alpha=1e-06, loss=log, penalty=l1; total time=   0.8s\n",
      "[CV] END ..........alpha=1e-06, loss=log, penalty=elasticnet; total time=   0.7s\n",
      "[CV] END ..........alpha=1e-06, loss=log, penalty=elasticnet; total time=   0.7s\n",
      "[CV] END ..........alpha=1e-06, loss=log, penalty=elasticnet; total time=   0.7s\n",
      "[CV] END ..........alpha=1e-06, loss=log, penalty=elasticnet; total time=   0.7s\n",
      "[CV] END ..........alpha=1e-06, loss=log, penalty=elasticnet; total time=   0.7s\n",
      "[CV] END ................alpha=1e-05, loss=hinge, penalty=l2; total time=   0.5s\n",
      "[CV] END ................alpha=1e-05, loss=hinge, penalty=l2; total time=   0.5s\n",
      "[CV] END ................alpha=1e-05, loss=hinge, penalty=l2; total time=   0.4s\n",
      "[CV] END ................alpha=1e-05, loss=hinge, penalty=l2; total time=   0.4s\n",
      "[CV] END ................alpha=1e-05, loss=hinge, penalty=l2; total time=   0.4s\n",
      "[CV] END ................alpha=1e-05, loss=hinge, penalty=l1; total time=   0.6s\n",
      "[CV] END ................alpha=1e-05, loss=hinge, penalty=l1; total time=   0.5s\n",
      "[CV] END ................alpha=1e-05, loss=hinge, penalty=l1; total time=   0.6s\n",
      "[CV] END ................alpha=1e-05, loss=hinge, penalty=l1; total time=   0.5s\n",
      "[CV] END ................alpha=1e-05, loss=hinge, penalty=l1; total time=   0.6s\n",
      "[CV] END ........alpha=1e-05, loss=hinge, penalty=elasticnet; total time=   0.7s\n",
      "[CV] END ........alpha=1e-05, loss=hinge, penalty=elasticnet; total time=   0.7s\n",
      "[CV] END ........alpha=1e-05, loss=hinge, penalty=elasticnet; total time=   0.7s\n",
      "[CV] END ........alpha=1e-05, loss=hinge, penalty=elasticnet; total time=   0.7s\n",
      "[CV] END ........alpha=1e-05, loss=hinge, penalty=elasticnet; total time=   0.7s\n",
      "[CV] END .......alpha=1e-05, loss=modified_huber, penalty=l2; total time=   0.4s\n",
      "[CV] END .......alpha=1e-05, loss=modified_huber, penalty=l2; total time=   0.5s\n",
      "[CV] END .......alpha=1e-05, loss=modified_huber, penalty=l2; total time=   0.5s\n",
      "[CV] END .......alpha=1e-05, loss=modified_huber, penalty=l2; total time=   0.5s\n",
      "[CV] END .......alpha=1e-05, loss=modified_huber, penalty=l2; total time=   0.5s\n",
      "[CV] END .......alpha=1e-05, loss=modified_huber, penalty=l1; total time=   1.8s\n",
      "[CV] END .......alpha=1e-05, loss=modified_huber, penalty=l1; total time=   1.8s\n",
      "[CV] END .......alpha=1e-05, loss=modified_huber, penalty=l1; total time=   1.8s\n",
      "[CV] END .......alpha=1e-05, loss=modified_huber, penalty=l1; total time=   1.7s\n",
      "[CV] END .......alpha=1e-05, loss=modified_huber, penalty=l1; total time=   1.7s\n",
      "[CV] END alpha=1e-05, loss=modified_huber, penalty=elasticnet; total time=   0.7s\n",
      "[CV] END alpha=1e-05, loss=modified_huber, penalty=elasticnet; total time=   0.7s\n",
      "[CV] END alpha=1e-05, loss=modified_huber, penalty=elasticnet; total time=   0.7s\n",
      "[CV] END alpha=1e-05, loss=modified_huber, penalty=elasticnet; total time=   0.8s\n",
      "[CV] END alpha=1e-05, loss=modified_huber, penalty=elasticnet; total time=   0.7s\n",
      "[CV] END ...........alpha=1e-05, loss=perceptron, penalty=l2; total time=   0.4s\n",
      "[CV] END ...........alpha=1e-05, loss=perceptron, penalty=l2; total time=   0.4s\n",
      "[CV] END ...........alpha=1e-05, loss=perceptron, penalty=l2; total time=   0.4s\n",
      "[CV] END ...........alpha=1e-05, loss=perceptron, penalty=l2; total time=   0.4s\n",
      "[CV] END ...........alpha=1e-05, loss=perceptron, penalty=l2; total time=   0.4s\n",
      "[CV] END ...........alpha=1e-05, loss=perceptron, penalty=l1; total time=   0.5s\n",
      "[CV] END ...........alpha=1e-05, loss=perceptron, penalty=l1; total time=   0.5s\n",
      "[CV] END ...........alpha=1e-05, loss=perceptron, penalty=l1; total time=   0.5s\n",
      "[CV] END ...........alpha=1e-05, loss=perceptron, penalty=l1; total time=   0.5s\n",
      "[CV] END ...........alpha=1e-05, loss=perceptron, penalty=l1; total time=   0.5s\n",
      "[CV] END ...alpha=1e-05, loss=perceptron, penalty=elasticnet; total time=   0.5s\n",
      "[CV] END ...alpha=1e-05, loss=perceptron, penalty=elasticnet; total time=   0.5s\n",
      "[CV] END ...alpha=1e-05, loss=perceptron, penalty=elasticnet; total time=   0.6s\n",
      "[CV] END ...alpha=1e-05, loss=perceptron, penalty=elasticnet; total time=   0.5s\n",
      "[CV] END ...alpha=1e-05, loss=perceptron, penalty=elasticnet; total time=   0.5s\n",
      "[CV] END ..................alpha=1e-05, loss=log, penalty=l2; total time=   0.5s\n",
      "[CV] END ..................alpha=1e-05, loss=log, penalty=l2; total time=   0.5s\n",
      "[CV] END ..................alpha=1e-05, loss=log, penalty=l2; total time=   0.4s\n",
      "[CV] END ..................alpha=1e-05, loss=log, penalty=l2; total time=   0.5s\n",
      "[CV] END ..................alpha=1e-05, loss=log, penalty=l2; total time=   0.4s\n",
      "[CV] END ..................alpha=1e-05, loss=log, penalty=l1; total time=   0.5s\n",
      "[CV] END ..................alpha=1e-05, loss=log, penalty=l1; total time=   0.5s\n",
      "[CV] END ..................alpha=1e-05, loss=log, penalty=l1; total time=   0.5s\n",
      "[CV] END ..................alpha=1e-05, loss=log, penalty=l1; total time=   0.5s\n",
      "[CV] END ..................alpha=1e-05, loss=log, penalty=l1; total time=   0.5s\n",
      "[CV] END ..........alpha=1e-05, loss=log, penalty=elasticnet; total time=   0.6s\n",
      "[CV] END ..........alpha=1e-05, loss=log, penalty=elasticnet; total time=   0.6s\n",
      "[CV] END ..........alpha=1e-05, loss=log, penalty=elasticnet; total time=   0.6s\n",
      "[CV] END ..........alpha=1e-05, loss=log, penalty=elasticnet; total time=   0.6s\n",
      "[CV] END ..........alpha=1e-05, loss=log, penalty=elasticnet; total time=   0.6s\n",
      "[CV] END ...............alpha=0.0001, loss=hinge, penalty=l2; total time=   0.4s\n",
      "[CV] END ...............alpha=0.0001, loss=hinge, penalty=l2; total time=   0.4s\n",
      "[CV] END ...............alpha=0.0001, loss=hinge, penalty=l2; total time=   0.4s\n",
      "[CV] END ...............alpha=0.0001, loss=hinge, penalty=l2; total time=   0.3s\n",
      "[CV] END ...............alpha=0.0001, loss=hinge, penalty=l2; total time=   0.4s\n",
      "[CV] END ...............alpha=0.0001, loss=hinge, penalty=l1; total time=   0.4s\n",
      "[CV] END ...............alpha=0.0001, loss=hinge, penalty=l1; total time=   0.4s\n",
      "[CV] END ...............alpha=0.0001, loss=hinge, penalty=l1; total time=   0.4s\n",
      "[CV] END ...............alpha=0.0001, loss=hinge, penalty=l1; total time=   0.4s\n",
      "[CV] END ...............alpha=0.0001, loss=hinge, penalty=l1; total time=   0.4s\n",
      "[CV] END .......alpha=0.0001, loss=hinge, penalty=elasticnet; total time=   0.5s\n",
      "[CV] END .......alpha=0.0001, loss=hinge, penalty=elasticnet; total time=   0.5s\n",
      "[CV] END .......alpha=0.0001, loss=hinge, penalty=elasticnet; total time=   0.4s\n",
      "[CV] END .......alpha=0.0001, loss=hinge, penalty=elasticnet; total time=   0.5s\n",
      "[CV] END .......alpha=0.0001, loss=hinge, penalty=elasticnet; total time=   0.5s\n",
      "[CV] END ......alpha=0.0001, loss=modified_huber, penalty=l2; total time=   0.4s\n",
      "[CV] END ......alpha=0.0001, loss=modified_huber, penalty=l2; total time=   0.4s\n",
      "[CV] END ......alpha=0.0001, loss=modified_huber, penalty=l2; total time=   0.4s\n",
      "[CV] END ......alpha=0.0001, loss=modified_huber, penalty=l2; total time=   0.4s\n",
      "[CV] END ......alpha=0.0001, loss=modified_huber, penalty=l2; total time=   0.4s\n",
      "[CV] END ......alpha=0.0001, loss=modified_huber, penalty=l1; total time=   0.6s\n",
      "[CV] END ......alpha=0.0001, loss=modified_huber, penalty=l1; total time=   0.6s\n",
      "[CV] END ......alpha=0.0001, loss=modified_huber, penalty=l1; total time=   0.7s\n",
      "[CV] END ......alpha=0.0001, loss=modified_huber, penalty=l1; total time=   0.7s\n",
      "[CV] END ......alpha=0.0001, loss=modified_huber, penalty=l1; total time=   0.6s\n",
      "[CV] END alpha=0.0001, loss=modified_huber, penalty=elasticnet; total time=   0.5s\n",
      "[CV] END alpha=0.0001, loss=modified_huber, penalty=elasticnet; total time=   0.5s\n",
      "[CV] END alpha=0.0001, loss=modified_huber, penalty=elasticnet; total time=   0.6s\n",
      "[CV] END alpha=0.0001, loss=modified_huber, penalty=elasticnet; total time=   0.6s\n",
      "[CV] END alpha=0.0001, loss=modified_huber, penalty=elasticnet; total time=   0.6s\n",
      "[CV] END ..........alpha=0.0001, loss=perceptron, penalty=l2; total time=   0.3s\n",
      "[CV] END ..........alpha=0.0001, loss=perceptron, penalty=l2; total time=   0.4s\n",
      "[CV] END ..........alpha=0.0001, loss=perceptron, penalty=l2; total time=   0.3s\n",
      "[CV] END ..........alpha=0.0001, loss=perceptron, penalty=l2; total time=   0.4s\n",
      "[CV] END ..........alpha=0.0001, loss=perceptron, penalty=l2; total time=   0.3s\n",
      "[CV] END ..........alpha=0.0001, loss=perceptron, penalty=l1; total time=   0.5s\n",
      "[CV] END ..........alpha=0.0001, loss=perceptron, penalty=l1; total time=   0.4s\n",
      "[CV] END ..........alpha=0.0001, loss=perceptron, penalty=l1; total time=   0.4s\n",
      "[CV] END ..........alpha=0.0001, loss=perceptron, penalty=l1; total time=   0.4s\n",
      "[CV] END ..........alpha=0.0001, loss=perceptron, penalty=l1; total time=   0.4s\n",
      "[CV] END ..alpha=0.0001, loss=perceptron, penalty=elasticnet; total time=   0.4s\n",
      "[CV] END ..alpha=0.0001, loss=perceptron, penalty=elasticnet; total time=   0.4s\n",
      "[CV] END ..alpha=0.0001, loss=perceptron, penalty=elasticnet; total time=   0.4s\n",
      "[CV] END ..alpha=0.0001, loss=perceptron, penalty=elasticnet; total time=   0.4s\n",
      "[CV] END ..alpha=0.0001, loss=perceptron, penalty=elasticnet; total time=   0.4s\n",
      "[CV] END .................alpha=0.0001, loss=log, penalty=l2; total time=   0.4s\n",
      "[CV] END .................alpha=0.0001, loss=log, penalty=l2; total time=   0.4s\n",
      "[CV] END .................alpha=0.0001, loss=log, penalty=l2; total time=   0.4s\n",
      "[CV] END .................alpha=0.0001, loss=log, penalty=l2; total time=   0.4s\n",
      "[CV] END .................alpha=0.0001, loss=log, penalty=l2; total time=   0.4s\n",
      "[CV] END .................alpha=0.0001, loss=log, penalty=l1; total time=   0.5s\n",
      "[CV] END .................alpha=0.0001, loss=log, penalty=l1; total time=   0.5s\n",
      "[CV] END .................alpha=0.0001, loss=log, penalty=l1; total time=   0.5s\n",
      "[CV] END .................alpha=0.0001, loss=log, penalty=l1; total time=   0.5s\n",
      "[CV] END .................alpha=0.0001, loss=log, penalty=l1; total time=   0.5s\n",
      "[CV] END .........alpha=0.0001, loss=log, penalty=elasticnet; total time=   0.5s\n",
      "[CV] END .........alpha=0.0001, loss=log, penalty=elasticnet; total time=   0.5s\n",
      "[CV] END .........alpha=0.0001, loss=log, penalty=elasticnet; total time=   0.5s\n",
      "[CV] END .........alpha=0.0001, loss=log, penalty=elasticnet; total time=   0.5s\n",
      "[CV] END .........alpha=0.0001, loss=log, penalty=elasticnet; total time=   0.5s\n",
      "[CV] END ................alpha=0.001, loss=hinge, penalty=l2; total time=   0.3s\n",
      "[CV] END ................alpha=0.001, loss=hinge, penalty=l2; total time=   0.4s\n",
      "[CV] END ................alpha=0.001, loss=hinge, penalty=l2; total time=   0.4s\n",
      "[CV] END ................alpha=0.001, loss=hinge, penalty=l2; total time=   0.3s\n",
      "[CV] END ................alpha=0.001, loss=hinge, penalty=l2; total time=   0.4s\n",
      "[CV] END ................alpha=0.001, loss=hinge, penalty=l1; total time=   0.4s\n",
      "[CV] END ................alpha=0.001, loss=hinge, penalty=l1; total time=   0.5s\n",
      "[CV] END ................alpha=0.001, loss=hinge, penalty=l1; total time=   0.4s\n",
      "[CV] END ................alpha=0.001, loss=hinge, penalty=l1; total time=   0.4s\n",
      "[CV] END ................alpha=0.001, loss=hinge, penalty=l1; total time=   0.4s\n",
      "[CV] END ........alpha=0.001, loss=hinge, penalty=elasticnet; total time=   0.4s\n",
      "[CV] END ........alpha=0.001, loss=hinge, penalty=elasticnet; total time=   0.4s\n",
      "[CV] END ........alpha=0.001, loss=hinge, penalty=elasticnet; total time=   0.4s\n",
      "[CV] END ........alpha=0.001, loss=hinge, penalty=elasticnet; total time=   0.4s\n",
      "[CV] END ........alpha=0.001, loss=hinge, penalty=elasticnet; total time=   0.4s\n",
      "[CV] END .......alpha=0.001, loss=modified_huber, penalty=l2; total time=   0.4s\n",
      "[CV] END .......alpha=0.001, loss=modified_huber, penalty=l2; total time=   0.4s\n",
      "[CV] END .......alpha=0.001, loss=modified_huber, penalty=l2; total time=   0.4s\n",
      "[CV] END .......alpha=0.001, loss=modified_huber, penalty=l2; total time=   0.4s\n",
      "[CV] END .......alpha=0.001, loss=modified_huber, penalty=l2; total time=   0.3s\n",
      "[CV] END .......alpha=0.001, loss=modified_huber, penalty=l1; total time=   0.5s\n",
      "[CV] END .......alpha=0.001, loss=modified_huber, penalty=l1; total time=   0.4s\n",
      "[CV] END .......alpha=0.001, loss=modified_huber, penalty=l1; total time=   0.4s\n",
      "[CV] END .......alpha=0.001, loss=modified_huber, penalty=l1; total time=   0.5s\n",
      "[CV] END .......alpha=0.001, loss=modified_huber, penalty=l1; total time=   0.5s\n",
      "[CV] END alpha=0.001, loss=modified_huber, penalty=elasticnet; total time=   0.5s\n",
      "[CV] END alpha=0.001, loss=modified_huber, penalty=elasticnet; total time=   0.5s\n",
      "[CV] END alpha=0.001, loss=modified_huber, penalty=elasticnet; total time=   0.5s\n",
      "[CV] END alpha=0.001, loss=modified_huber, penalty=elasticnet; total time=   0.5s\n",
      "[CV] END alpha=0.001, loss=modified_huber, penalty=elasticnet; total time=   0.5s\n",
      "[CV] END ...........alpha=0.001, loss=perceptron, penalty=l2; total time=   0.3s\n",
      "[CV] END ...........alpha=0.001, loss=perceptron, penalty=l2; total time=   0.3s\n",
      "[CV] END ...........alpha=0.001, loss=perceptron, penalty=l2; total time=   0.3s\n",
      "[CV] END ...........alpha=0.001, loss=perceptron, penalty=l2; total time=   0.3s\n",
      "[CV] END ...........alpha=0.001, loss=perceptron, penalty=l2; total time=   0.3s\n",
      "[CV] END ...........alpha=0.001, loss=perceptron, penalty=l1; total time=   0.3s\n",
      "[CV] END ...........alpha=0.001, loss=perceptron, penalty=l1; total time=   0.4s\n",
      "[CV] END ...........alpha=0.001, loss=perceptron, penalty=l1; total time=   0.3s\n",
      "[CV] END ...........alpha=0.001, loss=perceptron, penalty=l1; total time=   0.4s\n",
      "[CV] END ...........alpha=0.001, loss=perceptron, penalty=l1; total time=   0.4s\n",
      "[CV] END ...alpha=0.001, loss=perceptron, penalty=elasticnet; total time=   0.4s\n",
      "[CV] END ...alpha=0.001, loss=perceptron, penalty=elasticnet; total time=   0.3s\n",
      "[CV] END ...alpha=0.001, loss=perceptron, penalty=elasticnet; total time=   0.4s\n",
      "[CV] END ...alpha=0.001, loss=perceptron, penalty=elasticnet; total time=   0.4s\n",
      "[CV] END ...alpha=0.001, loss=perceptron, penalty=elasticnet; total time=   0.4s\n",
      "[CV] END ..................alpha=0.001, loss=log, penalty=l2; total time=   0.4s\n",
      "[CV] END ..................alpha=0.001, loss=log, penalty=l2; total time=   0.4s\n",
      "[CV] END ..................alpha=0.001, loss=log, penalty=l2; total time=   0.3s\n",
      "[CV] END ..................alpha=0.001, loss=log, penalty=l2; total time=   0.4s\n",
      "[CV] END ..................alpha=0.001, loss=log, penalty=l2; total time=   0.3s\n",
      "[CV] END ..................alpha=0.001, loss=log, penalty=l1; total time=   0.5s\n",
      "[CV] END ..................alpha=0.001, loss=log, penalty=l1; total time=   0.5s\n",
      "[CV] END ..................alpha=0.001, loss=log, penalty=l1; total time=   0.5s\n",
      "[CV] END ..................alpha=0.001, loss=log, penalty=l1; total time=   0.5s\n",
      "[CV] END ..................alpha=0.001, loss=log, penalty=l1; total time=   0.5s\n",
      "[CV] END ..........alpha=0.001, loss=log, penalty=elasticnet; total time=   0.5s\n",
      "[CV] END ..........alpha=0.001, loss=log, penalty=elasticnet; total time=   0.5s\n",
      "[CV] END ..........alpha=0.001, loss=log, penalty=elasticnet; total time=   0.4s\n",
      "[CV] END ..........alpha=0.001, loss=log, penalty=elasticnet; total time=   0.4s\n",
      "[CV] END ..........alpha=0.001, loss=log, penalty=elasticnet; total time=   0.4s\n",
      "\n",
      "Лучшие гиперпараметры:                       \n",
      "alpha           0.00001\n",
      "loss     modified_huber\n",
      "penalty      elasticnet\n",
      "Значение F1: 0.771\n",
      "Время обучения: 141.0 сек. (00:02:21)\n"
     ]
    }
   ],
   "source": [
    "print('Модель \"стохастический градиентный спуск\"')\n",
    "# гиперпараметры и их диапазоны для подбора\n",
    "param_grid = [{\n",
    "    'loss': ['hinge', 'modified_huber', 'perceptron', 'log'],\n",
    "    'penalty': ['l2', 'l1', 'elasticnet'],\n",
    "    'alpha': [1e-6, 1e-5, 1e-4, 1e-3]\n",
    "    }]\n",
    "\n",
    "sgdc_mod, sgdc_f1, sgdc_param, sgdc_time_fit = model_fit(SGDClassifier(random_state=RST, max_iter=1000), \n",
    "                                                     features_train, target_train, param_grid, 5)"
   ]
  },
  {
   "cell_type": "markdown",
   "metadata": {},
   "source": [
    "Скорость обучения хорошая, норматив значения F1 достигнут."
   ]
  },
  {
   "cell_type": "code",
   "execution_count": 18,
   "metadata": {},
   "outputs": [
    {
     "data": {
      "image/png": "[encoded data removed]",
      "text/plain": [
       "<Figure size 1152x720 with 3 Axes>"
      ]
     },
     "metadata": {},
     "output_type": "display_data"
    }
   ],
   "source": [
    "# построение графиков влияния подбираемых гиперпараметров на модель\n",
    "res_sgdc = pd.DataFrame(sgdc_mod.cv_results_).sort_values(by='rank_test_score')\n",
    "fig, axes = plt.subplots(2, 2, figsize=(16, 10))\n",
    "sns.set_style(\"whitegrid\")\n",
    "fig.suptitle('Влияние гиперпараметров на точность предсказаний модели', fontweight='bold')\n",
    "sns.barplot(x='param_loss', y='mean_test_score', data=res_sgdc, ax=axes[0,0], color='wheat')\n",
    "axes[0,0].set (xlabel='функция', ylabel='F1')\n",
    "axes[0,0].set_title(label = 'loss', fontweight='bold')\n",
    "#axes[0,0].set_ylim([.5, .8])\n",
    "sns.barplot(x='param_penalty', y='mean_test_score', data=res_sgdc, ax=axes[0,1], color='lightblue')\n",
    "axes[0,1].set (xlabel='вид регуляризации', ylabel='F1')\n",
    "axes[0,1].set_title(label = 'penalty', fontweight='bold')\n",
    "#axes[0,1].set_ylim([.5, .8])\n",
    "sns.barplot(x='param_alpha', y='mean_test_score', data=res_sgdc, ax=axes[1,0], color='lightgrey')\n",
    "axes[1,0].set (xlabel='коэффициент регуляризации', ylabel='F1')\n",
    "axes[1,0].set_title(label = 'alpha', fontweight='bold')\n",
    "#axes[1,0].set_ylim([.5, .8])\n",
    "fig.delaxes(axes[1,1])\n",
    "fig.tight_layout()\n",
    "plt.show()"
   ]
  },
  {
   "cell_type": "markdown",
   "metadata": {},
   "source": [
    "Влияние гиперпараметров функция потерь `loss` и коэффициент регуляризации (`alpha`) существенно и прослеживается на графиках. Влияние изменения значений гиперпараметра вид регуляризации `penalty` несущественное."
   ]
  },
  {
   "cell_type": "markdown",
   "metadata": {},
   "source": [
    "### 2.6. <a id='toc2_6_'></a>[Градиентный бустинг](#toc0_)\n",
    "\n",
    "Осуществим подбор гиперпараметров, оказывающих основное влияние на результат модели: скорость обучения (`learning_rate`), максимальная глубина дерева (`max_depth`), количество деревьев (`n_estimators`)."
   ]
  },
  {
   "cell_type": "code",
   "execution_count": 19,
   "metadata": {
    "scrolled": true
   },
   "outputs": [
    {
     "name": "stdout",
     "output_type": "stream",
     "text": [
      "Модель \"градиентный бустинг\"\n",
      "Fitting 5 folds for each of 27 candidates, totalling 135 fits\n",
      "[CV] END ...learning_rate=0.1, max_depth=3, n_estimators=100; total time=  38.0s\n",
      "[CV] END ...learning_rate=0.1, max_depth=3, n_estimators=100; total time=  34.7s\n",
      "[CV] END ...learning_rate=0.1, max_depth=3, n_estimators=100; total time=  37.9s\n",
      "[CV] END ...learning_rate=0.1, max_depth=3, n_estimators=100; total time=  36.7s\n",
      "[CV] END ...learning_rate=0.1, max_depth=3, n_estimators=100; total time=  36.1s\n",
      "[CV] END ...learning_rate=0.1, max_depth=3, n_estimators=200; total time=  41.8s\n",
      "[CV] END ...learning_rate=0.1, max_depth=3, n_estimators=200; total time=  41.1s\n",
      "[CV] END ...learning_rate=0.1, max_depth=3, n_estimators=200; total time=  39.4s\n",
      "[CV] END ...learning_rate=0.1, max_depth=3, n_estimators=200; total time=  41.4s\n",
      "[CV] END ...learning_rate=0.1, max_depth=3, n_estimators=200; total time=  40.6s\n",
      "[CV] END ...learning_rate=0.1, max_depth=3, n_estimators=400; total time=  48.6s\n",
      "[CV] END ...learning_rate=0.1, max_depth=3, n_estimators=400; total time=  48.1s\n",
      "[CV] END ...learning_rate=0.1, max_depth=3, n_estimators=400; total time=  48.4s\n",
      "[CV] END ...learning_rate=0.1, max_depth=3, n_estimators=400; total time=  50.1s\n",
      "[CV] END ...learning_rate=0.1, max_depth=3, n_estimators=400; total time=  49.6s\n",
      "[CV] END ...learning_rate=0.1, max_depth=7, n_estimators=100; total time=  43.7s\n",
      "[CV] END ...learning_rate=0.1, max_depth=7, n_estimators=100; total time=  44.0s\n",
      "[CV] END ...learning_rate=0.1, max_depth=7, n_estimators=100; total time=  44.7s\n",
      "[CV] END ...learning_rate=0.1, max_depth=7, n_estimators=100; total time=  42.8s\n",
      "[CV] END ...learning_rate=0.1, max_depth=7, n_estimators=100; total time=  43.7s\n",
      "[CV] END ...learning_rate=0.1, max_depth=7, n_estimators=200; total time=  52.8s\n",
      "[CV] END ...learning_rate=0.1, max_depth=7, n_estimators=200; total time=  53.6s\n",
      "[CV] END ...learning_rate=0.1, max_depth=7, n_estimators=200; total time=  54.2s\n",
      "[CV] END ...learning_rate=0.1, max_depth=7, n_estimators=200; total time=  53.5s\n",
      "[CV] END ...learning_rate=0.1, max_depth=7, n_estimators=200; total time=  54.2s\n",
      "[CV] END ...learning_rate=0.1, max_depth=7, n_estimators=400; total time= 1.2min\n",
      "[CV] END ...learning_rate=0.1, max_depth=7, n_estimators=400; total time= 1.2min\n",
      "[CV] END ...learning_rate=0.1, max_depth=7, n_estimators=400; total time= 1.2min\n",
      "[CV] END ...learning_rate=0.1, max_depth=7, n_estimators=400; total time= 1.2min\n",
      "[CV] END ...learning_rate=0.1, max_depth=7, n_estimators=400; total time= 1.2min\n",
      "[CV] END ..learning_rate=0.1, max_depth=10, n_estimators=100; total time=  47.8s\n",
      "[CV] END ..learning_rate=0.1, max_depth=10, n_estimators=100; total time=  47.7s\n",
      "[CV] END ..learning_rate=0.1, max_depth=10, n_estimators=100; total time=  48.5s\n",
      "[CV] END ..learning_rate=0.1, max_depth=10, n_estimators=100; total time=  47.7s\n",
      "[CV] END ..learning_rate=0.1, max_depth=10, n_estimators=100; total time=  47.8s\n",
      "[CV] END ..learning_rate=0.1, max_depth=10, n_estimators=200; total time= 1.0min\n",
      "[CV] END ..learning_rate=0.1, max_depth=10, n_estimators=200; total time= 1.0min\n",
      "[CV] END ..learning_rate=0.1, max_depth=10, n_estimators=200; total time= 1.0min\n",
      "[CV] END ..learning_rate=0.1, max_depth=10, n_estimators=200; total time=  59.8s\n",
      "[CV] END ..learning_rate=0.1, max_depth=10, n_estimators=200; total time=  59.7s\n",
      "[CV] END ..learning_rate=0.1, max_depth=10, n_estimators=400; total time= 1.4min\n",
      "[CV] END ..learning_rate=0.1, max_depth=10, n_estimators=400; total time= 1.4min\n",
      "[CV] END ..learning_rate=0.1, max_depth=10, n_estimators=400; total time= 1.4min\n",
      "[CV] END ..learning_rate=0.1, max_depth=10, n_estimators=400; total time= 1.4min\n",
      "[CV] END ..learning_rate=0.1, max_depth=10, n_estimators=400; total time= 1.4min\n",
      "[CV] END ...learning_rate=0.3, max_depth=3, n_estimators=100; total time=  35.2s\n",
      "[CV] END ...learning_rate=0.3, max_depth=3, n_estimators=100; total time=  37.5s\n",
      "[CV] END ...learning_rate=0.3, max_depth=3, n_estimators=100; total time=  34.7s\n",
      "[CV] END ...learning_rate=0.3, max_depth=3, n_estimators=100; total time=  37.1s\n",
      "[CV] END ...learning_rate=0.3, max_depth=3, n_estimators=100; total time=  35.2s\n",
      "[CV] END ...learning_rate=0.3, max_depth=3, n_estimators=200; total time=  39.5s\n",
      "[CV] END ...learning_rate=0.3, max_depth=3, n_estimators=200; total time=  38.6s\n",
      "[CV] END ...learning_rate=0.3, max_depth=3, n_estimators=200; total time=  38.7s\n",
      "[CV] END ...learning_rate=0.3, max_depth=3, n_estimators=200; total time=  39.7s\n",
      "[CV] END ...learning_rate=0.3, max_depth=3, n_estimators=200; total time=  39.8s\n",
      "[CV] END ...learning_rate=0.3, max_depth=3, n_estimators=400; total time=  46.6s\n",
      "[CV] END ...learning_rate=0.3, max_depth=3, n_estimators=400; total time=  48.6s\n",
      "[CV] END ...learning_rate=0.3, max_depth=3, n_estimators=400; total time=  46.5s\n",
      "[CV] END ...learning_rate=0.3, max_depth=3, n_estimators=400; total time=  47.6s\n",
      "[CV] END ...learning_rate=0.3, max_depth=3, n_estimators=400; total time=  47.5s\n",
      "[CV] END ...learning_rate=0.3, max_depth=7, n_estimators=100; total time=  42.2s\n",
      "[CV] END ...learning_rate=0.3, max_depth=7, n_estimators=100; total time=  43.1s\n",
      "[CV] END ...learning_rate=0.3, max_depth=7, n_estimators=100; total time=  42.5s\n",
      "[CV] END ...learning_rate=0.3, max_depth=7, n_estimators=100; total time=  42.9s\n",
      "[CV] END ...learning_rate=0.3, max_depth=7, n_estimators=100; total time=  41.1s\n",
      "[CV] END ...learning_rate=0.3, max_depth=7, n_estimators=200; total time=  50.8s\n",
      "[CV] END ...learning_rate=0.3, max_depth=7, n_estimators=200; total time=  50.7s\n",
      "[CV] END ...learning_rate=0.3, max_depth=7, n_estimators=200; total time=  51.5s\n",
      "[CV] END ...learning_rate=0.3, max_depth=7, n_estimators=200; total time=  51.5s\n",
      "[CV] END ...learning_rate=0.3, max_depth=7, n_estimators=200; total time=  50.3s\n",
      "[CV] END ...learning_rate=0.3, max_depth=7, n_estimators=400; total time= 1.1min\n",
      "[CV] END ...learning_rate=0.3, max_depth=7, n_estimators=400; total time= 1.1min\n",
      "[CV] END ...learning_rate=0.3, max_depth=7, n_estimators=400; total time= 1.1min\n",
      "[CV] END ...learning_rate=0.3, max_depth=7, n_estimators=400; total time= 1.1min\n",
      "[CV] END ...learning_rate=0.3, max_depth=7, n_estimators=400; total time= 1.1min\n",
      "[CV] END ..learning_rate=0.3, max_depth=10, n_estimators=100; total time=  47.1s\n",
      "[CV] END ..learning_rate=0.3, max_depth=10, n_estimators=100; total time=  46.0s\n",
      "[CV] END ..learning_rate=0.3, max_depth=10, n_estimators=100; total time=  45.3s\n",
      "[CV] END ..learning_rate=0.3, max_depth=10, n_estimators=100; total time=  45.1s\n",
      "[CV] END ..learning_rate=0.3, max_depth=10, n_estimators=100; total time=  46.1s\n",
      "[CV] END ..learning_rate=0.3, max_depth=10, n_estimators=200; total time=  57.3s\n",
      "[CV] END ..learning_rate=0.3, max_depth=10, n_estimators=200; total time=  57.1s\n",
      "[CV] END ..learning_rate=0.3, max_depth=10, n_estimators=200; total time=  57.1s\n",
      "[CV] END ..learning_rate=0.3, max_depth=10, n_estimators=200; total time=  55.6s\n",
      "[CV] END ..learning_rate=0.3, max_depth=10, n_estimators=200; total time=  57.6s\n",
      "[CV] END ..learning_rate=0.3, max_depth=10, n_estimators=400; total time= 1.3min\n",
      "[CV] END ..learning_rate=0.3, max_depth=10, n_estimators=400; total time= 1.3min\n",
      "[CV] END ..learning_rate=0.3, max_depth=10, n_estimators=400; total time= 1.3min\n",
      "[CV] END ..learning_rate=0.3, max_depth=10, n_estimators=400; total time= 1.4min\n",
      "[CV] END ..learning_rate=0.3, max_depth=10, n_estimators=400; total time= 1.3min\n",
      "[CV] END ...learning_rate=0.5, max_depth=3, n_estimators=100; total time=  36.1s\n",
      "[CV] END ...learning_rate=0.5, max_depth=3, n_estimators=100; total time=  35.9s\n",
      "[CV] END ...learning_rate=0.5, max_depth=3, n_estimators=100; total time=  36.2s\n",
      "[CV] END ...learning_rate=0.5, max_depth=3, n_estimators=100; total time=  35.1s\n",
      "[CV] END ...learning_rate=0.5, max_depth=3, n_estimators=100; total time=  36.6s\n",
      "[CV] END ...learning_rate=0.5, max_depth=3, n_estimators=200; total time=  38.9s\n",
      "[CV] END ...learning_rate=0.5, max_depth=3, n_estimators=200; total time=  40.2s\n",
      "[CV] END ...learning_rate=0.5, max_depth=3, n_estimators=200; total time=  39.9s\n",
      "[CV] END ...learning_rate=0.5, max_depth=3, n_estimators=200; total time=  39.9s\n",
      "[CV] END ...learning_rate=0.5, max_depth=3, n_estimators=200; total time=  39.9s\n",
      "[CV] END ...learning_rate=0.5, max_depth=3, n_estimators=400; total time=  47.2s\n",
      "[CV] END ...learning_rate=0.5, max_depth=3, n_estimators=400; total time=  46.3s\n",
      "[CV] END ...learning_rate=0.5, max_depth=3, n_estimators=400; total time=  46.7s\n",
      "[CV] END ...learning_rate=0.5, max_depth=3, n_estimators=400; total time=  46.8s\n",
      "[CV] END ...learning_rate=0.5, max_depth=3, n_estimators=400; total time=  48.8s\n",
      "[CV] END ...learning_rate=0.5, max_depth=7, n_estimators=100; total time=  39.2s\n",
      "[CV] END ...learning_rate=0.5, max_depth=7, n_estimators=100; total time=  40.6s\n",
      "[CV] END ...learning_rate=0.5, max_depth=7, n_estimators=100; total time=  39.8s\n",
      "[CV] END ...learning_rate=0.5, max_depth=7, n_estimators=100; total time=  41.6s\n",
      "[CV] END ...learning_rate=0.5, max_depth=7, n_estimators=100; total time=  38.7s\n",
      "[CV] END ...learning_rate=0.5, max_depth=7, n_estimators=200; total time=  49.1s\n",
      "[CV] END ...learning_rate=0.5, max_depth=7, n_estimators=200; total time=  49.7s\n",
      "[CV] END ...learning_rate=0.5, max_depth=7, n_estimators=200; total time=  48.4s\n",
      "[CV] END ...learning_rate=0.5, max_depth=7, n_estimators=200; total time=  48.6s\n",
      "[CV] END ...learning_rate=0.5, max_depth=7, n_estimators=200; total time=  48.5s\n",
      "[CV] END ...learning_rate=0.5, max_depth=7, n_estimators=400; total time= 1.1min\n",
      "[CV] END ...learning_rate=0.5, max_depth=7, n_estimators=400; total time= 1.1min\n",
      "[CV] END ...learning_rate=0.5, max_depth=7, n_estimators=400; total time= 1.1min\n",
      "[CV] END ...learning_rate=0.5, max_depth=7, n_estimators=400; total time= 1.1min\n",
      "[CV] END ...learning_rate=0.5, max_depth=7, n_estimators=400; total time= 1.1min\n",
      "[CV] END ..learning_rate=0.5, max_depth=10, n_estimators=100; total time=  43.0s\n",
      "[CV] END ..learning_rate=0.5, max_depth=10, n_estimators=100; total time=  43.6s\n",
      "[CV] END ..learning_rate=0.5, max_depth=10, n_estimators=100; total time=  44.8s\n",
      "[CV] END ..learning_rate=0.5, max_depth=10, n_estimators=100; total time=  45.6s\n",
      "[CV] END ..learning_rate=0.5, max_depth=10, n_estimators=100; total time=  45.1s\n",
      "[CV] END ..learning_rate=0.5, max_depth=10, n_estimators=200; total time=  58.1s\n",
      "[CV] END ..learning_rate=0.5, max_depth=10, n_estimators=200; total time=  55.5s\n",
      "[CV] END ..learning_rate=0.5, max_depth=10, n_estimators=200; total time=  57.9s\n",
      "[CV] END ..learning_rate=0.5, max_depth=10, n_estimators=200; total time=  58.6s\n",
      "[CV] END ..learning_rate=0.5, max_depth=10, n_estimators=200; total time=  57.0s\n",
      "[CV] END ..learning_rate=0.5, max_depth=10, n_estimators=400; total time= 1.3min\n",
      "[CV] END ..learning_rate=0.5, max_depth=10, n_estimators=400; total time= 1.3min\n",
      "[CV] END ..learning_rate=0.5, max_depth=10, n_estimators=400; total time= 1.3min\n",
      "[CV] END ..learning_rate=0.5, max_depth=10, n_estimators=400; total time= 1.3min\n",
      "[CV] END ..learning_rate=0.5, max_depth=10, n_estimators=400; total time= 1.3min\n",
      "\n",
      "Лучшие гиперпараметры:                    \n",
      "learning_rate    0.3\n",
      "max_depth       10.0\n",
      "n_estimators   400.0\n",
      "Значение F1: 0.761\n",
      "Время обучения: 7154.7 сек. (01:59:14)\n"
     ]
    }
   ],
   "source": [
    "print('Модель \"градиентный бустинг\"')\n",
    "# гиперпараметры и их диапазоны для подбора\n",
    "param_grid = [{\n",
    "    'learning_rate': [.1, .3, .5],\n",
    "    'max_depth': [3, 7, 10],\n",
    "    'n_estimators': [100, 200, 400]\n",
    "    }]\n",
    "\n",
    "lgbmr_mod, lgbmr_f1, lgbmr_param, lgbmr_time_fit = model_fit(LGBMClassifier(random_state=RST, num_threads=1, n_jobs=None), \n",
    "                                                               features_train, target_train, param_grid, 5)"
   ]
  },
  {
   "cell_type": "code",
   "execution_count": 20,
   "metadata": {
    "scrolled": false
   },
   "outputs": [
    {
     "data": {
      "image/png": "[encoded data removed]",
      "text/plain": [
       "<Figure size 1152x720 with 3 Axes>"
      ]
     },
     "metadata": {},
     "output_type": "display_data"
    }
   ],
   "source": [
    "# построение графиков влияния подбираемых гиперпараметров на модель\n",
    "res_lgbmr = pd.DataFrame(lgbmr_mod.cv_results_).sort_values(by='rank_test_score')\n",
    "fig, axes = plt.subplots(2, 2, figsize=(16, 10))\n",
    "sns.set_style(\"whitegrid\")\n",
    "fig.suptitle('Влияние гиперпараметров на точность предсказаний модели', fontweight='bold')\n",
    "sns.barplot(x='param_learning_rate', y='mean_test_score', data=res_lgbmr, ax=axes[0,0], color='wheat')\n",
    "axes[0,0].set (xlabel='скорость обучения', ylabel='F1')\n",
    "axes[0,0].set_title(label = 'learning_rate', fontweight='bold')\n",
    "sns.barplot(x='param_max_depth', y='mean_test_score', data=res_lgbmr, ax=axes[0,1], color='lightblue')\n",
    "axes[0,1].set (xlabel='максимальная глубина дерева', ylabel='F1')\n",
    "axes[0,1].set_title(label = 'max_depth', fontweight='bold')\n",
    "sns.barplot(x='param_n_estimators', y='mean_test_score', data=res_lgbmr, ax=axes[1,0], color='lightgrey')\n",
    "axes[1,0].set (xlabel='количество деревьев', ylabel='F1')\n",
    "axes[1,0].set_title(label = 'n_estimators', fontweight='bold')\n",
    "fig.delaxes(axes[1,1])\n",
    "fig.tight_layout()\n",
    "plt.show()"
   ]
  },
  {
   "cell_type": "markdown",
   "metadata": {},
   "source": [
    "Скорость обучения (`learning_rate`). Увеличение значения гиперпараметра улучшает качество предсказаний модели и достигает максимума при значении 0,3.\n",
    "\n",
    "Максимальная глубина дерева (`max_depth`). Увеличение значения гиперпараметра приводит к улучшению качества предсказания модели. При достижении значений 7 - 10 достигает насыщения, после чего дальнейшее увеличение значения гиперпараметра нецелесообразно.\n",
    "\n",
    "Количество деревьев (`n_estimators`). Увеличение значения гиперпараметра приводит к улучшению качества предсказания модели. При достижении значений 300 - 400 достигает насыщения, после чего дальнейшее увеличение значения гиперпараметра нецелесообразно."
   ]
  },
  {
   "cell_type": "markdown",
   "metadata": {},
   "source": [
    "### 2.7. <a id='toc2_7_'></a>[Вывод по результатам раздела 2](#toc0_)\n",
    "\n",
    "Рассмотрев все модели можно сделать следующие выводы:\n",
    "- Модель классификатор Байеса - самая быстрая и самая неточная.\n",
    "- Модель логистическая регрессия имеет приемлемую скорость обучения и пограничное качество по значению метрики F1.\n",
    "- Модели опорных векторов и стохастического градиентного спуска имеют хорошую скорость обучения и по качеству соответствуют требованию F1 > 0,75.\n",
    "- Модель градиентного бустинга обеспечивает выполнение норматива по качеству предсказаний F1 > 0,75, но скорость обучения очень низная, несоразмерная качеству получаемой модели."
   ]
  },
  {
   "cell_type": "markdown",
   "metadata": {},
   "source": [
    "## 3. <a id='toc3_'></a>[Проверка на тестовой выборке](#toc0_)"
   ]
  },
  {
   "cell_type": "markdown",
   "metadata": {},
   "source": [
    "Соберем результаты моделей в одну таблицу для сравнения и выбора лучшей."
   ]
  },
  {
   "cell_type": "code",
   "execution_count": 21,
   "metadata": {},
   "outputs": [
    {
     "data": {
      "text/html": [
       "<div>\n",
       "<style scoped>\n",
       "    .dataframe tbody tr th:only-of-type {\n",
       "        vertical-align: middle;\n",
       "    }\n",
       "\n",
       "    .dataframe tbody tr th {\n",
       "        vertical-align: top;\n",
       "    }\n",
       "\n",
       "    .dataframe thead th {\n",
       "        text-align: right;\n",
       "    }\n",
       "</style>\n",
       "<table border=\"1\" class=\"dataframe\">\n",
       "  <thead>\n",
       "    <tr style=\"text-align: right;\">\n",
       "      <th></th>\n",
       "      <th>общее время обучения, сек.</th>\n",
       "      <th>время обучения на лучших гиперпараметрах, сек</th>\n",
       "      <th>качество предсказания (F1)</th>\n",
       "    </tr>\n",
       "  </thead>\n",
       "  <tbody>\n",
       "    <tr>\n",
       "      <th>классификатор Байеса с распределением Бернулли (BernoulliNB)</th>\n",
       "      <td>1.8</td>\n",
       "      <td>0.05</td>\n",
       "      <td>0.655</td>\n",
       "    </tr>\n",
       "    <tr>\n",
       "      <th>логистическая регрессия (LogisticRegression)</th>\n",
       "      <td>250.2</td>\n",
       "      <td>4.28</td>\n",
       "      <td>0.746</td>\n",
       "    </tr>\n",
       "    <tr>\n",
       "      <th>метод опорных векторов (LinearSVC)</th>\n",
       "      <td>269.2</td>\n",
       "      <td>0.30</td>\n",
       "      <td>0.780</td>\n",
       "    </tr>\n",
       "    <tr>\n",
       "      <th>стохастический градиентный спуск (SGDClassifier)</th>\n",
       "      <td>141.0</td>\n",
       "      <td>0.80</td>\n",
       "      <td>0.771</td>\n",
       "    </tr>\n",
       "    <tr>\n",
       "      <th>градиентный бустинг (LGBMRegressor)</th>\n",
       "      <td>7154.7</td>\n",
       "      <td>100.83</td>\n",
       "      <td>0.761</td>\n",
       "    </tr>\n",
       "  </tbody>\n",
       "</table>\n",
       "</div>"
      ],
      "text/plain": [
       "                                                              общее время обучения, сек.  \\\n",
       "классификатор Байеса с распределением Бернулли (BernoulliNB)                         1.8   \n",
       "логистическая регрессия (LogisticRegression)                                       250.2   \n",
       "метод опорных векторов (LinearSVC)                                                 269.2   \n",
       "стохастический градиентный спуск (SGDClassifier)                                   141.0   \n",
       "градиентный бустинг (LGBMRegressor)                                               7154.7   \n",
       "\n",
       "                                                              время обучения на лучших гиперпараметрах, сек  \\\n",
       "классификатор Байеса с распределением Бернулли (BernoulliNB)                                           0.05   \n",
       "логистическая регрессия (LogisticRegression)                                                           4.28   \n",
       "метод опорных векторов (LinearSVC)                                                                     0.30   \n",
       "стохастический градиентный спуск (SGDClassifier)                                                       0.80   \n",
       "градиентный бустинг (LGBMRegressor)                                                                  100.83   \n",
       "\n",
       "                                                              качество предсказания (F1)  \n",
       "классификатор Байеса с распределением Бернулли (BernoulliNB)                       0.655  \n",
       "логистическая регрессия (LogisticRegression)                                       0.746  \n",
       "метод опорных векторов (LinearSVC)                                                 0.780  \n",
       "стохастический градиентный спуск (SGDClassifier)                                   0.771  \n",
       "градиентный бустинг (LGBMRegressor)                                                0.761  "
      ]
     },
     "metadata": {},
     "output_type": "display_data"
    }
   ],
   "source": [
    "models = pd.DataFrame(data=[\n",
    "    [bnb_time_fit, bnb_mod.refit_time_, bnb_f1],\n",
    "    [lr_time_fit, lr_mod.refit_time_, lr_f1],\n",
    "    [svc_time_fit, svc_mod.refit_time_, svc_f1],\n",
    "    [sgdc_time_fit, sgdc_mod.refit_time_, sgdc_f1],\n",
    "    [lgbmr_time_fit, lgbmr_mod.refit_time_, lgbmr_f1]],\n",
    "                      index=['классификатор Байеса с распределением Бернулли (BernoulliNB)',\n",
    "                             'логистическая регрессия (LogisticRegression)',\n",
    "                             'метод опорных векторов (LinearSVC)',\n",
    "                             'стохастический градиентный спуск (SGDClassifier)',\n",
    "                             'градиентный бустинг (LGBMRegressor)'],\n",
    "                      columns=['общее время обучения, сек.', 'время обучения на лучших гиперпараметрах, сек', \n",
    "                               'качество предсказания (F1)']).round(\n",
    "    {'общее время обучения, сек.': 1, 'время обучения на лучших гиперпараметрах, сек': 2, 'качество предсказания (F1)': 3})\n",
    "display(models)"
   ]
  },
  {
   "cell_type": "markdown",
   "metadata": {},
   "source": [
    "Сопоставляя и анализируя модели, видим следующие закономерности:\n",
    "- в части качества предсказаний:\n",
    "    - Классификатор Байеса дает значительно более низкое качество предсказаний.\n",
    "    - Остальные модели имеют похожее качество предсказаний по метрике F1. Из них три модели: метод опорных векторов, стохастический градиентный спуск и градиентный бустинг обеспечивают выполнение требования по качеству F1 > 0,75.\n",
    "    - Модель логистической регрессии немного не дотягивает до требуемого норматива качества.\n",
    "- в части времени обучения:\n",
    "    - Классификатор Байеса отрабатывает очень быстро, с существенным отрывом от остальных моделей. Это обусловлено самой простой математической частью и минимальным подбором гиперпараметров.\n",
    "    - Модель опорных векторов также обучается с высокой скоростью.\n",
    "    - Модель стохастического градиентного спуска обучается медленнее предыдущих, но достаточно быстро.\n",
    "    - Модель логистической регрессии медленнее на порядок.\n",
    "    - Модель градиентного бустинга медленнее на два порядка.\n",
    "\n",
    "Лучшей по качеству предсказаний является модель опорных векторов `LinearSVC`. Модель стохастического градиентного спуска аналогична по качеству и сопоставима по времени обучения, поэтому является хорошей альтернативой. \n",
    "\n",
    "Проверим модель опорных векторов `LinearSVC` на тестовой выборке."
   ]
  },
  {
   "cell_type": "code",
   "execution_count": 22,
   "metadata": {},
   "outputs": [
    {
     "name": "stdout",
     "output_type": "stream",
     "text": [
      "Значение F1 на тестовой выборке: 0.775\n"
     ]
    }
   ],
   "source": [
    "print(f'Значение F1 на тестовой выборке: {f1_score(target_test, svc_mod.predict(features_test)):0.3f}')"
   ]
  },
  {
   "cell_type": "markdown",
   "metadata": {},
   "source": [
    "Качество предсказаний модели на тестовой выборке сопоставимо с качеством на обучающей и соответствует требованию F1 > 0,75."
   ]
  },
  {
   "cell_type": "markdown",
   "metadata": {},
   "source": [
    "### 3.1. <a id='toc3_1_'></a>[Вывод по результатам раздела 3](#toc0_)\n",
    "\n",
    "Рассмотрено пять моделей разных типов:\n",
    "- классификатор Байеса с распределением Бернулли;\n",
    "- логистическая регрессия;\n",
    "- метод опорных векторов;\n",
    "- стохастический градиентный спуск;\n",
    "- градиентный бустинг.\n",
    "\n",
    "Все модели обучались на одинаково подготовленной выборке, для всех был осуществлен подбор наиболее влияющих на качество предсказаний гиперпараметров. В процессе работы для каждой модели проведены расчет метрики F1 и измерение времени на этапе обучения.\n",
    "\n",
    "По совокупности факторов наиболее соответствующей требованиям Заказчика является модель опорных векторов. Данная модель была проверена на тестовой выборке, где показала хорошее качество предсказаний, соответствующее требованию F1 > 0,75."
   ]
  },
  {
   "cell_type": "markdown",
   "metadata": {},
   "source": [
    "## 4. <a id='toc4_'></a>[Общий вывод](#toc0_)\n",
    "\n",
    "В ходе реализации проекта были получены и успешно загружены исходные данные, их количество достаточно для построения моделей. Первичный анализ показал, что пропусков в данных нет, дубликаты отсутствуют, аномальных значений нет, типы данных столбцов соответствуют содержанию. Имеется дисбаланс классов в пользу позитивных отзывов в соотношении примерно 10:1.\n",
    "\n",
    "Проведена предобработка и подготовка данных в следующем составе:\n",
    "- удаление лишних символов и стоп-слов;\n",
    "- лемматизация;\n",
    "- векторизация методом `TF-IDF`;\n",
    "- разделение исходных данных на обучающую и тестовую выборки.\n",
    "\n",
    "Для обучения выбрано пять моделей разных типов: классификатор Байеса, логистическая регрессия, метод опорных векторов, стохастический градиентный спуск и градиентный бустинг. Использована типовая схема обучения, реализованная в виде пользовательской функции. Подбор гиперпараметров выполнен на базе `GridSearchCV` с кросс-валидацией и расчетом метрики F1.\n",
    "\n",
    "По результатам анализа и тестирования моделей можно сделать следующие выводы:\n",
    "- Качество предсказаний по метрике F1 всех моделей, кроме классификатора Байеса сопоставимо и находится в пределах требуемого норматива. Качество классификатора Байеса существенно хуже и не укладывается в норматив F1 > 0,75.\n",
    "- Обучение модели классификатора Байеса происходит очень быстро, но с худшим качеством. Обучение модели градиентный бустинг осуществляется очень медленно. Время обучения остальных моделей находится в разумных пределах.\n",
    "- Наиболее подходящие требованиям модели: опорных векторов и стохастического градиентного бустинга.\n",
    "- Лучшая модель - модель опорных векторов.\n",
    "\n",
    "В качестве результата исследования, для реализации проекта Заказчика рекомендуется использовать модель опорных векторов, как наиболее соответствующую поставленным требованиям. На тестовой выборке модель показала хорошее качество предсказаний, сопоставимое с предсказаниями на обучающей выборке и соответствующее требованию F1 > 0,75."
   ]
  }
 ],
 "metadata": {
  "ExecuteTimeLog": [
   {
    "duration": 1727,
    "start_time": "2023-04-25T12:54:58.557Z"
   },
   {
    "duration": 1214,
    "start_time": "2023-04-25T12:55:23.955Z"
   },
   {
    "duration": 554,
    "start_time": "2023-04-25T12:55:29.505Z"
   },
   {
    "duration": 885,
    "start_time": "2023-04-25T12:58:26.000Z"
   },
   {
    "duration": 410,
    "start_time": "2023-04-25T12:58:28.405Z"
   },
   {
    "duration": 379,
    "start_time": "2023-04-25T12:59:14.614Z"
   },
   {
    "duration": 591,
    "start_time": "2023-04-25T13:07:59.780Z"
   },
   {
    "duration": 504,
    "start_time": "2023-04-25T13:08:59.941Z"
   },
   {
    "duration": 526,
    "start_time": "2023-04-25T13:12:59.584Z"
   },
   {
    "duration": 617,
    "start_time": "2023-04-25T13:13:07.101Z"
   },
   {
    "duration": 6,
    "start_time": "2023-04-25T13:13:32.058Z"
   },
   {
    "duration": 5,
    "start_time": "2023-04-25T13:13:41.121Z"
   },
   {
    "duration": 6,
    "start_time": "2023-04-25T13:13:56.629Z"
   },
   {
    "duration": 6,
    "start_time": "2023-04-25T13:14:53.849Z"
   },
   {
    "duration": 9,
    "start_time": "2023-04-25T13:15:17.405Z"
   },
   {
    "duration": 519,
    "start_time": "2023-04-25T13:17:59.737Z"
   },
   {
    "duration": 593,
    "start_time": "2023-04-25T13:20:10.342Z"
   },
   {
    "duration": 317,
    "start_time": "2023-04-25T13:21:03.584Z"
   },
   {
    "duration": 157,
    "start_time": "2023-04-25T13:21:18.085Z"
   },
   {
    "duration": 503,
    "start_time": "2023-04-25T13:22:26.306Z"
   },
   {
    "duration": 613,
    "start_time": "2023-04-25T13:22:42.593Z"
   },
   {
    "duration": 535,
    "start_time": "2023-04-25T13:22:47.489Z"
   },
   {
    "duration": 564,
    "start_time": "2023-04-25T13:22:52.293Z"
   },
   {
    "duration": 515,
    "start_time": "2023-04-25T13:22:55.520Z"
   },
   {
    "duration": 682,
    "start_time": "2023-04-25T13:23:00.289Z"
   },
   {
    "duration": 1952,
    "start_time": "2023-04-25T19:24:40.796Z"
   },
   {
    "duration": 1434,
    "start_time": "2023-04-25T19:24:42.750Z"
   },
   {
    "duration": 647,
    "start_time": "2023-04-25T19:24:44.186Z"
   },
   {
    "duration": 3620,
    "start_time": "2023-04-25T21:36:59.765Z"
   },
   {
    "duration": 4767,
    "start_time": "2023-04-27T20:05:37.185Z"
   },
   {
    "duration": 3556,
    "start_time": "2023-04-27T20:05:41.955Z"
   },
   {
    "duration": 591,
    "start_time": "2023-04-27T20:05:45.513Z"
   },
   {
    "duration": 8,
    "start_time": "2023-04-27T20:28:11.039Z"
   },
   {
    "duration": 5,
    "start_time": "2023-04-27T20:28:27.537Z"
   },
   {
    "duration": 5,
    "start_time": "2023-04-27T20:29:31.490Z"
   },
   {
    "duration": 5,
    "start_time": "2023-04-27T20:29:50.731Z"
   },
   {
    "duration": 5,
    "start_time": "2023-04-27T20:29:56.978Z"
   },
   {
    "duration": 4,
    "start_time": "2023-04-27T20:30:11.235Z"
   },
   {
    "duration": 5,
    "start_time": "2023-04-27T20:30:20.986Z"
   },
   {
    "duration": 4,
    "start_time": "2023-04-27T20:30:29.042Z"
   },
   {
    "duration": 6,
    "start_time": "2023-04-27T20:30:39.739Z"
   },
   {
    "duration": 4,
    "start_time": "2023-04-27T20:30:48.379Z"
   },
   {
    "duration": 4,
    "start_time": "2023-04-27T20:31:27.114Z"
   },
   {
    "duration": 5,
    "start_time": "2023-04-27T20:38:16.013Z"
   },
   {
    "duration": 3,
    "start_time": "2023-04-27T20:56:56.186Z"
   },
   {
    "duration": 2148,
    "start_time": "2023-04-27T20:57:45.977Z"
   },
   {
    "duration": 2,
    "start_time": "2023-04-27T20:58:43.506Z"
   },
   {
    "duration": 2018,
    "start_time": "2023-04-27T20:58:45.971Z"
   },
   {
    "duration": 3,
    "start_time": "2023-04-27T20:59:32.267Z"
   },
   {
    "duration": 2024,
    "start_time": "2023-04-27T20:59:34.787Z"
   },
   {
    "duration": 3,
    "start_time": "2023-04-27T20:59:53.227Z"
   },
   {
    "duration": 6,
    "start_time": "2023-04-27T21:02:03.547Z"
   },
   {
    "duration": 343,
    "start_time": "2023-04-27T21:02:15.643Z"
   },
   {
    "duration": 2009,
    "start_time": "2023-04-27T21:03:50.979Z"
   },
   {
    "duration": 239,
    "start_time": "2023-04-27T21:06:30.086Z"
   },
   {
    "duration": 20,
    "start_time": "2023-04-27T21:08:43.761Z"
   },
   {
    "duration": 4,
    "start_time": "2023-04-27T21:08:55.484Z"
   },
   {
    "duration": 3,
    "start_time": "2023-04-27T21:10:36.854Z"
   },
   {
    "duration": 4,
    "start_time": "2023-04-27T21:10:46.157Z"
   },
   {
    "duration": 2177,
    "start_time": "2023-04-27T21:11:09.358Z"
   },
   {
    "duration": 1988,
    "start_time": "2023-04-27T21:12:57.056Z"
   },
   {
    "duration": 4,
    "start_time": "2023-04-27T21:14:22.085Z"
   },
   {
    "duration": 1980,
    "start_time": "2023-04-27T21:14:22.091Z"
   },
   {
    "duration": 540,
    "start_time": "2023-04-27T21:14:24.073Z"
   },
   {
    "duration": 2056,
    "start_time": "2023-04-27T21:14:24.615Z"
   },
   {
    "duration": 71,
    "start_time": "2023-04-27T21:25:37.910Z"
   },
   {
    "duration": 51,
    "start_time": "2023-04-27T21:26:24.177Z"
   },
   {
    "duration": 4,
    "start_time": "2023-04-27T21:26:33.409Z"
   },
   {
    "duration": 576,
    "start_time": "2023-04-27T21:30:09.802Z"
   },
   {
    "duration": 5,
    "start_time": "2023-04-27T21:38:49.705Z"
   },
   {
    "duration": 682,
    "start_time": "2023-04-27T21:38:54.200Z"
   },
   {
    "duration": 51,
    "start_time": "2023-04-27T21:39:52.933Z"
   },
   {
    "duration": 51,
    "start_time": "2023-04-27T21:40:27.044Z"
   },
   {
    "duration": 25,
    "start_time": "2023-04-27T21:40:44.605Z"
   },
   {
    "duration": 5,
    "start_time": "2023-04-27T21:41:12.532Z"
   },
   {
    "duration": 507,
    "start_time": "2023-04-27T21:41:14.696Z"
   },
   {
    "duration": 4,
    "start_time": "2023-04-27T21:41:39.365Z"
   },
   {
    "duration": 4,
    "start_time": "2023-04-27T21:41:42.317Z"
   },
   {
    "duration": 469,
    "start_time": "2023-04-27T21:41:44.307Z"
   },
   {
    "duration": 4,
    "start_time": "2023-04-27T21:42:27.005Z"
   },
   {
    "duration": 494,
    "start_time": "2023-04-27T21:42:30.517Z"
   },
   {
    "duration": 43,
    "start_time": "2023-04-27T21:45:14.237Z"
   },
   {
    "duration": 4,
    "start_time": "2023-04-27T21:45:21.277Z"
   },
   {
    "duration": 9831,
    "start_time": "2023-04-27T21:45:27.980Z"
   },
   {
    "duration": 505,
    "start_time": "2023-04-27T21:45:48.742Z"
   },
   {
    "duration": 481,
    "start_time": "2023-04-27T21:52:51.256Z"
   },
   {
    "duration": 643,
    "start_time": "2023-04-27T21:56:44.093Z"
   },
   {
    "duration": 518,
    "start_time": "2023-04-27T21:57:31.617Z"
   },
   {
    "duration": 765,
    "start_time": "2023-04-27T21:57:54.320Z"
   },
   {
    "duration": 2364159,
    "start_time": "2023-04-27T22:03:24.122Z"
   },
   {
    "duration": 471,
    "start_time": "2023-04-27T22:53:03.314Z"
   },
   {
    "duration": 3,
    "start_time": "2023-04-27T23:06:50.002Z"
   },
   {
    "duration": 431,
    "start_time": "2023-04-27T23:25:52.928Z"
   },
   {
    "duration": 4,
    "start_time": "2023-04-27T23:26:33.950Z"
   },
   {
    "duration": 803,
    "start_time": "2023-04-27T23:26:33.956Z"
   },
   {
    "duration": 529,
    "start_time": "2023-04-27T23:26:34.761Z"
   },
   {
    "duration": 431,
    "start_time": "2023-04-27T23:26:46.375Z"
   },
   {
    "duration": 80,
    "start_time": "2023-04-27T23:26:50.497Z"
   },
   {
    "duration": 61768,
    "start_time": "2023-04-27T23:31:30.833Z"
   },
   {
    "duration": 405,
    "start_time": "2023-04-27T23:32:39.840Z"
   },
   {
    "duration": 300160,
    "start_time": "2023-04-27T23:32:42.873Z"
   },
   {
    "duration": 3,
    "start_time": "2023-04-27T23:50:48.277Z"
   },
   {
    "duration": 4,
    "start_time": "2023-04-27T23:52:18.534Z"
   },
   {
    "duration": 3,
    "start_time": "2023-04-27T23:53:39.897Z"
   },
   {
    "duration": 30,
    "start_time": "2023-04-28T00:01:49.001Z"
   },
   {
    "duration": 57,
    "start_time": "2023-04-28T00:02:49.441Z"
   },
   {
    "duration": 444,
    "start_time": "2023-04-28T00:03:20.347Z"
   },
   {
    "duration": 298896,
    "start_time": "2023-04-28T00:03:24.842Z"
   },
   {
    "duration": 3,
    "start_time": "2023-04-28T00:08:23.740Z"
   },
   {
    "duration": 20,
    "start_time": "2023-04-28T00:09:24.805Z"
   },
   {
    "duration": 3,
    "start_time": "2023-04-28T00:09:44.363Z"
   },
   {
    "duration": 3942,
    "start_time": "2023-04-28T00:21:47.398Z"
   },
   {
    "duration": 812,
    "start_time": "2023-04-28T00:21:51.342Z"
   },
   {
    "duration": 554,
    "start_time": "2023-04-28T00:21:52.156Z"
   },
   {
    "duration": 484,
    "start_time": "2023-04-28T00:21:52.711Z"
   },
   {
    "duration": 289105,
    "start_time": "2023-04-28T00:21:53.197Z"
   },
   {
    "duration": 5418,
    "start_time": "2023-04-28T15:46:55.439Z"
   },
   {
    "duration": 2523,
    "start_time": "2023-04-28T15:47:00.860Z"
   },
   {
    "duration": 648,
    "start_time": "2023-04-28T15:47:03.384Z"
   },
   {
    "duration": 562,
    "start_time": "2023-04-28T15:47:04.040Z"
   },
   {
    "duration": 369758,
    "start_time": "2023-04-28T15:47:04.605Z"
   },
   {
    "duration": 6520,
    "start_time": "2023-04-29T19:23:54.050Z"
   },
   {
    "duration": 3258,
    "start_time": "2023-04-29T19:24:00.572Z"
   },
   {
    "duration": 586,
    "start_time": "2023-04-29T19:24:03.832Z"
   },
   {
    "duration": 619,
    "start_time": "2023-04-29T19:24:04.420Z"
   },
   {
    "duration": 307980,
    "start_time": "2023-04-29T19:24:05.041Z"
   },
   {
    "duration": 370,
    "start_time": "2023-04-29T20:30:28.562Z"
   },
   {
    "duration": 83,
    "start_time": "2023-04-29T20:30:57.854Z"
   },
   {
    "duration": 94,
    "start_time": "2023-04-29T22:49:51.482Z"
   },
   {
    "duration": 95,
    "start_time": "2023-04-29T22:50:44.404Z"
   },
   {
    "duration": 28,
    "start_time": "2023-04-29T22:57:03.031Z"
   },
   {
    "duration": 3447,
    "start_time": "2023-04-29T23:00:38.552Z"
   },
   {
    "duration": 17,
    "start_time": "2023-04-29T23:26:44.697Z"
   },
   {
    "duration": 16,
    "start_time": "2023-04-29T23:26:52.493Z"
   },
   {
    "duration": 27,
    "start_time": "2023-04-29T23:27:08.579Z"
   },
   {
    "duration": 22,
    "start_time": "2023-04-29T23:43:47.512Z"
   },
   {
    "duration": 23,
    "start_time": "2023-04-29T23:44:25.377Z"
   },
   {
    "duration": 4425,
    "start_time": "2023-04-29T23:48:25.509Z"
   },
   {
    "duration": 7470,
    "start_time": "2023-04-30T20:13:13.281Z"
   },
   {
    "duration": 9936,
    "start_time": "2023-04-30T20:13:20.754Z"
   },
   {
    "duration": 874,
    "start_time": "2023-04-30T20:13:30.701Z"
   },
   {
    "duration": 1184,
    "start_time": "2023-04-30T20:13:31.582Z"
   },
   {
    "duration": 538463,
    "start_time": "2023-04-30T20:13:32.768Z"
   },
   {
    "duration": 259,
    "start_time": "2023-04-30T20:22:31.253Z"
   },
   {
    "duration": 5329,
    "start_time": "2023-04-30T20:38:23.415Z"
   },
   {
    "duration": 508,
    "start_time": "2023-04-30T20:38:49.222Z"
   },
   {
    "duration": 22,
    "start_time": "2023-04-30T20:39:44.068Z"
   },
   {
    "duration": 6,
    "start_time": "2023-04-30T20:39:52.717Z"
   },
   {
    "duration": 15,
    "start_time": "2023-04-30T20:40:03.518Z"
   },
   {
    "duration": 66,
    "start_time": "2023-04-30T20:41:38.757Z"
   },
   {
    "duration": 15,
    "start_time": "2023-04-30T20:53:06.314Z"
   },
   {
    "duration": 6905,
    "start_time": "2023-04-30T20:53:47.822Z"
   },
   {
    "duration": 8305,
    "start_time": "2023-04-30T20:53:54.739Z"
   },
   {
    "duration": 1102,
    "start_time": "2023-04-30T20:54:03.046Z"
   },
   {
    "duration": 1230,
    "start_time": "2023-04-30T20:54:04.160Z"
   },
   {
    "duration": 547734,
    "start_time": "2023-04-30T20:54:05.400Z"
   },
   {
    "duration": 188,
    "start_time": "2023-04-30T21:03:13.136Z"
   },
   {
    "duration": 25,
    "start_time": "2023-04-30T21:09:35.990Z"
   },
   {
    "duration": 19,
    "start_time": "2023-04-30T21:10:11.520Z"
   },
   {
    "duration": 4,
    "start_time": "2023-04-30T21:10:28.741Z"
   },
   {
    "duration": 5024,
    "start_time": "2023-04-30T21:14:24.147Z"
   },
   {
    "duration": 31,
    "start_time": "2023-04-30T21:14:42.355Z"
   },
   {
    "duration": 538,
    "start_time": "2023-04-30T21:14:56.924Z"
   },
   {
    "duration": 52,
    "start_time": "2023-04-30T21:15:26.955Z"
   },
   {
    "duration": 5360,
    "start_time": "2023-04-30T21:15:58.027Z"
   },
   {
    "duration": 9,
    "start_time": "2023-04-30T21:16:19.056Z"
   },
   {
    "duration": 8,
    "start_time": "2023-04-30T21:16:46.433Z"
   },
   {
    "duration": 48,
    "start_time": "2023-04-30T21:16:54.237Z"
   },
   {
    "duration": 40,
    "start_time": "2023-04-30T21:18:04.223Z"
   },
   {
    "duration": 21,
    "start_time": "2023-04-30T21:19:52.463Z"
   },
   {
    "duration": 1208,
    "start_time": "2023-04-30T21:21:21.977Z"
   },
   {
    "duration": 4567,
    "start_time": "2023-04-30T21:21:29.380Z"
   },
   {
    "duration": 4,
    "start_time": "2023-04-30T21:25:03.884Z"
   },
   {
    "duration": 7,
    "start_time": "2023-04-30T21:26:27.078Z"
   },
   {
    "duration": 7,
    "start_time": "2023-04-30T21:26:34.740Z"
   },
   {
    "duration": 4,
    "start_time": "2023-04-30T21:26:45.186Z"
   },
   {
    "duration": 5,
    "start_time": "2023-04-30T21:27:00.978Z"
   },
   {
    "duration": 55824,
    "start_time": "2023-04-30T21:29:30.987Z"
   },
   {
    "duration": 24,
    "start_time": "2023-04-30T21:33:53.324Z"
   },
   {
    "duration": 74,
    "start_time": "2023-04-30T21:35:55.078Z"
   },
   {
    "duration": 8403,
    "start_time": "2023-04-30T21:36:57.328Z"
   },
   {
    "duration": 50,
    "start_time": "2023-04-30T21:37:11.520Z"
   },
   {
    "duration": 4297,
    "start_time": "2023-04-30T21:39:05.755Z"
   },
   {
    "duration": 3997,
    "start_time": "2023-04-30T21:39:27.995Z"
   },
   {
    "duration": 1017,
    "start_time": "2023-04-30T21:39:35.527Z"
   },
   {
    "duration": 8479,
    "start_time": "2023-04-30T21:39:52.145Z"
   },
   {
    "duration": 46,
    "start_time": "2023-04-30T21:40:07.036Z"
   },
   {
    "duration": 46,
    "start_time": "2023-04-30T21:44:47.808Z"
   },
   {
    "duration": 27,
    "start_time": "2023-04-30T21:45:13.646Z"
   },
   {
    "duration": 32,
    "start_time": "2023-04-30T21:45:40.922Z"
   },
   {
    "duration": 33,
    "start_time": "2023-04-30T21:45:48.829Z"
   },
   {
    "duration": 114,
    "start_time": "2023-04-30T21:46:26.148Z"
   },
   {
    "duration": 4719,
    "start_time": "2023-04-30T21:46:29.835Z"
   },
   {
    "duration": 130,
    "start_time": "2023-04-30T21:46:51.634Z"
   },
   {
    "duration": 10342,
    "start_time": "2023-04-30T21:46:54.536Z"
   },
   {
    "duration": 61,
    "start_time": "2023-04-30T22:02:18.286Z"
   },
   {
    "duration": 113,
    "start_time": "2023-04-30T22:02:24.662Z"
   },
   {
    "duration": 10198,
    "start_time": "2023-04-30T22:02:27.317Z"
   },
   {
    "duration": 9,
    "start_time": "2023-04-30T22:18:54.501Z"
   },
   {
    "duration": 8,
    "start_time": "2023-04-30T22:35:57.541Z"
   },
   {
    "duration": 82,
    "start_time": "2023-04-30T22:54:16.587Z"
   },
   {
    "duration": 22,
    "start_time": "2023-04-30T22:54:30.955Z"
   },
   {
    "duration": 3006960,
    "start_time": "2023-04-30T22:54:46.646Z"
   },
   {
    "duration": 4478,
    "start_time": "2023-05-01T18:13:41.406Z"
   },
   {
    "duration": 3483,
    "start_time": "2023-05-01T18:13:45.886Z"
   },
   {
    "duration": 482,
    "start_time": "2023-05-01T18:13:49.370Z"
   },
   {
    "duration": 555,
    "start_time": "2023-05-01T18:13:49.854Z"
   },
   {
    "duration": 276935,
    "start_time": "2023-05-01T18:13:50.410Z"
   },
   {
    "duration": 69,
    "start_time": "2023-05-01T18:18:27.347Z"
   },
   {
    "duration": 6576,
    "start_time": "2023-05-01T18:18:27.418Z"
   },
   {
    "duration": 4,
    "start_time": "2023-05-01T18:25:11.749Z"
   },
   {
    "duration": 1903971,
    "start_time": "2023-05-01T18:25:15.512Z"
   },
   {
    "duration": 4,
    "start_time": "2023-05-01T18:58:53.414Z"
   },
   {
    "duration": 628,
    "start_time": "2023-05-01T18:58:59.720Z"
   },
   {
    "duration": 29,
    "start_time": "2023-05-01T18:59:40.405Z"
   },
   {
    "duration": 1007,
    "start_time": "2023-05-01T19:00:31.174Z"
   },
   {
    "duration": 689081,
    "start_time": "2023-05-01T19:02:57.408Z"
   },
   {
    "duration": 263,
    "start_time": "2023-05-01T19:14:48.285Z"
   },
   {
    "duration": 526,
    "start_time": "2023-05-01T19:15:44.203Z"
   },
   {
    "duration": 104755,
    "start_time": "2023-05-01T19:16:25.284Z"
   },
   {
    "duration": 117368,
    "start_time": "2023-05-01T19:18:17.726Z"
   },
   {
    "duration": 471,
    "start_time": "2023-05-01T19:20:29.686Z"
   },
   {
    "duration": 17,
    "start_time": "2023-05-01T19:21:14.285Z"
   },
   {
    "duration": 405785,
    "start_time": "2023-05-01T19:30:30.725Z"
   },
   {
    "duration": 1417520,
    "start_time": "2023-05-01T19:38:12.705Z"
   },
   {
    "duration": 744,
    "start_time": "2023-05-01T20:05:28.537Z"
   },
   {
    "duration": 868,
    "start_time": "2023-05-01T20:06:00.737Z"
   },
   {
    "duration": 93663,
    "start_time": "2023-05-01T20:10:27.589Z"
   },
   {
    "duration": 459,
    "start_time": "2023-05-01T20:12:26.051Z"
   },
   {
    "duration": 19,
    "start_time": "2023-05-01T20:13:26.719Z"
   },
   {
    "duration": 37,
    "start_time": "2023-05-01T20:13:38.728Z"
   },
   {
    "duration": 7,
    "start_time": "2023-05-01T20:43:34.493Z"
   },
   {
    "duration": 5,
    "start_time": "2023-05-01T20:43:51.992Z"
   },
   {
    "duration": 5,
    "start_time": "2023-05-01T20:44:01.275Z"
   },
   {
    "duration": 7,
    "start_time": "2023-05-01T20:44:35.186Z"
   },
   {
    "duration": 5,
    "start_time": "2023-05-01T20:46:31.992Z"
   },
   {
    "duration": 19,
    "start_time": "2023-05-01T20:47:53.086Z"
   },
   {
    "duration": 5,
    "start_time": "2023-05-01T20:48:07.751Z"
   },
   {
    "duration": 4,
    "start_time": "2023-05-01T21:02:59.694Z"
   },
   {
    "duration": 14,
    "start_time": "2023-05-01T21:07:25.814Z"
   },
   {
    "duration": 14,
    "start_time": "2023-05-01T21:08:55.505Z"
   },
   {
    "duration": 16,
    "start_time": "2023-05-01T21:09:06.278Z"
   },
   {
    "duration": 18,
    "start_time": "2023-05-01T21:09:31.290Z"
   },
   {
    "duration": 20,
    "start_time": "2023-05-01T21:10:32.899Z"
   },
   {
    "duration": 79,
    "start_time": "2023-05-01T21:10:48.769Z"
   },
   {
    "duration": 26,
    "start_time": "2023-05-01T21:14:28.597Z"
   },
   {
    "duration": 26,
    "start_time": "2023-05-01T21:14:39.320Z"
   },
   {
    "duration": 89,
    "start_time": "2023-05-01T21:14:59.239Z"
   },
   {
    "duration": 122,
    "start_time": "2023-05-01T21:19:44.642Z"
   },
   {
    "duration": 54,
    "start_time": "2023-05-01T21:19:55.469Z"
   },
   {
    "duration": 54,
    "start_time": "2023-05-01T21:20:15.766Z"
   },
   {
    "duration": 194,
    "start_time": "2023-05-01T21:20:32.514Z"
   },
   {
    "duration": 510,
    "start_time": "2023-05-01T21:21:04.637Z"
   },
   {
    "duration": 839874,
    "start_time": "2023-05-01T21:21:10.165Z"
   },
   {
    "duration": 182,
    "start_time": "2023-05-01T21:36:51.548Z"
   },
   {
    "duration": 48,
    "start_time": "2023-05-01T21:37:08.168Z"
   },
   {
    "duration": 62,
    "start_time": "2023-05-01T22:17:31.810Z"
   },
   {
    "duration": 426,
    "start_time": "2023-05-01T22:18:44.347Z"
   },
   {
    "duration": 60,
    "start_time": "2023-05-01T22:19:55.499Z"
   },
   {
    "duration": 60,
    "start_time": "2023-05-01T22:20:18.300Z"
   },
   {
    "duration": 63,
    "start_time": "2023-05-01T22:20:29.664Z"
   },
   {
    "duration": 64,
    "start_time": "2023-05-01T22:21:43.379Z"
   },
   {
    "duration": 12481,
    "start_time": "2023-05-01T22:22:23.768Z"
   },
   {
    "duration": 61,
    "start_time": "2023-05-01T22:23:19.149Z"
   },
   {
    "duration": 55,
    "start_time": "2023-05-01T22:31:40.317Z"
   },
   {
    "duration": 57,
    "start_time": "2023-05-01T22:36:28.205Z"
   },
   {
    "duration": 47,
    "start_time": "2023-05-01T22:36:44.137Z"
   },
   {
    "duration": 56,
    "start_time": "2023-05-01T22:36:58.177Z"
   },
   {
    "duration": 57,
    "start_time": "2023-05-01T22:37:06.223Z"
   },
   {
    "duration": 66,
    "start_time": "2023-05-01T22:37:20.427Z"
   },
   {
    "duration": 9,
    "start_time": "2023-05-01T22:43:17.011Z"
   },
   {
    "duration": 10,
    "start_time": "2023-05-01T22:43:24.516Z"
   },
   {
    "duration": 13,
    "start_time": "2023-05-01T22:44:07.347Z"
   },
   {
    "duration": 14,
    "start_time": "2023-05-01T22:44:27.346Z"
   },
   {
    "duration": 31,
    "start_time": "2023-05-01T22:45:41.436Z"
   },
   {
    "duration": 496,
    "start_time": "2023-05-01T22:46:18.398Z"
   },
   {
    "duration": 45,
    "start_time": "2023-05-01T22:46:43.883Z"
   },
   {
    "duration": 29,
    "start_time": "2023-05-01T22:46:53.723Z"
   },
   {
    "duration": 28,
    "start_time": "2023-05-01T22:47:13.727Z"
   },
   {
    "duration": 44,
    "start_time": "2023-05-01T22:49:18.357Z"
   },
   {
    "duration": 375,
    "start_time": "2023-05-01T22:51:08.304Z"
   },
   {
    "duration": 812131,
    "start_time": "2023-05-01T22:51:10.960Z"
   },
   {
    "duration": 40,
    "start_time": "2023-05-01T23:05:57.747Z"
   },
   {
    "duration": 35,
    "start_time": "2023-05-01T23:06:19.716Z"
   },
   {
    "duration": 47,
    "start_time": "2023-05-01T23:06:43.070Z"
   },
   {
    "duration": 81,
    "start_time": "2023-05-01T23:07:24.062Z"
   },
   {
    "duration": 6377,
    "start_time": "2023-05-01T23:07:30.587Z"
   },
   {
    "duration": 5,
    "start_time": "2023-05-01T23:07:49.820Z"
   },
   {
    "duration": 112111,
    "start_time": "2023-05-01T23:08:02.287Z"
   },
   {
    "duration": 437,
    "start_time": "2023-05-01T23:10:54.869Z"
   },
   {
    "duration": 228112,
    "start_time": "2023-05-01T23:12:23.394Z"
   },
   {
    "duration": 429,
    "start_time": "2023-05-01T23:17:01.301Z"
   },
   {
    "duration": 451,
    "start_time": "2023-05-01T23:18:03.857Z"
   },
   {
    "duration": 11,
    "start_time": "2023-05-01T23:19:19.070Z"
   },
   {
    "duration": 9,
    "start_time": "2023-05-01T23:21:00.349Z"
   },
   {
    "duration": 9,
    "start_time": "2023-05-01T23:21:39.849Z"
   },
   {
    "duration": 10,
    "start_time": "2023-05-01T23:22:24.781Z"
   },
   {
    "duration": 9,
    "start_time": "2023-05-01T23:22:33.776Z"
   },
   {
    "duration": 10,
    "start_time": "2023-05-01T23:22:57.119Z"
   },
   {
    "duration": 10,
    "start_time": "2023-05-01T23:24:23.107Z"
   },
   {
    "duration": 15,
    "start_time": "2023-05-01T23:25:34.224Z"
   },
   {
    "duration": 30,
    "start_time": "2023-05-01T23:26:25.728Z"
   },
   {
    "duration": 15,
    "start_time": "2023-05-01T23:33:25.244Z"
   },
   {
    "duration": 16,
    "start_time": "2023-05-01T23:33:43.052Z"
   },
   {
    "duration": 56,
    "start_time": "2023-05-01T23:35:01.338Z"
   },
   {
    "duration": 884033,
    "start_time": "2023-05-01T23:35:05.542Z"
   },
   {
    "duration": 61,
    "start_time": "2023-05-01T23:55:40.356Z"
   },
   {
    "duration": 111,
    "start_time": "2023-05-01T23:55:57.357Z"
   },
   {
    "duration": 390,
    "start_time": "2023-05-02T00:00:13.633Z"
   },
   {
    "duration": 439,
    "start_time": "2023-05-02T00:01:01.128Z"
   },
   {
    "duration": 16,
    "start_time": "2023-05-02T00:13:51.170Z"
   },
   {
    "duration": 66,
    "start_time": "2023-05-02T00:14:44.493Z"
   },
   {
    "duration": 26,
    "start_time": "2023-05-02T00:14:55.408Z"
   },
   {
    "duration": 5366,
    "start_time": "2023-05-02T19:15:17.516Z"
   },
   {
    "duration": 3562,
    "start_time": "2023-05-02T19:15:22.885Z"
   },
   {
    "duration": 628,
    "start_time": "2023-05-02T19:15:26.449Z"
   },
   {
    "duration": 579,
    "start_time": "2023-05-02T19:15:27.080Z"
   },
   {
    "duration": 1366073,
    "start_time": "2023-05-02T19:15:27.661Z"
   },
   {
    "duration": 103,
    "start_time": "2023-05-02T19:38:13.737Z"
   },
   {
    "duration": 8887,
    "start_time": "2023-05-02T19:38:13.842Z"
   },
   {
    "duration": 6,
    "start_time": "2023-05-02T19:38:22.732Z"
   },
   {
    "duration": 279962,
    "start_time": "2023-05-02T19:38:22.740Z"
   },
   {
    "duration": 542,
    "start_time": "2023-05-02T19:43:02.707Z"
   },
   {
    "duration": 537,
    "start_time": "2023-05-02T19:44:38.232Z"
   },
   {
    "duration": 245133,
    "start_time": "2023-05-02T19:45:15.313Z"
   },
   {
    "duration": 602,
    "start_time": "2023-05-02T19:50:46.264Z"
   },
   {
    "duration": 23710,
    "start_time": "2023-05-02T19:50:57.762Z"
   },
   {
    "duration": 51250,
    "start_time": "2023-05-02T19:51:23.576Z"
   },
   {
    "duration": 5,
    "start_time": "2023-05-02T19:53:10.110Z"
   },
   {
    "duration": 5,
    "start_time": "2023-05-02T19:53:40.762Z"
   },
   {
    "duration": 5,
    "start_time": "2023-05-02T19:54:00.668Z"
   },
   {
    "duration": 5,
    "start_time": "2023-05-02T19:54:09.848Z"
   },
   {
    "duration": 5,
    "start_time": "2023-05-02T19:55:21.504Z"
   },
   {
    "duration": 4,
    "start_time": "2023-05-02T19:55:33.838Z"
   },
   {
    "duration": 5,
    "start_time": "2023-05-02T19:55:41.063Z"
   },
   {
    "duration": 5,
    "start_time": "2023-05-02T19:55:50.666Z"
   },
   {
    "duration": 48181,
    "start_time": "2023-05-02T20:01:57.951Z"
   },
   {
    "duration": 14,
    "start_time": "2023-05-02T20:04:35.090Z"
   },
   {
    "duration": 33233,
    "start_time": "2023-05-02T20:05:00.046Z"
   },
   {
    "duration": 40759,
    "start_time": "2023-05-02T20:05:44.545Z"
   },
   {
    "duration": 41380,
    "start_time": "2023-05-02T20:06:45.640Z"
   },
   {
    "duration": 41715,
    "start_time": "2023-05-02T20:07:31.624Z"
   },
   {
    "duration": 200188,
    "start_time": "2023-05-02T20:08:32.964Z"
   },
   {
    "duration": 78842,
    "start_time": "2023-05-02T20:33:41.236Z"
   },
   {
    "duration": 122862,
    "start_time": "2023-05-02T20:35:11.947Z"
   },
   {
    "duration": 306446,
    "start_time": "2023-05-02T20:37:19.885Z"
   },
   {
    "duration": 2170542,
    "start_time": "2023-05-02T21:01:52.786Z"
   },
   {
    "duration": 873,
    "start_time": "2023-05-02T21:57:11.863Z"
   },
   {
    "duration": 810,
    "start_time": "2023-05-02T21:57:33.818Z"
   },
   {
    "duration": 767835,
    "start_time": "2023-05-02T21:59:20.455Z"
   },
   {
    "duration": 670,
    "start_time": "2023-05-02T22:13:01.989Z"
   },
   {
    "duration": 951752,
    "start_time": "2023-05-02T22:15:44.914Z"
   },
   {
    "duration": 679,
    "start_time": "2023-05-02T22:33:23.715Z"
   },
   {
    "duration": 2725017,
    "start_time": "2023-05-02T22:37:04.122Z"
   },
   {
    "duration": 832,
    "start_time": "2023-05-02T23:22:49.885Z"
   },
   {
    "duration": 21,
    "start_time": "2023-05-02T23:25:31.743Z"
   },
   {
    "duration": 7,
    "start_time": "2023-05-02T23:25:41.630Z"
   },
   {
    "duration": 5,
    "start_time": "2023-05-02T23:26:33.657Z"
   },
   {
    "duration": 32292,
    "start_time": "2023-05-02T23:26:41.774Z"
   },
   {
    "duration": 658,
    "start_time": "2023-05-02T23:29:00.923Z"
   },
   {
    "duration": 639,
    "start_time": "2023-05-02T23:29:36.045Z"
   },
   {
    "duration": 9430,
    "start_time": "2023-05-03T18:26:24.896Z"
   },
   {
    "duration": 2828,
    "start_time": "2023-05-03T18:26:34.328Z"
   },
   {
    "duration": 655,
    "start_time": "2023-05-03T18:26:37.158Z"
   },
   {
    "duration": 806,
    "start_time": "2023-05-03T18:26:37.817Z"
   },
   {
    "duration": 1177317,
    "start_time": "2023-05-03T18:26:38.626Z"
   },
   {
    "duration": 81,
    "start_time": "2023-05-03T18:46:15.944Z"
   },
   {
    "duration": 7653,
    "start_time": "2023-05-03T18:46:16.027Z"
   },
   {
    "duration": 6,
    "start_time": "2023-05-03T18:46:23.682Z"
   },
   {
    "duration": 282242,
    "start_time": "2023-05-03T18:46:23.690Z"
   },
   {
    "duration": 559,
    "start_time": "2023-05-03T18:51:05.934Z"
   },
   {
    "duration": 653,
    "start_time": "2023-05-03T19:19:56.324Z"
   },
   {
    "duration": 10393,
    "start_time": "2023-05-03T19:22:21.052Z"
   },
   {
    "duration": 869,
    "start_time": "2023-05-03T19:22:41.881Z"
   },
   {
    "duration": 10722,
    "start_time": "2023-05-03T19:23:20.676Z"
   },
   {
    "duration": 5393,
    "start_time": "2023-05-03T19:24:40.203Z"
   },
   {
    "duration": 979,
    "start_time": "2023-05-03T19:25:24.736Z"
   },
   {
    "duration": 832,
    "start_time": "2023-05-03T19:25:50.902Z"
   },
   {
    "duration": 925,
    "start_time": "2023-05-03T19:26:52.455Z"
   },
   {
    "duration": 8718,
    "start_time": "2023-05-03T19:27:21.221Z"
   },
   {
    "duration": 1033,
    "start_time": "2023-05-03T19:27:37.803Z"
   },
   {
    "duration": 10845,
    "start_time": "2023-05-03T19:28:39.937Z"
   },
   {
    "duration": 815,
    "start_time": "2023-05-03T19:29:03.851Z"
   },
   {
    "duration": 806,
    "start_time": "2023-05-03T19:29:44.113Z"
   },
   {
    "duration": 15713,
    "start_time": "2023-05-03T19:29:51.427Z"
   },
   {
    "duration": 829,
    "start_time": "2023-05-03T19:30:18.178Z"
   },
   {
    "duration": 18457,
    "start_time": "2023-05-03T19:30:53.548Z"
   },
   {
    "duration": 848,
    "start_time": "2023-05-03T19:31:15.041Z"
   },
   {
    "duration": 74333,
    "start_time": "2023-05-03T19:38:01.940Z"
   },
   {
    "duration": 907,
    "start_time": "2023-05-03T19:50:16.485Z"
   },
   {
    "duration": 926,
    "start_time": "2023-05-03T19:50:56.646Z"
   },
   {
    "duration": 80732,
    "start_time": "2023-05-03T19:51:55.869Z"
   },
   {
    "duration": 975,
    "start_time": "2023-05-03T19:53:36.747Z"
   },
   {
    "duration": 95441,
    "start_time": "2023-05-03T19:54:47.975Z"
   },
   {
    "duration": 942,
    "start_time": "2023-05-03T19:56:48.060Z"
   },
   {
    "duration": 77727,
    "start_time": "2023-05-03T19:57:17.107Z"
   },
   {
    "duration": 963,
    "start_time": "2023-05-03T19:59:19.227Z"
   },
   {
    "duration": 348811,
    "start_time": "2023-05-03T19:59:36.249Z"
   },
   {
    "duration": 939,
    "start_time": "2023-05-03T20:07:00.344Z"
   },
   {
    "duration": 2227372,
    "start_time": "2023-05-03T20:09:04.488Z"
   },
   {
    "duration": 774,
    "start_time": "2023-05-03T20:47:40.372Z"
   },
   {
    "duration": 598,
    "start_time": "2023-05-03T21:04:52.919Z"
   },
   {
    "duration": 578,
    "start_time": "2023-05-03T21:05:16.836Z"
   },
   {
    "duration": 606,
    "start_time": "2023-05-03T21:05:26.214Z"
   },
   {
    "duration": 77,
    "start_time": "2023-05-03T21:05:55.297Z"
   },
   {
    "duration": 653,
    "start_time": "2023-05-03T21:06:22.813Z"
   },
   {
    "duration": 15,
    "start_time": "2023-05-03T21:06:43.090Z"
   },
   {
    "duration": 3,
    "start_time": "2023-05-03T21:06:53.394Z"
   },
   {
    "duration": 38,
    "start_time": "2023-05-03T21:07:21.261Z"
   },
   {
    "duration": 55,
    "start_time": "2023-05-03T21:07:44.597Z"
   },
   {
    "duration": 73,
    "start_time": "2023-05-03T21:08:06.622Z"
   },
   {
    "duration": 54,
    "start_time": "2023-05-03T21:08:25.276Z"
   },
   {
    "duration": 42,
    "start_time": "2023-05-03T21:08:38.365Z"
   },
   {
    "duration": 36,
    "start_time": "2023-05-03T21:08:48.055Z"
   },
   {
    "duration": 47,
    "start_time": "2023-05-03T21:08:56.138Z"
   },
   {
    "duration": 77,
    "start_time": "2023-05-03T21:11:22.506Z"
   },
   {
    "duration": 41,
    "start_time": "2023-05-03T21:11:50.530Z"
   },
   {
    "duration": 48,
    "start_time": "2023-05-03T21:11:55.622Z"
   },
   {
    "duration": 672,
    "start_time": "2023-05-03T21:12:55.301Z"
   },
   {
    "duration": 39,
    "start_time": "2023-05-03T21:13:14.352Z"
   },
   {
    "duration": 1028,
    "start_time": "2023-05-03T21:14:52.866Z"
   },
   {
    "duration": 909,
    "start_time": "2023-05-03T21:15:02.738Z"
   },
   {
    "duration": 1041,
    "start_time": "2023-05-03T21:15:27.420Z"
   },
   {
    "duration": 1122,
    "start_time": "2023-05-03T21:16:42.438Z"
   },
   {
    "duration": 1305,
    "start_time": "2023-05-03T21:16:57.294Z"
   },
   {
    "duration": 1111,
    "start_time": "2023-05-03T21:17:30.202Z"
   },
   {
    "duration": 1077,
    "start_time": "2023-05-03T21:18:44.462Z"
   },
   {
    "duration": 141,
    "start_time": "2023-05-03T21:41:22.878Z"
   },
   {
    "duration": 45,
    "start_time": "2023-05-03T21:42:16.742Z"
   },
   {
    "duration": 43,
    "start_time": "2023-05-03T21:45:48.138Z"
   },
   {
    "duration": 5,
    "start_time": "2023-05-03T21:45:54.932Z"
   },
   {
    "duration": 7,
    "start_time": "2023-05-03T21:45:59.582Z"
   },
   {
    "duration": 42,
    "start_time": "2023-05-03T21:46:19.098Z"
   },
   {
    "duration": 362,
    "start_time": "2023-05-03T21:46:30.798Z"
   },
   {
    "duration": 57,
    "start_time": "2023-05-03T21:46:49.819Z"
   },
   {
    "duration": 45,
    "start_time": "2023-05-03T21:48:09.179Z"
   },
   {
    "duration": 42,
    "start_time": "2023-05-03T21:48:27.709Z"
   },
   {
    "duration": 6,
    "start_time": "2023-05-03T21:49:26.611Z"
   },
   {
    "duration": 6,
    "start_time": "2023-05-03T21:49:34.062Z"
   },
   {
    "duration": 1105,
    "start_time": "2023-05-03T21:50:22.029Z"
   },
   {
    "duration": 34,
    "start_time": "2023-05-03T21:53:10.770Z"
   },
   {
    "duration": 14783,
    "start_time": "2023-05-03T21:53:23.182Z"
   },
   {
    "duration": 6,
    "start_time": "2023-05-03T21:53:49.818Z"
   },
   {
    "duration": 6,
    "start_time": "2023-05-03T21:59:11.179Z"
   },
   {
    "duration": 8,
    "start_time": "2023-05-03T22:17:00.670Z"
   },
   {
    "duration": 686,
    "start_time": "2023-05-03T22:17:49.719Z"
   },
   {
    "duration": 6,
    "start_time": "2023-05-03T22:19:08.539Z"
   },
   {
    "duration": 80,
    "start_time": "2023-05-03T22:30:00.539Z"
   },
   {
    "duration": 22,
    "start_time": "2023-05-03T22:30:53.177Z"
   },
   {
    "duration": 4,
    "start_time": "2023-05-03T22:31:01.338Z"
   },
   {
    "duration": 57,
    "start_time": "2023-05-03T22:32:06.239Z"
   },
   {
    "duration": 6,
    "start_time": "2023-05-03T22:32:17.078Z"
   },
   {
    "duration": 5,
    "start_time": "2023-05-03T22:32:25.739Z"
   },
   {
    "duration": 6,
    "start_time": "2023-05-03T22:32:49.658Z"
   },
   {
    "duration": 96,
    "start_time": "2023-05-03T23:24:35.859Z"
   },
   {
    "duration": 97,
    "start_time": "2023-05-03T23:25:53.739Z"
   },
   {
    "duration": 97,
    "start_time": "2023-05-03T23:26:01.089Z"
   },
   {
    "duration": 93,
    "start_time": "2023-05-03T23:26:08.358Z"
   },
   {
    "duration": 77,
    "start_time": "2023-05-03T23:27:14.759Z"
   },
   {
    "duration": 84,
    "start_time": "2023-05-03T23:27:24.466Z"
   },
   {
    "duration": 919,
    "start_time": "2023-05-03T23:28:45.775Z"
   },
   {
    "duration": 929,
    "start_time": "2023-05-03T23:29:35.658Z"
   },
   {
    "duration": 634,
    "start_time": "2023-05-03T23:36:18.039Z"
   },
   {
    "duration": 624,
    "start_time": "2023-05-03T23:38:23.659Z"
   },
   {
    "duration": 630,
    "start_time": "2023-05-03T23:39:30.678Z"
   },
   {
    "duration": 627,
    "start_time": "2023-05-03T23:42:33.099Z"
   },
   {
    "duration": 26,
    "start_time": "2023-05-03T23:42:55.896Z"
   },
   {
    "duration": 611,
    "start_time": "2023-05-03T23:43:23.348Z"
   },
   {
    "duration": 609,
    "start_time": "2023-05-03T23:45:20.425Z"
   },
   {
    "duration": 659,
    "start_time": "2023-05-03T23:45:30.467Z"
   },
   {
    "duration": 619,
    "start_time": "2023-05-03T23:46:20.638Z"
   },
   {
    "duration": 582,
    "start_time": "2023-05-03T23:47:13.339Z"
   },
   {
    "duration": 603,
    "start_time": "2023-05-03T23:47:26.456Z"
   },
   {
    "duration": 610,
    "start_time": "2023-05-03T23:47:41.203Z"
   },
   {
    "duration": 648,
    "start_time": "2023-05-03T23:49:15.527Z"
   },
   {
    "duration": 629,
    "start_time": "2023-05-03T23:49:53.316Z"
   },
   {
    "duration": 720,
    "start_time": "2023-05-03T23:50:05.818Z"
   },
   {
    "duration": 656,
    "start_time": "2023-05-03T23:50:21.898Z"
   },
   {
    "duration": 601,
    "start_time": "2023-05-03T23:50:59.497Z"
   },
   {
    "duration": 649,
    "start_time": "2023-05-03T23:53:57.338Z"
   },
   {
    "duration": 605,
    "start_time": "2023-05-03T23:54:28.643Z"
   },
   {
    "duration": 648,
    "start_time": "2023-05-03T23:54:54.157Z"
   },
   {
    "duration": 56,
    "start_time": "2023-05-03T23:55:10.598Z"
   },
   {
    "duration": 628,
    "start_time": "2023-05-03T23:55:22.498Z"
   },
   {
    "duration": 58,
    "start_time": "2023-05-03T23:55:34.866Z"
   },
   {
    "duration": 79,
    "start_time": "2023-05-03T23:55:52.687Z"
   },
   {
    "duration": 104,
    "start_time": "2023-05-03T23:57:00.363Z"
   },
   {
    "duration": 67,
    "start_time": "2023-05-03T23:57:05.650Z"
   },
   {
    "duration": 62,
    "start_time": "2023-05-03T23:57:17.398Z"
   },
   {
    "duration": 1305,
    "start_time": "2023-05-03T23:58:07.959Z"
   },
   {
    "duration": 598,
    "start_time": "2023-05-03T23:58:49.120Z"
   },
   {
    "duration": 599,
    "start_time": "2023-05-03T23:59:02.698Z"
   },
   {
    "duration": 84,
    "start_time": "2023-05-03T23:59:25.720Z"
   },
   {
    "duration": 83,
    "start_time": "2023-05-03T23:59:36.648Z"
   },
   {
    "duration": 54,
    "start_time": "2023-05-03T23:59:57.789Z"
   },
   {
    "duration": 28,
    "start_time": "2023-05-04T00:00:08.621Z"
   },
   {
    "duration": 31,
    "start_time": "2023-05-04T00:02:48.698Z"
   },
   {
    "duration": 77,
    "start_time": "2023-05-04T00:02:55.008Z"
   },
   {
    "duration": 107,
    "start_time": "2023-05-04T00:11:32.928Z"
   },
   {
    "duration": 546,
    "start_time": "2023-05-04T00:14:02.519Z"
   },
   {
    "duration": 870,
    "start_time": "2023-05-04T00:14:30.926Z"
   },
   {
    "duration": 580,
    "start_time": "2023-05-04T00:15:14.779Z"
   },
   {
    "duration": 631,
    "start_time": "2023-05-04T00:15:28.929Z"
   },
   {
    "duration": 915,
    "start_time": "2023-05-04T00:18:47.828Z"
   },
   {
    "duration": 895,
    "start_time": "2023-05-04T00:20:09.706Z"
   },
   {
    "duration": 18,
    "start_time": "2023-05-04T00:21:54.858Z"
   },
   {
    "duration": 21,
    "start_time": "2023-05-04T00:22:52.708Z"
   },
   {
    "duration": 16,
    "start_time": "2023-05-04T00:23:54.500Z"
   },
   {
    "duration": 296,
    "start_time": "2023-05-04T00:23:59.828Z"
   },
   {
    "duration": 328,
    "start_time": "2023-05-04T00:25:55.469Z"
   },
   {
    "duration": 325,
    "start_time": "2023-05-04T00:27:47.820Z"
   },
   {
    "duration": 367,
    "start_time": "2023-05-04T00:28:01.756Z"
   },
   {
    "duration": 298,
    "start_time": "2023-05-04T00:29:04.688Z"
   },
   {
    "duration": 1565,
    "start_time": "2023-05-04T00:36:33.141Z"
   },
   {
    "duration": 303,
    "start_time": "2023-05-04T00:37:02.464Z"
   },
   {
    "duration": 332,
    "start_time": "2023-05-04T00:37:30.405Z"
   },
   {
    "duration": 312,
    "start_time": "2023-05-04T00:38:23.379Z"
   },
   {
    "duration": 305,
    "start_time": "2023-05-04T00:39:34.058Z"
   },
   {
    "duration": 4,
    "start_time": "2023-05-04T00:40:00.459Z"
   },
   {
    "duration": 11,
    "start_time": "2023-05-04T00:45:32.608Z"
   },
   {
    "duration": 2176,
    "start_time": "2023-05-04T00:45:36.769Z"
   },
   {
    "duration": 45,
    "start_time": "2023-05-04T00:47:22.838Z"
   },
   {
    "duration": 29,
    "start_time": "2023-05-04T00:47:39.839Z"
   },
   {
    "duration": 32,
    "start_time": "2023-05-04T00:48:11.456Z"
   },
   {
    "duration": 2230,
    "start_time": "2023-05-04T00:50:51.746Z"
   },
   {
    "duration": 5840,
    "start_time": "2023-05-04T19:55:55.478Z"
   },
   {
    "duration": 7,
    "start_time": "2023-05-04T19:56:10.172Z"
   },
   {
    "duration": 15,
    "start_time": "2023-05-04T19:56:19.043Z"
   },
   {
    "duration": 3791,
    "start_time": "2023-05-04T19:56:23.611Z"
   },
   {
    "duration": 853,
    "start_time": "2023-05-04T19:56:30.795Z"
   },
   {
    "duration": 741,
    "start_time": "2023-05-04T19:56:46.024Z"
   },
   {
    "duration": 1390610,
    "start_time": "2023-05-04T19:57:24.699Z"
   },
   {
    "duration": 414,
    "start_time": "2023-05-04T20:21:00.535Z"
   },
   {
    "duration": 66,
    "start_time": "2023-05-04T20:29:11.732Z"
   },
   {
    "duration": 8,
    "start_time": "2023-05-04T20:30:00.472Z"
   },
   {
    "duration": 5007,
    "start_time": "2023-05-04T20:30:06.293Z"
   },
   {
    "duration": 3001,
    "start_time": "2023-05-04T20:30:14.090Z"
   },
   {
    "duration": 672,
    "start_time": "2023-05-04T20:30:19.503Z"
   },
   {
    "duration": 613,
    "start_time": "2023-05-04T20:30:32.216Z"
   },
   {
    "duration": 388,
    "start_time": "2023-05-04T20:31:53.026Z"
   },
   {
    "duration": 486,
    "start_time": "2023-05-04T20:42:57.127Z"
   },
   {
    "duration": 1227303,
    "start_time": "2023-05-04T20:43:37.487Z"
   },
   {
    "duration": 109,
    "start_time": "2023-05-04T21:12:24.772Z"
   },
   {
    "duration": 287,
    "start_time": "2023-05-04T21:13:12.846Z"
   },
   {
    "duration": 804,
    "start_time": "2023-05-04T21:13:46.516Z"
   },
   {
    "duration": 807,
    "start_time": "2023-05-04T21:14:09.934Z"
   },
   {
    "duration": 1049,
    "start_time": "2023-05-04T21:14:20.746Z"
   },
   {
    "duration": 785,
    "start_time": "2023-05-04T21:15:31.396Z"
   },
   {
    "duration": 812,
    "start_time": "2023-05-04T21:16:43.250Z"
   },
   {
    "duration": 827,
    "start_time": "2023-05-04T21:16:56.909Z"
   },
   {
    "duration": 1185,
    "start_time": "2023-05-04T21:17:12.056Z"
   },
   {
    "duration": 784,
    "start_time": "2023-05-04T21:17:20.600Z"
   },
   {
    "duration": 820,
    "start_time": "2023-05-04T21:17:41.848Z"
   },
   {
    "duration": 337,
    "start_time": "2023-05-04T21:21:35.531Z"
   },
   {
    "duration": 101,
    "start_time": "2023-05-04T21:21:56.674Z"
   },
   {
    "duration": 312,
    "start_time": "2023-05-04T21:22:03.543Z"
   },
   {
    "duration": 347,
    "start_time": "2023-05-04T21:22:26.580Z"
   },
   {
    "duration": 309,
    "start_time": "2023-05-04T21:22:50.472Z"
   },
   {
    "duration": 346,
    "start_time": "2023-05-04T21:24:16.602Z"
   },
   {
    "duration": 13,
    "start_time": "2023-05-04T21:27:07.232Z"
   },
   {
    "duration": 6405,
    "start_time": "2023-05-04T21:27:18.254Z"
   },
   {
    "duration": 5,
    "start_time": "2023-05-04T21:28:20.573Z"
   },
   {
    "duration": 276306,
    "start_time": "2023-05-04T21:28:32.876Z"
   },
   {
    "duration": 456,
    "start_time": "2023-05-04T21:34:01.915Z"
   },
   {
    "duration": 328827,
    "start_time": "2023-05-04T21:34:30.832Z"
   },
   {
    "duration": 875,
    "start_time": "2023-05-04T21:41:52.551Z"
   },
   {
    "duration": 6,
    "start_time": "2023-05-04T22:10:45.494Z"
   },
   {
    "duration": 1453,
    "start_time": "2023-05-04T22:12:51.766Z"
   },
   {
    "duration": 1822,
    "start_time": "2023-05-04T22:13:12.667Z"
   },
   {
    "duration": 87,
    "start_time": "2023-05-04T22:15:18.989Z"
   },
   {
    "duration": 2423,
    "start_time": "2023-05-04T22:15:25.020Z"
   },
   {
    "duration": 1419,
    "start_time": "2023-05-04T22:15:47.336Z"
   },
   {
    "duration": 5,
    "start_time": "2023-05-04T22:16:36.943Z"
   },
   {
    "duration": 2591,
    "start_time": "2023-05-04T22:17:41.874Z"
   },
   {
    "duration": 4,
    "start_time": "2023-05-04T22:18:33.818Z"
   },
   {
    "duration": 1441,
    "start_time": "2023-05-04T22:21:46.396Z"
   },
   {
    "duration": 5,
    "start_time": "2023-05-04T22:49:23.486Z"
   },
   {
    "duration": 10614,
    "start_time": "2023-05-04T23:02:37.895Z"
   },
   {
    "duration": 149037,
    "start_time": "2023-05-04T23:04:28.483Z"
   },
   {
    "duration": 77130,
    "start_time": "2023-05-04T23:07:58.231Z"
   },
   {
    "duration": 266291,
    "start_time": "2023-05-04T23:13:08.241Z"
   },
   {
    "duration": 765,
    "start_time": "2023-05-04T23:24:32.246Z"
   },
   {
    "duration": 789,
    "start_time": "2023-05-04T23:26:04.873Z"
   },
   {
    "duration": 16278,
    "start_time": "2023-05-04T23:26:59.837Z"
   },
   {
    "duration": 1069839,
    "start_time": "2023-05-04T23:27:26.487Z"
   },
   {
    "duration": 814,
    "start_time": "2023-05-04T23:51:01.643Z"
   },
   {
    "duration": 3588,
    "start_time": "2023-05-04T23:54:05.636Z"
   },
   {
    "duration": 126891,
    "start_time": "2023-05-04T23:55:24.410Z"
   },
   {
    "duration": 1099,
    "start_time": "2023-05-04T23:58:47.636Z"
   },
   {
    "duration": 3540,
    "start_time": "2023-05-05T00:01:34.777Z"
   },
   {
    "duration": 2307,
    "start_time": "2023-05-05T00:02:41.443Z"
   },
   {
    "duration": 2249,
    "start_time": "2023-05-05T00:02:51.143Z"
   },
   {
    "duration": 3129,
    "start_time": "2023-05-05T00:03:01.418Z"
   },
   {
    "duration": 3608,
    "start_time": "2023-05-05T00:03:19.983Z"
   },
   {
    "duration": 2832,
    "start_time": "2023-05-05T00:03:58.633Z"
   },
   {
    "duration": 74,
    "start_time": "2023-05-05T00:06:36.618Z"
   },
   {
    "duration": 3190,
    "start_time": "2023-05-05T00:09:21.598Z"
   },
   {
    "duration": 161987,
    "start_time": "2023-05-05T00:10:04.654Z"
   },
   {
    "duration": 815,
    "start_time": "2023-05-05T00:14:36.500Z"
   },
   {
    "duration": 5193,
    "start_time": "2023-05-05T00:15:51.001Z"
   },
   {
    "duration": 9017,
    "start_time": "2023-05-05T00:16:20.091Z"
   },
   {
    "duration": 27748,
    "start_time": "2023-05-05T00:16:38.611Z"
   },
   {
    "duration": 4085,
    "start_time": "2023-05-05T00:17:15.504Z"
   },
   {
    "duration": 5121,
    "start_time": "2023-05-05T00:22:19.417Z"
   },
   {
    "duration": 23,
    "start_time": "2023-05-05T00:23:11.380Z"
   },
   {
    "duration": 5902,
    "start_time": "2023-05-05T00:24:09.881Z"
   },
   {
    "duration": 23,
    "start_time": "2023-05-05T00:51:51.377Z"
   },
   {
    "duration": 478,
    "start_time": "2023-05-05T00:52:25.541Z"
   },
   {
    "duration": 5020,
    "start_time": "2023-05-05T19:16:00.661Z"
   },
   {
    "duration": 4003,
    "start_time": "2023-05-05T19:16:09.139Z"
   },
   {
    "duration": 689,
    "start_time": "2023-05-05T19:16:15.287Z"
   },
   {
    "duration": 587,
    "start_time": "2023-05-05T19:16:24.070Z"
   },
   {
    "duration": 1291095,
    "start_time": "2023-05-05T19:16:51.497Z"
   },
   {
    "duration": 112,
    "start_time": "2023-05-05T19:46:29.398Z"
   },
   {
    "duration": 876,
    "start_time": "2023-05-05T19:46:37.603Z"
   },
   {
    "duration": 319,
    "start_time": "2023-05-05T19:46:42.936Z"
   },
   {
    "duration": 12,
    "start_time": "2023-05-05T19:46:49.200Z"
   },
   {
    "duration": 7049,
    "start_time": "2023-05-05T19:47:09.229Z"
   },
   {
    "duration": 431,
    "start_time": "2023-05-05T19:47:22.003Z"
   },
   {
    "duration": 5,
    "start_time": "2023-05-05T19:47:50.503Z"
   },
   {
    "duration": 1998,
    "start_time": "2023-05-05T19:47:54.932Z"
   },
   {
    "duration": 245988,
    "start_time": "2023-05-05T19:48:14.920Z"
   },
   {
    "duration": 614,
    "start_time": "2023-05-05T19:56:23.662Z"
   },
   {
    "duration": 327488,
    "start_time": "2023-05-05T19:56:28.845Z"
   },
   {
    "duration": 961,
    "start_time": "2023-05-05T20:02:07.360Z"
   },
   {
    "duration": 172269,
    "start_time": "2023-05-05T20:02:15.516Z"
   },
   {
    "duration": 802,
    "start_time": "2023-05-05T20:05:52.486Z"
   },
   {
    "duration": 187310,
    "start_time": "2023-05-05T20:06:36.403Z"
   },
   {
    "duration": 75095,
    "start_time": "2023-05-05T20:09:48.269Z"
   },
   {
    "duration": 273549,
    "start_time": "2023-05-05T20:11:09.499Z"
   },
   {
    "duration": 422507,
    "start_time": "2023-05-05T20:15:49.157Z"
   },
   {
    "duration": 474620,
    "start_time": "2023-05-05T20:22:56.317Z"
   },
   {
    "duration": 12,
    "start_time": "2023-05-05T20:45:16.018Z"
   },
   {
    "duration": 17,
    "start_time": "2023-05-05T20:45:30.090Z"
   },
   {
    "duration": 9,
    "start_time": "2023-05-05T20:47:26.578Z"
   },
   {
    "duration": 14,
    "start_time": "2023-05-05T20:48:45.010Z"
   },
   {
    "duration": 15,
    "start_time": "2023-05-05T20:48:53.891Z"
   },
   {
    "duration": 17,
    "start_time": "2023-05-05T20:49:05.249Z"
   },
   {
    "duration": 10,
    "start_time": "2023-05-05T20:49:20.311Z"
   },
   {
    "duration": 11,
    "start_time": "2023-05-05T20:49:24.393Z"
   },
   {
    "duration": 22,
    "start_time": "2023-05-05T20:49:28.449Z"
   },
   {
    "duration": 11,
    "start_time": "2023-05-05T20:49:32.912Z"
   },
   {
    "duration": 10,
    "start_time": "2023-05-05T20:53:38.103Z"
   },
   {
    "duration": 12,
    "start_time": "2023-05-05T20:54:09.517Z"
   },
   {
    "duration": 22,
    "start_time": "2023-05-05T20:57:05.447Z"
   },
   {
    "duration": 2890,
    "start_time": "2023-05-05T20:58:15.488Z"
   },
   {
    "duration": 14,
    "start_time": "2023-05-05T21:08:54.686Z"
   },
   {
    "duration": 79,
    "start_time": "2023-05-05T21:33:49.408Z"
   },
   {
    "duration": 15,
    "start_time": "2023-05-05T21:34:32.985Z"
   },
   {
    "duration": 13,
    "start_time": "2023-05-05T21:35:33.393Z"
   },
   {
    "duration": 12,
    "start_time": "2023-05-05T21:48:55.928Z"
   },
   {
    "duration": 4,
    "start_time": "2023-05-05T22:18:54.558Z"
   },
   {
    "duration": 4,
    "start_time": "2023-05-05T22:19:11.591Z"
   },
   {
    "duration": 18,
    "start_time": "2023-05-05T22:21:04.095Z"
   },
   {
    "duration": 12,
    "start_time": "2023-05-05T22:21:59.073Z"
   },
   {
    "duration": 11,
    "start_time": "2023-05-05T22:22:26.899Z"
   },
   {
    "duration": 5,
    "start_time": "2023-05-05T22:33:38.895Z"
   },
   {
    "duration": 5,
    "start_time": "2023-05-05T22:34:37.271Z"
   },
   {
    "duration": 18,
    "start_time": "2023-05-05T22:35:44.032Z"
   },
   {
    "duration": 4,
    "start_time": "2023-05-05T22:36:44.755Z"
   },
   {
    "duration": 4,
    "start_time": "2023-05-05T22:37:45.982Z"
   },
   {
    "duration": 3,
    "start_time": "2023-05-05T22:39:04.617Z"
   },
   {
    "duration": 3,
    "start_time": "2023-05-05T22:39:31.017Z"
   },
   {
    "duration": 18,
    "start_time": "2023-05-05T22:39:51.060Z"
   },
   {
    "duration": 4,
    "start_time": "2023-05-05T22:40:03.606Z"
   },
   {
    "duration": 17,
    "start_time": "2023-05-05T22:40:46.545Z"
   },
   {
    "duration": 8,
    "start_time": "2023-05-05T22:41:23.744Z"
   },
   {
    "duration": 20,
    "start_time": "2023-05-05T22:44:18.544Z"
   },
   {
    "duration": 12,
    "start_time": "2023-05-05T22:52:27.838Z"
   },
   {
    "duration": 12,
    "start_time": "2023-05-05T22:52:44.853Z"
   },
   {
    "duration": 11,
    "start_time": "2023-05-05T22:52:52.237Z"
   },
   {
    "duration": 66,
    "start_time": "2023-05-05T23:21:11.995Z"
   },
   {
    "duration": 19,
    "start_time": "2023-05-05T23:22:25.948Z"
   },
   {
    "duration": 41,
    "start_time": "2023-05-05T23:23:15.507Z"
   },
   {
    "duration": 12339,
    "start_time": "2023-05-05T23:23:26.816Z"
   },
   {
    "duration": 4,
    "start_time": "2023-05-05T23:28:29.047Z"
   },
   {
    "duration": 14,
    "start_time": "2023-05-06T01:40:26.790Z"
   },
   {
    "duration": 6385,
    "start_time": "2023-05-06T02:21:13.987Z"
   },
   {
    "duration": 3011,
    "start_time": "2023-05-06T02:21:20.374Z"
   },
   {
    "duration": 546,
    "start_time": "2023-05-06T02:21:23.387Z"
   },
   {
    "duration": 628,
    "start_time": "2023-05-06T02:21:23.935Z"
   },
   {
    "duration": 1039834,
    "start_time": "2023-05-06T02:21:24.565Z"
   },
   {
    "duration": 95,
    "start_time": "2023-05-06T02:38:44.400Z"
   },
   {
    "duration": 687,
    "start_time": "2023-05-06T02:38:44.497Z"
   },
   {
    "duration": 277,
    "start_time": "2023-05-06T02:38:45.185Z"
   },
   {
    "duration": 12,
    "start_time": "2023-05-06T02:38:45.463Z"
   },
   {
    "duration": 5562,
    "start_time": "2023-05-06T02:38:45.477Z"
   },
   {
    "duration": 4,
    "start_time": "2023-05-06T02:38:51.041Z"
   },
   {
    "duration": 1831,
    "start_time": "2023-05-06T02:38:51.047Z"
   },
   {
    "duration": 250244,
    "start_time": "2023-05-06T02:38:52.880Z"
   },
   {
    "duration": 435,
    "start_time": "2023-05-06T02:43:03.126Z"
   },
   {
    "duration": 269161,
    "start_time": "2023-05-06T02:43:03.562Z"
   },
   {
    "duration": 819,
    "start_time": "2023-05-06T02:47:32.725Z"
   },
   {
    "duration": 141053,
    "start_time": "2023-05-06T02:47:33.545Z"
   },
   {
    "duration": 706,
    "start_time": "2023-05-06T02:49:54.599Z"
   },
   {
    "duration": 7154696,
    "start_time": "2023-05-06T02:49:55.306Z"
   },
   {
    "duration": 710,
    "start_time": "2023-05-06T04:49:10.005Z"
   },
   {
    "duration": 11,
    "start_time": "2023-05-06T04:49:10.717Z"
   },
   {
    "duration": 27,
    "start_time": "2023-05-06T04:49:10.729Z"
   },
   {
    "duration": 4843,
    "start_time": "2023-05-10T07:07:41.662Z"
   },
   {
    "duration": 5,
    "start_time": "2023-05-10T07:07:50.634Z"
   },
   {
    "duration": 3218,
    "start_time": "2023-05-10T07:07:59.071Z"
   },
   {
    "duration": 527,
    "start_time": "2023-05-10T07:08:04.101Z"
   },
   {
    "duration": 719,
    "start_time": "2023-05-10T07:08:13.944Z"
   },
   {
    "duration": 282,
    "start_time": "2023-05-10T07:08:44.851Z"
   },
   {
    "duration": 1072511,
    "start_time": "2023-05-10T07:09:09.191Z"
   }
  ],
  "kernelspec": {
   "display_name": "Python 3 (ipykernel)",
   "language": "python",
   "name": "python3"
  },
  "language_info": {
   "codemirror_mode": {
    "name": "ipython",
    "version": 3
   },
   "file_extension": ".py",
   "mimetype": "text/x-python",
   "name": "python",
   "nbconvert_exporter": "python",
   "pygments_lexer": "ipython3",
   "version": "3.9.5"
  },
  "toc": {
   "base_numbering": 1,
   "nav_menu": {},
   "number_sections": true,
   "sideBar": true,
   "skip_h1_title": true,
   "title_cell": "Содержание",
   "title_sidebar": "Contents",
   "toc_cell": true,
   "toc_position": {
    "height": "calc(100% - 180px)",
    "left": "10px",
    "top": "150px",
    "width": "302.391px"
   },
   "toc_section_display": true,
   "toc_window_display": false
  }
 },
 "nbformat": 4,
 "nbformat_minor": 2
}
